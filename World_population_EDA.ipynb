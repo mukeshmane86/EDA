{
 "cells": [
  {
   "cell_type": "markdown",
   "id": "27321e26",
   "metadata": {},
   "source": [
    "### Importing Libraries : "
   ]
  },
  {
   "cell_type": "code",
   "execution_count": 65,
   "id": "b065733e",
   "metadata": {},
   "outputs": [],
   "source": [
    "import pandas as pd \n",
    "import numpy as np \n",
    "import matplotlib.pyplot as plt \n",
    "import seaborn as sns \n",
    "from plotly.offline import iplot \n",
    "import plotly as py \n",
    "import plotly.tools as tls \n",
    "import cufflinks as cf \n",
    "%matplotlib inline \n",
    "import plotly.express as px"
   ]
  },
  {
   "cell_type": "markdown",
   "id": "c023b28b",
   "metadata": {},
   "source": [
    "### Data Analysis : "
   ]
  },
  {
   "cell_type": "code",
   "execution_count": 3,
   "id": "28baaafb",
   "metadata": {},
   "outputs": [],
   "source": [
    "df = pd.read_csv(\"world_population.csv\")"
   ]
  },
  {
   "cell_type": "code",
   "execution_count": 4,
   "id": "1ac7e659",
   "metadata": {},
   "outputs": [
    {
     "data": {
      "text/html": [
       "<div>\n",
       "<style scoped>\n",
       "    .dataframe tbody tr th:only-of-type {\n",
       "        vertical-align: middle;\n",
       "    }\n",
       "\n",
       "    .dataframe tbody tr th {\n",
       "        vertical-align: top;\n",
       "    }\n",
       "\n",
       "    .dataframe thead th {\n",
       "        text-align: right;\n",
       "    }\n",
       "</style>\n",
       "<table border=\"1\" class=\"dataframe\">\n",
       "  <thead>\n",
       "    <tr style=\"text-align: right;\">\n",
       "      <th></th>\n",
       "      <th>Rank</th>\n",
       "      <th>CCA3</th>\n",
       "      <th>Country</th>\n",
       "      <th>Capital</th>\n",
       "      <th>Continent</th>\n",
       "      <th>2022 Population</th>\n",
       "      <th>2020 Population</th>\n",
       "      <th>2015 Population</th>\n",
       "      <th>2010 Population</th>\n",
       "      <th>2000 Population</th>\n",
       "      <th>1990 Population</th>\n",
       "      <th>1980 Population</th>\n",
       "      <th>1970 Population</th>\n",
       "      <th>Area (km²)</th>\n",
       "      <th>Density (per km²)</th>\n",
       "      <th>Growth Rate</th>\n",
       "      <th>World Population Percentage</th>\n",
       "    </tr>\n",
       "  </thead>\n",
       "  <tbody>\n",
       "    <tr>\n",
       "      <th>0</th>\n",
       "      <td>36</td>\n",
       "      <td>AFG</td>\n",
       "      <td>Afghanistan</td>\n",
       "      <td>Kabul</td>\n",
       "      <td>Asia</td>\n",
       "      <td>41128771</td>\n",
       "      <td>38972230</td>\n",
       "      <td>33753499</td>\n",
       "      <td>28189672</td>\n",
       "      <td>19542982</td>\n",
       "      <td>10694796</td>\n",
       "      <td>12486631</td>\n",
       "      <td>10752971</td>\n",
       "      <td>652230</td>\n",
       "      <td>63.0587</td>\n",
       "      <td>1.0257</td>\n",
       "      <td>0.52</td>\n",
       "    </tr>\n",
       "    <tr>\n",
       "      <th>1</th>\n",
       "      <td>138</td>\n",
       "      <td>ALB</td>\n",
       "      <td>Albania</td>\n",
       "      <td>Tirana</td>\n",
       "      <td>Europe</td>\n",
       "      <td>2842321</td>\n",
       "      <td>2866849</td>\n",
       "      <td>2882481</td>\n",
       "      <td>2913399</td>\n",
       "      <td>3182021</td>\n",
       "      <td>3295066</td>\n",
       "      <td>2941651</td>\n",
       "      <td>2324731</td>\n",
       "      <td>28748</td>\n",
       "      <td>98.8702</td>\n",
       "      <td>0.9957</td>\n",
       "      <td>0.04</td>\n",
       "    </tr>\n",
       "    <tr>\n",
       "      <th>2</th>\n",
       "      <td>34</td>\n",
       "      <td>DZA</td>\n",
       "      <td>Algeria</td>\n",
       "      <td>Algiers</td>\n",
       "      <td>Africa</td>\n",
       "      <td>44903225</td>\n",
       "      <td>43451666</td>\n",
       "      <td>39543154</td>\n",
       "      <td>35856344</td>\n",
       "      <td>30774621</td>\n",
       "      <td>25518074</td>\n",
       "      <td>18739378</td>\n",
       "      <td>13795915</td>\n",
       "      <td>2381741</td>\n",
       "      <td>18.8531</td>\n",
       "      <td>1.0164</td>\n",
       "      <td>0.56</td>\n",
       "    </tr>\n",
       "    <tr>\n",
       "      <th>3</th>\n",
       "      <td>213</td>\n",
       "      <td>ASM</td>\n",
       "      <td>American Samoa</td>\n",
       "      <td>Pago Pago</td>\n",
       "      <td>Oceania</td>\n",
       "      <td>44273</td>\n",
       "      <td>46189</td>\n",
       "      <td>51368</td>\n",
       "      <td>54849</td>\n",
       "      <td>58230</td>\n",
       "      <td>47818</td>\n",
       "      <td>32886</td>\n",
       "      <td>27075</td>\n",
       "      <td>199</td>\n",
       "      <td>222.4774</td>\n",
       "      <td>0.9831</td>\n",
       "      <td>0.00</td>\n",
       "    </tr>\n",
       "    <tr>\n",
       "      <th>4</th>\n",
       "      <td>203</td>\n",
       "      <td>AND</td>\n",
       "      <td>Andorra</td>\n",
       "      <td>Andorra la Vella</td>\n",
       "      <td>Europe</td>\n",
       "      <td>79824</td>\n",
       "      <td>77700</td>\n",
       "      <td>71746</td>\n",
       "      <td>71519</td>\n",
       "      <td>66097</td>\n",
       "      <td>53569</td>\n",
       "      <td>35611</td>\n",
       "      <td>19860</td>\n",
       "      <td>468</td>\n",
       "      <td>170.5641</td>\n",
       "      <td>1.0100</td>\n",
       "      <td>0.00</td>\n",
       "    </tr>\n",
       "  </tbody>\n",
       "</table>\n",
       "</div>"
      ],
      "text/plain": [
       "   Rank CCA3         Country           Capital Continent  2022 Population  \\\n",
       "0    36  AFG     Afghanistan             Kabul      Asia         41128771   \n",
       "1   138  ALB         Albania            Tirana    Europe          2842321   \n",
       "2    34  DZA         Algeria           Algiers    Africa         44903225   \n",
       "3   213  ASM  American Samoa         Pago Pago   Oceania            44273   \n",
       "4   203  AND         Andorra  Andorra la Vella    Europe            79824   \n",
       "\n",
       "   2020 Population  2015 Population  2010 Population  2000 Population  \\\n",
       "0         38972230         33753499         28189672         19542982   \n",
       "1          2866849          2882481          2913399          3182021   \n",
       "2         43451666         39543154         35856344         30774621   \n",
       "3            46189            51368            54849            58230   \n",
       "4            77700            71746            71519            66097   \n",
       "\n",
       "   1990 Population  1980 Population  1970 Population  Area (km²)  \\\n",
       "0         10694796         12486631         10752971      652230   \n",
       "1          3295066          2941651          2324731       28748   \n",
       "2         25518074         18739378         13795915     2381741   \n",
       "3            47818            32886            27075         199   \n",
       "4            53569            35611            19860         468   \n",
       "\n",
       "   Density (per km²)  Growth Rate  World Population Percentage  \n",
       "0            63.0587       1.0257                         0.52  \n",
       "1            98.8702       0.9957                         0.04  \n",
       "2            18.8531       1.0164                         0.56  \n",
       "3           222.4774       0.9831                         0.00  \n",
       "4           170.5641       1.0100                         0.00  "
      ]
     },
     "execution_count": 4,
     "metadata": {},
     "output_type": "execute_result"
    }
   ],
   "source": [
    "df.head()"
   ]
  },
  {
   "cell_type": "code",
   "execution_count": 14,
   "id": "e19ef98f",
   "metadata": {},
   "outputs": [
    {
     "data": {
      "text/plain": [
       "(234, 17)"
      ]
     },
     "execution_count": 14,
     "metadata": {},
     "output_type": "execute_result"
    }
   ],
   "source": [
    "## Shape of data : \n",
    "df.shape"
   ]
  },
  {
   "cell_type": "code",
   "execution_count": 15,
   "id": "1f33f025",
   "metadata": {},
   "outputs": [
    {
     "data": {
      "text/plain": [
       "Rank                             int64\n",
       "CCA3                            object\n",
       "Country                         object\n",
       "Capital                         object\n",
       "Continent                       object\n",
       "2022 Population                  int64\n",
       "2020 Population                  int64\n",
       "2015 Population                  int64\n",
       "2010 Population                  int64\n",
       "2000 Population                  int64\n",
       "1990 Population                  int64\n",
       "1980 Population                  int64\n",
       "1970 Population                  int64\n",
       "Area (km²)                       int64\n",
       "Density (per km²)              float64\n",
       "Growth Rate                    float64\n",
       "World Population Percentage    float64\n",
       "dtype: object"
      ]
     },
     "execution_count": 15,
     "metadata": {},
     "output_type": "execute_result"
    }
   ],
   "source": [
    "## Data Types : \n",
    "df.dtypes"
   ]
  },
  {
   "cell_type": "markdown",
   "id": "af7a428e",
   "metadata": {},
   "source": [
    "##### Null Value Counts : \n"
   ]
  },
  {
   "cell_type": "code",
   "execution_count": 25,
   "id": "24300664",
   "metadata": {},
   "outputs": [
    {
     "data": {
      "text/plain": [
       "Rank                           0\n",
       "CCA3                           0\n",
       "Country                        0\n",
       "Capital                        0\n",
       "Continent                      0\n",
       "2022 Population                0\n",
       "2020 Population                0\n",
       "2015 Population                0\n",
       "2010 Population                0\n",
       "2000 Population                0\n",
       "1990 Population                0\n",
       "1980 Population                0\n",
       "1970 Population                0\n",
       "Area (km²)                     0\n",
       "Density (per km²)              0\n",
       "Growth Rate                    0\n",
       "World Population Percentage    0\n",
       "dtype: int64"
      ]
     },
     "execution_count": 25,
     "metadata": {},
     "output_type": "execute_result"
    }
   ],
   "source": [
    "df.isnull().sum() "
   ]
  },
  {
   "cell_type": "markdown",
   "id": "d3a21035",
   "metadata": {},
   "source": [
    "#### Numerical Features : "
   ]
  },
  {
   "cell_type": "code",
   "execution_count": 27,
   "id": "7969db5d",
   "metadata": {},
   "outputs": [],
   "source": [
    "numerical_features = [feature for feature in df.columns if df[feature].dtype!= 'object']"
   ]
  },
  {
   "cell_type": "code",
   "execution_count": 36,
   "id": "52d6091f",
   "metadata": {},
   "outputs": [
    {
     "data": {
      "text/plain": [
       "['Rank',\n",
       " '2022 Population',\n",
       " '2020 Population',\n",
       " '2015 Population',\n",
       " '2010 Population',\n",
       " '2000 Population',\n",
       " '1990 Population',\n",
       " '1980 Population',\n",
       " '1970 Population',\n",
       " 'Area (km²)',\n",
       " 'Density (per km²)',\n",
       " 'Growth Rate',\n",
       " 'World Population Percentage']"
      ]
     },
     "execution_count": 36,
     "metadata": {},
     "output_type": "execute_result"
    }
   ],
   "source": [
    "numerical_features"
   ]
  },
  {
   "cell_type": "code",
   "execution_count": 34,
   "id": "d299e049",
   "metadata": {},
   "outputs": [
    {
     "data": {
      "text/plain": [
       "[]"
      ]
     },
     "execution_count": 34,
     "metadata": {},
     "output_type": "execute_result"
    }
   ],
   "source": [
    "## Finding Discreate Features from numerical features  : \n",
    "discreate_feature_num = [feature for feature in numerical_features if len(df[feature].unique()) <=25]\n",
    "discreate_feature_num"
   ]
  },
  {
   "cell_type": "markdown",
   "id": "b80c9759",
   "metadata": {},
   "source": [
    "there are 13 numerical feature. No feature is discreate , all are continues features "
   ]
  },
  {
   "cell_type": "markdown",
   "id": "2d9d1294",
   "metadata": {},
   "source": [
    "#### Categorical Features : "
   ]
  },
  {
   "cell_type": "code",
   "execution_count": 47,
   "id": "3eea77ad",
   "metadata": {},
   "outputs": [
    {
     "data": {
      "text/plain": [
       "['CCA3', 'Country', 'Capital', 'Continent']"
      ]
     },
     "execution_count": 47,
     "metadata": {},
     "output_type": "execute_result"
    }
   ],
   "source": [
    "categorical_features = [feature for feature in df.columns if df[feature].dtypes=='O']\n",
    "categorical_features"
   ]
  },
  {
   "cell_type": "code",
   "execution_count": 62,
   "id": "ced5ba64",
   "metadata": {},
   "outputs": [
    {
     "data": {
      "text/html": [
       "<div>\n",
       "<style scoped>\n",
       "    .dataframe tbody tr th:only-of-type {\n",
       "        vertical-align: middle;\n",
       "    }\n",
       "\n",
       "    .dataframe tbody tr th {\n",
       "        vertical-align: top;\n",
       "    }\n",
       "\n",
       "    .dataframe thead th {\n",
       "        text-align: right;\n",
       "    }\n",
       "</style>\n",
       "<table border=\"1\" class=\"dataframe\">\n",
       "  <thead>\n",
       "    <tr style=\"text-align: right;\">\n",
       "      <th></th>\n",
       "      <th>CCA3</th>\n",
       "      <th>Country</th>\n",
       "      <th>Capital</th>\n",
       "    </tr>\n",
       "  </thead>\n",
       "  <tbody>\n",
       "    <tr>\n",
       "      <th>0</th>\n",
       "      <td>AFG</td>\n",
       "      <td>Afghanistan</td>\n",
       "      <td>Kabul</td>\n",
       "    </tr>\n",
       "    <tr>\n",
       "      <th>1</th>\n",
       "      <td>ALB</td>\n",
       "      <td>Albania</td>\n",
       "      <td>Tirana</td>\n",
       "    </tr>\n",
       "    <tr>\n",
       "      <th>2</th>\n",
       "      <td>DZA</td>\n",
       "      <td>Algeria</td>\n",
       "      <td>Algiers</td>\n",
       "    </tr>\n",
       "    <tr>\n",
       "      <th>3</th>\n",
       "      <td>ASM</td>\n",
       "      <td>American Samoa</td>\n",
       "      <td>Pago Pago</td>\n",
       "    </tr>\n",
       "    <tr>\n",
       "      <th>4</th>\n",
       "      <td>AND</td>\n",
       "      <td>Andorra</td>\n",
       "      <td>Andorra la Vella</td>\n",
       "    </tr>\n",
       "    <tr>\n",
       "      <th>...</th>\n",
       "      <td>...</td>\n",
       "      <td>...</td>\n",
       "      <td>...</td>\n",
       "    </tr>\n",
       "    <tr>\n",
       "      <th>229</th>\n",
       "      <td>WLF</td>\n",
       "      <td>Wallis and Futuna</td>\n",
       "      <td>Mata-Utu</td>\n",
       "    </tr>\n",
       "    <tr>\n",
       "      <th>230</th>\n",
       "      <td>ESH</td>\n",
       "      <td>Western Sahara</td>\n",
       "      <td>El Aaiún</td>\n",
       "    </tr>\n",
       "    <tr>\n",
       "      <th>231</th>\n",
       "      <td>YEM</td>\n",
       "      <td>Yemen</td>\n",
       "      <td>Sanaa</td>\n",
       "    </tr>\n",
       "    <tr>\n",
       "      <th>232</th>\n",
       "      <td>ZMB</td>\n",
       "      <td>Zambia</td>\n",
       "      <td>Lusaka</td>\n",
       "    </tr>\n",
       "    <tr>\n",
       "      <th>233</th>\n",
       "      <td>ZWE</td>\n",
       "      <td>Zimbabwe</td>\n",
       "      <td>Harare</td>\n",
       "    </tr>\n",
       "  </tbody>\n",
       "</table>\n",
       "<p>234 rows × 3 columns</p>\n",
       "</div>"
      ],
      "text/plain": [
       "    CCA3            Country           Capital\n",
       "0    AFG        Afghanistan             Kabul\n",
       "1    ALB            Albania            Tirana\n",
       "2    DZA            Algeria           Algiers\n",
       "3    ASM     American Samoa         Pago Pago\n",
       "4    AND            Andorra  Andorra la Vella\n",
       "..   ...                ...               ...\n",
       "229  WLF  Wallis and Futuna          Mata-Utu\n",
       "230  ESH     Western Sahara          El Aaiún\n",
       "231  YEM              Yemen             Sanaa\n",
       "232  ZMB             Zambia            Lusaka\n",
       "233  ZWE           Zimbabwe            Harare\n",
       "\n",
       "[234 rows x 3 columns]"
      ]
     },
     "execution_count": 62,
     "metadata": {},
     "output_type": "execute_result"
    }
   ],
   "source": [
    "d =dict()\n",
    "for feature in categorical_features: \n",
    "    if feature == 'Continent': \n",
    "        pass \n",
    "    else : \n",
    "        d.update({feature : list(df[feature].unique())})\n",
    "    \n",
    "pd.DataFrame(d)\n",
    "#pd.DataFrame(df['Continent'].unique())"
   ]
  },
  {
   "cell_type": "markdown",
   "id": "99865696",
   "metadata": {},
   "source": [
    "#### World Population percentage : "
   ]
  },
  {
   "cell_type": "code",
   "execution_count": 82,
   "id": "547821d7",
   "metadata": {},
   "outputs": [
    {
     "data": {
      "application/vnd.plotly.v1+json": {
       "config": {
        "plotlyServerURL": "https://plot.ly"
       },
       "data": [
        {
         "alignmentgroup": "True",
         "hovertemplate": "Country=%{x}<br>World Population Percentage=%{marker.color}<extra></extra>",
         "legendgroup": "",
         "marker": {
          "color": [
           17.88,
           17.77,
           4.24,
           3.45,
           2.96,
           2.74,
           2.7,
           2.15,
           1.81,
           1.6,
           1.55,
           1.55,
           1.45,
           1.39,
           1.24,
           1.23,
           1.11,
           1.07,
           1.05,
           0.9
          ],
          "coloraxis": "coloraxis",
          "pattern": {
           "shape": ""
          }
         },
         "name": "",
         "offsetgroup": "",
         "orientation": "v",
         "showlegend": false,
         "textposition": "auto",
         "type": "bar",
         "x": [
          "China",
          "India",
          "United States",
          "Indonesia",
          "Pakistan",
          "Nigeria",
          "Brazil",
          "Bangladesh",
          "Russia",
          "Mexico",
          "Ethiopia",
          "Japan",
          "Philippines",
          "Egypt",
          "DR Congo",
          "Vietnam",
          "Iran",
          "Turkey",
          "Germany",
          "Thailand"
         ],
         "xaxis": "x",
         "y": [
          17.88,
          17.77,
          4.24,
          3.45,
          2.96,
          2.74,
          2.7,
          2.15,
          1.81,
          1.6,
          1.55,
          1.55,
          1.45,
          1.39,
          1.24,
          1.23,
          1.11,
          1.07,
          1.05,
          0.9
         ],
         "yaxis": "y"
        }
       ],
       "layout": {
        "barmode": "relative",
        "coloraxis": {
         "colorbar": {
          "title": {
           "text": "World Population Percentage"
          }
         },
         "colorscale": [
          [
           0,
           "#e2d9e2"
          ],
          [
           0.1111111111111111,
           "#9ebbc9"
          ],
          [
           0.2222222222222222,
           "#6785be"
          ],
          [
           0.3333333333333333,
           "#5e43a5"
          ],
          [
           0.4444444444444444,
           "#421257"
          ],
          [
           0.5555555555555556,
           "#471340"
          ],
          [
           0.6666666666666666,
           "#8e2c50"
          ],
          [
           0.7777777777777778,
           "#ba6657"
          ],
          [
           0.8888888888888888,
           "#ceac94"
          ],
          [
           1,
           "#e2d9e2"
          ]
         ]
        },
        "legend": {
         "tracegroupgap": 0
        },
        "margin": {
         "t": 60
        },
        "template": {
         "data": {
          "bar": [
           {
            "error_x": {
             "color": "#2a3f5f"
            },
            "error_y": {
             "color": "#2a3f5f"
            },
            "marker": {
             "line": {
              "color": "#E5ECF6",
              "width": 0.5
             },
             "pattern": {
              "fillmode": "overlay",
              "size": 10,
              "solidity": 0.2
             }
            },
            "type": "bar"
           }
          ],
          "barpolar": [
           {
            "marker": {
             "line": {
              "color": "#E5ECF6",
              "width": 0.5
             },
             "pattern": {
              "fillmode": "overlay",
              "size": 10,
              "solidity": 0.2
             }
            },
            "type": "barpolar"
           }
          ],
          "carpet": [
           {
            "aaxis": {
             "endlinecolor": "#2a3f5f",
             "gridcolor": "white",
             "linecolor": "white",
             "minorgridcolor": "white",
             "startlinecolor": "#2a3f5f"
            },
            "baxis": {
             "endlinecolor": "#2a3f5f",
             "gridcolor": "white",
             "linecolor": "white",
             "minorgridcolor": "white",
             "startlinecolor": "#2a3f5f"
            },
            "type": "carpet"
           }
          ],
          "choropleth": [
           {
            "colorbar": {
             "outlinewidth": 0,
             "ticks": ""
            },
            "type": "choropleth"
           }
          ],
          "contour": [
           {
            "colorbar": {
             "outlinewidth": 0,
             "ticks": ""
            },
            "colorscale": [
             [
              0,
              "#0d0887"
             ],
             [
              0.1111111111111111,
              "#46039f"
             ],
             [
              0.2222222222222222,
              "#7201a8"
             ],
             [
              0.3333333333333333,
              "#9c179e"
             ],
             [
              0.4444444444444444,
              "#bd3786"
             ],
             [
              0.5555555555555556,
              "#d8576b"
             ],
             [
              0.6666666666666666,
              "#ed7953"
             ],
             [
              0.7777777777777778,
              "#fb9f3a"
             ],
             [
              0.8888888888888888,
              "#fdca26"
             ],
             [
              1,
              "#f0f921"
             ]
            ],
            "type": "contour"
           }
          ],
          "contourcarpet": [
           {
            "colorbar": {
             "outlinewidth": 0,
             "ticks": ""
            },
            "type": "contourcarpet"
           }
          ],
          "heatmap": [
           {
            "colorbar": {
             "outlinewidth": 0,
             "ticks": ""
            },
            "colorscale": [
             [
              0,
              "#0d0887"
             ],
             [
              0.1111111111111111,
              "#46039f"
             ],
             [
              0.2222222222222222,
              "#7201a8"
             ],
             [
              0.3333333333333333,
              "#9c179e"
             ],
             [
              0.4444444444444444,
              "#bd3786"
             ],
             [
              0.5555555555555556,
              "#d8576b"
             ],
             [
              0.6666666666666666,
              "#ed7953"
             ],
             [
              0.7777777777777778,
              "#fb9f3a"
             ],
             [
              0.8888888888888888,
              "#fdca26"
             ],
             [
              1,
              "#f0f921"
             ]
            ],
            "type": "heatmap"
           }
          ],
          "heatmapgl": [
           {
            "colorbar": {
             "outlinewidth": 0,
             "ticks": ""
            },
            "colorscale": [
             [
              0,
              "#0d0887"
             ],
             [
              0.1111111111111111,
              "#46039f"
             ],
             [
              0.2222222222222222,
              "#7201a8"
             ],
             [
              0.3333333333333333,
              "#9c179e"
             ],
             [
              0.4444444444444444,
              "#bd3786"
             ],
             [
              0.5555555555555556,
              "#d8576b"
             ],
             [
              0.6666666666666666,
              "#ed7953"
             ],
             [
              0.7777777777777778,
              "#fb9f3a"
             ],
             [
              0.8888888888888888,
              "#fdca26"
             ],
             [
              1,
              "#f0f921"
             ]
            ],
            "type": "heatmapgl"
           }
          ],
          "histogram": [
           {
            "marker": {
             "pattern": {
              "fillmode": "overlay",
              "size": 10,
              "solidity": 0.2
             }
            },
            "type": "histogram"
           }
          ],
          "histogram2d": [
           {
            "colorbar": {
             "outlinewidth": 0,
             "ticks": ""
            },
            "colorscale": [
             [
              0,
              "#0d0887"
             ],
             [
              0.1111111111111111,
              "#46039f"
             ],
             [
              0.2222222222222222,
              "#7201a8"
             ],
             [
              0.3333333333333333,
              "#9c179e"
             ],
             [
              0.4444444444444444,
              "#bd3786"
             ],
             [
              0.5555555555555556,
              "#d8576b"
             ],
             [
              0.6666666666666666,
              "#ed7953"
             ],
             [
              0.7777777777777778,
              "#fb9f3a"
             ],
             [
              0.8888888888888888,
              "#fdca26"
             ],
             [
              1,
              "#f0f921"
             ]
            ],
            "type": "histogram2d"
           }
          ],
          "histogram2dcontour": [
           {
            "colorbar": {
             "outlinewidth": 0,
             "ticks": ""
            },
            "colorscale": [
             [
              0,
              "#0d0887"
             ],
             [
              0.1111111111111111,
              "#46039f"
             ],
             [
              0.2222222222222222,
              "#7201a8"
             ],
             [
              0.3333333333333333,
              "#9c179e"
             ],
             [
              0.4444444444444444,
              "#bd3786"
             ],
             [
              0.5555555555555556,
              "#d8576b"
             ],
             [
              0.6666666666666666,
              "#ed7953"
             ],
             [
              0.7777777777777778,
              "#fb9f3a"
             ],
             [
              0.8888888888888888,
              "#fdca26"
             ],
             [
              1,
              "#f0f921"
             ]
            ],
            "type": "histogram2dcontour"
           }
          ],
          "mesh3d": [
           {
            "colorbar": {
             "outlinewidth": 0,
             "ticks": ""
            },
            "type": "mesh3d"
           }
          ],
          "parcoords": [
           {
            "line": {
             "colorbar": {
              "outlinewidth": 0,
              "ticks": ""
             }
            },
            "type": "parcoords"
           }
          ],
          "pie": [
           {
            "automargin": true,
            "type": "pie"
           }
          ],
          "scatter": [
           {
            "marker": {
             "colorbar": {
              "outlinewidth": 0,
              "ticks": ""
             }
            },
            "type": "scatter"
           }
          ],
          "scatter3d": [
           {
            "line": {
             "colorbar": {
              "outlinewidth": 0,
              "ticks": ""
             }
            },
            "marker": {
             "colorbar": {
              "outlinewidth": 0,
              "ticks": ""
             }
            },
            "type": "scatter3d"
           }
          ],
          "scattercarpet": [
           {
            "marker": {
             "colorbar": {
              "outlinewidth": 0,
              "ticks": ""
             }
            },
            "type": "scattercarpet"
           }
          ],
          "scattergeo": [
           {
            "marker": {
             "colorbar": {
              "outlinewidth": 0,
              "ticks": ""
             }
            },
            "type": "scattergeo"
           }
          ],
          "scattergl": [
           {
            "marker": {
             "colorbar": {
              "outlinewidth": 0,
              "ticks": ""
             }
            },
            "type": "scattergl"
           }
          ],
          "scattermapbox": [
           {
            "marker": {
             "colorbar": {
              "outlinewidth": 0,
              "ticks": ""
             }
            },
            "type": "scattermapbox"
           }
          ],
          "scatterpolar": [
           {
            "marker": {
             "colorbar": {
              "outlinewidth": 0,
              "ticks": ""
             }
            },
            "type": "scatterpolar"
           }
          ],
          "scatterpolargl": [
           {
            "marker": {
             "colorbar": {
              "outlinewidth": 0,
              "ticks": ""
             }
            },
            "type": "scatterpolargl"
           }
          ],
          "scatterternary": [
           {
            "marker": {
             "colorbar": {
              "outlinewidth": 0,
              "ticks": ""
             }
            },
            "type": "scatterternary"
           }
          ],
          "surface": [
           {
            "colorbar": {
             "outlinewidth": 0,
             "ticks": ""
            },
            "colorscale": [
             [
              0,
              "#0d0887"
             ],
             [
              0.1111111111111111,
              "#46039f"
             ],
             [
              0.2222222222222222,
              "#7201a8"
             ],
             [
              0.3333333333333333,
              "#9c179e"
             ],
             [
              0.4444444444444444,
              "#bd3786"
             ],
             [
              0.5555555555555556,
              "#d8576b"
             ],
             [
              0.6666666666666666,
              "#ed7953"
             ],
             [
              0.7777777777777778,
              "#fb9f3a"
             ],
             [
              0.8888888888888888,
              "#fdca26"
             ],
             [
              1,
              "#f0f921"
             ]
            ],
            "type": "surface"
           }
          ],
          "table": [
           {
            "cells": {
             "fill": {
              "color": "#EBF0F8"
             },
             "line": {
              "color": "white"
             }
            },
            "header": {
             "fill": {
              "color": "#C8D4E3"
             },
             "line": {
              "color": "white"
             }
            },
            "type": "table"
           }
          ]
         },
         "layout": {
          "annotationdefaults": {
           "arrowcolor": "#2a3f5f",
           "arrowhead": 0,
           "arrowwidth": 1
          },
          "autotypenumbers": "strict",
          "coloraxis": {
           "colorbar": {
            "outlinewidth": 0,
            "ticks": ""
           }
          },
          "colorscale": {
           "diverging": [
            [
             0,
             "#8e0152"
            ],
            [
             0.1,
             "#c51b7d"
            ],
            [
             0.2,
             "#de77ae"
            ],
            [
             0.3,
             "#f1b6da"
            ],
            [
             0.4,
             "#fde0ef"
            ],
            [
             0.5,
             "#f7f7f7"
            ],
            [
             0.6,
             "#e6f5d0"
            ],
            [
             0.7,
             "#b8e186"
            ],
            [
             0.8,
             "#7fbc41"
            ],
            [
             0.9,
             "#4d9221"
            ],
            [
             1,
             "#276419"
            ]
           ],
           "sequential": [
            [
             0,
             "#0d0887"
            ],
            [
             0.1111111111111111,
             "#46039f"
            ],
            [
             0.2222222222222222,
             "#7201a8"
            ],
            [
             0.3333333333333333,
             "#9c179e"
            ],
            [
             0.4444444444444444,
             "#bd3786"
            ],
            [
             0.5555555555555556,
             "#d8576b"
            ],
            [
             0.6666666666666666,
             "#ed7953"
            ],
            [
             0.7777777777777778,
             "#fb9f3a"
            ],
            [
             0.8888888888888888,
             "#fdca26"
            ],
            [
             1,
             "#f0f921"
            ]
           ],
           "sequentialminus": [
            [
             0,
             "#0d0887"
            ],
            [
             0.1111111111111111,
             "#46039f"
            ],
            [
             0.2222222222222222,
             "#7201a8"
            ],
            [
             0.3333333333333333,
             "#9c179e"
            ],
            [
             0.4444444444444444,
             "#bd3786"
            ],
            [
             0.5555555555555556,
             "#d8576b"
            ],
            [
             0.6666666666666666,
             "#ed7953"
            ],
            [
             0.7777777777777778,
             "#fb9f3a"
            ],
            [
             0.8888888888888888,
             "#fdca26"
            ],
            [
             1,
             "#f0f921"
            ]
           ]
          },
          "colorway": [
           "#636efa",
           "#EF553B",
           "#00cc96",
           "#ab63fa",
           "#FFA15A",
           "#19d3f3",
           "#FF6692",
           "#B6E880",
           "#FF97FF",
           "#FECB52"
          ],
          "font": {
           "color": "#2a3f5f"
          },
          "geo": {
           "bgcolor": "white",
           "lakecolor": "white",
           "landcolor": "#E5ECF6",
           "showlakes": true,
           "showland": true,
           "subunitcolor": "white"
          },
          "hoverlabel": {
           "align": "left"
          },
          "hovermode": "closest",
          "mapbox": {
           "style": "light"
          },
          "paper_bgcolor": "white",
          "plot_bgcolor": "#E5ECF6",
          "polar": {
           "angularaxis": {
            "gridcolor": "white",
            "linecolor": "white",
            "ticks": ""
           },
           "bgcolor": "#E5ECF6",
           "radialaxis": {
            "gridcolor": "white",
            "linecolor": "white",
            "ticks": ""
           }
          },
          "scene": {
           "xaxis": {
            "backgroundcolor": "#E5ECF6",
            "gridcolor": "white",
            "gridwidth": 2,
            "linecolor": "white",
            "showbackground": true,
            "ticks": "",
            "zerolinecolor": "white"
           },
           "yaxis": {
            "backgroundcolor": "#E5ECF6",
            "gridcolor": "white",
            "gridwidth": 2,
            "linecolor": "white",
            "showbackground": true,
            "ticks": "",
            "zerolinecolor": "white"
           },
           "zaxis": {
            "backgroundcolor": "#E5ECF6",
            "gridcolor": "white",
            "gridwidth": 2,
            "linecolor": "white",
            "showbackground": true,
            "ticks": "",
            "zerolinecolor": "white"
           }
          },
          "shapedefaults": {
           "line": {
            "color": "#2a3f5f"
           }
          },
          "ternary": {
           "aaxis": {
            "gridcolor": "white",
            "linecolor": "white",
            "ticks": ""
           },
           "baxis": {
            "gridcolor": "white",
            "linecolor": "white",
            "ticks": ""
           },
           "bgcolor": "#E5ECF6",
           "caxis": {
            "gridcolor": "white",
            "linecolor": "white",
            "ticks": ""
           }
          },
          "title": {
           "x": 0.05
          },
          "xaxis": {
           "automargin": true,
           "gridcolor": "white",
           "linecolor": "white",
           "ticks": "",
           "title": {
            "standoff": 15
           },
           "zerolinecolor": "white",
           "zerolinewidth": 2
          },
          "yaxis": {
           "automargin": true,
           "gridcolor": "white",
           "linecolor": "white",
           "ticks": "",
           "title": {
            "standoff": 15
           },
           "zerolinecolor": "white",
           "zerolinewidth": 2
          }
         }
        },
        "title": {
         "font": {
          "color": "DarkSlateBlue",
          "size": 16
         },
         "text": "World Population Percentage",
         "x": 0.5
        },
        "xaxis": {
         "anchor": "y",
         "domain": [
          0,
          1
         ],
         "tickangle": 45,
         "title": {
          "text": "Continent"
         }
        },
        "yaxis": {
         "anchor": "x",
         "domain": [
          0,
          1
         ],
         "title": {
          "text": "World Population Percentage"
         }
        }
       }
      },
      "text/html": [
       "<div>                            <div id=\"130db628-9bcc-480f-aab1-b9f51e776598\" class=\"plotly-graph-div\" style=\"height:525px; width:100%;\"></div>            <script type=\"text/javascript\">                require([\"plotly\"], function(Plotly) {                    window.PLOTLYENV=window.PLOTLYENV || {};                                    if (document.getElementById(\"130db628-9bcc-480f-aab1-b9f51e776598\")) {                    Plotly.newPlot(                        \"130db628-9bcc-480f-aab1-b9f51e776598\",                        [{\"alignmentgroup\":\"True\",\"hovertemplate\":\"Country=%{x}<br>World Population Percentage=%{marker.color}<extra></extra>\",\"legendgroup\":\"\",\"marker\":{\"color\":[17.88,17.77,4.24,3.45,2.96,2.74,2.7,2.15,1.81,1.6,1.55,1.55,1.45,1.39,1.24,1.23,1.11,1.07,1.05,0.9],\"coloraxis\":\"coloraxis\",\"pattern\":{\"shape\":\"\"}},\"name\":\"\",\"offsetgroup\":\"\",\"orientation\":\"v\",\"showlegend\":false,\"textposition\":\"auto\",\"x\":[\"China\",\"India\",\"United States\",\"Indonesia\",\"Pakistan\",\"Nigeria\",\"Brazil\",\"Bangladesh\",\"Russia\",\"Mexico\",\"Ethiopia\",\"Japan\",\"Philippines\",\"Egypt\",\"DR Congo\",\"Vietnam\",\"Iran\",\"Turkey\",\"Germany\",\"Thailand\"],\"xaxis\":\"x\",\"y\":[17.88,17.77,4.24,3.45,2.96,2.74,2.7,2.15,1.81,1.6,1.55,1.55,1.45,1.39,1.24,1.23,1.11,1.07,1.05,0.9],\"yaxis\":\"y\",\"type\":\"bar\"}],                        {\"template\":{\"data\":{\"bar\":[{\"error_x\":{\"color\":\"#2a3f5f\"},\"error_y\":{\"color\":\"#2a3f5f\"},\"marker\":{\"line\":{\"color\":\"#E5ECF6\",\"width\":0.5},\"pattern\":{\"fillmode\":\"overlay\",\"size\":10,\"solidity\":0.2}},\"type\":\"bar\"}],\"barpolar\":[{\"marker\":{\"line\":{\"color\":\"#E5ECF6\",\"width\":0.5},\"pattern\":{\"fillmode\":\"overlay\",\"size\":10,\"solidity\":0.2}},\"type\":\"barpolar\"}],\"carpet\":[{\"aaxis\":{\"endlinecolor\":\"#2a3f5f\",\"gridcolor\":\"white\",\"linecolor\":\"white\",\"minorgridcolor\":\"white\",\"startlinecolor\":\"#2a3f5f\"},\"baxis\":{\"endlinecolor\":\"#2a3f5f\",\"gridcolor\":\"white\",\"linecolor\":\"white\",\"minorgridcolor\":\"white\",\"startlinecolor\":\"#2a3f5f\"},\"type\":\"carpet\"}],\"choropleth\":[{\"colorbar\":{\"outlinewidth\":0,\"ticks\":\"\"},\"type\":\"choropleth\"}],\"contour\":[{\"colorbar\":{\"outlinewidth\":0,\"ticks\":\"\"},\"colorscale\":[[0.0,\"#0d0887\"],[0.1111111111111111,\"#46039f\"],[0.2222222222222222,\"#7201a8\"],[0.3333333333333333,\"#9c179e\"],[0.4444444444444444,\"#bd3786\"],[0.5555555555555556,\"#d8576b\"],[0.6666666666666666,\"#ed7953\"],[0.7777777777777778,\"#fb9f3a\"],[0.8888888888888888,\"#fdca26\"],[1.0,\"#f0f921\"]],\"type\":\"contour\"}],\"contourcarpet\":[{\"colorbar\":{\"outlinewidth\":0,\"ticks\":\"\"},\"type\":\"contourcarpet\"}],\"heatmap\":[{\"colorbar\":{\"outlinewidth\":0,\"ticks\":\"\"},\"colorscale\":[[0.0,\"#0d0887\"],[0.1111111111111111,\"#46039f\"],[0.2222222222222222,\"#7201a8\"],[0.3333333333333333,\"#9c179e\"],[0.4444444444444444,\"#bd3786\"],[0.5555555555555556,\"#d8576b\"],[0.6666666666666666,\"#ed7953\"],[0.7777777777777778,\"#fb9f3a\"],[0.8888888888888888,\"#fdca26\"],[1.0,\"#f0f921\"]],\"type\":\"heatmap\"}],\"heatmapgl\":[{\"colorbar\":{\"outlinewidth\":0,\"ticks\":\"\"},\"colorscale\":[[0.0,\"#0d0887\"],[0.1111111111111111,\"#46039f\"],[0.2222222222222222,\"#7201a8\"],[0.3333333333333333,\"#9c179e\"],[0.4444444444444444,\"#bd3786\"],[0.5555555555555556,\"#d8576b\"],[0.6666666666666666,\"#ed7953\"],[0.7777777777777778,\"#fb9f3a\"],[0.8888888888888888,\"#fdca26\"],[1.0,\"#f0f921\"]],\"type\":\"heatmapgl\"}],\"histogram\":[{\"marker\":{\"pattern\":{\"fillmode\":\"overlay\",\"size\":10,\"solidity\":0.2}},\"type\":\"histogram\"}],\"histogram2d\":[{\"colorbar\":{\"outlinewidth\":0,\"ticks\":\"\"},\"colorscale\":[[0.0,\"#0d0887\"],[0.1111111111111111,\"#46039f\"],[0.2222222222222222,\"#7201a8\"],[0.3333333333333333,\"#9c179e\"],[0.4444444444444444,\"#bd3786\"],[0.5555555555555556,\"#d8576b\"],[0.6666666666666666,\"#ed7953\"],[0.7777777777777778,\"#fb9f3a\"],[0.8888888888888888,\"#fdca26\"],[1.0,\"#f0f921\"]],\"type\":\"histogram2d\"}],\"histogram2dcontour\":[{\"colorbar\":{\"outlinewidth\":0,\"ticks\":\"\"},\"colorscale\":[[0.0,\"#0d0887\"],[0.1111111111111111,\"#46039f\"],[0.2222222222222222,\"#7201a8\"],[0.3333333333333333,\"#9c179e\"],[0.4444444444444444,\"#bd3786\"],[0.5555555555555556,\"#d8576b\"],[0.6666666666666666,\"#ed7953\"],[0.7777777777777778,\"#fb9f3a\"],[0.8888888888888888,\"#fdca26\"],[1.0,\"#f0f921\"]],\"type\":\"histogram2dcontour\"}],\"mesh3d\":[{\"colorbar\":{\"outlinewidth\":0,\"ticks\":\"\"},\"type\":\"mesh3d\"}],\"parcoords\":[{\"line\":{\"colorbar\":{\"outlinewidth\":0,\"ticks\":\"\"}},\"type\":\"parcoords\"}],\"pie\":[{\"automargin\":true,\"type\":\"pie\"}],\"scatter\":[{\"marker\":{\"colorbar\":{\"outlinewidth\":0,\"ticks\":\"\"}},\"type\":\"scatter\"}],\"scatter3d\":[{\"line\":{\"colorbar\":{\"outlinewidth\":0,\"ticks\":\"\"}},\"marker\":{\"colorbar\":{\"outlinewidth\":0,\"ticks\":\"\"}},\"type\":\"scatter3d\"}],\"scattercarpet\":[{\"marker\":{\"colorbar\":{\"outlinewidth\":0,\"ticks\":\"\"}},\"type\":\"scattercarpet\"}],\"scattergeo\":[{\"marker\":{\"colorbar\":{\"outlinewidth\":0,\"ticks\":\"\"}},\"type\":\"scattergeo\"}],\"scattergl\":[{\"marker\":{\"colorbar\":{\"outlinewidth\":0,\"ticks\":\"\"}},\"type\":\"scattergl\"}],\"scattermapbox\":[{\"marker\":{\"colorbar\":{\"outlinewidth\":0,\"ticks\":\"\"}},\"type\":\"scattermapbox\"}],\"scatterpolar\":[{\"marker\":{\"colorbar\":{\"outlinewidth\":0,\"ticks\":\"\"}},\"type\":\"scatterpolar\"}],\"scatterpolargl\":[{\"marker\":{\"colorbar\":{\"outlinewidth\":0,\"ticks\":\"\"}},\"type\":\"scatterpolargl\"}],\"scatterternary\":[{\"marker\":{\"colorbar\":{\"outlinewidth\":0,\"ticks\":\"\"}},\"type\":\"scatterternary\"}],\"surface\":[{\"colorbar\":{\"outlinewidth\":0,\"ticks\":\"\"},\"colorscale\":[[0.0,\"#0d0887\"],[0.1111111111111111,\"#46039f\"],[0.2222222222222222,\"#7201a8\"],[0.3333333333333333,\"#9c179e\"],[0.4444444444444444,\"#bd3786\"],[0.5555555555555556,\"#d8576b\"],[0.6666666666666666,\"#ed7953\"],[0.7777777777777778,\"#fb9f3a\"],[0.8888888888888888,\"#fdca26\"],[1.0,\"#f0f921\"]],\"type\":\"surface\"}],\"table\":[{\"cells\":{\"fill\":{\"color\":\"#EBF0F8\"},\"line\":{\"color\":\"white\"}},\"header\":{\"fill\":{\"color\":\"#C8D4E3\"},\"line\":{\"color\":\"white\"}},\"type\":\"table\"}]},\"layout\":{\"annotationdefaults\":{\"arrowcolor\":\"#2a3f5f\",\"arrowhead\":0,\"arrowwidth\":1},\"autotypenumbers\":\"strict\",\"coloraxis\":{\"colorbar\":{\"outlinewidth\":0,\"ticks\":\"\"}},\"colorscale\":{\"diverging\":[[0,\"#8e0152\"],[0.1,\"#c51b7d\"],[0.2,\"#de77ae\"],[0.3,\"#f1b6da\"],[0.4,\"#fde0ef\"],[0.5,\"#f7f7f7\"],[0.6,\"#e6f5d0\"],[0.7,\"#b8e186\"],[0.8,\"#7fbc41\"],[0.9,\"#4d9221\"],[1,\"#276419\"]],\"sequential\":[[0.0,\"#0d0887\"],[0.1111111111111111,\"#46039f\"],[0.2222222222222222,\"#7201a8\"],[0.3333333333333333,\"#9c179e\"],[0.4444444444444444,\"#bd3786\"],[0.5555555555555556,\"#d8576b\"],[0.6666666666666666,\"#ed7953\"],[0.7777777777777778,\"#fb9f3a\"],[0.8888888888888888,\"#fdca26\"],[1.0,\"#f0f921\"]],\"sequentialminus\":[[0.0,\"#0d0887\"],[0.1111111111111111,\"#46039f\"],[0.2222222222222222,\"#7201a8\"],[0.3333333333333333,\"#9c179e\"],[0.4444444444444444,\"#bd3786\"],[0.5555555555555556,\"#d8576b\"],[0.6666666666666666,\"#ed7953\"],[0.7777777777777778,\"#fb9f3a\"],[0.8888888888888888,\"#fdca26\"],[1.0,\"#f0f921\"]]},\"colorway\":[\"#636efa\",\"#EF553B\",\"#00cc96\",\"#ab63fa\",\"#FFA15A\",\"#19d3f3\",\"#FF6692\",\"#B6E880\",\"#FF97FF\",\"#FECB52\"],\"font\":{\"color\":\"#2a3f5f\"},\"geo\":{\"bgcolor\":\"white\",\"lakecolor\":\"white\",\"landcolor\":\"#E5ECF6\",\"showlakes\":true,\"showland\":true,\"subunitcolor\":\"white\"},\"hoverlabel\":{\"align\":\"left\"},\"hovermode\":\"closest\",\"mapbox\":{\"style\":\"light\"},\"paper_bgcolor\":\"white\",\"plot_bgcolor\":\"#E5ECF6\",\"polar\":{\"angularaxis\":{\"gridcolor\":\"white\",\"linecolor\":\"white\",\"ticks\":\"\"},\"bgcolor\":\"#E5ECF6\",\"radialaxis\":{\"gridcolor\":\"white\",\"linecolor\":\"white\",\"ticks\":\"\"}},\"scene\":{\"xaxis\":{\"backgroundcolor\":\"#E5ECF6\",\"gridcolor\":\"white\",\"gridwidth\":2,\"linecolor\":\"white\",\"showbackground\":true,\"ticks\":\"\",\"zerolinecolor\":\"white\"},\"yaxis\":{\"backgroundcolor\":\"#E5ECF6\",\"gridcolor\":\"white\",\"gridwidth\":2,\"linecolor\":\"white\",\"showbackground\":true,\"ticks\":\"\",\"zerolinecolor\":\"white\"},\"zaxis\":{\"backgroundcolor\":\"#E5ECF6\",\"gridcolor\":\"white\",\"gridwidth\":2,\"linecolor\":\"white\",\"showbackground\":true,\"ticks\":\"\",\"zerolinecolor\":\"white\"}},\"shapedefaults\":{\"line\":{\"color\":\"#2a3f5f\"}},\"ternary\":{\"aaxis\":{\"gridcolor\":\"white\",\"linecolor\":\"white\",\"ticks\":\"\"},\"baxis\":{\"gridcolor\":\"white\",\"linecolor\":\"white\",\"ticks\":\"\"},\"bgcolor\":\"#E5ECF6\",\"caxis\":{\"gridcolor\":\"white\",\"linecolor\":\"white\",\"ticks\":\"\"}},\"title\":{\"x\":0.05},\"xaxis\":{\"automargin\":true,\"gridcolor\":\"white\",\"linecolor\":\"white\",\"ticks\":\"\",\"title\":{\"standoff\":15},\"zerolinecolor\":\"white\",\"zerolinewidth\":2},\"yaxis\":{\"automargin\":true,\"gridcolor\":\"white\",\"linecolor\":\"white\",\"ticks\":\"\",\"title\":{\"standoff\":15},\"zerolinecolor\":\"white\",\"zerolinewidth\":2}}},\"xaxis\":{\"anchor\":\"y\",\"domain\":[0.0,1.0],\"title\":{\"text\":\"Continent\"},\"tickangle\":45},\"yaxis\":{\"anchor\":\"x\",\"domain\":[0.0,1.0],\"title\":{\"text\":\"World Population Percentage\"}},\"coloraxis\":{\"colorbar\":{\"title\":{\"text\":\"World Population Percentage\"}},\"colorscale\":[[0.0,\"#e2d9e2\"],[0.1111111111111111,\"#9ebbc9\"],[0.2222222222222222,\"#6785be\"],[0.3333333333333333,\"#5e43a5\"],[0.4444444444444444,\"#421257\"],[0.5555555555555556,\"#471340\"],[0.6666666666666666,\"#8e2c50\"],[0.7777777777777778,\"#ba6657\"],[0.8888888888888888,\"#ceac94\"],[1.0,\"#e2d9e2\"]]},\"legend\":{\"tracegroupgap\":0},\"margin\":{\"t\":60},\"barmode\":\"relative\",\"title\":{\"text\":\"World Population Percentage\",\"x\":0.5,\"font\":{\"size\":16,\"color\":\"DarkSlateBlue\"}}},                        {\"responsive\": true}                    ).then(function(){\n",
       "                            \n",
       "var gd = document.getElementById('130db628-9bcc-480f-aab1-b9f51e776598');\n",
       "var x = new MutationObserver(function (mutations, observer) {{\n",
       "        var display = window.getComputedStyle(gd).display;\n",
       "        if (!display || display === 'none') {{\n",
       "            console.log([gd, 'removed!']);\n",
       "            Plotly.purge(gd);\n",
       "            observer.disconnect();\n",
       "        }}\n",
       "}});\n",
       "\n",
       "// Listen for the removal of the full notebook cells\n",
       "var notebookContainer = gd.closest('#notebook-container');\n",
       "if (notebookContainer) {{\n",
       "    x.observe(notebookContainer, {childList: true});\n",
       "}}\n",
       "\n",
       "// Listen for the clearing of the current output cell\n",
       "var outputEl = gd.closest('.output');\n",
       "if (outputEl) {{\n",
       "    x.observe(outputEl, {childList: true});\n",
       "}}\n",
       "\n",
       "                        })                };                });            </script>        </div>"
      ]
     },
     "metadata": {},
     "output_type": "display_data"
    }
   ],
   "source": [
    "df1 = df.sort_values(by = 'World Population Percentage', ascending = False).reset_index().head(20)\n",
    "fig = px.bar(df1,\n",
    "             x = 'Country',\n",
    "             y =  'World Population Percentage',\n",
    "             color = 'World Population Percentage',\n",
    "             color_continuous_scale = 'twilight',\n",
    "             \n",
    "            \n",
    "            )\n",
    "\n",
    "fig.update_layout(title = 'World Population Percentage',\n",
    "                  title_x = 0.5,\n",
    "                  title_font = dict(size = 16, color = 'DarkSlateBlue'),\n",
    "                  xaxis = dict(title = 'Continent', tickangle = 45),\n",
    "                  yaxis = dict(title = 'World Population Percentage'))\n",
    "\n",
    "fig.show()"
   ]
  },
  {
   "cell_type": "markdown",
   "id": "422e8fdb",
   "metadata": {},
   "source": [
    "#### Cintinent Area : "
   ]
  },
  {
   "cell_type": "code",
   "execution_count": 79,
   "id": "c9ed6e68",
   "metadata": {},
   "outputs": [
    {
     "data": {
      "application/vnd.plotly.v1+json": {
       "config": {
        "plotlyServerURL": "https://plot.ly"
       },
       "data": [
        {
         "alignmentgroup": "True",
         "hovertemplate": "Country=Russia<br>Continent=%{x}<br>Area (km²)=%{y}<extra></extra>",
         "legendgroup": "Russia",
         "marker": {
          "color": "#636efa",
          "pattern": {
           "shape": ""
          }
         },
         "name": "Russia",
         "offsetgroup": "Russia",
         "orientation": "v",
         "showlegend": true,
         "textposition": "auto",
         "type": "bar",
         "x": [
          "Europe"
         ],
         "xaxis": "x",
         "y": [
          17098242
         ],
         "yaxis": "y"
        },
        {
         "alignmentgroup": "True",
         "hovertemplate": "Country=Canada<br>Continent=%{x}<br>Area (km²)=%{y}<extra></extra>",
         "legendgroup": "Canada",
         "marker": {
          "color": "#EF553B",
          "pattern": {
           "shape": ""
          }
         },
         "name": "Canada",
         "offsetgroup": "Canada",
         "orientation": "v",
         "showlegend": true,
         "textposition": "auto",
         "type": "bar",
         "x": [
          "North America"
         ],
         "xaxis": "x",
         "y": [
          9984670
         ],
         "yaxis": "y"
        },
        {
         "alignmentgroup": "True",
         "hovertemplate": "Country=China<br>Continent=%{x}<br>Area (km²)=%{y}<extra></extra>",
         "legendgroup": "China",
         "marker": {
          "color": "#00cc96",
          "pattern": {
           "shape": ""
          }
         },
         "name": "China",
         "offsetgroup": "China",
         "orientation": "v",
         "showlegend": true,
         "textposition": "auto",
         "type": "bar",
         "x": [
          "Asia"
         ],
         "xaxis": "x",
         "y": [
          9706961
         ],
         "yaxis": "y"
        },
        {
         "alignmentgroup": "True",
         "hovertemplate": "Country=United States<br>Continent=%{x}<br>Area (km²)=%{y}<extra></extra>",
         "legendgroup": "United States",
         "marker": {
          "color": "#ab63fa",
          "pattern": {
           "shape": ""
          }
         },
         "name": "United States",
         "offsetgroup": "United States",
         "orientation": "v",
         "showlegend": true,
         "textposition": "auto",
         "type": "bar",
         "x": [
          "North America"
         ],
         "xaxis": "x",
         "y": [
          9372610
         ],
         "yaxis": "y"
        },
        {
         "alignmentgroup": "True",
         "hovertemplate": "Country=Brazil<br>Continent=%{x}<br>Area (km²)=%{y}<extra></extra>",
         "legendgroup": "Brazil",
         "marker": {
          "color": "#FFA15A",
          "pattern": {
           "shape": ""
          }
         },
         "name": "Brazil",
         "offsetgroup": "Brazil",
         "orientation": "v",
         "showlegend": true,
         "textposition": "auto",
         "type": "bar",
         "x": [
          "South America"
         ],
         "xaxis": "x",
         "y": [
          8515767
         ],
         "yaxis": "y"
        },
        {
         "alignmentgroup": "True",
         "hovertemplate": "Country=Australia<br>Continent=%{x}<br>Area (km²)=%{y}<extra></extra>",
         "legendgroup": "Australia",
         "marker": {
          "color": "#19d3f3",
          "pattern": {
           "shape": ""
          }
         },
         "name": "Australia",
         "offsetgroup": "Australia",
         "orientation": "v",
         "showlegend": true,
         "textposition": "auto",
         "type": "bar",
         "x": [
          "Oceania"
         ],
         "xaxis": "x",
         "y": [
          7692024
         ],
         "yaxis": "y"
        },
        {
         "alignmentgroup": "True",
         "hovertemplate": "Country=India<br>Continent=%{x}<br>Area (km²)=%{y}<extra></extra>",
         "legendgroup": "India",
         "marker": {
          "color": "#FF6692",
          "pattern": {
           "shape": ""
          }
         },
         "name": "India",
         "offsetgroup": "India",
         "orientation": "v",
         "showlegend": true,
         "textposition": "auto",
         "type": "bar",
         "x": [
          "Asia"
         ],
         "xaxis": "x",
         "y": [
          3287590
         ],
         "yaxis": "y"
        },
        {
         "alignmentgroup": "True",
         "hovertemplate": "Country=Argentina<br>Continent=%{x}<br>Area (km²)=%{y}<extra></extra>",
         "legendgroup": "Argentina",
         "marker": {
          "color": "#B6E880",
          "pattern": {
           "shape": ""
          }
         },
         "name": "Argentina",
         "offsetgroup": "Argentina",
         "orientation": "v",
         "showlegend": true,
         "textposition": "auto",
         "type": "bar",
         "x": [
          "South America"
         ],
         "xaxis": "x",
         "y": [
          2780400
         ],
         "yaxis": "y"
        },
        {
         "alignmentgroup": "True",
         "hovertemplate": "Country=Kazakhstan<br>Continent=%{x}<br>Area (km²)=%{y}<extra></extra>",
         "legendgroup": "Kazakhstan",
         "marker": {
          "color": "#FF97FF",
          "pattern": {
           "shape": ""
          }
         },
         "name": "Kazakhstan",
         "offsetgroup": "Kazakhstan",
         "orientation": "v",
         "showlegend": true,
         "textposition": "auto",
         "type": "bar",
         "x": [
          "Asia"
         ],
         "xaxis": "x",
         "y": [
          2724900
         ],
         "yaxis": "y"
        },
        {
         "alignmentgroup": "True",
         "hovertemplate": "Country=Algeria<br>Continent=%{x}<br>Area (km²)=%{y}<extra></extra>",
         "legendgroup": "Algeria",
         "marker": {
          "color": "#FECB52",
          "pattern": {
           "shape": ""
          }
         },
         "name": "Algeria",
         "offsetgroup": "Algeria",
         "orientation": "v",
         "showlegend": true,
         "textposition": "auto",
         "type": "bar",
         "x": [
          "Africa"
         ],
         "xaxis": "x",
         "y": [
          2381741
         ],
         "yaxis": "y"
        },
        {
         "alignmentgroup": "True",
         "hovertemplate": "Country=DR Congo<br>Continent=%{x}<br>Area (km²)=%{y}<extra></extra>",
         "legendgroup": "DR Congo",
         "marker": {
          "color": "#636efa",
          "pattern": {
           "shape": ""
          }
         },
         "name": "DR Congo",
         "offsetgroup": "DR Congo",
         "orientation": "v",
         "showlegend": true,
         "textposition": "auto",
         "type": "bar",
         "x": [
          "Africa"
         ],
         "xaxis": "x",
         "y": [
          2344858
         ],
         "yaxis": "y"
        },
        {
         "alignmentgroup": "True",
         "hovertemplate": "Country=Greenland<br>Continent=%{x}<br>Area (km²)=%{y}<extra></extra>",
         "legendgroup": "Greenland",
         "marker": {
          "color": "#EF553B",
          "pattern": {
           "shape": ""
          }
         },
         "name": "Greenland",
         "offsetgroup": "Greenland",
         "orientation": "v",
         "showlegend": true,
         "textposition": "auto",
         "type": "bar",
         "x": [
          "North America"
         ],
         "xaxis": "x",
         "y": [
          2166086
         ],
         "yaxis": "y"
        },
        {
         "alignmentgroup": "True",
         "hovertemplate": "Country=Saudi Arabia<br>Continent=%{x}<br>Area (km²)=%{y}<extra></extra>",
         "legendgroup": "Saudi Arabia",
         "marker": {
          "color": "#00cc96",
          "pattern": {
           "shape": ""
          }
         },
         "name": "Saudi Arabia",
         "offsetgroup": "Saudi Arabia",
         "orientation": "v",
         "showlegend": true,
         "textposition": "auto",
         "type": "bar",
         "x": [
          "Asia"
         ],
         "xaxis": "x",
         "y": [
          2149690
         ],
         "yaxis": "y"
        },
        {
         "alignmentgroup": "True",
         "hovertemplate": "Country=Mexico<br>Continent=%{x}<br>Area (km²)=%{y}<extra></extra>",
         "legendgroup": "Mexico",
         "marker": {
          "color": "#ab63fa",
          "pattern": {
           "shape": ""
          }
         },
         "name": "Mexico",
         "offsetgroup": "Mexico",
         "orientation": "v",
         "showlegend": true,
         "textposition": "auto",
         "type": "bar",
         "x": [
          "North America"
         ],
         "xaxis": "x",
         "y": [
          1964375
         ],
         "yaxis": "y"
        },
        {
         "alignmentgroup": "True",
         "hovertemplate": "Country=Indonesia<br>Continent=%{x}<br>Area (km²)=%{y}<extra></extra>",
         "legendgroup": "Indonesia",
         "marker": {
          "color": "#FFA15A",
          "pattern": {
           "shape": ""
          }
         },
         "name": "Indonesia",
         "offsetgroup": "Indonesia",
         "orientation": "v",
         "showlegend": true,
         "textposition": "auto",
         "type": "bar",
         "x": [
          "Asia"
         ],
         "xaxis": "x",
         "y": [
          1904569
         ],
         "yaxis": "y"
        },
        {
         "alignmentgroup": "True",
         "hovertemplate": "Country=Sudan<br>Continent=%{x}<br>Area (km²)=%{y}<extra></extra>",
         "legendgroup": "Sudan",
         "marker": {
          "color": "#19d3f3",
          "pattern": {
           "shape": ""
          }
         },
         "name": "Sudan",
         "offsetgroup": "Sudan",
         "orientation": "v",
         "showlegend": true,
         "textposition": "auto",
         "type": "bar",
         "x": [
          "Africa"
         ],
         "xaxis": "x",
         "y": [
          1886068
         ],
         "yaxis": "y"
        },
        {
         "alignmentgroup": "True",
         "hovertemplate": "Country=Libya<br>Continent=%{x}<br>Area (km²)=%{y}<extra></extra>",
         "legendgroup": "Libya",
         "marker": {
          "color": "#FF6692",
          "pattern": {
           "shape": ""
          }
         },
         "name": "Libya",
         "offsetgroup": "Libya",
         "orientation": "v",
         "showlegend": true,
         "textposition": "auto",
         "type": "bar",
         "x": [
          "Africa"
         ],
         "xaxis": "x",
         "y": [
          1759540
         ],
         "yaxis": "y"
        },
        {
         "alignmentgroup": "True",
         "hovertemplate": "Country=Iran<br>Continent=%{x}<br>Area (km²)=%{y}<extra></extra>",
         "legendgroup": "Iran",
         "marker": {
          "color": "#B6E880",
          "pattern": {
           "shape": ""
          }
         },
         "name": "Iran",
         "offsetgroup": "Iran",
         "orientation": "v",
         "showlegend": true,
         "textposition": "auto",
         "type": "bar",
         "x": [
          "Asia"
         ],
         "xaxis": "x",
         "y": [
          1648195
         ],
         "yaxis": "y"
        },
        {
         "alignmentgroup": "True",
         "hovertemplate": "Country=Mongolia<br>Continent=%{x}<br>Area (km²)=%{y}<extra></extra>",
         "legendgroup": "Mongolia",
         "marker": {
          "color": "#FF97FF",
          "pattern": {
           "shape": ""
          }
         },
         "name": "Mongolia",
         "offsetgroup": "Mongolia",
         "orientation": "v",
         "showlegend": true,
         "textposition": "auto",
         "type": "bar",
         "x": [
          "Asia"
         ],
         "xaxis": "x",
         "y": [
          1564110
         ],
         "yaxis": "y"
        },
        {
         "alignmentgroup": "True",
         "hovertemplate": "Country=Peru<br>Continent=%{x}<br>Area (km²)=%{y}<extra></extra>",
         "legendgroup": "Peru",
         "marker": {
          "color": "#FECB52",
          "pattern": {
           "shape": ""
          }
         },
         "name": "Peru",
         "offsetgroup": "Peru",
         "orientation": "v",
         "showlegend": true,
         "textposition": "auto",
         "type": "bar",
         "x": [
          "South America"
         ],
         "xaxis": "x",
         "y": [
          1285216
         ],
         "yaxis": "y"
        }
       ],
       "layout": {
        "barmode": "relative",
        "legend": {
         "title": {
          "text": "Country"
         },
         "tracegroupgap": 0
        },
        "margin": {
         "t": 60
        },
        "template": {
         "data": {
          "bar": [
           {
            "error_x": {
             "color": "#2a3f5f"
            },
            "error_y": {
             "color": "#2a3f5f"
            },
            "marker": {
             "line": {
              "color": "#E5ECF6",
              "width": 0.5
             },
             "pattern": {
              "fillmode": "overlay",
              "size": 10,
              "solidity": 0.2
             }
            },
            "type": "bar"
           }
          ],
          "barpolar": [
           {
            "marker": {
             "line": {
              "color": "#E5ECF6",
              "width": 0.5
             },
             "pattern": {
              "fillmode": "overlay",
              "size": 10,
              "solidity": 0.2
             }
            },
            "type": "barpolar"
           }
          ],
          "carpet": [
           {
            "aaxis": {
             "endlinecolor": "#2a3f5f",
             "gridcolor": "white",
             "linecolor": "white",
             "minorgridcolor": "white",
             "startlinecolor": "#2a3f5f"
            },
            "baxis": {
             "endlinecolor": "#2a3f5f",
             "gridcolor": "white",
             "linecolor": "white",
             "minorgridcolor": "white",
             "startlinecolor": "#2a3f5f"
            },
            "type": "carpet"
           }
          ],
          "choropleth": [
           {
            "colorbar": {
             "outlinewidth": 0,
             "ticks": ""
            },
            "type": "choropleth"
           }
          ],
          "contour": [
           {
            "colorbar": {
             "outlinewidth": 0,
             "ticks": ""
            },
            "colorscale": [
             [
              0,
              "#0d0887"
             ],
             [
              0.1111111111111111,
              "#46039f"
             ],
             [
              0.2222222222222222,
              "#7201a8"
             ],
             [
              0.3333333333333333,
              "#9c179e"
             ],
             [
              0.4444444444444444,
              "#bd3786"
             ],
             [
              0.5555555555555556,
              "#d8576b"
             ],
             [
              0.6666666666666666,
              "#ed7953"
             ],
             [
              0.7777777777777778,
              "#fb9f3a"
             ],
             [
              0.8888888888888888,
              "#fdca26"
             ],
             [
              1,
              "#f0f921"
             ]
            ],
            "type": "contour"
           }
          ],
          "contourcarpet": [
           {
            "colorbar": {
             "outlinewidth": 0,
             "ticks": ""
            },
            "type": "contourcarpet"
           }
          ],
          "heatmap": [
           {
            "colorbar": {
             "outlinewidth": 0,
             "ticks": ""
            },
            "colorscale": [
             [
              0,
              "#0d0887"
             ],
             [
              0.1111111111111111,
              "#46039f"
             ],
             [
              0.2222222222222222,
              "#7201a8"
             ],
             [
              0.3333333333333333,
              "#9c179e"
             ],
             [
              0.4444444444444444,
              "#bd3786"
             ],
             [
              0.5555555555555556,
              "#d8576b"
             ],
             [
              0.6666666666666666,
              "#ed7953"
             ],
             [
              0.7777777777777778,
              "#fb9f3a"
             ],
             [
              0.8888888888888888,
              "#fdca26"
             ],
             [
              1,
              "#f0f921"
             ]
            ],
            "type": "heatmap"
           }
          ],
          "heatmapgl": [
           {
            "colorbar": {
             "outlinewidth": 0,
             "ticks": ""
            },
            "colorscale": [
             [
              0,
              "#0d0887"
             ],
             [
              0.1111111111111111,
              "#46039f"
             ],
             [
              0.2222222222222222,
              "#7201a8"
             ],
             [
              0.3333333333333333,
              "#9c179e"
             ],
             [
              0.4444444444444444,
              "#bd3786"
             ],
             [
              0.5555555555555556,
              "#d8576b"
             ],
             [
              0.6666666666666666,
              "#ed7953"
             ],
             [
              0.7777777777777778,
              "#fb9f3a"
             ],
             [
              0.8888888888888888,
              "#fdca26"
             ],
             [
              1,
              "#f0f921"
             ]
            ],
            "type": "heatmapgl"
           }
          ],
          "histogram": [
           {
            "marker": {
             "pattern": {
              "fillmode": "overlay",
              "size": 10,
              "solidity": 0.2
             }
            },
            "type": "histogram"
           }
          ],
          "histogram2d": [
           {
            "colorbar": {
             "outlinewidth": 0,
             "ticks": ""
            },
            "colorscale": [
             [
              0,
              "#0d0887"
             ],
             [
              0.1111111111111111,
              "#46039f"
             ],
             [
              0.2222222222222222,
              "#7201a8"
             ],
             [
              0.3333333333333333,
              "#9c179e"
             ],
             [
              0.4444444444444444,
              "#bd3786"
             ],
             [
              0.5555555555555556,
              "#d8576b"
             ],
             [
              0.6666666666666666,
              "#ed7953"
             ],
             [
              0.7777777777777778,
              "#fb9f3a"
             ],
             [
              0.8888888888888888,
              "#fdca26"
             ],
             [
              1,
              "#f0f921"
             ]
            ],
            "type": "histogram2d"
           }
          ],
          "histogram2dcontour": [
           {
            "colorbar": {
             "outlinewidth": 0,
             "ticks": ""
            },
            "colorscale": [
             [
              0,
              "#0d0887"
             ],
             [
              0.1111111111111111,
              "#46039f"
             ],
             [
              0.2222222222222222,
              "#7201a8"
             ],
             [
              0.3333333333333333,
              "#9c179e"
             ],
             [
              0.4444444444444444,
              "#bd3786"
             ],
             [
              0.5555555555555556,
              "#d8576b"
             ],
             [
              0.6666666666666666,
              "#ed7953"
             ],
             [
              0.7777777777777778,
              "#fb9f3a"
             ],
             [
              0.8888888888888888,
              "#fdca26"
             ],
             [
              1,
              "#f0f921"
             ]
            ],
            "type": "histogram2dcontour"
           }
          ],
          "mesh3d": [
           {
            "colorbar": {
             "outlinewidth": 0,
             "ticks": ""
            },
            "type": "mesh3d"
           }
          ],
          "parcoords": [
           {
            "line": {
             "colorbar": {
              "outlinewidth": 0,
              "ticks": ""
             }
            },
            "type": "parcoords"
           }
          ],
          "pie": [
           {
            "automargin": true,
            "type": "pie"
           }
          ],
          "scatter": [
           {
            "marker": {
             "colorbar": {
              "outlinewidth": 0,
              "ticks": ""
             }
            },
            "type": "scatter"
           }
          ],
          "scatter3d": [
           {
            "line": {
             "colorbar": {
              "outlinewidth": 0,
              "ticks": ""
             }
            },
            "marker": {
             "colorbar": {
              "outlinewidth": 0,
              "ticks": ""
             }
            },
            "type": "scatter3d"
           }
          ],
          "scattercarpet": [
           {
            "marker": {
             "colorbar": {
              "outlinewidth": 0,
              "ticks": ""
             }
            },
            "type": "scattercarpet"
           }
          ],
          "scattergeo": [
           {
            "marker": {
             "colorbar": {
              "outlinewidth": 0,
              "ticks": ""
             }
            },
            "type": "scattergeo"
           }
          ],
          "scattergl": [
           {
            "marker": {
             "colorbar": {
              "outlinewidth": 0,
              "ticks": ""
             }
            },
            "type": "scattergl"
           }
          ],
          "scattermapbox": [
           {
            "marker": {
             "colorbar": {
              "outlinewidth": 0,
              "ticks": ""
             }
            },
            "type": "scattermapbox"
           }
          ],
          "scatterpolar": [
           {
            "marker": {
             "colorbar": {
              "outlinewidth": 0,
              "ticks": ""
             }
            },
            "type": "scatterpolar"
           }
          ],
          "scatterpolargl": [
           {
            "marker": {
             "colorbar": {
              "outlinewidth": 0,
              "ticks": ""
             }
            },
            "type": "scatterpolargl"
           }
          ],
          "scatterternary": [
           {
            "marker": {
             "colorbar": {
              "outlinewidth": 0,
              "ticks": ""
             }
            },
            "type": "scatterternary"
           }
          ],
          "surface": [
           {
            "colorbar": {
             "outlinewidth": 0,
             "ticks": ""
            },
            "colorscale": [
             [
              0,
              "#0d0887"
             ],
             [
              0.1111111111111111,
              "#46039f"
             ],
             [
              0.2222222222222222,
              "#7201a8"
             ],
             [
              0.3333333333333333,
              "#9c179e"
             ],
             [
              0.4444444444444444,
              "#bd3786"
             ],
             [
              0.5555555555555556,
              "#d8576b"
             ],
             [
              0.6666666666666666,
              "#ed7953"
             ],
             [
              0.7777777777777778,
              "#fb9f3a"
             ],
             [
              0.8888888888888888,
              "#fdca26"
             ],
             [
              1,
              "#f0f921"
             ]
            ],
            "type": "surface"
           }
          ],
          "table": [
           {
            "cells": {
             "fill": {
              "color": "#EBF0F8"
             },
             "line": {
              "color": "white"
             }
            },
            "header": {
             "fill": {
              "color": "#C8D4E3"
             },
             "line": {
              "color": "white"
             }
            },
            "type": "table"
           }
          ]
         },
         "layout": {
          "annotationdefaults": {
           "arrowcolor": "#2a3f5f",
           "arrowhead": 0,
           "arrowwidth": 1
          },
          "autotypenumbers": "strict",
          "coloraxis": {
           "colorbar": {
            "outlinewidth": 0,
            "ticks": ""
           }
          },
          "colorscale": {
           "diverging": [
            [
             0,
             "#8e0152"
            ],
            [
             0.1,
             "#c51b7d"
            ],
            [
             0.2,
             "#de77ae"
            ],
            [
             0.3,
             "#f1b6da"
            ],
            [
             0.4,
             "#fde0ef"
            ],
            [
             0.5,
             "#f7f7f7"
            ],
            [
             0.6,
             "#e6f5d0"
            ],
            [
             0.7,
             "#b8e186"
            ],
            [
             0.8,
             "#7fbc41"
            ],
            [
             0.9,
             "#4d9221"
            ],
            [
             1,
             "#276419"
            ]
           ],
           "sequential": [
            [
             0,
             "#0d0887"
            ],
            [
             0.1111111111111111,
             "#46039f"
            ],
            [
             0.2222222222222222,
             "#7201a8"
            ],
            [
             0.3333333333333333,
             "#9c179e"
            ],
            [
             0.4444444444444444,
             "#bd3786"
            ],
            [
             0.5555555555555556,
             "#d8576b"
            ],
            [
             0.6666666666666666,
             "#ed7953"
            ],
            [
             0.7777777777777778,
             "#fb9f3a"
            ],
            [
             0.8888888888888888,
             "#fdca26"
            ],
            [
             1,
             "#f0f921"
            ]
           ],
           "sequentialminus": [
            [
             0,
             "#0d0887"
            ],
            [
             0.1111111111111111,
             "#46039f"
            ],
            [
             0.2222222222222222,
             "#7201a8"
            ],
            [
             0.3333333333333333,
             "#9c179e"
            ],
            [
             0.4444444444444444,
             "#bd3786"
            ],
            [
             0.5555555555555556,
             "#d8576b"
            ],
            [
             0.6666666666666666,
             "#ed7953"
            ],
            [
             0.7777777777777778,
             "#fb9f3a"
            ],
            [
             0.8888888888888888,
             "#fdca26"
            ],
            [
             1,
             "#f0f921"
            ]
           ]
          },
          "colorway": [
           "#636efa",
           "#EF553B",
           "#00cc96",
           "#ab63fa",
           "#FFA15A",
           "#19d3f3",
           "#FF6692",
           "#B6E880",
           "#FF97FF",
           "#FECB52"
          ],
          "font": {
           "color": "#2a3f5f"
          },
          "geo": {
           "bgcolor": "white",
           "lakecolor": "white",
           "landcolor": "#E5ECF6",
           "showlakes": true,
           "showland": true,
           "subunitcolor": "white"
          },
          "hoverlabel": {
           "align": "left"
          },
          "hovermode": "closest",
          "mapbox": {
           "style": "light"
          },
          "paper_bgcolor": "white",
          "plot_bgcolor": "#E5ECF6",
          "polar": {
           "angularaxis": {
            "gridcolor": "white",
            "linecolor": "white",
            "ticks": ""
           },
           "bgcolor": "#E5ECF6",
           "radialaxis": {
            "gridcolor": "white",
            "linecolor": "white",
            "ticks": ""
           }
          },
          "scene": {
           "xaxis": {
            "backgroundcolor": "#E5ECF6",
            "gridcolor": "white",
            "gridwidth": 2,
            "linecolor": "white",
            "showbackground": true,
            "ticks": "",
            "zerolinecolor": "white"
           },
           "yaxis": {
            "backgroundcolor": "#E5ECF6",
            "gridcolor": "white",
            "gridwidth": 2,
            "linecolor": "white",
            "showbackground": true,
            "ticks": "",
            "zerolinecolor": "white"
           },
           "zaxis": {
            "backgroundcolor": "#E5ECF6",
            "gridcolor": "white",
            "gridwidth": 2,
            "linecolor": "white",
            "showbackground": true,
            "ticks": "",
            "zerolinecolor": "white"
           }
          },
          "shapedefaults": {
           "line": {
            "color": "#2a3f5f"
           }
          },
          "ternary": {
           "aaxis": {
            "gridcolor": "white",
            "linecolor": "white",
            "ticks": ""
           },
           "baxis": {
            "gridcolor": "white",
            "linecolor": "white",
            "ticks": ""
           },
           "bgcolor": "#E5ECF6",
           "caxis": {
            "gridcolor": "white",
            "linecolor": "white",
            "ticks": ""
           }
          },
          "title": {
           "x": 0.05
          },
          "xaxis": {
           "automargin": true,
           "gridcolor": "white",
           "linecolor": "white",
           "ticks": "",
           "title": {
            "standoff": 15
           },
           "zerolinecolor": "white",
           "zerolinewidth": 2
          },
          "yaxis": {
           "automargin": true,
           "gridcolor": "white",
           "linecolor": "white",
           "ticks": "",
           "title": {
            "standoff": 15
           },
           "zerolinecolor": "white",
           "zerolinewidth": 2
          }
         }
        },
        "title": {
         "font": {
          "color": "DarkSlateBlue",
          "size": 16
         },
         "text": "Area (km²)",
         "x": 0.5
        },
        "xaxis": {
         "anchor": "y",
         "domain": [
          0,
          1
         ],
         "tickangle": 45,
         "title": {
          "text": "Continent"
         }
        },
        "yaxis": {
         "anchor": "x",
         "domain": [
          0,
          1
         ],
         "title": {
          "text": "Area (km²)"
         }
        }
       }
      },
      "text/html": [
       "<div>                            <div id=\"438a5d12-5d12-46c3-bd68-a5b66424cc16\" class=\"plotly-graph-div\" style=\"height:525px; width:100%;\"></div>            <script type=\"text/javascript\">                require([\"plotly\"], function(Plotly) {                    window.PLOTLYENV=window.PLOTLYENV || {};                                    if (document.getElementById(\"438a5d12-5d12-46c3-bd68-a5b66424cc16\")) {                    Plotly.newPlot(                        \"438a5d12-5d12-46c3-bd68-a5b66424cc16\",                        [{\"alignmentgroup\":\"True\",\"hovertemplate\":\"Country=Russia<br>Continent=%{x}<br>Area (km\\u00b2)=%{y}<extra></extra>\",\"legendgroup\":\"Russia\",\"marker\":{\"color\":\"#636efa\",\"pattern\":{\"shape\":\"\"}},\"name\":\"Russia\",\"offsetgroup\":\"Russia\",\"orientation\":\"v\",\"showlegend\":true,\"textposition\":\"auto\",\"x\":[\"Europe\"],\"xaxis\":\"x\",\"y\":[17098242],\"yaxis\":\"y\",\"type\":\"bar\"},{\"alignmentgroup\":\"True\",\"hovertemplate\":\"Country=Canada<br>Continent=%{x}<br>Area (km\\u00b2)=%{y}<extra></extra>\",\"legendgroup\":\"Canada\",\"marker\":{\"color\":\"#EF553B\",\"pattern\":{\"shape\":\"\"}},\"name\":\"Canada\",\"offsetgroup\":\"Canada\",\"orientation\":\"v\",\"showlegend\":true,\"textposition\":\"auto\",\"x\":[\"North America\"],\"xaxis\":\"x\",\"y\":[9984670],\"yaxis\":\"y\",\"type\":\"bar\"},{\"alignmentgroup\":\"True\",\"hovertemplate\":\"Country=China<br>Continent=%{x}<br>Area (km\\u00b2)=%{y}<extra></extra>\",\"legendgroup\":\"China\",\"marker\":{\"color\":\"#00cc96\",\"pattern\":{\"shape\":\"\"}},\"name\":\"China\",\"offsetgroup\":\"China\",\"orientation\":\"v\",\"showlegend\":true,\"textposition\":\"auto\",\"x\":[\"Asia\"],\"xaxis\":\"x\",\"y\":[9706961],\"yaxis\":\"y\",\"type\":\"bar\"},{\"alignmentgroup\":\"True\",\"hovertemplate\":\"Country=United States<br>Continent=%{x}<br>Area (km\\u00b2)=%{y}<extra></extra>\",\"legendgroup\":\"United States\",\"marker\":{\"color\":\"#ab63fa\",\"pattern\":{\"shape\":\"\"}},\"name\":\"United States\",\"offsetgroup\":\"United States\",\"orientation\":\"v\",\"showlegend\":true,\"textposition\":\"auto\",\"x\":[\"North America\"],\"xaxis\":\"x\",\"y\":[9372610],\"yaxis\":\"y\",\"type\":\"bar\"},{\"alignmentgroup\":\"True\",\"hovertemplate\":\"Country=Brazil<br>Continent=%{x}<br>Area (km\\u00b2)=%{y}<extra></extra>\",\"legendgroup\":\"Brazil\",\"marker\":{\"color\":\"#FFA15A\",\"pattern\":{\"shape\":\"\"}},\"name\":\"Brazil\",\"offsetgroup\":\"Brazil\",\"orientation\":\"v\",\"showlegend\":true,\"textposition\":\"auto\",\"x\":[\"South America\"],\"xaxis\":\"x\",\"y\":[8515767],\"yaxis\":\"y\",\"type\":\"bar\"},{\"alignmentgroup\":\"True\",\"hovertemplate\":\"Country=Australia<br>Continent=%{x}<br>Area (km\\u00b2)=%{y}<extra></extra>\",\"legendgroup\":\"Australia\",\"marker\":{\"color\":\"#19d3f3\",\"pattern\":{\"shape\":\"\"}},\"name\":\"Australia\",\"offsetgroup\":\"Australia\",\"orientation\":\"v\",\"showlegend\":true,\"textposition\":\"auto\",\"x\":[\"Oceania\"],\"xaxis\":\"x\",\"y\":[7692024],\"yaxis\":\"y\",\"type\":\"bar\"},{\"alignmentgroup\":\"True\",\"hovertemplate\":\"Country=India<br>Continent=%{x}<br>Area (km\\u00b2)=%{y}<extra></extra>\",\"legendgroup\":\"India\",\"marker\":{\"color\":\"#FF6692\",\"pattern\":{\"shape\":\"\"}},\"name\":\"India\",\"offsetgroup\":\"India\",\"orientation\":\"v\",\"showlegend\":true,\"textposition\":\"auto\",\"x\":[\"Asia\"],\"xaxis\":\"x\",\"y\":[3287590],\"yaxis\":\"y\",\"type\":\"bar\"},{\"alignmentgroup\":\"True\",\"hovertemplate\":\"Country=Argentina<br>Continent=%{x}<br>Area (km\\u00b2)=%{y}<extra></extra>\",\"legendgroup\":\"Argentina\",\"marker\":{\"color\":\"#B6E880\",\"pattern\":{\"shape\":\"\"}},\"name\":\"Argentina\",\"offsetgroup\":\"Argentina\",\"orientation\":\"v\",\"showlegend\":true,\"textposition\":\"auto\",\"x\":[\"South America\"],\"xaxis\":\"x\",\"y\":[2780400],\"yaxis\":\"y\",\"type\":\"bar\"},{\"alignmentgroup\":\"True\",\"hovertemplate\":\"Country=Kazakhstan<br>Continent=%{x}<br>Area (km\\u00b2)=%{y}<extra></extra>\",\"legendgroup\":\"Kazakhstan\",\"marker\":{\"color\":\"#FF97FF\",\"pattern\":{\"shape\":\"\"}},\"name\":\"Kazakhstan\",\"offsetgroup\":\"Kazakhstan\",\"orientation\":\"v\",\"showlegend\":true,\"textposition\":\"auto\",\"x\":[\"Asia\"],\"xaxis\":\"x\",\"y\":[2724900],\"yaxis\":\"y\",\"type\":\"bar\"},{\"alignmentgroup\":\"True\",\"hovertemplate\":\"Country=Algeria<br>Continent=%{x}<br>Area (km\\u00b2)=%{y}<extra></extra>\",\"legendgroup\":\"Algeria\",\"marker\":{\"color\":\"#FECB52\",\"pattern\":{\"shape\":\"\"}},\"name\":\"Algeria\",\"offsetgroup\":\"Algeria\",\"orientation\":\"v\",\"showlegend\":true,\"textposition\":\"auto\",\"x\":[\"Africa\"],\"xaxis\":\"x\",\"y\":[2381741],\"yaxis\":\"y\",\"type\":\"bar\"},{\"alignmentgroup\":\"True\",\"hovertemplate\":\"Country=DR Congo<br>Continent=%{x}<br>Area (km\\u00b2)=%{y}<extra></extra>\",\"legendgroup\":\"DR Congo\",\"marker\":{\"color\":\"#636efa\",\"pattern\":{\"shape\":\"\"}},\"name\":\"DR Congo\",\"offsetgroup\":\"DR Congo\",\"orientation\":\"v\",\"showlegend\":true,\"textposition\":\"auto\",\"x\":[\"Africa\"],\"xaxis\":\"x\",\"y\":[2344858],\"yaxis\":\"y\",\"type\":\"bar\"},{\"alignmentgroup\":\"True\",\"hovertemplate\":\"Country=Greenland<br>Continent=%{x}<br>Area (km\\u00b2)=%{y}<extra></extra>\",\"legendgroup\":\"Greenland\",\"marker\":{\"color\":\"#EF553B\",\"pattern\":{\"shape\":\"\"}},\"name\":\"Greenland\",\"offsetgroup\":\"Greenland\",\"orientation\":\"v\",\"showlegend\":true,\"textposition\":\"auto\",\"x\":[\"North America\"],\"xaxis\":\"x\",\"y\":[2166086],\"yaxis\":\"y\",\"type\":\"bar\"},{\"alignmentgroup\":\"True\",\"hovertemplate\":\"Country=Saudi Arabia<br>Continent=%{x}<br>Area (km\\u00b2)=%{y}<extra></extra>\",\"legendgroup\":\"Saudi Arabia\",\"marker\":{\"color\":\"#00cc96\",\"pattern\":{\"shape\":\"\"}},\"name\":\"Saudi Arabia\",\"offsetgroup\":\"Saudi Arabia\",\"orientation\":\"v\",\"showlegend\":true,\"textposition\":\"auto\",\"x\":[\"Asia\"],\"xaxis\":\"x\",\"y\":[2149690],\"yaxis\":\"y\",\"type\":\"bar\"},{\"alignmentgroup\":\"True\",\"hovertemplate\":\"Country=Mexico<br>Continent=%{x}<br>Area (km\\u00b2)=%{y}<extra></extra>\",\"legendgroup\":\"Mexico\",\"marker\":{\"color\":\"#ab63fa\",\"pattern\":{\"shape\":\"\"}},\"name\":\"Mexico\",\"offsetgroup\":\"Mexico\",\"orientation\":\"v\",\"showlegend\":true,\"textposition\":\"auto\",\"x\":[\"North America\"],\"xaxis\":\"x\",\"y\":[1964375],\"yaxis\":\"y\",\"type\":\"bar\"},{\"alignmentgroup\":\"True\",\"hovertemplate\":\"Country=Indonesia<br>Continent=%{x}<br>Area (km\\u00b2)=%{y}<extra></extra>\",\"legendgroup\":\"Indonesia\",\"marker\":{\"color\":\"#FFA15A\",\"pattern\":{\"shape\":\"\"}},\"name\":\"Indonesia\",\"offsetgroup\":\"Indonesia\",\"orientation\":\"v\",\"showlegend\":true,\"textposition\":\"auto\",\"x\":[\"Asia\"],\"xaxis\":\"x\",\"y\":[1904569],\"yaxis\":\"y\",\"type\":\"bar\"},{\"alignmentgroup\":\"True\",\"hovertemplate\":\"Country=Sudan<br>Continent=%{x}<br>Area (km\\u00b2)=%{y}<extra></extra>\",\"legendgroup\":\"Sudan\",\"marker\":{\"color\":\"#19d3f3\",\"pattern\":{\"shape\":\"\"}},\"name\":\"Sudan\",\"offsetgroup\":\"Sudan\",\"orientation\":\"v\",\"showlegend\":true,\"textposition\":\"auto\",\"x\":[\"Africa\"],\"xaxis\":\"x\",\"y\":[1886068],\"yaxis\":\"y\",\"type\":\"bar\"},{\"alignmentgroup\":\"True\",\"hovertemplate\":\"Country=Libya<br>Continent=%{x}<br>Area (km\\u00b2)=%{y}<extra></extra>\",\"legendgroup\":\"Libya\",\"marker\":{\"color\":\"#FF6692\",\"pattern\":{\"shape\":\"\"}},\"name\":\"Libya\",\"offsetgroup\":\"Libya\",\"orientation\":\"v\",\"showlegend\":true,\"textposition\":\"auto\",\"x\":[\"Africa\"],\"xaxis\":\"x\",\"y\":[1759540],\"yaxis\":\"y\",\"type\":\"bar\"},{\"alignmentgroup\":\"True\",\"hovertemplate\":\"Country=Iran<br>Continent=%{x}<br>Area (km\\u00b2)=%{y}<extra></extra>\",\"legendgroup\":\"Iran\",\"marker\":{\"color\":\"#B6E880\",\"pattern\":{\"shape\":\"\"}},\"name\":\"Iran\",\"offsetgroup\":\"Iran\",\"orientation\":\"v\",\"showlegend\":true,\"textposition\":\"auto\",\"x\":[\"Asia\"],\"xaxis\":\"x\",\"y\":[1648195],\"yaxis\":\"y\",\"type\":\"bar\"},{\"alignmentgroup\":\"True\",\"hovertemplate\":\"Country=Mongolia<br>Continent=%{x}<br>Area (km\\u00b2)=%{y}<extra></extra>\",\"legendgroup\":\"Mongolia\",\"marker\":{\"color\":\"#FF97FF\",\"pattern\":{\"shape\":\"\"}},\"name\":\"Mongolia\",\"offsetgroup\":\"Mongolia\",\"orientation\":\"v\",\"showlegend\":true,\"textposition\":\"auto\",\"x\":[\"Asia\"],\"xaxis\":\"x\",\"y\":[1564110],\"yaxis\":\"y\",\"type\":\"bar\"},{\"alignmentgroup\":\"True\",\"hovertemplate\":\"Country=Peru<br>Continent=%{x}<br>Area (km\\u00b2)=%{y}<extra></extra>\",\"legendgroup\":\"Peru\",\"marker\":{\"color\":\"#FECB52\",\"pattern\":{\"shape\":\"\"}},\"name\":\"Peru\",\"offsetgroup\":\"Peru\",\"orientation\":\"v\",\"showlegend\":true,\"textposition\":\"auto\",\"x\":[\"South America\"],\"xaxis\":\"x\",\"y\":[1285216],\"yaxis\":\"y\",\"type\":\"bar\"}],                        {\"template\":{\"data\":{\"bar\":[{\"error_x\":{\"color\":\"#2a3f5f\"},\"error_y\":{\"color\":\"#2a3f5f\"},\"marker\":{\"line\":{\"color\":\"#E5ECF6\",\"width\":0.5},\"pattern\":{\"fillmode\":\"overlay\",\"size\":10,\"solidity\":0.2}},\"type\":\"bar\"}],\"barpolar\":[{\"marker\":{\"line\":{\"color\":\"#E5ECF6\",\"width\":0.5},\"pattern\":{\"fillmode\":\"overlay\",\"size\":10,\"solidity\":0.2}},\"type\":\"barpolar\"}],\"carpet\":[{\"aaxis\":{\"endlinecolor\":\"#2a3f5f\",\"gridcolor\":\"white\",\"linecolor\":\"white\",\"minorgridcolor\":\"white\",\"startlinecolor\":\"#2a3f5f\"},\"baxis\":{\"endlinecolor\":\"#2a3f5f\",\"gridcolor\":\"white\",\"linecolor\":\"white\",\"minorgridcolor\":\"white\",\"startlinecolor\":\"#2a3f5f\"},\"type\":\"carpet\"}],\"choropleth\":[{\"colorbar\":{\"outlinewidth\":0,\"ticks\":\"\"},\"type\":\"choropleth\"}],\"contour\":[{\"colorbar\":{\"outlinewidth\":0,\"ticks\":\"\"},\"colorscale\":[[0.0,\"#0d0887\"],[0.1111111111111111,\"#46039f\"],[0.2222222222222222,\"#7201a8\"],[0.3333333333333333,\"#9c179e\"],[0.4444444444444444,\"#bd3786\"],[0.5555555555555556,\"#d8576b\"],[0.6666666666666666,\"#ed7953\"],[0.7777777777777778,\"#fb9f3a\"],[0.8888888888888888,\"#fdca26\"],[1.0,\"#f0f921\"]],\"type\":\"contour\"}],\"contourcarpet\":[{\"colorbar\":{\"outlinewidth\":0,\"ticks\":\"\"},\"type\":\"contourcarpet\"}],\"heatmap\":[{\"colorbar\":{\"outlinewidth\":0,\"ticks\":\"\"},\"colorscale\":[[0.0,\"#0d0887\"],[0.1111111111111111,\"#46039f\"],[0.2222222222222222,\"#7201a8\"],[0.3333333333333333,\"#9c179e\"],[0.4444444444444444,\"#bd3786\"],[0.5555555555555556,\"#d8576b\"],[0.6666666666666666,\"#ed7953\"],[0.7777777777777778,\"#fb9f3a\"],[0.8888888888888888,\"#fdca26\"],[1.0,\"#f0f921\"]],\"type\":\"heatmap\"}],\"heatmapgl\":[{\"colorbar\":{\"outlinewidth\":0,\"ticks\":\"\"},\"colorscale\":[[0.0,\"#0d0887\"],[0.1111111111111111,\"#46039f\"],[0.2222222222222222,\"#7201a8\"],[0.3333333333333333,\"#9c179e\"],[0.4444444444444444,\"#bd3786\"],[0.5555555555555556,\"#d8576b\"],[0.6666666666666666,\"#ed7953\"],[0.7777777777777778,\"#fb9f3a\"],[0.8888888888888888,\"#fdca26\"],[1.0,\"#f0f921\"]],\"type\":\"heatmapgl\"}],\"histogram\":[{\"marker\":{\"pattern\":{\"fillmode\":\"overlay\",\"size\":10,\"solidity\":0.2}},\"type\":\"histogram\"}],\"histogram2d\":[{\"colorbar\":{\"outlinewidth\":0,\"ticks\":\"\"},\"colorscale\":[[0.0,\"#0d0887\"],[0.1111111111111111,\"#46039f\"],[0.2222222222222222,\"#7201a8\"],[0.3333333333333333,\"#9c179e\"],[0.4444444444444444,\"#bd3786\"],[0.5555555555555556,\"#d8576b\"],[0.6666666666666666,\"#ed7953\"],[0.7777777777777778,\"#fb9f3a\"],[0.8888888888888888,\"#fdca26\"],[1.0,\"#f0f921\"]],\"type\":\"histogram2d\"}],\"histogram2dcontour\":[{\"colorbar\":{\"outlinewidth\":0,\"ticks\":\"\"},\"colorscale\":[[0.0,\"#0d0887\"],[0.1111111111111111,\"#46039f\"],[0.2222222222222222,\"#7201a8\"],[0.3333333333333333,\"#9c179e\"],[0.4444444444444444,\"#bd3786\"],[0.5555555555555556,\"#d8576b\"],[0.6666666666666666,\"#ed7953\"],[0.7777777777777778,\"#fb9f3a\"],[0.8888888888888888,\"#fdca26\"],[1.0,\"#f0f921\"]],\"type\":\"histogram2dcontour\"}],\"mesh3d\":[{\"colorbar\":{\"outlinewidth\":0,\"ticks\":\"\"},\"type\":\"mesh3d\"}],\"parcoords\":[{\"line\":{\"colorbar\":{\"outlinewidth\":0,\"ticks\":\"\"}},\"type\":\"parcoords\"}],\"pie\":[{\"automargin\":true,\"type\":\"pie\"}],\"scatter\":[{\"marker\":{\"colorbar\":{\"outlinewidth\":0,\"ticks\":\"\"}},\"type\":\"scatter\"}],\"scatter3d\":[{\"line\":{\"colorbar\":{\"outlinewidth\":0,\"ticks\":\"\"}},\"marker\":{\"colorbar\":{\"outlinewidth\":0,\"ticks\":\"\"}},\"type\":\"scatter3d\"}],\"scattercarpet\":[{\"marker\":{\"colorbar\":{\"outlinewidth\":0,\"ticks\":\"\"}},\"type\":\"scattercarpet\"}],\"scattergeo\":[{\"marker\":{\"colorbar\":{\"outlinewidth\":0,\"ticks\":\"\"}},\"type\":\"scattergeo\"}],\"scattergl\":[{\"marker\":{\"colorbar\":{\"outlinewidth\":0,\"ticks\":\"\"}},\"type\":\"scattergl\"}],\"scattermapbox\":[{\"marker\":{\"colorbar\":{\"outlinewidth\":0,\"ticks\":\"\"}},\"type\":\"scattermapbox\"}],\"scatterpolar\":[{\"marker\":{\"colorbar\":{\"outlinewidth\":0,\"ticks\":\"\"}},\"type\":\"scatterpolar\"}],\"scatterpolargl\":[{\"marker\":{\"colorbar\":{\"outlinewidth\":0,\"ticks\":\"\"}},\"type\":\"scatterpolargl\"}],\"scatterternary\":[{\"marker\":{\"colorbar\":{\"outlinewidth\":0,\"ticks\":\"\"}},\"type\":\"scatterternary\"}],\"surface\":[{\"colorbar\":{\"outlinewidth\":0,\"ticks\":\"\"},\"colorscale\":[[0.0,\"#0d0887\"],[0.1111111111111111,\"#46039f\"],[0.2222222222222222,\"#7201a8\"],[0.3333333333333333,\"#9c179e\"],[0.4444444444444444,\"#bd3786\"],[0.5555555555555556,\"#d8576b\"],[0.6666666666666666,\"#ed7953\"],[0.7777777777777778,\"#fb9f3a\"],[0.8888888888888888,\"#fdca26\"],[1.0,\"#f0f921\"]],\"type\":\"surface\"}],\"table\":[{\"cells\":{\"fill\":{\"color\":\"#EBF0F8\"},\"line\":{\"color\":\"white\"}},\"header\":{\"fill\":{\"color\":\"#C8D4E3\"},\"line\":{\"color\":\"white\"}},\"type\":\"table\"}]},\"layout\":{\"annotationdefaults\":{\"arrowcolor\":\"#2a3f5f\",\"arrowhead\":0,\"arrowwidth\":1},\"autotypenumbers\":\"strict\",\"coloraxis\":{\"colorbar\":{\"outlinewidth\":0,\"ticks\":\"\"}},\"colorscale\":{\"diverging\":[[0,\"#8e0152\"],[0.1,\"#c51b7d\"],[0.2,\"#de77ae\"],[0.3,\"#f1b6da\"],[0.4,\"#fde0ef\"],[0.5,\"#f7f7f7\"],[0.6,\"#e6f5d0\"],[0.7,\"#b8e186\"],[0.8,\"#7fbc41\"],[0.9,\"#4d9221\"],[1,\"#276419\"]],\"sequential\":[[0.0,\"#0d0887\"],[0.1111111111111111,\"#46039f\"],[0.2222222222222222,\"#7201a8\"],[0.3333333333333333,\"#9c179e\"],[0.4444444444444444,\"#bd3786\"],[0.5555555555555556,\"#d8576b\"],[0.6666666666666666,\"#ed7953\"],[0.7777777777777778,\"#fb9f3a\"],[0.8888888888888888,\"#fdca26\"],[1.0,\"#f0f921\"]],\"sequentialminus\":[[0.0,\"#0d0887\"],[0.1111111111111111,\"#46039f\"],[0.2222222222222222,\"#7201a8\"],[0.3333333333333333,\"#9c179e\"],[0.4444444444444444,\"#bd3786\"],[0.5555555555555556,\"#d8576b\"],[0.6666666666666666,\"#ed7953\"],[0.7777777777777778,\"#fb9f3a\"],[0.8888888888888888,\"#fdca26\"],[1.0,\"#f0f921\"]]},\"colorway\":[\"#636efa\",\"#EF553B\",\"#00cc96\",\"#ab63fa\",\"#FFA15A\",\"#19d3f3\",\"#FF6692\",\"#B6E880\",\"#FF97FF\",\"#FECB52\"],\"font\":{\"color\":\"#2a3f5f\"},\"geo\":{\"bgcolor\":\"white\",\"lakecolor\":\"white\",\"landcolor\":\"#E5ECF6\",\"showlakes\":true,\"showland\":true,\"subunitcolor\":\"white\"},\"hoverlabel\":{\"align\":\"left\"},\"hovermode\":\"closest\",\"mapbox\":{\"style\":\"light\"},\"paper_bgcolor\":\"white\",\"plot_bgcolor\":\"#E5ECF6\",\"polar\":{\"angularaxis\":{\"gridcolor\":\"white\",\"linecolor\":\"white\",\"ticks\":\"\"},\"bgcolor\":\"#E5ECF6\",\"radialaxis\":{\"gridcolor\":\"white\",\"linecolor\":\"white\",\"ticks\":\"\"}},\"scene\":{\"xaxis\":{\"backgroundcolor\":\"#E5ECF6\",\"gridcolor\":\"white\",\"gridwidth\":2,\"linecolor\":\"white\",\"showbackground\":true,\"ticks\":\"\",\"zerolinecolor\":\"white\"},\"yaxis\":{\"backgroundcolor\":\"#E5ECF6\",\"gridcolor\":\"white\",\"gridwidth\":2,\"linecolor\":\"white\",\"showbackground\":true,\"ticks\":\"\",\"zerolinecolor\":\"white\"},\"zaxis\":{\"backgroundcolor\":\"#E5ECF6\",\"gridcolor\":\"white\",\"gridwidth\":2,\"linecolor\":\"white\",\"showbackground\":true,\"ticks\":\"\",\"zerolinecolor\":\"white\"}},\"shapedefaults\":{\"line\":{\"color\":\"#2a3f5f\"}},\"ternary\":{\"aaxis\":{\"gridcolor\":\"white\",\"linecolor\":\"white\",\"ticks\":\"\"},\"baxis\":{\"gridcolor\":\"white\",\"linecolor\":\"white\",\"ticks\":\"\"},\"bgcolor\":\"#E5ECF6\",\"caxis\":{\"gridcolor\":\"white\",\"linecolor\":\"white\",\"ticks\":\"\"}},\"title\":{\"x\":0.05},\"xaxis\":{\"automargin\":true,\"gridcolor\":\"white\",\"linecolor\":\"white\",\"ticks\":\"\",\"title\":{\"standoff\":15},\"zerolinecolor\":\"white\",\"zerolinewidth\":2},\"yaxis\":{\"automargin\":true,\"gridcolor\":\"white\",\"linecolor\":\"white\",\"ticks\":\"\",\"title\":{\"standoff\":15},\"zerolinecolor\":\"white\",\"zerolinewidth\":2}}},\"xaxis\":{\"anchor\":\"y\",\"domain\":[0.0,1.0],\"title\":{\"text\":\"Continent\"},\"tickangle\":45},\"yaxis\":{\"anchor\":\"x\",\"domain\":[0.0,1.0],\"title\":{\"text\":\"Area (km\\u00b2)\"}},\"legend\":{\"title\":{\"text\":\"Country\"},\"tracegroupgap\":0},\"margin\":{\"t\":60},\"barmode\":\"relative\",\"title\":{\"text\":\"Area (km\\u00b2)\",\"x\":0.5,\"font\":{\"size\":16,\"color\":\"DarkSlateBlue\"}}},                        {\"responsive\": true}                    ).then(function(){\n",
       "                            \n",
       "var gd = document.getElementById('438a5d12-5d12-46c3-bd68-a5b66424cc16');\n",
       "var x = new MutationObserver(function (mutations, observer) {{\n",
       "        var display = window.getComputedStyle(gd).display;\n",
       "        if (!display || display === 'none') {{\n",
       "            console.log([gd, 'removed!']);\n",
       "            Plotly.purge(gd);\n",
       "            observer.disconnect();\n",
       "        }}\n",
       "}});\n",
       "\n",
       "// Listen for the removal of the full notebook cells\n",
       "var notebookContainer = gd.closest('#notebook-container');\n",
       "if (notebookContainer) {{\n",
       "    x.observe(notebookContainer, {childList: true});\n",
       "}}\n",
       "\n",
       "// Listen for the clearing of the current output cell\n",
       "var outputEl = gd.closest('.output');\n",
       "if (outputEl) {{\n",
       "    x.observe(outputEl, {childList: true});\n",
       "}}\n",
       "\n",
       "                        })                };                });            </script>        </div>"
      ]
     },
     "metadata": {},
     "output_type": "display_data"
    }
   ],
   "source": [
    "df1 = df.sort_values(by = 'Area (km²)', ascending = False).reset_index().head(20)\n",
    "fig = px.bar(df1,\n",
    "             x = 'Continent',\n",
    "             y =  'Area (km²)',\n",
    "             color = 'Country',\n",
    "             color_continuous_scale = 'twilight',\n",
    "             \n",
    "            \n",
    "            )\n",
    "\n",
    "fig.update_layout(title ='Area (km²)',\n",
    "                  title_x = 0.5,\n",
    "                  title_font = dict(size = 16, color = 'DarkSlateBlue'),\n",
    "                  xaxis = dict(title = 'Continent', tickangle = 45),\n",
    "                  yaxis = dict(title = 'Area (km²)'))\n",
    "\n",
    "fig.show()"
   ]
  },
  {
   "cell_type": "markdown",
   "id": "0142b289",
   "metadata": {},
   "source": [
    "#### Cintinent Density : "
   ]
  },
  {
   "cell_type": "code",
   "execution_count": 80,
   "id": "38177f3d",
   "metadata": {},
   "outputs": [
    {
     "data": {
      "application/vnd.plotly.v1+json": {
       "config": {
        "plotlyServerURL": "https://plot.ly"
       },
       "data": [
        {
         "alignmentgroup": "True",
         "hovertemplate": "Country=Macau<br>Continent=%{x}<br>Density (per km²)=%{y}<extra></extra>",
         "legendgroup": "Macau",
         "marker": {
          "color": "#636efa",
          "pattern": {
           "shape": ""
          }
         },
         "name": "Macau",
         "offsetgroup": "Macau",
         "orientation": "v",
         "showlegend": true,
         "textposition": "auto",
         "type": "bar",
         "x": [
          "Asia"
         ],
         "xaxis": "x",
         "y": [
          23172.2667
         ],
         "yaxis": "y"
        },
        {
         "alignmentgroup": "True",
         "hovertemplate": "Country=Monaco<br>Continent=%{x}<br>Density (per km²)=%{y}<extra></extra>",
         "legendgroup": "Monaco",
         "marker": {
          "color": "#EF553B",
          "pattern": {
           "shape": ""
          }
         },
         "name": "Monaco",
         "offsetgroup": "Monaco",
         "orientation": "v",
         "showlegend": true,
         "textposition": "auto",
         "type": "bar",
         "x": [
          "Europe"
         ],
         "xaxis": "x",
         "y": [
          18234.5
         ],
         "yaxis": "y"
        },
        {
         "alignmentgroup": "True",
         "hovertemplate": "Country=Singapore<br>Continent=%{x}<br>Density (per km²)=%{y}<extra></extra>",
         "legendgroup": "Singapore",
         "marker": {
          "color": "#00cc96",
          "pattern": {
           "shape": ""
          }
         },
         "name": "Singapore",
         "offsetgroup": "Singapore",
         "orientation": "v",
         "showlegend": true,
         "textposition": "auto",
         "type": "bar",
         "x": [
          "Asia"
         ],
         "xaxis": "x",
         "y": [
          8416.4634
         ],
         "yaxis": "y"
        },
        {
         "alignmentgroup": "True",
         "hovertemplate": "Country=Hong Kong<br>Continent=%{x}<br>Density (per km²)=%{y}<extra></extra>",
         "legendgroup": "Hong Kong",
         "marker": {
          "color": "#ab63fa",
          "pattern": {
           "shape": ""
          }
         },
         "name": "Hong Kong",
         "offsetgroup": "Hong Kong",
         "orientation": "v",
         "showlegend": true,
         "textposition": "auto",
         "type": "bar",
         "x": [
          "Asia"
         ],
         "xaxis": "x",
         "y": [
          6783.3922
         ],
         "yaxis": "y"
        },
        {
         "alignmentgroup": "True",
         "hovertemplate": "Country=Gibraltar<br>Continent=%{x}<br>Density (per km²)=%{y}<extra></extra>",
         "legendgroup": "Gibraltar",
         "marker": {
          "color": "#FFA15A",
          "pattern": {
           "shape": ""
          }
         },
         "name": "Gibraltar",
         "offsetgroup": "Gibraltar",
         "orientation": "v",
         "showlegend": true,
         "textposition": "auto",
         "type": "bar",
         "x": [
          "Europe"
         ],
         "xaxis": "x",
         "y": [
          5441.5
         ],
         "yaxis": "y"
        },
        {
         "alignmentgroup": "True",
         "hovertemplate": "Country=Bahrain<br>Continent=%{x}<br>Density (per km²)=%{y}<extra></extra>",
         "legendgroup": "Bahrain",
         "marker": {
          "color": "#19d3f3",
          "pattern": {
           "shape": ""
          }
         },
         "name": "Bahrain",
         "offsetgroup": "Bahrain",
         "orientation": "v",
         "showlegend": true,
         "textposition": "auto",
         "type": "bar",
         "x": [
          "Asia"
         ],
         "xaxis": "x",
         "y": [
          1924.4876
         ],
         "yaxis": "y"
        },
        {
         "alignmentgroup": "True",
         "hovertemplate": "Country=Maldives<br>Continent=%{x}<br>Density (per km²)=%{y}<extra></extra>",
         "legendgroup": "Maldives",
         "marker": {
          "color": "#FF6692",
          "pattern": {
           "shape": ""
          }
         },
         "name": "Maldives",
         "offsetgroup": "Maldives",
         "orientation": "v",
         "showlegend": true,
         "textposition": "auto",
         "type": "bar",
         "x": [
          "Asia"
         ],
         "xaxis": "x",
         "y": [
          1745.9567
         ],
         "yaxis": "y"
        },
        {
         "alignmentgroup": "True",
         "hovertemplate": "Country=Malta<br>Continent=%{x}<br>Density (per km²)=%{y}<extra></extra>",
         "legendgroup": "Malta",
         "marker": {
          "color": "#B6E880",
          "pattern": {
           "shape": ""
          }
         },
         "name": "Malta",
         "offsetgroup": "Malta",
         "orientation": "v",
         "showlegend": true,
         "textposition": "auto",
         "type": "bar",
         "x": [
          "Europe"
         ],
         "xaxis": "x",
         "y": [
          1687.6139
         ],
         "yaxis": "y"
        },
        {
         "alignmentgroup": "True",
         "hovertemplate": "Country=Sint Maarten<br>Continent=%{x}<br>Density (per km²)=%{y}<extra></extra>",
         "legendgroup": "Sint Maarten",
         "marker": {
          "color": "#FF97FF",
          "pattern": {
           "shape": ""
          }
         },
         "name": "Sint Maarten",
         "offsetgroup": "Sint Maarten",
         "orientation": "v",
         "showlegend": true,
         "textposition": "auto",
         "type": "bar",
         "x": [
          "North America"
         ],
         "xaxis": "x",
         "y": [
          1299.2647
         ],
         "yaxis": "y"
        },
        {
         "alignmentgroup": "True",
         "hovertemplate": "Country=Bermuda<br>Continent=%{x}<br>Density (per km²)=%{y}<extra></extra>",
         "legendgroup": "Bermuda",
         "marker": {
          "color": "#FECB52",
          "pattern": {
           "shape": ""
          }
         },
         "name": "Bermuda",
         "offsetgroup": "Bermuda",
         "orientation": "v",
         "showlegend": true,
         "textposition": "auto",
         "type": "bar",
         "x": [
          "North America"
         ],
         "xaxis": "x",
         "y": [
          1188.5926
         ],
         "yaxis": "y"
        },
        {
         "alignmentgroup": "True",
         "hovertemplate": "Country=Bangladesh<br>Continent=%{x}<br>Density (per km²)=%{y}<extra></extra>",
         "legendgroup": "Bangladesh",
         "marker": {
          "color": "#636efa",
          "pattern": {
           "shape": ""
          }
         },
         "name": "Bangladesh",
         "offsetgroup": "Bangladesh",
         "orientation": "v",
         "showlegend": true,
         "textposition": "auto",
         "type": "bar",
         "x": [
          "Asia"
         ],
         "xaxis": "x",
         "y": [
          1160.035
         ],
         "yaxis": "y"
        },
        {
         "alignmentgroup": "True",
         "hovertemplate": "Country=Jersey<br>Continent=%{x}<br>Density (per km²)=%{y}<extra></extra>",
         "legendgroup": "Jersey",
         "marker": {
          "color": "#EF553B",
          "pattern": {
           "shape": ""
          }
         },
         "name": "Jersey",
         "offsetgroup": "Jersey",
         "orientation": "v",
         "showlegend": true,
         "textposition": "auto",
         "type": "bar",
         "x": [
          "Europe"
         ],
         "xaxis": "x",
         "y": [
          954.9828
         ],
         "yaxis": "y"
        },
        {
         "alignmentgroup": "True",
         "hovertemplate": "Country=Mayotte<br>Continent=%{x}<br>Density (per km²)=%{y}<extra></extra>",
         "legendgroup": "Mayotte",
         "marker": {
          "color": "#00cc96",
          "pattern": {
           "shape": ""
          }
         },
         "name": "Mayotte",
         "offsetgroup": "Mayotte",
         "orientation": "v",
         "showlegend": true,
         "textposition": "auto",
         "type": "bar",
         "x": [
          "Africa"
         ],
         "xaxis": "x",
         "y": [
          871.9278
         ],
         "yaxis": "y"
        },
        {
         "alignmentgroup": "True",
         "hovertemplate": "Country=Palestine<br>Continent=%{x}<br>Density (per km²)=%{y}<extra></extra>",
         "legendgroup": "Palestine",
         "marker": {
          "color": "#ab63fa",
          "pattern": {
           "shape": ""
          }
         },
         "name": "Palestine",
         "offsetgroup": "Palestine",
         "orientation": "v",
         "showlegend": true,
         "textposition": "auto",
         "type": "bar",
         "x": [
          "Asia"
         ],
         "xaxis": "x",
         "y": [
          844.063
         ],
         "yaxis": "y"
        },
        {
         "alignmentgroup": "True",
         "hovertemplate": "Country=Guernsey<br>Continent=%{x}<br>Density (per km²)=%{y}<extra></extra>",
         "legendgroup": "Guernsey",
         "marker": {
          "color": "#FFA15A",
          "pattern": {
           "shape": ""
          }
         },
         "name": "Guernsey",
         "offsetgroup": "Guernsey",
         "orientation": "v",
         "showlegend": true,
         "textposition": "auto",
         "type": "bar",
         "x": [
          "Europe"
         ],
         "xaxis": "x",
         "y": [
          811.5513
         ],
         "yaxis": "y"
        },
        {
         "alignmentgroup": "True",
         "hovertemplate": "Country=Taiwan<br>Continent=%{x}<br>Density (per km²)=%{y}<extra></extra>",
         "legendgroup": "Taiwan",
         "marker": {
          "color": "#19d3f3",
          "pattern": {
           "shape": ""
          }
         },
         "name": "Taiwan",
         "offsetgroup": "Taiwan",
         "orientation": "v",
         "showlegend": true,
         "textposition": "auto",
         "type": "bar",
         "x": [
          "Asia"
         ],
         "xaxis": "x",
         "y": [
          660.1662
         ],
         "yaxis": "y"
        },
        {
         "alignmentgroup": "True",
         "hovertemplate": "Country=Barbados<br>Continent=%{x}<br>Density (per km²)=%{y}<extra></extra>",
         "legendgroup": "Barbados",
         "marker": {
          "color": "#FF6692",
          "pattern": {
           "shape": ""
          }
         },
         "name": "Barbados",
         "offsetgroup": "Barbados",
         "orientation": "v",
         "showlegend": true,
         "textposition": "auto",
         "type": "bar",
         "x": [
          "North America"
         ],
         "xaxis": "x",
         "y": [
          654.9651
         ],
         "yaxis": "y"
        },
        {
         "alignmentgroup": "True",
         "hovertemplate": "Country=Mauritius<br>Continent=%{x}<br>Density (per km²)=%{y}<extra></extra>",
         "legendgroup": "Mauritius",
         "marker": {
          "color": "#B6E880",
          "pattern": {
           "shape": ""
          }
         },
         "name": "Mauritius",
         "offsetgroup": "Mauritius",
         "orientation": "v",
         "showlegend": true,
         "textposition": "auto",
         "type": "bar",
         "x": [
          "Africa"
         ],
         "xaxis": "x",
         "y": [
          636.9946
         ],
         "yaxis": "y"
        },
        {
         "alignmentgroup": "True",
         "hovertemplate": "Country=Nauru<br>Continent=%{x}<br>Density (per km²)=%{y}<extra></extra>",
         "legendgroup": "Nauru",
         "marker": {
          "color": "#FF97FF",
          "pattern": {
           "shape": ""
          }
         },
         "name": "Nauru",
         "offsetgroup": "Nauru",
         "orientation": "v",
         "showlegend": true,
         "textposition": "auto",
         "type": "bar",
         "x": [
          "Oceania"
         ],
         "xaxis": "x",
         "y": [
          603.2381
         ],
         "yaxis": "y"
        },
        {
         "alignmentgroup": "True",
         "hovertemplate": "Country=Saint Martin<br>Continent=%{x}<br>Density (per km²)=%{y}<extra></extra>",
         "legendgroup": "Saint Martin",
         "marker": {
          "color": "#FECB52",
          "pattern": {
           "shape": ""
          }
         },
         "name": "Saint Martin",
         "offsetgroup": "Saint Martin",
         "orientation": "v",
         "showlegend": true,
         "textposition": "auto",
         "type": "bar",
         "x": [
          "North America"
         ],
         "xaxis": "x",
         "y": [
          599.8302
         ],
         "yaxis": "y"
        }
       ],
       "layout": {
        "barmode": "relative",
        "legend": {
         "title": {
          "text": "Country"
         },
         "tracegroupgap": 0
        },
        "margin": {
         "t": 60
        },
        "template": {
         "data": {
          "bar": [
           {
            "error_x": {
             "color": "#2a3f5f"
            },
            "error_y": {
             "color": "#2a3f5f"
            },
            "marker": {
             "line": {
              "color": "#E5ECF6",
              "width": 0.5
             },
             "pattern": {
              "fillmode": "overlay",
              "size": 10,
              "solidity": 0.2
             }
            },
            "type": "bar"
           }
          ],
          "barpolar": [
           {
            "marker": {
             "line": {
              "color": "#E5ECF6",
              "width": 0.5
             },
             "pattern": {
              "fillmode": "overlay",
              "size": 10,
              "solidity": 0.2
             }
            },
            "type": "barpolar"
           }
          ],
          "carpet": [
           {
            "aaxis": {
             "endlinecolor": "#2a3f5f",
             "gridcolor": "white",
             "linecolor": "white",
             "minorgridcolor": "white",
             "startlinecolor": "#2a3f5f"
            },
            "baxis": {
             "endlinecolor": "#2a3f5f",
             "gridcolor": "white",
             "linecolor": "white",
             "minorgridcolor": "white",
             "startlinecolor": "#2a3f5f"
            },
            "type": "carpet"
           }
          ],
          "choropleth": [
           {
            "colorbar": {
             "outlinewidth": 0,
             "ticks": ""
            },
            "type": "choropleth"
           }
          ],
          "contour": [
           {
            "colorbar": {
             "outlinewidth": 0,
             "ticks": ""
            },
            "colorscale": [
             [
              0,
              "#0d0887"
             ],
             [
              0.1111111111111111,
              "#46039f"
             ],
             [
              0.2222222222222222,
              "#7201a8"
             ],
             [
              0.3333333333333333,
              "#9c179e"
             ],
             [
              0.4444444444444444,
              "#bd3786"
             ],
             [
              0.5555555555555556,
              "#d8576b"
             ],
             [
              0.6666666666666666,
              "#ed7953"
             ],
             [
              0.7777777777777778,
              "#fb9f3a"
             ],
             [
              0.8888888888888888,
              "#fdca26"
             ],
             [
              1,
              "#f0f921"
             ]
            ],
            "type": "contour"
           }
          ],
          "contourcarpet": [
           {
            "colorbar": {
             "outlinewidth": 0,
             "ticks": ""
            },
            "type": "contourcarpet"
           }
          ],
          "heatmap": [
           {
            "colorbar": {
             "outlinewidth": 0,
             "ticks": ""
            },
            "colorscale": [
             [
              0,
              "#0d0887"
             ],
             [
              0.1111111111111111,
              "#46039f"
             ],
             [
              0.2222222222222222,
              "#7201a8"
             ],
             [
              0.3333333333333333,
              "#9c179e"
             ],
             [
              0.4444444444444444,
              "#bd3786"
             ],
             [
              0.5555555555555556,
              "#d8576b"
             ],
             [
              0.6666666666666666,
              "#ed7953"
             ],
             [
              0.7777777777777778,
              "#fb9f3a"
             ],
             [
              0.8888888888888888,
              "#fdca26"
             ],
             [
              1,
              "#f0f921"
             ]
            ],
            "type": "heatmap"
           }
          ],
          "heatmapgl": [
           {
            "colorbar": {
             "outlinewidth": 0,
             "ticks": ""
            },
            "colorscale": [
             [
              0,
              "#0d0887"
             ],
             [
              0.1111111111111111,
              "#46039f"
             ],
             [
              0.2222222222222222,
              "#7201a8"
             ],
             [
              0.3333333333333333,
              "#9c179e"
             ],
             [
              0.4444444444444444,
              "#bd3786"
             ],
             [
              0.5555555555555556,
              "#d8576b"
             ],
             [
              0.6666666666666666,
              "#ed7953"
             ],
             [
              0.7777777777777778,
              "#fb9f3a"
             ],
             [
              0.8888888888888888,
              "#fdca26"
             ],
             [
              1,
              "#f0f921"
             ]
            ],
            "type": "heatmapgl"
           }
          ],
          "histogram": [
           {
            "marker": {
             "pattern": {
              "fillmode": "overlay",
              "size": 10,
              "solidity": 0.2
             }
            },
            "type": "histogram"
           }
          ],
          "histogram2d": [
           {
            "colorbar": {
             "outlinewidth": 0,
             "ticks": ""
            },
            "colorscale": [
             [
              0,
              "#0d0887"
             ],
             [
              0.1111111111111111,
              "#46039f"
             ],
             [
              0.2222222222222222,
              "#7201a8"
             ],
             [
              0.3333333333333333,
              "#9c179e"
             ],
             [
              0.4444444444444444,
              "#bd3786"
             ],
             [
              0.5555555555555556,
              "#d8576b"
             ],
             [
              0.6666666666666666,
              "#ed7953"
             ],
             [
              0.7777777777777778,
              "#fb9f3a"
             ],
             [
              0.8888888888888888,
              "#fdca26"
             ],
             [
              1,
              "#f0f921"
             ]
            ],
            "type": "histogram2d"
           }
          ],
          "histogram2dcontour": [
           {
            "colorbar": {
             "outlinewidth": 0,
             "ticks": ""
            },
            "colorscale": [
             [
              0,
              "#0d0887"
             ],
             [
              0.1111111111111111,
              "#46039f"
             ],
             [
              0.2222222222222222,
              "#7201a8"
             ],
             [
              0.3333333333333333,
              "#9c179e"
             ],
             [
              0.4444444444444444,
              "#bd3786"
             ],
             [
              0.5555555555555556,
              "#d8576b"
             ],
             [
              0.6666666666666666,
              "#ed7953"
             ],
             [
              0.7777777777777778,
              "#fb9f3a"
             ],
             [
              0.8888888888888888,
              "#fdca26"
             ],
             [
              1,
              "#f0f921"
             ]
            ],
            "type": "histogram2dcontour"
           }
          ],
          "mesh3d": [
           {
            "colorbar": {
             "outlinewidth": 0,
             "ticks": ""
            },
            "type": "mesh3d"
           }
          ],
          "parcoords": [
           {
            "line": {
             "colorbar": {
              "outlinewidth": 0,
              "ticks": ""
             }
            },
            "type": "parcoords"
           }
          ],
          "pie": [
           {
            "automargin": true,
            "type": "pie"
           }
          ],
          "scatter": [
           {
            "marker": {
             "colorbar": {
              "outlinewidth": 0,
              "ticks": ""
             }
            },
            "type": "scatter"
           }
          ],
          "scatter3d": [
           {
            "line": {
             "colorbar": {
              "outlinewidth": 0,
              "ticks": ""
             }
            },
            "marker": {
             "colorbar": {
              "outlinewidth": 0,
              "ticks": ""
             }
            },
            "type": "scatter3d"
           }
          ],
          "scattercarpet": [
           {
            "marker": {
             "colorbar": {
              "outlinewidth": 0,
              "ticks": ""
             }
            },
            "type": "scattercarpet"
           }
          ],
          "scattergeo": [
           {
            "marker": {
             "colorbar": {
              "outlinewidth": 0,
              "ticks": ""
             }
            },
            "type": "scattergeo"
           }
          ],
          "scattergl": [
           {
            "marker": {
             "colorbar": {
              "outlinewidth": 0,
              "ticks": ""
             }
            },
            "type": "scattergl"
           }
          ],
          "scattermapbox": [
           {
            "marker": {
             "colorbar": {
              "outlinewidth": 0,
              "ticks": ""
             }
            },
            "type": "scattermapbox"
           }
          ],
          "scatterpolar": [
           {
            "marker": {
             "colorbar": {
              "outlinewidth": 0,
              "ticks": ""
             }
            },
            "type": "scatterpolar"
           }
          ],
          "scatterpolargl": [
           {
            "marker": {
             "colorbar": {
              "outlinewidth": 0,
              "ticks": ""
             }
            },
            "type": "scatterpolargl"
           }
          ],
          "scatterternary": [
           {
            "marker": {
             "colorbar": {
              "outlinewidth": 0,
              "ticks": ""
             }
            },
            "type": "scatterternary"
           }
          ],
          "surface": [
           {
            "colorbar": {
             "outlinewidth": 0,
             "ticks": ""
            },
            "colorscale": [
             [
              0,
              "#0d0887"
             ],
             [
              0.1111111111111111,
              "#46039f"
             ],
             [
              0.2222222222222222,
              "#7201a8"
             ],
             [
              0.3333333333333333,
              "#9c179e"
             ],
             [
              0.4444444444444444,
              "#bd3786"
             ],
             [
              0.5555555555555556,
              "#d8576b"
             ],
             [
              0.6666666666666666,
              "#ed7953"
             ],
             [
              0.7777777777777778,
              "#fb9f3a"
             ],
             [
              0.8888888888888888,
              "#fdca26"
             ],
             [
              1,
              "#f0f921"
             ]
            ],
            "type": "surface"
           }
          ],
          "table": [
           {
            "cells": {
             "fill": {
              "color": "#EBF0F8"
             },
             "line": {
              "color": "white"
             }
            },
            "header": {
             "fill": {
              "color": "#C8D4E3"
             },
             "line": {
              "color": "white"
             }
            },
            "type": "table"
           }
          ]
         },
         "layout": {
          "annotationdefaults": {
           "arrowcolor": "#2a3f5f",
           "arrowhead": 0,
           "arrowwidth": 1
          },
          "autotypenumbers": "strict",
          "coloraxis": {
           "colorbar": {
            "outlinewidth": 0,
            "ticks": ""
           }
          },
          "colorscale": {
           "diverging": [
            [
             0,
             "#8e0152"
            ],
            [
             0.1,
             "#c51b7d"
            ],
            [
             0.2,
             "#de77ae"
            ],
            [
             0.3,
             "#f1b6da"
            ],
            [
             0.4,
             "#fde0ef"
            ],
            [
             0.5,
             "#f7f7f7"
            ],
            [
             0.6,
             "#e6f5d0"
            ],
            [
             0.7,
             "#b8e186"
            ],
            [
             0.8,
             "#7fbc41"
            ],
            [
             0.9,
             "#4d9221"
            ],
            [
             1,
             "#276419"
            ]
           ],
           "sequential": [
            [
             0,
             "#0d0887"
            ],
            [
             0.1111111111111111,
             "#46039f"
            ],
            [
             0.2222222222222222,
             "#7201a8"
            ],
            [
             0.3333333333333333,
             "#9c179e"
            ],
            [
             0.4444444444444444,
             "#bd3786"
            ],
            [
             0.5555555555555556,
             "#d8576b"
            ],
            [
             0.6666666666666666,
             "#ed7953"
            ],
            [
             0.7777777777777778,
             "#fb9f3a"
            ],
            [
             0.8888888888888888,
             "#fdca26"
            ],
            [
             1,
             "#f0f921"
            ]
           ],
           "sequentialminus": [
            [
             0,
             "#0d0887"
            ],
            [
             0.1111111111111111,
             "#46039f"
            ],
            [
             0.2222222222222222,
             "#7201a8"
            ],
            [
             0.3333333333333333,
             "#9c179e"
            ],
            [
             0.4444444444444444,
             "#bd3786"
            ],
            [
             0.5555555555555556,
             "#d8576b"
            ],
            [
             0.6666666666666666,
             "#ed7953"
            ],
            [
             0.7777777777777778,
             "#fb9f3a"
            ],
            [
             0.8888888888888888,
             "#fdca26"
            ],
            [
             1,
             "#f0f921"
            ]
           ]
          },
          "colorway": [
           "#636efa",
           "#EF553B",
           "#00cc96",
           "#ab63fa",
           "#FFA15A",
           "#19d3f3",
           "#FF6692",
           "#B6E880",
           "#FF97FF",
           "#FECB52"
          ],
          "font": {
           "color": "#2a3f5f"
          },
          "geo": {
           "bgcolor": "white",
           "lakecolor": "white",
           "landcolor": "#E5ECF6",
           "showlakes": true,
           "showland": true,
           "subunitcolor": "white"
          },
          "hoverlabel": {
           "align": "left"
          },
          "hovermode": "closest",
          "mapbox": {
           "style": "light"
          },
          "paper_bgcolor": "white",
          "plot_bgcolor": "#E5ECF6",
          "polar": {
           "angularaxis": {
            "gridcolor": "white",
            "linecolor": "white",
            "ticks": ""
           },
           "bgcolor": "#E5ECF6",
           "radialaxis": {
            "gridcolor": "white",
            "linecolor": "white",
            "ticks": ""
           }
          },
          "scene": {
           "xaxis": {
            "backgroundcolor": "#E5ECF6",
            "gridcolor": "white",
            "gridwidth": 2,
            "linecolor": "white",
            "showbackground": true,
            "ticks": "",
            "zerolinecolor": "white"
           },
           "yaxis": {
            "backgroundcolor": "#E5ECF6",
            "gridcolor": "white",
            "gridwidth": 2,
            "linecolor": "white",
            "showbackground": true,
            "ticks": "",
            "zerolinecolor": "white"
           },
           "zaxis": {
            "backgroundcolor": "#E5ECF6",
            "gridcolor": "white",
            "gridwidth": 2,
            "linecolor": "white",
            "showbackground": true,
            "ticks": "",
            "zerolinecolor": "white"
           }
          },
          "shapedefaults": {
           "line": {
            "color": "#2a3f5f"
           }
          },
          "ternary": {
           "aaxis": {
            "gridcolor": "white",
            "linecolor": "white",
            "ticks": ""
           },
           "baxis": {
            "gridcolor": "white",
            "linecolor": "white",
            "ticks": ""
           },
           "bgcolor": "#E5ECF6",
           "caxis": {
            "gridcolor": "white",
            "linecolor": "white",
            "ticks": ""
           }
          },
          "title": {
           "x": 0.05
          },
          "xaxis": {
           "automargin": true,
           "gridcolor": "white",
           "linecolor": "white",
           "ticks": "",
           "title": {
            "standoff": 15
           },
           "zerolinecolor": "white",
           "zerolinewidth": 2
          },
          "yaxis": {
           "automargin": true,
           "gridcolor": "white",
           "linecolor": "white",
           "ticks": "",
           "title": {
            "standoff": 15
           },
           "zerolinecolor": "white",
           "zerolinewidth": 2
          }
         }
        },
        "title": {
         "font": {
          "color": "DarkSlateBlue",
          "size": 16
         },
         "text": "Density (per km²)",
         "x": 0.5
        },
        "xaxis": {
         "anchor": "y",
         "domain": [
          0,
          1
         ],
         "tickangle": 45,
         "title": {
          "text": "Continent"
         }
        },
        "yaxis": {
         "anchor": "x",
         "domain": [
          0,
          1
         ],
         "title": {
          "text": "Density (per km²)"
         }
        }
       }
      },
      "text/html": [
       "<div>                            <div id=\"e693f075-dc48-4edd-a49c-f40c2e65a3ef\" class=\"plotly-graph-div\" style=\"height:525px; width:100%;\"></div>            <script type=\"text/javascript\">                require([\"plotly\"], function(Plotly) {                    window.PLOTLYENV=window.PLOTLYENV || {};                                    if (document.getElementById(\"e693f075-dc48-4edd-a49c-f40c2e65a3ef\")) {                    Plotly.newPlot(                        \"e693f075-dc48-4edd-a49c-f40c2e65a3ef\",                        [{\"alignmentgroup\":\"True\",\"hovertemplate\":\"Country=Macau<br>Continent=%{x}<br>Density (per km\\u00b2)=%{y}<extra></extra>\",\"legendgroup\":\"Macau\",\"marker\":{\"color\":\"#636efa\",\"pattern\":{\"shape\":\"\"}},\"name\":\"Macau\",\"offsetgroup\":\"Macau\",\"orientation\":\"v\",\"showlegend\":true,\"textposition\":\"auto\",\"x\":[\"Asia\"],\"xaxis\":\"x\",\"y\":[23172.2667],\"yaxis\":\"y\",\"type\":\"bar\"},{\"alignmentgroup\":\"True\",\"hovertemplate\":\"Country=Monaco<br>Continent=%{x}<br>Density (per km\\u00b2)=%{y}<extra></extra>\",\"legendgroup\":\"Monaco\",\"marker\":{\"color\":\"#EF553B\",\"pattern\":{\"shape\":\"\"}},\"name\":\"Monaco\",\"offsetgroup\":\"Monaco\",\"orientation\":\"v\",\"showlegend\":true,\"textposition\":\"auto\",\"x\":[\"Europe\"],\"xaxis\":\"x\",\"y\":[18234.5],\"yaxis\":\"y\",\"type\":\"bar\"},{\"alignmentgroup\":\"True\",\"hovertemplate\":\"Country=Singapore<br>Continent=%{x}<br>Density (per km\\u00b2)=%{y}<extra></extra>\",\"legendgroup\":\"Singapore\",\"marker\":{\"color\":\"#00cc96\",\"pattern\":{\"shape\":\"\"}},\"name\":\"Singapore\",\"offsetgroup\":\"Singapore\",\"orientation\":\"v\",\"showlegend\":true,\"textposition\":\"auto\",\"x\":[\"Asia\"],\"xaxis\":\"x\",\"y\":[8416.4634],\"yaxis\":\"y\",\"type\":\"bar\"},{\"alignmentgroup\":\"True\",\"hovertemplate\":\"Country=Hong Kong<br>Continent=%{x}<br>Density (per km\\u00b2)=%{y}<extra></extra>\",\"legendgroup\":\"Hong Kong\",\"marker\":{\"color\":\"#ab63fa\",\"pattern\":{\"shape\":\"\"}},\"name\":\"Hong Kong\",\"offsetgroup\":\"Hong Kong\",\"orientation\":\"v\",\"showlegend\":true,\"textposition\":\"auto\",\"x\":[\"Asia\"],\"xaxis\":\"x\",\"y\":[6783.3922],\"yaxis\":\"y\",\"type\":\"bar\"},{\"alignmentgroup\":\"True\",\"hovertemplate\":\"Country=Gibraltar<br>Continent=%{x}<br>Density (per km\\u00b2)=%{y}<extra></extra>\",\"legendgroup\":\"Gibraltar\",\"marker\":{\"color\":\"#FFA15A\",\"pattern\":{\"shape\":\"\"}},\"name\":\"Gibraltar\",\"offsetgroup\":\"Gibraltar\",\"orientation\":\"v\",\"showlegend\":true,\"textposition\":\"auto\",\"x\":[\"Europe\"],\"xaxis\":\"x\",\"y\":[5441.5],\"yaxis\":\"y\",\"type\":\"bar\"},{\"alignmentgroup\":\"True\",\"hovertemplate\":\"Country=Bahrain<br>Continent=%{x}<br>Density (per km\\u00b2)=%{y}<extra></extra>\",\"legendgroup\":\"Bahrain\",\"marker\":{\"color\":\"#19d3f3\",\"pattern\":{\"shape\":\"\"}},\"name\":\"Bahrain\",\"offsetgroup\":\"Bahrain\",\"orientation\":\"v\",\"showlegend\":true,\"textposition\":\"auto\",\"x\":[\"Asia\"],\"xaxis\":\"x\",\"y\":[1924.4876],\"yaxis\":\"y\",\"type\":\"bar\"},{\"alignmentgroup\":\"True\",\"hovertemplate\":\"Country=Maldives<br>Continent=%{x}<br>Density (per km\\u00b2)=%{y}<extra></extra>\",\"legendgroup\":\"Maldives\",\"marker\":{\"color\":\"#FF6692\",\"pattern\":{\"shape\":\"\"}},\"name\":\"Maldives\",\"offsetgroup\":\"Maldives\",\"orientation\":\"v\",\"showlegend\":true,\"textposition\":\"auto\",\"x\":[\"Asia\"],\"xaxis\":\"x\",\"y\":[1745.9567],\"yaxis\":\"y\",\"type\":\"bar\"},{\"alignmentgroup\":\"True\",\"hovertemplate\":\"Country=Malta<br>Continent=%{x}<br>Density (per km\\u00b2)=%{y}<extra></extra>\",\"legendgroup\":\"Malta\",\"marker\":{\"color\":\"#B6E880\",\"pattern\":{\"shape\":\"\"}},\"name\":\"Malta\",\"offsetgroup\":\"Malta\",\"orientation\":\"v\",\"showlegend\":true,\"textposition\":\"auto\",\"x\":[\"Europe\"],\"xaxis\":\"x\",\"y\":[1687.6139],\"yaxis\":\"y\",\"type\":\"bar\"},{\"alignmentgroup\":\"True\",\"hovertemplate\":\"Country=Sint Maarten<br>Continent=%{x}<br>Density (per km\\u00b2)=%{y}<extra></extra>\",\"legendgroup\":\"Sint Maarten\",\"marker\":{\"color\":\"#FF97FF\",\"pattern\":{\"shape\":\"\"}},\"name\":\"Sint Maarten\",\"offsetgroup\":\"Sint Maarten\",\"orientation\":\"v\",\"showlegend\":true,\"textposition\":\"auto\",\"x\":[\"North America\"],\"xaxis\":\"x\",\"y\":[1299.2647],\"yaxis\":\"y\",\"type\":\"bar\"},{\"alignmentgroup\":\"True\",\"hovertemplate\":\"Country=Bermuda<br>Continent=%{x}<br>Density (per km\\u00b2)=%{y}<extra></extra>\",\"legendgroup\":\"Bermuda\",\"marker\":{\"color\":\"#FECB52\",\"pattern\":{\"shape\":\"\"}},\"name\":\"Bermuda\",\"offsetgroup\":\"Bermuda\",\"orientation\":\"v\",\"showlegend\":true,\"textposition\":\"auto\",\"x\":[\"North America\"],\"xaxis\":\"x\",\"y\":[1188.5926],\"yaxis\":\"y\",\"type\":\"bar\"},{\"alignmentgroup\":\"True\",\"hovertemplate\":\"Country=Bangladesh<br>Continent=%{x}<br>Density (per km\\u00b2)=%{y}<extra></extra>\",\"legendgroup\":\"Bangladesh\",\"marker\":{\"color\":\"#636efa\",\"pattern\":{\"shape\":\"\"}},\"name\":\"Bangladesh\",\"offsetgroup\":\"Bangladesh\",\"orientation\":\"v\",\"showlegend\":true,\"textposition\":\"auto\",\"x\":[\"Asia\"],\"xaxis\":\"x\",\"y\":[1160.035],\"yaxis\":\"y\",\"type\":\"bar\"},{\"alignmentgroup\":\"True\",\"hovertemplate\":\"Country=Jersey<br>Continent=%{x}<br>Density (per km\\u00b2)=%{y}<extra></extra>\",\"legendgroup\":\"Jersey\",\"marker\":{\"color\":\"#EF553B\",\"pattern\":{\"shape\":\"\"}},\"name\":\"Jersey\",\"offsetgroup\":\"Jersey\",\"orientation\":\"v\",\"showlegend\":true,\"textposition\":\"auto\",\"x\":[\"Europe\"],\"xaxis\":\"x\",\"y\":[954.9828],\"yaxis\":\"y\",\"type\":\"bar\"},{\"alignmentgroup\":\"True\",\"hovertemplate\":\"Country=Mayotte<br>Continent=%{x}<br>Density (per km\\u00b2)=%{y}<extra></extra>\",\"legendgroup\":\"Mayotte\",\"marker\":{\"color\":\"#00cc96\",\"pattern\":{\"shape\":\"\"}},\"name\":\"Mayotte\",\"offsetgroup\":\"Mayotte\",\"orientation\":\"v\",\"showlegend\":true,\"textposition\":\"auto\",\"x\":[\"Africa\"],\"xaxis\":\"x\",\"y\":[871.9278],\"yaxis\":\"y\",\"type\":\"bar\"},{\"alignmentgroup\":\"True\",\"hovertemplate\":\"Country=Palestine<br>Continent=%{x}<br>Density (per km\\u00b2)=%{y}<extra></extra>\",\"legendgroup\":\"Palestine\",\"marker\":{\"color\":\"#ab63fa\",\"pattern\":{\"shape\":\"\"}},\"name\":\"Palestine\",\"offsetgroup\":\"Palestine\",\"orientation\":\"v\",\"showlegend\":true,\"textposition\":\"auto\",\"x\":[\"Asia\"],\"xaxis\":\"x\",\"y\":[844.063],\"yaxis\":\"y\",\"type\":\"bar\"},{\"alignmentgroup\":\"True\",\"hovertemplate\":\"Country=Guernsey<br>Continent=%{x}<br>Density (per km\\u00b2)=%{y}<extra></extra>\",\"legendgroup\":\"Guernsey\",\"marker\":{\"color\":\"#FFA15A\",\"pattern\":{\"shape\":\"\"}},\"name\":\"Guernsey\",\"offsetgroup\":\"Guernsey\",\"orientation\":\"v\",\"showlegend\":true,\"textposition\":\"auto\",\"x\":[\"Europe\"],\"xaxis\":\"x\",\"y\":[811.5513],\"yaxis\":\"y\",\"type\":\"bar\"},{\"alignmentgroup\":\"True\",\"hovertemplate\":\"Country=Taiwan<br>Continent=%{x}<br>Density (per km\\u00b2)=%{y}<extra></extra>\",\"legendgroup\":\"Taiwan\",\"marker\":{\"color\":\"#19d3f3\",\"pattern\":{\"shape\":\"\"}},\"name\":\"Taiwan\",\"offsetgroup\":\"Taiwan\",\"orientation\":\"v\",\"showlegend\":true,\"textposition\":\"auto\",\"x\":[\"Asia\"],\"xaxis\":\"x\",\"y\":[660.1662],\"yaxis\":\"y\",\"type\":\"bar\"},{\"alignmentgroup\":\"True\",\"hovertemplate\":\"Country=Barbados<br>Continent=%{x}<br>Density (per km\\u00b2)=%{y}<extra></extra>\",\"legendgroup\":\"Barbados\",\"marker\":{\"color\":\"#FF6692\",\"pattern\":{\"shape\":\"\"}},\"name\":\"Barbados\",\"offsetgroup\":\"Barbados\",\"orientation\":\"v\",\"showlegend\":true,\"textposition\":\"auto\",\"x\":[\"North America\"],\"xaxis\":\"x\",\"y\":[654.9651],\"yaxis\":\"y\",\"type\":\"bar\"},{\"alignmentgroup\":\"True\",\"hovertemplate\":\"Country=Mauritius<br>Continent=%{x}<br>Density (per km\\u00b2)=%{y}<extra></extra>\",\"legendgroup\":\"Mauritius\",\"marker\":{\"color\":\"#B6E880\",\"pattern\":{\"shape\":\"\"}},\"name\":\"Mauritius\",\"offsetgroup\":\"Mauritius\",\"orientation\":\"v\",\"showlegend\":true,\"textposition\":\"auto\",\"x\":[\"Africa\"],\"xaxis\":\"x\",\"y\":[636.9946],\"yaxis\":\"y\",\"type\":\"bar\"},{\"alignmentgroup\":\"True\",\"hovertemplate\":\"Country=Nauru<br>Continent=%{x}<br>Density (per km\\u00b2)=%{y}<extra></extra>\",\"legendgroup\":\"Nauru\",\"marker\":{\"color\":\"#FF97FF\",\"pattern\":{\"shape\":\"\"}},\"name\":\"Nauru\",\"offsetgroup\":\"Nauru\",\"orientation\":\"v\",\"showlegend\":true,\"textposition\":\"auto\",\"x\":[\"Oceania\"],\"xaxis\":\"x\",\"y\":[603.2381],\"yaxis\":\"y\",\"type\":\"bar\"},{\"alignmentgroup\":\"True\",\"hovertemplate\":\"Country=Saint Martin<br>Continent=%{x}<br>Density (per km\\u00b2)=%{y}<extra></extra>\",\"legendgroup\":\"Saint Martin\",\"marker\":{\"color\":\"#FECB52\",\"pattern\":{\"shape\":\"\"}},\"name\":\"Saint Martin\",\"offsetgroup\":\"Saint Martin\",\"orientation\":\"v\",\"showlegend\":true,\"textposition\":\"auto\",\"x\":[\"North America\"],\"xaxis\":\"x\",\"y\":[599.8302],\"yaxis\":\"y\",\"type\":\"bar\"}],                        {\"template\":{\"data\":{\"bar\":[{\"error_x\":{\"color\":\"#2a3f5f\"},\"error_y\":{\"color\":\"#2a3f5f\"},\"marker\":{\"line\":{\"color\":\"#E5ECF6\",\"width\":0.5},\"pattern\":{\"fillmode\":\"overlay\",\"size\":10,\"solidity\":0.2}},\"type\":\"bar\"}],\"barpolar\":[{\"marker\":{\"line\":{\"color\":\"#E5ECF6\",\"width\":0.5},\"pattern\":{\"fillmode\":\"overlay\",\"size\":10,\"solidity\":0.2}},\"type\":\"barpolar\"}],\"carpet\":[{\"aaxis\":{\"endlinecolor\":\"#2a3f5f\",\"gridcolor\":\"white\",\"linecolor\":\"white\",\"minorgridcolor\":\"white\",\"startlinecolor\":\"#2a3f5f\"},\"baxis\":{\"endlinecolor\":\"#2a3f5f\",\"gridcolor\":\"white\",\"linecolor\":\"white\",\"minorgridcolor\":\"white\",\"startlinecolor\":\"#2a3f5f\"},\"type\":\"carpet\"}],\"choropleth\":[{\"colorbar\":{\"outlinewidth\":0,\"ticks\":\"\"},\"type\":\"choropleth\"}],\"contour\":[{\"colorbar\":{\"outlinewidth\":0,\"ticks\":\"\"},\"colorscale\":[[0.0,\"#0d0887\"],[0.1111111111111111,\"#46039f\"],[0.2222222222222222,\"#7201a8\"],[0.3333333333333333,\"#9c179e\"],[0.4444444444444444,\"#bd3786\"],[0.5555555555555556,\"#d8576b\"],[0.6666666666666666,\"#ed7953\"],[0.7777777777777778,\"#fb9f3a\"],[0.8888888888888888,\"#fdca26\"],[1.0,\"#f0f921\"]],\"type\":\"contour\"}],\"contourcarpet\":[{\"colorbar\":{\"outlinewidth\":0,\"ticks\":\"\"},\"type\":\"contourcarpet\"}],\"heatmap\":[{\"colorbar\":{\"outlinewidth\":0,\"ticks\":\"\"},\"colorscale\":[[0.0,\"#0d0887\"],[0.1111111111111111,\"#46039f\"],[0.2222222222222222,\"#7201a8\"],[0.3333333333333333,\"#9c179e\"],[0.4444444444444444,\"#bd3786\"],[0.5555555555555556,\"#d8576b\"],[0.6666666666666666,\"#ed7953\"],[0.7777777777777778,\"#fb9f3a\"],[0.8888888888888888,\"#fdca26\"],[1.0,\"#f0f921\"]],\"type\":\"heatmap\"}],\"heatmapgl\":[{\"colorbar\":{\"outlinewidth\":0,\"ticks\":\"\"},\"colorscale\":[[0.0,\"#0d0887\"],[0.1111111111111111,\"#46039f\"],[0.2222222222222222,\"#7201a8\"],[0.3333333333333333,\"#9c179e\"],[0.4444444444444444,\"#bd3786\"],[0.5555555555555556,\"#d8576b\"],[0.6666666666666666,\"#ed7953\"],[0.7777777777777778,\"#fb9f3a\"],[0.8888888888888888,\"#fdca26\"],[1.0,\"#f0f921\"]],\"type\":\"heatmapgl\"}],\"histogram\":[{\"marker\":{\"pattern\":{\"fillmode\":\"overlay\",\"size\":10,\"solidity\":0.2}},\"type\":\"histogram\"}],\"histogram2d\":[{\"colorbar\":{\"outlinewidth\":0,\"ticks\":\"\"},\"colorscale\":[[0.0,\"#0d0887\"],[0.1111111111111111,\"#46039f\"],[0.2222222222222222,\"#7201a8\"],[0.3333333333333333,\"#9c179e\"],[0.4444444444444444,\"#bd3786\"],[0.5555555555555556,\"#d8576b\"],[0.6666666666666666,\"#ed7953\"],[0.7777777777777778,\"#fb9f3a\"],[0.8888888888888888,\"#fdca26\"],[1.0,\"#f0f921\"]],\"type\":\"histogram2d\"}],\"histogram2dcontour\":[{\"colorbar\":{\"outlinewidth\":0,\"ticks\":\"\"},\"colorscale\":[[0.0,\"#0d0887\"],[0.1111111111111111,\"#46039f\"],[0.2222222222222222,\"#7201a8\"],[0.3333333333333333,\"#9c179e\"],[0.4444444444444444,\"#bd3786\"],[0.5555555555555556,\"#d8576b\"],[0.6666666666666666,\"#ed7953\"],[0.7777777777777778,\"#fb9f3a\"],[0.8888888888888888,\"#fdca26\"],[1.0,\"#f0f921\"]],\"type\":\"histogram2dcontour\"}],\"mesh3d\":[{\"colorbar\":{\"outlinewidth\":0,\"ticks\":\"\"},\"type\":\"mesh3d\"}],\"parcoords\":[{\"line\":{\"colorbar\":{\"outlinewidth\":0,\"ticks\":\"\"}},\"type\":\"parcoords\"}],\"pie\":[{\"automargin\":true,\"type\":\"pie\"}],\"scatter\":[{\"marker\":{\"colorbar\":{\"outlinewidth\":0,\"ticks\":\"\"}},\"type\":\"scatter\"}],\"scatter3d\":[{\"line\":{\"colorbar\":{\"outlinewidth\":0,\"ticks\":\"\"}},\"marker\":{\"colorbar\":{\"outlinewidth\":0,\"ticks\":\"\"}},\"type\":\"scatter3d\"}],\"scattercarpet\":[{\"marker\":{\"colorbar\":{\"outlinewidth\":0,\"ticks\":\"\"}},\"type\":\"scattercarpet\"}],\"scattergeo\":[{\"marker\":{\"colorbar\":{\"outlinewidth\":0,\"ticks\":\"\"}},\"type\":\"scattergeo\"}],\"scattergl\":[{\"marker\":{\"colorbar\":{\"outlinewidth\":0,\"ticks\":\"\"}},\"type\":\"scattergl\"}],\"scattermapbox\":[{\"marker\":{\"colorbar\":{\"outlinewidth\":0,\"ticks\":\"\"}},\"type\":\"scattermapbox\"}],\"scatterpolar\":[{\"marker\":{\"colorbar\":{\"outlinewidth\":0,\"ticks\":\"\"}},\"type\":\"scatterpolar\"}],\"scatterpolargl\":[{\"marker\":{\"colorbar\":{\"outlinewidth\":0,\"ticks\":\"\"}},\"type\":\"scatterpolargl\"}],\"scatterternary\":[{\"marker\":{\"colorbar\":{\"outlinewidth\":0,\"ticks\":\"\"}},\"type\":\"scatterternary\"}],\"surface\":[{\"colorbar\":{\"outlinewidth\":0,\"ticks\":\"\"},\"colorscale\":[[0.0,\"#0d0887\"],[0.1111111111111111,\"#46039f\"],[0.2222222222222222,\"#7201a8\"],[0.3333333333333333,\"#9c179e\"],[0.4444444444444444,\"#bd3786\"],[0.5555555555555556,\"#d8576b\"],[0.6666666666666666,\"#ed7953\"],[0.7777777777777778,\"#fb9f3a\"],[0.8888888888888888,\"#fdca26\"],[1.0,\"#f0f921\"]],\"type\":\"surface\"}],\"table\":[{\"cells\":{\"fill\":{\"color\":\"#EBF0F8\"},\"line\":{\"color\":\"white\"}},\"header\":{\"fill\":{\"color\":\"#C8D4E3\"},\"line\":{\"color\":\"white\"}},\"type\":\"table\"}]},\"layout\":{\"annotationdefaults\":{\"arrowcolor\":\"#2a3f5f\",\"arrowhead\":0,\"arrowwidth\":1},\"autotypenumbers\":\"strict\",\"coloraxis\":{\"colorbar\":{\"outlinewidth\":0,\"ticks\":\"\"}},\"colorscale\":{\"diverging\":[[0,\"#8e0152\"],[0.1,\"#c51b7d\"],[0.2,\"#de77ae\"],[0.3,\"#f1b6da\"],[0.4,\"#fde0ef\"],[0.5,\"#f7f7f7\"],[0.6,\"#e6f5d0\"],[0.7,\"#b8e186\"],[0.8,\"#7fbc41\"],[0.9,\"#4d9221\"],[1,\"#276419\"]],\"sequential\":[[0.0,\"#0d0887\"],[0.1111111111111111,\"#46039f\"],[0.2222222222222222,\"#7201a8\"],[0.3333333333333333,\"#9c179e\"],[0.4444444444444444,\"#bd3786\"],[0.5555555555555556,\"#d8576b\"],[0.6666666666666666,\"#ed7953\"],[0.7777777777777778,\"#fb9f3a\"],[0.8888888888888888,\"#fdca26\"],[1.0,\"#f0f921\"]],\"sequentialminus\":[[0.0,\"#0d0887\"],[0.1111111111111111,\"#46039f\"],[0.2222222222222222,\"#7201a8\"],[0.3333333333333333,\"#9c179e\"],[0.4444444444444444,\"#bd3786\"],[0.5555555555555556,\"#d8576b\"],[0.6666666666666666,\"#ed7953\"],[0.7777777777777778,\"#fb9f3a\"],[0.8888888888888888,\"#fdca26\"],[1.0,\"#f0f921\"]]},\"colorway\":[\"#636efa\",\"#EF553B\",\"#00cc96\",\"#ab63fa\",\"#FFA15A\",\"#19d3f3\",\"#FF6692\",\"#B6E880\",\"#FF97FF\",\"#FECB52\"],\"font\":{\"color\":\"#2a3f5f\"},\"geo\":{\"bgcolor\":\"white\",\"lakecolor\":\"white\",\"landcolor\":\"#E5ECF6\",\"showlakes\":true,\"showland\":true,\"subunitcolor\":\"white\"},\"hoverlabel\":{\"align\":\"left\"},\"hovermode\":\"closest\",\"mapbox\":{\"style\":\"light\"},\"paper_bgcolor\":\"white\",\"plot_bgcolor\":\"#E5ECF6\",\"polar\":{\"angularaxis\":{\"gridcolor\":\"white\",\"linecolor\":\"white\",\"ticks\":\"\"},\"bgcolor\":\"#E5ECF6\",\"radialaxis\":{\"gridcolor\":\"white\",\"linecolor\":\"white\",\"ticks\":\"\"}},\"scene\":{\"xaxis\":{\"backgroundcolor\":\"#E5ECF6\",\"gridcolor\":\"white\",\"gridwidth\":2,\"linecolor\":\"white\",\"showbackground\":true,\"ticks\":\"\",\"zerolinecolor\":\"white\"},\"yaxis\":{\"backgroundcolor\":\"#E5ECF6\",\"gridcolor\":\"white\",\"gridwidth\":2,\"linecolor\":\"white\",\"showbackground\":true,\"ticks\":\"\",\"zerolinecolor\":\"white\"},\"zaxis\":{\"backgroundcolor\":\"#E5ECF6\",\"gridcolor\":\"white\",\"gridwidth\":2,\"linecolor\":\"white\",\"showbackground\":true,\"ticks\":\"\",\"zerolinecolor\":\"white\"}},\"shapedefaults\":{\"line\":{\"color\":\"#2a3f5f\"}},\"ternary\":{\"aaxis\":{\"gridcolor\":\"white\",\"linecolor\":\"white\",\"ticks\":\"\"},\"baxis\":{\"gridcolor\":\"white\",\"linecolor\":\"white\",\"ticks\":\"\"},\"bgcolor\":\"#E5ECF6\",\"caxis\":{\"gridcolor\":\"white\",\"linecolor\":\"white\",\"ticks\":\"\"}},\"title\":{\"x\":0.05},\"xaxis\":{\"automargin\":true,\"gridcolor\":\"white\",\"linecolor\":\"white\",\"ticks\":\"\",\"title\":{\"standoff\":15},\"zerolinecolor\":\"white\",\"zerolinewidth\":2},\"yaxis\":{\"automargin\":true,\"gridcolor\":\"white\",\"linecolor\":\"white\",\"ticks\":\"\",\"title\":{\"standoff\":15},\"zerolinecolor\":\"white\",\"zerolinewidth\":2}}},\"xaxis\":{\"anchor\":\"y\",\"domain\":[0.0,1.0],\"title\":{\"text\":\"Continent\"},\"tickangle\":45},\"yaxis\":{\"anchor\":\"x\",\"domain\":[0.0,1.0],\"title\":{\"text\":\"Density (per km\\u00b2)\"}},\"legend\":{\"title\":{\"text\":\"Country\"},\"tracegroupgap\":0},\"margin\":{\"t\":60},\"barmode\":\"relative\",\"title\":{\"text\":\"Density (per km\\u00b2)\",\"x\":0.5,\"font\":{\"size\":16,\"color\":\"DarkSlateBlue\"}}},                        {\"responsive\": true}                    ).then(function(){\n",
       "                            \n",
       "var gd = document.getElementById('e693f075-dc48-4edd-a49c-f40c2e65a3ef');\n",
       "var x = new MutationObserver(function (mutations, observer) {{\n",
       "        var display = window.getComputedStyle(gd).display;\n",
       "        if (!display || display === 'none') {{\n",
       "            console.log([gd, 'removed!']);\n",
       "            Plotly.purge(gd);\n",
       "            observer.disconnect();\n",
       "        }}\n",
       "}});\n",
       "\n",
       "// Listen for the removal of the full notebook cells\n",
       "var notebookContainer = gd.closest('#notebook-container');\n",
       "if (notebookContainer) {{\n",
       "    x.observe(notebookContainer, {childList: true});\n",
       "}}\n",
       "\n",
       "// Listen for the clearing of the current output cell\n",
       "var outputEl = gd.closest('.output');\n",
       "if (outputEl) {{\n",
       "    x.observe(outputEl, {childList: true});\n",
       "}}\n",
       "\n",
       "                        })                };                });            </script>        </div>"
      ]
     },
     "metadata": {},
     "output_type": "display_data"
    }
   ],
   "source": [
    "df1 = df.sort_values(by = 'Density (per km²)', ascending = False).reset_index().head(20)\n",
    "fig = px.bar(df1,\n",
    "             x = 'Continent',\n",
    "             y =  'Density (per km²)',\n",
    "             color = 'Country',\n",
    "             color_continuous_scale = 'twilight',\n",
    "             \n",
    "            \n",
    "            )\n",
    "\n",
    "fig.update_layout(title ='Density (per km²)',\n",
    "                  title_x = 0.5,\n",
    "                  title_font = dict(size = 16, color = 'DarkSlateBlue'),\n",
    "                  xaxis = dict(title = 'Continent', tickangle = 45),\n",
    "                  yaxis = dict(title = 'Density (per km²)'))\n",
    "\n",
    "fig.show()"
   ]
  },
  {
   "cell_type": "markdown",
   "id": "a573acce",
   "metadata": {},
   "source": [
    "#### Growth Rate : "
   ]
  },
  {
   "cell_type": "code",
   "execution_count": 72,
   "id": "3dad8176",
   "metadata": {},
   "outputs": [
    {
     "data": {
      "application/vnd.plotly.v1+json": {
       "config": {
        "plotlyServerURL": "https://plot.ly"
       },
       "data": [
        {
         "hovertemplate": "Country=%{x}<br>Growth Rate=%{y}<extra></extra>",
         "legendgroup": "Afghanistan",
         "marker": {
          "color": "#636efa",
          "symbol": "circle"
         },
         "mode": "markers",
         "name": "Afghanistan",
         "orientation": "v",
         "showlegend": true,
         "type": "scatter",
         "x": [
          "Afghanistan"
         ],
         "xaxis": "x",
         "y": [
          1.0257
         ],
         "yaxis": "y"
        },
        {
         "hovertemplate": "Country=%{x}<br>Growth Rate=%{y}<extra></extra>",
         "legendgroup": "Albania",
         "marker": {
          "color": "#EF553B",
          "symbol": "circle"
         },
         "mode": "markers",
         "name": "Albania",
         "orientation": "v",
         "showlegend": true,
         "type": "scatter",
         "x": [
          "Albania"
         ],
         "xaxis": "x",
         "y": [
          0.9957
         ],
         "yaxis": "y"
        },
        {
         "hovertemplate": "Country=%{x}<br>Growth Rate=%{y}<extra></extra>",
         "legendgroup": "Algeria",
         "marker": {
          "color": "#00cc96",
          "symbol": "circle"
         },
         "mode": "markers",
         "name": "Algeria",
         "orientation": "v",
         "showlegend": true,
         "type": "scatter",
         "x": [
          "Algeria"
         ],
         "xaxis": "x",
         "y": [
          1.0164
         ],
         "yaxis": "y"
        },
        {
         "hovertemplate": "Country=%{x}<br>Growth Rate=%{y}<extra></extra>",
         "legendgroup": "American Samoa",
         "marker": {
          "color": "#ab63fa",
          "symbol": "circle"
         },
         "mode": "markers",
         "name": "American Samoa",
         "orientation": "v",
         "showlegend": true,
         "type": "scatter",
         "x": [
          "American Samoa"
         ],
         "xaxis": "x",
         "y": [
          0.9831
         ],
         "yaxis": "y"
        },
        {
         "hovertemplate": "Country=%{x}<br>Growth Rate=%{y}<extra></extra>",
         "legendgroup": "Andorra",
         "marker": {
          "color": "#FFA15A",
          "symbol": "circle"
         },
         "mode": "markers",
         "name": "Andorra",
         "orientation": "v",
         "showlegend": true,
         "type": "scatter",
         "x": [
          "Andorra"
         ],
         "xaxis": "x",
         "y": [
          1.01
         ],
         "yaxis": "y"
        },
        {
         "hovertemplate": "Country=%{x}<br>Growth Rate=%{y}<extra></extra>",
         "legendgroup": "Angola",
         "marker": {
          "color": "#19d3f3",
          "symbol": "circle"
         },
         "mode": "markers",
         "name": "Angola",
         "orientation": "v",
         "showlegend": true,
         "type": "scatter",
         "x": [
          "Angola"
         ],
         "xaxis": "x",
         "y": [
          1.0315
         ],
         "yaxis": "y"
        },
        {
         "hovertemplate": "Country=%{x}<br>Growth Rate=%{y}<extra></extra>",
         "legendgroup": "Anguilla",
         "marker": {
          "color": "#FF6692",
          "symbol": "circle"
         },
         "mode": "markers",
         "name": "Anguilla",
         "orientation": "v",
         "showlegend": true,
         "type": "scatter",
         "x": [
          "Anguilla"
         ],
         "xaxis": "x",
         "y": [
          1.0066
         ],
         "yaxis": "y"
        },
        {
         "hovertemplate": "Country=%{x}<br>Growth Rate=%{y}<extra></extra>",
         "legendgroup": "Antigua and Barbuda",
         "marker": {
          "color": "#B6E880",
          "symbol": "circle"
         },
         "mode": "markers",
         "name": "Antigua and Barbuda",
         "orientation": "v",
         "showlegend": true,
         "type": "scatter",
         "x": [
          "Antigua and Barbuda"
         ],
         "xaxis": "x",
         "y": [
          1.0058
         ],
         "yaxis": "y"
        },
        {
         "hovertemplate": "Country=%{x}<br>Growth Rate=%{y}<extra></extra>",
         "legendgroup": "Argentina",
         "marker": {
          "color": "#FF97FF",
          "symbol": "circle"
         },
         "mode": "markers",
         "name": "Argentina",
         "orientation": "v",
         "showlegend": true,
         "type": "scatter",
         "x": [
          "Argentina"
         ],
         "xaxis": "x",
         "y": [
          1.0052
         ],
         "yaxis": "y"
        },
        {
         "hovertemplate": "Country=%{x}<br>Growth Rate=%{y}<extra></extra>",
         "legendgroup": "Armenia",
         "marker": {
          "color": "#FECB52",
          "symbol": "circle"
         },
         "mode": "markers",
         "name": "Armenia",
         "orientation": "v",
         "showlegend": true,
         "type": "scatter",
         "x": [
          "Armenia"
         ],
         "xaxis": "x",
         "y": [
          0.9962
         ],
         "yaxis": "y"
        },
        {
         "hovertemplate": "Country=%{x}<br>Growth Rate=%{y}<extra></extra>",
         "legendgroup": "Aruba",
         "marker": {
          "color": "#636efa",
          "symbol": "circle"
         },
         "mode": "markers",
         "name": "Aruba",
         "orientation": "v",
         "showlegend": true,
         "type": "scatter",
         "x": [
          "Aruba"
         ],
         "xaxis": "x",
         "y": [
          0.9991
         ],
         "yaxis": "y"
        },
        {
         "hovertemplate": "Country=%{x}<br>Growth Rate=%{y}<extra></extra>",
         "legendgroup": "Australia",
         "marker": {
          "color": "#EF553B",
          "symbol": "circle"
         },
         "mode": "markers",
         "name": "Australia",
         "orientation": "v",
         "showlegend": true,
         "type": "scatter",
         "x": [
          "Australia"
         ],
         "xaxis": "x",
         "y": [
          1.0099
         ],
         "yaxis": "y"
        },
        {
         "hovertemplate": "Country=%{x}<br>Growth Rate=%{y}<extra></extra>",
         "legendgroup": "Austria",
         "marker": {
          "color": "#00cc96",
          "symbol": "circle"
         },
         "mode": "markers",
         "name": "Austria",
         "orientation": "v",
         "showlegend": true,
         "type": "scatter",
         "x": [
          "Austria"
         ],
         "xaxis": "x",
         "y": [
          1.002
         ],
         "yaxis": "y"
        },
        {
         "hovertemplate": "Country=%{x}<br>Growth Rate=%{y}<extra></extra>",
         "legendgroup": "Azerbaijan",
         "marker": {
          "color": "#ab63fa",
          "symbol": "circle"
         },
         "mode": "markers",
         "name": "Azerbaijan",
         "orientation": "v",
         "showlegend": true,
         "type": "scatter",
         "x": [
          "Azerbaijan"
         ],
         "xaxis": "x",
         "y": [
          1.0044
         ],
         "yaxis": "y"
        },
        {
         "hovertemplate": "Country=%{x}<br>Growth Rate=%{y}<extra></extra>",
         "legendgroup": "Bahamas",
         "marker": {
          "color": "#FFA15A",
          "symbol": "circle"
         },
         "mode": "markers",
         "name": "Bahamas",
         "orientation": "v",
         "showlegend": true,
         "type": "scatter",
         "x": [
          "Bahamas"
         ],
         "xaxis": "x",
         "y": [
          1.0051
         ],
         "yaxis": "y"
        },
        {
         "hovertemplate": "Country=%{x}<br>Growth Rate=%{y}<extra></extra>",
         "legendgroup": "Bahrain",
         "marker": {
          "color": "#19d3f3",
          "symbol": "circle"
         },
         "mode": "markers",
         "name": "Bahrain",
         "orientation": "v",
         "showlegend": true,
         "type": "scatter",
         "x": [
          "Bahrain"
         ],
         "xaxis": "x",
         "y": [
          1.0061
         ],
         "yaxis": "y"
        },
        {
         "hovertemplate": "Country=%{x}<br>Growth Rate=%{y}<extra></extra>",
         "legendgroup": "Bangladesh",
         "marker": {
          "color": "#FF6692",
          "symbol": "circle"
         },
         "mode": "markers",
         "name": "Bangladesh",
         "orientation": "v",
         "showlegend": true,
         "type": "scatter",
         "x": [
          "Bangladesh"
         ],
         "xaxis": "x",
         "y": [
          1.0108
         ],
         "yaxis": "y"
        },
        {
         "hovertemplate": "Country=%{x}<br>Growth Rate=%{y}<extra></extra>",
         "legendgroup": "Barbados",
         "marker": {
          "color": "#B6E880",
          "symbol": "circle"
         },
         "mode": "markers",
         "name": "Barbados",
         "orientation": "v",
         "showlegend": true,
         "type": "scatter",
         "x": [
          "Barbados"
         ],
         "xaxis": "x",
         "y": [
          1.0015
         ],
         "yaxis": "y"
        },
        {
         "hovertemplate": "Country=%{x}<br>Growth Rate=%{y}<extra></extra>",
         "legendgroup": "Belarus",
         "marker": {
          "color": "#FF97FF",
          "symbol": "circle"
         },
         "mode": "markers",
         "name": "Belarus",
         "orientation": "v",
         "showlegend": true,
         "type": "scatter",
         "x": [
          "Belarus"
         ],
         "xaxis": "x",
         "y": [
          0.9955
         ],
         "yaxis": "y"
        },
        {
         "hovertemplate": "Country=%{x}<br>Growth Rate=%{y}<extra></extra>",
         "legendgroup": "Belgium",
         "marker": {
          "color": "#FECB52",
          "symbol": "circle"
         },
         "mode": "markers",
         "name": "Belgium",
         "orientation": "v",
         "showlegend": true,
         "type": "scatter",
         "x": [
          "Belgium"
         ],
         "xaxis": "x",
         "y": [
          1.0038
         ],
         "yaxis": "y"
        },
        {
         "hovertemplate": "Country=%{x}<br>Growth Rate=%{y}<extra></extra>",
         "legendgroup": "Belize",
         "marker": {
          "color": "#636efa",
          "symbol": "circle"
         },
         "mode": "markers",
         "name": "Belize",
         "orientation": "v",
         "showlegend": true,
         "type": "scatter",
         "x": [
          "Belize"
         ],
         "xaxis": "x",
         "y": [
          1.0131
         ],
         "yaxis": "y"
        },
        {
         "hovertemplate": "Country=%{x}<br>Growth Rate=%{y}<extra></extra>",
         "legendgroup": "Benin",
         "marker": {
          "color": "#EF553B",
          "symbol": "circle"
         },
         "mode": "markers",
         "name": "Benin",
         "orientation": "v",
         "showlegend": true,
         "type": "scatter",
         "x": [
          "Benin"
         ],
         "xaxis": "x",
         "y": [
          1.0274
         ],
         "yaxis": "y"
        },
        {
         "hovertemplate": "Country=%{x}<br>Growth Rate=%{y}<extra></extra>",
         "legendgroup": "Bermuda",
         "marker": {
          "color": "#00cc96",
          "symbol": "circle"
         },
         "mode": "markers",
         "name": "Bermuda",
         "orientation": "v",
         "showlegend": true,
         "type": "scatter",
         "x": [
          "Bermuda"
         ],
         "xaxis": "x",
         "y": [
          1
         ],
         "yaxis": "y"
        },
        {
         "hovertemplate": "Country=%{x}<br>Growth Rate=%{y}<extra></extra>",
         "legendgroup": "Bhutan",
         "marker": {
          "color": "#ab63fa",
          "symbol": "circle"
         },
         "mode": "markers",
         "name": "Bhutan",
         "orientation": "v",
         "showlegend": true,
         "type": "scatter",
         "x": [
          "Bhutan"
         ],
         "xaxis": "x",
         "y": [
          1.0064
         ],
         "yaxis": "y"
        },
        {
         "hovertemplate": "Country=%{x}<br>Growth Rate=%{y}<extra></extra>",
         "legendgroup": "Bolivia",
         "marker": {
          "color": "#FFA15A",
          "symbol": "circle"
         },
         "mode": "markers",
         "name": "Bolivia",
         "orientation": "v",
         "showlegend": true,
         "type": "scatter",
         "x": [
          "Bolivia"
         ],
         "xaxis": "x",
         "y": [
          1.012
         ],
         "yaxis": "y"
        },
        {
         "hovertemplate": "Country=%{x}<br>Growth Rate=%{y}<extra></extra>",
         "legendgroup": "Bosnia and Herzegovina",
         "marker": {
          "color": "#19d3f3",
          "symbol": "circle"
         },
         "mode": "markers",
         "name": "Bosnia and Herzegovina",
         "orientation": "v",
         "showlegend": true,
         "type": "scatter",
         "x": [
          "Bosnia and Herzegovina"
         ],
         "xaxis": "x",
         "y": [
          0.9886
         ],
         "yaxis": "y"
        },
        {
         "hovertemplate": "Country=%{x}<br>Growth Rate=%{y}<extra></extra>",
         "legendgroup": "Botswana",
         "marker": {
          "color": "#FF6692",
          "symbol": "circle"
         },
         "mode": "markers",
         "name": "Botswana",
         "orientation": "v",
         "showlegend": true,
         "type": "scatter",
         "x": [
          "Botswana"
         ],
         "xaxis": "x",
         "y": [
          1.0162
         ],
         "yaxis": "y"
        },
        {
         "hovertemplate": "Country=%{x}<br>Growth Rate=%{y}<extra></extra>",
         "legendgroup": "Brazil",
         "marker": {
          "color": "#B6E880",
          "symbol": "circle"
         },
         "mode": "markers",
         "name": "Brazil",
         "orientation": "v",
         "showlegend": true,
         "type": "scatter",
         "x": [
          "Brazil"
         ],
         "xaxis": "x",
         "y": [
          1.0046
         ],
         "yaxis": "y"
        },
        {
         "hovertemplate": "Country=%{x}<br>Growth Rate=%{y}<extra></extra>",
         "legendgroup": "British Virgin Islands",
         "marker": {
          "color": "#FF97FF",
          "symbol": "circle"
         },
         "mode": "markers",
         "name": "British Virgin Islands",
         "orientation": "v",
         "showlegend": true,
         "type": "scatter",
         "x": [
          "British Virgin Islands"
         ],
         "xaxis": "x",
         "y": [
          1.0059
         ],
         "yaxis": "y"
        },
        {
         "hovertemplate": "Country=%{x}<br>Growth Rate=%{y}<extra></extra>",
         "legendgroup": "Brunei",
         "marker": {
          "color": "#FECB52",
          "symbol": "circle"
         },
         "mode": "markers",
         "name": "Brunei",
         "orientation": "v",
         "showlegend": true,
         "type": "scatter",
         "x": [
          "Brunei"
         ],
         "xaxis": "x",
         "y": [
          1.0081
         ],
         "yaxis": "y"
        },
        {
         "hovertemplate": "Country=%{x}<br>Growth Rate=%{y}<extra></extra>",
         "legendgroup": "Bulgaria",
         "marker": {
          "color": "#636efa",
          "symbol": "circle"
         },
         "mode": "markers",
         "name": "Bulgaria",
         "orientation": "v",
         "showlegend": true,
         "type": "scatter",
         "x": [
          "Bulgaria"
         ],
         "xaxis": "x",
         "y": [
          0.9849
         ],
         "yaxis": "y"
        },
        {
         "hovertemplate": "Country=%{x}<br>Growth Rate=%{y}<extra></extra>",
         "legendgroup": "Burkina Faso",
         "marker": {
          "color": "#EF553B",
          "symbol": "circle"
         },
         "mode": "markers",
         "name": "Burkina Faso",
         "orientation": "v",
         "showlegend": true,
         "type": "scatter",
         "x": [
          "Burkina Faso"
         ],
         "xaxis": "x",
         "y": [
          1.0259
         ],
         "yaxis": "y"
        },
        {
         "hovertemplate": "Country=%{x}<br>Growth Rate=%{y}<extra></extra>",
         "legendgroup": "Burundi",
         "marker": {
          "color": "#00cc96",
          "symbol": "circle"
         },
         "mode": "markers",
         "name": "Burundi",
         "orientation": "v",
         "showlegend": true,
         "type": "scatter",
         "x": [
          "Burundi"
         ],
         "xaxis": "x",
         "y": [
          1.027
         ],
         "yaxis": "y"
        },
        {
         "hovertemplate": "Country=%{x}<br>Growth Rate=%{y}<extra></extra>",
         "legendgroup": "Cambodia",
         "marker": {
          "color": "#ab63fa",
          "symbol": "circle"
         },
         "mode": "markers",
         "name": "Cambodia",
         "orientation": "v",
         "showlegend": true,
         "type": "scatter",
         "x": [
          "Cambodia"
         ],
         "xaxis": "x",
         "y": [
          1.0108
         ],
         "yaxis": "y"
        },
        {
         "hovertemplate": "Country=%{x}<br>Growth Rate=%{y}<extra></extra>",
         "legendgroup": "Cameroon",
         "marker": {
          "color": "#FFA15A",
          "symbol": "circle"
         },
         "mode": "markers",
         "name": "Cameroon",
         "orientation": "v",
         "showlegend": true,
         "type": "scatter",
         "x": [
          "Cameroon"
         ],
         "xaxis": "x",
         "y": [
          1.0263
         ],
         "yaxis": "y"
        },
        {
         "hovertemplate": "Country=%{x}<br>Growth Rate=%{y}<extra></extra>",
         "legendgroup": "Canada",
         "marker": {
          "color": "#19d3f3",
          "symbol": "circle"
         },
         "mode": "markers",
         "name": "Canada",
         "orientation": "v",
         "showlegend": true,
         "type": "scatter",
         "x": [
          "Canada"
         ],
         "xaxis": "x",
         "y": [
          1.0078
         ],
         "yaxis": "y"
        },
        {
         "hovertemplate": "Country=%{x}<br>Growth Rate=%{y}<extra></extra>",
         "legendgroup": "Cape Verde",
         "marker": {
          "color": "#FF6692",
          "symbol": "circle"
         },
         "mode": "markers",
         "name": "Cape Verde",
         "orientation": "v",
         "showlegend": true,
         "type": "scatter",
         "x": [
          "Cape Verde"
         ],
         "xaxis": "x",
         "y": [
          1.0089
         ],
         "yaxis": "y"
        },
        {
         "hovertemplate": "Country=%{x}<br>Growth Rate=%{y}<extra></extra>",
         "legendgroup": "Cayman Islands",
         "marker": {
          "color": "#B6E880",
          "symbol": "circle"
         },
         "mode": "markers",
         "name": "Cayman Islands",
         "orientation": "v",
         "showlegend": true,
         "type": "scatter",
         "x": [
          "Cayman Islands"
         ],
         "xaxis": "x",
         "y": [
          1.0084
         ],
         "yaxis": "y"
        },
        {
         "hovertemplate": "Country=%{x}<br>Growth Rate=%{y}<extra></extra>",
         "legendgroup": "Central African Republic",
         "marker": {
          "color": "#FF97FF",
          "symbol": "circle"
         },
         "mode": "markers",
         "name": "Central African Republic",
         "orientation": "v",
         "showlegend": true,
         "type": "scatter",
         "x": [
          "Central African Republic"
         ],
         "xaxis": "x",
         "y": [
          1.0224
         ],
         "yaxis": "y"
        },
        {
         "hovertemplate": "Country=%{x}<br>Growth Rate=%{y}<extra></extra>",
         "legendgroup": "Chad",
         "marker": {
          "color": "#FECB52",
          "symbol": "circle"
         },
         "mode": "markers",
         "name": "Chad",
         "orientation": "v",
         "showlegend": true,
         "type": "scatter",
         "x": [
          "Chad"
         ],
         "xaxis": "x",
         "y": [
          1.0316
         ],
         "yaxis": "y"
        },
        {
         "hovertemplate": "Country=%{x}<br>Growth Rate=%{y}<extra></extra>",
         "legendgroup": "Chile",
         "marker": {
          "color": "#636efa",
          "symbol": "circle"
         },
         "mode": "markers",
         "name": "Chile",
         "orientation": "v",
         "showlegend": true,
         "type": "scatter",
         "x": [
          "Chile"
         ],
         "xaxis": "x",
         "y": [
          1.0057
         ],
         "yaxis": "y"
        },
        {
         "hovertemplate": "Country=%{x}<br>Growth Rate=%{y}<extra></extra>",
         "legendgroup": "China",
         "marker": {
          "color": "#EF553B",
          "symbol": "circle"
         },
         "mode": "markers",
         "name": "China",
         "orientation": "v",
         "showlegend": true,
         "type": "scatter",
         "x": [
          "China"
         ],
         "xaxis": "x",
         "y": [
          1
         ],
         "yaxis": "y"
        },
        {
         "hovertemplate": "Country=%{x}<br>Growth Rate=%{y}<extra></extra>",
         "legendgroup": "Colombia",
         "marker": {
          "color": "#00cc96",
          "symbol": "circle"
         },
         "mode": "markers",
         "name": "Colombia",
         "orientation": "v",
         "showlegend": true,
         "type": "scatter",
         "x": [
          "Colombia"
         ],
         "xaxis": "x",
         "y": [
          1.0069
         ],
         "yaxis": "y"
        },
        {
         "hovertemplate": "Country=%{x}<br>Growth Rate=%{y}<extra></extra>",
         "legendgroup": "Comoros",
         "marker": {
          "color": "#ab63fa",
          "symbol": "circle"
         },
         "mode": "markers",
         "name": "Comoros",
         "orientation": "v",
         "showlegend": true,
         "type": "scatter",
         "x": [
          "Comoros"
         ],
         "xaxis": "x",
         "y": [
          1.0184
         ],
         "yaxis": "y"
        },
        {
         "hovertemplate": "Country=%{x}<br>Growth Rate=%{y}<extra></extra>",
         "legendgroup": "Cook Islands",
         "marker": {
          "color": "#FFA15A",
          "symbol": "circle"
         },
         "mode": "markers",
         "name": "Cook Islands",
         "orientation": "v",
         "showlegend": true,
         "type": "scatter",
         "x": [
          "Cook Islands"
         ],
         "xaxis": "x",
         "y": [
          1.0005
         ],
         "yaxis": "y"
        },
        {
         "hovertemplate": "Country=%{x}<br>Growth Rate=%{y}<extra></extra>",
         "legendgroup": "Costa Rica",
         "marker": {
          "color": "#19d3f3",
          "symbol": "circle"
         },
         "mode": "markers",
         "name": "Costa Rica",
         "orientation": "v",
         "showlegend": true,
         "type": "scatter",
         "x": [
          "Costa Rica"
         ],
         "xaxis": "x",
         "y": [
          1.0052
         ],
         "yaxis": "y"
        },
        {
         "hovertemplate": "Country=%{x}<br>Growth Rate=%{y}<extra></extra>",
         "legendgroup": "Croatia",
         "marker": {
          "color": "#FF6692",
          "symbol": "circle"
         },
         "mode": "markers",
         "name": "Croatia",
         "orientation": "v",
         "showlegend": true,
         "type": "scatter",
         "x": [
          "Croatia"
         ],
         "xaxis": "x",
         "y": [
          0.9927
         ],
         "yaxis": "y"
        },
        {
         "hovertemplate": "Country=%{x}<br>Growth Rate=%{y}<extra></extra>",
         "legendgroup": "Cuba",
         "marker": {
          "color": "#B6E880",
          "symbol": "circle"
         },
         "mode": "markers",
         "name": "Cuba",
         "orientation": "v",
         "showlegend": true,
         "type": "scatter",
         "x": [
          "Cuba"
         ],
         "xaxis": "x",
         "y": [
          0.9961
         ],
         "yaxis": "y"
        },
        {
         "hovertemplate": "Country=%{x}<br>Growth Rate=%{y}<extra></extra>",
         "legendgroup": "Curacao",
         "marker": {
          "color": "#FF97FF",
          "symbol": "circle"
         },
         "mode": "markers",
         "name": "Curacao",
         "orientation": "v",
         "showlegend": true,
         "type": "scatter",
         "x": [
          "Curacao"
         ],
         "xaxis": "x",
         "y": [
          1.0043
         ],
         "yaxis": "y"
        },
        {
         "hovertemplate": "Country=%{x}<br>Growth Rate=%{y}<extra></extra>",
         "legendgroup": "Cyprus",
         "marker": {
          "color": "#FECB52",
          "symbol": "circle"
         },
         "mode": "markers",
         "name": "Cyprus",
         "orientation": "v",
         "showlegend": true,
         "type": "scatter",
         "x": [
          "Cyprus"
         ],
         "xaxis": "x",
         "y": [
          1.0059
         ],
         "yaxis": "y"
        },
        {
         "hovertemplate": "Country=%{x}<br>Growth Rate=%{y}<extra></extra>",
         "legendgroup": "Czech Republic",
         "marker": {
          "color": "#636efa",
          "symbol": "circle"
         },
         "mode": "markers",
         "name": "Czech Republic",
         "orientation": "v",
         "showlegend": true,
         "type": "scatter",
         "x": [
          "Czech Republic"
         ],
         "xaxis": "x",
         "y": [
          0.9984
         ],
         "yaxis": "y"
        },
        {
         "hovertemplate": "Country=%{x}<br>Growth Rate=%{y}<extra></extra>",
         "legendgroup": "Denmark",
         "marker": {
          "color": "#EF553B",
          "symbol": "circle"
         },
         "mode": "markers",
         "name": "Denmark",
         "orientation": "v",
         "showlegend": true,
         "type": "scatter",
         "x": [
          "Denmark"
         ],
         "xaxis": "x",
         "y": [
          1.0048
         ],
         "yaxis": "y"
        },
        {
         "hovertemplate": "Country=%{x}<br>Growth Rate=%{y}<extra></extra>",
         "legendgroup": "Djibouti",
         "marker": {
          "color": "#00cc96",
          "symbol": "circle"
         },
         "mode": "markers",
         "name": "Djibouti",
         "orientation": "v",
         "showlegend": true,
         "type": "scatter",
         "x": [
          "Djibouti"
         ],
         "xaxis": "x",
         "y": [
          1.0138
         ],
         "yaxis": "y"
        },
        {
         "hovertemplate": "Country=%{x}<br>Growth Rate=%{y}<extra></extra>",
         "legendgroup": "Dominica",
         "marker": {
          "color": "#ab63fa",
          "symbol": "circle"
         },
         "mode": "markers",
         "name": "Dominica",
         "orientation": "v",
         "showlegend": true,
         "type": "scatter",
         "x": [
          "Dominica"
         ],
         "xaxis": "x",
         "y": [
          1.0045
         ],
         "yaxis": "y"
        },
        {
         "hovertemplate": "Country=%{x}<br>Growth Rate=%{y}<extra></extra>",
         "legendgroup": "Dominican Republic",
         "marker": {
          "color": "#FFA15A",
          "symbol": "circle"
         },
         "mode": "markers",
         "name": "Dominican Republic",
         "orientation": "v",
         "showlegend": true,
         "type": "scatter",
         "x": [
          "Dominican Republic"
         ],
         "xaxis": "x",
         "y": [
          1.01
         ],
         "yaxis": "y"
        },
        {
         "hovertemplate": "Country=%{x}<br>Growth Rate=%{y}<extra></extra>",
         "legendgroup": "DR Congo",
         "marker": {
          "color": "#19d3f3",
          "symbol": "circle"
         },
         "mode": "markers",
         "name": "DR Congo",
         "orientation": "v",
         "showlegend": true,
         "type": "scatter",
         "x": [
          "DR Congo"
         ],
         "xaxis": "x",
         "y": [
          1.0325
         ],
         "yaxis": "y"
        },
        {
         "hovertemplate": "Country=%{x}<br>Growth Rate=%{y}<extra></extra>",
         "legendgroup": "Ecuador",
         "marker": {
          "color": "#FF6692",
          "symbol": "circle"
         },
         "mode": "markers",
         "name": "Ecuador",
         "orientation": "v",
         "showlegend": true,
         "type": "scatter",
         "x": [
          "Ecuador"
         ],
         "xaxis": "x",
         "y": [
          1.0114
         ],
         "yaxis": "y"
        },
        {
         "hovertemplate": "Country=%{x}<br>Growth Rate=%{y}<extra></extra>",
         "legendgroup": "Egypt",
         "marker": {
          "color": "#B6E880",
          "symbol": "circle"
         },
         "mode": "markers",
         "name": "Egypt",
         "orientation": "v",
         "showlegend": true,
         "type": "scatter",
         "x": [
          "Egypt"
         ],
         "xaxis": "x",
         "y": [
          1.0158
         ],
         "yaxis": "y"
        },
        {
         "hovertemplate": "Country=%{x}<br>Growth Rate=%{y}<extra></extra>",
         "legendgroup": "El Salvador",
         "marker": {
          "color": "#FF97FF",
          "symbol": "circle"
         },
         "mode": "markers",
         "name": "El Salvador",
         "orientation": "v",
         "showlegend": true,
         "type": "scatter",
         "x": [
          "El Salvador"
         ],
         "xaxis": "x",
         "y": [
          1.0035
         ],
         "yaxis": "y"
        },
        {
         "hovertemplate": "Country=%{x}<br>Growth Rate=%{y}<extra></extra>",
         "legendgroup": "Equatorial Guinea",
         "marker": {
          "color": "#FECB52",
          "symbol": "circle"
         },
         "mode": "markers",
         "name": "Equatorial Guinea",
         "orientation": "v",
         "showlegend": true,
         "type": "scatter",
         "x": [
          "Equatorial Guinea"
         ],
         "xaxis": "x",
         "y": [
          1.0247
         ],
         "yaxis": "y"
        },
        {
         "hovertemplate": "Country=%{x}<br>Growth Rate=%{y}<extra></extra>",
         "legendgroup": "Eritrea",
         "marker": {
          "color": "#636efa",
          "symbol": "circle"
         },
         "mode": "markers",
         "name": "Eritrea",
         "orientation": "v",
         "showlegend": true,
         "type": "scatter",
         "x": [
          "Eritrea"
         ],
         "xaxis": "x",
         "y": [
          1.0176
         ],
         "yaxis": "y"
        },
        {
         "hovertemplate": "Country=%{x}<br>Growth Rate=%{y}<extra></extra>",
         "legendgroup": "Estonia",
         "marker": {
          "color": "#EF553B",
          "symbol": "circle"
         },
         "mode": "markers",
         "name": "Estonia",
         "orientation": "v",
         "showlegend": true,
         "type": "scatter",
         "x": [
          "Estonia"
         ],
         "xaxis": "x",
         "y": [
          0.998
         ],
         "yaxis": "y"
        },
        {
         "hovertemplate": "Country=%{x}<br>Growth Rate=%{y}<extra></extra>",
         "legendgroup": "Eswatini",
         "marker": {
          "color": "#00cc96",
          "symbol": "circle"
         },
         "mode": "markers",
         "name": "Eswatini",
         "orientation": "v",
         "showlegend": true,
         "type": "scatter",
         "x": [
          "Eswatini"
         ],
         "xaxis": "x",
         "y": [
          1.0079
         ],
         "yaxis": "y"
        },
        {
         "hovertemplate": "Country=%{x}<br>Growth Rate=%{y}<extra></extra>",
         "legendgroup": "Ethiopia",
         "marker": {
          "color": "#ab63fa",
          "symbol": "circle"
         },
         "mode": "markers",
         "name": "Ethiopia",
         "orientation": "v",
         "showlegend": true,
         "type": "scatter",
         "x": [
          "Ethiopia"
         ],
         "xaxis": "x",
         "y": [
          1.0257
         ],
         "yaxis": "y"
        },
        {
         "hovertemplate": "Country=%{x}<br>Growth Rate=%{y}<extra></extra>",
         "legendgroup": "Falkland Islands",
         "marker": {
          "color": "#FFA15A",
          "symbol": "circle"
         },
         "mode": "markers",
         "name": "Falkland Islands",
         "orientation": "v",
         "showlegend": true,
         "type": "scatter",
         "x": [
          "Falkland Islands"
         ],
         "xaxis": "x",
         "y": [
          1.0043
         ],
         "yaxis": "y"
        },
        {
         "hovertemplate": "Country=%{x}<br>Growth Rate=%{y}<extra></extra>",
         "legendgroup": "Faroe Islands",
         "marker": {
          "color": "#19d3f3",
          "symbol": "circle"
         },
         "mode": "markers",
         "name": "Faroe Islands",
         "orientation": "v",
         "showlegend": true,
         "type": "scatter",
         "x": [
          "Faroe Islands"
         ],
         "xaxis": "x",
         "y": [
          1.0038
         ],
         "yaxis": "y"
        },
        {
         "hovertemplate": "Country=%{x}<br>Growth Rate=%{y}<extra></extra>",
         "legendgroup": "Fiji",
         "marker": {
          "color": "#FF6692",
          "symbol": "circle"
         },
         "mode": "markers",
         "name": "Fiji",
         "orientation": "v",
         "showlegend": true,
         "type": "scatter",
         "x": [
          "Fiji"
         ],
         "xaxis": "x",
         "y": [
          1.0056
         ],
         "yaxis": "y"
        },
        {
         "hovertemplate": "Country=%{x}<br>Growth Rate=%{y}<extra></extra>",
         "legendgroup": "Finland",
         "marker": {
          "color": "#B6E880",
          "symbol": "circle"
         },
         "mode": "markers",
         "name": "Finland",
         "orientation": "v",
         "showlegend": true,
         "type": "scatter",
         "x": [
          "Finland"
         ],
         "xaxis": "x",
         "y": [
          1.0009
         ],
         "yaxis": "y"
        },
        {
         "hovertemplate": "Country=%{x}<br>Growth Rate=%{y}<extra></extra>",
         "legendgroup": "France",
         "marker": {
          "color": "#FF97FF",
          "symbol": "circle"
         },
         "mode": "markers",
         "name": "France",
         "orientation": "v",
         "showlegend": true,
         "type": "scatter",
         "x": [
          "France"
         ],
         "xaxis": "x",
         "y": [
          1.0015
         ],
         "yaxis": "y"
        },
        {
         "hovertemplate": "Country=%{x}<br>Growth Rate=%{y}<extra></extra>",
         "legendgroup": "French Guiana",
         "marker": {
          "color": "#FECB52",
          "symbol": "circle"
         },
         "mode": "markers",
         "name": "French Guiana",
         "orientation": "v",
         "showlegend": true,
         "type": "scatter",
         "x": [
          "French Guiana"
         ],
         "xaxis": "x",
         "y": [
          1.0239
         ],
         "yaxis": "y"
        },
        {
         "hovertemplate": "Country=%{x}<br>Growth Rate=%{y}<extra></extra>",
         "legendgroup": "French Polynesia",
         "marker": {
          "color": "#636efa",
          "symbol": "circle"
         },
         "mode": "markers",
         "name": "French Polynesia",
         "orientation": "v",
         "showlegend": true,
         "type": "scatter",
         "x": [
          "French Polynesia"
         ],
         "xaxis": "x",
         "y": [
          1.0074
         ],
         "yaxis": "y"
        },
        {
         "hovertemplate": "Country=%{x}<br>Growth Rate=%{y}<extra></extra>",
         "legendgroup": "Gabon",
         "marker": {
          "color": "#EF553B",
          "symbol": "circle"
         },
         "mode": "markers",
         "name": "Gabon",
         "orientation": "v",
         "showlegend": true,
         "type": "scatter",
         "x": [
          "Gabon"
         ],
         "xaxis": "x",
         "y": [
          1.0204
         ],
         "yaxis": "y"
        },
        {
         "hovertemplate": "Country=%{x}<br>Growth Rate=%{y}<extra></extra>",
         "legendgroup": "Gambia",
         "marker": {
          "color": "#00cc96",
          "symbol": "circle"
         },
         "mode": "markers",
         "name": "Gambia",
         "orientation": "v",
         "showlegend": true,
         "type": "scatter",
         "x": [
          "Gambia"
         ],
         "xaxis": "x",
         "y": [
          1.025
         ],
         "yaxis": "y"
        },
        {
         "hovertemplate": "Country=%{x}<br>Growth Rate=%{y}<extra></extra>",
         "legendgroup": "Georgia",
         "marker": {
          "color": "#ab63fa",
          "symbol": "circle"
         },
         "mode": "markers",
         "name": "Georgia",
         "orientation": "v",
         "showlegend": true,
         "type": "scatter",
         "x": [
          "Georgia"
         ],
         "xaxis": "x",
         "y": [
          0.9964
         ],
         "yaxis": "y"
        },
        {
         "hovertemplate": "Country=%{x}<br>Growth Rate=%{y}<extra></extra>",
         "legendgroup": "Germany",
         "marker": {
          "color": "#FFA15A",
          "symbol": "circle"
         },
         "mode": "markers",
         "name": "Germany",
         "orientation": "v",
         "showlegend": true,
         "type": "scatter",
         "x": [
          "Germany"
         ],
         "xaxis": "x",
         "y": [
          0.9995
         ],
         "yaxis": "y"
        },
        {
         "hovertemplate": "Country=%{x}<br>Growth Rate=%{y}<extra></extra>",
         "legendgroup": "Ghana",
         "marker": {
          "color": "#19d3f3",
          "symbol": "circle"
         },
         "mode": "markers",
         "name": "Ghana",
         "orientation": "v",
         "showlegend": true,
         "type": "scatter",
         "x": [
          "Ghana"
         ],
         "xaxis": "x",
         "y": [
          1.0196
         ],
         "yaxis": "y"
        },
        {
         "hovertemplate": "Country=%{x}<br>Growth Rate=%{y}<extra></extra>",
         "legendgroup": "Gibraltar",
         "marker": {
          "color": "#FF6692",
          "symbol": "circle"
         },
         "mode": "markers",
         "name": "Gibraltar",
         "orientation": "v",
         "showlegend": true,
         "type": "scatter",
         "x": [
          "Gibraltar"
         ],
         "xaxis": "x",
         "y": [
          0.9994
         ],
         "yaxis": "y"
        },
        {
         "hovertemplate": "Country=%{x}<br>Growth Rate=%{y}<extra></extra>",
         "legendgroup": "Greece",
         "marker": {
          "color": "#B6E880",
          "symbol": "circle"
         },
         "mode": "markers",
         "name": "Greece",
         "orientation": "v",
         "showlegend": true,
         "type": "scatter",
         "x": [
          "Greece"
         ],
         "xaxis": "x",
         "y": [
          0.9942
         ],
         "yaxis": "y"
        },
        {
         "hovertemplate": "Country=%{x}<br>Growth Rate=%{y}<extra></extra>",
         "legendgroup": "Greenland",
         "marker": {
          "color": "#FF97FF",
          "symbol": "circle"
         },
         "mode": "markers",
         "name": "Greenland",
         "orientation": "v",
         "showlegend": true,
         "type": "scatter",
         "x": [
          "Greenland"
         ],
         "xaxis": "x",
         "y": [
          1.004
         ],
         "yaxis": "y"
        },
        {
         "hovertemplate": "Country=%{x}<br>Growth Rate=%{y}<extra></extra>",
         "legendgroup": "Grenada",
         "marker": {
          "color": "#FECB52",
          "symbol": "circle"
         },
         "mode": "markers",
         "name": "Grenada",
         "orientation": "v",
         "showlegend": true,
         "type": "scatter",
         "x": [
          "Grenada"
         ],
         "xaxis": "x",
         "y": [
          1.0066
         ],
         "yaxis": "y"
        },
        {
         "hovertemplate": "Country=%{x}<br>Growth Rate=%{y}<extra></extra>",
         "legendgroup": "Guadeloupe",
         "marker": {
          "color": "#636efa",
          "symbol": "circle"
         },
         "mode": "markers",
         "name": "Guadeloupe",
         "orientation": "v",
         "showlegend": true,
         "type": "scatter",
         "x": [
          "Guadeloupe"
         ],
         "xaxis": "x",
         "y": [
          0.9992
         ],
         "yaxis": "y"
        },
        {
         "hovertemplate": "Country=%{x}<br>Growth Rate=%{y}<extra></extra>",
         "legendgroup": "Guam",
         "marker": {
          "color": "#EF553B",
          "symbol": "circle"
         },
         "mode": "markers",
         "name": "Guam",
         "orientation": "v",
         "showlegend": true,
         "type": "scatter",
         "x": [
          "Guam"
         ],
         "xaxis": "x",
         "y": [
          1.0073
         ],
         "yaxis": "y"
        },
        {
         "hovertemplate": "Country=%{x}<br>Growth Rate=%{y}<extra></extra>",
         "legendgroup": "Guatemala",
         "marker": {
          "color": "#00cc96",
          "symbol": "circle"
         },
         "mode": "markers",
         "name": "Guatemala",
         "orientation": "v",
         "showlegend": true,
         "type": "scatter",
         "x": [
          "Guatemala"
         ],
         "xaxis": "x",
         "y": [
          1.0134
         ],
         "yaxis": "y"
        },
        {
         "hovertemplate": "Country=%{x}<br>Growth Rate=%{y}<extra></extra>",
         "legendgroup": "Guernsey",
         "marker": {
          "color": "#ab63fa",
          "symbol": "circle"
         },
         "mode": "markers",
         "name": "Guernsey",
         "orientation": "v",
         "showlegend": true,
         "type": "scatter",
         "x": [
          "Guernsey"
         ],
         "xaxis": "x",
         "y": [
          1.0037
         ],
         "yaxis": "y"
        },
        {
         "hovertemplate": "Country=%{x}<br>Growth Rate=%{y}<extra></extra>",
         "legendgroup": "Guinea",
         "marker": {
          "color": "#FFA15A",
          "symbol": "circle"
         },
         "mode": "markers",
         "name": "Guinea",
         "orientation": "v",
         "showlegend": true,
         "type": "scatter",
         "x": [
          "Guinea"
         ],
         "xaxis": "x",
         "y": [
          1.0242
         ],
         "yaxis": "y"
        },
        {
         "hovertemplate": "Country=%{x}<br>Growth Rate=%{y}<extra></extra>",
         "legendgroup": "Guinea-Bissau",
         "marker": {
          "color": "#19d3f3",
          "symbol": "circle"
         },
         "mode": "markers",
         "name": "Guinea-Bissau",
         "orientation": "v",
         "showlegend": true,
         "type": "scatter",
         "x": [
          "Guinea-Bissau"
         ],
         "xaxis": "x",
         "y": [
          1.0218
         ],
         "yaxis": "y"
        },
        {
         "hovertemplate": "Country=%{x}<br>Growth Rate=%{y}<extra></extra>",
         "legendgroup": "Guyana",
         "marker": {
          "color": "#FF6692",
          "symbol": "circle"
         },
         "mode": "markers",
         "name": "Guyana",
         "orientation": "v",
         "showlegend": true,
         "type": "scatter",
         "x": [
          "Guyana"
         ],
         "xaxis": "x",
         "y": [
          1.0052
         ],
         "yaxis": "y"
        },
        {
         "hovertemplate": "Country=%{x}<br>Growth Rate=%{y}<extra></extra>",
         "legendgroup": "Haiti",
         "marker": {
          "color": "#B6E880",
          "symbol": "circle"
         },
         "mode": "markers",
         "name": "Haiti",
         "orientation": "v",
         "showlegend": true,
         "type": "scatter",
         "x": [
          "Haiti"
         ],
         "xaxis": "x",
         "y": [
          1.012
         ],
         "yaxis": "y"
        },
        {
         "hovertemplate": "Country=%{x}<br>Growth Rate=%{y}<extra></extra>",
         "legendgroup": "Honduras",
         "marker": {
          "color": "#FF97FF",
          "symbol": "circle"
         },
         "mode": "markers",
         "name": "Honduras",
         "orientation": "v",
         "showlegend": true,
         "type": "scatter",
         "x": [
          "Honduras"
         ],
         "xaxis": "x",
         "y": [
          1.015
         ],
         "yaxis": "y"
        },
        {
         "hovertemplate": "Country=%{x}<br>Growth Rate=%{y}<extra></extra>",
         "legendgroup": "Hong Kong",
         "marker": {
          "color": "#FECB52",
          "symbol": "circle"
         },
         "mode": "markers",
         "name": "Hong Kong",
         "orientation": "v",
         "showlegend": true,
         "type": "scatter",
         "x": [
          "Hong Kong"
         ],
         "xaxis": "x",
         "y": [
          0.9992
         ],
         "yaxis": "y"
        },
        {
         "hovertemplate": "Country=%{x}<br>Growth Rate=%{y}<extra></extra>",
         "legendgroup": "Hungary",
         "marker": {
          "color": "#636efa",
          "symbol": "circle"
         },
         "mode": "markers",
         "name": "Hungary",
         "orientation": "v",
         "showlegend": true,
         "type": "scatter",
         "x": [
          "Hungary"
         ],
         "xaxis": "x",
         "y": [
          1.0265
         ],
         "yaxis": "y"
        },
        {
         "hovertemplate": "Country=%{x}<br>Growth Rate=%{y}<extra></extra>",
         "legendgroup": "Iceland",
         "marker": {
          "color": "#EF553B",
          "symbol": "circle"
         },
         "mode": "markers",
         "name": "Iceland",
         "orientation": "v",
         "showlegend": true,
         "type": "scatter",
         "x": [
          "Iceland"
         ],
         "xaxis": "x",
         "y": [
          1.0069
         ],
         "yaxis": "y"
        },
        {
         "hovertemplate": "Country=%{x}<br>Growth Rate=%{y}<extra></extra>",
         "legendgroup": "India",
         "marker": {
          "color": "#00cc96",
          "symbol": "circle"
         },
         "mode": "markers",
         "name": "India",
         "orientation": "v",
         "showlegend": true,
         "type": "scatter",
         "x": [
          "India"
         ],
         "xaxis": "x",
         "y": [
          1.0068
         ],
         "yaxis": "y"
        },
        {
         "hovertemplate": "Country=%{x}<br>Growth Rate=%{y}<extra></extra>",
         "legendgroup": "Indonesia",
         "marker": {
          "color": "#ab63fa",
          "symbol": "circle"
         },
         "mode": "markers",
         "name": "Indonesia",
         "orientation": "v",
         "showlegend": true,
         "type": "scatter",
         "x": [
          "Indonesia"
         ],
         "xaxis": "x",
         "y": [
          1.0064
         ],
         "yaxis": "y"
        },
        {
         "hovertemplate": "Country=%{x}<br>Growth Rate=%{y}<extra></extra>",
         "legendgroup": "Iran",
         "marker": {
          "color": "#FFA15A",
          "symbol": "circle"
         },
         "mode": "markers",
         "name": "Iran",
         "orientation": "v",
         "showlegend": true,
         "type": "scatter",
         "x": [
          "Iran"
         ],
         "xaxis": "x",
         "y": [
          1.0071
         ],
         "yaxis": "y"
        },
        {
         "hovertemplate": "Country=%{x}<br>Growth Rate=%{y}<extra></extra>",
         "legendgroup": "Iraq",
         "marker": {
          "color": "#19d3f3",
          "symbol": "circle"
         },
         "mode": "markers",
         "name": "Iraq",
         "orientation": "v",
         "showlegend": true,
         "type": "scatter",
         "x": [
          "Iraq"
         ],
         "xaxis": "x",
         "y": [
          1.0221
         ],
         "yaxis": "y"
        },
        {
         "hovertemplate": "Country=%{x}<br>Growth Rate=%{y}<extra></extra>",
         "legendgroup": "Ireland",
         "marker": {
          "color": "#FF6692",
          "symbol": "circle"
         },
         "mode": "markers",
         "name": "Ireland",
         "orientation": "v",
         "showlegend": true,
         "type": "scatter",
         "x": [
          "Ireland"
         ],
         "xaxis": "x",
         "y": [
          1.0073
         ],
         "yaxis": "y"
        },
        {
         "hovertemplate": "Country=%{x}<br>Growth Rate=%{y}<extra></extra>",
         "legendgroup": "Isle of Man",
         "marker": {
          "color": "#B6E880",
          "symbol": "circle"
         },
         "mode": "markers",
         "name": "Isle of Man",
         "orientation": "v",
         "showlegend": true,
         "type": "scatter",
         "x": [
          "Isle of Man"
         ],
         "xaxis": "x",
         "y": [
          1.003
         ],
         "yaxis": "y"
        },
        {
         "hovertemplate": "Country=%{x}<br>Growth Rate=%{y}<extra></extra>",
         "legendgroup": "Israel",
         "marker": {
          "color": "#FF97FF",
          "symbol": "circle"
         },
         "mode": "markers",
         "name": "Israel",
         "orientation": "v",
         "showlegend": true,
         "type": "scatter",
         "x": [
          "Israel"
         ],
         "xaxis": "x",
         "y": [
          1.0155
         ],
         "yaxis": "y"
        },
        {
         "hovertemplate": "Country=%{x}<br>Growth Rate=%{y}<extra></extra>",
         "legendgroup": "Italy",
         "marker": {
          "color": "#FECB52",
          "symbol": "circle"
         },
         "mode": "markers",
         "name": "Italy",
         "orientation": "v",
         "showlegend": true,
         "type": "scatter",
         "x": [
          "Italy"
         ],
         "xaxis": "x",
         "y": [
          0.9966
         ],
         "yaxis": "y"
        },
        {
         "hovertemplate": "Country=%{x}<br>Growth Rate=%{y}<extra></extra>",
         "legendgroup": "Ivory Coast",
         "marker": {
          "color": "#636efa",
          "symbol": "circle"
         },
         "mode": "markers",
         "name": "Ivory Coast",
         "orientation": "v",
         "showlegend": true,
         "type": "scatter",
         "x": [
          "Ivory Coast"
         ],
         "xaxis": "x",
         "y": [
          1.0248
         ],
         "yaxis": "y"
        },
        {
         "hovertemplate": "Country=%{x}<br>Growth Rate=%{y}<extra></extra>",
         "legendgroup": "Jamaica",
         "marker": {
          "color": "#EF553B",
          "symbol": "circle"
         },
         "mode": "markers",
         "name": "Jamaica",
         "orientation": "v",
         "showlegend": true,
         "type": "scatter",
         "x": [
          "Jamaica"
         ],
         "xaxis": "x",
         "y": [
          0.9999
         ],
         "yaxis": "y"
        },
        {
         "hovertemplate": "Country=%{x}<br>Growth Rate=%{y}<extra></extra>",
         "legendgroup": "Japan",
         "marker": {
          "color": "#00cc96",
          "symbol": "circle"
         },
         "mode": "markers",
         "name": "Japan",
         "orientation": "v",
         "showlegend": true,
         "type": "scatter",
         "x": [
          "Japan"
         ],
         "xaxis": "x",
         "y": [
          0.9947
         ],
         "yaxis": "y"
        },
        {
         "hovertemplate": "Country=%{x}<br>Growth Rate=%{y}<extra></extra>",
         "legendgroup": "Jersey",
         "marker": {
          "color": "#ab63fa",
          "symbol": "circle"
         },
         "mode": "markers",
         "name": "Jersey",
         "orientation": "v",
         "showlegend": true,
         "type": "scatter",
         "x": [
          "Jersey"
         ],
         "xaxis": "x",
         "y": [
          1.0106
         ],
         "yaxis": "y"
        },
        {
         "hovertemplate": "Country=%{x}<br>Growth Rate=%{y}<extra></extra>",
         "legendgroup": "Jordan",
         "marker": {
          "color": "#FFA15A",
          "symbol": "circle"
         },
         "mode": "markers",
         "name": "Jordan",
         "orientation": "v",
         "showlegend": true,
         "type": "scatter",
         "x": [
          "Jordan"
         ],
         "xaxis": "x",
         "y": [
          1.0123
         ],
         "yaxis": "y"
        },
        {
         "hovertemplate": "Country=%{x}<br>Growth Rate=%{y}<extra></extra>",
         "legendgroup": "Kazakhstan",
         "marker": {
          "color": "#19d3f3",
          "symbol": "circle"
         },
         "mode": "markers",
         "name": "Kazakhstan",
         "orientation": "v",
         "showlegend": true,
         "type": "scatter",
         "x": [
          "Kazakhstan"
         ],
         "xaxis": "x",
         "y": [
          1.0105
         ],
         "yaxis": "y"
        },
        {
         "hovertemplate": "Country=%{x}<br>Growth Rate=%{y}<extra></extra>",
         "legendgroup": "Kenya",
         "marker": {
          "color": "#FF6692",
          "symbol": "circle"
         },
         "mode": "markers",
         "name": "Kenya",
         "orientation": "v",
         "showlegend": true,
         "type": "scatter",
         "x": [
          "Kenya"
         ],
         "xaxis": "x",
         "y": [
          1.0193
         ],
         "yaxis": "y"
        },
        {
         "hovertemplate": "Country=%{x}<br>Growth Rate=%{y}<extra></extra>",
         "legendgroup": "Kiribati",
         "marker": {
          "color": "#B6E880",
          "symbol": "circle"
         },
         "mode": "markers",
         "name": "Kiribati",
         "orientation": "v",
         "showlegend": true,
         "type": "scatter",
         "x": [
          "Kiribati"
         ],
         "xaxis": "x",
         "y": [
          1.0183
         ],
         "yaxis": "y"
        },
        {
         "hovertemplate": "Country=%{x}<br>Growth Rate=%{y}<extra></extra>",
         "legendgroup": "Kuwait",
         "marker": {
          "color": "#FF97FF",
          "symbol": "circle"
         },
         "mode": "markers",
         "name": "Kuwait",
         "orientation": "v",
         "showlegend": true,
         "type": "scatter",
         "x": [
          "Kuwait"
         ],
         "xaxis": "x",
         "y": [
          1.0044
         ],
         "yaxis": "y"
        },
        {
         "hovertemplate": "Country=%{x}<br>Growth Rate=%{y}<extra></extra>",
         "legendgroup": "Kyrgyzstan",
         "marker": {
          "color": "#FECB52",
          "symbol": "circle"
         },
         "mode": "markers",
         "name": "Kyrgyzstan",
         "orientation": "v",
         "showlegend": true,
         "type": "scatter",
         "x": [
          "Kyrgyzstan"
         ],
         "xaxis": "x",
         "y": [
          1.0158
         ],
         "yaxis": "y"
        },
        {
         "hovertemplate": "Country=%{x}<br>Growth Rate=%{y}<extra></extra>",
         "legendgroup": "Laos",
         "marker": {
          "color": "#636efa",
          "symbol": "circle"
         },
         "mode": "markers",
         "name": "Laos",
         "orientation": "v",
         "showlegend": true,
         "type": "scatter",
         "x": [
          "Laos"
         ],
         "xaxis": "x",
         "y": [
          1.0141
         ],
         "yaxis": "y"
        },
        {
         "hovertemplate": "Country=%{x}<br>Growth Rate=%{y}<extra></extra>",
         "legendgroup": "Latvia",
         "marker": {
          "color": "#EF553B",
          "symbol": "circle"
         },
         "mode": "markers",
         "name": "Latvia",
         "orientation": "v",
         "showlegend": true,
         "type": "scatter",
         "x": [
          "Latvia"
         ],
         "xaxis": "x",
         "y": [
          0.9876
         ],
         "yaxis": "y"
        },
        {
         "hovertemplate": "Country=%{x}<br>Growth Rate=%{y}<extra></extra>",
         "legendgroup": "Lebanon",
         "marker": {
          "color": "#00cc96",
          "symbol": "circle"
         },
         "mode": "markers",
         "name": "Lebanon",
         "orientation": "v",
         "showlegend": true,
         "type": "scatter",
         "x": [
          "Lebanon"
         ],
         "xaxis": "x",
         "y": [
          0.9816
         ],
         "yaxis": "y"
        },
        {
         "hovertemplate": "Country=%{x}<br>Growth Rate=%{y}<extra></extra>",
         "legendgroup": "Lesotho",
         "marker": {
          "color": "#ab63fa",
          "symbol": "circle"
         },
         "mode": "markers",
         "name": "Lesotho",
         "orientation": "v",
         "showlegend": true,
         "type": "scatter",
         "x": [
          "Lesotho"
         ],
         "xaxis": "x",
         "y": [
          1.0107
         ],
         "yaxis": "y"
        },
        {
         "hovertemplate": "Country=%{x}<br>Growth Rate=%{y}<extra></extra>",
         "legendgroup": "Liberia",
         "marker": {
          "color": "#FFA15A",
          "symbol": "circle"
         },
         "mode": "markers",
         "name": "Liberia",
         "orientation": "v",
         "showlegend": true,
         "type": "scatter",
         "x": [
          "Liberia"
         ],
         "xaxis": "x",
         "y": [
          1.021
         ],
         "yaxis": "y"
        },
        {
         "hovertemplate": "Country=%{x}<br>Growth Rate=%{y}<extra></extra>",
         "legendgroup": "Libya",
         "marker": {
          "color": "#19d3f3",
          "symbol": "circle"
         },
         "mode": "markers",
         "name": "Libya",
         "orientation": "v",
         "showlegend": true,
         "type": "scatter",
         "x": [
          "Libya"
         ],
         "xaxis": "x",
         "y": [
          1.0114
         ],
         "yaxis": "y"
        },
        {
         "hovertemplate": "Country=%{x}<br>Growth Rate=%{y}<extra></extra>",
         "legendgroup": "Liechtenstein",
         "marker": {
          "color": "#FF6692",
          "symbol": "circle"
         },
         "mode": "markers",
         "name": "Liechtenstein",
         "orientation": "v",
         "showlegend": true,
         "type": "scatter",
         "x": [
          "Liechtenstein"
         ],
         "xaxis": "x",
         "y": [
          1.0074
         ],
         "yaxis": "y"
        },
        {
         "hovertemplate": "Country=%{x}<br>Growth Rate=%{y}<extra></extra>",
         "legendgroup": "Lithuania",
         "marker": {
          "color": "#B6E880",
          "symbol": "circle"
         },
         "mode": "markers",
         "name": "Lithuania",
         "orientation": "v",
         "showlegend": true,
         "type": "scatter",
         "x": [
          "Lithuania"
         ],
         "xaxis": "x",
         "y": [
          0.9869
         ],
         "yaxis": "y"
        },
        {
         "hovertemplate": "Country=%{x}<br>Growth Rate=%{y}<extra></extra>",
         "legendgroup": "Luxembourg",
         "marker": {
          "color": "#FF97FF",
          "symbol": "circle"
         },
         "mode": "markers",
         "name": "Luxembourg",
         "orientation": "v",
         "showlegend": true,
         "type": "scatter",
         "x": [
          "Luxembourg"
         ],
         "xaxis": "x",
         "y": [
          1.0129
         ],
         "yaxis": "y"
        },
        {
         "hovertemplate": "Country=%{x}<br>Growth Rate=%{y}<extra></extra>",
         "legendgroup": "Macau",
         "marker": {
          "color": "#FECB52",
          "symbol": "circle"
         },
         "mode": "markers",
         "name": "Macau",
         "orientation": "v",
         "showlegend": true,
         "type": "scatter",
         "x": [
          "Macau"
         ],
         "xaxis": "x",
         "y": [
          1.0125
         ],
         "yaxis": "y"
        },
        {
         "hovertemplate": "Country=%{x}<br>Growth Rate=%{y}<extra></extra>",
         "legendgroup": "Madagascar",
         "marker": {
          "color": "#636efa",
          "symbol": "circle"
         },
         "mode": "markers",
         "name": "Madagascar",
         "orientation": "v",
         "showlegend": true,
         "type": "scatter",
         "x": [
          "Madagascar"
         ],
         "xaxis": "x",
         "y": [
          1.0241
         ],
         "yaxis": "y"
        },
        {
         "hovertemplate": "Country=%{x}<br>Growth Rate=%{y}<extra></extra>",
         "legendgroup": "Malawi",
         "marker": {
          "color": "#EF553B",
          "symbol": "circle"
         },
         "mode": "markers",
         "name": "Malawi",
         "orientation": "v",
         "showlegend": true,
         "type": "scatter",
         "x": [
          "Malawi"
         ],
         "xaxis": "x",
         "y": [
          1.0259
         ],
         "yaxis": "y"
        },
        {
         "hovertemplate": "Country=%{x}<br>Growth Rate=%{y}<extra></extra>",
         "legendgroup": "Malaysia",
         "marker": {
          "color": "#00cc96",
          "symbol": "circle"
         },
         "mode": "markers",
         "name": "Malaysia",
         "orientation": "v",
         "showlegend": true,
         "type": "scatter",
         "x": [
          "Malaysia"
         ],
         "xaxis": "x",
         "y": [
          1.0109
         ],
         "yaxis": "y"
        },
        {
         "hovertemplate": "Country=%{x}<br>Growth Rate=%{y}<extra></extra>",
         "legendgroup": "Maldives",
         "marker": {
          "color": "#ab63fa",
          "symbol": "circle"
         },
         "mode": "markers",
         "name": "Maldives",
         "orientation": "v",
         "showlegend": true,
         "type": "scatter",
         "x": [
          "Maldives"
         ],
         "xaxis": "x",
         "y": [
          1.0045
         ],
         "yaxis": "y"
        },
        {
         "hovertemplate": "Country=%{x}<br>Growth Rate=%{y}<extra></extra>",
         "legendgroup": "Mali",
         "marker": {
          "color": "#FFA15A",
          "symbol": "circle"
         },
         "mode": "markers",
         "name": "Mali",
         "orientation": "v",
         "showlegend": true,
         "type": "scatter",
         "x": [
          "Mali"
         ],
         "xaxis": "x",
         "y": [
          1.0314
         ],
         "yaxis": "y"
        },
        {
         "hovertemplate": "Country=%{x}<br>Growth Rate=%{y}<extra></extra>",
         "legendgroup": "Malta",
         "marker": {
          "color": "#19d3f3",
          "symbol": "circle"
         },
         "mode": "markers",
         "name": "Malta",
         "orientation": "v",
         "showlegend": true,
         "type": "scatter",
         "x": [
          "Malta"
         ],
         "xaxis": "x",
         "y": [
          1.0124
         ],
         "yaxis": "y"
        },
        {
         "hovertemplate": "Country=%{x}<br>Growth Rate=%{y}<extra></extra>",
         "legendgroup": "Marshall Islands",
         "marker": {
          "color": "#FF6692",
          "symbol": "circle"
         },
         "mode": "markers",
         "name": "Marshall Islands",
         "orientation": "v",
         "showlegend": true,
         "type": "scatter",
         "x": [
          "Marshall Islands"
         ],
         "xaxis": "x",
         "y": [
          0.9886
         ],
         "yaxis": "y"
        },
        {
         "hovertemplate": "Country=%{x}<br>Growth Rate=%{y}<extra></extra>",
         "legendgroup": "Martinique",
         "marker": {
          "color": "#B6E880",
          "symbol": "circle"
         },
         "mode": "markers",
         "name": "Martinique",
         "orientation": "v",
         "showlegend": true,
         "type": "scatter",
         "x": [
          "Martinique"
         ],
         "xaxis": "x",
         "y": [
          0.9965
         ],
         "yaxis": "y"
        },
        {
         "hovertemplate": "Country=%{x}<br>Growth Rate=%{y}<extra></extra>",
         "legendgroup": "Mauritania",
         "marker": {
          "color": "#FF97FF",
          "symbol": "circle"
         },
         "mode": "markers",
         "name": "Mauritania",
         "orientation": "v",
         "showlegend": true,
         "type": "scatter",
         "x": [
          "Mauritania"
         ],
         "xaxis": "x",
         "y": [
          1.0263
         ],
         "yaxis": "y"
        },
        {
         "hovertemplate": "Country=%{x}<br>Growth Rate=%{y}<extra></extra>",
         "legendgroup": "Mauritius",
         "marker": {
          "color": "#FECB52",
          "symbol": "circle"
         },
         "mode": "markers",
         "name": "Mauritius",
         "orientation": "v",
         "showlegend": true,
         "type": "scatter",
         "x": [
          "Mauritius"
         ],
         "xaxis": "x",
         "y": [
          1.0004
         ],
         "yaxis": "y"
        },
        {
         "hovertemplate": "Country=%{x}<br>Growth Rate=%{y}<extra></extra>",
         "legendgroup": "Mayotte",
         "marker": {
          "color": "#636efa",
          "symbol": "circle"
         },
         "mode": "markers",
         "name": "Mayotte",
         "orientation": "v",
         "showlegend": true,
         "type": "scatter",
         "x": [
          "Mayotte"
         ],
         "xaxis": "x",
         "y": [
          1.0319
         ],
         "yaxis": "y"
        },
        {
         "hovertemplate": "Country=%{x}<br>Growth Rate=%{y}<extra></extra>",
         "legendgroup": "Mexico",
         "marker": {
          "color": "#EF553B",
          "symbol": "circle"
         },
         "mode": "markers",
         "name": "Mexico",
         "orientation": "v",
         "showlegend": true,
         "type": "scatter",
         "x": [
          "Mexico"
         ],
         "xaxis": "x",
         "y": [
          1.0063
         ],
         "yaxis": "y"
        },
        {
         "hovertemplate": "Country=%{x}<br>Growth Rate=%{y}<extra></extra>",
         "legendgroup": "Micronesia",
         "marker": {
          "color": "#00cc96",
          "symbol": "circle"
         },
         "mode": "markers",
         "name": "Micronesia",
         "orientation": "v",
         "showlegend": true,
         "type": "scatter",
         "x": [
          "Micronesia"
         ],
         "xaxis": "x",
         "y": [
          1.0091
         ],
         "yaxis": "y"
        },
        {
         "hovertemplate": "Country=%{x}<br>Growth Rate=%{y}<extra></extra>",
         "legendgroup": "Moldova",
         "marker": {
          "color": "#ab63fa",
          "symbol": "circle"
         },
         "mode": "markers",
         "name": "Moldova",
         "orientation": "v",
         "showlegend": true,
         "type": "scatter",
         "x": [
          "Moldova"
         ],
         "xaxis": "x",
         "y": [
          1.0691
         ],
         "yaxis": "y"
        },
        {
         "hovertemplate": "Country=%{x}<br>Growth Rate=%{y}<extra></extra>",
         "legendgroup": "Monaco",
         "marker": {
          "color": "#FFA15A",
          "symbol": "circle"
         },
         "mode": "markers",
         "name": "Monaco",
         "orientation": "v",
         "showlegend": true,
         "type": "scatter",
         "x": [
          "Monaco"
         ],
         "xaxis": "x",
         "y": [
          0.9941
         ],
         "yaxis": "y"
        },
        {
         "hovertemplate": "Country=%{x}<br>Growth Rate=%{y}<extra></extra>",
         "legendgroup": "Mongolia",
         "marker": {
          "color": "#19d3f3",
          "symbol": "circle"
         },
         "mode": "markers",
         "name": "Mongolia",
         "orientation": "v",
         "showlegend": true,
         "type": "scatter",
         "x": [
          "Mongolia"
         ],
         "xaxis": "x",
         "y": [
          1.0151
         ],
         "yaxis": "y"
        },
        {
         "hovertemplate": "Country=%{x}<br>Growth Rate=%{y}<extra></extra>",
         "legendgroup": "Montenegro",
         "marker": {
          "color": "#FF6692",
          "symbol": "circle"
         },
         "mode": "markers",
         "name": "Montenegro",
         "orientation": "v",
         "showlegend": true,
         "type": "scatter",
         "x": [
          "Montenegro"
         ],
         "xaxis": "x",
         "y": [
          0.9988
         ],
         "yaxis": "y"
        },
        {
         "hovertemplate": "Country=%{x}<br>Growth Rate=%{y}<extra></extra>",
         "legendgroup": "Montserrat",
         "marker": {
          "color": "#B6E880",
          "symbol": "circle"
         },
         "mode": "markers",
         "name": "Montserrat",
         "orientation": "v",
         "showlegend": true,
         "type": "scatter",
         "x": [
          "Montserrat"
         ],
         "xaxis": "x",
         "y": [
          0.9939
         ],
         "yaxis": "y"
        },
        {
         "hovertemplate": "Country=%{x}<br>Growth Rate=%{y}<extra></extra>",
         "legendgroup": "Morocco",
         "marker": {
          "color": "#FF97FF",
          "symbol": "circle"
         },
         "mode": "markers",
         "name": "Morocco",
         "orientation": "v",
         "showlegend": true,
         "type": "scatter",
         "x": [
          "Morocco"
         ],
         "xaxis": "x",
         "y": [
          1.0103
         ],
         "yaxis": "y"
        },
        {
         "hovertemplate": "Country=%{x}<br>Growth Rate=%{y}<extra></extra>",
         "legendgroup": "Mozambique",
         "marker": {
          "color": "#FECB52",
          "symbol": "circle"
         },
         "mode": "markers",
         "name": "Mozambique",
         "orientation": "v",
         "showlegend": true,
         "type": "scatter",
         "x": [
          "Mozambique"
         ],
         "xaxis": "x",
         "y": [
          1.0278
         ],
         "yaxis": "y"
        },
        {
         "hovertemplate": "Country=%{x}<br>Growth Rate=%{y}<extra></extra>",
         "legendgroup": "Myanmar",
         "marker": {
          "color": "#636efa",
          "symbol": "circle"
         },
         "mode": "markers",
         "name": "Myanmar",
         "orientation": "v",
         "showlegend": true,
         "type": "scatter",
         "x": [
          "Myanmar"
         ],
         "xaxis": "x",
         "y": [
          1.0071
         ],
         "yaxis": "y"
        },
        {
         "hovertemplate": "Country=%{x}<br>Growth Rate=%{y}<extra></extra>",
         "legendgroup": "Namibia",
         "marker": {
          "color": "#EF553B",
          "symbol": "circle"
         },
         "mode": "markers",
         "name": "Namibia",
         "orientation": "v",
         "showlegend": true,
         "type": "scatter",
         "x": [
          "Namibia"
         ],
         "xaxis": "x",
         "y": [
          1.0146
         ],
         "yaxis": "y"
        },
        {
         "hovertemplate": "Country=%{x}<br>Growth Rate=%{y}<extra></extra>",
         "legendgroup": "Nauru",
         "marker": {
          "color": "#00cc96",
          "symbol": "circle"
         },
         "mode": "markers",
         "name": "Nauru",
         "orientation": "v",
         "showlegend": true,
         "type": "scatter",
         "x": [
          "Nauru"
         ],
         "xaxis": "x",
         "y": [
          1.0125
         ],
         "yaxis": "y"
        },
        {
         "hovertemplate": "Country=%{x}<br>Growth Rate=%{y}<extra></extra>",
         "legendgroup": "Nepal",
         "marker": {
          "color": "#ab63fa",
          "symbol": "circle"
         },
         "mode": "markers",
         "name": "Nepal",
         "orientation": "v",
         "showlegend": true,
         "type": "scatter",
         "x": [
          "Nepal"
         ],
         "xaxis": "x",
         "y": [
          1.0171
         ],
         "yaxis": "y"
        },
        {
         "hovertemplate": "Country=%{x}<br>Growth Rate=%{y}<extra></extra>",
         "legendgroup": "Netherlands",
         "marker": {
          "color": "#FFA15A",
          "symbol": "circle"
         },
         "mode": "markers",
         "name": "Netherlands",
         "orientation": "v",
         "showlegend": true,
         "type": "scatter",
         "x": [
          "Netherlands"
         ],
         "xaxis": "x",
         "y": [
          1.0036
         ],
         "yaxis": "y"
        },
        {
         "hovertemplate": "Country=%{x}<br>Growth Rate=%{y}<extra></extra>",
         "legendgroup": "New Caledonia",
         "marker": {
          "color": "#19d3f3",
          "symbol": "circle"
         },
         "mode": "markers",
         "name": "New Caledonia",
         "orientation": "v",
         "showlegend": true,
         "type": "scatter",
         "x": [
          "New Caledonia"
         ],
         "xaxis": "x",
         "y": [
          1.0075
         ],
         "yaxis": "y"
        },
        {
         "hovertemplate": "Country=%{x}<br>Growth Rate=%{y}<extra></extra>",
         "legendgroup": "New Zealand",
         "marker": {
          "color": "#FF6692",
          "symbol": "circle"
         },
         "mode": "markers",
         "name": "New Zealand",
         "orientation": "v",
         "showlegend": true,
         "type": "scatter",
         "x": [
          "New Zealand"
         ],
         "xaxis": "x",
         "y": [
          1.0108
         ],
         "yaxis": "y"
        },
        {
         "hovertemplate": "Country=%{x}<br>Growth Rate=%{y}<extra></extra>",
         "legendgroup": "Nicaragua",
         "marker": {
          "color": "#B6E880",
          "symbol": "circle"
         },
         "mode": "markers",
         "name": "Nicaragua",
         "orientation": "v",
         "showlegend": true,
         "type": "scatter",
         "x": [
          "Nicaragua"
         ],
         "xaxis": "x",
         "y": [
          1.0143
         ],
         "yaxis": "y"
        },
        {
         "hovertemplate": "Country=%{x}<br>Growth Rate=%{y}<extra></extra>",
         "legendgroup": "Niger",
         "marker": {
          "color": "#FF97FF",
          "symbol": "circle"
         },
         "mode": "markers",
         "name": "Niger",
         "orientation": "v",
         "showlegend": true,
         "type": "scatter",
         "x": [
          "Niger"
         ],
         "xaxis": "x",
         "y": [
          1.0378
         ],
         "yaxis": "y"
        },
        {
         "hovertemplate": "Country=%{x}<br>Growth Rate=%{y}<extra></extra>",
         "legendgroup": "Nigeria",
         "marker": {
          "color": "#FECB52",
          "symbol": "circle"
         },
         "mode": "markers",
         "name": "Nigeria",
         "orientation": "v",
         "showlegend": true,
         "type": "scatter",
         "x": [
          "Nigeria"
         ],
         "xaxis": "x",
         "y": [
          1.0241
         ],
         "yaxis": "y"
        },
        {
         "hovertemplate": "Country=%{x}<br>Growth Rate=%{y}<extra></extra>",
         "legendgroup": "Niue",
         "marker": {
          "color": "#636efa",
          "symbol": "circle"
         },
         "mode": "markers",
         "name": "Niue",
         "orientation": "v",
         "showlegend": true,
         "type": "scatter",
         "x": [
          "Niue"
         ],
         "xaxis": "x",
         "y": [
          0.9985
         ],
         "yaxis": "y"
        },
        {
         "hovertemplate": "Country=%{x}<br>Growth Rate=%{y}<extra></extra>",
         "legendgroup": "North Korea",
         "marker": {
          "color": "#EF553B",
          "symbol": "circle"
         },
         "mode": "markers",
         "name": "North Korea",
         "orientation": "v",
         "showlegend": true,
         "type": "scatter",
         "x": [
          "North Korea"
         ],
         "xaxis": "x",
         "y": [
          1.0038
         ],
         "yaxis": "y"
        },
        {
         "hovertemplate": "Country=%{x}<br>Growth Rate=%{y}<extra></extra>",
         "legendgroup": "North Macedonia",
         "marker": {
          "color": "#00cc96",
          "symbol": "circle"
         },
         "mode": "markers",
         "name": "North Macedonia",
         "orientation": "v",
         "showlegend": true,
         "type": "scatter",
         "x": [
          "North Macedonia"
         ],
         "xaxis": "x",
         "y": [
          0.9954
         ],
         "yaxis": "y"
        },
        {
         "hovertemplate": "Country=%{x}<br>Growth Rate=%{y}<extra></extra>",
         "legendgroup": "Northern Mariana Islands",
         "marker": {
          "color": "#ab63fa",
          "symbol": "circle"
         },
         "mode": "markers",
         "name": "Northern Mariana Islands",
         "orientation": "v",
         "showlegend": true,
         "type": "scatter",
         "x": [
          "Northern Mariana Islands"
         ],
         "xaxis": "x",
         "y": [
          1.0014
         ],
         "yaxis": "y"
        },
        {
         "hovertemplate": "Country=%{x}<br>Growth Rate=%{y}<extra></extra>",
         "legendgroup": "Norway",
         "marker": {
          "color": "#FFA15A",
          "symbol": "circle"
         },
         "mode": "markers",
         "name": "Norway",
         "orientation": "v",
         "showlegend": true,
         "type": "scatter",
         "x": [
          "Norway"
         ],
         "xaxis": "x",
         "y": [
          1.0058
         ],
         "yaxis": "y"
        },
        {
         "hovertemplate": "Country=%{x}<br>Growth Rate=%{y}<extra></extra>",
         "legendgroup": "Oman",
         "marker": {
          "color": "#19d3f3",
          "symbol": "circle"
         },
         "mode": "markers",
         "name": "Oman",
         "orientation": "v",
         "showlegend": true,
         "type": "scatter",
         "x": [
          "Oman"
         ],
         "xaxis": "x",
         "y": [
          1.0123
         ],
         "yaxis": "y"
        },
        {
         "hovertemplate": "Country=%{x}<br>Growth Rate=%{y}<extra></extra>",
         "legendgroup": "Pakistan",
         "marker": {
          "color": "#FF6692",
          "symbol": "circle"
         },
         "mode": "markers",
         "name": "Pakistan",
         "orientation": "v",
         "showlegend": true,
         "type": "scatter",
         "x": [
          "Pakistan"
         ],
         "xaxis": "x",
         "y": [
          1.0191
         ],
         "yaxis": "y"
        },
        {
         "hovertemplate": "Country=%{x}<br>Growth Rate=%{y}<extra></extra>",
         "legendgroup": "Palau",
         "marker": {
          "color": "#B6E880",
          "symbol": "circle"
         },
         "mode": "markers",
         "name": "Palau",
         "orientation": "v",
         "showlegend": true,
         "type": "scatter",
         "x": [
          "Palau"
         ],
         "xaxis": "x",
         "y": [
          1.0017
         ],
         "yaxis": "y"
        },
        {
         "hovertemplate": "Country=%{x}<br>Growth Rate=%{y}<extra></extra>",
         "legendgroup": "Palestine",
         "marker": {
          "color": "#FF97FF",
          "symbol": "circle"
         },
         "mode": "markers",
         "name": "Palestine",
         "orientation": "v",
         "showlegend": true,
         "type": "scatter",
         "x": [
          "Palestine"
         ],
         "xaxis": "x",
         "y": [
          1.0227
         ],
         "yaxis": "y"
        },
        {
         "hovertemplate": "Country=%{x}<br>Growth Rate=%{y}<extra></extra>",
         "legendgroup": "Panama",
         "marker": {
          "color": "#FECB52",
          "symbol": "circle"
         },
         "mode": "markers",
         "name": "Panama",
         "orientation": "v",
         "showlegend": true,
         "type": "scatter",
         "x": [
          "Panama"
         ],
         "xaxis": "x",
         "y": [
          1.0132
         ],
         "yaxis": "y"
        },
        {
         "hovertemplate": "Country=%{x}<br>Growth Rate=%{y}<extra></extra>",
         "legendgroup": "Papua New Guinea",
         "marker": {
          "color": "#636efa",
          "symbol": "circle"
         },
         "mode": "markers",
         "name": "Papua New Guinea",
         "orientation": "v",
         "showlegend": true,
         "type": "scatter",
         "x": [
          "Papua New Guinea"
         ],
         "xaxis": "x",
         "y": [
          1.0194
         ],
         "yaxis": "y"
        },
        {
         "hovertemplate": "Country=%{x}<br>Growth Rate=%{y}<extra></extra>",
         "legendgroup": "Paraguay",
         "marker": {
          "color": "#EF553B",
          "symbol": "circle"
         },
         "mode": "markers",
         "name": "Paraguay",
         "orientation": "v",
         "showlegend": true,
         "type": "scatter",
         "x": [
          "Paraguay"
         ],
         "xaxis": "x",
         "y": [
          1.0115
         ],
         "yaxis": "y"
        },
        {
         "hovertemplate": "Country=%{x}<br>Growth Rate=%{y}<extra></extra>",
         "legendgroup": "Peru",
         "marker": {
          "color": "#00cc96",
          "symbol": "circle"
         },
         "mode": "markers",
         "name": "Peru",
         "orientation": "v",
         "showlegend": true,
         "type": "scatter",
         "x": [
          "Peru"
         ],
         "xaxis": "x",
         "y": [
          1.0099
         ],
         "yaxis": "y"
        },
        {
         "hovertemplate": "Country=%{x}<br>Growth Rate=%{y}<extra></extra>",
         "legendgroup": "Philippines",
         "marker": {
          "color": "#ab63fa",
          "symbol": "circle"
         },
         "mode": "markers",
         "name": "Philippines",
         "orientation": "v",
         "showlegend": true,
         "type": "scatter",
         "x": [
          "Philippines"
         ],
         "xaxis": "x",
         "y": [
          1.0147
         ],
         "yaxis": "y"
        },
        {
         "hovertemplate": "Country=%{x}<br>Growth Rate=%{y}<extra></extra>",
         "legendgroup": "Poland",
         "marker": {
          "color": "#FFA15A",
          "symbol": "circle"
         },
         "mode": "markers",
         "name": "Poland",
         "orientation": "v",
         "showlegend": true,
         "type": "scatter",
         "x": [
          "Poland"
         ],
         "xaxis": "x",
         "y": [
          1.0404
         ],
         "yaxis": "y"
        },
        {
         "hovertemplate": "Country=%{x}<br>Growth Rate=%{y}<extra></extra>",
         "legendgroup": "Portugal",
         "marker": {
          "color": "#19d3f3",
          "symbol": "circle"
         },
         "mode": "markers",
         "name": "Portugal",
         "orientation": "v",
         "showlegend": true,
         "type": "scatter",
         "x": [
          "Portugal"
         ],
         "xaxis": "x",
         "y": [
          0.9981
         ],
         "yaxis": "y"
        },
        {
         "hovertemplate": "Country=%{x}<br>Growth Rate=%{y}<extra></extra>",
         "legendgroup": "Puerto Rico",
         "marker": {
          "color": "#FF6692",
          "symbol": "circle"
         },
         "mode": "markers",
         "name": "Puerto Rico",
         "orientation": "v",
         "showlegend": true,
         "type": "scatter",
         "x": [
          "Puerto Rico"
         ],
         "xaxis": "x",
         "y": [
          0.9989
         ],
         "yaxis": "y"
        },
        {
         "hovertemplate": "Country=%{x}<br>Growth Rate=%{y}<extra></extra>",
         "legendgroup": "Qatar",
         "marker": {
          "color": "#B6E880",
          "symbol": "circle"
         },
         "mode": "markers",
         "name": "Qatar",
         "orientation": "v",
         "showlegend": true,
         "type": "scatter",
         "x": [
          "Qatar"
         ],
         "xaxis": "x",
         "y": [
          1.0026
         ],
         "yaxis": "y"
        },
        {
         "hovertemplate": "Country=%{x}<br>Growth Rate=%{y}<extra></extra>",
         "legendgroup": "Republic of the Congo",
         "marker": {
          "color": "#FF97FF",
          "symbol": "circle"
         },
         "mode": "markers",
         "name": "Republic of the Congo",
         "orientation": "v",
         "showlegend": true,
         "type": "scatter",
         "x": [
          "Republic of the Congo"
         ],
         "xaxis": "x",
         "y": [
          1.0231
         ],
         "yaxis": "y"
        },
        {
         "hovertemplate": "Country=%{x}<br>Growth Rate=%{y}<extra></extra>",
         "legendgroup": "Reunion",
         "marker": {
          "color": "#FECB52",
          "symbol": "circle"
         },
         "mode": "markers",
         "name": "Reunion",
         "orientation": "v",
         "showlegend": true,
         "type": "scatter",
         "x": [
          "Reunion"
         ],
         "xaxis": "x",
         "y": [
          1.0082
         ],
         "yaxis": "y"
        },
        {
         "hovertemplate": "Country=%{x}<br>Growth Rate=%{y}<extra></extra>",
         "legendgroup": "Romania",
         "marker": {
          "color": "#636efa",
          "symbol": "circle"
         },
         "mode": "markers",
         "name": "Romania",
         "orientation": "v",
         "showlegend": true,
         "type": "scatter",
         "x": [
          "Romania"
         ],
         "xaxis": "x",
         "y": [
          1.0171
         ],
         "yaxis": "y"
        },
        {
         "hovertemplate": "Country=%{x}<br>Growth Rate=%{y}<extra></extra>",
         "legendgroup": "Russia",
         "marker": {
          "color": "#EF553B",
          "symbol": "circle"
         },
         "mode": "markers",
         "name": "Russia",
         "orientation": "v",
         "showlegend": true,
         "type": "scatter",
         "x": [
          "Russia"
         ],
         "xaxis": "x",
         "y": [
          0.9973
         ],
         "yaxis": "y"
        },
        {
         "hovertemplate": "Country=%{x}<br>Growth Rate=%{y}<extra></extra>",
         "legendgroup": "Rwanda",
         "marker": {
          "color": "#00cc96",
          "symbol": "circle"
         },
         "mode": "markers",
         "name": "Rwanda",
         "orientation": "v",
         "showlegend": true,
         "type": "scatter",
         "x": [
          "Rwanda"
         ],
         "xaxis": "x",
         "y": [
          1.0234
         ],
         "yaxis": "y"
        },
        {
         "hovertemplate": "Country=%{x}<br>Growth Rate=%{y}<extra></extra>",
         "legendgroup": "Saint Barthelemy",
         "marker": {
          "color": "#ab63fa",
          "symbol": "circle"
         },
         "mode": "markers",
         "name": "Saint Barthelemy",
         "orientation": "v",
         "showlegend": true,
         "type": "scatter",
         "x": [
          "Saint Barthelemy"
         ],
         "xaxis": "x",
         "y": [
          1.0098
         ],
         "yaxis": "y"
        },
        {
         "hovertemplate": "Country=%{x}<br>Growth Rate=%{y}<extra></extra>",
         "legendgroup": "Saint Kitts and Nevis",
         "marker": {
          "color": "#FFA15A",
          "symbol": "circle"
         },
         "mode": "markers",
         "name": "Saint Kitts and Nevis",
         "orientation": "v",
         "showlegend": true,
         "type": "scatter",
         "x": [
          "Saint Kitts and Nevis"
         ],
         "xaxis": "x",
         "y": [
          1.0011
         ],
         "yaxis": "y"
        },
        {
         "hovertemplate": "Country=%{x}<br>Growth Rate=%{y}<extra></extra>",
         "legendgroup": "Saint Lucia",
         "marker": {
          "color": "#19d3f3",
          "symbol": "circle"
         },
         "mode": "markers",
         "name": "Saint Lucia",
         "orientation": "v",
         "showlegend": true,
         "type": "scatter",
         "x": [
          "Saint Lucia"
         ],
         "xaxis": "x",
         "y": [
          1.0011
         ],
         "yaxis": "y"
        },
        {
         "hovertemplate": "Country=%{x}<br>Growth Rate=%{y}<extra></extra>",
         "legendgroup": "Saint Martin",
         "marker": {
          "color": "#FF6692",
          "symbol": "circle"
         },
         "mode": "markers",
         "name": "Saint Martin",
         "orientation": "v",
         "showlegend": true,
         "type": "scatter",
         "x": [
          "Saint Martin"
         ],
         "xaxis": "x",
         "y": [
          0.9951
         ],
         "yaxis": "y"
        },
        {
         "hovertemplate": "Country=%{x}<br>Growth Rate=%{y}<extra></extra>",
         "legendgroup": "Saint Pierre and Miquelon",
         "marker": {
          "color": "#B6E880",
          "symbol": "circle"
         },
         "mode": "markers",
         "name": "Saint Pierre and Miquelon",
         "orientation": "v",
         "showlegend": true,
         "type": "scatter",
         "x": [
          "Saint Pierre and Miquelon"
         ],
         "xaxis": "x",
         "y": [
          0.9964
         ],
         "yaxis": "y"
        },
        {
         "hovertemplate": "Country=%{x}<br>Growth Rate=%{y}<extra></extra>",
         "legendgroup": "Saint Vincent and the Grenadines",
         "marker": {
          "color": "#FF97FF",
          "symbol": "circle"
         },
         "mode": "markers",
         "name": "Saint Vincent and the Grenadines",
         "orientation": "v",
         "showlegend": true,
         "type": "scatter",
         "x": [
          "Saint Vincent and the Grenadines"
         ],
         "xaxis": "x",
         "y": [
          0.9963
         ],
         "yaxis": "y"
        },
        {
         "hovertemplate": "Country=%{x}<br>Growth Rate=%{y}<extra></extra>",
         "legendgroup": "Samoa",
         "marker": {
          "color": "#FECB52",
          "symbol": "circle"
         },
         "mode": "markers",
         "name": "Samoa",
         "orientation": "v",
         "showlegend": true,
         "type": "scatter",
         "x": [
          "Samoa"
         ],
         "xaxis": "x",
         "y": [
          1.0165
         ],
         "yaxis": "y"
        },
        {
         "hovertemplate": "Country=%{x}<br>Growth Rate=%{y}<extra></extra>",
         "legendgroup": "San Marino",
         "marker": {
          "color": "#636efa",
          "symbol": "circle"
         },
         "mode": "markers",
         "name": "San Marino",
         "orientation": "v",
         "showlegend": true,
         "type": "scatter",
         "x": [
          "San Marino"
         ],
         "xaxis": "x",
         "y": [
          0.9975
         ],
         "yaxis": "y"
        },
        {
         "hovertemplate": "Country=%{x}<br>Growth Rate=%{y}<extra></extra>",
         "legendgroup": "Sao Tome and Principe",
         "marker": {
          "color": "#EF553B",
          "symbol": "circle"
         },
         "mode": "markers",
         "name": "Sao Tome and Principe",
         "orientation": "v",
         "showlegend": true,
         "type": "scatter",
         "x": [
          "Sao Tome and Principe"
         ],
         "xaxis": "x",
         "y": [
          1.0192
         ],
         "yaxis": "y"
        },
        {
         "hovertemplate": "Country=%{x}<br>Growth Rate=%{y}<extra></extra>",
         "legendgroup": "Saudi Arabia",
         "marker": {
          "color": "#00cc96",
          "symbol": "circle"
         },
         "mode": "markers",
         "name": "Saudi Arabia",
         "orientation": "v",
         "showlegend": true,
         "type": "scatter",
         "x": [
          "Saudi Arabia"
         ],
         "xaxis": "x",
         "y": [
          1.0128
         ],
         "yaxis": "y"
        },
        {
         "hovertemplate": "Country=%{x}<br>Growth Rate=%{y}<extra></extra>",
         "legendgroup": "Senegal",
         "marker": {
          "color": "#ab63fa",
          "symbol": "circle"
         },
         "mode": "markers",
         "name": "Senegal",
         "orientation": "v",
         "showlegend": true,
         "type": "scatter",
         "x": [
          "Senegal"
         ],
         "xaxis": "x",
         "y": [
          1.0261
         ],
         "yaxis": "y"
        },
        {
         "hovertemplate": "Country=%{x}<br>Growth Rate=%{y}<extra></extra>",
         "legendgroup": "Serbia",
         "marker": {
          "color": "#FFA15A",
          "symbol": "circle"
         },
         "mode": "markers",
         "name": "Serbia",
         "orientation": "v",
         "showlegend": true,
         "type": "scatter",
         "x": [
          "Serbia"
         ],
         "xaxis": "x",
         "y": [
          0.9897
         ],
         "yaxis": "y"
        },
        {
         "hovertemplate": "Country=%{x}<br>Growth Rate=%{y}<extra></extra>",
         "legendgroup": "Seychelles",
         "marker": {
          "color": "#19d3f3",
          "symbol": "circle"
         },
         "mode": "markers",
         "name": "Seychelles",
         "orientation": "v",
         "showlegend": true,
         "type": "scatter",
         "x": [
          "Seychelles"
         ],
         "xaxis": "x",
         "y": [
          1.0061
         ],
         "yaxis": "y"
        },
        {
         "hovertemplate": "Country=%{x}<br>Growth Rate=%{y}<extra></extra>",
         "legendgroup": "Sierra Leone",
         "marker": {
          "color": "#FF6692",
          "symbol": "circle"
         },
         "mode": "markers",
         "name": "Sierra Leone",
         "orientation": "v",
         "showlegend": true,
         "type": "scatter",
         "x": [
          "Sierra Leone"
         ],
         "xaxis": "x",
         "y": [
          1.022
         ],
         "yaxis": "y"
        },
        {
         "hovertemplate": "Country=%{x}<br>Growth Rate=%{y}<extra></extra>",
         "legendgroup": "Singapore",
         "marker": {
          "color": "#B6E880",
          "symbol": "circle"
         },
         "mode": "markers",
         "name": "Singapore",
         "orientation": "v",
         "showlegend": true,
         "type": "scatter",
         "x": [
          "Singapore"
         ],
         "xaxis": "x",
         "y": [
          1.0058
         ],
         "yaxis": "y"
        },
        {
         "hovertemplate": "Country=%{x}<br>Growth Rate=%{y}<extra></extra>",
         "legendgroup": "Sint Maarten",
         "marker": {
          "color": "#FF97FF",
          "symbol": "circle"
         },
         "mode": "markers",
         "name": "Sint Maarten",
         "orientation": "v",
         "showlegend": true,
         "type": "scatter",
         "x": [
          "Sint Maarten"
         ],
         "xaxis": "x",
         "y": [
          1.003
         ],
         "yaxis": "y"
        },
        {
         "hovertemplate": "Country=%{x}<br>Growth Rate=%{y}<extra></extra>",
         "legendgroup": "Slovakia",
         "marker": {
          "color": "#FECB52",
          "symbol": "circle"
         },
         "mode": "markers",
         "name": "Slovakia",
         "orientation": "v",
         "showlegend": true,
         "type": "scatter",
         "x": [
          "Slovakia"
         ],
         "xaxis": "x",
         "y": [
          1.0359
         ],
         "yaxis": "y"
        },
        {
         "hovertemplate": "Country=%{x}<br>Growth Rate=%{y}<extra></extra>",
         "legendgroup": "Slovenia",
         "marker": {
          "color": "#636efa",
          "symbol": "circle"
         },
         "mode": "markers",
         "name": "Slovenia",
         "orientation": "v",
         "showlegend": true,
         "type": "scatter",
         "x": [
          "Slovenia"
         ],
         "xaxis": "x",
         "y": [
          1.0002
         ],
         "yaxis": "y"
        },
        {
         "hovertemplate": "Country=%{x}<br>Growth Rate=%{y}<extra></extra>",
         "legendgroup": "Solomon Islands",
         "marker": {
          "color": "#EF553B",
          "symbol": "circle"
         },
         "mode": "markers",
         "name": "Solomon Islands",
         "orientation": "v",
         "showlegend": true,
         "type": "scatter",
         "x": [
          "Solomon Islands"
         ],
         "xaxis": "x",
         "y": [
          1.0232
         ],
         "yaxis": "y"
        },
        {
         "hovertemplate": "Country=%{x}<br>Growth Rate=%{y}<extra></extra>",
         "legendgroup": "Somalia",
         "marker": {
          "color": "#00cc96",
          "symbol": "circle"
         },
         "mode": "markers",
         "name": "Somalia",
         "orientation": "v",
         "showlegend": true,
         "type": "scatter",
         "x": [
          "Somalia"
         ],
         "xaxis": "x",
         "y": [
          1.0312
         ],
         "yaxis": "y"
        },
        {
         "hovertemplate": "Country=%{x}<br>Growth Rate=%{y}<extra></extra>",
         "legendgroup": "South Africa",
         "marker": {
          "color": "#ab63fa",
          "symbol": "circle"
         },
         "mode": "markers",
         "name": "South Africa",
         "orientation": "v",
         "showlegend": true,
         "type": "scatter",
         "x": [
          "South Africa"
         ],
         "xaxis": "x",
         "y": [
          1.0084
         ],
         "yaxis": "y"
        },
        {
         "hovertemplate": "Country=%{x}<br>Growth Rate=%{y}<extra></extra>",
         "legendgroup": "South Korea",
         "marker": {
          "color": "#FFA15A",
          "symbol": "circle"
         },
         "mode": "markers",
         "name": "South Korea",
         "orientation": "v",
         "showlegend": true,
         "type": "scatter",
         "x": [
          "South Korea"
         ],
         "xaxis": "x",
         "y": [
          0.9997
         ],
         "yaxis": "y"
        },
        {
         "hovertemplate": "Country=%{x}<br>Growth Rate=%{y}<extra></extra>",
         "legendgroup": "South Sudan",
         "marker": {
          "color": "#19d3f3",
          "symbol": "circle"
         },
         "mode": "markers",
         "name": "South Sudan",
         "orientation": "v",
         "showlegend": true,
         "type": "scatter",
         "x": [
          "South Sudan"
         ],
         "xaxis": "x",
         "y": [
          1.0153
         ],
         "yaxis": "y"
        },
        {
         "hovertemplate": "Country=%{x}<br>Growth Rate=%{y}<extra></extra>",
         "legendgroup": "Spain",
         "marker": {
          "color": "#FF6692",
          "symbol": "circle"
         },
         "mode": "markers",
         "name": "Spain",
         "orientation": "v",
         "showlegend": true,
         "type": "scatter",
         "x": [
          "Spain"
         ],
         "xaxis": "x",
         "y": [
          1.0015
         ],
         "yaxis": "y"
        },
        {
         "hovertemplate": "Country=%{x}<br>Growth Rate=%{y}<extra></extra>",
         "legendgroup": "Sri Lanka",
         "marker": {
          "color": "#B6E880",
          "symbol": "circle"
         },
         "mode": "markers",
         "name": "Sri Lanka",
         "orientation": "v",
         "showlegend": true,
         "type": "scatter",
         "x": [
          "Sri Lanka"
         ],
         "xaxis": "x",
         "y": [
          1.0027
         ],
         "yaxis": "y"
        },
        {
         "hovertemplate": "Country=%{x}<br>Growth Rate=%{y}<extra></extra>",
         "legendgroup": "Sudan",
         "marker": {
          "color": "#FF97FF",
          "symbol": "circle"
         },
         "mode": "markers",
         "name": "Sudan",
         "orientation": "v",
         "showlegend": true,
         "type": "scatter",
         "x": [
          "Sudan"
         ],
         "xaxis": "x",
         "y": [
          1.0267
         ],
         "yaxis": "y"
        },
        {
         "hovertemplate": "Country=%{x}<br>Growth Rate=%{y}<extra></extra>",
         "legendgroup": "Suriname",
         "marker": {
          "color": "#FECB52",
          "symbol": "circle"
         },
         "mode": "markers",
         "name": "Suriname",
         "orientation": "v",
         "showlegend": true,
         "type": "scatter",
         "x": [
          "Suriname"
         ],
         "xaxis": "x",
         "y": [
          1.0082
         ],
         "yaxis": "y"
        },
        {
         "hovertemplate": "Country=%{x}<br>Growth Rate=%{y}<extra></extra>",
         "legendgroup": "Sweden",
         "marker": {
          "color": "#636efa",
          "symbol": "circle"
         },
         "mode": "markers",
         "name": "Sweden",
         "orientation": "v",
         "showlegend": true,
         "type": "scatter",
         "x": [
          "Sweden"
         ],
         "xaxis": "x",
         "y": [
          1.0079
         ],
         "yaxis": "y"
        },
        {
         "hovertemplate": "Country=%{x}<br>Growth Rate=%{y}<extra></extra>",
         "legendgroup": "Switzerland",
         "marker": {
          "color": "#EF553B",
          "symbol": "circle"
         },
         "mode": "markers",
         "name": "Switzerland",
         "orientation": "v",
         "showlegend": true,
         "type": "scatter",
         "x": [
          "Switzerland"
         ],
         "xaxis": "x",
         "y": [
          1.0056
         ],
         "yaxis": "y"
        },
        {
         "hovertemplate": "Country=%{x}<br>Growth Rate=%{y}<extra></extra>",
         "legendgroup": "Syria",
         "marker": {
          "color": "#00cc96",
          "symbol": "circle"
         },
         "mode": "markers",
         "name": "Syria",
         "orientation": "v",
         "showlegend": true,
         "type": "scatter",
         "x": [
          "Syria"
         ],
         "xaxis": "x",
         "y": [
          1.0376
         ],
         "yaxis": "y"
        },
        {
         "hovertemplate": "Country=%{x}<br>Growth Rate=%{y}<extra></extra>",
         "legendgroup": "Taiwan",
         "marker": {
          "color": "#ab63fa",
          "symbol": "circle"
         },
         "mode": "markers",
         "name": "Taiwan",
         "orientation": "v",
         "showlegend": true,
         "type": "scatter",
         "x": [
          "Taiwan"
         ],
         "xaxis": "x",
         "y": [
          1.0014
         ],
         "yaxis": "y"
        },
        {
         "hovertemplate": "Country=%{x}<br>Growth Rate=%{y}<extra></extra>",
         "legendgroup": "Tajikistan",
         "marker": {
          "color": "#FFA15A",
          "symbol": "circle"
         },
         "mode": "markers",
         "name": "Tajikistan",
         "orientation": "v",
         "showlegend": true,
         "type": "scatter",
         "x": [
          "Tajikistan"
         ],
         "xaxis": "x",
         "y": [
          1.0208
         ],
         "yaxis": "y"
        },
        {
         "hovertemplate": "Country=%{x}<br>Growth Rate=%{y}<extra></extra>",
         "legendgroup": "Tanzania",
         "marker": {
          "color": "#19d3f3",
          "symbol": "circle"
         },
         "mode": "markers",
         "name": "Tanzania",
         "orientation": "v",
         "showlegend": true,
         "type": "scatter",
         "x": [
          "Tanzania"
         ],
         "xaxis": "x",
         "y": [
          1.03
         ],
         "yaxis": "y"
        },
        {
         "hovertemplate": "Country=%{x}<br>Growth Rate=%{y}<extra></extra>",
         "legendgroup": "Thailand",
         "marker": {
          "color": "#FF6692",
          "symbol": "circle"
         },
         "mode": "markers",
         "name": "Thailand",
         "orientation": "v",
         "showlegend": true,
         "type": "scatter",
         "x": [
          "Thailand"
         ],
         "xaxis": "x",
         "y": [
          1.0013
         ],
         "yaxis": "y"
        },
        {
         "hovertemplate": "Country=%{x}<br>Growth Rate=%{y}<extra></extra>",
         "legendgroup": "Timor-Leste",
         "marker": {
          "color": "#B6E880",
          "symbol": "circle"
         },
         "mode": "markers",
         "name": "Timor-Leste",
         "orientation": "v",
         "showlegend": true,
         "type": "scatter",
         "x": [
          "Timor-Leste"
         ],
         "xaxis": "x",
         "y": [
          1.0154
         ],
         "yaxis": "y"
        },
        {
         "hovertemplate": "Country=%{x}<br>Growth Rate=%{y}<extra></extra>",
         "legendgroup": "Togo",
         "marker": {
          "color": "#FF97FF",
          "symbol": "circle"
         },
         "mode": "markers",
         "name": "Togo",
         "orientation": "v",
         "showlegend": true,
         "type": "scatter",
         "x": [
          "Togo"
         ],
         "xaxis": "x",
         "y": [
          1.0236
         ],
         "yaxis": "y"
        },
        {
         "hovertemplate": "Country=%{x}<br>Growth Rate=%{y}<extra></extra>",
         "legendgroup": "Tokelau",
         "marker": {
          "color": "#FECB52",
          "symbol": "circle"
         },
         "mode": "markers",
         "name": "Tokelau",
         "orientation": "v",
         "showlegend": true,
         "type": "scatter",
         "x": [
          "Tokelau"
         ],
         "xaxis": "x",
         "y": [
          1.0119
         ],
         "yaxis": "y"
        },
        {
         "hovertemplate": "Country=%{x}<br>Growth Rate=%{y}<extra></extra>",
         "legendgroup": "Tonga",
         "marker": {
          "color": "#636efa",
          "symbol": "circle"
         },
         "mode": "markers",
         "name": "Tonga",
         "orientation": "v",
         "showlegend": true,
         "type": "scatter",
         "x": [
          "Tonga"
         ],
         "xaxis": "x",
         "y": [
          1.0079
         ],
         "yaxis": "y"
        },
        {
         "hovertemplate": "Country=%{x}<br>Growth Rate=%{y}<extra></extra>",
         "legendgroup": "Trinidad and Tobago",
         "marker": {
          "color": "#EF553B",
          "symbol": "circle"
         },
         "mode": "markers",
         "name": "Trinidad and Tobago",
         "orientation": "v",
         "showlegend": true,
         "type": "scatter",
         "x": [
          "Trinidad and Tobago"
         ],
         "xaxis": "x",
         "y": [
          1.0035
         ],
         "yaxis": "y"
        },
        {
         "hovertemplate": "Country=%{x}<br>Growth Rate=%{y}<extra></extra>",
         "legendgroup": "Tunisia",
         "marker": {
          "color": "#00cc96",
          "symbol": "circle"
         },
         "mode": "markers",
         "name": "Tunisia",
         "orientation": "v",
         "showlegend": true,
         "type": "scatter",
         "x": [
          "Tunisia"
         ],
         "xaxis": "x",
         "y": [
          1.0076
         ],
         "yaxis": "y"
        },
        {
         "hovertemplate": "Country=%{x}<br>Growth Rate=%{y}<extra></extra>",
         "legendgroup": "Turkey",
         "marker": {
          "color": "#ab63fa",
          "symbol": "circle"
         },
         "mode": "markers",
         "name": "Turkey",
         "orientation": "v",
         "showlegend": true,
         "type": "scatter",
         "x": [
          "Turkey"
         ],
         "xaxis": "x",
         "y": [
          1.0067
         ],
         "yaxis": "y"
        },
        {
         "hovertemplate": "Country=%{x}<br>Growth Rate=%{y}<extra></extra>",
         "legendgroup": "Turkmenistan",
         "marker": {
          "color": "#FFA15A",
          "symbol": "circle"
         },
         "mode": "markers",
         "name": "Turkmenistan",
         "orientation": "v",
         "showlegend": true,
         "type": "scatter",
         "x": [
          "Turkmenistan"
         ],
         "xaxis": "x",
         "y": [
          1.014
         ],
         "yaxis": "y"
        },
        {
         "hovertemplate": "Country=%{x}<br>Growth Rate=%{y}<extra></extra>",
         "legendgroup": "Turks and Caicos Islands",
         "marker": {
          "color": "#19d3f3",
          "symbol": "circle"
         },
         "mode": "markers",
         "name": "Turks and Caicos Islands",
         "orientation": "v",
         "showlegend": true,
         "type": "scatter",
         "x": [
          "Turks and Caicos Islands"
         ],
         "xaxis": "x",
         "y": [
          1.0131
         ],
         "yaxis": "y"
        },
        {
         "hovertemplate": "Country=%{x}<br>Growth Rate=%{y}<extra></extra>",
         "legendgroup": "Tuvalu",
         "marker": {
          "color": "#FF6692",
          "symbol": "circle"
         },
         "mode": "markers",
         "name": "Tuvalu",
         "orientation": "v",
         "showlegend": true,
         "type": "scatter",
         "x": [
          "Tuvalu"
         ],
         "xaxis": "x",
         "y": [
          1.0096
         ],
         "yaxis": "y"
        },
        {
         "hovertemplate": "Country=%{x}<br>Growth Rate=%{y}<extra></extra>",
         "legendgroup": "Uganda",
         "marker": {
          "color": "#B6E880",
          "symbol": "circle"
         },
         "mode": "markers",
         "name": "Uganda",
         "orientation": "v",
         "showlegend": true,
         "type": "scatter",
         "x": [
          "Uganda"
         ],
         "xaxis": "x",
         "y": [
          1.0304
         ],
         "yaxis": "y"
        },
        {
         "hovertemplate": "Country=%{x}<br>Growth Rate=%{y}<extra></extra>",
         "legendgroup": "Ukraine",
         "marker": {
          "color": "#FF97FF",
          "symbol": "circle"
         },
         "mode": "markers",
         "name": "Ukraine",
         "orientation": "v",
         "showlegend": true,
         "type": "scatter",
         "x": [
          "Ukraine"
         ],
         "xaxis": "x",
         "y": [
          0.912
         ],
         "yaxis": "y"
        },
        {
         "hovertemplate": "Country=%{x}<br>Growth Rate=%{y}<extra></extra>",
         "legendgroup": "United Arab Emirates",
         "marker": {
          "color": "#FECB52",
          "symbol": "circle"
         },
         "mode": "markers",
         "name": "United Arab Emirates",
         "orientation": "v",
         "showlegend": true,
         "type": "scatter",
         "x": [
          "United Arab Emirates"
         ],
         "xaxis": "x",
         "y": [
          1.0081
         ],
         "yaxis": "y"
        },
        {
         "hovertemplate": "Country=%{x}<br>Growth Rate=%{y}<extra></extra>",
         "legendgroup": "United Kingdom",
         "marker": {
          "color": "#636efa",
          "symbol": "circle"
         },
         "mode": "markers",
         "name": "United Kingdom",
         "orientation": "v",
         "showlegend": true,
         "type": "scatter",
         "x": [
          "United Kingdom"
         ],
         "xaxis": "x",
         "y": [
          1.0034
         ],
         "yaxis": "y"
        },
        {
         "hovertemplate": "Country=%{x}<br>Growth Rate=%{y}<extra></extra>",
         "legendgroup": "United States",
         "marker": {
          "color": "#EF553B",
          "symbol": "circle"
         },
         "mode": "markers",
         "name": "United States",
         "orientation": "v",
         "showlegend": true,
         "type": "scatter",
         "x": [
          "United States"
         ],
         "xaxis": "x",
         "y": [
          1.0038
         ],
         "yaxis": "y"
        },
        {
         "hovertemplate": "Country=%{x}<br>Growth Rate=%{y}<extra></extra>",
         "legendgroup": "United States Virgin Islands",
         "marker": {
          "color": "#00cc96",
          "symbol": "circle"
         },
         "mode": "markers",
         "name": "United States Virgin Islands",
         "orientation": "v",
         "showlegend": true,
         "type": "scatter",
         "x": [
          "United States Virgin Islands"
         ],
         "xaxis": "x",
         "y": [
          0.9937
         ],
         "yaxis": "y"
        },
        {
         "hovertemplate": "Country=%{x}<br>Growth Rate=%{y}<extra></extra>",
         "legendgroup": "Uruguay",
         "marker": {
          "color": "#ab63fa",
          "symbol": "circle"
         },
         "mode": "markers",
         "name": "Uruguay",
         "orientation": "v",
         "showlegend": true,
         "type": "scatter",
         "x": [
          "Uruguay"
         ],
         "xaxis": "x",
         "y": [
          0.999
         ],
         "yaxis": "y"
        },
        {
         "hovertemplate": "Country=%{x}<br>Growth Rate=%{y}<extra></extra>",
         "legendgroup": "Uzbekistan",
         "marker": {
          "color": "#FFA15A",
          "symbol": "circle"
         },
         "mode": "markers",
         "name": "Uzbekistan",
         "orientation": "v",
         "showlegend": true,
         "type": "scatter",
         "x": [
          "Uzbekistan"
         ],
         "xaxis": "x",
         "y": [
          1.016
         ],
         "yaxis": "y"
        },
        {
         "hovertemplate": "Country=%{x}<br>Growth Rate=%{y}<extra></extra>",
         "legendgroup": "Vanuatu",
         "marker": {
          "color": "#19d3f3",
          "symbol": "circle"
         },
         "mode": "markers",
         "name": "Vanuatu",
         "orientation": "v",
         "showlegend": true,
         "type": "scatter",
         "x": [
          "Vanuatu"
         ],
         "xaxis": "x",
         "y": [
          1.0238
         ],
         "yaxis": "y"
        },
        {
         "hovertemplate": "Country=%{x}<br>Growth Rate=%{y}<extra></extra>",
         "legendgroup": "Vatican City",
         "marker": {
          "color": "#FF6692",
          "symbol": "circle"
         },
         "mode": "markers",
         "name": "Vatican City",
         "orientation": "v",
         "showlegend": true,
         "type": "scatter",
         "x": [
          "Vatican City"
         ],
         "xaxis": "x",
         "y": [
          0.998
         ],
         "yaxis": "y"
        },
        {
         "hovertemplate": "Country=%{x}<br>Growth Rate=%{y}<extra></extra>",
         "legendgroup": "Venezuela",
         "marker": {
          "color": "#B6E880",
          "symbol": "circle"
         },
         "mode": "markers",
         "name": "Venezuela",
         "orientation": "v",
         "showlegend": true,
         "type": "scatter",
         "x": [
          "Venezuela"
         ],
         "xaxis": "x",
         "y": [
          1.0036
         ],
         "yaxis": "y"
        },
        {
         "hovertemplate": "Country=%{x}<br>Growth Rate=%{y}<extra></extra>",
         "legendgroup": "Vietnam",
         "marker": {
          "color": "#FF97FF",
          "symbol": "circle"
         },
         "mode": "markers",
         "name": "Vietnam",
         "orientation": "v",
         "showlegend": true,
         "type": "scatter",
         "x": [
          "Vietnam"
         ],
         "xaxis": "x",
         "y": [
          1.0074
         ],
         "yaxis": "y"
        },
        {
         "hovertemplate": "Country=%{x}<br>Growth Rate=%{y}<extra></extra>",
         "legendgroup": "Wallis and Futuna",
         "marker": {
          "color": "#FECB52",
          "symbol": "circle"
         },
         "mode": "markers",
         "name": "Wallis and Futuna",
         "orientation": "v",
         "showlegend": true,
         "type": "scatter",
         "x": [
          "Wallis and Futuna"
         ],
         "xaxis": "x",
         "y": [
          0.9953
         ],
         "yaxis": "y"
        },
        {
         "hovertemplate": "Country=%{x}<br>Growth Rate=%{y}<extra></extra>",
         "legendgroup": "Western Sahara",
         "marker": {
          "color": "#636efa",
          "symbol": "circle"
         },
         "mode": "markers",
         "name": "Western Sahara",
         "orientation": "v",
         "showlegend": true,
         "type": "scatter",
         "x": [
          "Western Sahara"
         ],
         "xaxis": "x",
         "y": [
          1.0184
         ],
         "yaxis": "y"
        },
        {
         "hovertemplate": "Country=%{x}<br>Growth Rate=%{y}<extra></extra>",
         "legendgroup": "Yemen",
         "marker": {
          "color": "#EF553B",
          "symbol": "circle"
         },
         "mode": "markers",
         "name": "Yemen",
         "orientation": "v",
         "showlegend": true,
         "type": "scatter",
         "x": [
          "Yemen"
         ],
         "xaxis": "x",
         "y": [
          1.0217
         ],
         "yaxis": "y"
        },
        {
         "hovertemplate": "Country=%{x}<br>Growth Rate=%{y}<extra></extra>",
         "legendgroup": "Zambia",
         "marker": {
          "color": "#00cc96",
          "symbol": "circle"
         },
         "mode": "markers",
         "name": "Zambia",
         "orientation": "v",
         "showlegend": true,
         "type": "scatter",
         "x": [
          "Zambia"
         ],
         "xaxis": "x",
         "y": [
          1.028
         ],
         "yaxis": "y"
        },
        {
         "hovertemplate": "Country=%{x}<br>Growth Rate=%{y}<extra></extra>",
         "legendgroup": "Zimbabwe",
         "marker": {
          "color": "#ab63fa",
          "symbol": "circle"
         },
         "mode": "markers",
         "name": "Zimbabwe",
         "orientation": "v",
         "showlegend": true,
         "type": "scatter",
         "x": [
          "Zimbabwe"
         ],
         "xaxis": "x",
         "y": [
          1.0204
         ],
         "yaxis": "y"
        }
       ],
       "layout": {
        "legend": {
         "title": {
          "text": "Country"
         },
         "tracegroupgap": 0
        },
        "template": {
         "data": {
          "bar": [
           {
            "error_x": {
             "color": "#2a3f5f"
            },
            "error_y": {
             "color": "#2a3f5f"
            },
            "marker": {
             "line": {
              "color": "#E5ECF6",
              "width": 0.5
             },
             "pattern": {
              "fillmode": "overlay",
              "size": 10,
              "solidity": 0.2
             }
            },
            "type": "bar"
           }
          ],
          "barpolar": [
           {
            "marker": {
             "line": {
              "color": "#E5ECF6",
              "width": 0.5
             },
             "pattern": {
              "fillmode": "overlay",
              "size": 10,
              "solidity": 0.2
             }
            },
            "type": "barpolar"
           }
          ],
          "carpet": [
           {
            "aaxis": {
             "endlinecolor": "#2a3f5f",
             "gridcolor": "white",
             "linecolor": "white",
             "minorgridcolor": "white",
             "startlinecolor": "#2a3f5f"
            },
            "baxis": {
             "endlinecolor": "#2a3f5f",
             "gridcolor": "white",
             "linecolor": "white",
             "minorgridcolor": "white",
             "startlinecolor": "#2a3f5f"
            },
            "type": "carpet"
           }
          ],
          "choropleth": [
           {
            "colorbar": {
             "outlinewidth": 0,
             "ticks": ""
            },
            "type": "choropleth"
           }
          ],
          "contour": [
           {
            "colorbar": {
             "outlinewidth": 0,
             "ticks": ""
            },
            "colorscale": [
             [
              0,
              "#0d0887"
             ],
             [
              0.1111111111111111,
              "#46039f"
             ],
             [
              0.2222222222222222,
              "#7201a8"
             ],
             [
              0.3333333333333333,
              "#9c179e"
             ],
             [
              0.4444444444444444,
              "#bd3786"
             ],
             [
              0.5555555555555556,
              "#d8576b"
             ],
             [
              0.6666666666666666,
              "#ed7953"
             ],
             [
              0.7777777777777778,
              "#fb9f3a"
             ],
             [
              0.8888888888888888,
              "#fdca26"
             ],
             [
              1,
              "#f0f921"
             ]
            ],
            "type": "contour"
           }
          ],
          "contourcarpet": [
           {
            "colorbar": {
             "outlinewidth": 0,
             "ticks": ""
            },
            "type": "contourcarpet"
           }
          ],
          "heatmap": [
           {
            "colorbar": {
             "outlinewidth": 0,
             "ticks": ""
            },
            "colorscale": [
             [
              0,
              "#0d0887"
             ],
             [
              0.1111111111111111,
              "#46039f"
             ],
             [
              0.2222222222222222,
              "#7201a8"
             ],
             [
              0.3333333333333333,
              "#9c179e"
             ],
             [
              0.4444444444444444,
              "#bd3786"
             ],
             [
              0.5555555555555556,
              "#d8576b"
             ],
             [
              0.6666666666666666,
              "#ed7953"
             ],
             [
              0.7777777777777778,
              "#fb9f3a"
             ],
             [
              0.8888888888888888,
              "#fdca26"
             ],
             [
              1,
              "#f0f921"
             ]
            ],
            "type": "heatmap"
           }
          ],
          "heatmapgl": [
           {
            "colorbar": {
             "outlinewidth": 0,
             "ticks": ""
            },
            "colorscale": [
             [
              0,
              "#0d0887"
             ],
             [
              0.1111111111111111,
              "#46039f"
             ],
             [
              0.2222222222222222,
              "#7201a8"
             ],
             [
              0.3333333333333333,
              "#9c179e"
             ],
             [
              0.4444444444444444,
              "#bd3786"
             ],
             [
              0.5555555555555556,
              "#d8576b"
             ],
             [
              0.6666666666666666,
              "#ed7953"
             ],
             [
              0.7777777777777778,
              "#fb9f3a"
             ],
             [
              0.8888888888888888,
              "#fdca26"
             ],
             [
              1,
              "#f0f921"
             ]
            ],
            "type": "heatmapgl"
           }
          ],
          "histogram": [
           {
            "marker": {
             "pattern": {
              "fillmode": "overlay",
              "size": 10,
              "solidity": 0.2
             }
            },
            "type": "histogram"
           }
          ],
          "histogram2d": [
           {
            "colorbar": {
             "outlinewidth": 0,
             "ticks": ""
            },
            "colorscale": [
             [
              0,
              "#0d0887"
             ],
             [
              0.1111111111111111,
              "#46039f"
             ],
             [
              0.2222222222222222,
              "#7201a8"
             ],
             [
              0.3333333333333333,
              "#9c179e"
             ],
             [
              0.4444444444444444,
              "#bd3786"
             ],
             [
              0.5555555555555556,
              "#d8576b"
             ],
             [
              0.6666666666666666,
              "#ed7953"
             ],
             [
              0.7777777777777778,
              "#fb9f3a"
             ],
             [
              0.8888888888888888,
              "#fdca26"
             ],
             [
              1,
              "#f0f921"
             ]
            ],
            "type": "histogram2d"
           }
          ],
          "histogram2dcontour": [
           {
            "colorbar": {
             "outlinewidth": 0,
             "ticks": ""
            },
            "colorscale": [
             [
              0,
              "#0d0887"
             ],
             [
              0.1111111111111111,
              "#46039f"
             ],
             [
              0.2222222222222222,
              "#7201a8"
             ],
             [
              0.3333333333333333,
              "#9c179e"
             ],
             [
              0.4444444444444444,
              "#bd3786"
             ],
             [
              0.5555555555555556,
              "#d8576b"
             ],
             [
              0.6666666666666666,
              "#ed7953"
             ],
             [
              0.7777777777777778,
              "#fb9f3a"
             ],
             [
              0.8888888888888888,
              "#fdca26"
             ],
             [
              1,
              "#f0f921"
             ]
            ],
            "type": "histogram2dcontour"
           }
          ],
          "mesh3d": [
           {
            "colorbar": {
             "outlinewidth": 0,
             "ticks": ""
            },
            "type": "mesh3d"
           }
          ],
          "parcoords": [
           {
            "line": {
             "colorbar": {
              "outlinewidth": 0,
              "ticks": ""
             }
            },
            "type": "parcoords"
           }
          ],
          "pie": [
           {
            "automargin": true,
            "type": "pie"
           }
          ],
          "scatter": [
           {
            "marker": {
             "colorbar": {
              "outlinewidth": 0,
              "ticks": ""
             }
            },
            "type": "scatter"
           }
          ],
          "scatter3d": [
           {
            "line": {
             "colorbar": {
              "outlinewidth": 0,
              "ticks": ""
             }
            },
            "marker": {
             "colorbar": {
              "outlinewidth": 0,
              "ticks": ""
             }
            },
            "type": "scatter3d"
           }
          ],
          "scattercarpet": [
           {
            "marker": {
             "colorbar": {
              "outlinewidth": 0,
              "ticks": ""
             }
            },
            "type": "scattercarpet"
           }
          ],
          "scattergeo": [
           {
            "marker": {
             "colorbar": {
              "outlinewidth": 0,
              "ticks": ""
             }
            },
            "type": "scattergeo"
           }
          ],
          "scattergl": [
           {
            "marker": {
             "colorbar": {
              "outlinewidth": 0,
              "ticks": ""
             }
            },
            "type": "scattergl"
           }
          ],
          "scattermapbox": [
           {
            "marker": {
             "colorbar": {
              "outlinewidth": 0,
              "ticks": ""
             }
            },
            "type": "scattermapbox"
           }
          ],
          "scatterpolar": [
           {
            "marker": {
             "colorbar": {
              "outlinewidth": 0,
              "ticks": ""
             }
            },
            "type": "scatterpolar"
           }
          ],
          "scatterpolargl": [
           {
            "marker": {
             "colorbar": {
              "outlinewidth": 0,
              "ticks": ""
             }
            },
            "type": "scatterpolargl"
           }
          ],
          "scatterternary": [
           {
            "marker": {
             "colorbar": {
              "outlinewidth": 0,
              "ticks": ""
             }
            },
            "type": "scatterternary"
           }
          ],
          "surface": [
           {
            "colorbar": {
             "outlinewidth": 0,
             "ticks": ""
            },
            "colorscale": [
             [
              0,
              "#0d0887"
             ],
             [
              0.1111111111111111,
              "#46039f"
             ],
             [
              0.2222222222222222,
              "#7201a8"
             ],
             [
              0.3333333333333333,
              "#9c179e"
             ],
             [
              0.4444444444444444,
              "#bd3786"
             ],
             [
              0.5555555555555556,
              "#d8576b"
             ],
             [
              0.6666666666666666,
              "#ed7953"
             ],
             [
              0.7777777777777778,
              "#fb9f3a"
             ],
             [
              0.8888888888888888,
              "#fdca26"
             ],
             [
              1,
              "#f0f921"
             ]
            ],
            "type": "surface"
           }
          ],
          "table": [
           {
            "cells": {
             "fill": {
              "color": "#EBF0F8"
             },
             "line": {
              "color": "white"
             }
            },
            "header": {
             "fill": {
              "color": "#C8D4E3"
             },
             "line": {
              "color": "white"
             }
            },
            "type": "table"
           }
          ]
         },
         "layout": {
          "annotationdefaults": {
           "arrowcolor": "#2a3f5f",
           "arrowhead": 0,
           "arrowwidth": 1
          },
          "autotypenumbers": "strict",
          "coloraxis": {
           "colorbar": {
            "outlinewidth": 0,
            "ticks": ""
           }
          },
          "colorscale": {
           "diverging": [
            [
             0,
             "#8e0152"
            ],
            [
             0.1,
             "#c51b7d"
            ],
            [
             0.2,
             "#de77ae"
            ],
            [
             0.3,
             "#f1b6da"
            ],
            [
             0.4,
             "#fde0ef"
            ],
            [
             0.5,
             "#f7f7f7"
            ],
            [
             0.6,
             "#e6f5d0"
            ],
            [
             0.7,
             "#b8e186"
            ],
            [
             0.8,
             "#7fbc41"
            ],
            [
             0.9,
             "#4d9221"
            ],
            [
             1,
             "#276419"
            ]
           ],
           "sequential": [
            [
             0,
             "#0d0887"
            ],
            [
             0.1111111111111111,
             "#46039f"
            ],
            [
             0.2222222222222222,
             "#7201a8"
            ],
            [
             0.3333333333333333,
             "#9c179e"
            ],
            [
             0.4444444444444444,
             "#bd3786"
            ],
            [
             0.5555555555555556,
             "#d8576b"
            ],
            [
             0.6666666666666666,
             "#ed7953"
            ],
            [
             0.7777777777777778,
             "#fb9f3a"
            ],
            [
             0.8888888888888888,
             "#fdca26"
            ],
            [
             1,
             "#f0f921"
            ]
           ],
           "sequentialminus": [
            [
             0,
             "#0d0887"
            ],
            [
             0.1111111111111111,
             "#46039f"
            ],
            [
             0.2222222222222222,
             "#7201a8"
            ],
            [
             0.3333333333333333,
             "#9c179e"
            ],
            [
             0.4444444444444444,
             "#bd3786"
            ],
            [
             0.5555555555555556,
             "#d8576b"
            ],
            [
             0.6666666666666666,
             "#ed7953"
            ],
            [
             0.7777777777777778,
             "#fb9f3a"
            ],
            [
             0.8888888888888888,
             "#fdca26"
            ],
            [
             1,
             "#f0f921"
            ]
           ]
          },
          "colorway": [
           "#636efa",
           "#EF553B",
           "#00cc96",
           "#ab63fa",
           "#FFA15A",
           "#19d3f3",
           "#FF6692",
           "#B6E880",
           "#FF97FF",
           "#FECB52"
          ],
          "font": {
           "color": "#2a3f5f"
          },
          "geo": {
           "bgcolor": "white",
           "lakecolor": "white",
           "landcolor": "#E5ECF6",
           "showlakes": true,
           "showland": true,
           "subunitcolor": "white"
          },
          "hoverlabel": {
           "align": "left"
          },
          "hovermode": "closest",
          "mapbox": {
           "style": "light"
          },
          "paper_bgcolor": "white",
          "plot_bgcolor": "#E5ECF6",
          "polar": {
           "angularaxis": {
            "gridcolor": "white",
            "linecolor": "white",
            "ticks": ""
           },
           "bgcolor": "#E5ECF6",
           "radialaxis": {
            "gridcolor": "white",
            "linecolor": "white",
            "ticks": ""
           }
          },
          "scene": {
           "xaxis": {
            "backgroundcolor": "#E5ECF6",
            "gridcolor": "white",
            "gridwidth": 2,
            "linecolor": "white",
            "showbackground": true,
            "ticks": "",
            "zerolinecolor": "white"
           },
           "yaxis": {
            "backgroundcolor": "#E5ECF6",
            "gridcolor": "white",
            "gridwidth": 2,
            "linecolor": "white",
            "showbackground": true,
            "ticks": "",
            "zerolinecolor": "white"
           },
           "zaxis": {
            "backgroundcolor": "#E5ECF6",
            "gridcolor": "white",
            "gridwidth": 2,
            "linecolor": "white",
            "showbackground": true,
            "ticks": "",
            "zerolinecolor": "white"
           }
          },
          "shapedefaults": {
           "line": {
            "color": "#2a3f5f"
           }
          },
          "ternary": {
           "aaxis": {
            "gridcolor": "white",
            "linecolor": "white",
            "ticks": ""
           },
           "baxis": {
            "gridcolor": "white",
            "linecolor": "white",
            "ticks": ""
           },
           "bgcolor": "#E5ECF6",
           "caxis": {
            "gridcolor": "white",
            "linecolor": "white",
            "ticks": ""
           }
          },
          "title": {
           "x": 0.05
          },
          "xaxis": {
           "automargin": true,
           "gridcolor": "white",
           "linecolor": "white",
           "ticks": "",
           "title": {
            "standoff": 15
           },
           "zerolinecolor": "white",
           "zerolinewidth": 2
          },
          "yaxis": {
           "automargin": true,
           "gridcolor": "white",
           "linecolor": "white",
           "ticks": "",
           "title": {
            "standoff": 15
           },
           "zerolinecolor": "white",
           "zerolinewidth": 2
          }
         }
        },
        "title": {
         "text": "All nations population growth"
        },
        "xaxis": {
         "anchor": "y",
         "categoryarray": [
          "Afghanistan",
          "Albania",
          "Algeria",
          "American Samoa",
          "Andorra",
          "Angola",
          "Anguilla",
          "Antigua and Barbuda",
          "Argentina",
          "Armenia",
          "Aruba",
          "Australia",
          "Austria",
          "Azerbaijan",
          "Bahamas",
          "Bahrain",
          "Bangladesh",
          "Barbados",
          "Belarus",
          "Belgium",
          "Belize",
          "Benin",
          "Bermuda",
          "Bhutan",
          "Bolivia",
          "Bosnia and Herzegovina",
          "Botswana",
          "Brazil",
          "British Virgin Islands",
          "Brunei",
          "Bulgaria",
          "Burkina Faso",
          "Burundi",
          "Cambodia",
          "Cameroon",
          "Canada",
          "Cape Verde",
          "Cayman Islands",
          "Central African Republic",
          "Chad",
          "Chile",
          "China",
          "Colombia",
          "Comoros",
          "Cook Islands",
          "Costa Rica",
          "Croatia",
          "Cuba",
          "Curacao",
          "Cyprus",
          "Czech Republic",
          "Denmark",
          "Djibouti",
          "Dominica",
          "Dominican Republic",
          "DR Congo",
          "Ecuador",
          "Egypt",
          "El Salvador",
          "Equatorial Guinea",
          "Eritrea",
          "Estonia",
          "Eswatini",
          "Ethiopia",
          "Falkland Islands",
          "Faroe Islands",
          "Fiji",
          "Finland",
          "France",
          "French Guiana",
          "French Polynesia",
          "Gabon",
          "Gambia",
          "Georgia",
          "Germany",
          "Ghana",
          "Gibraltar",
          "Greece",
          "Greenland",
          "Grenada",
          "Guadeloupe",
          "Guam",
          "Guatemala",
          "Guernsey",
          "Guinea",
          "Guinea-Bissau",
          "Guyana",
          "Haiti",
          "Honduras",
          "Hong Kong",
          "Hungary",
          "Iceland",
          "India",
          "Indonesia",
          "Iran",
          "Iraq",
          "Ireland",
          "Isle of Man",
          "Israel",
          "Italy",
          "Ivory Coast",
          "Jamaica",
          "Japan",
          "Jersey",
          "Jordan",
          "Kazakhstan",
          "Kenya",
          "Kiribati",
          "Kuwait",
          "Kyrgyzstan",
          "Laos",
          "Latvia",
          "Lebanon",
          "Lesotho",
          "Liberia",
          "Libya",
          "Liechtenstein",
          "Lithuania",
          "Luxembourg",
          "Macau",
          "Madagascar",
          "Malawi",
          "Malaysia",
          "Maldives",
          "Mali",
          "Malta",
          "Marshall Islands",
          "Martinique",
          "Mauritania",
          "Mauritius",
          "Mayotte",
          "Mexico",
          "Micronesia",
          "Moldova",
          "Monaco",
          "Mongolia",
          "Montenegro",
          "Montserrat",
          "Morocco",
          "Mozambique",
          "Myanmar",
          "Namibia",
          "Nauru",
          "Nepal",
          "Netherlands",
          "New Caledonia",
          "New Zealand",
          "Nicaragua",
          "Niger",
          "Nigeria",
          "Niue",
          "North Korea",
          "North Macedonia",
          "Northern Mariana Islands",
          "Norway",
          "Oman",
          "Pakistan",
          "Palau",
          "Palestine",
          "Panama",
          "Papua New Guinea",
          "Paraguay",
          "Peru",
          "Philippines",
          "Poland",
          "Portugal",
          "Puerto Rico",
          "Qatar",
          "Republic of the Congo",
          "Reunion",
          "Romania",
          "Russia",
          "Rwanda",
          "Saint Barthelemy",
          "Saint Kitts and Nevis",
          "Saint Lucia",
          "Saint Martin",
          "Saint Pierre and Miquelon",
          "Saint Vincent and the Grenadines",
          "Samoa",
          "San Marino",
          "Sao Tome and Principe",
          "Saudi Arabia",
          "Senegal",
          "Serbia",
          "Seychelles",
          "Sierra Leone",
          "Singapore",
          "Sint Maarten",
          "Slovakia",
          "Slovenia",
          "Solomon Islands",
          "Somalia",
          "South Africa",
          "South Korea",
          "South Sudan",
          "Spain",
          "Sri Lanka",
          "Sudan",
          "Suriname",
          "Sweden",
          "Switzerland",
          "Syria",
          "Taiwan",
          "Tajikistan",
          "Tanzania",
          "Thailand",
          "Timor-Leste",
          "Togo",
          "Tokelau",
          "Tonga",
          "Trinidad and Tobago",
          "Tunisia",
          "Turkey",
          "Turkmenistan",
          "Turks and Caicos Islands",
          "Tuvalu",
          "Uganda",
          "Ukraine",
          "United Arab Emirates",
          "United Kingdom",
          "United States",
          "United States Virgin Islands",
          "Uruguay",
          "Uzbekistan",
          "Vanuatu",
          "Vatican City",
          "Venezuela",
          "Vietnam",
          "Wallis and Futuna",
          "Western Sahara",
          "Yemen",
          "Zambia",
          "Zimbabwe"
         ],
         "categoryorder": "array",
         "domain": [
          0,
          1
         ],
         "title": {
          "text": "Country"
         }
        },
        "yaxis": {
         "anchor": "x",
         "domain": [
          0,
          1
         ],
         "title": {
          "text": "Growth Rate"
         }
        }
       }
      },
      "text/html": [
       "<div>                            <div id=\"2cb38f95-b347-4f4d-9ff1-80430642ad04\" class=\"plotly-graph-div\" style=\"height:525px; width:100%;\"></div>            <script type=\"text/javascript\">                require([\"plotly\"], function(Plotly) {                    window.PLOTLYENV=window.PLOTLYENV || {};                                    if (document.getElementById(\"2cb38f95-b347-4f4d-9ff1-80430642ad04\")) {                    Plotly.newPlot(                        \"2cb38f95-b347-4f4d-9ff1-80430642ad04\",                        [{\"hovertemplate\":\"Country=%{x}<br>Growth Rate=%{y}<extra></extra>\",\"legendgroup\":\"Afghanistan\",\"marker\":{\"color\":\"#636efa\",\"symbol\":\"circle\"},\"mode\":\"markers\",\"name\":\"Afghanistan\",\"orientation\":\"v\",\"showlegend\":true,\"x\":[\"Afghanistan\"],\"xaxis\":\"x\",\"y\":[1.0257],\"yaxis\":\"y\",\"type\":\"scatter\"},{\"hovertemplate\":\"Country=%{x}<br>Growth Rate=%{y}<extra></extra>\",\"legendgroup\":\"Albania\",\"marker\":{\"color\":\"#EF553B\",\"symbol\":\"circle\"},\"mode\":\"markers\",\"name\":\"Albania\",\"orientation\":\"v\",\"showlegend\":true,\"x\":[\"Albania\"],\"xaxis\":\"x\",\"y\":[0.9957],\"yaxis\":\"y\",\"type\":\"scatter\"},{\"hovertemplate\":\"Country=%{x}<br>Growth Rate=%{y}<extra></extra>\",\"legendgroup\":\"Algeria\",\"marker\":{\"color\":\"#00cc96\",\"symbol\":\"circle\"},\"mode\":\"markers\",\"name\":\"Algeria\",\"orientation\":\"v\",\"showlegend\":true,\"x\":[\"Algeria\"],\"xaxis\":\"x\",\"y\":[1.0164],\"yaxis\":\"y\",\"type\":\"scatter\"},{\"hovertemplate\":\"Country=%{x}<br>Growth Rate=%{y}<extra></extra>\",\"legendgroup\":\"American Samoa\",\"marker\":{\"color\":\"#ab63fa\",\"symbol\":\"circle\"},\"mode\":\"markers\",\"name\":\"American Samoa\",\"orientation\":\"v\",\"showlegend\":true,\"x\":[\"American Samoa\"],\"xaxis\":\"x\",\"y\":[0.9831],\"yaxis\":\"y\",\"type\":\"scatter\"},{\"hovertemplate\":\"Country=%{x}<br>Growth Rate=%{y}<extra></extra>\",\"legendgroup\":\"Andorra\",\"marker\":{\"color\":\"#FFA15A\",\"symbol\":\"circle\"},\"mode\":\"markers\",\"name\":\"Andorra\",\"orientation\":\"v\",\"showlegend\":true,\"x\":[\"Andorra\"],\"xaxis\":\"x\",\"y\":[1.01],\"yaxis\":\"y\",\"type\":\"scatter\"},{\"hovertemplate\":\"Country=%{x}<br>Growth Rate=%{y}<extra></extra>\",\"legendgroup\":\"Angola\",\"marker\":{\"color\":\"#19d3f3\",\"symbol\":\"circle\"},\"mode\":\"markers\",\"name\":\"Angola\",\"orientation\":\"v\",\"showlegend\":true,\"x\":[\"Angola\"],\"xaxis\":\"x\",\"y\":[1.0315],\"yaxis\":\"y\",\"type\":\"scatter\"},{\"hovertemplate\":\"Country=%{x}<br>Growth Rate=%{y}<extra></extra>\",\"legendgroup\":\"Anguilla\",\"marker\":{\"color\":\"#FF6692\",\"symbol\":\"circle\"},\"mode\":\"markers\",\"name\":\"Anguilla\",\"orientation\":\"v\",\"showlegend\":true,\"x\":[\"Anguilla\"],\"xaxis\":\"x\",\"y\":[1.0066],\"yaxis\":\"y\",\"type\":\"scatter\"},{\"hovertemplate\":\"Country=%{x}<br>Growth Rate=%{y}<extra></extra>\",\"legendgroup\":\"Antigua and Barbuda\",\"marker\":{\"color\":\"#B6E880\",\"symbol\":\"circle\"},\"mode\":\"markers\",\"name\":\"Antigua and Barbuda\",\"orientation\":\"v\",\"showlegend\":true,\"x\":[\"Antigua and Barbuda\"],\"xaxis\":\"x\",\"y\":[1.0058],\"yaxis\":\"y\",\"type\":\"scatter\"},{\"hovertemplate\":\"Country=%{x}<br>Growth Rate=%{y}<extra></extra>\",\"legendgroup\":\"Argentina\",\"marker\":{\"color\":\"#FF97FF\",\"symbol\":\"circle\"},\"mode\":\"markers\",\"name\":\"Argentina\",\"orientation\":\"v\",\"showlegend\":true,\"x\":[\"Argentina\"],\"xaxis\":\"x\",\"y\":[1.0052],\"yaxis\":\"y\",\"type\":\"scatter\"},{\"hovertemplate\":\"Country=%{x}<br>Growth Rate=%{y}<extra></extra>\",\"legendgroup\":\"Armenia\",\"marker\":{\"color\":\"#FECB52\",\"symbol\":\"circle\"},\"mode\":\"markers\",\"name\":\"Armenia\",\"orientation\":\"v\",\"showlegend\":true,\"x\":[\"Armenia\"],\"xaxis\":\"x\",\"y\":[0.9962],\"yaxis\":\"y\",\"type\":\"scatter\"},{\"hovertemplate\":\"Country=%{x}<br>Growth Rate=%{y}<extra></extra>\",\"legendgroup\":\"Aruba\",\"marker\":{\"color\":\"#636efa\",\"symbol\":\"circle\"},\"mode\":\"markers\",\"name\":\"Aruba\",\"orientation\":\"v\",\"showlegend\":true,\"x\":[\"Aruba\"],\"xaxis\":\"x\",\"y\":[0.9991],\"yaxis\":\"y\",\"type\":\"scatter\"},{\"hovertemplate\":\"Country=%{x}<br>Growth Rate=%{y}<extra></extra>\",\"legendgroup\":\"Australia\",\"marker\":{\"color\":\"#EF553B\",\"symbol\":\"circle\"},\"mode\":\"markers\",\"name\":\"Australia\",\"orientation\":\"v\",\"showlegend\":true,\"x\":[\"Australia\"],\"xaxis\":\"x\",\"y\":[1.0099],\"yaxis\":\"y\",\"type\":\"scatter\"},{\"hovertemplate\":\"Country=%{x}<br>Growth Rate=%{y}<extra></extra>\",\"legendgroup\":\"Austria\",\"marker\":{\"color\":\"#00cc96\",\"symbol\":\"circle\"},\"mode\":\"markers\",\"name\":\"Austria\",\"orientation\":\"v\",\"showlegend\":true,\"x\":[\"Austria\"],\"xaxis\":\"x\",\"y\":[1.002],\"yaxis\":\"y\",\"type\":\"scatter\"},{\"hovertemplate\":\"Country=%{x}<br>Growth Rate=%{y}<extra></extra>\",\"legendgroup\":\"Azerbaijan\",\"marker\":{\"color\":\"#ab63fa\",\"symbol\":\"circle\"},\"mode\":\"markers\",\"name\":\"Azerbaijan\",\"orientation\":\"v\",\"showlegend\":true,\"x\":[\"Azerbaijan\"],\"xaxis\":\"x\",\"y\":[1.0044],\"yaxis\":\"y\",\"type\":\"scatter\"},{\"hovertemplate\":\"Country=%{x}<br>Growth Rate=%{y}<extra></extra>\",\"legendgroup\":\"Bahamas\",\"marker\":{\"color\":\"#FFA15A\",\"symbol\":\"circle\"},\"mode\":\"markers\",\"name\":\"Bahamas\",\"orientation\":\"v\",\"showlegend\":true,\"x\":[\"Bahamas\"],\"xaxis\":\"x\",\"y\":[1.0051],\"yaxis\":\"y\",\"type\":\"scatter\"},{\"hovertemplate\":\"Country=%{x}<br>Growth Rate=%{y}<extra></extra>\",\"legendgroup\":\"Bahrain\",\"marker\":{\"color\":\"#19d3f3\",\"symbol\":\"circle\"},\"mode\":\"markers\",\"name\":\"Bahrain\",\"orientation\":\"v\",\"showlegend\":true,\"x\":[\"Bahrain\"],\"xaxis\":\"x\",\"y\":[1.0061],\"yaxis\":\"y\",\"type\":\"scatter\"},{\"hovertemplate\":\"Country=%{x}<br>Growth Rate=%{y}<extra></extra>\",\"legendgroup\":\"Bangladesh\",\"marker\":{\"color\":\"#FF6692\",\"symbol\":\"circle\"},\"mode\":\"markers\",\"name\":\"Bangladesh\",\"orientation\":\"v\",\"showlegend\":true,\"x\":[\"Bangladesh\"],\"xaxis\":\"x\",\"y\":[1.0108],\"yaxis\":\"y\",\"type\":\"scatter\"},{\"hovertemplate\":\"Country=%{x}<br>Growth Rate=%{y}<extra></extra>\",\"legendgroup\":\"Barbados\",\"marker\":{\"color\":\"#B6E880\",\"symbol\":\"circle\"},\"mode\":\"markers\",\"name\":\"Barbados\",\"orientation\":\"v\",\"showlegend\":true,\"x\":[\"Barbados\"],\"xaxis\":\"x\",\"y\":[1.0015],\"yaxis\":\"y\",\"type\":\"scatter\"},{\"hovertemplate\":\"Country=%{x}<br>Growth Rate=%{y}<extra></extra>\",\"legendgroup\":\"Belarus\",\"marker\":{\"color\":\"#FF97FF\",\"symbol\":\"circle\"},\"mode\":\"markers\",\"name\":\"Belarus\",\"orientation\":\"v\",\"showlegend\":true,\"x\":[\"Belarus\"],\"xaxis\":\"x\",\"y\":[0.9955],\"yaxis\":\"y\",\"type\":\"scatter\"},{\"hovertemplate\":\"Country=%{x}<br>Growth Rate=%{y}<extra></extra>\",\"legendgroup\":\"Belgium\",\"marker\":{\"color\":\"#FECB52\",\"symbol\":\"circle\"},\"mode\":\"markers\",\"name\":\"Belgium\",\"orientation\":\"v\",\"showlegend\":true,\"x\":[\"Belgium\"],\"xaxis\":\"x\",\"y\":[1.0038],\"yaxis\":\"y\",\"type\":\"scatter\"},{\"hovertemplate\":\"Country=%{x}<br>Growth Rate=%{y}<extra></extra>\",\"legendgroup\":\"Belize\",\"marker\":{\"color\":\"#636efa\",\"symbol\":\"circle\"},\"mode\":\"markers\",\"name\":\"Belize\",\"orientation\":\"v\",\"showlegend\":true,\"x\":[\"Belize\"],\"xaxis\":\"x\",\"y\":[1.0131],\"yaxis\":\"y\",\"type\":\"scatter\"},{\"hovertemplate\":\"Country=%{x}<br>Growth Rate=%{y}<extra></extra>\",\"legendgroup\":\"Benin\",\"marker\":{\"color\":\"#EF553B\",\"symbol\":\"circle\"},\"mode\":\"markers\",\"name\":\"Benin\",\"orientation\":\"v\",\"showlegend\":true,\"x\":[\"Benin\"],\"xaxis\":\"x\",\"y\":[1.0274],\"yaxis\":\"y\",\"type\":\"scatter\"},{\"hovertemplate\":\"Country=%{x}<br>Growth Rate=%{y}<extra></extra>\",\"legendgroup\":\"Bermuda\",\"marker\":{\"color\":\"#00cc96\",\"symbol\":\"circle\"},\"mode\":\"markers\",\"name\":\"Bermuda\",\"orientation\":\"v\",\"showlegend\":true,\"x\":[\"Bermuda\"],\"xaxis\":\"x\",\"y\":[1.0],\"yaxis\":\"y\",\"type\":\"scatter\"},{\"hovertemplate\":\"Country=%{x}<br>Growth Rate=%{y}<extra></extra>\",\"legendgroup\":\"Bhutan\",\"marker\":{\"color\":\"#ab63fa\",\"symbol\":\"circle\"},\"mode\":\"markers\",\"name\":\"Bhutan\",\"orientation\":\"v\",\"showlegend\":true,\"x\":[\"Bhutan\"],\"xaxis\":\"x\",\"y\":[1.0064],\"yaxis\":\"y\",\"type\":\"scatter\"},{\"hovertemplate\":\"Country=%{x}<br>Growth Rate=%{y}<extra></extra>\",\"legendgroup\":\"Bolivia\",\"marker\":{\"color\":\"#FFA15A\",\"symbol\":\"circle\"},\"mode\":\"markers\",\"name\":\"Bolivia\",\"orientation\":\"v\",\"showlegend\":true,\"x\":[\"Bolivia\"],\"xaxis\":\"x\",\"y\":[1.012],\"yaxis\":\"y\",\"type\":\"scatter\"},{\"hovertemplate\":\"Country=%{x}<br>Growth Rate=%{y}<extra></extra>\",\"legendgroup\":\"Bosnia and Herzegovina\",\"marker\":{\"color\":\"#19d3f3\",\"symbol\":\"circle\"},\"mode\":\"markers\",\"name\":\"Bosnia and Herzegovina\",\"orientation\":\"v\",\"showlegend\":true,\"x\":[\"Bosnia and Herzegovina\"],\"xaxis\":\"x\",\"y\":[0.9886],\"yaxis\":\"y\",\"type\":\"scatter\"},{\"hovertemplate\":\"Country=%{x}<br>Growth Rate=%{y}<extra></extra>\",\"legendgroup\":\"Botswana\",\"marker\":{\"color\":\"#FF6692\",\"symbol\":\"circle\"},\"mode\":\"markers\",\"name\":\"Botswana\",\"orientation\":\"v\",\"showlegend\":true,\"x\":[\"Botswana\"],\"xaxis\":\"x\",\"y\":[1.0162],\"yaxis\":\"y\",\"type\":\"scatter\"},{\"hovertemplate\":\"Country=%{x}<br>Growth Rate=%{y}<extra></extra>\",\"legendgroup\":\"Brazil\",\"marker\":{\"color\":\"#B6E880\",\"symbol\":\"circle\"},\"mode\":\"markers\",\"name\":\"Brazil\",\"orientation\":\"v\",\"showlegend\":true,\"x\":[\"Brazil\"],\"xaxis\":\"x\",\"y\":[1.0046],\"yaxis\":\"y\",\"type\":\"scatter\"},{\"hovertemplate\":\"Country=%{x}<br>Growth Rate=%{y}<extra></extra>\",\"legendgroup\":\"British Virgin Islands\",\"marker\":{\"color\":\"#FF97FF\",\"symbol\":\"circle\"},\"mode\":\"markers\",\"name\":\"British Virgin Islands\",\"orientation\":\"v\",\"showlegend\":true,\"x\":[\"British Virgin Islands\"],\"xaxis\":\"x\",\"y\":[1.0059],\"yaxis\":\"y\",\"type\":\"scatter\"},{\"hovertemplate\":\"Country=%{x}<br>Growth Rate=%{y}<extra></extra>\",\"legendgroup\":\"Brunei\",\"marker\":{\"color\":\"#FECB52\",\"symbol\":\"circle\"},\"mode\":\"markers\",\"name\":\"Brunei\",\"orientation\":\"v\",\"showlegend\":true,\"x\":[\"Brunei\"],\"xaxis\":\"x\",\"y\":[1.0081],\"yaxis\":\"y\",\"type\":\"scatter\"},{\"hovertemplate\":\"Country=%{x}<br>Growth Rate=%{y}<extra></extra>\",\"legendgroup\":\"Bulgaria\",\"marker\":{\"color\":\"#636efa\",\"symbol\":\"circle\"},\"mode\":\"markers\",\"name\":\"Bulgaria\",\"orientation\":\"v\",\"showlegend\":true,\"x\":[\"Bulgaria\"],\"xaxis\":\"x\",\"y\":[0.9849],\"yaxis\":\"y\",\"type\":\"scatter\"},{\"hovertemplate\":\"Country=%{x}<br>Growth Rate=%{y}<extra></extra>\",\"legendgroup\":\"Burkina Faso\",\"marker\":{\"color\":\"#EF553B\",\"symbol\":\"circle\"},\"mode\":\"markers\",\"name\":\"Burkina Faso\",\"orientation\":\"v\",\"showlegend\":true,\"x\":[\"Burkina Faso\"],\"xaxis\":\"x\",\"y\":[1.0259],\"yaxis\":\"y\",\"type\":\"scatter\"},{\"hovertemplate\":\"Country=%{x}<br>Growth Rate=%{y}<extra></extra>\",\"legendgroup\":\"Burundi\",\"marker\":{\"color\":\"#00cc96\",\"symbol\":\"circle\"},\"mode\":\"markers\",\"name\":\"Burundi\",\"orientation\":\"v\",\"showlegend\":true,\"x\":[\"Burundi\"],\"xaxis\":\"x\",\"y\":[1.027],\"yaxis\":\"y\",\"type\":\"scatter\"},{\"hovertemplate\":\"Country=%{x}<br>Growth Rate=%{y}<extra></extra>\",\"legendgroup\":\"Cambodia\",\"marker\":{\"color\":\"#ab63fa\",\"symbol\":\"circle\"},\"mode\":\"markers\",\"name\":\"Cambodia\",\"orientation\":\"v\",\"showlegend\":true,\"x\":[\"Cambodia\"],\"xaxis\":\"x\",\"y\":[1.0108],\"yaxis\":\"y\",\"type\":\"scatter\"},{\"hovertemplate\":\"Country=%{x}<br>Growth Rate=%{y}<extra></extra>\",\"legendgroup\":\"Cameroon\",\"marker\":{\"color\":\"#FFA15A\",\"symbol\":\"circle\"},\"mode\":\"markers\",\"name\":\"Cameroon\",\"orientation\":\"v\",\"showlegend\":true,\"x\":[\"Cameroon\"],\"xaxis\":\"x\",\"y\":[1.0263],\"yaxis\":\"y\",\"type\":\"scatter\"},{\"hovertemplate\":\"Country=%{x}<br>Growth Rate=%{y}<extra></extra>\",\"legendgroup\":\"Canada\",\"marker\":{\"color\":\"#19d3f3\",\"symbol\":\"circle\"},\"mode\":\"markers\",\"name\":\"Canada\",\"orientation\":\"v\",\"showlegend\":true,\"x\":[\"Canada\"],\"xaxis\":\"x\",\"y\":[1.0078],\"yaxis\":\"y\",\"type\":\"scatter\"},{\"hovertemplate\":\"Country=%{x}<br>Growth Rate=%{y}<extra></extra>\",\"legendgroup\":\"Cape Verde\",\"marker\":{\"color\":\"#FF6692\",\"symbol\":\"circle\"},\"mode\":\"markers\",\"name\":\"Cape Verde\",\"orientation\":\"v\",\"showlegend\":true,\"x\":[\"Cape Verde\"],\"xaxis\":\"x\",\"y\":[1.0089],\"yaxis\":\"y\",\"type\":\"scatter\"},{\"hovertemplate\":\"Country=%{x}<br>Growth Rate=%{y}<extra></extra>\",\"legendgroup\":\"Cayman Islands\",\"marker\":{\"color\":\"#B6E880\",\"symbol\":\"circle\"},\"mode\":\"markers\",\"name\":\"Cayman Islands\",\"orientation\":\"v\",\"showlegend\":true,\"x\":[\"Cayman Islands\"],\"xaxis\":\"x\",\"y\":[1.0084],\"yaxis\":\"y\",\"type\":\"scatter\"},{\"hovertemplate\":\"Country=%{x}<br>Growth Rate=%{y}<extra></extra>\",\"legendgroup\":\"Central African Republic\",\"marker\":{\"color\":\"#FF97FF\",\"symbol\":\"circle\"},\"mode\":\"markers\",\"name\":\"Central African Republic\",\"orientation\":\"v\",\"showlegend\":true,\"x\":[\"Central African Republic\"],\"xaxis\":\"x\",\"y\":[1.0224],\"yaxis\":\"y\",\"type\":\"scatter\"},{\"hovertemplate\":\"Country=%{x}<br>Growth Rate=%{y}<extra></extra>\",\"legendgroup\":\"Chad\",\"marker\":{\"color\":\"#FECB52\",\"symbol\":\"circle\"},\"mode\":\"markers\",\"name\":\"Chad\",\"orientation\":\"v\",\"showlegend\":true,\"x\":[\"Chad\"],\"xaxis\":\"x\",\"y\":[1.0316],\"yaxis\":\"y\",\"type\":\"scatter\"},{\"hovertemplate\":\"Country=%{x}<br>Growth Rate=%{y}<extra></extra>\",\"legendgroup\":\"Chile\",\"marker\":{\"color\":\"#636efa\",\"symbol\":\"circle\"},\"mode\":\"markers\",\"name\":\"Chile\",\"orientation\":\"v\",\"showlegend\":true,\"x\":[\"Chile\"],\"xaxis\":\"x\",\"y\":[1.0057],\"yaxis\":\"y\",\"type\":\"scatter\"},{\"hovertemplate\":\"Country=%{x}<br>Growth Rate=%{y}<extra></extra>\",\"legendgroup\":\"China\",\"marker\":{\"color\":\"#EF553B\",\"symbol\":\"circle\"},\"mode\":\"markers\",\"name\":\"China\",\"orientation\":\"v\",\"showlegend\":true,\"x\":[\"China\"],\"xaxis\":\"x\",\"y\":[1.0],\"yaxis\":\"y\",\"type\":\"scatter\"},{\"hovertemplate\":\"Country=%{x}<br>Growth Rate=%{y}<extra></extra>\",\"legendgroup\":\"Colombia\",\"marker\":{\"color\":\"#00cc96\",\"symbol\":\"circle\"},\"mode\":\"markers\",\"name\":\"Colombia\",\"orientation\":\"v\",\"showlegend\":true,\"x\":[\"Colombia\"],\"xaxis\":\"x\",\"y\":[1.0069],\"yaxis\":\"y\",\"type\":\"scatter\"},{\"hovertemplate\":\"Country=%{x}<br>Growth Rate=%{y}<extra></extra>\",\"legendgroup\":\"Comoros\",\"marker\":{\"color\":\"#ab63fa\",\"symbol\":\"circle\"},\"mode\":\"markers\",\"name\":\"Comoros\",\"orientation\":\"v\",\"showlegend\":true,\"x\":[\"Comoros\"],\"xaxis\":\"x\",\"y\":[1.0184],\"yaxis\":\"y\",\"type\":\"scatter\"},{\"hovertemplate\":\"Country=%{x}<br>Growth Rate=%{y}<extra></extra>\",\"legendgroup\":\"Cook Islands\",\"marker\":{\"color\":\"#FFA15A\",\"symbol\":\"circle\"},\"mode\":\"markers\",\"name\":\"Cook Islands\",\"orientation\":\"v\",\"showlegend\":true,\"x\":[\"Cook Islands\"],\"xaxis\":\"x\",\"y\":[1.0005],\"yaxis\":\"y\",\"type\":\"scatter\"},{\"hovertemplate\":\"Country=%{x}<br>Growth Rate=%{y}<extra></extra>\",\"legendgroup\":\"Costa Rica\",\"marker\":{\"color\":\"#19d3f3\",\"symbol\":\"circle\"},\"mode\":\"markers\",\"name\":\"Costa Rica\",\"orientation\":\"v\",\"showlegend\":true,\"x\":[\"Costa Rica\"],\"xaxis\":\"x\",\"y\":[1.0052],\"yaxis\":\"y\",\"type\":\"scatter\"},{\"hovertemplate\":\"Country=%{x}<br>Growth Rate=%{y}<extra></extra>\",\"legendgroup\":\"Croatia\",\"marker\":{\"color\":\"#FF6692\",\"symbol\":\"circle\"},\"mode\":\"markers\",\"name\":\"Croatia\",\"orientation\":\"v\",\"showlegend\":true,\"x\":[\"Croatia\"],\"xaxis\":\"x\",\"y\":[0.9927],\"yaxis\":\"y\",\"type\":\"scatter\"},{\"hovertemplate\":\"Country=%{x}<br>Growth Rate=%{y}<extra></extra>\",\"legendgroup\":\"Cuba\",\"marker\":{\"color\":\"#B6E880\",\"symbol\":\"circle\"},\"mode\":\"markers\",\"name\":\"Cuba\",\"orientation\":\"v\",\"showlegend\":true,\"x\":[\"Cuba\"],\"xaxis\":\"x\",\"y\":[0.9961],\"yaxis\":\"y\",\"type\":\"scatter\"},{\"hovertemplate\":\"Country=%{x}<br>Growth Rate=%{y}<extra></extra>\",\"legendgroup\":\"Curacao\",\"marker\":{\"color\":\"#FF97FF\",\"symbol\":\"circle\"},\"mode\":\"markers\",\"name\":\"Curacao\",\"orientation\":\"v\",\"showlegend\":true,\"x\":[\"Curacao\"],\"xaxis\":\"x\",\"y\":[1.0043],\"yaxis\":\"y\",\"type\":\"scatter\"},{\"hovertemplate\":\"Country=%{x}<br>Growth Rate=%{y}<extra></extra>\",\"legendgroup\":\"Cyprus\",\"marker\":{\"color\":\"#FECB52\",\"symbol\":\"circle\"},\"mode\":\"markers\",\"name\":\"Cyprus\",\"orientation\":\"v\",\"showlegend\":true,\"x\":[\"Cyprus\"],\"xaxis\":\"x\",\"y\":[1.0059],\"yaxis\":\"y\",\"type\":\"scatter\"},{\"hovertemplate\":\"Country=%{x}<br>Growth Rate=%{y}<extra></extra>\",\"legendgroup\":\"Czech Republic\",\"marker\":{\"color\":\"#636efa\",\"symbol\":\"circle\"},\"mode\":\"markers\",\"name\":\"Czech Republic\",\"orientation\":\"v\",\"showlegend\":true,\"x\":[\"Czech Republic\"],\"xaxis\":\"x\",\"y\":[0.9984],\"yaxis\":\"y\",\"type\":\"scatter\"},{\"hovertemplate\":\"Country=%{x}<br>Growth Rate=%{y}<extra></extra>\",\"legendgroup\":\"Denmark\",\"marker\":{\"color\":\"#EF553B\",\"symbol\":\"circle\"},\"mode\":\"markers\",\"name\":\"Denmark\",\"orientation\":\"v\",\"showlegend\":true,\"x\":[\"Denmark\"],\"xaxis\":\"x\",\"y\":[1.0048],\"yaxis\":\"y\",\"type\":\"scatter\"},{\"hovertemplate\":\"Country=%{x}<br>Growth Rate=%{y}<extra></extra>\",\"legendgroup\":\"Djibouti\",\"marker\":{\"color\":\"#00cc96\",\"symbol\":\"circle\"},\"mode\":\"markers\",\"name\":\"Djibouti\",\"orientation\":\"v\",\"showlegend\":true,\"x\":[\"Djibouti\"],\"xaxis\":\"x\",\"y\":[1.0138],\"yaxis\":\"y\",\"type\":\"scatter\"},{\"hovertemplate\":\"Country=%{x}<br>Growth Rate=%{y}<extra></extra>\",\"legendgroup\":\"Dominica\",\"marker\":{\"color\":\"#ab63fa\",\"symbol\":\"circle\"},\"mode\":\"markers\",\"name\":\"Dominica\",\"orientation\":\"v\",\"showlegend\":true,\"x\":[\"Dominica\"],\"xaxis\":\"x\",\"y\":[1.0045],\"yaxis\":\"y\",\"type\":\"scatter\"},{\"hovertemplate\":\"Country=%{x}<br>Growth Rate=%{y}<extra></extra>\",\"legendgroup\":\"Dominican Republic\",\"marker\":{\"color\":\"#FFA15A\",\"symbol\":\"circle\"},\"mode\":\"markers\",\"name\":\"Dominican Republic\",\"orientation\":\"v\",\"showlegend\":true,\"x\":[\"Dominican Republic\"],\"xaxis\":\"x\",\"y\":[1.01],\"yaxis\":\"y\",\"type\":\"scatter\"},{\"hovertemplate\":\"Country=%{x}<br>Growth Rate=%{y}<extra></extra>\",\"legendgroup\":\"DR Congo\",\"marker\":{\"color\":\"#19d3f3\",\"symbol\":\"circle\"},\"mode\":\"markers\",\"name\":\"DR Congo\",\"orientation\":\"v\",\"showlegend\":true,\"x\":[\"DR Congo\"],\"xaxis\":\"x\",\"y\":[1.0325],\"yaxis\":\"y\",\"type\":\"scatter\"},{\"hovertemplate\":\"Country=%{x}<br>Growth Rate=%{y}<extra></extra>\",\"legendgroup\":\"Ecuador\",\"marker\":{\"color\":\"#FF6692\",\"symbol\":\"circle\"},\"mode\":\"markers\",\"name\":\"Ecuador\",\"orientation\":\"v\",\"showlegend\":true,\"x\":[\"Ecuador\"],\"xaxis\":\"x\",\"y\":[1.0114],\"yaxis\":\"y\",\"type\":\"scatter\"},{\"hovertemplate\":\"Country=%{x}<br>Growth Rate=%{y}<extra></extra>\",\"legendgroup\":\"Egypt\",\"marker\":{\"color\":\"#B6E880\",\"symbol\":\"circle\"},\"mode\":\"markers\",\"name\":\"Egypt\",\"orientation\":\"v\",\"showlegend\":true,\"x\":[\"Egypt\"],\"xaxis\":\"x\",\"y\":[1.0158],\"yaxis\":\"y\",\"type\":\"scatter\"},{\"hovertemplate\":\"Country=%{x}<br>Growth Rate=%{y}<extra></extra>\",\"legendgroup\":\"El Salvador\",\"marker\":{\"color\":\"#FF97FF\",\"symbol\":\"circle\"},\"mode\":\"markers\",\"name\":\"El Salvador\",\"orientation\":\"v\",\"showlegend\":true,\"x\":[\"El Salvador\"],\"xaxis\":\"x\",\"y\":[1.0035],\"yaxis\":\"y\",\"type\":\"scatter\"},{\"hovertemplate\":\"Country=%{x}<br>Growth Rate=%{y}<extra></extra>\",\"legendgroup\":\"Equatorial Guinea\",\"marker\":{\"color\":\"#FECB52\",\"symbol\":\"circle\"},\"mode\":\"markers\",\"name\":\"Equatorial Guinea\",\"orientation\":\"v\",\"showlegend\":true,\"x\":[\"Equatorial Guinea\"],\"xaxis\":\"x\",\"y\":[1.0247],\"yaxis\":\"y\",\"type\":\"scatter\"},{\"hovertemplate\":\"Country=%{x}<br>Growth Rate=%{y}<extra></extra>\",\"legendgroup\":\"Eritrea\",\"marker\":{\"color\":\"#636efa\",\"symbol\":\"circle\"},\"mode\":\"markers\",\"name\":\"Eritrea\",\"orientation\":\"v\",\"showlegend\":true,\"x\":[\"Eritrea\"],\"xaxis\":\"x\",\"y\":[1.0176],\"yaxis\":\"y\",\"type\":\"scatter\"},{\"hovertemplate\":\"Country=%{x}<br>Growth Rate=%{y}<extra></extra>\",\"legendgroup\":\"Estonia\",\"marker\":{\"color\":\"#EF553B\",\"symbol\":\"circle\"},\"mode\":\"markers\",\"name\":\"Estonia\",\"orientation\":\"v\",\"showlegend\":true,\"x\":[\"Estonia\"],\"xaxis\":\"x\",\"y\":[0.998],\"yaxis\":\"y\",\"type\":\"scatter\"},{\"hovertemplate\":\"Country=%{x}<br>Growth Rate=%{y}<extra></extra>\",\"legendgroup\":\"Eswatini\",\"marker\":{\"color\":\"#00cc96\",\"symbol\":\"circle\"},\"mode\":\"markers\",\"name\":\"Eswatini\",\"orientation\":\"v\",\"showlegend\":true,\"x\":[\"Eswatini\"],\"xaxis\":\"x\",\"y\":[1.0079],\"yaxis\":\"y\",\"type\":\"scatter\"},{\"hovertemplate\":\"Country=%{x}<br>Growth Rate=%{y}<extra></extra>\",\"legendgroup\":\"Ethiopia\",\"marker\":{\"color\":\"#ab63fa\",\"symbol\":\"circle\"},\"mode\":\"markers\",\"name\":\"Ethiopia\",\"orientation\":\"v\",\"showlegend\":true,\"x\":[\"Ethiopia\"],\"xaxis\":\"x\",\"y\":[1.0257],\"yaxis\":\"y\",\"type\":\"scatter\"},{\"hovertemplate\":\"Country=%{x}<br>Growth Rate=%{y}<extra></extra>\",\"legendgroup\":\"Falkland Islands\",\"marker\":{\"color\":\"#FFA15A\",\"symbol\":\"circle\"},\"mode\":\"markers\",\"name\":\"Falkland Islands\",\"orientation\":\"v\",\"showlegend\":true,\"x\":[\"Falkland Islands\"],\"xaxis\":\"x\",\"y\":[1.0043],\"yaxis\":\"y\",\"type\":\"scatter\"},{\"hovertemplate\":\"Country=%{x}<br>Growth Rate=%{y}<extra></extra>\",\"legendgroup\":\"Faroe Islands\",\"marker\":{\"color\":\"#19d3f3\",\"symbol\":\"circle\"},\"mode\":\"markers\",\"name\":\"Faroe Islands\",\"orientation\":\"v\",\"showlegend\":true,\"x\":[\"Faroe Islands\"],\"xaxis\":\"x\",\"y\":[1.0038],\"yaxis\":\"y\",\"type\":\"scatter\"},{\"hovertemplate\":\"Country=%{x}<br>Growth Rate=%{y}<extra></extra>\",\"legendgroup\":\"Fiji\",\"marker\":{\"color\":\"#FF6692\",\"symbol\":\"circle\"},\"mode\":\"markers\",\"name\":\"Fiji\",\"orientation\":\"v\",\"showlegend\":true,\"x\":[\"Fiji\"],\"xaxis\":\"x\",\"y\":[1.0056],\"yaxis\":\"y\",\"type\":\"scatter\"},{\"hovertemplate\":\"Country=%{x}<br>Growth Rate=%{y}<extra></extra>\",\"legendgroup\":\"Finland\",\"marker\":{\"color\":\"#B6E880\",\"symbol\":\"circle\"},\"mode\":\"markers\",\"name\":\"Finland\",\"orientation\":\"v\",\"showlegend\":true,\"x\":[\"Finland\"],\"xaxis\":\"x\",\"y\":[1.0009],\"yaxis\":\"y\",\"type\":\"scatter\"},{\"hovertemplate\":\"Country=%{x}<br>Growth Rate=%{y}<extra></extra>\",\"legendgroup\":\"France\",\"marker\":{\"color\":\"#FF97FF\",\"symbol\":\"circle\"},\"mode\":\"markers\",\"name\":\"France\",\"orientation\":\"v\",\"showlegend\":true,\"x\":[\"France\"],\"xaxis\":\"x\",\"y\":[1.0015],\"yaxis\":\"y\",\"type\":\"scatter\"},{\"hovertemplate\":\"Country=%{x}<br>Growth Rate=%{y}<extra></extra>\",\"legendgroup\":\"French Guiana\",\"marker\":{\"color\":\"#FECB52\",\"symbol\":\"circle\"},\"mode\":\"markers\",\"name\":\"French Guiana\",\"orientation\":\"v\",\"showlegend\":true,\"x\":[\"French Guiana\"],\"xaxis\":\"x\",\"y\":[1.0239],\"yaxis\":\"y\",\"type\":\"scatter\"},{\"hovertemplate\":\"Country=%{x}<br>Growth Rate=%{y}<extra></extra>\",\"legendgroup\":\"French Polynesia\",\"marker\":{\"color\":\"#636efa\",\"symbol\":\"circle\"},\"mode\":\"markers\",\"name\":\"French Polynesia\",\"orientation\":\"v\",\"showlegend\":true,\"x\":[\"French Polynesia\"],\"xaxis\":\"x\",\"y\":[1.0074],\"yaxis\":\"y\",\"type\":\"scatter\"},{\"hovertemplate\":\"Country=%{x}<br>Growth Rate=%{y}<extra></extra>\",\"legendgroup\":\"Gabon\",\"marker\":{\"color\":\"#EF553B\",\"symbol\":\"circle\"},\"mode\":\"markers\",\"name\":\"Gabon\",\"orientation\":\"v\",\"showlegend\":true,\"x\":[\"Gabon\"],\"xaxis\":\"x\",\"y\":[1.0204],\"yaxis\":\"y\",\"type\":\"scatter\"},{\"hovertemplate\":\"Country=%{x}<br>Growth Rate=%{y}<extra></extra>\",\"legendgroup\":\"Gambia\",\"marker\":{\"color\":\"#00cc96\",\"symbol\":\"circle\"},\"mode\":\"markers\",\"name\":\"Gambia\",\"orientation\":\"v\",\"showlegend\":true,\"x\":[\"Gambia\"],\"xaxis\":\"x\",\"y\":[1.025],\"yaxis\":\"y\",\"type\":\"scatter\"},{\"hovertemplate\":\"Country=%{x}<br>Growth Rate=%{y}<extra></extra>\",\"legendgroup\":\"Georgia\",\"marker\":{\"color\":\"#ab63fa\",\"symbol\":\"circle\"},\"mode\":\"markers\",\"name\":\"Georgia\",\"orientation\":\"v\",\"showlegend\":true,\"x\":[\"Georgia\"],\"xaxis\":\"x\",\"y\":[0.9964],\"yaxis\":\"y\",\"type\":\"scatter\"},{\"hovertemplate\":\"Country=%{x}<br>Growth Rate=%{y}<extra></extra>\",\"legendgroup\":\"Germany\",\"marker\":{\"color\":\"#FFA15A\",\"symbol\":\"circle\"},\"mode\":\"markers\",\"name\":\"Germany\",\"orientation\":\"v\",\"showlegend\":true,\"x\":[\"Germany\"],\"xaxis\":\"x\",\"y\":[0.9995],\"yaxis\":\"y\",\"type\":\"scatter\"},{\"hovertemplate\":\"Country=%{x}<br>Growth Rate=%{y}<extra></extra>\",\"legendgroup\":\"Ghana\",\"marker\":{\"color\":\"#19d3f3\",\"symbol\":\"circle\"},\"mode\":\"markers\",\"name\":\"Ghana\",\"orientation\":\"v\",\"showlegend\":true,\"x\":[\"Ghana\"],\"xaxis\":\"x\",\"y\":[1.0196],\"yaxis\":\"y\",\"type\":\"scatter\"},{\"hovertemplate\":\"Country=%{x}<br>Growth Rate=%{y}<extra></extra>\",\"legendgroup\":\"Gibraltar\",\"marker\":{\"color\":\"#FF6692\",\"symbol\":\"circle\"},\"mode\":\"markers\",\"name\":\"Gibraltar\",\"orientation\":\"v\",\"showlegend\":true,\"x\":[\"Gibraltar\"],\"xaxis\":\"x\",\"y\":[0.9994],\"yaxis\":\"y\",\"type\":\"scatter\"},{\"hovertemplate\":\"Country=%{x}<br>Growth Rate=%{y}<extra></extra>\",\"legendgroup\":\"Greece\",\"marker\":{\"color\":\"#B6E880\",\"symbol\":\"circle\"},\"mode\":\"markers\",\"name\":\"Greece\",\"orientation\":\"v\",\"showlegend\":true,\"x\":[\"Greece\"],\"xaxis\":\"x\",\"y\":[0.9942],\"yaxis\":\"y\",\"type\":\"scatter\"},{\"hovertemplate\":\"Country=%{x}<br>Growth Rate=%{y}<extra></extra>\",\"legendgroup\":\"Greenland\",\"marker\":{\"color\":\"#FF97FF\",\"symbol\":\"circle\"},\"mode\":\"markers\",\"name\":\"Greenland\",\"orientation\":\"v\",\"showlegend\":true,\"x\":[\"Greenland\"],\"xaxis\":\"x\",\"y\":[1.004],\"yaxis\":\"y\",\"type\":\"scatter\"},{\"hovertemplate\":\"Country=%{x}<br>Growth Rate=%{y}<extra></extra>\",\"legendgroup\":\"Grenada\",\"marker\":{\"color\":\"#FECB52\",\"symbol\":\"circle\"},\"mode\":\"markers\",\"name\":\"Grenada\",\"orientation\":\"v\",\"showlegend\":true,\"x\":[\"Grenada\"],\"xaxis\":\"x\",\"y\":[1.0066],\"yaxis\":\"y\",\"type\":\"scatter\"},{\"hovertemplate\":\"Country=%{x}<br>Growth Rate=%{y}<extra></extra>\",\"legendgroup\":\"Guadeloupe\",\"marker\":{\"color\":\"#636efa\",\"symbol\":\"circle\"},\"mode\":\"markers\",\"name\":\"Guadeloupe\",\"orientation\":\"v\",\"showlegend\":true,\"x\":[\"Guadeloupe\"],\"xaxis\":\"x\",\"y\":[0.9992],\"yaxis\":\"y\",\"type\":\"scatter\"},{\"hovertemplate\":\"Country=%{x}<br>Growth Rate=%{y}<extra></extra>\",\"legendgroup\":\"Guam\",\"marker\":{\"color\":\"#EF553B\",\"symbol\":\"circle\"},\"mode\":\"markers\",\"name\":\"Guam\",\"orientation\":\"v\",\"showlegend\":true,\"x\":[\"Guam\"],\"xaxis\":\"x\",\"y\":[1.0073],\"yaxis\":\"y\",\"type\":\"scatter\"},{\"hovertemplate\":\"Country=%{x}<br>Growth Rate=%{y}<extra></extra>\",\"legendgroup\":\"Guatemala\",\"marker\":{\"color\":\"#00cc96\",\"symbol\":\"circle\"},\"mode\":\"markers\",\"name\":\"Guatemala\",\"orientation\":\"v\",\"showlegend\":true,\"x\":[\"Guatemala\"],\"xaxis\":\"x\",\"y\":[1.0134],\"yaxis\":\"y\",\"type\":\"scatter\"},{\"hovertemplate\":\"Country=%{x}<br>Growth Rate=%{y}<extra></extra>\",\"legendgroup\":\"Guernsey\",\"marker\":{\"color\":\"#ab63fa\",\"symbol\":\"circle\"},\"mode\":\"markers\",\"name\":\"Guernsey\",\"orientation\":\"v\",\"showlegend\":true,\"x\":[\"Guernsey\"],\"xaxis\":\"x\",\"y\":[1.0037],\"yaxis\":\"y\",\"type\":\"scatter\"},{\"hovertemplate\":\"Country=%{x}<br>Growth Rate=%{y}<extra></extra>\",\"legendgroup\":\"Guinea\",\"marker\":{\"color\":\"#FFA15A\",\"symbol\":\"circle\"},\"mode\":\"markers\",\"name\":\"Guinea\",\"orientation\":\"v\",\"showlegend\":true,\"x\":[\"Guinea\"],\"xaxis\":\"x\",\"y\":[1.0242],\"yaxis\":\"y\",\"type\":\"scatter\"},{\"hovertemplate\":\"Country=%{x}<br>Growth Rate=%{y}<extra></extra>\",\"legendgroup\":\"Guinea-Bissau\",\"marker\":{\"color\":\"#19d3f3\",\"symbol\":\"circle\"},\"mode\":\"markers\",\"name\":\"Guinea-Bissau\",\"orientation\":\"v\",\"showlegend\":true,\"x\":[\"Guinea-Bissau\"],\"xaxis\":\"x\",\"y\":[1.0218],\"yaxis\":\"y\",\"type\":\"scatter\"},{\"hovertemplate\":\"Country=%{x}<br>Growth Rate=%{y}<extra></extra>\",\"legendgroup\":\"Guyana\",\"marker\":{\"color\":\"#FF6692\",\"symbol\":\"circle\"},\"mode\":\"markers\",\"name\":\"Guyana\",\"orientation\":\"v\",\"showlegend\":true,\"x\":[\"Guyana\"],\"xaxis\":\"x\",\"y\":[1.0052],\"yaxis\":\"y\",\"type\":\"scatter\"},{\"hovertemplate\":\"Country=%{x}<br>Growth Rate=%{y}<extra></extra>\",\"legendgroup\":\"Haiti\",\"marker\":{\"color\":\"#B6E880\",\"symbol\":\"circle\"},\"mode\":\"markers\",\"name\":\"Haiti\",\"orientation\":\"v\",\"showlegend\":true,\"x\":[\"Haiti\"],\"xaxis\":\"x\",\"y\":[1.012],\"yaxis\":\"y\",\"type\":\"scatter\"},{\"hovertemplate\":\"Country=%{x}<br>Growth Rate=%{y}<extra></extra>\",\"legendgroup\":\"Honduras\",\"marker\":{\"color\":\"#FF97FF\",\"symbol\":\"circle\"},\"mode\":\"markers\",\"name\":\"Honduras\",\"orientation\":\"v\",\"showlegend\":true,\"x\":[\"Honduras\"],\"xaxis\":\"x\",\"y\":[1.015],\"yaxis\":\"y\",\"type\":\"scatter\"},{\"hovertemplate\":\"Country=%{x}<br>Growth Rate=%{y}<extra></extra>\",\"legendgroup\":\"Hong Kong\",\"marker\":{\"color\":\"#FECB52\",\"symbol\":\"circle\"},\"mode\":\"markers\",\"name\":\"Hong Kong\",\"orientation\":\"v\",\"showlegend\":true,\"x\":[\"Hong Kong\"],\"xaxis\":\"x\",\"y\":[0.9992],\"yaxis\":\"y\",\"type\":\"scatter\"},{\"hovertemplate\":\"Country=%{x}<br>Growth Rate=%{y}<extra></extra>\",\"legendgroup\":\"Hungary\",\"marker\":{\"color\":\"#636efa\",\"symbol\":\"circle\"},\"mode\":\"markers\",\"name\":\"Hungary\",\"orientation\":\"v\",\"showlegend\":true,\"x\":[\"Hungary\"],\"xaxis\":\"x\",\"y\":[1.0265],\"yaxis\":\"y\",\"type\":\"scatter\"},{\"hovertemplate\":\"Country=%{x}<br>Growth Rate=%{y}<extra></extra>\",\"legendgroup\":\"Iceland\",\"marker\":{\"color\":\"#EF553B\",\"symbol\":\"circle\"},\"mode\":\"markers\",\"name\":\"Iceland\",\"orientation\":\"v\",\"showlegend\":true,\"x\":[\"Iceland\"],\"xaxis\":\"x\",\"y\":[1.0069],\"yaxis\":\"y\",\"type\":\"scatter\"},{\"hovertemplate\":\"Country=%{x}<br>Growth Rate=%{y}<extra></extra>\",\"legendgroup\":\"India\",\"marker\":{\"color\":\"#00cc96\",\"symbol\":\"circle\"},\"mode\":\"markers\",\"name\":\"India\",\"orientation\":\"v\",\"showlegend\":true,\"x\":[\"India\"],\"xaxis\":\"x\",\"y\":[1.0068],\"yaxis\":\"y\",\"type\":\"scatter\"},{\"hovertemplate\":\"Country=%{x}<br>Growth Rate=%{y}<extra></extra>\",\"legendgroup\":\"Indonesia\",\"marker\":{\"color\":\"#ab63fa\",\"symbol\":\"circle\"},\"mode\":\"markers\",\"name\":\"Indonesia\",\"orientation\":\"v\",\"showlegend\":true,\"x\":[\"Indonesia\"],\"xaxis\":\"x\",\"y\":[1.0064],\"yaxis\":\"y\",\"type\":\"scatter\"},{\"hovertemplate\":\"Country=%{x}<br>Growth Rate=%{y}<extra></extra>\",\"legendgroup\":\"Iran\",\"marker\":{\"color\":\"#FFA15A\",\"symbol\":\"circle\"},\"mode\":\"markers\",\"name\":\"Iran\",\"orientation\":\"v\",\"showlegend\":true,\"x\":[\"Iran\"],\"xaxis\":\"x\",\"y\":[1.0071],\"yaxis\":\"y\",\"type\":\"scatter\"},{\"hovertemplate\":\"Country=%{x}<br>Growth Rate=%{y}<extra></extra>\",\"legendgroup\":\"Iraq\",\"marker\":{\"color\":\"#19d3f3\",\"symbol\":\"circle\"},\"mode\":\"markers\",\"name\":\"Iraq\",\"orientation\":\"v\",\"showlegend\":true,\"x\":[\"Iraq\"],\"xaxis\":\"x\",\"y\":[1.0221],\"yaxis\":\"y\",\"type\":\"scatter\"},{\"hovertemplate\":\"Country=%{x}<br>Growth Rate=%{y}<extra></extra>\",\"legendgroup\":\"Ireland\",\"marker\":{\"color\":\"#FF6692\",\"symbol\":\"circle\"},\"mode\":\"markers\",\"name\":\"Ireland\",\"orientation\":\"v\",\"showlegend\":true,\"x\":[\"Ireland\"],\"xaxis\":\"x\",\"y\":[1.0073],\"yaxis\":\"y\",\"type\":\"scatter\"},{\"hovertemplate\":\"Country=%{x}<br>Growth Rate=%{y}<extra></extra>\",\"legendgroup\":\"Isle of Man\",\"marker\":{\"color\":\"#B6E880\",\"symbol\":\"circle\"},\"mode\":\"markers\",\"name\":\"Isle of Man\",\"orientation\":\"v\",\"showlegend\":true,\"x\":[\"Isle of Man\"],\"xaxis\":\"x\",\"y\":[1.003],\"yaxis\":\"y\",\"type\":\"scatter\"},{\"hovertemplate\":\"Country=%{x}<br>Growth Rate=%{y}<extra></extra>\",\"legendgroup\":\"Israel\",\"marker\":{\"color\":\"#FF97FF\",\"symbol\":\"circle\"},\"mode\":\"markers\",\"name\":\"Israel\",\"orientation\":\"v\",\"showlegend\":true,\"x\":[\"Israel\"],\"xaxis\":\"x\",\"y\":[1.0155],\"yaxis\":\"y\",\"type\":\"scatter\"},{\"hovertemplate\":\"Country=%{x}<br>Growth Rate=%{y}<extra></extra>\",\"legendgroup\":\"Italy\",\"marker\":{\"color\":\"#FECB52\",\"symbol\":\"circle\"},\"mode\":\"markers\",\"name\":\"Italy\",\"orientation\":\"v\",\"showlegend\":true,\"x\":[\"Italy\"],\"xaxis\":\"x\",\"y\":[0.9966],\"yaxis\":\"y\",\"type\":\"scatter\"},{\"hovertemplate\":\"Country=%{x}<br>Growth Rate=%{y}<extra></extra>\",\"legendgroup\":\"Ivory Coast\",\"marker\":{\"color\":\"#636efa\",\"symbol\":\"circle\"},\"mode\":\"markers\",\"name\":\"Ivory Coast\",\"orientation\":\"v\",\"showlegend\":true,\"x\":[\"Ivory Coast\"],\"xaxis\":\"x\",\"y\":[1.0248],\"yaxis\":\"y\",\"type\":\"scatter\"},{\"hovertemplate\":\"Country=%{x}<br>Growth Rate=%{y}<extra></extra>\",\"legendgroup\":\"Jamaica\",\"marker\":{\"color\":\"#EF553B\",\"symbol\":\"circle\"},\"mode\":\"markers\",\"name\":\"Jamaica\",\"orientation\":\"v\",\"showlegend\":true,\"x\":[\"Jamaica\"],\"xaxis\":\"x\",\"y\":[0.9999],\"yaxis\":\"y\",\"type\":\"scatter\"},{\"hovertemplate\":\"Country=%{x}<br>Growth Rate=%{y}<extra></extra>\",\"legendgroup\":\"Japan\",\"marker\":{\"color\":\"#00cc96\",\"symbol\":\"circle\"},\"mode\":\"markers\",\"name\":\"Japan\",\"orientation\":\"v\",\"showlegend\":true,\"x\":[\"Japan\"],\"xaxis\":\"x\",\"y\":[0.9947],\"yaxis\":\"y\",\"type\":\"scatter\"},{\"hovertemplate\":\"Country=%{x}<br>Growth Rate=%{y}<extra></extra>\",\"legendgroup\":\"Jersey\",\"marker\":{\"color\":\"#ab63fa\",\"symbol\":\"circle\"},\"mode\":\"markers\",\"name\":\"Jersey\",\"orientation\":\"v\",\"showlegend\":true,\"x\":[\"Jersey\"],\"xaxis\":\"x\",\"y\":[1.0106],\"yaxis\":\"y\",\"type\":\"scatter\"},{\"hovertemplate\":\"Country=%{x}<br>Growth Rate=%{y}<extra></extra>\",\"legendgroup\":\"Jordan\",\"marker\":{\"color\":\"#FFA15A\",\"symbol\":\"circle\"},\"mode\":\"markers\",\"name\":\"Jordan\",\"orientation\":\"v\",\"showlegend\":true,\"x\":[\"Jordan\"],\"xaxis\":\"x\",\"y\":[1.0123],\"yaxis\":\"y\",\"type\":\"scatter\"},{\"hovertemplate\":\"Country=%{x}<br>Growth Rate=%{y}<extra></extra>\",\"legendgroup\":\"Kazakhstan\",\"marker\":{\"color\":\"#19d3f3\",\"symbol\":\"circle\"},\"mode\":\"markers\",\"name\":\"Kazakhstan\",\"orientation\":\"v\",\"showlegend\":true,\"x\":[\"Kazakhstan\"],\"xaxis\":\"x\",\"y\":[1.0105],\"yaxis\":\"y\",\"type\":\"scatter\"},{\"hovertemplate\":\"Country=%{x}<br>Growth Rate=%{y}<extra></extra>\",\"legendgroup\":\"Kenya\",\"marker\":{\"color\":\"#FF6692\",\"symbol\":\"circle\"},\"mode\":\"markers\",\"name\":\"Kenya\",\"orientation\":\"v\",\"showlegend\":true,\"x\":[\"Kenya\"],\"xaxis\":\"x\",\"y\":[1.0193],\"yaxis\":\"y\",\"type\":\"scatter\"},{\"hovertemplate\":\"Country=%{x}<br>Growth Rate=%{y}<extra></extra>\",\"legendgroup\":\"Kiribati\",\"marker\":{\"color\":\"#B6E880\",\"symbol\":\"circle\"},\"mode\":\"markers\",\"name\":\"Kiribati\",\"orientation\":\"v\",\"showlegend\":true,\"x\":[\"Kiribati\"],\"xaxis\":\"x\",\"y\":[1.0183],\"yaxis\":\"y\",\"type\":\"scatter\"},{\"hovertemplate\":\"Country=%{x}<br>Growth Rate=%{y}<extra></extra>\",\"legendgroup\":\"Kuwait\",\"marker\":{\"color\":\"#FF97FF\",\"symbol\":\"circle\"},\"mode\":\"markers\",\"name\":\"Kuwait\",\"orientation\":\"v\",\"showlegend\":true,\"x\":[\"Kuwait\"],\"xaxis\":\"x\",\"y\":[1.0044],\"yaxis\":\"y\",\"type\":\"scatter\"},{\"hovertemplate\":\"Country=%{x}<br>Growth Rate=%{y}<extra></extra>\",\"legendgroup\":\"Kyrgyzstan\",\"marker\":{\"color\":\"#FECB52\",\"symbol\":\"circle\"},\"mode\":\"markers\",\"name\":\"Kyrgyzstan\",\"orientation\":\"v\",\"showlegend\":true,\"x\":[\"Kyrgyzstan\"],\"xaxis\":\"x\",\"y\":[1.0158],\"yaxis\":\"y\",\"type\":\"scatter\"},{\"hovertemplate\":\"Country=%{x}<br>Growth Rate=%{y}<extra></extra>\",\"legendgroup\":\"Laos\",\"marker\":{\"color\":\"#636efa\",\"symbol\":\"circle\"},\"mode\":\"markers\",\"name\":\"Laos\",\"orientation\":\"v\",\"showlegend\":true,\"x\":[\"Laos\"],\"xaxis\":\"x\",\"y\":[1.0141],\"yaxis\":\"y\",\"type\":\"scatter\"},{\"hovertemplate\":\"Country=%{x}<br>Growth Rate=%{y}<extra></extra>\",\"legendgroup\":\"Latvia\",\"marker\":{\"color\":\"#EF553B\",\"symbol\":\"circle\"},\"mode\":\"markers\",\"name\":\"Latvia\",\"orientation\":\"v\",\"showlegend\":true,\"x\":[\"Latvia\"],\"xaxis\":\"x\",\"y\":[0.9876],\"yaxis\":\"y\",\"type\":\"scatter\"},{\"hovertemplate\":\"Country=%{x}<br>Growth Rate=%{y}<extra></extra>\",\"legendgroup\":\"Lebanon\",\"marker\":{\"color\":\"#00cc96\",\"symbol\":\"circle\"},\"mode\":\"markers\",\"name\":\"Lebanon\",\"orientation\":\"v\",\"showlegend\":true,\"x\":[\"Lebanon\"],\"xaxis\":\"x\",\"y\":[0.9816],\"yaxis\":\"y\",\"type\":\"scatter\"},{\"hovertemplate\":\"Country=%{x}<br>Growth Rate=%{y}<extra></extra>\",\"legendgroup\":\"Lesotho\",\"marker\":{\"color\":\"#ab63fa\",\"symbol\":\"circle\"},\"mode\":\"markers\",\"name\":\"Lesotho\",\"orientation\":\"v\",\"showlegend\":true,\"x\":[\"Lesotho\"],\"xaxis\":\"x\",\"y\":[1.0107],\"yaxis\":\"y\",\"type\":\"scatter\"},{\"hovertemplate\":\"Country=%{x}<br>Growth Rate=%{y}<extra></extra>\",\"legendgroup\":\"Liberia\",\"marker\":{\"color\":\"#FFA15A\",\"symbol\":\"circle\"},\"mode\":\"markers\",\"name\":\"Liberia\",\"orientation\":\"v\",\"showlegend\":true,\"x\":[\"Liberia\"],\"xaxis\":\"x\",\"y\":[1.021],\"yaxis\":\"y\",\"type\":\"scatter\"},{\"hovertemplate\":\"Country=%{x}<br>Growth Rate=%{y}<extra></extra>\",\"legendgroup\":\"Libya\",\"marker\":{\"color\":\"#19d3f3\",\"symbol\":\"circle\"},\"mode\":\"markers\",\"name\":\"Libya\",\"orientation\":\"v\",\"showlegend\":true,\"x\":[\"Libya\"],\"xaxis\":\"x\",\"y\":[1.0114],\"yaxis\":\"y\",\"type\":\"scatter\"},{\"hovertemplate\":\"Country=%{x}<br>Growth Rate=%{y}<extra></extra>\",\"legendgroup\":\"Liechtenstein\",\"marker\":{\"color\":\"#FF6692\",\"symbol\":\"circle\"},\"mode\":\"markers\",\"name\":\"Liechtenstein\",\"orientation\":\"v\",\"showlegend\":true,\"x\":[\"Liechtenstein\"],\"xaxis\":\"x\",\"y\":[1.0074],\"yaxis\":\"y\",\"type\":\"scatter\"},{\"hovertemplate\":\"Country=%{x}<br>Growth Rate=%{y}<extra></extra>\",\"legendgroup\":\"Lithuania\",\"marker\":{\"color\":\"#B6E880\",\"symbol\":\"circle\"},\"mode\":\"markers\",\"name\":\"Lithuania\",\"orientation\":\"v\",\"showlegend\":true,\"x\":[\"Lithuania\"],\"xaxis\":\"x\",\"y\":[0.9869],\"yaxis\":\"y\",\"type\":\"scatter\"},{\"hovertemplate\":\"Country=%{x}<br>Growth Rate=%{y}<extra></extra>\",\"legendgroup\":\"Luxembourg\",\"marker\":{\"color\":\"#FF97FF\",\"symbol\":\"circle\"},\"mode\":\"markers\",\"name\":\"Luxembourg\",\"orientation\":\"v\",\"showlegend\":true,\"x\":[\"Luxembourg\"],\"xaxis\":\"x\",\"y\":[1.0129],\"yaxis\":\"y\",\"type\":\"scatter\"},{\"hovertemplate\":\"Country=%{x}<br>Growth Rate=%{y}<extra></extra>\",\"legendgroup\":\"Macau\",\"marker\":{\"color\":\"#FECB52\",\"symbol\":\"circle\"},\"mode\":\"markers\",\"name\":\"Macau\",\"orientation\":\"v\",\"showlegend\":true,\"x\":[\"Macau\"],\"xaxis\":\"x\",\"y\":[1.0125],\"yaxis\":\"y\",\"type\":\"scatter\"},{\"hovertemplate\":\"Country=%{x}<br>Growth Rate=%{y}<extra></extra>\",\"legendgroup\":\"Madagascar\",\"marker\":{\"color\":\"#636efa\",\"symbol\":\"circle\"},\"mode\":\"markers\",\"name\":\"Madagascar\",\"orientation\":\"v\",\"showlegend\":true,\"x\":[\"Madagascar\"],\"xaxis\":\"x\",\"y\":[1.0241],\"yaxis\":\"y\",\"type\":\"scatter\"},{\"hovertemplate\":\"Country=%{x}<br>Growth Rate=%{y}<extra></extra>\",\"legendgroup\":\"Malawi\",\"marker\":{\"color\":\"#EF553B\",\"symbol\":\"circle\"},\"mode\":\"markers\",\"name\":\"Malawi\",\"orientation\":\"v\",\"showlegend\":true,\"x\":[\"Malawi\"],\"xaxis\":\"x\",\"y\":[1.0259],\"yaxis\":\"y\",\"type\":\"scatter\"},{\"hovertemplate\":\"Country=%{x}<br>Growth Rate=%{y}<extra></extra>\",\"legendgroup\":\"Malaysia\",\"marker\":{\"color\":\"#00cc96\",\"symbol\":\"circle\"},\"mode\":\"markers\",\"name\":\"Malaysia\",\"orientation\":\"v\",\"showlegend\":true,\"x\":[\"Malaysia\"],\"xaxis\":\"x\",\"y\":[1.0109],\"yaxis\":\"y\",\"type\":\"scatter\"},{\"hovertemplate\":\"Country=%{x}<br>Growth Rate=%{y}<extra></extra>\",\"legendgroup\":\"Maldives\",\"marker\":{\"color\":\"#ab63fa\",\"symbol\":\"circle\"},\"mode\":\"markers\",\"name\":\"Maldives\",\"orientation\":\"v\",\"showlegend\":true,\"x\":[\"Maldives\"],\"xaxis\":\"x\",\"y\":[1.0045],\"yaxis\":\"y\",\"type\":\"scatter\"},{\"hovertemplate\":\"Country=%{x}<br>Growth Rate=%{y}<extra></extra>\",\"legendgroup\":\"Mali\",\"marker\":{\"color\":\"#FFA15A\",\"symbol\":\"circle\"},\"mode\":\"markers\",\"name\":\"Mali\",\"orientation\":\"v\",\"showlegend\":true,\"x\":[\"Mali\"],\"xaxis\":\"x\",\"y\":[1.0314],\"yaxis\":\"y\",\"type\":\"scatter\"},{\"hovertemplate\":\"Country=%{x}<br>Growth Rate=%{y}<extra></extra>\",\"legendgroup\":\"Malta\",\"marker\":{\"color\":\"#19d3f3\",\"symbol\":\"circle\"},\"mode\":\"markers\",\"name\":\"Malta\",\"orientation\":\"v\",\"showlegend\":true,\"x\":[\"Malta\"],\"xaxis\":\"x\",\"y\":[1.0124],\"yaxis\":\"y\",\"type\":\"scatter\"},{\"hovertemplate\":\"Country=%{x}<br>Growth Rate=%{y}<extra></extra>\",\"legendgroup\":\"Marshall Islands\",\"marker\":{\"color\":\"#FF6692\",\"symbol\":\"circle\"},\"mode\":\"markers\",\"name\":\"Marshall Islands\",\"orientation\":\"v\",\"showlegend\":true,\"x\":[\"Marshall Islands\"],\"xaxis\":\"x\",\"y\":[0.9886],\"yaxis\":\"y\",\"type\":\"scatter\"},{\"hovertemplate\":\"Country=%{x}<br>Growth Rate=%{y}<extra></extra>\",\"legendgroup\":\"Martinique\",\"marker\":{\"color\":\"#B6E880\",\"symbol\":\"circle\"},\"mode\":\"markers\",\"name\":\"Martinique\",\"orientation\":\"v\",\"showlegend\":true,\"x\":[\"Martinique\"],\"xaxis\":\"x\",\"y\":[0.9965],\"yaxis\":\"y\",\"type\":\"scatter\"},{\"hovertemplate\":\"Country=%{x}<br>Growth Rate=%{y}<extra></extra>\",\"legendgroup\":\"Mauritania\",\"marker\":{\"color\":\"#FF97FF\",\"symbol\":\"circle\"},\"mode\":\"markers\",\"name\":\"Mauritania\",\"orientation\":\"v\",\"showlegend\":true,\"x\":[\"Mauritania\"],\"xaxis\":\"x\",\"y\":[1.0263],\"yaxis\":\"y\",\"type\":\"scatter\"},{\"hovertemplate\":\"Country=%{x}<br>Growth Rate=%{y}<extra></extra>\",\"legendgroup\":\"Mauritius\",\"marker\":{\"color\":\"#FECB52\",\"symbol\":\"circle\"},\"mode\":\"markers\",\"name\":\"Mauritius\",\"orientation\":\"v\",\"showlegend\":true,\"x\":[\"Mauritius\"],\"xaxis\":\"x\",\"y\":[1.0004],\"yaxis\":\"y\",\"type\":\"scatter\"},{\"hovertemplate\":\"Country=%{x}<br>Growth Rate=%{y}<extra></extra>\",\"legendgroup\":\"Mayotte\",\"marker\":{\"color\":\"#636efa\",\"symbol\":\"circle\"},\"mode\":\"markers\",\"name\":\"Mayotte\",\"orientation\":\"v\",\"showlegend\":true,\"x\":[\"Mayotte\"],\"xaxis\":\"x\",\"y\":[1.0319],\"yaxis\":\"y\",\"type\":\"scatter\"},{\"hovertemplate\":\"Country=%{x}<br>Growth Rate=%{y}<extra></extra>\",\"legendgroup\":\"Mexico\",\"marker\":{\"color\":\"#EF553B\",\"symbol\":\"circle\"},\"mode\":\"markers\",\"name\":\"Mexico\",\"orientation\":\"v\",\"showlegend\":true,\"x\":[\"Mexico\"],\"xaxis\":\"x\",\"y\":[1.0063],\"yaxis\":\"y\",\"type\":\"scatter\"},{\"hovertemplate\":\"Country=%{x}<br>Growth Rate=%{y}<extra></extra>\",\"legendgroup\":\"Micronesia\",\"marker\":{\"color\":\"#00cc96\",\"symbol\":\"circle\"},\"mode\":\"markers\",\"name\":\"Micronesia\",\"orientation\":\"v\",\"showlegend\":true,\"x\":[\"Micronesia\"],\"xaxis\":\"x\",\"y\":[1.0091],\"yaxis\":\"y\",\"type\":\"scatter\"},{\"hovertemplate\":\"Country=%{x}<br>Growth Rate=%{y}<extra></extra>\",\"legendgroup\":\"Moldova\",\"marker\":{\"color\":\"#ab63fa\",\"symbol\":\"circle\"},\"mode\":\"markers\",\"name\":\"Moldova\",\"orientation\":\"v\",\"showlegend\":true,\"x\":[\"Moldova\"],\"xaxis\":\"x\",\"y\":[1.0691],\"yaxis\":\"y\",\"type\":\"scatter\"},{\"hovertemplate\":\"Country=%{x}<br>Growth Rate=%{y}<extra></extra>\",\"legendgroup\":\"Monaco\",\"marker\":{\"color\":\"#FFA15A\",\"symbol\":\"circle\"},\"mode\":\"markers\",\"name\":\"Monaco\",\"orientation\":\"v\",\"showlegend\":true,\"x\":[\"Monaco\"],\"xaxis\":\"x\",\"y\":[0.9941],\"yaxis\":\"y\",\"type\":\"scatter\"},{\"hovertemplate\":\"Country=%{x}<br>Growth Rate=%{y}<extra></extra>\",\"legendgroup\":\"Mongolia\",\"marker\":{\"color\":\"#19d3f3\",\"symbol\":\"circle\"},\"mode\":\"markers\",\"name\":\"Mongolia\",\"orientation\":\"v\",\"showlegend\":true,\"x\":[\"Mongolia\"],\"xaxis\":\"x\",\"y\":[1.0151],\"yaxis\":\"y\",\"type\":\"scatter\"},{\"hovertemplate\":\"Country=%{x}<br>Growth Rate=%{y}<extra></extra>\",\"legendgroup\":\"Montenegro\",\"marker\":{\"color\":\"#FF6692\",\"symbol\":\"circle\"},\"mode\":\"markers\",\"name\":\"Montenegro\",\"orientation\":\"v\",\"showlegend\":true,\"x\":[\"Montenegro\"],\"xaxis\":\"x\",\"y\":[0.9988],\"yaxis\":\"y\",\"type\":\"scatter\"},{\"hovertemplate\":\"Country=%{x}<br>Growth Rate=%{y}<extra></extra>\",\"legendgroup\":\"Montserrat\",\"marker\":{\"color\":\"#B6E880\",\"symbol\":\"circle\"},\"mode\":\"markers\",\"name\":\"Montserrat\",\"orientation\":\"v\",\"showlegend\":true,\"x\":[\"Montserrat\"],\"xaxis\":\"x\",\"y\":[0.9939],\"yaxis\":\"y\",\"type\":\"scatter\"},{\"hovertemplate\":\"Country=%{x}<br>Growth Rate=%{y}<extra></extra>\",\"legendgroup\":\"Morocco\",\"marker\":{\"color\":\"#FF97FF\",\"symbol\":\"circle\"},\"mode\":\"markers\",\"name\":\"Morocco\",\"orientation\":\"v\",\"showlegend\":true,\"x\":[\"Morocco\"],\"xaxis\":\"x\",\"y\":[1.0103],\"yaxis\":\"y\",\"type\":\"scatter\"},{\"hovertemplate\":\"Country=%{x}<br>Growth Rate=%{y}<extra></extra>\",\"legendgroup\":\"Mozambique\",\"marker\":{\"color\":\"#FECB52\",\"symbol\":\"circle\"},\"mode\":\"markers\",\"name\":\"Mozambique\",\"orientation\":\"v\",\"showlegend\":true,\"x\":[\"Mozambique\"],\"xaxis\":\"x\",\"y\":[1.0278],\"yaxis\":\"y\",\"type\":\"scatter\"},{\"hovertemplate\":\"Country=%{x}<br>Growth Rate=%{y}<extra></extra>\",\"legendgroup\":\"Myanmar\",\"marker\":{\"color\":\"#636efa\",\"symbol\":\"circle\"},\"mode\":\"markers\",\"name\":\"Myanmar\",\"orientation\":\"v\",\"showlegend\":true,\"x\":[\"Myanmar\"],\"xaxis\":\"x\",\"y\":[1.0071],\"yaxis\":\"y\",\"type\":\"scatter\"},{\"hovertemplate\":\"Country=%{x}<br>Growth Rate=%{y}<extra></extra>\",\"legendgroup\":\"Namibia\",\"marker\":{\"color\":\"#EF553B\",\"symbol\":\"circle\"},\"mode\":\"markers\",\"name\":\"Namibia\",\"orientation\":\"v\",\"showlegend\":true,\"x\":[\"Namibia\"],\"xaxis\":\"x\",\"y\":[1.0146],\"yaxis\":\"y\",\"type\":\"scatter\"},{\"hovertemplate\":\"Country=%{x}<br>Growth Rate=%{y}<extra></extra>\",\"legendgroup\":\"Nauru\",\"marker\":{\"color\":\"#00cc96\",\"symbol\":\"circle\"},\"mode\":\"markers\",\"name\":\"Nauru\",\"orientation\":\"v\",\"showlegend\":true,\"x\":[\"Nauru\"],\"xaxis\":\"x\",\"y\":[1.0125],\"yaxis\":\"y\",\"type\":\"scatter\"},{\"hovertemplate\":\"Country=%{x}<br>Growth Rate=%{y}<extra></extra>\",\"legendgroup\":\"Nepal\",\"marker\":{\"color\":\"#ab63fa\",\"symbol\":\"circle\"},\"mode\":\"markers\",\"name\":\"Nepal\",\"orientation\":\"v\",\"showlegend\":true,\"x\":[\"Nepal\"],\"xaxis\":\"x\",\"y\":[1.0171],\"yaxis\":\"y\",\"type\":\"scatter\"},{\"hovertemplate\":\"Country=%{x}<br>Growth Rate=%{y}<extra></extra>\",\"legendgroup\":\"Netherlands\",\"marker\":{\"color\":\"#FFA15A\",\"symbol\":\"circle\"},\"mode\":\"markers\",\"name\":\"Netherlands\",\"orientation\":\"v\",\"showlegend\":true,\"x\":[\"Netherlands\"],\"xaxis\":\"x\",\"y\":[1.0036],\"yaxis\":\"y\",\"type\":\"scatter\"},{\"hovertemplate\":\"Country=%{x}<br>Growth Rate=%{y}<extra></extra>\",\"legendgroup\":\"New Caledonia\",\"marker\":{\"color\":\"#19d3f3\",\"symbol\":\"circle\"},\"mode\":\"markers\",\"name\":\"New Caledonia\",\"orientation\":\"v\",\"showlegend\":true,\"x\":[\"New Caledonia\"],\"xaxis\":\"x\",\"y\":[1.0075],\"yaxis\":\"y\",\"type\":\"scatter\"},{\"hovertemplate\":\"Country=%{x}<br>Growth Rate=%{y}<extra></extra>\",\"legendgroup\":\"New Zealand\",\"marker\":{\"color\":\"#FF6692\",\"symbol\":\"circle\"},\"mode\":\"markers\",\"name\":\"New Zealand\",\"orientation\":\"v\",\"showlegend\":true,\"x\":[\"New Zealand\"],\"xaxis\":\"x\",\"y\":[1.0108],\"yaxis\":\"y\",\"type\":\"scatter\"},{\"hovertemplate\":\"Country=%{x}<br>Growth Rate=%{y}<extra></extra>\",\"legendgroup\":\"Nicaragua\",\"marker\":{\"color\":\"#B6E880\",\"symbol\":\"circle\"},\"mode\":\"markers\",\"name\":\"Nicaragua\",\"orientation\":\"v\",\"showlegend\":true,\"x\":[\"Nicaragua\"],\"xaxis\":\"x\",\"y\":[1.0143],\"yaxis\":\"y\",\"type\":\"scatter\"},{\"hovertemplate\":\"Country=%{x}<br>Growth Rate=%{y}<extra></extra>\",\"legendgroup\":\"Niger\",\"marker\":{\"color\":\"#FF97FF\",\"symbol\":\"circle\"},\"mode\":\"markers\",\"name\":\"Niger\",\"orientation\":\"v\",\"showlegend\":true,\"x\":[\"Niger\"],\"xaxis\":\"x\",\"y\":[1.0378],\"yaxis\":\"y\",\"type\":\"scatter\"},{\"hovertemplate\":\"Country=%{x}<br>Growth Rate=%{y}<extra></extra>\",\"legendgroup\":\"Nigeria\",\"marker\":{\"color\":\"#FECB52\",\"symbol\":\"circle\"},\"mode\":\"markers\",\"name\":\"Nigeria\",\"orientation\":\"v\",\"showlegend\":true,\"x\":[\"Nigeria\"],\"xaxis\":\"x\",\"y\":[1.0241],\"yaxis\":\"y\",\"type\":\"scatter\"},{\"hovertemplate\":\"Country=%{x}<br>Growth Rate=%{y}<extra></extra>\",\"legendgroup\":\"Niue\",\"marker\":{\"color\":\"#636efa\",\"symbol\":\"circle\"},\"mode\":\"markers\",\"name\":\"Niue\",\"orientation\":\"v\",\"showlegend\":true,\"x\":[\"Niue\"],\"xaxis\":\"x\",\"y\":[0.9985],\"yaxis\":\"y\",\"type\":\"scatter\"},{\"hovertemplate\":\"Country=%{x}<br>Growth Rate=%{y}<extra></extra>\",\"legendgroup\":\"North Korea\",\"marker\":{\"color\":\"#EF553B\",\"symbol\":\"circle\"},\"mode\":\"markers\",\"name\":\"North Korea\",\"orientation\":\"v\",\"showlegend\":true,\"x\":[\"North Korea\"],\"xaxis\":\"x\",\"y\":[1.0038],\"yaxis\":\"y\",\"type\":\"scatter\"},{\"hovertemplate\":\"Country=%{x}<br>Growth Rate=%{y}<extra></extra>\",\"legendgroup\":\"North Macedonia\",\"marker\":{\"color\":\"#00cc96\",\"symbol\":\"circle\"},\"mode\":\"markers\",\"name\":\"North Macedonia\",\"orientation\":\"v\",\"showlegend\":true,\"x\":[\"North Macedonia\"],\"xaxis\":\"x\",\"y\":[0.9954],\"yaxis\":\"y\",\"type\":\"scatter\"},{\"hovertemplate\":\"Country=%{x}<br>Growth Rate=%{y}<extra></extra>\",\"legendgroup\":\"Northern Mariana Islands\",\"marker\":{\"color\":\"#ab63fa\",\"symbol\":\"circle\"},\"mode\":\"markers\",\"name\":\"Northern Mariana Islands\",\"orientation\":\"v\",\"showlegend\":true,\"x\":[\"Northern Mariana Islands\"],\"xaxis\":\"x\",\"y\":[1.0014],\"yaxis\":\"y\",\"type\":\"scatter\"},{\"hovertemplate\":\"Country=%{x}<br>Growth Rate=%{y}<extra></extra>\",\"legendgroup\":\"Norway\",\"marker\":{\"color\":\"#FFA15A\",\"symbol\":\"circle\"},\"mode\":\"markers\",\"name\":\"Norway\",\"orientation\":\"v\",\"showlegend\":true,\"x\":[\"Norway\"],\"xaxis\":\"x\",\"y\":[1.0058],\"yaxis\":\"y\",\"type\":\"scatter\"},{\"hovertemplate\":\"Country=%{x}<br>Growth Rate=%{y}<extra></extra>\",\"legendgroup\":\"Oman\",\"marker\":{\"color\":\"#19d3f3\",\"symbol\":\"circle\"},\"mode\":\"markers\",\"name\":\"Oman\",\"orientation\":\"v\",\"showlegend\":true,\"x\":[\"Oman\"],\"xaxis\":\"x\",\"y\":[1.0123],\"yaxis\":\"y\",\"type\":\"scatter\"},{\"hovertemplate\":\"Country=%{x}<br>Growth Rate=%{y}<extra></extra>\",\"legendgroup\":\"Pakistan\",\"marker\":{\"color\":\"#FF6692\",\"symbol\":\"circle\"},\"mode\":\"markers\",\"name\":\"Pakistan\",\"orientation\":\"v\",\"showlegend\":true,\"x\":[\"Pakistan\"],\"xaxis\":\"x\",\"y\":[1.0191],\"yaxis\":\"y\",\"type\":\"scatter\"},{\"hovertemplate\":\"Country=%{x}<br>Growth Rate=%{y}<extra></extra>\",\"legendgroup\":\"Palau\",\"marker\":{\"color\":\"#B6E880\",\"symbol\":\"circle\"},\"mode\":\"markers\",\"name\":\"Palau\",\"orientation\":\"v\",\"showlegend\":true,\"x\":[\"Palau\"],\"xaxis\":\"x\",\"y\":[1.0017],\"yaxis\":\"y\",\"type\":\"scatter\"},{\"hovertemplate\":\"Country=%{x}<br>Growth Rate=%{y}<extra></extra>\",\"legendgroup\":\"Palestine\",\"marker\":{\"color\":\"#FF97FF\",\"symbol\":\"circle\"},\"mode\":\"markers\",\"name\":\"Palestine\",\"orientation\":\"v\",\"showlegend\":true,\"x\":[\"Palestine\"],\"xaxis\":\"x\",\"y\":[1.0227],\"yaxis\":\"y\",\"type\":\"scatter\"},{\"hovertemplate\":\"Country=%{x}<br>Growth Rate=%{y}<extra></extra>\",\"legendgroup\":\"Panama\",\"marker\":{\"color\":\"#FECB52\",\"symbol\":\"circle\"},\"mode\":\"markers\",\"name\":\"Panama\",\"orientation\":\"v\",\"showlegend\":true,\"x\":[\"Panama\"],\"xaxis\":\"x\",\"y\":[1.0132],\"yaxis\":\"y\",\"type\":\"scatter\"},{\"hovertemplate\":\"Country=%{x}<br>Growth Rate=%{y}<extra></extra>\",\"legendgroup\":\"Papua New Guinea\",\"marker\":{\"color\":\"#636efa\",\"symbol\":\"circle\"},\"mode\":\"markers\",\"name\":\"Papua New Guinea\",\"orientation\":\"v\",\"showlegend\":true,\"x\":[\"Papua New Guinea\"],\"xaxis\":\"x\",\"y\":[1.0194],\"yaxis\":\"y\",\"type\":\"scatter\"},{\"hovertemplate\":\"Country=%{x}<br>Growth Rate=%{y}<extra></extra>\",\"legendgroup\":\"Paraguay\",\"marker\":{\"color\":\"#EF553B\",\"symbol\":\"circle\"},\"mode\":\"markers\",\"name\":\"Paraguay\",\"orientation\":\"v\",\"showlegend\":true,\"x\":[\"Paraguay\"],\"xaxis\":\"x\",\"y\":[1.0115],\"yaxis\":\"y\",\"type\":\"scatter\"},{\"hovertemplate\":\"Country=%{x}<br>Growth Rate=%{y}<extra></extra>\",\"legendgroup\":\"Peru\",\"marker\":{\"color\":\"#00cc96\",\"symbol\":\"circle\"},\"mode\":\"markers\",\"name\":\"Peru\",\"orientation\":\"v\",\"showlegend\":true,\"x\":[\"Peru\"],\"xaxis\":\"x\",\"y\":[1.0099],\"yaxis\":\"y\",\"type\":\"scatter\"},{\"hovertemplate\":\"Country=%{x}<br>Growth Rate=%{y}<extra></extra>\",\"legendgroup\":\"Philippines\",\"marker\":{\"color\":\"#ab63fa\",\"symbol\":\"circle\"},\"mode\":\"markers\",\"name\":\"Philippines\",\"orientation\":\"v\",\"showlegend\":true,\"x\":[\"Philippines\"],\"xaxis\":\"x\",\"y\":[1.0147],\"yaxis\":\"y\",\"type\":\"scatter\"},{\"hovertemplate\":\"Country=%{x}<br>Growth Rate=%{y}<extra></extra>\",\"legendgroup\":\"Poland\",\"marker\":{\"color\":\"#FFA15A\",\"symbol\":\"circle\"},\"mode\":\"markers\",\"name\":\"Poland\",\"orientation\":\"v\",\"showlegend\":true,\"x\":[\"Poland\"],\"xaxis\":\"x\",\"y\":[1.0404],\"yaxis\":\"y\",\"type\":\"scatter\"},{\"hovertemplate\":\"Country=%{x}<br>Growth Rate=%{y}<extra></extra>\",\"legendgroup\":\"Portugal\",\"marker\":{\"color\":\"#19d3f3\",\"symbol\":\"circle\"},\"mode\":\"markers\",\"name\":\"Portugal\",\"orientation\":\"v\",\"showlegend\":true,\"x\":[\"Portugal\"],\"xaxis\":\"x\",\"y\":[0.9981],\"yaxis\":\"y\",\"type\":\"scatter\"},{\"hovertemplate\":\"Country=%{x}<br>Growth Rate=%{y}<extra></extra>\",\"legendgroup\":\"Puerto Rico\",\"marker\":{\"color\":\"#FF6692\",\"symbol\":\"circle\"},\"mode\":\"markers\",\"name\":\"Puerto Rico\",\"orientation\":\"v\",\"showlegend\":true,\"x\":[\"Puerto Rico\"],\"xaxis\":\"x\",\"y\":[0.9989],\"yaxis\":\"y\",\"type\":\"scatter\"},{\"hovertemplate\":\"Country=%{x}<br>Growth Rate=%{y}<extra></extra>\",\"legendgroup\":\"Qatar\",\"marker\":{\"color\":\"#B6E880\",\"symbol\":\"circle\"},\"mode\":\"markers\",\"name\":\"Qatar\",\"orientation\":\"v\",\"showlegend\":true,\"x\":[\"Qatar\"],\"xaxis\":\"x\",\"y\":[1.0026],\"yaxis\":\"y\",\"type\":\"scatter\"},{\"hovertemplate\":\"Country=%{x}<br>Growth Rate=%{y}<extra></extra>\",\"legendgroup\":\"Republic of the Congo\",\"marker\":{\"color\":\"#FF97FF\",\"symbol\":\"circle\"},\"mode\":\"markers\",\"name\":\"Republic of the Congo\",\"orientation\":\"v\",\"showlegend\":true,\"x\":[\"Republic of the Congo\"],\"xaxis\":\"x\",\"y\":[1.0231],\"yaxis\":\"y\",\"type\":\"scatter\"},{\"hovertemplate\":\"Country=%{x}<br>Growth Rate=%{y}<extra></extra>\",\"legendgroup\":\"Reunion\",\"marker\":{\"color\":\"#FECB52\",\"symbol\":\"circle\"},\"mode\":\"markers\",\"name\":\"Reunion\",\"orientation\":\"v\",\"showlegend\":true,\"x\":[\"Reunion\"],\"xaxis\":\"x\",\"y\":[1.0082],\"yaxis\":\"y\",\"type\":\"scatter\"},{\"hovertemplate\":\"Country=%{x}<br>Growth Rate=%{y}<extra></extra>\",\"legendgroup\":\"Romania\",\"marker\":{\"color\":\"#636efa\",\"symbol\":\"circle\"},\"mode\":\"markers\",\"name\":\"Romania\",\"orientation\":\"v\",\"showlegend\":true,\"x\":[\"Romania\"],\"xaxis\":\"x\",\"y\":[1.0171],\"yaxis\":\"y\",\"type\":\"scatter\"},{\"hovertemplate\":\"Country=%{x}<br>Growth Rate=%{y}<extra></extra>\",\"legendgroup\":\"Russia\",\"marker\":{\"color\":\"#EF553B\",\"symbol\":\"circle\"},\"mode\":\"markers\",\"name\":\"Russia\",\"orientation\":\"v\",\"showlegend\":true,\"x\":[\"Russia\"],\"xaxis\":\"x\",\"y\":[0.9973],\"yaxis\":\"y\",\"type\":\"scatter\"},{\"hovertemplate\":\"Country=%{x}<br>Growth Rate=%{y}<extra></extra>\",\"legendgroup\":\"Rwanda\",\"marker\":{\"color\":\"#00cc96\",\"symbol\":\"circle\"},\"mode\":\"markers\",\"name\":\"Rwanda\",\"orientation\":\"v\",\"showlegend\":true,\"x\":[\"Rwanda\"],\"xaxis\":\"x\",\"y\":[1.0234],\"yaxis\":\"y\",\"type\":\"scatter\"},{\"hovertemplate\":\"Country=%{x}<br>Growth Rate=%{y}<extra></extra>\",\"legendgroup\":\"Saint Barthelemy\",\"marker\":{\"color\":\"#ab63fa\",\"symbol\":\"circle\"},\"mode\":\"markers\",\"name\":\"Saint Barthelemy\",\"orientation\":\"v\",\"showlegend\":true,\"x\":[\"Saint Barthelemy\"],\"xaxis\":\"x\",\"y\":[1.0098],\"yaxis\":\"y\",\"type\":\"scatter\"},{\"hovertemplate\":\"Country=%{x}<br>Growth Rate=%{y}<extra></extra>\",\"legendgroup\":\"Saint Kitts and Nevis\",\"marker\":{\"color\":\"#FFA15A\",\"symbol\":\"circle\"},\"mode\":\"markers\",\"name\":\"Saint Kitts and Nevis\",\"orientation\":\"v\",\"showlegend\":true,\"x\":[\"Saint Kitts and Nevis\"],\"xaxis\":\"x\",\"y\":[1.0011],\"yaxis\":\"y\",\"type\":\"scatter\"},{\"hovertemplate\":\"Country=%{x}<br>Growth Rate=%{y}<extra></extra>\",\"legendgroup\":\"Saint Lucia\",\"marker\":{\"color\":\"#19d3f3\",\"symbol\":\"circle\"},\"mode\":\"markers\",\"name\":\"Saint Lucia\",\"orientation\":\"v\",\"showlegend\":true,\"x\":[\"Saint Lucia\"],\"xaxis\":\"x\",\"y\":[1.0011],\"yaxis\":\"y\",\"type\":\"scatter\"},{\"hovertemplate\":\"Country=%{x}<br>Growth Rate=%{y}<extra></extra>\",\"legendgroup\":\"Saint Martin\",\"marker\":{\"color\":\"#FF6692\",\"symbol\":\"circle\"},\"mode\":\"markers\",\"name\":\"Saint Martin\",\"orientation\":\"v\",\"showlegend\":true,\"x\":[\"Saint Martin\"],\"xaxis\":\"x\",\"y\":[0.9951],\"yaxis\":\"y\",\"type\":\"scatter\"},{\"hovertemplate\":\"Country=%{x}<br>Growth Rate=%{y}<extra></extra>\",\"legendgroup\":\"Saint Pierre and Miquelon\",\"marker\":{\"color\":\"#B6E880\",\"symbol\":\"circle\"},\"mode\":\"markers\",\"name\":\"Saint Pierre and Miquelon\",\"orientation\":\"v\",\"showlegend\":true,\"x\":[\"Saint Pierre and Miquelon\"],\"xaxis\":\"x\",\"y\":[0.9964],\"yaxis\":\"y\",\"type\":\"scatter\"},{\"hovertemplate\":\"Country=%{x}<br>Growth Rate=%{y}<extra></extra>\",\"legendgroup\":\"Saint Vincent and the Grenadines\",\"marker\":{\"color\":\"#FF97FF\",\"symbol\":\"circle\"},\"mode\":\"markers\",\"name\":\"Saint Vincent and the Grenadines\",\"orientation\":\"v\",\"showlegend\":true,\"x\":[\"Saint Vincent and the Grenadines\"],\"xaxis\":\"x\",\"y\":[0.9963],\"yaxis\":\"y\",\"type\":\"scatter\"},{\"hovertemplate\":\"Country=%{x}<br>Growth Rate=%{y}<extra></extra>\",\"legendgroup\":\"Samoa\",\"marker\":{\"color\":\"#FECB52\",\"symbol\":\"circle\"},\"mode\":\"markers\",\"name\":\"Samoa\",\"orientation\":\"v\",\"showlegend\":true,\"x\":[\"Samoa\"],\"xaxis\":\"x\",\"y\":[1.0165],\"yaxis\":\"y\",\"type\":\"scatter\"},{\"hovertemplate\":\"Country=%{x}<br>Growth Rate=%{y}<extra></extra>\",\"legendgroup\":\"San Marino\",\"marker\":{\"color\":\"#636efa\",\"symbol\":\"circle\"},\"mode\":\"markers\",\"name\":\"San Marino\",\"orientation\":\"v\",\"showlegend\":true,\"x\":[\"San Marino\"],\"xaxis\":\"x\",\"y\":[0.9975],\"yaxis\":\"y\",\"type\":\"scatter\"},{\"hovertemplate\":\"Country=%{x}<br>Growth Rate=%{y}<extra></extra>\",\"legendgroup\":\"Sao Tome and Principe\",\"marker\":{\"color\":\"#EF553B\",\"symbol\":\"circle\"},\"mode\":\"markers\",\"name\":\"Sao Tome and Principe\",\"orientation\":\"v\",\"showlegend\":true,\"x\":[\"Sao Tome and Principe\"],\"xaxis\":\"x\",\"y\":[1.0192],\"yaxis\":\"y\",\"type\":\"scatter\"},{\"hovertemplate\":\"Country=%{x}<br>Growth Rate=%{y}<extra></extra>\",\"legendgroup\":\"Saudi Arabia\",\"marker\":{\"color\":\"#00cc96\",\"symbol\":\"circle\"},\"mode\":\"markers\",\"name\":\"Saudi Arabia\",\"orientation\":\"v\",\"showlegend\":true,\"x\":[\"Saudi Arabia\"],\"xaxis\":\"x\",\"y\":[1.0128],\"yaxis\":\"y\",\"type\":\"scatter\"},{\"hovertemplate\":\"Country=%{x}<br>Growth Rate=%{y}<extra></extra>\",\"legendgroup\":\"Senegal\",\"marker\":{\"color\":\"#ab63fa\",\"symbol\":\"circle\"},\"mode\":\"markers\",\"name\":\"Senegal\",\"orientation\":\"v\",\"showlegend\":true,\"x\":[\"Senegal\"],\"xaxis\":\"x\",\"y\":[1.0261],\"yaxis\":\"y\",\"type\":\"scatter\"},{\"hovertemplate\":\"Country=%{x}<br>Growth Rate=%{y}<extra></extra>\",\"legendgroup\":\"Serbia\",\"marker\":{\"color\":\"#FFA15A\",\"symbol\":\"circle\"},\"mode\":\"markers\",\"name\":\"Serbia\",\"orientation\":\"v\",\"showlegend\":true,\"x\":[\"Serbia\"],\"xaxis\":\"x\",\"y\":[0.9897],\"yaxis\":\"y\",\"type\":\"scatter\"},{\"hovertemplate\":\"Country=%{x}<br>Growth Rate=%{y}<extra></extra>\",\"legendgroup\":\"Seychelles\",\"marker\":{\"color\":\"#19d3f3\",\"symbol\":\"circle\"},\"mode\":\"markers\",\"name\":\"Seychelles\",\"orientation\":\"v\",\"showlegend\":true,\"x\":[\"Seychelles\"],\"xaxis\":\"x\",\"y\":[1.0061],\"yaxis\":\"y\",\"type\":\"scatter\"},{\"hovertemplate\":\"Country=%{x}<br>Growth Rate=%{y}<extra></extra>\",\"legendgroup\":\"Sierra Leone\",\"marker\":{\"color\":\"#FF6692\",\"symbol\":\"circle\"},\"mode\":\"markers\",\"name\":\"Sierra Leone\",\"orientation\":\"v\",\"showlegend\":true,\"x\":[\"Sierra Leone\"],\"xaxis\":\"x\",\"y\":[1.022],\"yaxis\":\"y\",\"type\":\"scatter\"},{\"hovertemplate\":\"Country=%{x}<br>Growth Rate=%{y}<extra></extra>\",\"legendgroup\":\"Singapore\",\"marker\":{\"color\":\"#B6E880\",\"symbol\":\"circle\"},\"mode\":\"markers\",\"name\":\"Singapore\",\"orientation\":\"v\",\"showlegend\":true,\"x\":[\"Singapore\"],\"xaxis\":\"x\",\"y\":[1.0058],\"yaxis\":\"y\",\"type\":\"scatter\"},{\"hovertemplate\":\"Country=%{x}<br>Growth Rate=%{y}<extra></extra>\",\"legendgroup\":\"Sint Maarten\",\"marker\":{\"color\":\"#FF97FF\",\"symbol\":\"circle\"},\"mode\":\"markers\",\"name\":\"Sint Maarten\",\"orientation\":\"v\",\"showlegend\":true,\"x\":[\"Sint Maarten\"],\"xaxis\":\"x\",\"y\":[1.003],\"yaxis\":\"y\",\"type\":\"scatter\"},{\"hovertemplate\":\"Country=%{x}<br>Growth Rate=%{y}<extra></extra>\",\"legendgroup\":\"Slovakia\",\"marker\":{\"color\":\"#FECB52\",\"symbol\":\"circle\"},\"mode\":\"markers\",\"name\":\"Slovakia\",\"orientation\":\"v\",\"showlegend\":true,\"x\":[\"Slovakia\"],\"xaxis\":\"x\",\"y\":[1.0359],\"yaxis\":\"y\",\"type\":\"scatter\"},{\"hovertemplate\":\"Country=%{x}<br>Growth Rate=%{y}<extra></extra>\",\"legendgroup\":\"Slovenia\",\"marker\":{\"color\":\"#636efa\",\"symbol\":\"circle\"},\"mode\":\"markers\",\"name\":\"Slovenia\",\"orientation\":\"v\",\"showlegend\":true,\"x\":[\"Slovenia\"],\"xaxis\":\"x\",\"y\":[1.0002],\"yaxis\":\"y\",\"type\":\"scatter\"},{\"hovertemplate\":\"Country=%{x}<br>Growth Rate=%{y}<extra></extra>\",\"legendgroup\":\"Solomon Islands\",\"marker\":{\"color\":\"#EF553B\",\"symbol\":\"circle\"},\"mode\":\"markers\",\"name\":\"Solomon Islands\",\"orientation\":\"v\",\"showlegend\":true,\"x\":[\"Solomon Islands\"],\"xaxis\":\"x\",\"y\":[1.0232],\"yaxis\":\"y\",\"type\":\"scatter\"},{\"hovertemplate\":\"Country=%{x}<br>Growth Rate=%{y}<extra></extra>\",\"legendgroup\":\"Somalia\",\"marker\":{\"color\":\"#00cc96\",\"symbol\":\"circle\"},\"mode\":\"markers\",\"name\":\"Somalia\",\"orientation\":\"v\",\"showlegend\":true,\"x\":[\"Somalia\"],\"xaxis\":\"x\",\"y\":[1.0312],\"yaxis\":\"y\",\"type\":\"scatter\"},{\"hovertemplate\":\"Country=%{x}<br>Growth Rate=%{y}<extra></extra>\",\"legendgroup\":\"South Africa\",\"marker\":{\"color\":\"#ab63fa\",\"symbol\":\"circle\"},\"mode\":\"markers\",\"name\":\"South Africa\",\"orientation\":\"v\",\"showlegend\":true,\"x\":[\"South Africa\"],\"xaxis\":\"x\",\"y\":[1.0084],\"yaxis\":\"y\",\"type\":\"scatter\"},{\"hovertemplate\":\"Country=%{x}<br>Growth Rate=%{y}<extra></extra>\",\"legendgroup\":\"South Korea\",\"marker\":{\"color\":\"#FFA15A\",\"symbol\":\"circle\"},\"mode\":\"markers\",\"name\":\"South Korea\",\"orientation\":\"v\",\"showlegend\":true,\"x\":[\"South Korea\"],\"xaxis\":\"x\",\"y\":[0.9997],\"yaxis\":\"y\",\"type\":\"scatter\"},{\"hovertemplate\":\"Country=%{x}<br>Growth Rate=%{y}<extra></extra>\",\"legendgroup\":\"South Sudan\",\"marker\":{\"color\":\"#19d3f3\",\"symbol\":\"circle\"},\"mode\":\"markers\",\"name\":\"South Sudan\",\"orientation\":\"v\",\"showlegend\":true,\"x\":[\"South Sudan\"],\"xaxis\":\"x\",\"y\":[1.0153],\"yaxis\":\"y\",\"type\":\"scatter\"},{\"hovertemplate\":\"Country=%{x}<br>Growth Rate=%{y}<extra></extra>\",\"legendgroup\":\"Spain\",\"marker\":{\"color\":\"#FF6692\",\"symbol\":\"circle\"},\"mode\":\"markers\",\"name\":\"Spain\",\"orientation\":\"v\",\"showlegend\":true,\"x\":[\"Spain\"],\"xaxis\":\"x\",\"y\":[1.0015],\"yaxis\":\"y\",\"type\":\"scatter\"},{\"hovertemplate\":\"Country=%{x}<br>Growth Rate=%{y}<extra></extra>\",\"legendgroup\":\"Sri Lanka\",\"marker\":{\"color\":\"#B6E880\",\"symbol\":\"circle\"},\"mode\":\"markers\",\"name\":\"Sri Lanka\",\"orientation\":\"v\",\"showlegend\":true,\"x\":[\"Sri Lanka\"],\"xaxis\":\"x\",\"y\":[1.0027],\"yaxis\":\"y\",\"type\":\"scatter\"},{\"hovertemplate\":\"Country=%{x}<br>Growth Rate=%{y}<extra></extra>\",\"legendgroup\":\"Sudan\",\"marker\":{\"color\":\"#FF97FF\",\"symbol\":\"circle\"},\"mode\":\"markers\",\"name\":\"Sudan\",\"orientation\":\"v\",\"showlegend\":true,\"x\":[\"Sudan\"],\"xaxis\":\"x\",\"y\":[1.0267],\"yaxis\":\"y\",\"type\":\"scatter\"},{\"hovertemplate\":\"Country=%{x}<br>Growth Rate=%{y}<extra></extra>\",\"legendgroup\":\"Suriname\",\"marker\":{\"color\":\"#FECB52\",\"symbol\":\"circle\"},\"mode\":\"markers\",\"name\":\"Suriname\",\"orientation\":\"v\",\"showlegend\":true,\"x\":[\"Suriname\"],\"xaxis\":\"x\",\"y\":[1.0082],\"yaxis\":\"y\",\"type\":\"scatter\"},{\"hovertemplate\":\"Country=%{x}<br>Growth Rate=%{y}<extra></extra>\",\"legendgroup\":\"Sweden\",\"marker\":{\"color\":\"#636efa\",\"symbol\":\"circle\"},\"mode\":\"markers\",\"name\":\"Sweden\",\"orientation\":\"v\",\"showlegend\":true,\"x\":[\"Sweden\"],\"xaxis\":\"x\",\"y\":[1.0079],\"yaxis\":\"y\",\"type\":\"scatter\"},{\"hovertemplate\":\"Country=%{x}<br>Growth Rate=%{y}<extra></extra>\",\"legendgroup\":\"Switzerland\",\"marker\":{\"color\":\"#EF553B\",\"symbol\":\"circle\"},\"mode\":\"markers\",\"name\":\"Switzerland\",\"orientation\":\"v\",\"showlegend\":true,\"x\":[\"Switzerland\"],\"xaxis\":\"x\",\"y\":[1.0056],\"yaxis\":\"y\",\"type\":\"scatter\"},{\"hovertemplate\":\"Country=%{x}<br>Growth Rate=%{y}<extra></extra>\",\"legendgroup\":\"Syria\",\"marker\":{\"color\":\"#00cc96\",\"symbol\":\"circle\"},\"mode\":\"markers\",\"name\":\"Syria\",\"orientation\":\"v\",\"showlegend\":true,\"x\":[\"Syria\"],\"xaxis\":\"x\",\"y\":[1.0376],\"yaxis\":\"y\",\"type\":\"scatter\"},{\"hovertemplate\":\"Country=%{x}<br>Growth Rate=%{y}<extra></extra>\",\"legendgroup\":\"Taiwan\",\"marker\":{\"color\":\"#ab63fa\",\"symbol\":\"circle\"},\"mode\":\"markers\",\"name\":\"Taiwan\",\"orientation\":\"v\",\"showlegend\":true,\"x\":[\"Taiwan\"],\"xaxis\":\"x\",\"y\":[1.0014],\"yaxis\":\"y\",\"type\":\"scatter\"},{\"hovertemplate\":\"Country=%{x}<br>Growth Rate=%{y}<extra></extra>\",\"legendgroup\":\"Tajikistan\",\"marker\":{\"color\":\"#FFA15A\",\"symbol\":\"circle\"},\"mode\":\"markers\",\"name\":\"Tajikistan\",\"orientation\":\"v\",\"showlegend\":true,\"x\":[\"Tajikistan\"],\"xaxis\":\"x\",\"y\":[1.0208],\"yaxis\":\"y\",\"type\":\"scatter\"},{\"hovertemplate\":\"Country=%{x}<br>Growth Rate=%{y}<extra></extra>\",\"legendgroup\":\"Tanzania\",\"marker\":{\"color\":\"#19d3f3\",\"symbol\":\"circle\"},\"mode\":\"markers\",\"name\":\"Tanzania\",\"orientation\":\"v\",\"showlegend\":true,\"x\":[\"Tanzania\"],\"xaxis\":\"x\",\"y\":[1.03],\"yaxis\":\"y\",\"type\":\"scatter\"},{\"hovertemplate\":\"Country=%{x}<br>Growth Rate=%{y}<extra></extra>\",\"legendgroup\":\"Thailand\",\"marker\":{\"color\":\"#FF6692\",\"symbol\":\"circle\"},\"mode\":\"markers\",\"name\":\"Thailand\",\"orientation\":\"v\",\"showlegend\":true,\"x\":[\"Thailand\"],\"xaxis\":\"x\",\"y\":[1.0013],\"yaxis\":\"y\",\"type\":\"scatter\"},{\"hovertemplate\":\"Country=%{x}<br>Growth Rate=%{y}<extra></extra>\",\"legendgroup\":\"Timor-Leste\",\"marker\":{\"color\":\"#B6E880\",\"symbol\":\"circle\"},\"mode\":\"markers\",\"name\":\"Timor-Leste\",\"orientation\":\"v\",\"showlegend\":true,\"x\":[\"Timor-Leste\"],\"xaxis\":\"x\",\"y\":[1.0154],\"yaxis\":\"y\",\"type\":\"scatter\"},{\"hovertemplate\":\"Country=%{x}<br>Growth Rate=%{y}<extra></extra>\",\"legendgroup\":\"Togo\",\"marker\":{\"color\":\"#FF97FF\",\"symbol\":\"circle\"},\"mode\":\"markers\",\"name\":\"Togo\",\"orientation\":\"v\",\"showlegend\":true,\"x\":[\"Togo\"],\"xaxis\":\"x\",\"y\":[1.0236],\"yaxis\":\"y\",\"type\":\"scatter\"},{\"hovertemplate\":\"Country=%{x}<br>Growth Rate=%{y}<extra></extra>\",\"legendgroup\":\"Tokelau\",\"marker\":{\"color\":\"#FECB52\",\"symbol\":\"circle\"},\"mode\":\"markers\",\"name\":\"Tokelau\",\"orientation\":\"v\",\"showlegend\":true,\"x\":[\"Tokelau\"],\"xaxis\":\"x\",\"y\":[1.0119],\"yaxis\":\"y\",\"type\":\"scatter\"},{\"hovertemplate\":\"Country=%{x}<br>Growth Rate=%{y}<extra></extra>\",\"legendgroup\":\"Tonga\",\"marker\":{\"color\":\"#636efa\",\"symbol\":\"circle\"},\"mode\":\"markers\",\"name\":\"Tonga\",\"orientation\":\"v\",\"showlegend\":true,\"x\":[\"Tonga\"],\"xaxis\":\"x\",\"y\":[1.0079],\"yaxis\":\"y\",\"type\":\"scatter\"},{\"hovertemplate\":\"Country=%{x}<br>Growth Rate=%{y}<extra></extra>\",\"legendgroup\":\"Trinidad and Tobago\",\"marker\":{\"color\":\"#EF553B\",\"symbol\":\"circle\"},\"mode\":\"markers\",\"name\":\"Trinidad and Tobago\",\"orientation\":\"v\",\"showlegend\":true,\"x\":[\"Trinidad and Tobago\"],\"xaxis\":\"x\",\"y\":[1.0035],\"yaxis\":\"y\",\"type\":\"scatter\"},{\"hovertemplate\":\"Country=%{x}<br>Growth Rate=%{y}<extra></extra>\",\"legendgroup\":\"Tunisia\",\"marker\":{\"color\":\"#00cc96\",\"symbol\":\"circle\"},\"mode\":\"markers\",\"name\":\"Tunisia\",\"orientation\":\"v\",\"showlegend\":true,\"x\":[\"Tunisia\"],\"xaxis\":\"x\",\"y\":[1.0076],\"yaxis\":\"y\",\"type\":\"scatter\"},{\"hovertemplate\":\"Country=%{x}<br>Growth Rate=%{y}<extra></extra>\",\"legendgroup\":\"Turkey\",\"marker\":{\"color\":\"#ab63fa\",\"symbol\":\"circle\"},\"mode\":\"markers\",\"name\":\"Turkey\",\"orientation\":\"v\",\"showlegend\":true,\"x\":[\"Turkey\"],\"xaxis\":\"x\",\"y\":[1.0067],\"yaxis\":\"y\",\"type\":\"scatter\"},{\"hovertemplate\":\"Country=%{x}<br>Growth Rate=%{y}<extra></extra>\",\"legendgroup\":\"Turkmenistan\",\"marker\":{\"color\":\"#FFA15A\",\"symbol\":\"circle\"},\"mode\":\"markers\",\"name\":\"Turkmenistan\",\"orientation\":\"v\",\"showlegend\":true,\"x\":[\"Turkmenistan\"],\"xaxis\":\"x\",\"y\":[1.014],\"yaxis\":\"y\",\"type\":\"scatter\"},{\"hovertemplate\":\"Country=%{x}<br>Growth Rate=%{y}<extra></extra>\",\"legendgroup\":\"Turks and Caicos Islands\",\"marker\":{\"color\":\"#19d3f3\",\"symbol\":\"circle\"},\"mode\":\"markers\",\"name\":\"Turks and Caicos Islands\",\"orientation\":\"v\",\"showlegend\":true,\"x\":[\"Turks and Caicos Islands\"],\"xaxis\":\"x\",\"y\":[1.0131],\"yaxis\":\"y\",\"type\":\"scatter\"},{\"hovertemplate\":\"Country=%{x}<br>Growth Rate=%{y}<extra></extra>\",\"legendgroup\":\"Tuvalu\",\"marker\":{\"color\":\"#FF6692\",\"symbol\":\"circle\"},\"mode\":\"markers\",\"name\":\"Tuvalu\",\"orientation\":\"v\",\"showlegend\":true,\"x\":[\"Tuvalu\"],\"xaxis\":\"x\",\"y\":[1.0096],\"yaxis\":\"y\",\"type\":\"scatter\"},{\"hovertemplate\":\"Country=%{x}<br>Growth Rate=%{y}<extra></extra>\",\"legendgroup\":\"Uganda\",\"marker\":{\"color\":\"#B6E880\",\"symbol\":\"circle\"},\"mode\":\"markers\",\"name\":\"Uganda\",\"orientation\":\"v\",\"showlegend\":true,\"x\":[\"Uganda\"],\"xaxis\":\"x\",\"y\":[1.0304],\"yaxis\":\"y\",\"type\":\"scatter\"},{\"hovertemplate\":\"Country=%{x}<br>Growth Rate=%{y}<extra></extra>\",\"legendgroup\":\"Ukraine\",\"marker\":{\"color\":\"#FF97FF\",\"symbol\":\"circle\"},\"mode\":\"markers\",\"name\":\"Ukraine\",\"orientation\":\"v\",\"showlegend\":true,\"x\":[\"Ukraine\"],\"xaxis\":\"x\",\"y\":[0.912],\"yaxis\":\"y\",\"type\":\"scatter\"},{\"hovertemplate\":\"Country=%{x}<br>Growth Rate=%{y}<extra></extra>\",\"legendgroup\":\"United Arab Emirates\",\"marker\":{\"color\":\"#FECB52\",\"symbol\":\"circle\"},\"mode\":\"markers\",\"name\":\"United Arab Emirates\",\"orientation\":\"v\",\"showlegend\":true,\"x\":[\"United Arab Emirates\"],\"xaxis\":\"x\",\"y\":[1.0081],\"yaxis\":\"y\",\"type\":\"scatter\"},{\"hovertemplate\":\"Country=%{x}<br>Growth Rate=%{y}<extra></extra>\",\"legendgroup\":\"United Kingdom\",\"marker\":{\"color\":\"#636efa\",\"symbol\":\"circle\"},\"mode\":\"markers\",\"name\":\"United Kingdom\",\"orientation\":\"v\",\"showlegend\":true,\"x\":[\"United Kingdom\"],\"xaxis\":\"x\",\"y\":[1.0034],\"yaxis\":\"y\",\"type\":\"scatter\"},{\"hovertemplate\":\"Country=%{x}<br>Growth Rate=%{y}<extra></extra>\",\"legendgroup\":\"United States\",\"marker\":{\"color\":\"#EF553B\",\"symbol\":\"circle\"},\"mode\":\"markers\",\"name\":\"United States\",\"orientation\":\"v\",\"showlegend\":true,\"x\":[\"United States\"],\"xaxis\":\"x\",\"y\":[1.0038],\"yaxis\":\"y\",\"type\":\"scatter\"},{\"hovertemplate\":\"Country=%{x}<br>Growth Rate=%{y}<extra></extra>\",\"legendgroup\":\"United States Virgin Islands\",\"marker\":{\"color\":\"#00cc96\",\"symbol\":\"circle\"},\"mode\":\"markers\",\"name\":\"United States Virgin Islands\",\"orientation\":\"v\",\"showlegend\":true,\"x\":[\"United States Virgin Islands\"],\"xaxis\":\"x\",\"y\":[0.9937],\"yaxis\":\"y\",\"type\":\"scatter\"},{\"hovertemplate\":\"Country=%{x}<br>Growth Rate=%{y}<extra></extra>\",\"legendgroup\":\"Uruguay\",\"marker\":{\"color\":\"#ab63fa\",\"symbol\":\"circle\"},\"mode\":\"markers\",\"name\":\"Uruguay\",\"orientation\":\"v\",\"showlegend\":true,\"x\":[\"Uruguay\"],\"xaxis\":\"x\",\"y\":[0.999],\"yaxis\":\"y\",\"type\":\"scatter\"},{\"hovertemplate\":\"Country=%{x}<br>Growth Rate=%{y}<extra></extra>\",\"legendgroup\":\"Uzbekistan\",\"marker\":{\"color\":\"#FFA15A\",\"symbol\":\"circle\"},\"mode\":\"markers\",\"name\":\"Uzbekistan\",\"orientation\":\"v\",\"showlegend\":true,\"x\":[\"Uzbekistan\"],\"xaxis\":\"x\",\"y\":[1.016],\"yaxis\":\"y\",\"type\":\"scatter\"},{\"hovertemplate\":\"Country=%{x}<br>Growth Rate=%{y}<extra></extra>\",\"legendgroup\":\"Vanuatu\",\"marker\":{\"color\":\"#19d3f3\",\"symbol\":\"circle\"},\"mode\":\"markers\",\"name\":\"Vanuatu\",\"orientation\":\"v\",\"showlegend\":true,\"x\":[\"Vanuatu\"],\"xaxis\":\"x\",\"y\":[1.0238],\"yaxis\":\"y\",\"type\":\"scatter\"},{\"hovertemplate\":\"Country=%{x}<br>Growth Rate=%{y}<extra></extra>\",\"legendgroup\":\"Vatican City\",\"marker\":{\"color\":\"#FF6692\",\"symbol\":\"circle\"},\"mode\":\"markers\",\"name\":\"Vatican City\",\"orientation\":\"v\",\"showlegend\":true,\"x\":[\"Vatican City\"],\"xaxis\":\"x\",\"y\":[0.998],\"yaxis\":\"y\",\"type\":\"scatter\"},{\"hovertemplate\":\"Country=%{x}<br>Growth Rate=%{y}<extra></extra>\",\"legendgroup\":\"Venezuela\",\"marker\":{\"color\":\"#B6E880\",\"symbol\":\"circle\"},\"mode\":\"markers\",\"name\":\"Venezuela\",\"orientation\":\"v\",\"showlegend\":true,\"x\":[\"Venezuela\"],\"xaxis\":\"x\",\"y\":[1.0036],\"yaxis\":\"y\",\"type\":\"scatter\"},{\"hovertemplate\":\"Country=%{x}<br>Growth Rate=%{y}<extra></extra>\",\"legendgroup\":\"Vietnam\",\"marker\":{\"color\":\"#FF97FF\",\"symbol\":\"circle\"},\"mode\":\"markers\",\"name\":\"Vietnam\",\"orientation\":\"v\",\"showlegend\":true,\"x\":[\"Vietnam\"],\"xaxis\":\"x\",\"y\":[1.0074],\"yaxis\":\"y\",\"type\":\"scatter\"},{\"hovertemplate\":\"Country=%{x}<br>Growth Rate=%{y}<extra></extra>\",\"legendgroup\":\"Wallis and Futuna\",\"marker\":{\"color\":\"#FECB52\",\"symbol\":\"circle\"},\"mode\":\"markers\",\"name\":\"Wallis and Futuna\",\"orientation\":\"v\",\"showlegend\":true,\"x\":[\"Wallis and Futuna\"],\"xaxis\":\"x\",\"y\":[0.9953],\"yaxis\":\"y\",\"type\":\"scatter\"},{\"hovertemplate\":\"Country=%{x}<br>Growth Rate=%{y}<extra></extra>\",\"legendgroup\":\"Western Sahara\",\"marker\":{\"color\":\"#636efa\",\"symbol\":\"circle\"},\"mode\":\"markers\",\"name\":\"Western Sahara\",\"orientation\":\"v\",\"showlegend\":true,\"x\":[\"Western Sahara\"],\"xaxis\":\"x\",\"y\":[1.0184],\"yaxis\":\"y\",\"type\":\"scatter\"},{\"hovertemplate\":\"Country=%{x}<br>Growth Rate=%{y}<extra></extra>\",\"legendgroup\":\"Yemen\",\"marker\":{\"color\":\"#EF553B\",\"symbol\":\"circle\"},\"mode\":\"markers\",\"name\":\"Yemen\",\"orientation\":\"v\",\"showlegend\":true,\"x\":[\"Yemen\"],\"xaxis\":\"x\",\"y\":[1.0217],\"yaxis\":\"y\",\"type\":\"scatter\"},{\"hovertemplate\":\"Country=%{x}<br>Growth Rate=%{y}<extra></extra>\",\"legendgroup\":\"Zambia\",\"marker\":{\"color\":\"#00cc96\",\"symbol\":\"circle\"},\"mode\":\"markers\",\"name\":\"Zambia\",\"orientation\":\"v\",\"showlegend\":true,\"x\":[\"Zambia\"],\"xaxis\":\"x\",\"y\":[1.028],\"yaxis\":\"y\",\"type\":\"scatter\"},{\"hovertemplate\":\"Country=%{x}<br>Growth Rate=%{y}<extra></extra>\",\"legendgroup\":\"Zimbabwe\",\"marker\":{\"color\":\"#ab63fa\",\"symbol\":\"circle\"},\"mode\":\"markers\",\"name\":\"Zimbabwe\",\"orientation\":\"v\",\"showlegend\":true,\"x\":[\"Zimbabwe\"],\"xaxis\":\"x\",\"y\":[1.0204],\"yaxis\":\"y\",\"type\":\"scatter\"}],                        {\"template\":{\"data\":{\"bar\":[{\"error_x\":{\"color\":\"#2a3f5f\"},\"error_y\":{\"color\":\"#2a3f5f\"},\"marker\":{\"line\":{\"color\":\"#E5ECF6\",\"width\":0.5},\"pattern\":{\"fillmode\":\"overlay\",\"size\":10,\"solidity\":0.2}},\"type\":\"bar\"}],\"barpolar\":[{\"marker\":{\"line\":{\"color\":\"#E5ECF6\",\"width\":0.5},\"pattern\":{\"fillmode\":\"overlay\",\"size\":10,\"solidity\":0.2}},\"type\":\"barpolar\"}],\"carpet\":[{\"aaxis\":{\"endlinecolor\":\"#2a3f5f\",\"gridcolor\":\"white\",\"linecolor\":\"white\",\"minorgridcolor\":\"white\",\"startlinecolor\":\"#2a3f5f\"},\"baxis\":{\"endlinecolor\":\"#2a3f5f\",\"gridcolor\":\"white\",\"linecolor\":\"white\",\"minorgridcolor\":\"white\",\"startlinecolor\":\"#2a3f5f\"},\"type\":\"carpet\"}],\"choropleth\":[{\"colorbar\":{\"outlinewidth\":0,\"ticks\":\"\"},\"type\":\"choropleth\"}],\"contour\":[{\"colorbar\":{\"outlinewidth\":0,\"ticks\":\"\"},\"colorscale\":[[0.0,\"#0d0887\"],[0.1111111111111111,\"#46039f\"],[0.2222222222222222,\"#7201a8\"],[0.3333333333333333,\"#9c179e\"],[0.4444444444444444,\"#bd3786\"],[0.5555555555555556,\"#d8576b\"],[0.6666666666666666,\"#ed7953\"],[0.7777777777777778,\"#fb9f3a\"],[0.8888888888888888,\"#fdca26\"],[1.0,\"#f0f921\"]],\"type\":\"contour\"}],\"contourcarpet\":[{\"colorbar\":{\"outlinewidth\":0,\"ticks\":\"\"},\"type\":\"contourcarpet\"}],\"heatmap\":[{\"colorbar\":{\"outlinewidth\":0,\"ticks\":\"\"},\"colorscale\":[[0.0,\"#0d0887\"],[0.1111111111111111,\"#46039f\"],[0.2222222222222222,\"#7201a8\"],[0.3333333333333333,\"#9c179e\"],[0.4444444444444444,\"#bd3786\"],[0.5555555555555556,\"#d8576b\"],[0.6666666666666666,\"#ed7953\"],[0.7777777777777778,\"#fb9f3a\"],[0.8888888888888888,\"#fdca26\"],[1.0,\"#f0f921\"]],\"type\":\"heatmap\"}],\"heatmapgl\":[{\"colorbar\":{\"outlinewidth\":0,\"ticks\":\"\"},\"colorscale\":[[0.0,\"#0d0887\"],[0.1111111111111111,\"#46039f\"],[0.2222222222222222,\"#7201a8\"],[0.3333333333333333,\"#9c179e\"],[0.4444444444444444,\"#bd3786\"],[0.5555555555555556,\"#d8576b\"],[0.6666666666666666,\"#ed7953\"],[0.7777777777777778,\"#fb9f3a\"],[0.8888888888888888,\"#fdca26\"],[1.0,\"#f0f921\"]],\"type\":\"heatmapgl\"}],\"histogram\":[{\"marker\":{\"pattern\":{\"fillmode\":\"overlay\",\"size\":10,\"solidity\":0.2}},\"type\":\"histogram\"}],\"histogram2d\":[{\"colorbar\":{\"outlinewidth\":0,\"ticks\":\"\"},\"colorscale\":[[0.0,\"#0d0887\"],[0.1111111111111111,\"#46039f\"],[0.2222222222222222,\"#7201a8\"],[0.3333333333333333,\"#9c179e\"],[0.4444444444444444,\"#bd3786\"],[0.5555555555555556,\"#d8576b\"],[0.6666666666666666,\"#ed7953\"],[0.7777777777777778,\"#fb9f3a\"],[0.8888888888888888,\"#fdca26\"],[1.0,\"#f0f921\"]],\"type\":\"histogram2d\"}],\"histogram2dcontour\":[{\"colorbar\":{\"outlinewidth\":0,\"ticks\":\"\"},\"colorscale\":[[0.0,\"#0d0887\"],[0.1111111111111111,\"#46039f\"],[0.2222222222222222,\"#7201a8\"],[0.3333333333333333,\"#9c179e\"],[0.4444444444444444,\"#bd3786\"],[0.5555555555555556,\"#d8576b\"],[0.6666666666666666,\"#ed7953\"],[0.7777777777777778,\"#fb9f3a\"],[0.8888888888888888,\"#fdca26\"],[1.0,\"#f0f921\"]],\"type\":\"histogram2dcontour\"}],\"mesh3d\":[{\"colorbar\":{\"outlinewidth\":0,\"ticks\":\"\"},\"type\":\"mesh3d\"}],\"parcoords\":[{\"line\":{\"colorbar\":{\"outlinewidth\":0,\"ticks\":\"\"}},\"type\":\"parcoords\"}],\"pie\":[{\"automargin\":true,\"type\":\"pie\"}],\"scatter\":[{\"marker\":{\"colorbar\":{\"outlinewidth\":0,\"ticks\":\"\"}},\"type\":\"scatter\"}],\"scatter3d\":[{\"line\":{\"colorbar\":{\"outlinewidth\":0,\"ticks\":\"\"}},\"marker\":{\"colorbar\":{\"outlinewidth\":0,\"ticks\":\"\"}},\"type\":\"scatter3d\"}],\"scattercarpet\":[{\"marker\":{\"colorbar\":{\"outlinewidth\":0,\"ticks\":\"\"}},\"type\":\"scattercarpet\"}],\"scattergeo\":[{\"marker\":{\"colorbar\":{\"outlinewidth\":0,\"ticks\":\"\"}},\"type\":\"scattergeo\"}],\"scattergl\":[{\"marker\":{\"colorbar\":{\"outlinewidth\":0,\"ticks\":\"\"}},\"type\":\"scattergl\"}],\"scattermapbox\":[{\"marker\":{\"colorbar\":{\"outlinewidth\":0,\"ticks\":\"\"}},\"type\":\"scattermapbox\"}],\"scatterpolar\":[{\"marker\":{\"colorbar\":{\"outlinewidth\":0,\"ticks\":\"\"}},\"type\":\"scatterpolar\"}],\"scatterpolargl\":[{\"marker\":{\"colorbar\":{\"outlinewidth\":0,\"ticks\":\"\"}},\"type\":\"scatterpolargl\"}],\"scatterternary\":[{\"marker\":{\"colorbar\":{\"outlinewidth\":0,\"ticks\":\"\"}},\"type\":\"scatterternary\"}],\"surface\":[{\"colorbar\":{\"outlinewidth\":0,\"ticks\":\"\"},\"colorscale\":[[0.0,\"#0d0887\"],[0.1111111111111111,\"#46039f\"],[0.2222222222222222,\"#7201a8\"],[0.3333333333333333,\"#9c179e\"],[0.4444444444444444,\"#bd3786\"],[0.5555555555555556,\"#d8576b\"],[0.6666666666666666,\"#ed7953\"],[0.7777777777777778,\"#fb9f3a\"],[0.8888888888888888,\"#fdca26\"],[1.0,\"#f0f921\"]],\"type\":\"surface\"}],\"table\":[{\"cells\":{\"fill\":{\"color\":\"#EBF0F8\"},\"line\":{\"color\":\"white\"}},\"header\":{\"fill\":{\"color\":\"#C8D4E3\"},\"line\":{\"color\":\"white\"}},\"type\":\"table\"}]},\"layout\":{\"annotationdefaults\":{\"arrowcolor\":\"#2a3f5f\",\"arrowhead\":0,\"arrowwidth\":1},\"autotypenumbers\":\"strict\",\"coloraxis\":{\"colorbar\":{\"outlinewidth\":0,\"ticks\":\"\"}},\"colorscale\":{\"diverging\":[[0,\"#8e0152\"],[0.1,\"#c51b7d\"],[0.2,\"#de77ae\"],[0.3,\"#f1b6da\"],[0.4,\"#fde0ef\"],[0.5,\"#f7f7f7\"],[0.6,\"#e6f5d0\"],[0.7,\"#b8e186\"],[0.8,\"#7fbc41\"],[0.9,\"#4d9221\"],[1,\"#276419\"]],\"sequential\":[[0.0,\"#0d0887\"],[0.1111111111111111,\"#46039f\"],[0.2222222222222222,\"#7201a8\"],[0.3333333333333333,\"#9c179e\"],[0.4444444444444444,\"#bd3786\"],[0.5555555555555556,\"#d8576b\"],[0.6666666666666666,\"#ed7953\"],[0.7777777777777778,\"#fb9f3a\"],[0.8888888888888888,\"#fdca26\"],[1.0,\"#f0f921\"]],\"sequentialminus\":[[0.0,\"#0d0887\"],[0.1111111111111111,\"#46039f\"],[0.2222222222222222,\"#7201a8\"],[0.3333333333333333,\"#9c179e\"],[0.4444444444444444,\"#bd3786\"],[0.5555555555555556,\"#d8576b\"],[0.6666666666666666,\"#ed7953\"],[0.7777777777777778,\"#fb9f3a\"],[0.8888888888888888,\"#fdca26\"],[1.0,\"#f0f921\"]]},\"colorway\":[\"#636efa\",\"#EF553B\",\"#00cc96\",\"#ab63fa\",\"#FFA15A\",\"#19d3f3\",\"#FF6692\",\"#B6E880\",\"#FF97FF\",\"#FECB52\"],\"font\":{\"color\":\"#2a3f5f\"},\"geo\":{\"bgcolor\":\"white\",\"lakecolor\":\"white\",\"landcolor\":\"#E5ECF6\",\"showlakes\":true,\"showland\":true,\"subunitcolor\":\"white\"},\"hoverlabel\":{\"align\":\"left\"},\"hovermode\":\"closest\",\"mapbox\":{\"style\":\"light\"},\"paper_bgcolor\":\"white\",\"plot_bgcolor\":\"#E5ECF6\",\"polar\":{\"angularaxis\":{\"gridcolor\":\"white\",\"linecolor\":\"white\",\"ticks\":\"\"},\"bgcolor\":\"#E5ECF6\",\"radialaxis\":{\"gridcolor\":\"white\",\"linecolor\":\"white\",\"ticks\":\"\"}},\"scene\":{\"xaxis\":{\"backgroundcolor\":\"#E5ECF6\",\"gridcolor\":\"white\",\"gridwidth\":2,\"linecolor\":\"white\",\"showbackground\":true,\"ticks\":\"\",\"zerolinecolor\":\"white\"},\"yaxis\":{\"backgroundcolor\":\"#E5ECF6\",\"gridcolor\":\"white\",\"gridwidth\":2,\"linecolor\":\"white\",\"showbackground\":true,\"ticks\":\"\",\"zerolinecolor\":\"white\"},\"zaxis\":{\"backgroundcolor\":\"#E5ECF6\",\"gridcolor\":\"white\",\"gridwidth\":2,\"linecolor\":\"white\",\"showbackground\":true,\"ticks\":\"\",\"zerolinecolor\":\"white\"}},\"shapedefaults\":{\"line\":{\"color\":\"#2a3f5f\"}},\"ternary\":{\"aaxis\":{\"gridcolor\":\"white\",\"linecolor\":\"white\",\"ticks\":\"\"},\"baxis\":{\"gridcolor\":\"white\",\"linecolor\":\"white\",\"ticks\":\"\"},\"bgcolor\":\"#E5ECF6\",\"caxis\":{\"gridcolor\":\"white\",\"linecolor\":\"white\",\"ticks\":\"\"}},\"title\":{\"x\":0.05},\"xaxis\":{\"automargin\":true,\"gridcolor\":\"white\",\"linecolor\":\"white\",\"ticks\":\"\",\"title\":{\"standoff\":15},\"zerolinecolor\":\"white\",\"zerolinewidth\":2},\"yaxis\":{\"automargin\":true,\"gridcolor\":\"white\",\"linecolor\":\"white\",\"ticks\":\"\",\"title\":{\"standoff\":15},\"zerolinecolor\":\"white\",\"zerolinewidth\":2}}},\"xaxis\":{\"anchor\":\"y\",\"domain\":[0.0,1.0],\"title\":{\"text\":\"Country\"},\"categoryorder\":\"array\",\"categoryarray\":[\"Afghanistan\",\"Albania\",\"Algeria\",\"American Samoa\",\"Andorra\",\"Angola\",\"Anguilla\",\"Antigua and Barbuda\",\"Argentina\",\"Armenia\",\"Aruba\",\"Australia\",\"Austria\",\"Azerbaijan\",\"Bahamas\",\"Bahrain\",\"Bangladesh\",\"Barbados\",\"Belarus\",\"Belgium\",\"Belize\",\"Benin\",\"Bermuda\",\"Bhutan\",\"Bolivia\",\"Bosnia and Herzegovina\",\"Botswana\",\"Brazil\",\"British Virgin Islands\",\"Brunei\",\"Bulgaria\",\"Burkina Faso\",\"Burundi\",\"Cambodia\",\"Cameroon\",\"Canada\",\"Cape Verde\",\"Cayman Islands\",\"Central African Republic\",\"Chad\",\"Chile\",\"China\",\"Colombia\",\"Comoros\",\"Cook Islands\",\"Costa Rica\",\"Croatia\",\"Cuba\",\"Curacao\",\"Cyprus\",\"Czech Republic\",\"Denmark\",\"Djibouti\",\"Dominica\",\"Dominican Republic\",\"DR Congo\",\"Ecuador\",\"Egypt\",\"El Salvador\",\"Equatorial Guinea\",\"Eritrea\",\"Estonia\",\"Eswatini\",\"Ethiopia\",\"Falkland Islands\",\"Faroe Islands\",\"Fiji\",\"Finland\",\"France\",\"French Guiana\",\"French Polynesia\",\"Gabon\",\"Gambia\",\"Georgia\",\"Germany\",\"Ghana\",\"Gibraltar\",\"Greece\",\"Greenland\",\"Grenada\",\"Guadeloupe\",\"Guam\",\"Guatemala\",\"Guernsey\",\"Guinea\",\"Guinea-Bissau\",\"Guyana\",\"Haiti\",\"Honduras\",\"Hong Kong\",\"Hungary\",\"Iceland\",\"India\",\"Indonesia\",\"Iran\",\"Iraq\",\"Ireland\",\"Isle of Man\",\"Israel\",\"Italy\",\"Ivory Coast\",\"Jamaica\",\"Japan\",\"Jersey\",\"Jordan\",\"Kazakhstan\",\"Kenya\",\"Kiribati\",\"Kuwait\",\"Kyrgyzstan\",\"Laos\",\"Latvia\",\"Lebanon\",\"Lesotho\",\"Liberia\",\"Libya\",\"Liechtenstein\",\"Lithuania\",\"Luxembourg\",\"Macau\",\"Madagascar\",\"Malawi\",\"Malaysia\",\"Maldives\",\"Mali\",\"Malta\",\"Marshall Islands\",\"Martinique\",\"Mauritania\",\"Mauritius\",\"Mayotte\",\"Mexico\",\"Micronesia\",\"Moldova\",\"Monaco\",\"Mongolia\",\"Montenegro\",\"Montserrat\",\"Morocco\",\"Mozambique\",\"Myanmar\",\"Namibia\",\"Nauru\",\"Nepal\",\"Netherlands\",\"New Caledonia\",\"New Zealand\",\"Nicaragua\",\"Niger\",\"Nigeria\",\"Niue\",\"North Korea\",\"North Macedonia\",\"Northern Mariana Islands\",\"Norway\",\"Oman\",\"Pakistan\",\"Palau\",\"Palestine\",\"Panama\",\"Papua New Guinea\",\"Paraguay\",\"Peru\",\"Philippines\",\"Poland\",\"Portugal\",\"Puerto Rico\",\"Qatar\",\"Republic of the Congo\",\"Reunion\",\"Romania\",\"Russia\",\"Rwanda\",\"Saint Barthelemy\",\"Saint Kitts and Nevis\",\"Saint Lucia\",\"Saint Martin\",\"Saint Pierre and Miquelon\",\"Saint Vincent and the Grenadines\",\"Samoa\",\"San Marino\",\"Sao Tome and Principe\",\"Saudi Arabia\",\"Senegal\",\"Serbia\",\"Seychelles\",\"Sierra Leone\",\"Singapore\",\"Sint Maarten\",\"Slovakia\",\"Slovenia\",\"Solomon Islands\",\"Somalia\",\"South Africa\",\"South Korea\",\"South Sudan\",\"Spain\",\"Sri Lanka\",\"Sudan\",\"Suriname\",\"Sweden\",\"Switzerland\",\"Syria\",\"Taiwan\",\"Tajikistan\",\"Tanzania\",\"Thailand\",\"Timor-Leste\",\"Togo\",\"Tokelau\",\"Tonga\",\"Trinidad and Tobago\",\"Tunisia\",\"Turkey\",\"Turkmenistan\",\"Turks and Caicos Islands\",\"Tuvalu\",\"Uganda\",\"Ukraine\",\"United Arab Emirates\",\"United Kingdom\",\"United States\",\"United States Virgin Islands\",\"Uruguay\",\"Uzbekistan\",\"Vanuatu\",\"Vatican City\",\"Venezuela\",\"Vietnam\",\"Wallis and Futuna\",\"Western Sahara\",\"Yemen\",\"Zambia\",\"Zimbabwe\"]},\"yaxis\":{\"anchor\":\"x\",\"domain\":[0.0,1.0],\"title\":{\"text\":\"Growth Rate\"}},\"legend\":{\"title\":{\"text\":\"Country\"},\"tracegroupgap\":0},\"title\":{\"text\":\"All nations population growth\"}},                        {\"responsive\": true}                    ).then(function(){\n",
       "                            \n",
       "var gd = document.getElementById('2cb38f95-b347-4f4d-9ff1-80430642ad04');\n",
       "var x = new MutationObserver(function (mutations, observer) {{\n",
       "        var display = window.getComputedStyle(gd).display;\n",
       "        if (!display || display === 'none') {{\n",
       "            console.log([gd, 'removed!']);\n",
       "            Plotly.purge(gd);\n",
       "            observer.disconnect();\n",
       "        }}\n",
       "}});\n",
       "\n",
       "// Listen for the removal of the full notebook cells\n",
       "var notebookContainer = gd.closest('#notebook-container');\n",
       "if (notebookContainer) {{\n",
       "    x.observe(notebookContainer, {childList: true});\n",
       "}}\n",
       "\n",
       "// Listen for the clearing of the current output cell\n",
       "var outputEl = gd.closest('.output');\n",
       "if (outputEl) {{\n",
       "    x.observe(outputEl, {childList: true});\n",
       "}}\n",
       "\n",
       "                        })                };                });            </script>        </div>"
      ]
     },
     "metadata": {},
     "output_type": "display_data"
    }
   ],
   "source": [
    "fig = px.scatter(df, x='Country', y='Growth Rate', color='Country', title='All nations population growth')\n",
    "fig.show()"
   ]
  },
  {
   "cell_type": "markdown",
   "id": "5bf7d87a",
   "metadata": {},
   "source": [
    "#### Top 10 records : "
   ]
  },
  {
   "cell_type": "code",
   "execution_count": 96,
   "id": "2cecba23",
   "metadata": {},
   "outputs": [
    {
     "data": {
      "text/html": [
       "<style type=\"text/css\">\n",
       "#T_b40c8_row0_col0, #T_b40c8_row7_col5, #T_b40c8_row8_col6, #T_b40c8_row8_col7, #T_b40c8_row9_col8, #T_b40c8_row9_col9, #T_b40c8_row9_col10, #T_b40c8_row9_col11, #T_b40c8_row9_col12, #T_b40c8_row9_col13, #T_b40c8_row9_col14, #T_b40c8_row9_col15, #T_b40c8_row9_col16 {\n",
       "  background-color: #fff7fb;\n",
       "  color: #000000;\n",
       "}\n",
       "#T_b40c8_row0_col5 {\n",
       "  background-color: #549cc7;\n",
       "  color: #f1f1f1;\n",
       "}\n",
       "#T_b40c8_row0_col6, #T_b40c8_row3_col6 {\n",
       "  background-color: #ede8f3;\n",
       "  color: #000000;\n",
       "}\n",
       "#T_b40c8_row0_col7, #T_b40c8_row3_col5, #T_b40c8_row3_col13, #T_b40c8_row8_col16 {\n",
       "  background-color: #f0eaf4;\n",
       "  color: #000000;\n",
       "}\n",
       "#T_b40c8_row0_col8, #T_b40c8_row0_col9, #T_b40c8_row0_col10, #T_b40c8_row0_col11, #T_b40c8_row0_col12, #T_b40c8_row0_col13, #T_b40c8_row0_col14, #T_b40c8_row0_col15, #T_b40c8_row0_col16, #T_b40c8_row5_col7, #T_b40c8_row7_col6, #T_b40c8_row8_col5, #T_b40c8_row9_col0 {\n",
       "  background-color: #023858;\n",
       "  color: #f1f1f1;\n",
       "}\n",
       "#T_b40c8_row1_col0, #T_b40c8_row3_col10 {\n",
       "  background-color: #eee9f3;\n",
       "  color: #000000;\n",
       "}\n",
       "#T_b40c8_row1_col5 {\n",
       "  background-color: #dfddec;\n",
       "  color: #000000;\n",
       "}\n",
       "#T_b40c8_row1_col6 {\n",
       "  background-color: #a9bfdc;\n",
       "  color: #000000;\n",
       "}\n",
       "#T_b40c8_row1_col7 {\n",
       "  background-color: #adc1dd;\n",
       "  color: #000000;\n",
       "}\n",
       "#T_b40c8_row1_col8, #T_b40c8_row1_col9 {\n",
       "  background-color: #02395a;\n",
       "  color: #f1f1f1;\n",
       "}\n",
       "#T_b40c8_row1_col10 {\n",
       "  background-color: #023d60;\n",
       "  color: #f1f1f1;\n",
       "}\n",
       "#T_b40c8_row1_col11 {\n",
       "  background-color: #03476f;\n",
       "  color: #f1f1f1;\n",
       "}\n",
       "#T_b40c8_row1_col12 {\n",
       "  background-color: #034f7d;\n",
       "  color: #f1f1f1;\n",
       "}\n",
       "#T_b40c8_row1_col13 {\n",
       "  background-color: #04629a;\n",
       "  color: #f1f1f1;\n",
       "}\n",
       "#T_b40c8_row1_col14 {\n",
       "  background-color: #0a73b2;\n",
       "  color: #f1f1f1;\n",
       "}\n",
       "#T_b40c8_row1_col15 {\n",
       "  background-color: #1c7fb8;\n",
       "  color: #f1f1f1;\n",
       "}\n",
       "#T_b40c8_row1_col16 {\n",
       "  background-color: #2987bc;\n",
       "  color: #f1f1f1;\n",
       "}\n",
       "#T_b40c8_row2_col0 {\n",
       "  background-color: #d7d6e9;\n",
       "  color: #000000;\n",
       "}\n",
       "#T_b40c8_row2_col5 {\n",
       "  background-color: #5ea0ca;\n",
       "  color: #f1f1f1;\n",
       "}\n",
       "#T_b40c8_row2_col6, #T_b40c8_row7_col13, #T_b40c8_row7_col14, #T_b40c8_row8_col12 {\n",
       "  background-color: #fbf4f9;\n",
       "  color: #000000;\n",
       "}\n",
       "#T_b40c8_row2_col7 {\n",
       "  background-color: #d2d2e7;\n",
       "  color: #000000;\n",
       "}\n",
       "#T_b40c8_row2_col8, #T_b40c8_row2_col9, #T_b40c8_row2_col10, #T_b40c8_row2_col11, #T_b40c8_row2_col12 {\n",
       "  background-color: #e4e1ef;\n",
       "  color: #000000;\n",
       "}\n",
       "#T_b40c8_row2_col13 {\n",
       "  background-color: #e5e1ef;\n",
       "  color: #000000;\n",
       "}\n",
       "#T_b40c8_row2_col14 {\n",
       "  background-color: #e6e2ef;\n",
       "  color: #000000;\n",
       "}\n",
       "#T_b40c8_row2_col15 {\n",
       "  background-color: #e2dfee;\n",
       "  color: #000000;\n",
       "}\n",
       "#T_b40c8_row2_col16 {\n",
       "  background-color: #dddbec;\n",
       "  color: #000000;\n",
       "}\n",
       "#T_b40c8_row3_col0, #T_b40c8_row9_col7 {\n",
       "  background-color: #b4c4df;\n",
       "  color: #000000;\n",
       "}\n",
       "#T_b40c8_row3_col7 {\n",
       "  background-color: #b3c3de;\n",
       "  color: #000000;\n",
       "}\n",
       "#T_b40c8_row3_col8, #T_b40c8_row3_col9 {\n",
       "  background-color: #eee8f3;\n",
       "  color: #000000;\n",
       "}\n",
       "#T_b40c8_row3_col11, #T_b40c8_row3_col12, #T_b40c8_row9_col5 {\n",
       "  background-color: #efe9f3;\n",
       "  color: #000000;\n",
       "}\n",
       "#T_b40c8_row3_col14 {\n",
       "  background-color: #f1ebf5;\n",
       "  color: #000000;\n",
       "}\n",
       "#T_b40c8_row3_col15, #T_b40c8_row3_col16, #T_b40c8_row4_col8, #T_b40c8_row4_col9 {\n",
       "  background-color: #f2ecf5;\n",
       "  color: #000000;\n",
       "}\n",
       "#T_b40c8_row4_col0 {\n",
       "  background-color: #8bb2d4;\n",
       "  color: #000000;\n",
       "}\n",
       "#T_b40c8_row4_col5, #T_b40c8_row4_col13, #T_b40c8_row5_col5, #T_b40c8_row5_col11, #T_b40c8_row9_col6 {\n",
       "  background-color: #f8f1f8;\n",
       "  color: #000000;\n",
       "}\n",
       "#T_b40c8_row4_col6 {\n",
       "  background-color: #d6d6e9;\n",
       "  color: #000000;\n",
       "}\n",
       "#T_b40c8_row4_col7 {\n",
       "  background-color: #04649e;\n",
       "  color: #f1f1f1;\n",
       "}\n",
       "#T_b40c8_row4_col10, #T_b40c8_row8_col15 {\n",
       "  background-color: #f4edf6;\n",
       "  color: #000000;\n",
       "}\n",
       "#T_b40c8_row4_col11 {\n",
       "  background-color: #f4eef6;\n",
       "  color: #000000;\n",
       "}\n",
       "#T_b40c8_row4_col12, #T_b40c8_row5_col10, #T_b40c8_row6_col14 {\n",
       "  background-color: #f5eff6;\n",
       "  color: #000000;\n",
       "}\n",
       "#T_b40c8_row4_col14, #T_b40c8_row7_col8, #T_b40c8_row7_col9, #T_b40c8_row7_col10 {\n",
       "  background-color: #faf3f9;\n",
       "  color: #000000;\n",
       "}\n",
       "#T_b40c8_row4_col15, #T_b40c8_row5_col14, #T_b40c8_row6_col6, #T_b40c8_row7_col15, #T_b40c8_row8_col8, #T_b40c8_row8_col9, #T_b40c8_row8_col10, #T_b40c8_row8_col11 {\n",
       "  background-color: #fdf5fa;\n",
       "  color: #000000;\n",
       "}\n",
       "#T_b40c8_row4_col16 {\n",
       "  background-color: #fef6fa;\n",
       "  color: #000000;\n",
       "}\n",
       "#T_b40c8_row5_col0 {\n",
       "  background-color: #589ec8;\n",
       "  color: #f1f1f1;\n",
       "}\n",
       "#T_b40c8_row5_col6 {\n",
       "  background-color: #dcdaeb;\n",
       "  color: #000000;\n",
       "}\n",
       "#T_b40c8_row5_col8, #T_b40c8_row5_col9, #T_b40c8_row6_col8, #T_b40c8_row6_col9, #T_b40c8_row6_col10, #T_b40c8_row6_col11, #T_b40c8_row6_col12, #T_b40c8_row6_col13 {\n",
       "  background-color: #f5eef6;\n",
       "  color: #000000;\n",
       "}\n",
       "#T_b40c8_row5_col12, #T_b40c8_row8_col13 {\n",
       "  background-color: #f9f2f8;\n",
       "  color: #000000;\n",
       "}\n",
       "#T_b40c8_row5_col13, #T_b40c8_row7_col16 {\n",
       "  background-color: #fcf4fa;\n",
       "  color: #000000;\n",
       "}\n",
       "#T_b40c8_row5_col15, #T_b40c8_row5_col16 {\n",
       "  background-color: #fef6fb;\n",
       "  color: #000000;\n",
       "}\n",
       "#T_b40c8_row6_col0 {\n",
       "  background-color: #2685bb;\n",
       "  color: #f1f1f1;\n",
       "}\n",
       "#T_b40c8_row6_col5 {\n",
       "  background-color: #76aad0;\n",
       "  color: #f1f1f1;\n",
       "}\n",
       "#T_b40c8_row6_col7 {\n",
       "  background-color: #c9cee4;\n",
       "  color: #000000;\n",
       "}\n",
       "#T_b40c8_row6_col15, #T_b40c8_row6_col16, #T_b40c8_row8_col14 {\n",
       "  background-color: #f6eff7;\n",
       "  color: #000000;\n",
       "}\n",
       "#T_b40c8_row7_col0 {\n",
       "  background-color: #056ba7;\n",
       "  color: #f1f1f1;\n",
       "}\n",
       "#T_b40c8_row7_col7 {\n",
       "  background-color: #73a9cf;\n",
       "  color: #f1f1f1;\n",
       "}\n",
       "#T_b40c8_row7_col11, #T_b40c8_row7_col12 {\n",
       "  background-color: #fbf3f9;\n",
       "  color: #000000;\n",
       "}\n",
       "#T_b40c8_row8_col0 {\n",
       "  background-color: #045687;\n",
       "  color: #f1f1f1;\n",
       "}\n",
       "</style>\n",
       "<table id=\"T_b40c8\">\n",
       "  <thead>\n",
       "    <tr>\n",
       "      <th class=\"blank level0\" >&nbsp;</th>\n",
       "      <th id=\"T_b40c8_level0_col0\" class=\"col_heading level0 col0\" >Rank</th>\n",
       "      <th id=\"T_b40c8_level0_col1\" class=\"col_heading level0 col1\" >ISO-3</th>\n",
       "      <th id=\"T_b40c8_level0_col2\" class=\"col_heading level0 col2\" >Country</th>\n",
       "      <th id=\"T_b40c8_level0_col3\" class=\"col_heading level0 col3\" >Capital</th>\n",
       "      <th id=\"T_b40c8_level0_col4\" class=\"col_heading level0 col4\" >Continent</th>\n",
       "      <th id=\"T_b40c8_level0_col5\" class=\"col_heading level0 col5\" >Area (km²)</th>\n",
       "      <th id=\"T_b40c8_level0_col6\" class=\"col_heading level0 col6\" >Density (per km²)</th>\n",
       "      <th id=\"T_b40c8_level0_col7\" class=\"col_heading level0 col7\" >Growth Rate</th>\n",
       "      <th id=\"T_b40c8_level0_col8\" class=\"col_heading level0 col8\" >World Population Percentage</th>\n",
       "      <th id=\"T_b40c8_level0_col9\" class=\"col_heading level0 col9\" >2022</th>\n",
       "      <th id=\"T_b40c8_level0_col10\" class=\"col_heading level0 col10\" >2020</th>\n",
       "      <th id=\"T_b40c8_level0_col11\" class=\"col_heading level0 col11\" >2015</th>\n",
       "      <th id=\"T_b40c8_level0_col12\" class=\"col_heading level0 col12\" >2010</th>\n",
       "      <th id=\"T_b40c8_level0_col13\" class=\"col_heading level0 col13\" >2000</th>\n",
       "      <th id=\"T_b40c8_level0_col14\" class=\"col_heading level0 col14\" >1990</th>\n",
       "      <th id=\"T_b40c8_level0_col15\" class=\"col_heading level0 col15\" >1980</th>\n",
       "      <th id=\"T_b40c8_level0_col16\" class=\"col_heading level0 col16\" >1970</th>\n",
       "    </tr>\n",
       "  </thead>\n",
       "  <tbody>\n",
       "    <tr>\n",
       "      <th id=\"T_b40c8_level0_row0\" class=\"row_heading level0 row0\" >41</th>\n",
       "      <td id=\"T_b40c8_row0_col0\" class=\"data row0 col0\" >1</td>\n",
       "      <td id=\"T_b40c8_row0_col1\" class=\"data row0 col1\" >CHN</td>\n",
       "      <td id=\"T_b40c8_row0_col2\" class=\"data row0 col2\" >China</td>\n",
       "      <td id=\"T_b40c8_row0_col3\" class=\"data row0 col3\" >Beijing</td>\n",
       "      <td id=\"T_b40c8_row0_col4\" class=\"data row0 col4\" >Asia</td>\n",
       "      <td id=\"T_b40c8_row0_col5\" class=\"data row0 col5\" >9706961</td>\n",
       "      <td id=\"T_b40c8_row0_col6\" class=\"data row0 col6\" >146.893300</td>\n",
       "      <td id=\"T_b40c8_row0_col7\" class=\"data row0 col7\" >1.000000</td>\n",
       "      <td id=\"T_b40c8_row0_col8\" class=\"data row0 col8\" >17.880000</td>\n",
       "      <td id=\"T_b40c8_row0_col9\" class=\"data row0 col9\" >1425887337</td>\n",
       "      <td id=\"T_b40c8_row0_col10\" class=\"data row0 col10\" >1424929781</td>\n",
       "      <td id=\"T_b40c8_row0_col11\" class=\"data row0 col11\" >1393715448</td>\n",
       "      <td id=\"T_b40c8_row0_col12\" class=\"data row0 col12\" >1348191368</td>\n",
       "      <td id=\"T_b40c8_row0_col13\" class=\"data row0 col13\" >1264099069</td>\n",
       "      <td id=\"T_b40c8_row0_col14\" class=\"data row0 col14\" >1153704252</td>\n",
       "      <td id=\"T_b40c8_row0_col15\" class=\"data row0 col15\" >982372466</td>\n",
       "      <td id=\"T_b40c8_row0_col16\" class=\"data row0 col16\" >822534450</td>\n",
       "    </tr>\n",
       "    <tr>\n",
       "      <th id=\"T_b40c8_level0_row1\" class=\"row_heading level0 row1\" >92</th>\n",
       "      <td id=\"T_b40c8_row1_col0\" class=\"data row1 col0\" >2</td>\n",
       "      <td id=\"T_b40c8_row1_col1\" class=\"data row1 col1\" >IND</td>\n",
       "      <td id=\"T_b40c8_row1_col2\" class=\"data row1 col2\" >India</td>\n",
       "      <td id=\"T_b40c8_row1_col3\" class=\"data row1 col3\" >New Delhi</td>\n",
       "      <td id=\"T_b40c8_row1_col4\" class=\"data row1 col4\" >Asia</td>\n",
       "      <td id=\"T_b40c8_row1_col5\" class=\"data row1 col5\" >3287590</td>\n",
       "      <td id=\"T_b40c8_row1_col6\" class=\"data row1 col6\" >431.067500</td>\n",
       "      <td id=\"T_b40c8_row1_col7\" class=\"data row1 col7\" >1.006800</td>\n",
       "      <td id=\"T_b40c8_row1_col8\" class=\"data row1 col8\" >17.770000</td>\n",
       "      <td id=\"T_b40c8_row1_col9\" class=\"data row1 col9\" >1417173173</td>\n",
       "      <td id=\"T_b40c8_row1_col10\" class=\"data row1 col10\" >1396387127</td>\n",
       "      <td id=\"T_b40c8_row1_col11\" class=\"data row1 col11\" >1322866505</td>\n",
       "      <td id=\"T_b40c8_row1_col12\" class=\"data row1 col12\" >1240613620</td>\n",
       "      <td id=\"T_b40c8_row1_col13\" class=\"data row1 col13\" >1059633675</td>\n",
       "      <td id=\"T_b40c8_row1_col14\" class=\"data row1 col14\" >870452165</td>\n",
       "      <td id=\"T_b40c8_row1_col15\" class=\"data row1 col15\" >696828385</td>\n",
       "      <td id=\"T_b40c8_row1_col16\" class=\"data row1 col16\" >557501301</td>\n",
       "    </tr>\n",
       "    <tr>\n",
       "      <th id=\"T_b40c8_level0_row2\" class=\"row_heading level0 row2\" >221</th>\n",
       "      <td id=\"T_b40c8_row2_col0\" class=\"data row2 col0\" >3</td>\n",
       "      <td id=\"T_b40c8_row2_col1\" class=\"data row2 col1\" >USA</td>\n",
       "      <td id=\"T_b40c8_row2_col2\" class=\"data row2 col2\" >United States</td>\n",
       "      <td id=\"T_b40c8_row2_col3\" class=\"data row2 col3\" >Washington, D.C.</td>\n",
       "      <td id=\"T_b40c8_row2_col4\" class=\"data row2 col4\" >North America</td>\n",
       "      <td id=\"T_b40c8_row2_col5\" class=\"data row2 col5\" >9372610</td>\n",
       "      <td id=\"T_b40c8_row2_col6\" class=\"data row2 col6\" >36.093500</td>\n",
       "      <td id=\"T_b40c8_row2_col7\" class=\"data row2 col7\" >1.003800</td>\n",
       "      <td id=\"T_b40c8_row2_col8\" class=\"data row2 col8\" >4.240000</td>\n",
       "      <td id=\"T_b40c8_row2_col9\" class=\"data row2 col9\" >338289857</td>\n",
       "      <td id=\"T_b40c8_row2_col10\" class=\"data row2 col10\" >335942003</td>\n",
       "      <td id=\"T_b40c8_row2_col11\" class=\"data row2 col11\" >324607776</td>\n",
       "      <td id=\"T_b40c8_row2_col12\" class=\"data row2 col12\" >311182845</td>\n",
       "      <td id=\"T_b40c8_row2_col13\" class=\"data row2 col13\" >282398554</td>\n",
       "      <td id=\"T_b40c8_row2_col14\" class=\"data row2 col14\" >248083732</td>\n",
       "      <td id=\"T_b40c8_row2_col15\" class=\"data row2 col15\" >223140018</td>\n",
       "      <td id=\"T_b40c8_row2_col16\" class=\"data row2 col16\" >200328340</td>\n",
       "    </tr>\n",
       "    <tr>\n",
       "      <th id=\"T_b40c8_level0_row3\" class=\"row_heading level0 row3\" >93</th>\n",
       "      <td id=\"T_b40c8_row3_col0\" class=\"data row3 col0\" >4</td>\n",
       "      <td id=\"T_b40c8_row3_col1\" class=\"data row3 col1\" >IDN</td>\n",
       "      <td id=\"T_b40c8_row3_col2\" class=\"data row3 col2\" >Indonesia</td>\n",
       "      <td id=\"T_b40c8_row3_col3\" class=\"data row3 col3\" >Jakarta</td>\n",
       "      <td id=\"T_b40c8_row3_col4\" class=\"data row3 col4\" >Asia</td>\n",
       "      <td id=\"T_b40c8_row3_col5\" class=\"data row3 col5\" >1904569</td>\n",
       "      <td id=\"T_b40c8_row3_col6\" class=\"data row3 col6\" >144.652900</td>\n",
       "      <td id=\"T_b40c8_row3_col7\" class=\"data row3 col7\" >1.006400</td>\n",
       "      <td id=\"T_b40c8_row3_col8\" class=\"data row3 col8\" >3.450000</td>\n",
       "      <td id=\"T_b40c8_row3_col9\" class=\"data row3 col9\" >275501339</td>\n",
       "      <td id=\"T_b40c8_row3_col10\" class=\"data row3 col10\" >271857970</td>\n",
       "      <td id=\"T_b40c8_row3_col11\" class=\"data row3 col11\" >259091970</td>\n",
       "      <td id=\"T_b40c8_row3_col12\" class=\"data row3 col12\" >244016173</td>\n",
       "      <td id=\"T_b40c8_row3_col13\" class=\"data row3 col13\" >214072421</td>\n",
       "      <td id=\"T_b40c8_row3_col14\" class=\"data row3 col14\" >182159874</td>\n",
       "      <td id=\"T_b40c8_row3_col15\" class=\"data row3 col15\" >148177096</td>\n",
       "      <td id=\"T_b40c8_row3_col16\" class=\"data row3 col16\" >115228394</td>\n",
       "    </tr>\n",
       "    <tr>\n",
       "      <th id=\"T_b40c8_level0_row4\" class=\"row_heading level0 row4\" >156</th>\n",
       "      <td id=\"T_b40c8_row4_col0\" class=\"data row4 col0\" >5</td>\n",
       "      <td id=\"T_b40c8_row4_col1\" class=\"data row4 col1\" >PAK</td>\n",
       "      <td id=\"T_b40c8_row4_col2\" class=\"data row4 col2\" >Pakistan</td>\n",
       "      <td id=\"T_b40c8_row4_col3\" class=\"data row4 col3\" >Islamabad</td>\n",
       "      <td id=\"T_b40c8_row4_col4\" class=\"data row4 col4\" >Asia</td>\n",
       "      <td id=\"T_b40c8_row4_col5\" class=\"data row4 col5\" >881912</td>\n",
       "      <td id=\"T_b40c8_row4_col6\" class=\"data row4 col6\" >267.401800</td>\n",
       "      <td id=\"T_b40c8_row4_col7\" class=\"data row4 col7\" >1.019100</td>\n",
       "      <td id=\"T_b40c8_row4_col8\" class=\"data row4 col8\" >2.960000</td>\n",
       "      <td id=\"T_b40c8_row4_col9\" class=\"data row4 col9\" >235824862</td>\n",
       "      <td id=\"T_b40c8_row4_col10\" class=\"data row4 col10\" >227196741</td>\n",
       "      <td id=\"T_b40c8_row4_col11\" class=\"data row4 col11\" >210969298</td>\n",
       "      <td id=\"T_b40c8_row4_col12\" class=\"data row4 col12\" >194454498</td>\n",
       "      <td id=\"T_b40c8_row4_col13\" class=\"data row4 col13\" >154369924</td>\n",
       "      <td id=\"T_b40c8_row4_col14\" class=\"data row4 col14\" >115414069</td>\n",
       "      <td id=\"T_b40c8_row4_col15\" class=\"data row4 col15\" >80624057</td>\n",
       "      <td id=\"T_b40c8_row4_col16\" class=\"data row4 col16\" >59290872</td>\n",
       "    </tr>\n",
       "    <tr>\n",
       "      <th id=\"T_b40c8_level0_row5\" class=\"row_heading level0 row5\" >149</th>\n",
       "      <td id=\"T_b40c8_row5_col0\" class=\"data row5 col0\" >6</td>\n",
       "      <td id=\"T_b40c8_row5_col1\" class=\"data row5 col1\" >NGA</td>\n",
       "      <td id=\"T_b40c8_row5_col2\" class=\"data row5 col2\" >Nigeria</td>\n",
       "      <td id=\"T_b40c8_row5_col3\" class=\"data row5 col3\" >Abuja</td>\n",
       "      <td id=\"T_b40c8_row5_col4\" class=\"data row5 col4\" >Africa</td>\n",
       "      <td id=\"T_b40c8_row5_col5\" class=\"data row5 col5\" >923768</td>\n",
       "      <td id=\"T_b40c8_row5_col6\" class=\"data row5 col6\" >236.575900</td>\n",
       "      <td id=\"T_b40c8_row5_col7\" class=\"data row5 col7\" >1.024100</td>\n",
       "      <td id=\"T_b40c8_row5_col8\" class=\"data row5 col8\" >2.740000</td>\n",
       "      <td id=\"T_b40c8_row5_col9\" class=\"data row5 col9\" >218541212</td>\n",
       "      <td id=\"T_b40c8_row5_col10\" class=\"data row5 col10\" >208327405</td>\n",
       "      <td id=\"T_b40c8_row5_col11\" class=\"data row5 col11\" >183995785</td>\n",
       "      <td id=\"T_b40c8_row5_col12\" class=\"data row5 col12\" >160952853</td>\n",
       "      <td id=\"T_b40c8_row5_col13\" class=\"data row5 col13\" >122851984</td>\n",
       "      <td id=\"T_b40c8_row5_col14\" class=\"data row5 col14\" >95214257</td>\n",
       "      <td id=\"T_b40c8_row5_col15\" class=\"data row5 col15\" >72951439</td>\n",
       "      <td id=\"T_b40c8_row5_col16\" class=\"data row5 col16\" >55569264</td>\n",
       "    </tr>\n",
       "    <tr>\n",
       "      <th id=\"T_b40c8_level0_row6\" class=\"row_heading level0 row6\" >27</th>\n",
       "      <td id=\"T_b40c8_row6_col0\" class=\"data row6 col0\" >7</td>\n",
       "      <td id=\"T_b40c8_row6_col1\" class=\"data row6 col1\" >BRA</td>\n",
       "      <td id=\"T_b40c8_row6_col2\" class=\"data row6 col2\" >Brazil</td>\n",
       "      <td id=\"T_b40c8_row6_col3\" class=\"data row6 col3\" >Brasilia</td>\n",
       "      <td id=\"T_b40c8_row6_col4\" class=\"data row6 col4\" >South America</td>\n",
       "      <td id=\"T_b40c8_row6_col5\" class=\"data row6 col5\" >8515767</td>\n",
       "      <td id=\"T_b40c8_row6_col6\" class=\"data row6 col6\" >25.284100</td>\n",
       "      <td id=\"T_b40c8_row6_col7\" class=\"data row6 col7\" >1.004600</td>\n",
       "      <td id=\"T_b40c8_row6_col8\" class=\"data row6 col8\" >2.700000</td>\n",
       "      <td id=\"T_b40c8_row6_col9\" class=\"data row6 col9\" >215313498</td>\n",
       "      <td id=\"T_b40c8_row6_col10\" class=\"data row6 col10\" >213196304</td>\n",
       "      <td id=\"T_b40c8_row6_col11\" class=\"data row6 col11\" >205188205</td>\n",
       "      <td id=\"T_b40c8_row6_col12\" class=\"data row6 col12\" >196353492</td>\n",
       "      <td id=\"T_b40c8_row6_col13\" class=\"data row6 col13\" >175873720</td>\n",
       "      <td id=\"T_b40c8_row6_col14\" class=\"data row6 col14\" >150706446</td>\n",
       "      <td id=\"T_b40c8_row6_col15\" class=\"data row6 col15\" >122288383</td>\n",
       "      <td id=\"T_b40c8_row6_col16\" class=\"data row6 col16\" >96369875</td>\n",
       "    </tr>\n",
       "    <tr>\n",
       "      <th id=\"T_b40c8_level0_row7\" class=\"row_heading level0 row7\" >16</th>\n",
       "      <td id=\"T_b40c8_row7_col0\" class=\"data row7 col0\" >8</td>\n",
       "      <td id=\"T_b40c8_row7_col1\" class=\"data row7 col1\" >BGD</td>\n",
       "      <td id=\"T_b40c8_row7_col2\" class=\"data row7 col2\" >Bangladesh</td>\n",
       "      <td id=\"T_b40c8_row7_col3\" class=\"data row7 col3\" >Dhaka</td>\n",
       "      <td id=\"T_b40c8_row7_col4\" class=\"data row7 col4\" >Asia</td>\n",
       "      <td id=\"T_b40c8_row7_col5\" class=\"data row7 col5\" >147570</td>\n",
       "      <td id=\"T_b40c8_row7_col6\" class=\"data row7 col6\" >1160.035000</td>\n",
       "      <td id=\"T_b40c8_row7_col7\" class=\"data row7 col7\" >1.010800</td>\n",
       "      <td id=\"T_b40c8_row7_col8\" class=\"data row7 col8\" >2.150000</td>\n",
       "      <td id=\"T_b40c8_row7_col9\" class=\"data row7 col9\" >171186372</td>\n",
       "      <td id=\"T_b40c8_row7_col10\" class=\"data row7 col10\" >167420951</td>\n",
       "      <td id=\"T_b40c8_row7_col11\" class=\"data row7 col11\" >157830000</td>\n",
       "      <td id=\"T_b40c8_row7_col12\" class=\"data row7 col12\" >148391139</td>\n",
       "      <td id=\"T_b40c8_row7_col13\" class=\"data row7 col13\" >129193327</td>\n",
       "      <td id=\"T_b40c8_row7_col14\" class=\"data row7 col14\" >107147651</td>\n",
       "      <td id=\"T_b40c8_row7_col15\" class=\"data row7 col15\" >83929765</td>\n",
       "      <td id=\"T_b40c8_row7_col16\" class=\"data row7 col16\" >67541860</td>\n",
       "    </tr>\n",
       "    <tr>\n",
       "      <th id=\"T_b40c8_level0_row8\" class=\"row_heading level0 row8\" >171</th>\n",
       "      <td id=\"T_b40c8_row8_col0\" class=\"data row8 col0\" >9</td>\n",
       "      <td id=\"T_b40c8_row8_col1\" class=\"data row8 col1\" >RUS</td>\n",
       "      <td id=\"T_b40c8_row8_col2\" class=\"data row8 col2\" >Russia</td>\n",
       "      <td id=\"T_b40c8_row8_col3\" class=\"data row8 col3\" >Moscow</td>\n",
       "      <td id=\"T_b40c8_row8_col4\" class=\"data row8 col4\" >Europe</td>\n",
       "      <td id=\"T_b40c8_row8_col5\" class=\"data row8 col5\" >17098242</td>\n",
       "      <td id=\"T_b40c8_row8_col6\" class=\"data row8 col6\" >8.463600</td>\n",
       "      <td id=\"T_b40c8_row8_col7\" class=\"data row8 col7\" >0.997300</td>\n",
       "      <td id=\"T_b40c8_row8_col8\" class=\"data row8 col8\" >1.810000</td>\n",
       "      <td id=\"T_b40c8_row8_col9\" class=\"data row8 col9\" >144713314</td>\n",
       "      <td id=\"T_b40c8_row8_col10\" class=\"data row8 col10\" >145617329</td>\n",
       "      <td id=\"T_b40c8_row8_col11\" class=\"data row8 col11\" >144668389</td>\n",
       "      <td id=\"T_b40c8_row8_col12\" class=\"data row8 col12\" >143242599</td>\n",
       "      <td id=\"T_b40c8_row8_col13\" class=\"data row8 col13\" >146844839</td>\n",
       "      <td id=\"T_b40c8_row8_col14\" class=\"data row8 col14\" >148005704</td>\n",
       "      <td id=\"T_b40c8_row8_col15\" class=\"data row8 col15\" >138257420</td>\n",
       "      <td id=\"T_b40c8_row8_col16\" class=\"data row8 col16\" >130093010</td>\n",
       "    </tr>\n",
       "    <tr>\n",
       "      <th id=\"T_b40c8_level0_row9\" class=\"row_heading level0 row9\" >131</th>\n",
       "      <td id=\"T_b40c8_row9_col0\" class=\"data row9 col0\" >10</td>\n",
       "      <td id=\"T_b40c8_row9_col1\" class=\"data row9 col1\" >MEX</td>\n",
       "      <td id=\"T_b40c8_row9_col2\" class=\"data row9 col2\" >Mexico</td>\n",
       "      <td id=\"T_b40c8_row9_col3\" class=\"data row9 col3\" >Mexico City</td>\n",
       "      <td id=\"T_b40c8_row9_col4\" class=\"data row9 col4\" >North America</td>\n",
       "      <td id=\"T_b40c8_row9_col5\" class=\"data row9 col5\" >1964375</td>\n",
       "      <td id=\"T_b40c8_row9_col6\" class=\"data row9 col6\" >64.908200</td>\n",
       "      <td id=\"T_b40c8_row9_col7\" class=\"data row9 col7\" >1.006300</td>\n",
       "      <td id=\"T_b40c8_row9_col8\" class=\"data row9 col8\" >1.600000</td>\n",
       "      <td id=\"T_b40c8_row9_col9\" class=\"data row9 col9\" >127504125</td>\n",
       "      <td id=\"T_b40c8_row9_col10\" class=\"data row9 col10\" >125998302</td>\n",
       "      <td id=\"T_b40c8_row9_col11\" class=\"data row9 col11\" >120149897</td>\n",
       "      <td id=\"T_b40c8_row9_col12\" class=\"data row9 col12\" >112532401</td>\n",
       "      <td id=\"T_b40c8_row9_col13\" class=\"data row9 col13\" >97873442</td>\n",
       "      <td id=\"T_b40c8_row9_col14\" class=\"data row9 col14\" >81720428</td>\n",
       "      <td id=\"T_b40c8_row9_col15\" class=\"data row9 col15\" >67705186</td>\n",
       "      <td id=\"T_b40c8_row9_col16\" class=\"data row9 col16\" >50289306</td>\n",
       "    </tr>\n",
       "  </tbody>\n",
       "</table>\n"
      ],
      "text/plain": [
       "<pandas.io.formats.style.Styler at 0x20072a11820>"
      ]
     },
     "execution_count": 96,
     "metadata": {},
     "output_type": "execute_result"
    }
   ],
   "source": [
    "wp_df = df\n",
    "wp_df.columns = ['Rank','ISO-3','Country','Capital','Continent','2022','2020','2015',\n",
    "                 '2010','2000','1990','1980','1970','Area (km²)','Density (per km²)','Growth Rate',\n",
    "                 'World Population Percentage']\n",
    "wp_df = wp_df[['Rank','ISO-3','Country','Capital','Continent', 'Area (km²)','Density (per km²)',\n",
    "              'Growth Rate', 'World Population Percentage','2022','2020','2015','2010','2000','1990',\n",
    "              '1980','1970']]\n",
    "rank = wp_df['Rank'] <=10\n",
    "top10_df = wp_df[rank]\n",
    "top10_df = top10_df.sort_values(by='Rank')\n",
    "top10_df.style.background_gradient()"
   ]
  },
  {
   "cell_type": "markdown",
   "id": "dd7e0d9b",
   "metadata": {},
   "source": [
    "#### World Population By country : Animation "
   ]
  },
  {
   "cell_type": "code",
   "execution_count": 99,
   "id": "542f41c8",
   "metadata": {},
   "outputs": [
    {
     "name": "stdout",
     "output_type": "stream",
     "text": [
      "Before Melting\n"
     ]
    },
    {
     "data": {
      "text/html": [
       "<div>\n",
       "<style scoped>\n",
       "    .dataframe tbody tr th:only-of-type {\n",
       "        vertical-align: middle;\n",
       "    }\n",
       "\n",
       "    .dataframe tbody tr th {\n",
       "        vertical-align: top;\n",
       "    }\n",
       "\n",
       "    .dataframe thead th {\n",
       "        text-align: right;\n",
       "    }\n",
       "</style>\n",
       "<table border=\"1\" class=\"dataframe\">\n",
       "  <thead>\n",
       "    <tr style=\"text-align: right;\">\n",
       "      <th></th>\n",
       "      <th>ISO-3</th>\n",
       "      <th>Country</th>\n",
       "      <th>1970</th>\n",
       "      <th>1980</th>\n",
       "      <th>1990</th>\n",
       "      <th>2000</th>\n",
       "      <th>2010</th>\n",
       "      <th>2015</th>\n",
       "      <th>2020</th>\n",
       "      <th>2022</th>\n",
       "    </tr>\n",
       "  </thead>\n",
       "  <tbody>\n",
       "    <tr>\n",
       "      <th>0</th>\n",
       "      <td>AFG</td>\n",
       "      <td>Afghanistan</td>\n",
       "      <td>10752971</td>\n",
       "      <td>12486631</td>\n",
       "      <td>10694796</td>\n",
       "      <td>19542982</td>\n",
       "      <td>28189672</td>\n",
       "      <td>33753499</td>\n",
       "      <td>38972230</td>\n",
       "      <td>41128771</td>\n",
       "    </tr>\n",
       "    <tr>\n",
       "      <th>1</th>\n",
       "      <td>ALB</td>\n",
       "      <td>Albania</td>\n",
       "      <td>2324731</td>\n",
       "      <td>2941651</td>\n",
       "      <td>3295066</td>\n",
       "      <td>3182021</td>\n",
       "      <td>2913399</td>\n",
       "      <td>2882481</td>\n",
       "      <td>2866849</td>\n",
       "      <td>2842321</td>\n",
       "    </tr>\n",
       "    <tr>\n",
       "      <th>2</th>\n",
       "      <td>DZA</td>\n",
       "      <td>Algeria</td>\n",
       "      <td>13795915</td>\n",
       "      <td>18739378</td>\n",
       "      <td>25518074</td>\n",
       "      <td>30774621</td>\n",
       "      <td>35856344</td>\n",
       "      <td>39543154</td>\n",
       "      <td>43451666</td>\n",
       "      <td>44903225</td>\n",
       "    </tr>\n",
       "    <tr>\n",
       "      <th>3</th>\n",
       "      <td>ASM</td>\n",
       "      <td>American Samoa</td>\n",
       "      <td>27075</td>\n",
       "      <td>32886</td>\n",
       "      <td>47818</td>\n",
       "      <td>58230</td>\n",
       "      <td>54849</td>\n",
       "      <td>51368</td>\n",
       "      <td>46189</td>\n",
       "      <td>44273</td>\n",
       "    </tr>\n",
       "    <tr>\n",
       "      <th>4</th>\n",
       "      <td>AND</td>\n",
       "      <td>Andorra</td>\n",
       "      <td>19860</td>\n",
       "      <td>35611</td>\n",
       "      <td>53569</td>\n",
       "      <td>66097</td>\n",
       "      <td>71519</td>\n",
       "      <td>71746</td>\n",
       "      <td>77700</td>\n",
       "      <td>79824</td>\n",
       "    </tr>\n",
       "  </tbody>\n",
       "</table>\n",
       "</div>"
      ],
      "text/plain": [
       "  ISO-3         Country      1970      1980      1990      2000      2010  \\\n",
       "0   AFG     Afghanistan  10752971  12486631  10694796  19542982  28189672   \n",
       "1   ALB         Albania   2324731   2941651   3295066   3182021   2913399   \n",
       "2   DZA         Algeria  13795915  18739378  25518074  30774621  35856344   \n",
       "3   ASM  American Samoa     27075     32886     47818     58230     54849   \n",
       "4   AND         Andorra     19860     35611     53569     66097     71519   \n",
       "\n",
       "       2015      2020      2022  \n",
       "0  33753499  38972230  41128771  \n",
       "1   2882481   2866849   2842321  \n",
       "2  39543154  43451666  44903225  \n",
       "3     51368     46189     44273  \n",
       "4     71746     77700     79824  "
      ]
     },
     "metadata": {},
     "output_type": "display_data"
    },
    {
     "name": "stdout",
     "output_type": "stream",
     "text": [
      "After Melting\n"
     ]
    },
    {
     "data": {
      "text/html": [
       "<div>\n",
       "<style scoped>\n",
       "    .dataframe tbody tr th:only-of-type {\n",
       "        vertical-align: middle;\n",
       "    }\n",
       "\n",
       "    .dataframe tbody tr th {\n",
       "        vertical-align: top;\n",
       "    }\n",
       "\n",
       "    .dataframe thead th {\n",
       "        text-align: right;\n",
       "    }\n",
       "</style>\n",
       "<table border=\"1\" class=\"dataframe\">\n",
       "  <thead>\n",
       "    <tr style=\"text-align: right;\">\n",
       "      <th></th>\n",
       "      <th>ISO-3</th>\n",
       "      <th>Country</th>\n",
       "      <th>Year</th>\n",
       "      <th>Population</th>\n",
       "    </tr>\n",
       "  </thead>\n",
       "  <tbody>\n",
       "    <tr>\n",
       "      <th>0</th>\n",
       "      <td>AFG</td>\n",
       "      <td>Afghanistan</td>\n",
       "      <td>1970</td>\n",
       "      <td>10752971</td>\n",
       "    </tr>\n",
       "    <tr>\n",
       "      <th>1</th>\n",
       "      <td>ALB</td>\n",
       "      <td>Albania</td>\n",
       "      <td>1970</td>\n",
       "      <td>2324731</td>\n",
       "    </tr>\n",
       "    <tr>\n",
       "      <th>2</th>\n",
       "      <td>DZA</td>\n",
       "      <td>Algeria</td>\n",
       "      <td>1970</td>\n",
       "      <td>13795915</td>\n",
       "    </tr>\n",
       "    <tr>\n",
       "      <th>3</th>\n",
       "      <td>ASM</td>\n",
       "      <td>American Samoa</td>\n",
       "      <td>1970</td>\n",
       "      <td>27075</td>\n",
       "    </tr>\n",
       "    <tr>\n",
       "      <th>4</th>\n",
       "      <td>AND</td>\n",
       "      <td>Andorra</td>\n",
       "      <td>1970</td>\n",
       "      <td>19860</td>\n",
       "    </tr>\n",
       "    <tr>\n",
       "      <th>5</th>\n",
       "      <td>AGO</td>\n",
       "      <td>Angola</td>\n",
       "      <td>1970</td>\n",
       "      <td>6029700</td>\n",
       "    </tr>\n",
       "    <tr>\n",
       "      <th>6</th>\n",
       "      <td>AIA</td>\n",
       "      <td>Anguilla</td>\n",
       "      <td>1970</td>\n",
       "      <td>6283</td>\n",
       "    </tr>\n",
       "    <tr>\n",
       "      <th>7</th>\n",
       "      <td>ATG</td>\n",
       "      <td>Antigua and Barbuda</td>\n",
       "      <td>1970</td>\n",
       "      <td>64516</td>\n",
       "    </tr>\n",
       "    <tr>\n",
       "      <th>8</th>\n",
       "      <td>ARG</td>\n",
       "      <td>Argentina</td>\n",
       "      <td>1970</td>\n",
       "      <td>23842803</td>\n",
       "    </tr>\n",
       "    <tr>\n",
       "      <th>9</th>\n",
       "      <td>ARM</td>\n",
       "      <td>Armenia</td>\n",
       "      <td>1970</td>\n",
       "      <td>2534377</td>\n",
       "    </tr>\n",
       "  </tbody>\n",
       "</table>\n",
       "</div>"
      ],
      "text/plain": [
       "  ISO-3              Country  Year  Population\n",
       "0   AFG          Afghanistan  1970    10752971\n",
       "1   ALB              Albania  1970     2324731\n",
       "2   DZA              Algeria  1970    13795915\n",
       "3   ASM       American Samoa  1970       27075\n",
       "4   AND              Andorra  1970       19860\n",
       "5   AGO               Angola  1970     6029700\n",
       "6   AIA             Anguilla  1970        6283\n",
       "7   ATG  Antigua and Barbuda  1970       64516\n",
       "8   ARG            Argentina  1970    23842803\n",
       "9   ARM              Armenia  1970     2534377"
      ]
     },
     "execution_count": 99,
     "metadata": {},
     "output_type": "execute_result"
    }
   ],
   "source": [
    "wp_df_years = wp_df[['ISO-3','Country','1970','1980','1990','2000','2010','2015','2020','2022']]\n",
    "print(\"Before Melting\")\n",
    "display(wp_df_years.head())\n",
    "wp_df_melted = wp_df_years.melt(id_vars=[\"ISO-3\", \"Country\"], var_name=\"Year\", value_name=\"Population\")\n",
    "print(\"After Melting\")\n",
    "wp_df_melted.head(10)"
   ]
  },
  {
   "cell_type": "code",
   "execution_count": 100,
   "id": "e8024b0b",
   "metadata": {},
   "outputs": [
    {
     "data": {
      "application/vnd.plotly.v1+json": {
       "config": {
        "plotlyServerURL": "https://plot.ly"
       },
       "data": [
        {
         "coloraxis": "coloraxis",
         "customdata": [
          [
           "AFG"
          ],
          [
           "ALB"
          ],
          [
           "DZA"
          ],
          [
           "ASM"
          ],
          [
           "AND"
          ],
          [
           "AGO"
          ],
          [
           "AIA"
          ],
          [
           "ATG"
          ],
          [
           "ARG"
          ],
          [
           "ARM"
          ],
          [
           "ABW"
          ],
          [
           "AUS"
          ],
          [
           "AUT"
          ],
          [
           "AZE"
          ],
          [
           "BHS"
          ],
          [
           "BHR"
          ],
          [
           "BGD"
          ],
          [
           "BRB"
          ],
          [
           "BLR"
          ],
          [
           "BEL"
          ],
          [
           "BLZ"
          ],
          [
           "BEN"
          ],
          [
           "BMU"
          ],
          [
           "BTN"
          ],
          [
           "BOL"
          ],
          [
           "BIH"
          ],
          [
           "BWA"
          ],
          [
           "BRA"
          ],
          [
           "VGB"
          ],
          [
           "BRN"
          ],
          [
           "BGR"
          ],
          [
           "BFA"
          ],
          [
           "BDI"
          ],
          [
           "KHM"
          ],
          [
           "CMR"
          ],
          [
           "CAN"
          ],
          [
           "CPV"
          ],
          [
           "CYM"
          ],
          [
           "CAF"
          ],
          [
           "TCD"
          ],
          [
           "CHL"
          ],
          [
           "CHN"
          ],
          [
           "COL"
          ],
          [
           "COM"
          ],
          [
           "COK"
          ],
          [
           "CRI"
          ],
          [
           "HRV"
          ],
          [
           "CUB"
          ],
          [
           "CUW"
          ],
          [
           "CYP"
          ],
          [
           "CZE"
          ],
          [
           "DNK"
          ],
          [
           "DJI"
          ],
          [
           "DMA"
          ],
          [
           "DOM"
          ],
          [
           "COD"
          ],
          [
           "ECU"
          ],
          [
           "EGY"
          ],
          [
           "SLV"
          ],
          [
           "GNQ"
          ],
          [
           "ERI"
          ],
          [
           "EST"
          ],
          [
           "SWZ"
          ],
          [
           "ETH"
          ],
          [
           "FLK"
          ],
          [
           "FRO"
          ],
          [
           "FJI"
          ],
          [
           "FIN"
          ],
          [
           "FRA"
          ],
          [
           "GUF"
          ],
          [
           "PYF"
          ],
          [
           "GAB"
          ],
          [
           "GMB"
          ],
          [
           "GEO"
          ],
          [
           "DEU"
          ],
          [
           "GHA"
          ],
          [
           "GIB"
          ],
          [
           "GRC"
          ],
          [
           "GRL"
          ],
          [
           "GRD"
          ],
          [
           "GLP"
          ],
          [
           "GUM"
          ],
          [
           "GTM"
          ],
          [
           "GGY"
          ],
          [
           "GIN"
          ],
          [
           "GNB"
          ],
          [
           "GUY"
          ],
          [
           "HTI"
          ],
          [
           "HND"
          ],
          [
           "HKG"
          ],
          [
           "HUN"
          ],
          [
           "ISL"
          ],
          [
           "IND"
          ],
          [
           "IDN"
          ],
          [
           "IRN"
          ],
          [
           "IRQ"
          ],
          [
           "IRL"
          ],
          [
           "IMN"
          ],
          [
           "ISR"
          ],
          [
           "ITA"
          ],
          [
           "CIV"
          ],
          [
           "JAM"
          ],
          [
           "JPN"
          ],
          [
           "JEY"
          ],
          [
           "JOR"
          ],
          [
           "KAZ"
          ],
          [
           "KEN"
          ],
          [
           "KIR"
          ],
          [
           "KWT"
          ],
          [
           "KGZ"
          ],
          [
           "LAO"
          ],
          [
           "LVA"
          ],
          [
           "LBN"
          ],
          [
           "LSO"
          ],
          [
           "LBR"
          ],
          [
           "LBY"
          ],
          [
           "LIE"
          ],
          [
           "LTU"
          ],
          [
           "LUX"
          ],
          [
           "MAC"
          ],
          [
           "MDG"
          ],
          [
           "MWI"
          ],
          [
           "MYS"
          ],
          [
           "MDV"
          ],
          [
           "MLI"
          ],
          [
           "MLT"
          ],
          [
           "MHL"
          ],
          [
           "MTQ"
          ],
          [
           "MRT"
          ],
          [
           "MUS"
          ],
          [
           "MYT"
          ],
          [
           "MEX"
          ],
          [
           "FSM"
          ],
          [
           "MDA"
          ],
          [
           "MCO"
          ],
          [
           "MNG"
          ],
          [
           "MNE"
          ],
          [
           "MSR"
          ],
          [
           "MAR"
          ],
          [
           "MOZ"
          ],
          [
           "MMR"
          ],
          [
           "NAM"
          ],
          [
           "NRU"
          ],
          [
           "NPL"
          ],
          [
           "NLD"
          ],
          [
           "NCL"
          ],
          [
           "NZL"
          ],
          [
           "NIC"
          ],
          [
           "NER"
          ],
          [
           "NGA"
          ],
          [
           "NIU"
          ],
          [
           "PRK"
          ],
          [
           "MKD"
          ],
          [
           "NFK"
          ],
          [
           "NOR"
          ],
          [
           "OMN"
          ],
          [
           "PAK"
          ],
          [
           "PLW"
          ],
          [
           "PSE"
          ],
          [
           "PAN"
          ],
          [
           "PNG"
          ],
          [
           "PRY"
          ],
          [
           "PER"
          ],
          [
           "PHL"
          ],
          [
           "POL"
          ],
          [
           "PRT"
          ],
          [
           "PRI"
          ],
          [
           "QAT"
          ],
          [
           "COG"
          ],
          [
           "REU"
          ],
          [
           "ROU"
          ],
          [
           "RUS"
          ],
          [
           "RWA"
          ],
          [
           "BLM"
          ],
          [
           "KNA"
          ],
          [
           "LCA"
          ],
          [
           "MAF"
          ],
          [
           "SPM"
          ],
          [
           "VCT"
          ],
          [
           "WSM"
          ],
          [
           "SMR"
          ],
          [
           "STP"
          ],
          [
           "SAU"
          ],
          [
           "SEN"
          ],
          [
           "SRB"
          ],
          [
           "SYC"
          ],
          [
           "SLE"
          ],
          [
           "SGP"
          ],
          [
           "SXM"
          ],
          [
           "SVK"
          ],
          [
           "SVN"
          ],
          [
           "SLB"
          ],
          [
           "SOM"
          ],
          [
           "ZAF"
          ],
          [
           "KOR"
          ],
          [
           "SSD"
          ],
          [
           "ESP"
          ],
          [
           "LKA"
          ],
          [
           "SDN"
          ],
          [
           "SUR"
          ],
          [
           "SWE"
          ],
          [
           "CHE"
          ],
          [
           "SYR"
          ],
          [
           "TWN"
          ],
          [
           "TJK"
          ],
          [
           "TZA"
          ],
          [
           "THA"
          ],
          [
           "TLS"
          ],
          [
           "TGO"
          ],
          [
           "TKL"
          ],
          [
           "TON"
          ],
          [
           "TTO"
          ],
          [
           "TUN"
          ],
          [
           "TUR"
          ],
          [
           "TKM"
          ],
          [
           "TCA"
          ],
          [
           "TUV"
          ],
          [
           "UGA"
          ],
          [
           "UKR"
          ],
          [
           "ARE"
          ],
          [
           "GBR"
          ],
          [
           "USA"
          ],
          [
           "VIR"
          ],
          [
           "URY"
          ],
          [
           "UZB"
          ],
          [
           "VUT"
          ],
          [
           "VAT"
          ],
          [
           "VEN"
          ],
          [
           "VNM"
          ],
          [
           "WLF"
          ],
          [
           "ESH"
          ],
          [
           "YEM"
          ],
          [
           "ZMB"
          ],
          [
           "ZWE"
          ]
         ],
         "geo": "geo",
         "hovertemplate": "<b>%{hovertext}</b><br><br>Year=1970<br>Population=%{z}<extra></extra>",
         "hovertext": [
          "Afghanistan",
          "Albania",
          "Algeria",
          "American Samoa",
          "Andorra",
          "Angola",
          "Anguilla",
          "Antigua and Barbuda",
          "Argentina",
          "Armenia",
          "Aruba",
          "Australia",
          "Austria",
          "Azerbaijan",
          "Bahamas",
          "Bahrain",
          "Bangladesh",
          "Barbados",
          "Belarus",
          "Belgium",
          "Belize",
          "Benin",
          "Bermuda",
          "Bhutan",
          "Bolivia",
          "Bosnia and Herzegovina",
          "Botswana",
          "Brazil",
          "British Virgin Islands",
          "Brunei",
          "Bulgaria",
          "Burkina Faso",
          "Burundi",
          "Cambodia",
          "Cameroon",
          "Canada",
          "Cape Verde",
          "Cayman Islands",
          "Central African Republic",
          "Chad",
          "Chile",
          "China",
          "Colombia",
          "Comoros",
          "Cook Islands",
          "Costa Rica",
          "Croatia",
          "Cuba",
          "Curacao",
          "Cyprus",
          "Czech Republic",
          "Denmark",
          "Djibouti",
          "Dominica",
          "Dominican Republic",
          "DR Congo",
          "Ecuador",
          "Egypt",
          "El Salvador",
          "Equatorial Guinea",
          "Eritrea",
          "Estonia",
          "Eswatini",
          "Ethiopia",
          "Falkland Islands",
          "Faroe Islands",
          "Fiji",
          "Finland",
          "France",
          "French Guiana",
          "French Polynesia",
          "Gabon",
          "Gambia",
          "Georgia",
          "Germany",
          "Ghana",
          "Gibraltar",
          "Greece",
          "Greenland",
          "Grenada",
          "Guadeloupe",
          "Guam",
          "Guatemala",
          "Guernsey",
          "Guinea",
          "Guinea-Bissau",
          "Guyana",
          "Haiti",
          "Honduras",
          "Hong Kong",
          "Hungary",
          "Iceland",
          "India",
          "Indonesia",
          "Iran",
          "Iraq",
          "Ireland",
          "Isle of Man",
          "Israel",
          "Italy",
          "Ivory Coast",
          "Jamaica",
          "Japan",
          "Jersey",
          "Jordan",
          "Kazakhstan",
          "Kenya",
          "Kiribati",
          "Kuwait",
          "Kyrgyzstan",
          "Laos",
          "Latvia",
          "Lebanon",
          "Lesotho",
          "Liberia",
          "Libya",
          "Liechtenstein",
          "Lithuania",
          "Luxembourg",
          "Macau",
          "Madagascar",
          "Malawi",
          "Malaysia",
          "Maldives",
          "Mali",
          "Malta",
          "Marshall Islands",
          "Martinique",
          "Mauritania",
          "Mauritius",
          "Mayotte",
          "Mexico",
          "Micronesia",
          "Moldova",
          "Monaco",
          "Mongolia",
          "Montenegro",
          "Montserrat",
          "Morocco",
          "Mozambique",
          "Myanmar",
          "Namibia",
          "Nauru",
          "Nepal",
          "Netherlands",
          "New Caledonia",
          "New Zealand",
          "Nicaragua",
          "Niger",
          "Nigeria",
          "Niue",
          "North Korea",
          "North Macedonia",
          "Northern Mariana Islands",
          "Norway",
          "Oman",
          "Pakistan",
          "Palau",
          "Palestine",
          "Panama",
          "Papua New Guinea",
          "Paraguay",
          "Peru",
          "Philippines",
          "Poland",
          "Portugal",
          "Puerto Rico",
          "Qatar",
          "Republic of the Congo",
          "Reunion",
          "Romania",
          "Russia",
          "Rwanda",
          "Saint Barthelemy",
          "Saint Kitts and Nevis",
          "Saint Lucia",
          "Saint Martin",
          "Saint Pierre and Miquelon",
          "Saint Vincent and the Grenadines",
          "Samoa",
          "San Marino",
          "Sao Tome and Principe",
          "Saudi Arabia",
          "Senegal",
          "Serbia",
          "Seychelles",
          "Sierra Leone",
          "Singapore",
          "Sint Maarten",
          "Slovakia",
          "Slovenia",
          "Solomon Islands",
          "Somalia",
          "South Africa",
          "South Korea",
          "South Sudan",
          "Spain",
          "Sri Lanka",
          "Sudan",
          "Suriname",
          "Sweden",
          "Switzerland",
          "Syria",
          "Taiwan",
          "Tajikistan",
          "Tanzania",
          "Thailand",
          "Timor-Leste",
          "Togo",
          "Tokelau",
          "Tonga",
          "Trinidad and Tobago",
          "Tunisia",
          "Turkey",
          "Turkmenistan",
          "Turks and Caicos Islands",
          "Tuvalu",
          "Uganda",
          "Ukraine",
          "United Arab Emirates",
          "United Kingdom",
          "United States",
          "United States Virgin Islands",
          "Uruguay",
          "Uzbekistan",
          "Vanuatu",
          "Vatican City",
          "Venezuela",
          "Vietnam",
          "Wallis and Futuna",
          "Western Sahara",
          "Yemen",
          "Zambia",
          "Zimbabwe"
         ],
         "locationmode": "ISO-3",
         "locations": [
          "AFG",
          "ALB",
          "DZA",
          "ASM",
          "AND",
          "AGO",
          "AIA",
          "ATG",
          "ARG",
          "ARM",
          "ABW",
          "AUS",
          "AUT",
          "AZE",
          "BHS",
          "BHR",
          "BGD",
          "BRB",
          "BLR",
          "BEL",
          "BLZ",
          "BEN",
          "BMU",
          "BTN",
          "BOL",
          "BIH",
          "BWA",
          "BRA",
          "VGB",
          "BRN",
          "BGR",
          "BFA",
          "BDI",
          "KHM",
          "CMR",
          "CAN",
          "CPV",
          "CYM",
          "CAF",
          "TCD",
          "CHL",
          "CHN",
          "COL",
          "COM",
          "COK",
          "CRI",
          "HRV",
          "CUB",
          "CUW",
          "CYP",
          "CZE",
          "DNK",
          "DJI",
          "DMA",
          "DOM",
          "COD",
          "ECU",
          "EGY",
          "SLV",
          "GNQ",
          "ERI",
          "EST",
          "SWZ",
          "ETH",
          "FLK",
          "FRO",
          "FJI",
          "FIN",
          "FRA",
          "GUF",
          "PYF",
          "GAB",
          "GMB",
          "GEO",
          "DEU",
          "GHA",
          "GIB",
          "GRC",
          "GRL",
          "GRD",
          "GLP",
          "GUM",
          "GTM",
          "GGY",
          "GIN",
          "GNB",
          "GUY",
          "HTI",
          "HND",
          "HKG",
          "HUN",
          "ISL",
          "IND",
          "IDN",
          "IRN",
          "IRQ",
          "IRL",
          "IMN",
          "ISR",
          "ITA",
          "CIV",
          "JAM",
          "JPN",
          "JEY",
          "JOR",
          "KAZ",
          "KEN",
          "KIR",
          "KWT",
          "KGZ",
          "LAO",
          "LVA",
          "LBN",
          "LSO",
          "LBR",
          "LBY",
          "LIE",
          "LTU",
          "LUX",
          "MAC",
          "MDG",
          "MWI",
          "MYS",
          "MDV",
          "MLI",
          "MLT",
          "MHL",
          "MTQ",
          "MRT",
          "MUS",
          "MYT",
          "MEX",
          "FSM",
          "MDA",
          "MCO",
          "MNG",
          "MNE",
          "MSR",
          "MAR",
          "MOZ",
          "MMR",
          "NAM",
          "NRU",
          "NPL",
          "NLD",
          "NCL",
          "NZL",
          "NIC",
          "NER",
          "NGA",
          "NIU",
          "PRK",
          "MKD",
          "NFK",
          "NOR",
          "OMN",
          "PAK",
          "PLW",
          "PSE",
          "PAN",
          "PNG",
          "PRY",
          "PER",
          "PHL",
          "POL",
          "PRT",
          "PRI",
          "QAT",
          "COG",
          "REU",
          "ROU",
          "RUS",
          "RWA",
          "BLM",
          "KNA",
          "LCA",
          "MAF",
          "SPM",
          "VCT",
          "WSM",
          "SMR",
          "STP",
          "SAU",
          "SEN",
          "SRB",
          "SYC",
          "SLE",
          "SGP",
          "SXM",
          "SVK",
          "SVN",
          "SLB",
          "SOM",
          "ZAF",
          "KOR",
          "SSD",
          "ESP",
          "LKA",
          "SDN",
          "SUR",
          "SWE",
          "CHE",
          "SYR",
          "TWN",
          "TJK",
          "TZA",
          "THA",
          "TLS",
          "TGO",
          "TKL",
          "TON",
          "TTO",
          "TUN",
          "TUR",
          "TKM",
          "TCA",
          "TUV",
          "UGA",
          "UKR",
          "ARE",
          "GBR",
          "USA",
          "VIR",
          "URY",
          "UZB",
          "VUT",
          "VAT",
          "VEN",
          "VNM",
          "WLF",
          "ESH",
          "YEM",
          "ZMB",
          "ZWE"
         ],
         "name": "",
         "type": "choropleth",
         "z": [
          10752971,
          2324731,
          13795915,
          27075,
          19860,
          6029700,
          6283,
          64516,
          23842803,
          2534377,
          59106,
          12595034,
          7465301,
          5425317,
          179129,
          222555,
          67541860,
          241397,
          9170786,
          9629376,
          120905,
          3023443,
          52019,
          298894,
          4585693,
          3815561,
          592244,
          96369875,
          9581,
          133343,
          8582950,
          5611666,
          3497834,
          6708525,
          6452787,
          21434577,
          287262,
          10533,
          2067356,
          3667394,
          9820481,
          822534450,
          20905254,
          242351,
          20470,
          1855697,
          4492638,
          8869636,
          150385,
          640804,
          9795744,
          4922963,
          144379,
          68895,
          4475871,
          20151733,
          6172215,
          34781986,
          3619090,
          316955,
          1272748,
          1361999,
          442865,
          28308246,
          2274,
          38416,
          527634,
          4606621,
          50523586,
          46484,
          117891,
          597192,
          528731,
          4800426,
          78294583,
          8861895,
          26685,
          8544873,
          45434,
          98794,
          318310,
          88300,
          5453208,
          52656,
          4222374,
          591663,
          705261,
          4680812,
          2782753,
          3955072,
          10315366,
          204468,
          557501301,
          115228394,
          28449705,
          9811347,
          2937637,
          55298,
          2907307,
          53324036,
          5477086,
          1859091,
          105416839,
          68347,
          1557374,
          12265305,
          11473087,
          57437,
          802786,
          3016384,
          2675283,
          2397414,
          2381791,
          1023481,
          1463563,
          1909177,
          21089,
          3210147,
          339342,
          247284,
          6639751,
          4625141,
          10306508,
          123243,
          6153587,
          315414,
          23969,
          326428,
          1122198,
          830115,
          35383,
          50289306,
          58989,
          3711140,
          24270,
          1293880,
          530268,
          11402,
          15274351,
          8411676,
          27284112,
          754467,
          6663,
          12501285,
          13037686,
          110982,
          2824061,
          2444767,
          4669708,
          55569264,
          5185,
          14996879,
          1656783,
          10143,
          3875546,
          670693,
          59290872,
          11366,
          1118241,
          1516188,
          2489059,
          2408787,
          13562371,
          37435586,
          32482943,
          8683631,
          2737619,
          118007,
          1396989,
          473925,
          19922618,
          130093010,
          3896367,
          2417,
          44968,
          103090,
          5802,
          5537,
          98459,
          142771,
          18169,
          77583,
          6106191,
          4367744,
          7193533,
          54379,
          2778557,
          2061831,
          6260,
          4522867,
          1741286,
          172833,
          3720977,
          22368306,
          32601143,
          3342410,
          33792617,
          12388769,
          11305206,
          379918,
          8027702,
          6181227,
          6319199,
          14957870,
          2993019,
          13618192,
          35791728,
          554021,
          2197383,
          1714,
          86484,
          988890,
          5047404,
          35540990,
          2201432,
          5665,
          5814,
          10317212,
          47279086,
          298084,
          55650166,
          200328340,
          63446,
          2790265,
          12011361,
          87019,
          752,
          11355475,
          41928849,
          9377,
          76371,
          6843607,
          4281671,
          5202918
         ]
        }
       ],
       "frames": [
        {
         "data": [
          {
           "coloraxis": "coloraxis",
           "customdata": [
            [
             "AFG"
            ],
            [
             "ALB"
            ],
            [
             "DZA"
            ],
            [
             "ASM"
            ],
            [
             "AND"
            ],
            [
             "AGO"
            ],
            [
             "AIA"
            ],
            [
             "ATG"
            ],
            [
             "ARG"
            ],
            [
             "ARM"
            ],
            [
             "ABW"
            ],
            [
             "AUS"
            ],
            [
             "AUT"
            ],
            [
             "AZE"
            ],
            [
             "BHS"
            ],
            [
             "BHR"
            ],
            [
             "BGD"
            ],
            [
             "BRB"
            ],
            [
             "BLR"
            ],
            [
             "BEL"
            ],
            [
             "BLZ"
            ],
            [
             "BEN"
            ],
            [
             "BMU"
            ],
            [
             "BTN"
            ],
            [
             "BOL"
            ],
            [
             "BIH"
            ],
            [
             "BWA"
            ],
            [
             "BRA"
            ],
            [
             "VGB"
            ],
            [
             "BRN"
            ],
            [
             "BGR"
            ],
            [
             "BFA"
            ],
            [
             "BDI"
            ],
            [
             "KHM"
            ],
            [
             "CMR"
            ],
            [
             "CAN"
            ],
            [
             "CPV"
            ],
            [
             "CYM"
            ],
            [
             "CAF"
            ],
            [
             "TCD"
            ],
            [
             "CHL"
            ],
            [
             "CHN"
            ],
            [
             "COL"
            ],
            [
             "COM"
            ],
            [
             "COK"
            ],
            [
             "CRI"
            ],
            [
             "HRV"
            ],
            [
             "CUB"
            ],
            [
             "CUW"
            ],
            [
             "CYP"
            ],
            [
             "CZE"
            ],
            [
             "DNK"
            ],
            [
             "DJI"
            ],
            [
             "DMA"
            ],
            [
             "DOM"
            ],
            [
             "COD"
            ],
            [
             "ECU"
            ],
            [
             "EGY"
            ],
            [
             "SLV"
            ],
            [
             "GNQ"
            ],
            [
             "ERI"
            ],
            [
             "EST"
            ],
            [
             "SWZ"
            ],
            [
             "ETH"
            ],
            [
             "FLK"
            ],
            [
             "FRO"
            ],
            [
             "FJI"
            ],
            [
             "FIN"
            ],
            [
             "FRA"
            ],
            [
             "GUF"
            ],
            [
             "PYF"
            ],
            [
             "GAB"
            ],
            [
             "GMB"
            ],
            [
             "GEO"
            ],
            [
             "DEU"
            ],
            [
             "GHA"
            ],
            [
             "GIB"
            ],
            [
             "GRC"
            ],
            [
             "GRL"
            ],
            [
             "GRD"
            ],
            [
             "GLP"
            ],
            [
             "GUM"
            ],
            [
             "GTM"
            ],
            [
             "GGY"
            ],
            [
             "GIN"
            ],
            [
             "GNB"
            ],
            [
             "GUY"
            ],
            [
             "HTI"
            ],
            [
             "HND"
            ],
            [
             "HKG"
            ],
            [
             "HUN"
            ],
            [
             "ISL"
            ],
            [
             "IND"
            ],
            [
             "IDN"
            ],
            [
             "IRN"
            ],
            [
             "IRQ"
            ],
            [
             "IRL"
            ],
            [
             "IMN"
            ],
            [
             "ISR"
            ],
            [
             "ITA"
            ],
            [
             "CIV"
            ],
            [
             "JAM"
            ],
            [
             "JPN"
            ],
            [
             "JEY"
            ],
            [
             "JOR"
            ],
            [
             "KAZ"
            ],
            [
             "KEN"
            ],
            [
             "KIR"
            ],
            [
             "KWT"
            ],
            [
             "KGZ"
            ],
            [
             "LAO"
            ],
            [
             "LVA"
            ],
            [
             "LBN"
            ],
            [
             "LSO"
            ],
            [
             "LBR"
            ],
            [
             "LBY"
            ],
            [
             "LIE"
            ],
            [
             "LTU"
            ],
            [
             "LUX"
            ],
            [
             "MAC"
            ],
            [
             "MDG"
            ],
            [
             "MWI"
            ],
            [
             "MYS"
            ],
            [
             "MDV"
            ],
            [
             "MLI"
            ],
            [
             "MLT"
            ],
            [
             "MHL"
            ],
            [
             "MTQ"
            ],
            [
             "MRT"
            ],
            [
             "MUS"
            ],
            [
             "MYT"
            ],
            [
             "MEX"
            ],
            [
             "FSM"
            ],
            [
             "MDA"
            ],
            [
             "MCO"
            ],
            [
             "MNG"
            ],
            [
             "MNE"
            ],
            [
             "MSR"
            ],
            [
             "MAR"
            ],
            [
             "MOZ"
            ],
            [
             "MMR"
            ],
            [
             "NAM"
            ],
            [
             "NRU"
            ],
            [
             "NPL"
            ],
            [
             "NLD"
            ],
            [
             "NCL"
            ],
            [
             "NZL"
            ],
            [
             "NIC"
            ],
            [
             "NER"
            ],
            [
             "NGA"
            ],
            [
             "NIU"
            ],
            [
             "PRK"
            ],
            [
             "MKD"
            ],
            [
             "NFK"
            ],
            [
             "NOR"
            ],
            [
             "OMN"
            ],
            [
             "PAK"
            ],
            [
             "PLW"
            ],
            [
             "PSE"
            ],
            [
             "PAN"
            ],
            [
             "PNG"
            ],
            [
             "PRY"
            ],
            [
             "PER"
            ],
            [
             "PHL"
            ],
            [
             "POL"
            ],
            [
             "PRT"
            ],
            [
             "PRI"
            ],
            [
             "QAT"
            ],
            [
             "COG"
            ],
            [
             "REU"
            ],
            [
             "ROU"
            ],
            [
             "RUS"
            ],
            [
             "RWA"
            ],
            [
             "BLM"
            ],
            [
             "KNA"
            ],
            [
             "LCA"
            ],
            [
             "MAF"
            ],
            [
             "SPM"
            ],
            [
             "VCT"
            ],
            [
             "WSM"
            ],
            [
             "SMR"
            ],
            [
             "STP"
            ],
            [
             "SAU"
            ],
            [
             "SEN"
            ],
            [
             "SRB"
            ],
            [
             "SYC"
            ],
            [
             "SLE"
            ],
            [
             "SGP"
            ],
            [
             "SXM"
            ],
            [
             "SVK"
            ],
            [
             "SVN"
            ],
            [
             "SLB"
            ],
            [
             "SOM"
            ],
            [
             "ZAF"
            ],
            [
             "KOR"
            ],
            [
             "SSD"
            ],
            [
             "ESP"
            ],
            [
             "LKA"
            ],
            [
             "SDN"
            ],
            [
             "SUR"
            ],
            [
             "SWE"
            ],
            [
             "CHE"
            ],
            [
             "SYR"
            ],
            [
             "TWN"
            ],
            [
             "TJK"
            ],
            [
             "TZA"
            ],
            [
             "THA"
            ],
            [
             "TLS"
            ],
            [
             "TGO"
            ],
            [
             "TKL"
            ],
            [
             "TON"
            ],
            [
             "TTO"
            ],
            [
             "TUN"
            ],
            [
             "TUR"
            ],
            [
             "TKM"
            ],
            [
             "TCA"
            ],
            [
             "TUV"
            ],
            [
             "UGA"
            ],
            [
             "UKR"
            ],
            [
             "ARE"
            ],
            [
             "GBR"
            ],
            [
             "USA"
            ],
            [
             "VIR"
            ],
            [
             "URY"
            ],
            [
             "UZB"
            ],
            [
             "VUT"
            ],
            [
             "VAT"
            ],
            [
             "VEN"
            ],
            [
             "VNM"
            ],
            [
             "WLF"
            ],
            [
             "ESH"
            ],
            [
             "YEM"
            ],
            [
             "ZMB"
            ],
            [
             "ZWE"
            ]
           ],
           "geo": "geo",
           "hovertemplate": "<b>%{hovertext}</b><br><br>Year=1970<br>Population=%{z}<extra></extra>",
           "hovertext": [
            "Afghanistan",
            "Albania",
            "Algeria",
            "American Samoa",
            "Andorra",
            "Angola",
            "Anguilla",
            "Antigua and Barbuda",
            "Argentina",
            "Armenia",
            "Aruba",
            "Australia",
            "Austria",
            "Azerbaijan",
            "Bahamas",
            "Bahrain",
            "Bangladesh",
            "Barbados",
            "Belarus",
            "Belgium",
            "Belize",
            "Benin",
            "Bermuda",
            "Bhutan",
            "Bolivia",
            "Bosnia and Herzegovina",
            "Botswana",
            "Brazil",
            "British Virgin Islands",
            "Brunei",
            "Bulgaria",
            "Burkina Faso",
            "Burundi",
            "Cambodia",
            "Cameroon",
            "Canada",
            "Cape Verde",
            "Cayman Islands",
            "Central African Republic",
            "Chad",
            "Chile",
            "China",
            "Colombia",
            "Comoros",
            "Cook Islands",
            "Costa Rica",
            "Croatia",
            "Cuba",
            "Curacao",
            "Cyprus",
            "Czech Republic",
            "Denmark",
            "Djibouti",
            "Dominica",
            "Dominican Republic",
            "DR Congo",
            "Ecuador",
            "Egypt",
            "El Salvador",
            "Equatorial Guinea",
            "Eritrea",
            "Estonia",
            "Eswatini",
            "Ethiopia",
            "Falkland Islands",
            "Faroe Islands",
            "Fiji",
            "Finland",
            "France",
            "French Guiana",
            "French Polynesia",
            "Gabon",
            "Gambia",
            "Georgia",
            "Germany",
            "Ghana",
            "Gibraltar",
            "Greece",
            "Greenland",
            "Grenada",
            "Guadeloupe",
            "Guam",
            "Guatemala",
            "Guernsey",
            "Guinea",
            "Guinea-Bissau",
            "Guyana",
            "Haiti",
            "Honduras",
            "Hong Kong",
            "Hungary",
            "Iceland",
            "India",
            "Indonesia",
            "Iran",
            "Iraq",
            "Ireland",
            "Isle of Man",
            "Israel",
            "Italy",
            "Ivory Coast",
            "Jamaica",
            "Japan",
            "Jersey",
            "Jordan",
            "Kazakhstan",
            "Kenya",
            "Kiribati",
            "Kuwait",
            "Kyrgyzstan",
            "Laos",
            "Latvia",
            "Lebanon",
            "Lesotho",
            "Liberia",
            "Libya",
            "Liechtenstein",
            "Lithuania",
            "Luxembourg",
            "Macau",
            "Madagascar",
            "Malawi",
            "Malaysia",
            "Maldives",
            "Mali",
            "Malta",
            "Marshall Islands",
            "Martinique",
            "Mauritania",
            "Mauritius",
            "Mayotte",
            "Mexico",
            "Micronesia",
            "Moldova",
            "Monaco",
            "Mongolia",
            "Montenegro",
            "Montserrat",
            "Morocco",
            "Mozambique",
            "Myanmar",
            "Namibia",
            "Nauru",
            "Nepal",
            "Netherlands",
            "New Caledonia",
            "New Zealand",
            "Nicaragua",
            "Niger",
            "Nigeria",
            "Niue",
            "North Korea",
            "North Macedonia",
            "Northern Mariana Islands",
            "Norway",
            "Oman",
            "Pakistan",
            "Palau",
            "Palestine",
            "Panama",
            "Papua New Guinea",
            "Paraguay",
            "Peru",
            "Philippines",
            "Poland",
            "Portugal",
            "Puerto Rico",
            "Qatar",
            "Republic of the Congo",
            "Reunion",
            "Romania",
            "Russia",
            "Rwanda",
            "Saint Barthelemy",
            "Saint Kitts and Nevis",
            "Saint Lucia",
            "Saint Martin",
            "Saint Pierre and Miquelon",
            "Saint Vincent and the Grenadines",
            "Samoa",
            "San Marino",
            "Sao Tome and Principe",
            "Saudi Arabia",
            "Senegal",
            "Serbia",
            "Seychelles",
            "Sierra Leone",
            "Singapore",
            "Sint Maarten",
            "Slovakia",
            "Slovenia",
            "Solomon Islands",
            "Somalia",
            "South Africa",
            "South Korea",
            "South Sudan",
            "Spain",
            "Sri Lanka",
            "Sudan",
            "Suriname",
            "Sweden",
            "Switzerland",
            "Syria",
            "Taiwan",
            "Tajikistan",
            "Tanzania",
            "Thailand",
            "Timor-Leste",
            "Togo",
            "Tokelau",
            "Tonga",
            "Trinidad and Tobago",
            "Tunisia",
            "Turkey",
            "Turkmenistan",
            "Turks and Caicos Islands",
            "Tuvalu",
            "Uganda",
            "Ukraine",
            "United Arab Emirates",
            "United Kingdom",
            "United States",
            "United States Virgin Islands",
            "Uruguay",
            "Uzbekistan",
            "Vanuatu",
            "Vatican City",
            "Venezuela",
            "Vietnam",
            "Wallis and Futuna",
            "Western Sahara",
            "Yemen",
            "Zambia",
            "Zimbabwe"
           ],
           "locationmode": "ISO-3",
           "locations": [
            "AFG",
            "ALB",
            "DZA",
            "ASM",
            "AND",
            "AGO",
            "AIA",
            "ATG",
            "ARG",
            "ARM",
            "ABW",
            "AUS",
            "AUT",
            "AZE",
            "BHS",
            "BHR",
            "BGD",
            "BRB",
            "BLR",
            "BEL",
            "BLZ",
            "BEN",
            "BMU",
            "BTN",
            "BOL",
            "BIH",
            "BWA",
            "BRA",
            "VGB",
            "BRN",
            "BGR",
            "BFA",
            "BDI",
            "KHM",
            "CMR",
            "CAN",
            "CPV",
            "CYM",
            "CAF",
            "TCD",
            "CHL",
            "CHN",
            "COL",
            "COM",
            "COK",
            "CRI",
            "HRV",
            "CUB",
            "CUW",
            "CYP",
            "CZE",
            "DNK",
            "DJI",
            "DMA",
            "DOM",
            "COD",
            "ECU",
            "EGY",
            "SLV",
            "GNQ",
            "ERI",
            "EST",
            "SWZ",
            "ETH",
            "FLK",
            "FRO",
            "FJI",
            "FIN",
            "FRA",
            "GUF",
            "PYF",
            "GAB",
            "GMB",
            "GEO",
            "DEU",
            "GHA",
            "GIB",
            "GRC",
            "GRL",
            "GRD",
            "GLP",
            "GUM",
            "GTM",
            "GGY",
            "GIN",
            "GNB",
            "GUY",
            "HTI",
            "HND",
            "HKG",
            "HUN",
            "ISL",
            "IND",
            "IDN",
            "IRN",
            "IRQ",
            "IRL",
            "IMN",
            "ISR",
            "ITA",
            "CIV",
            "JAM",
            "JPN",
            "JEY",
            "JOR",
            "KAZ",
            "KEN",
            "KIR",
            "KWT",
            "KGZ",
            "LAO",
            "LVA",
            "LBN",
            "LSO",
            "LBR",
            "LBY",
            "LIE",
            "LTU",
            "LUX",
            "MAC",
            "MDG",
            "MWI",
            "MYS",
            "MDV",
            "MLI",
            "MLT",
            "MHL",
            "MTQ",
            "MRT",
            "MUS",
            "MYT",
            "MEX",
            "FSM",
            "MDA",
            "MCO",
            "MNG",
            "MNE",
            "MSR",
            "MAR",
            "MOZ",
            "MMR",
            "NAM",
            "NRU",
            "NPL",
            "NLD",
            "NCL",
            "NZL",
            "NIC",
            "NER",
            "NGA",
            "NIU",
            "PRK",
            "MKD",
            "NFK",
            "NOR",
            "OMN",
            "PAK",
            "PLW",
            "PSE",
            "PAN",
            "PNG",
            "PRY",
            "PER",
            "PHL",
            "POL",
            "PRT",
            "PRI",
            "QAT",
            "COG",
            "REU",
            "ROU",
            "RUS",
            "RWA",
            "BLM",
            "KNA",
            "LCA",
            "MAF",
            "SPM",
            "VCT",
            "WSM",
            "SMR",
            "STP",
            "SAU",
            "SEN",
            "SRB",
            "SYC",
            "SLE",
            "SGP",
            "SXM",
            "SVK",
            "SVN",
            "SLB",
            "SOM",
            "ZAF",
            "KOR",
            "SSD",
            "ESP",
            "LKA",
            "SDN",
            "SUR",
            "SWE",
            "CHE",
            "SYR",
            "TWN",
            "TJK",
            "TZA",
            "THA",
            "TLS",
            "TGO",
            "TKL",
            "TON",
            "TTO",
            "TUN",
            "TUR",
            "TKM",
            "TCA",
            "TUV",
            "UGA",
            "UKR",
            "ARE",
            "GBR",
            "USA",
            "VIR",
            "URY",
            "UZB",
            "VUT",
            "VAT",
            "VEN",
            "VNM",
            "WLF",
            "ESH",
            "YEM",
            "ZMB",
            "ZWE"
           ],
           "name": "",
           "type": "choropleth",
           "z": [
            10752971,
            2324731,
            13795915,
            27075,
            19860,
            6029700,
            6283,
            64516,
            23842803,
            2534377,
            59106,
            12595034,
            7465301,
            5425317,
            179129,
            222555,
            67541860,
            241397,
            9170786,
            9629376,
            120905,
            3023443,
            52019,
            298894,
            4585693,
            3815561,
            592244,
            96369875,
            9581,
            133343,
            8582950,
            5611666,
            3497834,
            6708525,
            6452787,
            21434577,
            287262,
            10533,
            2067356,
            3667394,
            9820481,
            822534450,
            20905254,
            242351,
            20470,
            1855697,
            4492638,
            8869636,
            150385,
            640804,
            9795744,
            4922963,
            144379,
            68895,
            4475871,
            20151733,
            6172215,
            34781986,
            3619090,
            316955,
            1272748,
            1361999,
            442865,
            28308246,
            2274,
            38416,
            527634,
            4606621,
            50523586,
            46484,
            117891,
            597192,
            528731,
            4800426,
            78294583,
            8861895,
            26685,
            8544873,
            45434,
            98794,
            318310,
            88300,
            5453208,
            52656,
            4222374,
            591663,
            705261,
            4680812,
            2782753,
            3955072,
            10315366,
            204468,
            557501301,
            115228394,
            28449705,
            9811347,
            2937637,
            55298,
            2907307,
            53324036,
            5477086,
            1859091,
            105416839,
            68347,
            1557374,
            12265305,
            11473087,
            57437,
            802786,
            3016384,
            2675283,
            2397414,
            2381791,
            1023481,
            1463563,
            1909177,
            21089,
            3210147,
            339342,
            247284,
            6639751,
            4625141,
            10306508,
            123243,
            6153587,
            315414,
            23969,
            326428,
            1122198,
            830115,
            35383,
            50289306,
            58989,
            3711140,
            24270,
            1293880,
            530268,
            11402,
            15274351,
            8411676,
            27284112,
            754467,
            6663,
            12501285,
            13037686,
            110982,
            2824061,
            2444767,
            4669708,
            55569264,
            5185,
            14996879,
            1656783,
            10143,
            3875546,
            670693,
            59290872,
            11366,
            1118241,
            1516188,
            2489059,
            2408787,
            13562371,
            37435586,
            32482943,
            8683631,
            2737619,
            118007,
            1396989,
            473925,
            19922618,
            130093010,
            3896367,
            2417,
            44968,
            103090,
            5802,
            5537,
            98459,
            142771,
            18169,
            77583,
            6106191,
            4367744,
            7193533,
            54379,
            2778557,
            2061831,
            6260,
            4522867,
            1741286,
            172833,
            3720977,
            22368306,
            32601143,
            3342410,
            33792617,
            12388769,
            11305206,
            379918,
            8027702,
            6181227,
            6319199,
            14957870,
            2993019,
            13618192,
            35791728,
            554021,
            2197383,
            1714,
            86484,
            988890,
            5047404,
            35540990,
            2201432,
            5665,
            5814,
            10317212,
            47279086,
            298084,
            55650166,
            200328340,
            63446,
            2790265,
            12011361,
            87019,
            752,
            11355475,
            41928849,
            9377,
            76371,
            6843607,
            4281671,
            5202918
           ]
          }
         ],
         "name": "1970"
        },
        {
         "data": [
          {
           "coloraxis": "coloraxis",
           "customdata": [
            [
             "AFG"
            ],
            [
             "ALB"
            ],
            [
             "DZA"
            ],
            [
             "ASM"
            ],
            [
             "AND"
            ],
            [
             "AGO"
            ],
            [
             "AIA"
            ],
            [
             "ATG"
            ],
            [
             "ARG"
            ],
            [
             "ARM"
            ],
            [
             "ABW"
            ],
            [
             "AUS"
            ],
            [
             "AUT"
            ],
            [
             "AZE"
            ],
            [
             "BHS"
            ],
            [
             "BHR"
            ],
            [
             "BGD"
            ],
            [
             "BRB"
            ],
            [
             "BLR"
            ],
            [
             "BEL"
            ],
            [
             "BLZ"
            ],
            [
             "BEN"
            ],
            [
             "BMU"
            ],
            [
             "BTN"
            ],
            [
             "BOL"
            ],
            [
             "BIH"
            ],
            [
             "BWA"
            ],
            [
             "BRA"
            ],
            [
             "VGB"
            ],
            [
             "BRN"
            ],
            [
             "BGR"
            ],
            [
             "BFA"
            ],
            [
             "BDI"
            ],
            [
             "KHM"
            ],
            [
             "CMR"
            ],
            [
             "CAN"
            ],
            [
             "CPV"
            ],
            [
             "CYM"
            ],
            [
             "CAF"
            ],
            [
             "TCD"
            ],
            [
             "CHL"
            ],
            [
             "CHN"
            ],
            [
             "COL"
            ],
            [
             "COM"
            ],
            [
             "COK"
            ],
            [
             "CRI"
            ],
            [
             "HRV"
            ],
            [
             "CUB"
            ],
            [
             "CUW"
            ],
            [
             "CYP"
            ],
            [
             "CZE"
            ],
            [
             "DNK"
            ],
            [
             "DJI"
            ],
            [
             "DMA"
            ],
            [
             "DOM"
            ],
            [
             "COD"
            ],
            [
             "ECU"
            ],
            [
             "EGY"
            ],
            [
             "SLV"
            ],
            [
             "GNQ"
            ],
            [
             "ERI"
            ],
            [
             "EST"
            ],
            [
             "SWZ"
            ],
            [
             "ETH"
            ],
            [
             "FLK"
            ],
            [
             "FRO"
            ],
            [
             "FJI"
            ],
            [
             "FIN"
            ],
            [
             "FRA"
            ],
            [
             "GUF"
            ],
            [
             "PYF"
            ],
            [
             "GAB"
            ],
            [
             "GMB"
            ],
            [
             "GEO"
            ],
            [
             "DEU"
            ],
            [
             "GHA"
            ],
            [
             "GIB"
            ],
            [
             "GRC"
            ],
            [
             "GRL"
            ],
            [
             "GRD"
            ],
            [
             "GLP"
            ],
            [
             "GUM"
            ],
            [
             "GTM"
            ],
            [
             "GGY"
            ],
            [
             "GIN"
            ],
            [
             "GNB"
            ],
            [
             "GUY"
            ],
            [
             "HTI"
            ],
            [
             "HND"
            ],
            [
             "HKG"
            ],
            [
             "HUN"
            ],
            [
             "ISL"
            ],
            [
             "IND"
            ],
            [
             "IDN"
            ],
            [
             "IRN"
            ],
            [
             "IRQ"
            ],
            [
             "IRL"
            ],
            [
             "IMN"
            ],
            [
             "ISR"
            ],
            [
             "ITA"
            ],
            [
             "CIV"
            ],
            [
             "JAM"
            ],
            [
             "JPN"
            ],
            [
             "JEY"
            ],
            [
             "JOR"
            ],
            [
             "KAZ"
            ],
            [
             "KEN"
            ],
            [
             "KIR"
            ],
            [
             "KWT"
            ],
            [
             "KGZ"
            ],
            [
             "LAO"
            ],
            [
             "LVA"
            ],
            [
             "LBN"
            ],
            [
             "LSO"
            ],
            [
             "LBR"
            ],
            [
             "LBY"
            ],
            [
             "LIE"
            ],
            [
             "LTU"
            ],
            [
             "LUX"
            ],
            [
             "MAC"
            ],
            [
             "MDG"
            ],
            [
             "MWI"
            ],
            [
             "MYS"
            ],
            [
             "MDV"
            ],
            [
             "MLI"
            ],
            [
             "MLT"
            ],
            [
             "MHL"
            ],
            [
             "MTQ"
            ],
            [
             "MRT"
            ],
            [
             "MUS"
            ],
            [
             "MYT"
            ],
            [
             "MEX"
            ],
            [
             "FSM"
            ],
            [
             "MDA"
            ],
            [
             "MCO"
            ],
            [
             "MNG"
            ],
            [
             "MNE"
            ],
            [
             "MSR"
            ],
            [
             "MAR"
            ],
            [
             "MOZ"
            ],
            [
             "MMR"
            ],
            [
             "NAM"
            ],
            [
             "NRU"
            ],
            [
             "NPL"
            ],
            [
             "NLD"
            ],
            [
             "NCL"
            ],
            [
             "NZL"
            ],
            [
             "NIC"
            ],
            [
             "NER"
            ],
            [
             "NGA"
            ],
            [
             "NIU"
            ],
            [
             "PRK"
            ],
            [
             "MKD"
            ],
            [
             "NFK"
            ],
            [
             "NOR"
            ],
            [
             "OMN"
            ],
            [
             "PAK"
            ],
            [
             "PLW"
            ],
            [
             "PSE"
            ],
            [
             "PAN"
            ],
            [
             "PNG"
            ],
            [
             "PRY"
            ],
            [
             "PER"
            ],
            [
             "PHL"
            ],
            [
             "POL"
            ],
            [
             "PRT"
            ],
            [
             "PRI"
            ],
            [
             "QAT"
            ],
            [
             "COG"
            ],
            [
             "REU"
            ],
            [
             "ROU"
            ],
            [
             "RUS"
            ],
            [
             "RWA"
            ],
            [
             "BLM"
            ],
            [
             "KNA"
            ],
            [
             "LCA"
            ],
            [
             "MAF"
            ],
            [
             "SPM"
            ],
            [
             "VCT"
            ],
            [
             "WSM"
            ],
            [
             "SMR"
            ],
            [
             "STP"
            ],
            [
             "SAU"
            ],
            [
             "SEN"
            ],
            [
             "SRB"
            ],
            [
             "SYC"
            ],
            [
             "SLE"
            ],
            [
             "SGP"
            ],
            [
             "SXM"
            ],
            [
             "SVK"
            ],
            [
             "SVN"
            ],
            [
             "SLB"
            ],
            [
             "SOM"
            ],
            [
             "ZAF"
            ],
            [
             "KOR"
            ],
            [
             "SSD"
            ],
            [
             "ESP"
            ],
            [
             "LKA"
            ],
            [
             "SDN"
            ],
            [
             "SUR"
            ],
            [
             "SWE"
            ],
            [
             "CHE"
            ],
            [
             "SYR"
            ],
            [
             "TWN"
            ],
            [
             "TJK"
            ],
            [
             "TZA"
            ],
            [
             "THA"
            ],
            [
             "TLS"
            ],
            [
             "TGO"
            ],
            [
             "TKL"
            ],
            [
             "TON"
            ],
            [
             "TTO"
            ],
            [
             "TUN"
            ],
            [
             "TUR"
            ],
            [
             "TKM"
            ],
            [
             "TCA"
            ],
            [
             "TUV"
            ],
            [
             "UGA"
            ],
            [
             "UKR"
            ],
            [
             "ARE"
            ],
            [
             "GBR"
            ],
            [
             "USA"
            ],
            [
             "VIR"
            ],
            [
             "URY"
            ],
            [
             "UZB"
            ],
            [
             "VUT"
            ],
            [
             "VAT"
            ],
            [
             "VEN"
            ],
            [
             "VNM"
            ],
            [
             "WLF"
            ],
            [
             "ESH"
            ],
            [
             "YEM"
            ],
            [
             "ZMB"
            ],
            [
             "ZWE"
            ]
           ],
           "geo": "geo",
           "hovertemplate": "<b>%{hovertext}</b><br><br>Year=1980<br>Population=%{z}<extra></extra>",
           "hovertext": [
            "Afghanistan",
            "Albania",
            "Algeria",
            "American Samoa",
            "Andorra",
            "Angola",
            "Anguilla",
            "Antigua and Barbuda",
            "Argentina",
            "Armenia",
            "Aruba",
            "Australia",
            "Austria",
            "Azerbaijan",
            "Bahamas",
            "Bahrain",
            "Bangladesh",
            "Barbados",
            "Belarus",
            "Belgium",
            "Belize",
            "Benin",
            "Bermuda",
            "Bhutan",
            "Bolivia",
            "Bosnia and Herzegovina",
            "Botswana",
            "Brazil",
            "British Virgin Islands",
            "Brunei",
            "Bulgaria",
            "Burkina Faso",
            "Burundi",
            "Cambodia",
            "Cameroon",
            "Canada",
            "Cape Verde",
            "Cayman Islands",
            "Central African Republic",
            "Chad",
            "Chile",
            "China",
            "Colombia",
            "Comoros",
            "Cook Islands",
            "Costa Rica",
            "Croatia",
            "Cuba",
            "Curacao",
            "Cyprus",
            "Czech Republic",
            "Denmark",
            "Djibouti",
            "Dominica",
            "Dominican Republic",
            "DR Congo",
            "Ecuador",
            "Egypt",
            "El Salvador",
            "Equatorial Guinea",
            "Eritrea",
            "Estonia",
            "Eswatini",
            "Ethiopia",
            "Falkland Islands",
            "Faroe Islands",
            "Fiji",
            "Finland",
            "France",
            "French Guiana",
            "French Polynesia",
            "Gabon",
            "Gambia",
            "Georgia",
            "Germany",
            "Ghana",
            "Gibraltar",
            "Greece",
            "Greenland",
            "Grenada",
            "Guadeloupe",
            "Guam",
            "Guatemala",
            "Guernsey",
            "Guinea",
            "Guinea-Bissau",
            "Guyana",
            "Haiti",
            "Honduras",
            "Hong Kong",
            "Hungary",
            "Iceland",
            "India",
            "Indonesia",
            "Iran",
            "Iraq",
            "Ireland",
            "Isle of Man",
            "Israel",
            "Italy",
            "Ivory Coast",
            "Jamaica",
            "Japan",
            "Jersey",
            "Jordan",
            "Kazakhstan",
            "Kenya",
            "Kiribati",
            "Kuwait",
            "Kyrgyzstan",
            "Laos",
            "Latvia",
            "Lebanon",
            "Lesotho",
            "Liberia",
            "Libya",
            "Liechtenstein",
            "Lithuania",
            "Luxembourg",
            "Macau",
            "Madagascar",
            "Malawi",
            "Malaysia",
            "Maldives",
            "Mali",
            "Malta",
            "Marshall Islands",
            "Martinique",
            "Mauritania",
            "Mauritius",
            "Mayotte",
            "Mexico",
            "Micronesia",
            "Moldova",
            "Monaco",
            "Mongolia",
            "Montenegro",
            "Montserrat",
            "Morocco",
            "Mozambique",
            "Myanmar",
            "Namibia",
            "Nauru",
            "Nepal",
            "Netherlands",
            "New Caledonia",
            "New Zealand",
            "Nicaragua",
            "Niger",
            "Nigeria",
            "Niue",
            "North Korea",
            "North Macedonia",
            "Northern Mariana Islands",
            "Norway",
            "Oman",
            "Pakistan",
            "Palau",
            "Palestine",
            "Panama",
            "Papua New Guinea",
            "Paraguay",
            "Peru",
            "Philippines",
            "Poland",
            "Portugal",
            "Puerto Rico",
            "Qatar",
            "Republic of the Congo",
            "Reunion",
            "Romania",
            "Russia",
            "Rwanda",
            "Saint Barthelemy",
            "Saint Kitts and Nevis",
            "Saint Lucia",
            "Saint Martin",
            "Saint Pierre and Miquelon",
            "Saint Vincent and the Grenadines",
            "Samoa",
            "San Marino",
            "Sao Tome and Principe",
            "Saudi Arabia",
            "Senegal",
            "Serbia",
            "Seychelles",
            "Sierra Leone",
            "Singapore",
            "Sint Maarten",
            "Slovakia",
            "Slovenia",
            "Solomon Islands",
            "Somalia",
            "South Africa",
            "South Korea",
            "South Sudan",
            "Spain",
            "Sri Lanka",
            "Sudan",
            "Suriname",
            "Sweden",
            "Switzerland",
            "Syria",
            "Taiwan",
            "Tajikistan",
            "Tanzania",
            "Thailand",
            "Timor-Leste",
            "Togo",
            "Tokelau",
            "Tonga",
            "Trinidad and Tobago",
            "Tunisia",
            "Turkey",
            "Turkmenistan",
            "Turks and Caicos Islands",
            "Tuvalu",
            "Uganda",
            "Ukraine",
            "United Arab Emirates",
            "United Kingdom",
            "United States",
            "United States Virgin Islands",
            "Uruguay",
            "Uzbekistan",
            "Vanuatu",
            "Vatican City",
            "Venezuela",
            "Vietnam",
            "Wallis and Futuna",
            "Western Sahara",
            "Yemen",
            "Zambia",
            "Zimbabwe"
           ],
           "locationmode": "ISO-3",
           "locations": [
            "AFG",
            "ALB",
            "DZA",
            "ASM",
            "AND",
            "AGO",
            "AIA",
            "ATG",
            "ARG",
            "ARM",
            "ABW",
            "AUS",
            "AUT",
            "AZE",
            "BHS",
            "BHR",
            "BGD",
            "BRB",
            "BLR",
            "BEL",
            "BLZ",
            "BEN",
            "BMU",
            "BTN",
            "BOL",
            "BIH",
            "BWA",
            "BRA",
            "VGB",
            "BRN",
            "BGR",
            "BFA",
            "BDI",
            "KHM",
            "CMR",
            "CAN",
            "CPV",
            "CYM",
            "CAF",
            "TCD",
            "CHL",
            "CHN",
            "COL",
            "COM",
            "COK",
            "CRI",
            "HRV",
            "CUB",
            "CUW",
            "CYP",
            "CZE",
            "DNK",
            "DJI",
            "DMA",
            "DOM",
            "COD",
            "ECU",
            "EGY",
            "SLV",
            "GNQ",
            "ERI",
            "EST",
            "SWZ",
            "ETH",
            "FLK",
            "FRO",
            "FJI",
            "FIN",
            "FRA",
            "GUF",
            "PYF",
            "GAB",
            "GMB",
            "GEO",
            "DEU",
            "GHA",
            "GIB",
            "GRC",
            "GRL",
            "GRD",
            "GLP",
            "GUM",
            "GTM",
            "GGY",
            "GIN",
            "GNB",
            "GUY",
            "HTI",
            "HND",
            "HKG",
            "HUN",
            "ISL",
            "IND",
            "IDN",
            "IRN",
            "IRQ",
            "IRL",
            "IMN",
            "ISR",
            "ITA",
            "CIV",
            "JAM",
            "JPN",
            "JEY",
            "JOR",
            "KAZ",
            "KEN",
            "KIR",
            "KWT",
            "KGZ",
            "LAO",
            "LVA",
            "LBN",
            "LSO",
            "LBR",
            "LBY",
            "LIE",
            "LTU",
            "LUX",
            "MAC",
            "MDG",
            "MWI",
            "MYS",
            "MDV",
            "MLI",
            "MLT",
            "MHL",
            "MTQ",
            "MRT",
            "MUS",
            "MYT",
            "MEX",
            "FSM",
            "MDA",
            "MCO",
            "MNG",
            "MNE",
            "MSR",
            "MAR",
            "MOZ",
            "MMR",
            "NAM",
            "NRU",
            "NPL",
            "NLD",
            "NCL",
            "NZL",
            "NIC",
            "NER",
            "NGA",
            "NIU",
            "PRK",
            "MKD",
            "NFK",
            "NOR",
            "OMN",
            "PAK",
            "PLW",
            "PSE",
            "PAN",
            "PNG",
            "PRY",
            "PER",
            "PHL",
            "POL",
            "PRT",
            "PRI",
            "QAT",
            "COG",
            "REU",
            "ROU",
            "RUS",
            "RWA",
            "BLM",
            "KNA",
            "LCA",
            "MAF",
            "SPM",
            "VCT",
            "WSM",
            "SMR",
            "STP",
            "SAU",
            "SEN",
            "SRB",
            "SYC",
            "SLE",
            "SGP",
            "SXM",
            "SVK",
            "SVN",
            "SLB",
            "SOM",
            "ZAF",
            "KOR",
            "SSD",
            "ESP",
            "LKA",
            "SDN",
            "SUR",
            "SWE",
            "CHE",
            "SYR",
            "TWN",
            "TJK",
            "TZA",
            "THA",
            "TLS",
            "TGO",
            "TKL",
            "TON",
            "TTO",
            "TUN",
            "TUR",
            "TKM",
            "TCA",
            "TUV",
            "UGA",
            "UKR",
            "ARE",
            "GBR",
            "USA",
            "VIR",
            "URY",
            "UZB",
            "VUT",
            "VAT",
            "VEN",
            "VNM",
            "WLF",
            "ESH",
            "YEM",
            "ZMB",
            "ZWE"
           ],
           "name": "",
           "type": "choropleth",
           "z": [
            12486631,
            2941651,
            18739378,
            32886,
            35611,
            8330047,
            6560,
            64888,
            28024803,
            3135123,
            62267,
            14706322,
            7547561,
            6383060,
            223752,
            362595,
            83929765,
            253575,
            9817257,
            9828986,
            145133,
            3833939,
            53565,
            415257,
            5736088,
            4199820,
            938578,
            122288383,
            11109,
            187921,
            8980606,
            6932967,
            4312834,
            6198959,
            8519891,
            24511510,
            317234,
            17100,
            2415276,
            4408230,
            11469828,
            982372466,
            26176195,
            328328,
            17651,
            2414303,
            4680144,
            9809107,
            156851,
            679327,
            10270060,
            5125392,
            324121,
            72978,
            5755800,
            26708686,
            8135845,
            43748556,
            4508992,
            282509,
            1657982,
            1476983,
            598564,
            34945469,
            2240,
            43054,
            644582,
            4779418,
            53713830,
            66825,
            163591,
            749078,
            718586,
            5145843,
            77786703,
            11865246,
            28734,
            9307148,
            50106,
            94838,
            334234,
            110286,
            6987767,
            52860,
            4972609,
            831462,
            778176,
            5646676,
            3777990,
            4978544,
            10698679,
            228263,
            696828385,
            148177096,
            38520664,
            13653369,
            3391387,
            64022,
            3744608,
            56329482,
            8303809,
            2135546,
            117624196,
            75124,
            2216903,
            14172710,
            16187124,
            60813,
            1493870,
            3691209,
            3297519,
            2572037,
            2963702,
            1407672,
            1932169,
            2962720,
            25003,
            3521206,
            363741,
            245332,
            8948162,
            6267369,
            13215707,
            164887,
            7372581,
            333587,
            31988,
            333786,
            1506694,
            954865,
            52233,
            67705186,
            76299,
            4103240,
            27076,
            1697780,
            589324,
            11452,
            19678444,
            11413587,
            33465781,
            975994,
            7635,
            15600442,
            14130387,
            148599,
            3147168,
            3303309,
            6173177,
            72951439,
            3637,
            17973650,
            1907023,
            17613,
            4085776,
            1017462,
            80624057,
            12252,
            1453620,
            1956987,
            3104788,
            3078912,
            17492406,
            48419546,
            35521429,
            9785252,
            3214568,
            277450,
            1829256,
            551674,
            22125224,
            138257420,
            5247532,
            2983,
            43097,
            121633,
            7776,
            6106,
            107480,
            164905,
            21346,
            97210,
            10171710,
            5703869,
            7777010,
            65290,
            3367477,
            2400729,
            12243,
            4973883,
            1901570,
            233668,
            5892224,
            29463549,
            38170501,
            4192011,
            37491666,
            14943645,
            16673586,
            375112,
            8311763,
            6319113,
            8898954,
            18100281,
            4045965,
            19297659,
            45737753,
            642224,
            2838110,
            1647,
            96708,
            1127852,
            6578156,
            44089069,
            2862903,
            7598,
            7731,
            13284026,
            49973920,
            1014048,
            56326328,
            223140018,
            96640,
            2953750,
            15947129,
            118156,
            733,
            15210443,
            52968270,
            11315,
            116775,
            9204938,
            5720438,
            7049926
           ]
          }
         ],
         "name": "1980"
        },
        {
         "data": [
          {
           "coloraxis": "coloraxis",
           "customdata": [
            [
             "AFG"
            ],
            [
             "ALB"
            ],
            [
             "DZA"
            ],
            [
             "ASM"
            ],
            [
             "AND"
            ],
            [
             "AGO"
            ],
            [
             "AIA"
            ],
            [
             "ATG"
            ],
            [
             "ARG"
            ],
            [
             "ARM"
            ],
            [
             "ABW"
            ],
            [
             "AUS"
            ],
            [
             "AUT"
            ],
            [
             "AZE"
            ],
            [
             "BHS"
            ],
            [
             "BHR"
            ],
            [
             "BGD"
            ],
            [
             "BRB"
            ],
            [
             "BLR"
            ],
            [
             "BEL"
            ],
            [
             "BLZ"
            ],
            [
             "BEN"
            ],
            [
             "BMU"
            ],
            [
             "BTN"
            ],
            [
             "BOL"
            ],
            [
             "BIH"
            ],
            [
             "BWA"
            ],
            [
             "BRA"
            ],
            [
             "VGB"
            ],
            [
             "BRN"
            ],
            [
             "BGR"
            ],
            [
             "BFA"
            ],
            [
             "BDI"
            ],
            [
             "KHM"
            ],
            [
             "CMR"
            ],
            [
             "CAN"
            ],
            [
             "CPV"
            ],
            [
             "CYM"
            ],
            [
             "CAF"
            ],
            [
             "TCD"
            ],
            [
             "CHL"
            ],
            [
             "CHN"
            ],
            [
             "COL"
            ],
            [
             "COM"
            ],
            [
             "COK"
            ],
            [
             "CRI"
            ],
            [
             "HRV"
            ],
            [
             "CUB"
            ],
            [
             "CUW"
            ],
            [
             "CYP"
            ],
            [
             "CZE"
            ],
            [
             "DNK"
            ],
            [
             "DJI"
            ],
            [
             "DMA"
            ],
            [
             "DOM"
            ],
            [
             "COD"
            ],
            [
             "ECU"
            ],
            [
             "EGY"
            ],
            [
             "SLV"
            ],
            [
             "GNQ"
            ],
            [
             "ERI"
            ],
            [
             "EST"
            ],
            [
             "SWZ"
            ],
            [
             "ETH"
            ],
            [
             "FLK"
            ],
            [
             "FRO"
            ],
            [
             "FJI"
            ],
            [
             "FIN"
            ],
            [
             "FRA"
            ],
            [
             "GUF"
            ],
            [
             "PYF"
            ],
            [
             "GAB"
            ],
            [
             "GMB"
            ],
            [
             "GEO"
            ],
            [
             "DEU"
            ],
            [
             "GHA"
            ],
            [
             "GIB"
            ],
            [
             "GRC"
            ],
            [
             "GRL"
            ],
            [
             "GRD"
            ],
            [
             "GLP"
            ],
            [
             "GUM"
            ],
            [
             "GTM"
            ],
            [
             "GGY"
            ],
            [
             "GIN"
            ],
            [
             "GNB"
            ],
            [
             "GUY"
            ],
            [
             "HTI"
            ],
            [
             "HND"
            ],
            [
             "HKG"
            ],
            [
             "HUN"
            ],
            [
             "ISL"
            ],
            [
             "IND"
            ],
            [
             "IDN"
            ],
            [
             "IRN"
            ],
            [
             "IRQ"
            ],
            [
             "IRL"
            ],
            [
             "IMN"
            ],
            [
             "ISR"
            ],
            [
             "ITA"
            ],
            [
             "CIV"
            ],
            [
             "JAM"
            ],
            [
             "JPN"
            ],
            [
             "JEY"
            ],
            [
             "JOR"
            ],
            [
             "KAZ"
            ],
            [
             "KEN"
            ],
            [
             "KIR"
            ],
            [
             "KWT"
            ],
            [
             "KGZ"
            ],
            [
             "LAO"
            ],
            [
             "LVA"
            ],
            [
             "LBN"
            ],
            [
             "LSO"
            ],
            [
             "LBR"
            ],
            [
             "LBY"
            ],
            [
             "LIE"
            ],
            [
             "LTU"
            ],
            [
             "LUX"
            ],
            [
             "MAC"
            ],
            [
             "MDG"
            ],
            [
             "MWI"
            ],
            [
             "MYS"
            ],
            [
             "MDV"
            ],
            [
             "MLI"
            ],
            [
             "MLT"
            ],
            [
             "MHL"
            ],
            [
             "MTQ"
            ],
            [
             "MRT"
            ],
            [
             "MUS"
            ],
            [
             "MYT"
            ],
            [
             "MEX"
            ],
            [
             "FSM"
            ],
            [
             "MDA"
            ],
            [
             "MCO"
            ],
            [
             "MNG"
            ],
            [
             "MNE"
            ],
            [
             "MSR"
            ],
            [
             "MAR"
            ],
            [
             "MOZ"
            ],
            [
             "MMR"
            ],
            [
             "NAM"
            ],
            [
             "NRU"
            ],
            [
             "NPL"
            ],
            [
             "NLD"
            ],
            [
             "NCL"
            ],
            [
             "NZL"
            ],
            [
             "NIC"
            ],
            [
             "NER"
            ],
            [
             "NGA"
            ],
            [
             "NIU"
            ],
            [
             "PRK"
            ],
            [
             "MKD"
            ],
            [
             "NFK"
            ],
            [
             "NOR"
            ],
            [
             "OMN"
            ],
            [
             "PAK"
            ],
            [
             "PLW"
            ],
            [
             "PSE"
            ],
            [
             "PAN"
            ],
            [
             "PNG"
            ],
            [
             "PRY"
            ],
            [
             "PER"
            ],
            [
             "PHL"
            ],
            [
             "POL"
            ],
            [
             "PRT"
            ],
            [
             "PRI"
            ],
            [
             "QAT"
            ],
            [
             "COG"
            ],
            [
             "REU"
            ],
            [
             "ROU"
            ],
            [
             "RUS"
            ],
            [
             "RWA"
            ],
            [
             "BLM"
            ],
            [
             "KNA"
            ],
            [
             "LCA"
            ],
            [
             "MAF"
            ],
            [
             "SPM"
            ],
            [
             "VCT"
            ],
            [
             "WSM"
            ],
            [
             "SMR"
            ],
            [
             "STP"
            ],
            [
             "SAU"
            ],
            [
             "SEN"
            ],
            [
             "SRB"
            ],
            [
             "SYC"
            ],
            [
             "SLE"
            ],
            [
             "SGP"
            ],
            [
             "SXM"
            ],
            [
             "SVK"
            ],
            [
             "SVN"
            ],
            [
             "SLB"
            ],
            [
             "SOM"
            ],
            [
             "ZAF"
            ],
            [
             "KOR"
            ],
            [
             "SSD"
            ],
            [
             "ESP"
            ],
            [
             "LKA"
            ],
            [
             "SDN"
            ],
            [
             "SUR"
            ],
            [
             "SWE"
            ],
            [
             "CHE"
            ],
            [
             "SYR"
            ],
            [
             "TWN"
            ],
            [
             "TJK"
            ],
            [
             "TZA"
            ],
            [
             "THA"
            ],
            [
             "TLS"
            ],
            [
             "TGO"
            ],
            [
             "TKL"
            ],
            [
             "TON"
            ],
            [
             "TTO"
            ],
            [
             "TUN"
            ],
            [
             "TUR"
            ],
            [
             "TKM"
            ],
            [
             "TCA"
            ],
            [
             "TUV"
            ],
            [
             "UGA"
            ],
            [
             "UKR"
            ],
            [
             "ARE"
            ],
            [
             "GBR"
            ],
            [
             "USA"
            ],
            [
             "VIR"
            ],
            [
             "URY"
            ],
            [
             "UZB"
            ],
            [
             "VUT"
            ],
            [
             "VAT"
            ],
            [
             "VEN"
            ],
            [
             "VNM"
            ],
            [
             "WLF"
            ],
            [
             "ESH"
            ],
            [
             "YEM"
            ],
            [
             "ZMB"
            ],
            [
             "ZWE"
            ]
           ],
           "geo": "geo",
           "hovertemplate": "<b>%{hovertext}</b><br><br>Year=1990<br>Population=%{z}<extra></extra>",
           "hovertext": [
            "Afghanistan",
            "Albania",
            "Algeria",
            "American Samoa",
            "Andorra",
            "Angola",
            "Anguilla",
            "Antigua and Barbuda",
            "Argentina",
            "Armenia",
            "Aruba",
            "Australia",
            "Austria",
            "Azerbaijan",
            "Bahamas",
            "Bahrain",
            "Bangladesh",
            "Barbados",
            "Belarus",
            "Belgium",
            "Belize",
            "Benin",
            "Bermuda",
            "Bhutan",
            "Bolivia",
            "Bosnia and Herzegovina",
            "Botswana",
            "Brazil",
            "British Virgin Islands",
            "Brunei",
            "Bulgaria",
            "Burkina Faso",
            "Burundi",
            "Cambodia",
            "Cameroon",
            "Canada",
            "Cape Verde",
            "Cayman Islands",
            "Central African Republic",
            "Chad",
            "Chile",
            "China",
            "Colombia",
            "Comoros",
            "Cook Islands",
            "Costa Rica",
            "Croatia",
            "Cuba",
            "Curacao",
            "Cyprus",
            "Czech Republic",
            "Denmark",
            "Djibouti",
            "Dominica",
            "Dominican Republic",
            "DR Congo",
            "Ecuador",
            "Egypt",
            "El Salvador",
            "Equatorial Guinea",
            "Eritrea",
            "Estonia",
            "Eswatini",
            "Ethiopia",
            "Falkland Islands",
            "Faroe Islands",
            "Fiji",
            "Finland",
            "France",
            "French Guiana",
            "French Polynesia",
            "Gabon",
            "Gambia",
            "Georgia",
            "Germany",
            "Ghana",
            "Gibraltar",
            "Greece",
            "Greenland",
            "Grenada",
            "Guadeloupe",
            "Guam",
            "Guatemala",
            "Guernsey",
            "Guinea",
            "Guinea-Bissau",
            "Guyana",
            "Haiti",
            "Honduras",
            "Hong Kong",
            "Hungary",
            "Iceland",
            "India",
            "Indonesia",
            "Iran",
            "Iraq",
            "Ireland",
            "Isle of Man",
            "Israel",
            "Italy",
            "Ivory Coast",
            "Jamaica",
            "Japan",
            "Jersey",
            "Jordan",
            "Kazakhstan",
            "Kenya",
            "Kiribati",
            "Kuwait",
            "Kyrgyzstan",
            "Laos",
            "Latvia",
            "Lebanon",
            "Lesotho",
            "Liberia",
            "Libya",
            "Liechtenstein",
            "Lithuania",
            "Luxembourg",
            "Macau",
            "Madagascar",
            "Malawi",
            "Malaysia",
            "Maldives",
            "Mali",
            "Malta",
            "Marshall Islands",
            "Martinique",
            "Mauritania",
            "Mauritius",
            "Mayotte",
            "Mexico",
            "Micronesia",
            "Moldova",
            "Monaco",
            "Mongolia",
            "Montenegro",
            "Montserrat",
            "Morocco",
            "Mozambique",
            "Myanmar",
            "Namibia",
            "Nauru",
            "Nepal",
            "Netherlands",
            "New Caledonia",
            "New Zealand",
            "Nicaragua",
            "Niger",
            "Nigeria",
            "Niue",
            "North Korea",
            "North Macedonia",
            "Northern Mariana Islands",
            "Norway",
            "Oman",
            "Pakistan",
            "Palau",
            "Palestine",
            "Panama",
            "Papua New Guinea",
            "Paraguay",
            "Peru",
            "Philippines",
            "Poland",
            "Portugal",
            "Puerto Rico",
            "Qatar",
            "Republic of the Congo",
            "Reunion",
            "Romania",
            "Russia",
            "Rwanda",
            "Saint Barthelemy",
            "Saint Kitts and Nevis",
            "Saint Lucia",
            "Saint Martin",
            "Saint Pierre and Miquelon",
            "Saint Vincent and the Grenadines",
            "Samoa",
            "San Marino",
            "Sao Tome and Principe",
            "Saudi Arabia",
            "Senegal",
            "Serbia",
            "Seychelles",
            "Sierra Leone",
            "Singapore",
            "Sint Maarten",
            "Slovakia",
            "Slovenia",
            "Solomon Islands",
            "Somalia",
            "South Africa",
            "South Korea",
            "South Sudan",
            "Spain",
            "Sri Lanka",
            "Sudan",
            "Suriname",
            "Sweden",
            "Switzerland",
            "Syria",
            "Taiwan",
            "Tajikistan",
            "Tanzania",
            "Thailand",
            "Timor-Leste",
            "Togo",
            "Tokelau",
            "Tonga",
            "Trinidad and Tobago",
            "Tunisia",
            "Turkey",
            "Turkmenistan",
            "Turks and Caicos Islands",
            "Tuvalu",
            "Uganda",
            "Ukraine",
            "United Arab Emirates",
            "United Kingdom",
            "United States",
            "United States Virgin Islands",
            "Uruguay",
            "Uzbekistan",
            "Vanuatu",
            "Vatican City",
            "Venezuela",
            "Vietnam",
            "Wallis and Futuna",
            "Western Sahara",
            "Yemen",
            "Zambia",
            "Zimbabwe"
           ],
           "locationmode": "ISO-3",
           "locations": [
            "AFG",
            "ALB",
            "DZA",
            "ASM",
            "AND",
            "AGO",
            "AIA",
            "ATG",
            "ARG",
            "ARM",
            "ABW",
            "AUS",
            "AUT",
            "AZE",
            "BHS",
            "BHR",
            "BGD",
            "BRB",
            "BLR",
            "BEL",
            "BLZ",
            "BEN",
            "BMU",
            "BTN",
            "BOL",
            "BIH",
            "BWA",
            "BRA",
            "VGB",
            "BRN",
            "BGR",
            "BFA",
            "BDI",
            "KHM",
            "CMR",
            "CAN",
            "CPV",
            "CYM",
            "CAF",
            "TCD",
            "CHL",
            "CHN",
            "COL",
            "COM",
            "COK",
            "CRI",
            "HRV",
            "CUB",
            "CUW",
            "CYP",
            "CZE",
            "DNK",
            "DJI",
            "DMA",
            "DOM",
            "COD",
            "ECU",
            "EGY",
            "SLV",
            "GNQ",
            "ERI",
            "EST",
            "SWZ",
            "ETH",
            "FLK",
            "FRO",
            "FJI",
            "FIN",
            "FRA",
            "GUF",
            "PYF",
            "GAB",
            "GMB",
            "GEO",
            "DEU",
            "GHA",
            "GIB",
            "GRC",
            "GRL",
            "GRD",
            "GLP",
            "GUM",
            "GTM",
            "GGY",
            "GIN",
            "GNB",
            "GUY",
            "HTI",
            "HND",
            "HKG",
            "HUN",
            "ISL",
            "IND",
            "IDN",
            "IRN",
            "IRQ",
            "IRL",
            "IMN",
            "ISR",
            "ITA",
            "CIV",
            "JAM",
            "JPN",
            "JEY",
            "JOR",
            "KAZ",
            "KEN",
            "KIR",
            "KWT",
            "KGZ",
            "LAO",
            "LVA",
            "LBN",
            "LSO",
            "LBR",
            "LBY",
            "LIE",
            "LTU",
            "LUX",
            "MAC",
            "MDG",
            "MWI",
            "MYS",
            "MDV",
            "MLI",
            "MLT",
            "MHL",
            "MTQ",
            "MRT",
            "MUS",
            "MYT",
            "MEX",
            "FSM",
            "MDA",
            "MCO",
            "MNG",
            "MNE",
            "MSR",
            "MAR",
            "MOZ",
            "MMR",
            "NAM",
            "NRU",
            "NPL",
            "NLD",
            "NCL",
            "NZL",
            "NIC",
            "NER",
            "NGA",
            "NIU",
            "PRK",
            "MKD",
            "NFK",
            "NOR",
            "OMN",
            "PAK",
            "PLW",
            "PSE",
            "PAN",
            "PNG",
            "PRY",
            "PER",
            "PHL",
            "POL",
            "PRT",
            "PRI",
            "QAT",
            "COG",
            "REU",
            "ROU",
            "RUS",
            "RWA",
            "BLM",
            "KNA",
            "LCA",
            "MAF",
            "SPM",
            "VCT",
            "WSM",
            "SMR",
            "STP",
            "SAU",
            "SEN",
            "SRB",
            "SYC",
            "SLE",
            "SGP",
            "SXM",
            "SVK",
            "SVN",
            "SLB",
            "SOM",
            "ZAF",
            "KOR",
            "SSD",
            "ESP",
            "LKA",
            "SDN",
            "SUR",
            "SWE",
            "CHE",
            "SYR",
            "TWN",
            "TJK",
            "TZA",
            "THA",
            "TLS",
            "TGO",
            "TKL",
            "TON",
            "TTO",
            "TUN",
            "TUR",
            "TKM",
            "TCA",
            "TUV",
            "UGA",
            "UKR",
            "ARE",
            "GBR",
            "USA",
            "VIR",
            "URY",
            "UZB",
            "VUT",
            "VAT",
            "VEN",
            "VNM",
            "WLF",
            "ESH",
            "YEM",
            "ZMB",
            "ZWE"
           ],
           "name": "",
           "type": "choropleth",
           "z": [
            10694796,
            3295066,
            25518074,
            47818,
            53569,
            11828638,
            8316,
            63328,
            32637657,
            3556539,
            65712,
            17048003,
            7678729,
            7427836,
            270679,
            517418,
            107147651,
            258868,
            10428525,
            9959560,
            182589,
            5133419,
            57470,
            558442,
            7096194,
            4494310,
            1341474,
            150706446,
            15617,
            261928,
            8767778,
            9131361,
            5483793,
            8910808,
            11430520,
            27657204,
            364563,
            26027,
            2809221,
            5827069,
            13342868,
            1153704252,
            32601393,
            431119,
            17123,
            3158253,
            4873707,
            10626680,
            155446,
            788500,
            10301192,
            5144623,
            577173,
            69481,
            7129004,
            35987541,
            10449837,
            57214630,
            5367179,
            465549,
            2149960,
            1570674,
            854011,
            47878073,
            2332,
            47479,
            780430,
            4986545,
            56412897,
            113931,
            211089,
            983028,
            1040616,
            5391636,
            79370196,
            15446982,
            27317,
            10302255,
            55599,
            99047,
            391951,
            138263,
            9084780,
            57727,
            6354145,
            973551,
            747116,
            6925331,
            5053234,
            5838574,
            10375989,
            255019,
            870452165,
            182159874,
            55793629,
            17658381,
            3485374,
            68865,
            4803254,
            56756561,
            11910540,
            2392030,
            123686321,
            82874,
            3480587,
            16866563,
            23162269,
            75124,
            1674938,
            4394734,
            4314443,
            2689391,
            3593700,
            1798997,
            2209731,
            4236983,
            28765,
            3785847,
            381267,
            350227,
            11882762,
            9539665,
            17517054,
            224957,
            8945026,
            365392,
            46047,
            374271,
            2006027,
            1090290,
            92659,
            81720428,
            98603,
            4480199,
            30329,
            2161433,
            621442,
            10805,
            24570814,
            13303459,
            40099553,
            1369011,
            9598,
            19616530,
            14944548,
            177264,
            3397389,
            4227820,
            8370647,
            95214257,
            2533,
            20799523,
            2044174,
            48002,
            4241636,
            1804524,
            115414069,
            15293,
            2124609,
            2449968,
            3864972,
            4059195,
            22109099,
            61558898,
            38064255,
            10007346,
            3543776,
            441675,
            2385435,
            658992,
            22836234,
            148005704,
            7319962,
            5168,
            40636,
            142301,
            28127,
            6324,
            112487,
            168186,
            23132,
            120343,
            16004763,
            7536001,
            7987529,
            71057,
            4325388,
            3022209,
            27845,
            5261305,
            1986024,
            324171,
            6999096,
            39877570,
            44120039,
            4750817,
            38889889,
            17204094,
            21090886,
            412756,
            8548406,
            6711693,
            12408996,
            20586174,
            5417860,
            26206012,
            55228410,
            758106,
            3875947,
            1669,
            98727,
            1266518,
            8440023,
            54324142,
            3720278,
            11709,
            9182,
            17586630,
            51589817,
            1900151,
            57210442,
            248083732,
            100685,
            3117012,
            20579100,
            150882,
            700,
            19750579,
            66912613,
            13454,
            178529,
            13375121,
            7686401,
            10113893
           ]
          }
         ],
         "name": "1990"
        },
        {
         "data": [
          {
           "coloraxis": "coloraxis",
           "customdata": [
            [
             "AFG"
            ],
            [
             "ALB"
            ],
            [
             "DZA"
            ],
            [
             "ASM"
            ],
            [
             "AND"
            ],
            [
             "AGO"
            ],
            [
             "AIA"
            ],
            [
             "ATG"
            ],
            [
             "ARG"
            ],
            [
             "ARM"
            ],
            [
             "ABW"
            ],
            [
             "AUS"
            ],
            [
             "AUT"
            ],
            [
             "AZE"
            ],
            [
             "BHS"
            ],
            [
             "BHR"
            ],
            [
             "BGD"
            ],
            [
             "BRB"
            ],
            [
             "BLR"
            ],
            [
             "BEL"
            ],
            [
             "BLZ"
            ],
            [
             "BEN"
            ],
            [
             "BMU"
            ],
            [
             "BTN"
            ],
            [
             "BOL"
            ],
            [
             "BIH"
            ],
            [
             "BWA"
            ],
            [
             "BRA"
            ],
            [
             "VGB"
            ],
            [
             "BRN"
            ],
            [
             "BGR"
            ],
            [
             "BFA"
            ],
            [
             "BDI"
            ],
            [
             "KHM"
            ],
            [
             "CMR"
            ],
            [
             "CAN"
            ],
            [
             "CPV"
            ],
            [
             "CYM"
            ],
            [
             "CAF"
            ],
            [
             "TCD"
            ],
            [
             "CHL"
            ],
            [
             "CHN"
            ],
            [
             "COL"
            ],
            [
             "COM"
            ],
            [
             "COK"
            ],
            [
             "CRI"
            ],
            [
             "HRV"
            ],
            [
             "CUB"
            ],
            [
             "CUW"
            ],
            [
             "CYP"
            ],
            [
             "CZE"
            ],
            [
             "DNK"
            ],
            [
             "DJI"
            ],
            [
             "DMA"
            ],
            [
             "DOM"
            ],
            [
             "COD"
            ],
            [
             "ECU"
            ],
            [
             "EGY"
            ],
            [
             "SLV"
            ],
            [
             "GNQ"
            ],
            [
             "ERI"
            ],
            [
             "EST"
            ],
            [
             "SWZ"
            ],
            [
             "ETH"
            ],
            [
             "FLK"
            ],
            [
             "FRO"
            ],
            [
             "FJI"
            ],
            [
             "FIN"
            ],
            [
             "FRA"
            ],
            [
             "GUF"
            ],
            [
             "PYF"
            ],
            [
             "GAB"
            ],
            [
             "GMB"
            ],
            [
             "GEO"
            ],
            [
             "DEU"
            ],
            [
             "GHA"
            ],
            [
             "GIB"
            ],
            [
             "GRC"
            ],
            [
             "GRL"
            ],
            [
             "GRD"
            ],
            [
             "GLP"
            ],
            [
             "GUM"
            ],
            [
             "GTM"
            ],
            [
             "GGY"
            ],
            [
             "GIN"
            ],
            [
             "GNB"
            ],
            [
             "GUY"
            ],
            [
             "HTI"
            ],
            [
             "HND"
            ],
            [
             "HKG"
            ],
            [
             "HUN"
            ],
            [
             "ISL"
            ],
            [
             "IND"
            ],
            [
             "IDN"
            ],
            [
             "IRN"
            ],
            [
             "IRQ"
            ],
            [
             "IRL"
            ],
            [
             "IMN"
            ],
            [
             "ISR"
            ],
            [
             "ITA"
            ],
            [
             "CIV"
            ],
            [
             "JAM"
            ],
            [
             "JPN"
            ],
            [
             "JEY"
            ],
            [
             "JOR"
            ],
            [
             "KAZ"
            ],
            [
             "KEN"
            ],
            [
             "KIR"
            ],
            [
             "KWT"
            ],
            [
             "KGZ"
            ],
            [
             "LAO"
            ],
            [
             "LVA"
            ],
            [
             "LBN"
            ],
            [
             "LSO"
            ],
            [
             "LBR"
            ],
            [
             "LBY"
            ],
            [
             "LIE"
            ],
            [
             "LTU"
            ],
            [
             "LUX"
            ],
            [
             "MAC"
            ],
            [
             "MDG"
            ],
            [
             "MWI"
            ],
            [
             "MYS"
            ],
            [
             "MDV"
            ],
            [
             "MLI"
            ],
            [
             "MLT"
            ],
            [
             "MHL"
            ],
            [
             "MTQ"
            ],
            [
             "MRT"
            ],
            [
             "MUS"
            ],
            [
             "MYT"
            ],
            [
             "MEX"
            ],
            [
             "FSM"
            ],
            [
             "MDA"
            ],
            [
             "MCO"
            ],
            [
             "MNG"
            ],
            [
             "MNE"
            ],
            [
             "MSR"
            ],
            [
             "MAR"
            ],
            [
             "MOZ"
            ],
            [
             "MMR"
            ],
            [
             "NAM"
            ],
            [
             "NRU"
            ],
            [
             "NPL"
            ],
            [
             "NLD"
            ],
            [
             "NCL"
            ],
            [
             "NZL"
            ],
            [
             "NIC"
            ],
            [
             "NER"
            ],
            [
             "NGA"
            ],
            [
             "NIU"
            ],
            [
             "PRK"
            ],
            [
             "MKD"
            ],
            [
             "NFK"
            ],
            [
             "NOR"
            ],
            [
             "OMN"
            ],
            [
             "PAK"
            ],
            [
             "PLW"
            ],
            [
             "PSE"
            ],
            [
             "PAN"
            ],
            [
             "PNG"
            ],
            [
             "PRY"
            ],
            [
             "PER"
            ],
            [
             "PHL"
            ],
            [
             "POL"
            ],
            [
             "PRT"
            ],
            [
             "PRI"
            ],
            [
             "QAT"
            ],
            [
             "COG"
            ],
            [
             "REU"
            ],
            [
             "ROU"
            ],
            [
             "RUS"
            ],
            [
             "RWA"
            ],
            [
             "BLM"
            ],
            [
             "KNA"
            ],
            [
             "LCA"
            ],
            [
             "MAF"
            ],
            [
             "SPM"
            ],
            [
             "VCT"
            ],
            [
             "WSM"
            ],
            [
             "SMR"
            ],
            [
             "STP"
            ],
            [
             "SAU"
            ],
            [
             "SEN"
            ],
            [
             "SRB"
            ],
            [
             "SYC"
            ],
            [
             "SLE"
            ],
            [
             "SGP"
            ],
            [
             "SXM"
            ],
            [
             "SVK"
            ],
            [
             "SVN"
            ],
            [
             "SLB"
            ],
            [
             "SOM"
            ],
            [
             "ZAF"
            ],
            [
             "KOR"
            ],
            [
             "SSD"
            ],
            [
             "ESP"
            ],
            [
             "LKA"
            ],
            [
             "SDN"
            ],
            [
             "SUR"
            ],
            [
             "SWE"
            ],
            [
             "CHE"
            ],
            [
             "SYR"
            ],
            [
             "TWN"
            ],
            [
             "TJK"
            ],
            [
             "TZA"
            ],
            [
             "THA"
            ],
            [
             "TLS"
            ],
            [
             "TGO"
            ],
            [
             "TKL"
            ],
            [
             "TON"
            ],
            [
             "TTO"
            ],
            [
             "TUN"
            ],
            [
             "TUR"
            ],
            [
             "TKM"
            ],
            [
             "TCA"
            ],
            [
             "TUV"
            ],
            [
             "UGA"
            ],
            [
             "UKR"
            ],
            [
             "ARE"
            ],
            [
             "GBR"
            ],
            [
             "USA"
            ],
            [
             "VIR"
            ],
            [
             "URY"
            ],
            [
             "UZB"
            ],
            [
             "VUT"
            ],
            [
             "VAT"
            ],
            [
             "VEN"
            ],
            [
             "VNM"
            ],
            [
             "WLF"
            ],
            [
             "ESH"
            ],
            [
             "YEM"
            ],
            [
             "ZMB"
            ],
            [
             "ZWE"
            ]
           ],
           "geo": "geo",
           "hovertemplate": "<b>%{hovertext}</b><br><br>Year=2000<br>Population=%{z}<extra></extra>",
           "hovertext": [
            "Afghanistan",
            "Albania",
            "Algeria",
            "American Samoa",
            "Andorra",
            "Angola",
            "Anguilla",
            "Antigua and Barbuda",
            "Argentina",
            "Armenia",
            "Aruba",
            "Australia",
            "Austria",
            "Azerbaijan",
            "Bahamas",
            "Bahrain",
            "Bangladesh",
            "Barbados",
            "Belarus",
            "Belgium",
            "Belize",
            "Benin",
            "Bermuda",
            "Bhutan",
            "Bolivia",
            "Bosnia and Herzegovina",
            "Botswana",
            "Brazil",
            "British Virgin Islands",
            "Brunei",
            "Bulgaria",
            "Burkina Faso",
            "Burundi",
            "Cambodia",
            "Cameroon",
            "Canada",
            "Cape Verde",
            "Cayman Islands",
            "Central African Republic",
            "Chad",
            "Chile",
            "China",
            "Colombia",
            "Comoros",
            "Cook Islands",
            "Costa Rica",
            "Croatia",
            "Cuba",
            "Curacao",
            "Cyprus",
            "Czech Republic",
            "Denmark",
            "Djibouti",
            "Dominica",
            "Dominican Republic",
            "DR Congo",
            "Ecuador",
            "Egypt",
            "El Salvador",
            "Equatorial Guinea",
            "Eritrea",
            "Estonia",
            "Eswatini",
            "Ethiopia",
            "Falkland Islands",
            "Faroe Islands",
            "Fiji",
            "Finland",
            "France",
            "French Guiana",
            "French Polynesia",
            "Gabon",
            "Gambia",
            "Georgia",
            "Germany",
            "Ghana",
            "Gibraltar",
            "Greece",
            "Greenland",
            "Grenada",
            "Guadeloupe",
            "Guam",
            "Guatemala",
            "Guernsey",
            "Guinea",
            "Guinea-Bissau",
            "Guyana",
            "Haiti",
            "Honduras",
            "Hong Kong",
            "Hungary",
            "Iceland",
            "India",
            "Indonesia",
            "Iran",
            "Iraq",
            "Ireland",
            "Isle of Man",
            "Israel",
            "Italy",
            "Ivory Coast",
            "Jamaica",
            "Japan",
            "Jersey",
            "Jordan",
            "Kazakhstan",
            "Kenya",
            "Kiribati",
            "Kuwait",
            "Kyrgyzstan",
            "Laos",
            "Latvia",
            "Lebanon",
            "Lesotho",
            "Liberia",
            "Libya",
            "Liechtenstein",
            "Lithuania",
            "Luxembourg",
            "Macau",
            "Madagascar",
            "Malawi",
            "Malaysia",
            "Maldives",
            "Mali",
            "Malta",
            "Marshall Islands",
            "Martinique",
            "Mauritania",
            "Mauritius",
            "Mayotte",
            "Mexico",
            "Micronesia",
            "Moldova",
            "Monaco",
            "Mongolia",
            "Montenegro",
            "Montserrat",
            "Morocco",
            "Mozambique",
            "Myanmar",
            "Namibia",
            "Nauru",
            "Nepal",
            "Netherlands",
            "New Caledonia",
            "New Zealand",
            "Nicaragua",
            "Niger",
            "Nigeria",
            "Niue",
            "North Korea",
            "North Macedonia",
            "Northern Mariana Islands",
            "Norway",
            "Oman",
            "Pakistan",
            "Palau",
            "Palestine",
            "Panama",
            "Papua New Guinea",
            "Paraguay",
            "Peru",
            "Philippines",
            "Poland",
            "Portugal",
            "Puerto Rico",
            "Qatar",
            "Republic of the Congo",
            "Reunion",
            "Romania",
            "Russia",
            "Rwanda",
            "Saint Barthelemy",
            "Saint Kitts and Nevis",
            "Saint Lucia",
            "Saint Martin",
            "Saint Pierre and Miquelon",
            "Saint Vincent and the Grenadines",
            "Samoa",
            "San Marino",
            "Sao Tome and Principe",
            "Saudi Arabia",
            "Senegal",
            "Serbia",
            "Seychelles",
            "Sierra Leone",
            "Singapore",
            "Sint Maarten",
            "Slovakia",
            "Slovenia",
            "Solomon Islands",
            "Somalia",
            "South Africa",
            "South Korea",
            "South Sudan",
            "Spain",
            "Sri Lanka",
            "Sudan",
            "Suriname",
            "Sweden",
            "Switzerland",
            "Syria",
            "Taiwan",
            "Tajikistan",
            "Tanzania",
            "Thailand",
            "Timor-Leste",
            "Togo",
            "Tokelau",
            "Tonga",
            "Trinidad and Tobago",
            "Tunisia",
            "Turkey",
            "Turkmenistan",
            "Turks and Caicos Islands",
            "Tuvalu",
            "Uganda",
            "Ukraine",
            "United Arab Emirates",
            "United Kingdom",
            "United States",
            "United States Virgin Islands",
            "Uruguay",
            "Uzbekistan",
            "Vanuatu",
            "Vatican City",
            "Venezuela",
            "Vietnam",
            "Wallis and Futuna",
            "Western Sahara",
            "Yemen",
            "Zambia",
            "Zimbabwe"
           ],
           "locationmode": "ISO-3",
           "locations": [
            "AFG",
            "ALB",
            "DZA",
            "ASM",
            "AND",
            "AGO",
            "AIA",
            "ATG",
            "ARG",
            "ARM",
            "ABW",
            "AUS",
            "AUT",
            "AZE",
            "BHS",
            "BHR",
            "BGD",
            "BRB",
            "BLR",
            "BEL",
            "BLZ",
            "BEN",
            "BMU",
            "BTN",
            "BOL",
            "BIH",
            "BWA",
            "BRA",
            "VGB",
            "BRN",
            "BGR",
            "BFA",
            "BDI",
            "KHM",
            "CMR",
            "CAN",
            "CPV",
            "CYM",
            "CAF",
            "TCD",
            "CHL",
            "CHN",
            "COL",
            "COM",
            "COK",
            "CRI",
            "HRV",
            "CUB",
            "CUW",
            "CYP",
            "CZE",
            "DNK",
            "DJI",
            "DMA",
            "DOM",
            "COD",
            "ECU",
            "EGY",
            "SLV",
            "GNQ",
            "ERI",
            "EST",
            "SWZ",
            "ETH",
            "FLK",
            "FRO",
            "FJI",
            "FIN",
            "FRA",
            "GUF",
            "PYF",
            "GAB",
            "GMB",
            "GEO",
            "DEU",
            "GHA",
            "GIB",
            "GRC",
            "GRL",
            "GRD",
            "GLP",
            "GUM",
            "GTM",
            "GGY",
            "GIN",
            "GNB",
            "GUY",
            "HTI",
            "HND",
            "HKG",
            "HUN",
            "ISL",
            "IND",
            "IDN",
            "IRN",
            "IRQ",
            "IRL",
            "IMN",
            "ISR",
            "ITA",
            "CIV",
            "JAM",
            "JPN",
            "JEY",
            "JOR",
            "KAZ",
            "KEN",
            "KIR",
            "KWT",
            "KGZ",
            "LAO",
            "LVA",
            "LBN",
            "LSO",
            "LBR",
            "LBY",
            "LIE",
            "LTU",
            "LUX",
            "MAC",
            "MDG",
            "MWI",
            "MYS",
            "MDV",
            "MLI",
            "MLT",
            "MHL",
            "MTQ",
            "MRT",
            "MUS",
            "MYT",
            "MEX",
            "FSM",
            "MDA",
            "MCO",
            "MNG",
            "MNE",
            "MSR",
            "MAR",
            "MOZ",
            "MMR",
            "NAM",
            "NRU",
            "NPL",
            "NLD",
            "NCL",
            "NZL",
            "NIC",
            "NER",
            "NGA",
            "NIU",
            "PRK",
            "MKD",
            "NFK",
            "NOR",
            "OMN",
            "PAK",
            "PLW",
            "PSE",
            "PAN",
            "PNG",
            "PRY",
            "PER",
            "PHL",
            "POL",
            "PRT",
            "PRI",
            "QAT",
            "COG",
            "REU",
            "ROU",
            "RUS",
            "RWA",
            "BLM",
            "KNA",
            "LCA",
            "MAF",
            "SPM",
            "VCT",
            "WSM",
            "SMR",
            "STP",
            "SAU",
            "SEN",
            "SRB",
            "SYC",
            "SLE",
            "SGP",
            "SXM",
            "SVK",
            "SVN",
            "SLB",
            "SOM",
            "ZAF",
            "KOR",
            "SSD",
            "ESP",
            "LKA",
            "SDN",
            "SUR",
            "SWE",
            "CHE",
            "SYR",
            "TWN",
            "TJK",
            "TZA",
            "THA",
            "TLS",
            "TGO",
            "TKL",
            "TON",
            "TTO",
            "TUN",
            "TUR",
            "TKM",
            "TCA",
            "TUV",
            "UGA",
            "UKR",
            "ARE",
            "GBR",
            "USA",
            "VIR",
            "URY",
            "UZB",
            "VUT",
            "VAT",
            "VEN",
            "VNM",
            "WLF",
            "ESH",
            "YEM",
            "ZMB",
            "ZWE"
           ],
           "name": "",
           "type": "choropleth",
           "z": [
            19542982,
            3182021,
            30774621,
            58230,
            66097,
            16394062,
            11047,
            75055,
            37070774,
            3168523,
            89101,
            19017963,
            8010428,
            8190337,
            325014,
            711442,
            129193327,
            264657,
            10256483,
            10264343,
            240406,
            6998023,
            61371,
            587207,
            8592656,
            4179350,
            1726985,
            175873720,
            20104,
            333926,
            8097691,
            11882888,
            6307659,
            12118841,
            15091594,
            30683313,
            458251,
            39658,
            3759170,
            8259137,
            15351799,
            1264099069,
            39215135,
            536758,
            15897,
            3979193,
            4548434,
            11105791,
            141424,
            948237,
            10234710,
            5340655,
            742033,
            68346,
            8540791,
            48616317,
            12626507,
            71371371,
            5958482,
            684977,
            2392880,
            1396877,
            1030496,
            67031867,
            3080,
            45660,
            832509,
            5176209,
            58665453,
            164351,
            250927,
            1272935,
            1437539,
            4265172,
            81551677,
            19665502,
            27741,
            11038109,
            56184,
            107432,
            424067,
            160188,
            11735894,
            59114,
            8336967,
            1230849,
            759051,
            8360225,
            6656725,
            6731195,
            10202055,
            281462,
            1059633675,
            214072421,
            65544383,
            24628858,
            3768950,
            75562,
            6116958,
            56966397,
            16799670,
            2612205,
            126803861,
            86192,
            5056174,
            15236253,
            30851606,
            88826,
            1934901,
            4935182,
            5430853,
            2392530,
            4320642,
            1998630,
            2895224,
            5154790,
            33026,
            3599637,
            435628,
            431896,
            16216431,
            11229387,
            22945150,
            282507,
            11239101,
            399212,
            54224,
            432543,
            2695003,
            1215930,
            159215,
            97873442,
            111709,
            4251573,
            32465,
            2450979,
            633324,
            5138,
            28554415,
            17768505,
            45538332,
            1819141,
            10377,
            24559500,
            15899135,
            221537,
            3855266,
            5123222,
            11622665,
            122851984,
            2074,
            23367059,
            2037936,
            80338,
            4491202,
            2344253,
            154369924,
            19726,
            3139954,
            3001731,
            5508297,
            5123819,
            26654439,
            77958223,
            38504431,
            10300626,
            3827108,
            645937,
            3134030,
            785424,
            21919876,
            146844839,
            8109989,
            7082,
            45461,
            159500,
            29610,
            6274,
            113813,
            184008,
            26823,
            143714,
            21547390,
            9704287,
            7935022,
            80060,
            4584067,
            4053602,
            30489,
            5376690,
            1984339,
            429978,
            8721465,
            46813266,
            46788591,
            6114440,
            40741651,
            18776371,
            26298773,
            478998,
            8871043,
            7182059,
            16307654,
            22194731,
            6272998,
            34463704,
            63066603,
            878360,
            5008035,
            1666,
            102603,
            1332203,
            9893316,
            64113547,
            4569132,
            18744,
            9638,
            24020697,
            48879755,
            3275333,
            58850043,
            282398554,
            108185,
            3292224,
            24925554,
            192074,
            651,
            24427729,
            79001142,
            14723,
            270375,
            18628700,
            9891136,
            11834676
           ]
          }
         ],
         "name": "2000"
        },
        {
         "data": [
          {
           "coloraxis": "coloraxis",
           "customdata": [
            [
             "AFG"
            ],
            [
             "ALB"
            ],
            [
             "DZA"
            ],
            [
             "ASM"
            ],
            [
             "AND"
            ],
            [
             "AGO"
            ],
            [
             "AIA"
            ],
            [
             "ATG"
            ],
            [
             "ARG"
            ],
            [
             "ARM"
            ],
            [
             "ABW"
            ],
            [
             "AUS"
            ],
            [
             "AUT"
            ],
            [
             "AZE"
            ],
            [
             "BHS"
            ],
            [
             "BHR"
            ],
            [
             "BGD"
            ],
            [
             "BRB"
            ],
            [
             "BLR"
            ],
            [
             "BEL"
            ],
            [
             "BLZ"
            ],
            [
             "BEN"
            ],
            [
             "BMU"
            ],
            [
             "BTN"
            ],
            [
             "BOL"
            ],
            [
             "BIH"
            ],
            [
             "BWA"
            ],
            [
             "BRA"
            ],
            [
             "VGB"
            ],
            [
             "BRN"
            ],
            [
             "BGR"
            ],
            [
             "BFA"
            ],
            [
             "BDI"
            ],
            [
             "KHM"
            ],
            [
             "CMR"
            ],
            [
             "CAN"
            ],
            [
             "CPV"
            ],
            [
             "CYM"
            ],
            [
             "CAF"
            ],
            [
             "TCD"
            ],
            [
             "CHL"
            ],
            [
             "CHN"
            ],
            [
             "COL"
            ],
            [
             "COM"
            ],
            [
             "COK"
            ],
            [
             "CRI"
            ],
            [
             "HRV"
            ],
            [
             "CUB"
            ],
            [
             "CUW"
            ],
            [
             "CYP"
            ],
            [
             "CZE"
            ],
            [
             "DNK"
            ],
            [
             "DJI"
            ],
            [
             "DMA"
            ],
            [
             "DOM"
            ],
            [
             "COD"
            ],
            [
             "ECU"
            ],
            [
             "EGY"
            ],
            [
             "SLV"
            ],
            [
             "GNQ"
            ],
            [
             "ERI"
            ],
            [
             "EST"
            ],
            [
             "SWZ"
            ],
            [
             "ETH"
            ],
            [
             "FLK"
            ],
            [
             "FRO"
            ],
            [
             "FJI"
            ],
            [
             "FIN"
            ],
            [
             "FRA"
            ],
            [
             "GUF"
            ],
            [
             "PYF"
            ],
            [
             "GAB"
            ],
            [
             "GMB"
            ],
            [
             "GEO"
            ],
            [
             "DEU"
            ],
            [
             "GHA"
            ],
            [
             "GIB"
            ],
            [
             "GRC"
            ],
            [
             "GRL"
            ],
            [
             "GRD"
            ],
            [
             "GLP"
            ],
            [
             "GUM"
            ],
            [
             "GTM"
            ],
            [
             "GGY"
            ],
            [
             "GIN"
            ],
            [
             "GNB"
            ],
            [
             "GUY"
            ],
            [
             "HTI"
            ],
            [
             "HND"
            ],
            [
             "HKG"
            ],
            [
             "HUN"
            ],
            [
             "ISL"
            ],
            [
             "IND"
            ],
            [
             "IDN"
            ],
            [
             "IRN"
            ],
            [
             "IRQ"
            ],
            [
             "IRL"
            ],
            [
             "IMN"
            ],
            [
             "ISR"
            ],
            [
             "ITA"
            ],
            [
             "CIV"
            ],
            [
             "JAM"
            ],
            [
             "JPN"
            ],
            [
             "JEY"
            ],
            [
             "JOR"
            ],
            [
             "KAZ"
            ],
            [
             "KEN"
            ],
            [
             "KIR"
            ],
            [
             "KWT"
            ],
            [
             "KGZ"
            ],
            [
             "LAO"
            ],
            [
             "LVA"
            ],
            [
             "LBN"
            ],
            [
             "LSO"
            ],
            [
             "LBR"
            ],
            [
             "LBY"
            ],
            [
             "LIE"
            ],
            [
             "LTU"
            ],
            [
             "LUX"
            ],
            [
             "MAC"
            ],
            [
             "MDG"
            ],
            [
             "MWI"
            ],
            [
             "MYS"
            ],
            [
             "MDV"
            ],
            [
             "MLI"
            ],
            [
             "MLT"
            ],
            [
             "MHL"
            ],
            [
             "MTQ"
            ],
            [
             "MRT"
            ],
            [
             "MUS"
            ],
            [
             "MYT"
            ],
            [
             "MEX"
            ],
            [
             "FSM"
            ],
            [
             "MDA"
            ],
            [
             "MCO"
            ],
            [
             "MNG"
            ],
            [
             "MNE"
            ],
            [
             "MSR"
            ],
            [
             "MAR"
            ],
            [
             "MOZ"
            ],
            [
             "MMR"
            ],
            [
             "NAM"
            ],
            [
             "NRU"
            ],
            [
             "NPL"
            ],
            [
             "NLD"
            ],
            [
             "NCL"
            ],
            [
             "NZL"
            ],
            [
             "NIC"
            ],
            [
             "NER"
            ],
            [
             "NGA"
            ],
            [
             "NIU"
            ],
            [
             "PRK"
            ],
            [
             "MKD"
            ],
            [
             "NFK"
            ],
            [
             "NOR"
            ],
            [
             "OMN"
            ],
            [
             "PAK"
            ],
            [
             "PLW"
            ],
            [
             "PSE"
            ],
            [
             "PAN"
            ],
            [
             "PNG"
            ],
            [
             "PRY"
            ],
            [
             "PER"
            ],
            [
             "PHL"
            ],
            [
             "POL"
            ],
            [
             "PRT"
            ],
            [
             "PRI"
            ],
            [
             "QAT"
            ],
            [
             "COG"
            ],
            [
             "REU"
            ],
            [
             "ROU"
            ],
            [
             "RUS"
            ],
            [
             "RWA"
            ],
            [
             "BLM"
            ],
            [
             "KNA"
            ],
            [
             "LCA"
            ],
            [
             "MAF"
            ],
            [
             "SPM"
            ],
            [
             "VCT"
            ],
            [
             "WSM"
            ],
            [
             "SMR"
            ],
            [
             "STP"
            ],
            [
             "SAU"
            ],
            [
             "SEN"
            ],
            [
             "SRB"
            ],
            [
             "SYC"
            ],
            [
             "SLE"
            ],
            [
             "SGP"
            ],
            [
             "SXM"
            ],
            [
             "SVK"
            ],
            [
             "SVN"
            ],
            [
             "SLB"
            ],
            [
             "SOM"
            ],
            [
             "ZAF"
            ],
            [
             "KOR"
            ],
            [
             "SSD"
            ],
            [
             "ESP"
            ],
            [
             "LKA"
            ],
            [
             "SDN"
            ],
            [
             "SUR"
            ],
            [
             "SWE"
            ],
            [
             "CHE"
            ],
            [
             "SYR"
            ],
            [
             "TWN"
            ],
            [
             "TJK"
            ],
            [
             "TZA"
            ],
            [
             "THA"
            ],
            [
             "TLS"
            ],
            [
             "TGO"
            ],
            [
             "TKL"
            ],
            [
             "TON"
            ],
            [
             "TTO"
            ],
            [
             "TUN"
            ],
            [
             "TUR"
            ],
            [
             "TKM"
            ],
            [
             "TCA"
            ],
            [
             "TUV"
            ],
            [
             "UGA"
            ],
            [
             "UKR"
            ],
            [
             "ARE"
            ],
            [
             "GBR"
            ],
            [
             "USA"
            ],
            [
             "VIR"
            ],
            [
             "URY"
            ],
            [
             "UZB"
            ],
            [
             "VUT"
            ],
            [
             "VAT"
            ],
            [
             "VEN"
            ],
            [
             "VNM"
            ],
            [
             "WLF"
            ],
            [
             "ESH"
            ],
            [
             "YEM"
            ],
            [
             "ZMB"
            ],
            [
             "ZWE"
            ]
           ],
           "geo": "geo",
           "hovertemplate": "<b>%{hovertext}</b><br><br>Year=2010<br>Population=%{z}<extra></extra>",
           "hovertext": [
            "Afghanistan",
            "Albania",
            "Algeria",
            "American Samoa",
            "Andorra",
            "Angola",
            "Anguilla",
            "Antigua and Barbuda",
            "Argentina",
            "Armenia",
            "Aruba",
            "Australia",
            "Austria",
            "Azerbaijan",
            "Bahamas",
            "Bahrain",
            "Bangladesh",
            "Barbados",
            "Belarus",
            "Belgium",
            "Belize",
            "Benin",
            "Bermuda",
            "Bhutan",
            "Bolivia",
            "Bosnia and Herzegovina",
            "Botswana",
            "Brazil",
            "British Virgin Islands",
            "Brunei",
            "Bulgaria",
            "Burkina Faso",
            "Burundi",
            "Cambodia",
            "Cameroon",
            "Canada",
            "Cape Verde",
            "Cayman Islands",
            "Central African Republic",
            "Chad",
            "Chile",
            "China",
            "Colombia",
            "Comoros",
            "Cook Islands",
            "Costa Rica",
            "Croatia",
            "Cuba",
            "Curacao",
            "Cyprus",
            "Czech Republic",
            "Denmark",
            "Djibouti",
            "Dominica",
            "Dominican Republic",
            "DR Congo",
            "Ecuador",
            "Egypt",
            "El Salvador",
            "Equatorial Guinea",
            "Eritrea",
            "Estonia",
            "Eswatini",
            "Ethiopia",
            "Falkland Islands",
            "Faroe Islands",
            "Fiji",
            "Finland",
            "France",
            "French Guiana",
            "French Polynesia",
            "Gabon",
            "Gambia",
            "Georgia",
            "Germany",
            "Ghana",
            "Gibraltar",
            "Greece",
            "Greenland",
            "Grenada",
            "Guadeloupe",
            "Guam",
            "Guatemala",
            "Guernsey",
            "Guinea",
            "Guinea-Bissau",
            "Guyana",
            "Haiti",
            "Honduras",
            "Hong Kong",
            "Hungary",
            "Iceland",
            "India",
            "Indonesia",
            "Iran",
            "Iraq",
            "Ireland",
            "Isle of Man",
            "Israel",
            "Italy",
            "Ivory Coast",
            "Jamaica",
            "Japan",
            "Jersey",
            "Jordan",
            "Kazakhstan",
            "Kenya",
            "Kiribati",
            "Kuwait",
            "Kyrgyzstan",
            "Laos",
            "Latvia",
            "Lebanon",
            "Lesotho",
            "Liberia",
            "Libya",
            "Liechtenstein",
            "Lithuania",
            "Luxembourg",
            "Macau",
            "Madagascar",
            "Malawi",
            "Malaysia",
            "Maldives",
            "Mali",
            "Malta",
            "Marshall Islands",
            "Martinique",
            "Mauritania",
            "Mauritius",
            "Mayotte",
            "Mexico",
            "Micronesia",
            "Moldova",
            "Monaco",
            "Mongolia",
            "Montenegro",
            "Montserrat",
            "Morocco",
            "Mozambique",
            "Myanmar",
            "Namibia",
            "Nauru",
            "Nepal",
            "Netherlands",
            "New Caledonia",
            "New Zealand",
            "Nicaragua",
            "Niger",
            "Nigeria",
            "Niue",
            "North Korea",
            "North Macedonia",
            "Northern Mariana Islands",
            "Norway",
            "Oman",
            "Pakistan",
            "Palau",
            "Palestine",
            "Panama",
            "Papua New Guinea",
            "Paraguay",
            "Peru",
            "Philippines",
            "Poland",
            "Portugal",
            "Puerto Rico",
            "Qatar",
            "Republic of the Congo",
            "Reunion",
            "Romania",
            "Russia",
            "Rwanda",
            "Saint Barthelemy",
            "Saint Kitts and Nevis",
            "Saint Lucia",
            "Saint Martin",
            "Saint Pierre and Miquelon",
            "Saint Vincent and the Grenadines",
            "Samoa",
            "San Marino",
            "Sao Tome and Principe",
            "Saudi Arabia",
            "Senegal",
            "Serbia",
            "Seychelles",
            "Sierra Leone",
            "Singapore",
            "Sint Maarten",
            "Slovakia",
            "Slovenia",
            "Solomon Islands",
            "Somalia",
            "South Africa",
            "South Korea",
            "South Sudan",
            "Spain",
            "Sri Lanka",
            "Sudan",
            "Suriname",
            "Sweden",
            "Switzerland",
            "Syria",
            "Taiwan",
            "Tajikistan",
            "Tanzania",
            "Thailand",
            "Timor-Leste",
            "Togo",
            "Tokelau",
            "Tonga",
            "Trinidad and Tobago",
            "Tunisia",
            "Turkey",
            "Turkmenistan",
            "Turks and Caicos Islands",
            "Tuvalu",
            "Uganda",
            "Ukraine",
            "United Arab Emirates",
            "United Kingdom",
            "United States",
            "United States Virgin Islands",
            "Uruguay",
            "Uzbekistan",
            "Vanuatu",
            "Vatican City",
            "Venezuela",
            "Vietnam",
            "Wallis and Futuna",
            "Western Sahara",
            "Yemen",
            "Zambia",
            "Zimbabwe"
           ],
           "locationmode": "ISO-3",
           "locations": [
            "AFG",
            "ALB",
            "DZA",
            "ASM",
            "AND",
            "AGO",
            "AIA",
            "ATG",
            "ARG",
            "ARM",
            "ABW",
            "AUS",
            "AUT",
            "AZE",
            "BHS",
            "BHR",
            "BGD",
            "BRB",
            "BLR",
            "BEL",
            "BLZ",
            "BEN",
            "BMU",
            "BTN",
            "BOL",
            "BIH",
            "BWA",
            "BRA",
            "VGB",
            "BRN",
            "BGR",
            "BFA",
            "BDI",
            "KHM",
            "CMR",
            "CAN",
            "CPV",
            "CYM",
            "CAF",
            "TCD",
            "CHL",
            "CHN",
            "COL",
            "COM",
            "COK",
            "CRI",
            "HRV",
            "CUB",
            "CUW",
            "CYP",
            "CZE",
            "DNK",
            "DJI",
            "DMA",
            "DOM",
            "COD",
            "ECU",
            "EGY",
            "SLV",
            "GNQ",
            "ERI",
            "EST",
            "SWZ",
            "ETH",
            "FLK",
            "FRO",
            "FJI",
            "FIN",
            "FRA",
            "GUF",
            "PYF",
            "GAB",
            "GMB",
            "GEO",
            "DEU",
            "GHA",
            "GIB",
            "GRC",
            "GRL",
            "GRD",
            "GLP",
            "GUM",
            "GTM",
            "GGY",
            "GIN",
            "GNB",
            "GUY",
            "HTI",
            "HND",
            "HKG",
            "HUN",
            "ISL",
            "IND",
            "IDN",
            "IRN",
            "IRQ",
            "IRL",
            "IMN",
            "ISR",
            "ITA",
            "CIV",
            "JAM",
            "JPN",
            "JEY",
            "JOR",
            "KAZ",
            "KEN",
            "KIR",
            "KWT",
            "KGZ",
            "LAO",
            "LVA",
            "LBN",
            "LSO",
            "LBR",
            "LBY",
            "LIE",
            "LTU",
            "LUX",
            "MAC",
            "MDG",
            "MWI",
            "MYS",
            "MDV",
            "MLI",
            "MLT",
            "MHL",
            "MTQ",
            "MRT",
            "MUS",
            "MYT",
            "MEX",
            "FSM",
            "MDA",
            "MCO",
            "MNG",
            "MNE",
            "MSR",
            "MAR",
            "MOZ",
            "MMR",
            "NAM",
            "NRU",
            "NPL",
            "NLD",
            "NCL",
            "NZL",
            "NIC",
            "NER",
            "NGA",
            "NIU",
            "PRK",
            "MKD",
            "NFK",
            "NOR",
            "OMN",
            "PAK",
            "PLW",
            "PSE",
            "PAN",
            "PNG",
            "PRY",
            "PER",
            "PHL",
            "POL",
            "PRT",
            "PRI",
            "QAT",
            "COG",
            "REU",
            "ROU",
            "RUS",
            "RWA",
            "BLM",
            "KNA",
            "LCA",
            "MAF",
            "SPM",
            "VCT",
            "WSM",
            "SMR",
            "STP",
            "SAU",
            "SEN",
            "SRB",
            "SYC",
            "SLE",
            "SGP",
            "SXM",
            "SVK",
            "SVN",
            "SLB",
            "SOM",
            "ZAF",
            "KOR",
            "SSD",
            "ESP",
            "LKA",
            "SDN",
            "SUR",
            "SWE",
            "CHE",
            "SYR",
            "TWN",
            "TJK",
            "TZA",
            "THA",
            "TLS",
            "TGO",
            "TKL",
            "TON",
            "TTO",
            "TUN",
            "TUR",
            "TKM",
            "TCA",
            "TUV",
            "UGA",
            "UKR",
            "ARE",
            "GBR",
            "USA",
            "VIR",
            "URY",
            "UZB",
            "VUT",
            "VAT",
            "VEN",
            "VNM",
            "WLF",
            "ESH",
            "YEM",
            "ZMB",
            "ZWE"
           ],
           "name": "",
           "type": "choropleth",
           "z": [
            28189672,
            2913399,
            35856344,
            54849,
            71519,
            23364185,
            13172,
            85695,
            41100123,
            2946293,
            100341,
            22019168,
            8362829,
            9237202,
            373272,
            1213645,
            148391139,
            274711,
            9731427,
            10877947,
            322106,
            9445710,
            63447,
            705516,
            10223270,
            3811088,
            2091664,
            196353492,
            27556,
            396053,
            7592273,
            16116845,
            9126605,
            14363532,
            19878036,
            33963412,
            521212,
            54074,
            4660067,
            11894727,
            17004162,
            1348191368,
            44816108,
            656024,
            17212,
            4622252,
            4368682,
            11290417,
            159380,
            1129686,
            10464749,
            5550849,
            919199,
            68755,
            9775755,
            66391257,
            14989585,
            87252413,
            6114034,
            1094524,
            3147727,
            1331535,
            1099920,
            89237791,
            3187,
            48410,
            905169,
            5363271,
            62444567,
            228453,
            283788,
            1711105,
            1937275,
            3836831,
            81325090,
            25574719,
            31262,
            11033783,
            56351,
            114039,
            403072,
            164905,
            14543121,
            60782,
            10270728,
            1567220,
            747932,
            9842880,
            8450933,
            7132438,
            9986825,
            318333,
            1240613620,
            244016173,
            75373855,
            31264875,
            4524585,
            83828,
            7328445,
            59822450,
            21120042,
            2733896,
            128105431,
            96151,
            6931258,
            16627837,
            41517895,
            107995,
            2943356,
            5483774,
            6323418,
            2101530,
            4995800,
            2022747,
            4019956,
            6491988,
            35926,
            3139019,
            507070,
            557297,
            21731053,
            14718422,
            28717731,
            361575,
            15529181,
            418755,
            53416,
            392181,
            3419461,
            1283330,
            211786,
            112532401,
            107588,
            3678186,
            33178,
            2702520,
            631044,
            4938,
            32464865,
            23073723,
            49390988,
            2099271,
            10241,
            27161567,
            16617116,
            261426,
            4346338,
            5855734,
            16647543,
            160952853,
            1812,
            24686435,
            2093828,
            54087,
            4889741,
            2881914,
            194454498,
            18540,
            3992278,
            3623617,
            7583269,
            5768613,
            29229572,
            94636700,
            38597353,
            10588401,
            3717922,
            1713504,
            4437884,
            890130,
            20335211,
            143242599,
            10309031,
            8988,
            47403,
            170935,
            36458,
            6052,
            109308,
            194672,
            31608,
            182138,
            29411929,
            12530121,
            7653748,
            92409,
            6436698,
            5163590,
            33034,
            5396424,
            2057286,
            540394,
            12026649,
            51784921,
            48813042,
            9714419,
            46572772,
            20668557,
            33739933,
            546080,
            9381729,
            7822435,
            22337563,
            23083083,
            7621779,
            45110527,
            68270489,
            1088486,
            6571855,
            1367,
            107383,
            1410296,
            10895063,
            73195345,
            5267970,
            29726,
            10550,
            32341728,
            45683020,
            8481771,
            62760039,
            311182845,
            106142,
            3352651,
            28614227,
            245453,
            596,
            28715022,
            87411012,
            13142,
            413296,
            24743946,
            13792086,
            12839771
           ]
          }
         ],
         "name": "2010"
        },
        {
         "data": [
          {
           "coloraxis": "coloraxis",
           "customdata": [
            [
             "AFG"
            ],
            [
             "ALB"
            ],
            [
             "DZA"
            ],
            [
             "ASM"
            ],
            [
             "AND"
            ],
            [
             "AGO"
            ],
            [
             "AIA"
            ],
            [
             "ATG"
            ],
            [
             "ARG"
            ],
            [
             "ARM"
            ],
            [
             "ABW"
            ],
            [
             "AUS"
            ],
            [
             "AUT"
            ],
            [
             "AZE"
            ],
            [
             "BHS"
            ],
            [
             "BHR"
            ],
            [
             "BGD"
            ],
            [
             "BRB"
            ],
            [
             "BLR"
            ],
            [
             "BEL"
            ],
            [
             "BLZ"
            ],
            [
             "BEN"
            ],
            [
             "BMU"
            ],
            [
             "BTN"
            ],
            [
             "BOL"
            ],
            [
             "BIH"
            ],
            [
             "BWA"
            ],
            [
             "BRA"
            ],
            [
             "VGB"
            ],
            [
             "BRN"
            ],
            [
             "BGR"
            ],
            [
             "BFA"
            ],
            [
             "BDI"
            ],
            [
             "KHM"
            ],
            [
             "CMR"
            ],
            [
             "CAN"
            ],
            [
             "CPV"
            ],
            [
             "CYM"
            ],
            [
             "CAF"
            ],
            [
             "TCD"
            ],
            [
             "CHL"
            ],
            [
             "CHN"
            ],
            [
             "COL"
            ],
            [
             "COM"
            ],
            [
             "COK"
            ],
            [
             "CRI"
            ],
            [
             "HRV"
            ],
            [
             "CUB"
            ],
            [
             "CUW"
            ],
            [
             "CYP"
            ],
            [
             "CZE"
            ],
            [
             "DNK"
            ],
            [
             "DJI"
            ],
            [
             "DMA"
            ],
            [
             "DOM"
            ],
            [
             "COD"
            ],
            [
             "ECU"
            ],
            [
             "EGY"
            ],
            [
             "SLV"
            ],
            [
             "GNQ"
            ],
            [
             "ERI"
            ],
            [
             "EST"
            ],
            [
             "SWZ"
            ],
            [
             "ETH"
            ],
            [
             "FLK"
            ],
            [
             "FRO"
            ],
            [
             "FJI"
            ],
            [
             "FIN"
            ],
            [
             "FRA"
            ],
            [
             "GUF"
            ],
            [
             "PYF"
            ],
            [
             "GAB"
            ],
            [
             "GMB"
            ],
            [
             "GEO"
            ],
            [
             "DEU"
            ],
            [
             "GHA"
            ],
            [
             "GIB"
            ],
            [
             "GRC"
            ],
            [
             "GRL"
            ],
            [
             "GRD"
            ],
            [
             "GLP"
            ],
            [
             "GUM"
            ],
            [
             "GTM"
            ],
            [
             "GGY"
            ],
            [
             "GIN"
            ],
            [
             "GNB"
            ],
            [
             "GUY"
            ],
            [
             "HTI"
            ],
            [
             "HND"
            ],
            [
             "HKG"
            ],
            [
             "HUN"
            ],
            [
             "ISL"
            ],
            [
             "IND"
            ],
            [
             "IDN"
            ],
            [
             "IRN"
            ],
            [
             "IRQ"
            ],
            [
             "IRL"
            ],
            [
             "IMN"
            ],
            [
             "ISR"
            ],
            [
             "ITA"
            ],
            [
             "CIV"
            ],
            [
             "JAM"
            ],
            [
             "JPN"
            ],
            [
             "JEY"
            ],
            [
             "JOR"
            ],
            [
             "KAZ"
            ],
            [
             "KEN"
            ],
            [
             "KIR"
            ],
            [
             "KWT"
            ],
            [
             "KGZ"
            ],
            [
             "LAO"
            ],
            [
             "LVA"
            ],
            [
             "LBN"
            ],
            [
             "LSO"
            ],
            [
             "LBR"
            ],
            [
             "LBY"
            ],
            [
             "LIE"
            ],
            [
             "LTU"
            ],
            [
             "LUX"
            ],
            [
             "MAC"
            ],
            [
             "MDG"
            ],
            [
             "MWI"
            ],
            [
             "MYS"
            ],
            [
             "MDV"
            ],
            [
             "MLI"
            ],
            [
             "MLT"
            ],
            [
             "MHL"
            ],
            [
             "MTQ"
            ],
            [
             "MRT"
            ],
            [
             "MUS"
            ],
            [
             "MYT"
            ],
            [
             "MEX"
            ],
            [
             "FSM"
            ],
            [
             "MDA"
            ],
            [
             "MCO"
            ],
            [
             "MNG"
            ],
            [
             "MNE"
            ],
            [
             "MSR"
            ],
            [
             "MAR"
            ],
            [
             "MOZ"
            ],
            [
             "MMR"
            ],
            [
             "NAM"
            ],
            [
             "NRU"
            ],
            [
             "NPL"
            ],
            [
             "NLD"
            ],
            [
             "NCL"
            ],
            [
             "NZL"
            ],
            [
             "NIC"
            ],
            [
             "NER"
            ],
            [
             "NGA"
            ],
            [
             "NIU"
            ],
            [
             "PRK"
            ],
            [
             "MKD"
            ],
            [
             "NFK"
            ],
            [
             "NOR"
            ],
            [
             "OMN"
            ],
            [
             "PAK"
            ],
            [
             "PLW"
            ],
            [
             "PSE"
            ],
            [
             "PAN"
            ],
            [
             "PNG"
            ],
            [
             "PRY"
            ],
            [
             "PER"
            ],
            [
             "PHL"
            ],
            [
             "POL"
            ],
            [
             "PRT"
            ],
            [
             "PRI"
            ],
            [
             "QAT"
            ],
            [
             "COG"
            ],
            [
             "REU"
            ],
            [
             "ROU"
            ],
            [
             "RUS"
            ],
            [
             "RWA"
            ],
            [
             "BLM"
            ],
            [
             "KNA"
            ],
            [
             "LCA"
            ],
            [
             "MAF"
            ],
            [
             "SPM"
            ],
            [
             "VCT"
            ],
            [
             "WSM"
            ],
            [
             "SMR"
            ],
            [
             "STP"
            ],
            [
             "SAU"
            ],
            [
             "SEN"
            ],
            [
             "SRB"
            ],
            [
             "SYC"
            ],
            [
             "SLE"
            ],
            [
             "SGP"
            ],
            [
             "SXM"
            ],
            [
             "SVK"
            ],
            [
             "SVN"
            ],
            [
             "SLB"
            ],
            [
             "SOM"
            ],
            [
             "ZAF"
            ],
            [
             "KOR"
            ],
            [
             "SSD"
            ],
            [
             "ESP"
            ],
            [
             "LKA"
            ],
            [
             "SDN"
            ],
            [
             "SUR"
            ],
            [
             "SWE"
            ],
            [
             "CHE"
            ],
            [
             "SYR"
            ],
            [
             "TWN"
            ],
            [
             "TJK"
            ],
            [
             "TZA"
            ],
            [
             "THA"
            ],
            [
             "TLS"
            ],
            [
             "TGO"
            ],
            [
             "TKL"
            ],
            [
             "TON"
            ],
            [
             "TTO"
            ],
            [
             "TUN"
            ],
            [
             "TUR"
            ],
            [
             "TKM"
            ],
            [
             "TCA"
            ],
            [
             "TUV"
            ],
            [
             "UGA"
            ],
            [
             "UKR"
            ],
            [
             "ARE"
            ],
            [
             "GBR"
            ],
            [
             "USA"
            ],
            [
             "VIR"
            ],
            [
             "URY"
            ],
            [
             "UZB"
            ],
            [
             "VUT"
            ],
            [
             "VAT"
            ],
            [
             "VEN"
            ],
            [
             "VNM"
            ],
            [
             "WLF"
            ],
            [
             "ESH"
            ],
            [
             "YEM"
            ],
            [
             "ZMB"
            ],
            [
             "ZWE"
            ]
           ],
           "geo": "geo",
           "hovertemplate": "<b>%{hovertext}</b><br><br>Year=2015<br>Population=%{z}<extra></extra>",
           "hovertext": [
            "Afghanistan",
            "Albania",
            "Algeria",
            "American Samoa",
            "Andorra",
            "Angola",
            "Anguilla",
            "Antigua and Barbuda",
            "Argentina",
            "Armenia",
            "Aruba",
            "Australia",
            "Austria",
            "Azerbaijan",
            "Bahamas",
            "Bahrain",
            "Bangladesh",
            "Barbados",
            "Belarus",
            "Belgium",
            "Belize",
            "Benin",
            "Bermuda",
            "Bhutan",
            "Bolivia",
            "Bosnia and Herzegovina",
            "Botswana",
            "Brazil",
            "British Virgin Islands",
            "Brunei",
            "Bulgaria",
            "Burkina Faso",
            "Burundi",
            "Cambodia",
            "Cameroon",
            "Canada",
            "Cape Verde",
            "Cayman Islands",
            "Central African Republic",
            "Chad",
            "Chile",
            "China",
            "Colombia",
            "Comoros",
            "Cook Islands",
            "Costa Rica",
            "Croatia",
            "Cuba",
            "Curacao",
            "Cyprus",
            "Czech Republic",
            "Denmark",
            "Djibouti",
            "Dominica",
            "Dominican Republic",
            "DR Congo",
            "Ecuador",
            "Egypt",
            "El Salvador",
            "Equatorial Guinea",
            "Eritrea",
            "Estonia",
            "Eswatini",
            "Ethiopia",
            "Falkland Islands",
            "Faroe Islands",
            "Fiji",
            "Finland",
            "France",
            "French Guiana",
            "French Polynesia",
            "Gabon",
            "Gambia",
            "Georgia",
            "Germany",
            "Ghana",
            "Gibraltar",
            "Greece",
            "Greenland",
            "Grenada",
            "Guadeloupe",
            "Guam",
            "Guatemala",
            "Guernsey",
            "Guinea",
            "Guinea-Bissau",
            "Guyana",
            "Haiti",
            "Honduras",
            "Hong Kong",
            "Hungary",
            "Iceland",
            "India",
            "Indonesia",
            "Iran",
            "Iraq",
            "Ireland",
            "Isle of Man",
            "Israel",
            "Italy",
            "Ivory Coast",
            "Jamaica",
            "Japan",
            "Jersey",
            "Jordan",
            "Kazakhstan",
            "Kenya",
            "Kiribati",
            "Kuwait",
            "Kyrgyzstan",
            "Laos",
            "Latvia",
            "Lebanon",
            "Lesotho",
            "Liberia",
            "Libya",
            "Liechtenstein",
            "Lithuania",
            "Luxembourg",
            "Macau",
            "Madagascar",
            "Malawi",
            "Malaysia",
            "Maldives",
            "Mali",
            "Malta",
            "Marshall Islands",
            "Martinique",
            "Mauritania",
            "Mauritius",
            "Mayotte",
            "Mexico",
            "Micronesia",
            "Moldova",
            "Monaco",
            "Mongolia",
            "Montenegro",
            "Montserrat",
            "Morocco",
            "Mozambique",
            "Myanmar",
            "Namibia",
            "Nauru",
            "Nepal",
            "Netherlands",
            "New Caledonia",
            "New Zealand",
            "Nicaragua",
            "Niger",
            "Nigeria",
            "Niue",
            "North Korea",
            "North Macedonia",
            "Northern Mariana Islands",
            "Norway",
            "Oman",
            "Pakistan",
            "Palau",
            "Palestine",
            "Panama",
            "Papua New Guinea",
            "Paraguay",
            "Peru",
            "Philippines",
            "Poland",
            "Portugal",
            "Puerto Rico",
            "Qatar",
            "Republic of the Congo",
            "Reunion",
            "Romania",
            "Russia",
            "Rwanda",
            "Saint Barthelemy",
            "Saint Kitts and Nevis",
            "Saint Lucia",
            "Saint Martin",
            "Saint Pierre and Miquelon",
            "Saint Vincent and the Grenadines",
            "Samoa",
            "San Marino",
            "Sao Tome and Principe",
            "Saudi Arabia",
            "Senegal",
            "Serbia",
            "Seychelles",
            "Sierra Leone",
            "Singapore",
            "Sint Maarten",
            "Slovakia",
            "Slovenia",
            "Solomon Islands",
            "Somalia",
            "South Africa",
            "South Korea",
            "South Sudan",
            "Spain",
            "Sri Lanka",
            "Sudan",
            "Suriname",
            "Sweden",
            "Switzerland",
            "Syria",
            "Taiwan",
            "Tajikistan",
            "Tanzania",
            "Thailand",
            "Timor-Leste",
            "Togo",
            "Tokelau",
            "Tonga",
            "Trinidad and Tobago",
            "Tunisia",
            "Turkey",
            "Turkmenistan",
            "Turks and Caicos Islands",
            "Tuvalu",
            "Uganda",
            "Ukraine",
            "United Arab Emirates",
            "United Kingdom",
            "United States",
            "United States Virgin Islands",
            "Uruguay",
            "Uzbekistan",
            "Vanuatu",
            "Vatican City",
            "Venezuela",
            "Vietnam",
            "Wallis and Futuna",
            "Western Sahara",
            "Yemen",
            "Zambia",
            "Zimbabwe"
           ],
           "locationmode": "ISO-3",
           "locations": [
            "AFG",
            "ALB",
            "DZA",
            "ASM",
            "AND",
            "AGO",
            "AIA",
            "ATG",
            "ARG",
            "ARM",
            "ABW",
            "AUS",
            "AUT",
            "AZE",
            "BHS",
            "BHR",
            "BGD",
            "BRB",
            "BLR",
            "BEL",
            "BLZ",
            "BEN",
            "BMU",
            "BTN",
            "BOL",
            "BIH",
            "BWA",
            "BRA",
            "VGB",
            "BRN",
            "BGR",
            "BFA",
            "BDI",
            "KHM",
            "CMR",
            "CAN",
            "CPV",
            "CYM",
            "CAF",
            "TCD",
            "CHL",
            "CHN",
            "COL",
            "COM",
            "COK",
            "CRI",
            "HRV",
            "CUB",
            "CUW",
            "CYP",
            "CZE",
            "DNK",
            "DJI",
            "DMA",
            "DOM",
            "COD",
            "ECU",
            "EGY",
            "SLV",
            "GNQ",
            "ERI",
            "EST",
            "SWZ",
            "ETH",
            "FLK",
            "FRO",
            "FJI",
            "FIN",
            "FRA",
            "GUF",
            "PYF",
            "GAB",
            "GMB",
            "GEO",
            "DEU",
            "GHA",
            "GIB",
            "GRC",
            "GRL",
            "GRD",
            "GLP",
            "GUM",
            "GTM",
            "GGY",
            "GIN",
            "GNB",
            "GUY",
            "HTI",
            "HND",
            "HKG",
            "HUN",
            "ISL",
            "IND",
            "IDN",
            "IRN",
            "IRQ",
            "IRL",
            "IMN",
            "ISR",
            "ITA",
            "CIV",
            "JAM",
            "JPN",
            "JEY",
            "JOR",
            "KAZ",
            "KEN",
            "KIR",
            "KWT",
            "KGZ",
            "LAO",
            "LVA",
            "LBN",
            "LSO",
            "LBR",
            "LBY",
            "LIE",
            "LTU",
            "LUX",
            "MAC",
            "MDG",
            "MWI",
            "MYS",
            "MDV",
            "MLI",
            "MLT",
            "MHL",
            "MTQ",
            "MRT",
            "MUS",
            "MYT",
            "MEX",
            "FSM",
            "MDA",
            "MCO",
            "MNG",
            "MNE",
            "MSR",
            "MAR",
            "MOZ",
            "MMR",
            "NAM",
            "NRU",
            "NPL",
            "NLD",
            "NCL",
            "NZL",
            "NIC",
            "NER",
            "NGA",
            "NIU",
            "PRK",
            "MKD",
            "NFK",
            "NOR",
            "OMN",
            "PAK",
            "PLW",
            "PSE",
            "PAN",
            "PNG",
            "PRY",
            "PER",
            "PHL",
            "POL",
            "PRT",
            "PRI",
            "QAT",
            "COG",
            "REU",
            "ROU",
            "RUS",
            "RWA",
            "BLM",
            "KNA",
            "LCA",
            "MAF",
            "SPM",
            "VCT",
            "WSM",
            "SMR",
            "STP",
            "SAU",
            "SEN",
            "SRB",
            "SYC",
            "SLE",
            "SGP",
            "SXM",
            "SVK",
            "SVN",
            "SLB",
            "SOM",
            "ZAF",
            "KOR",
            "SSD",
            "ESP",
            "LKA",
            "SDN",
            "SUR",
            "SWE",
            "CHE",
            "SYR",
            "TWN",
            "TJK",
            "TZA",
            "THA",
            "TLS",
            "TGO",
            "TKL",
            "TON",
            "TTO",
            "TUN",
            "TUR",
            "TKM",
            "TCA",
            "TUV",
            "UGA",
            "UKR",
            "ARE",
            "GBR",
            "USA",
            "VIR",
            "URY",
            "UZB",
            "VUT",
            "VAT",
            "VEN",
            "VNM",
            "WLF",
            "ESH",
            "YEM",
            "ZMB",
            "ZWE"
           ],
           "name": "",
           "type": "choropleth",
           "z": [
            33753499,
            2882481,
            39543154,
            51368,
            71746,
            28127721,
            14525,
            89941,
            43257065,
            2878595,
            104257,
            23820236,
            8642421,
            9863480,
            392697,
            1362142,
            157830000,
            278083,
            9700609,
            11248303,
            359871,
            10932783,
            63144,
            743274,
            11090085,
            3524324,
            2305171,
            205188205,
            29366,
            421437,
            7309253,
            18718019,
            10727148,
            15417523,
            23012646,
            35732126,
            552166,
            60911,
            4819333,
            14140274,
            17870124,
            1393715448,
            47119728,
            730216,
            17695,
            4895242,
            4254815,
            11339894,
            169572,
            1187280,
            10523798,
            5677796,
            1006259,
            70007,
            10405832,
            78656904,
            16195902,
            97723799,
            6231066,
            1346973,
            3340006,
            1314657,
            1133936,
            102471895,
            3408,
            48816,
            917200,
            5479461,
            63809769,
            257026,
            291787,
            2028517,
            2253133,
            3771132,
            82073226,
            28870939,
            32520,
            10806641,
            55895,
            118980,
            399089,
            167978,
            16001107,
            61629,
            11625998,
            1788919,
            755031,
            10563757,
            9294505,
            7399838,
            9844246,
            331060,
            1322866505,
            259091970,
            81790841,
            37757813,
            4665760,
            83593,
            8007778,
            60232906,
            23596741,
            2794445,
            127250933,
            100561,
            9494246,
            17835909,
            46851488,
            116707,
            3908743,
            5914980,
            6787419,
            1991955,
            6398940,
            2118521,
            4612329,
            6192235,
            37355,
            2963765,
            569408,
            615239,
            24850912,
            16938942,
            31068833,
            435582,
            18112907,
            456579,
            49410,
            383515,
            3946220,
            1293153,
            249545,
            120149897,
            109462,
            3277388,
            36760,
            2964749,
            633966,
            5059,
            34680458,
            26843246,
            51483949,
            2282704,
            11185,
            27610325,
            17041107,
            283032,
            4590590,
            6298598,
            20128124,
            183995785,
            1847,
            25258015,
            2107962,
            51514,
            5190356,
            4191776,
            210969298,
            17794,
            4484614,
            3957099,
            8682174,
            6177950,
            30711863,
            103031365,
            38553146,
            10365435,
            3497335,
            2414573,
            5064386,
            922495,
            19906079,
            144668389,
            11642959,
            9643,
            47790,
            175623,
            35020,
            5978,
            106482,
            203571,
            33570,
            201124,
            32749848,
            14356181,
            7519496,
            99240,
            7314773,
            5650018,
            40205,
            5424444,
            2080862,
            612660,
            13763906,
            55876504,
            50994401,
            11194299,
            46431342,
            21336697,
            38171178,
            575475,
            9849349,
            8281732,
            19205178,
            23512136,
            8524063,
            52542823,
            70294397,
            1205813,
            7473229,
            1454,
            106122,
            1460177,
            11557779,
            79646178,
            5766431,
            36538,
            10877,
            37477356,
            44982564,
            8916899,
            65224364,
            324607776,
            102803,
            3402818,
            30949417,
            276438,
            564,
            30529716,
            92191398,
            12182,
            491824,
            28516545,
            16248230,
            14154937
           ]
          }
         ],
         "name": "2015"
        },
        {
         "data": [
          {
           "coloraxis": "coloraxis",
           "customdata": [
            [
             "AFG"
            ],
            [
             "ALB"
            ],
            [
             "DZA"
            ],
            [
             "ASM"
            ],
            [
             "AND"
            ],
            [
             "AGO"
            ],
            [
             "AIA"
            ],
            [
             "ATG"
            ],
            [
             "ARG"
            ],
            [
             "ARM"
            ],
            [
             "ABW"
            ],
            [
             "AUS"
            ],
            [
             "AUT"
            ],
            [
             "AZE"
            ],
            [
             "BHS"
            ],
            [
             "BHR"
            ],
            [
             "BGD"
            ],
            [
             "BRB"
            ],
            [
             "BLR"
            ],
            [
             "BEL"
            ],
            [
             "BLZ"
            ],
            [
             "BEN"
            ],
            [
             "BMU"
            ],
            [
             "BTN"
            ],
            [
             "BOL"
            ],
            [
             "BIH"
            ],
            [
             "BWA"
            ],
            [
             "BRA"
            ],
            [
             "VGB"
            ],
            [
             "BRN"
            ],
            [
             "BGR"
            ],
            [
             "BFA"
            ],
            [
             "BDI"
            ],
            [
             "KHM"
            ],
            [
             "CMR"
            ],
            [
             "CAN"
            ],
            [
             "CPV"
            ],
            [
             "CYM"
            ],
            [
             "CAF"
            ],
            [
             "TCD"
            ],
            [
             "CHL"
            ],
            [
             "CHN"
            ],
            [
             "COL"
            ],
            [
             "COM"
            ],
            [
             "COK"
            ],
            [
             "CRI"
            ],
            [
             "HRV"
            ],
            [
             "CUB"
            ],
            [
             "CUW"
            ],
            [
             "CYP"
            ],
            [
             "CZE"
            ],
            [
             "DNK"
            ],
            [
             "DJI"
            ],
            [
             "DMA"
            ],
            [
             "DOM"
            ],
            [
             "COD"
            ],
            [
             "ECU"
            ],
            [
             "EGY"
            ],
            [
             "SLV"
            ],
            [
             "GNQ"
            ],
            [
             "ERI"
            ],
            [
             "EST"
            ],
            [
             "SWZ"
            ],
            [
             "ETH"
            ],
            [
             "FLK"
            ],
            [
             "FRO"
            ],
            [
             "FJI"
            ],
            [
             "FIN"
            ],
            [
             "FRA"
            ],
            [
             "GUF"
            ],
            [
             "PYF"
            ],
            [
             "GAB"
            ],
            [
             "GMB"
            ],
            [
             "GEO"
            ],
            [
             "DEU"
            ],
            [
             "GHA"
            ],
            [
             "GIB"
            ],
            [
             "GRC"
            ],
            [
             "GRL"
            ],
            [
             "GRD"
            ],
            [
             "GLP"
            ],
            [
             "GUM"
            ],
            [
             "GTM"
            ],
            [
             "GGY"
            ],
            [
             "GIN"
            ],
            [
             "GNB"
            ],
            [
             "GUY"
            ],
            [
             "HTI"
            ],
            [
             "HND"
            ],
            [
             "HKG"
            ],
            [
             "HUN"
            ],
            [
             "ISL"
            ],
            [
             "IND"
            ],
            [
             "IDN"
            ],
            [
             "IRN"
            ],
            [
             "IRQ"
            ],
            [
             "IRL"
            ],
            [
             "IMN"
            ],
            [
             "ISR"
            ],
            [
             "ITA"
            ],
            [
             "CIV"
            ],
            [
             "JAM"
            ],
            [
             "JPN"
            ],
            [
             "JEY"
            ],
            [
             "JOR"
            ],
            [
             "KAZ"
            ],
            [
             "KEN"
            ],
            [
             "KIR"
            ],
            [
             "KWT"
            ],
            [
             "KGZ"
            ],
            [
             "LAO"
            ],
            [
             "LVA"
            ],
            [
             "LBN"
            ],
            [
             "LSO"
            ],
            [
             "LBR"
            ],
            [
             "LBY"
            ],
            [
             "LIE"
            ],
            [
             "LTU"
            ],
            [
             "LUX"
            ],
            [
             "MAC"
            ],
            [
             "MDG"
            ],
            [
             "MWI"
            ],
            [
             "MYS"
            ],
            [
             "MDV"
            ],
            [
             "MLI"
            ],
            [
             "MLT"
            ],
            [
             "MHL"
            ],
            [
             "MTQ"
            ],
            [
             "MRT"
            ],
            [
             "MUS"
            ],
            [
             "MYT"
            ],
            [
             "MEX"
            ],
            [
             "FSM"
            ],
            [
             "MDA"
            ],
            [
             "MCO"
            ],
            [
             "MNG"
            ],
            [
             "MNE"
            ],
            [
             "MSR"
            ],
            [
             "MAR"
            ],
            [
             "MOZ"
            ],
            [
             "MMR"
            ],
            [
             "NAM"
            ],
            [
             "NRU"
            ],
            [
             "NPL"
            ],
            [
             "NLD"
            ],
            [
             "NCL"
            ],
            [
             "NZL"
            ],
            [
             "NIC"
            ],
            [
             "NER"
            ],
            [
             "NGA"
            ],
            [
             "NIU"
            ],
            [
             "PRK"
            ],
            [
             "MKD"
            ],
            [
             "NFK"
            ],
            [
             "NOR"
            ],
            [
             "OMN"
            ],
            [
             "PAK"
            ],
            [
             "PLW"
            ],
            [
             "PSE"
            ],
            [
             "PAN"
            ],
            [
             "PNG"
            ],
            [
             "PRY"
            ],
            [
             "PER"
            ],
            [
             "PHL"
            ],
            [
             "POL"
            ],
            [
             "PRT"
            ],
            [
             "PRI"
            ],
            [
             "QAT"
            ],
            [
             "COG"
            ],
            [
             "REU"
            ],
            [
             "ROU"
            ],
            [
             "RUS"
            ],
            [
             "RWA"
            ],
            [
             "BLM"
            ],
            [
             "KNA"
            ],
            [
             "LCA"
            ],
            [
             "MAF"
            ],
            [
             "SPM"
            ],
            [
             "VCT"
            ],
            [
             "WSM"
            ],
            [
             "SMR"
            ],
            [
             "STP"
            ],
            [
             "SAU"
            ],
            [
             "SEN"
            ],
            [
             "SRB"
            ],
            [
             "SYC"
            ],
            [
             "SLE"
            ],
            [
             "SGP"
            ],
            [
             "SXM"
            ],
            [
             "SVK"
            ],
            [
             "SVN"
            ],
            [
             "SLB"
            ],
            [
             "SOM"
            ],
            [
             "ZAF"
            ],
            [
             "KOR"
            ],
            [
             "SSD"
            ],
            [
             "ESP"
            ],
            [
             "LKA"
            ],
            [
             "SDN"
            ],
            [
             "SUR"
            ],
            [
             "SWE"
            ],
            [
             "CHE"
            ],
            [
             "SYR"
            ],
            [
             "TWN"
            ],
            [
             "TJK"
            ],
            [
             "TZA"
            ],
            [
             "THA"
            ],
            [
             "TLS"
            ],
            [
             "TGO"
            ],
            [
             "TKL"
            ],
            [
             "TON"
            ],
            [
             "TTO"
            ],
            [
             "TUN"
            ],
            [
             "TUR"
            ],
            [
             "TKM"
            ],
            [
             "TCA"
            ],
            [
             "TUV"
            ],
            [
             "UGA"
            ],
            [
             "UKR"
            ],
            [
             "ARE"
            ],
            [
             "GBR"
            ],
            [
             "USA"
            ],
            [
             "VIR"
            ],
            [
             "URY"
            ],
            [
             "UZB"
            ],
            [
             "VUT"
            ],
            [
             "VAT"
            ],
            [
             "VEN"
            ],
            [
             "VNM"
            ],
            [
             "WLF"
            ],
            [
             "ESH"
            ],
            [
             "YEM"
            ],
            [
             "ZMB"
            ],
            [
             "ZWE"
            ]
           ],
           "geo": "geo",
           "hovertemplate": "<b>%{hovertext}</b><br><br>Year=2020<br>Population=%{z}<extra></extra>",
           "hovertext": [
            "Afghanistan",
            "Albania",
            "Algeria",
            "American Samoa",
            "Andorra",
            "Angola",
            "Anguilla",
            "Antigua and Barbuda",
            "Argentina",
            "Armenia",
            "Aruba",
            "Australia",
            "Austria",
            "Azerbaijan",
            "Bahamas",
            "Bahrain",
            "Bangladesh",
            "Barbados",
            "Belarus",
            "Belgium",
            "Belize",
            "Benin",
            "Bermuda",
            "Bhutan",
            "Bolivia",
            "Bosnia and Herzegovina",
            "Botswana",
            "Brazil",
            "British Virgin Islands",
            "Brunei",
            "Bulgaria",
            "Burkina Faso",
            "Burundi",
            "Cambodia",
            "Cameroon",
            "Canada",
            "Cape Verde",
            "Cayman Islands",
            "Central African Republic",
            "Chad",
            "Chile",
            "China",
            "Colombia",
            "Comoros",
            "Cook Islands",
            "Costa Rica",
            "Croatia",
            "Cuba",
            "Curacao",
            "Cyprus",
            "Czech Republic",
            "Denmark",
            "Djibouti",
            "Dominica",
            "Dominican Republic",
            "DR Congo",
            "Ecuador",
            "Egypt",
            "El Salvador",
            "Equatorial Guinea",
            "Eritrea",
            "Estonia",
            "Eswatini",
            "Ethiopia",
            "Falkland Islands",
            "Faroe Islands",
            "Fiji",
            "Finland",
            "France",
            "French Guiana",
            "French Polynesia",
            "Gabon",
            "Gambia",
            "Georgia",
            "Germany",
            "Ghana",
            "Gibraltar",
            "Greece",
            "Greenland",
            "Grenada",
            "Guadeloupe",
            "Guam",
            "Guatemala",
            "Guernsey",
            "Guinea",
            "Guinea-Bissau",
            "Guyana",
            "Haiti",
            "Honduras",
            "Hong Kong",
            "Hungary",
            "Iceland",
            "India",
            "Indonesia",
            "Iran",
            "Iraq",
            "Ireland",
            "Isle of Man",
            "Israel",
            "Italy",
            "Ivory Coast",
            "Jamaica",
            "Japan",
            "Jersey",
            "Jordan",
            "Kazakhstan",
            "Kenya",
            "Kiribati",
            "Kuwait",
            "Kyrgyzstan",
            "Laos",
            "Latvia",
            "Lebanon",
            "Lesotho",
            "Liberia",
            "Libya",
            "Liechtenstein",
            "Lithuania",
            "Luxembourg",
            "Macau",
            "Madagascar",
            "Malawi",
            "Malaysia",
            "Maldives",
            "Mali",
            "Malta",
            "Marshall Islands",
            "Martinique",
            "Mauritania",
            "Mauritius",
            "Mayotte",
            "Mexico",
            "Micronesia",
            "Moldova",
            "Monaco",
            "Mongolia",
            "Montenegro",
            "Montserrat",
            "Morocco",
            "Mozambique",
            "Myanmar",
            "Namibia",
            "Nauru",
            "Nepal",
            "Netherlands",
            "New Caledonia",
            "New Zealand",
            "Nicaragua",
            "Niger",
            "Nigeria",
            "Niue",
            "North Korea",
            "North Macedonia",
            "Northern Mariana Islands",
            "Norway",
            "Oman",
            "Pakistan",
            "Palau",
            "Palestine",
            "Panama",
            "Papua New Guinea",
            "Paraguay",
            "Peru",
            "Philippines",
            "Poland",
            "Portugal",
            "Puerto Rico",
            "Qatar",
            "Republic of the Congo",
            "Reunion",
            "Romania",
            "Russia",
            "Rwanda",
            "Saint Barthelemy",
            "Saint Kitts and Nevis",
            "Saint Lucia",
            "Saint Martin",
            "Saint Pierre and Miquelon",
            "Saint Vincent and the Grenadines",
            "Samoa",
            "San Marino",
            "Sao Tome and Principe",
            "Saudi Arabia",
            "Senegal",
            "Serbia",
            "Seychelles",
            "Sierra Leone",
            "Singapore",
            "Sint Maarten",
            "Slovakia",
            "Slovenia",
            "Solomon Islands",
            "Somalia",
            "South Africa",
            "South Korea",
            "South Sudan",
            "Spain",
            "Sri Lanka",
            "Sudan",
            "Suriname",
            "Sweden",
            "Switzerland",
            "Syria",
            "Taiwan",
            "Tajikistan",
            "Tanzania",
            "Thailand",
            "Timor-Leste",
            "Togo",
            "Tokelau",
            "Tonga",
            "Trinidad and Tobago",
            "Tunisia",
            "Turkey",
            "Turkmenistan",
            "Turks and Caicos Islands",
            "Tuvalu",
            "Uganda",
            "Ukraine",
            "United Arab Emirates",
            "United Kingdom",
            "United States",
            "United States Virgin Islands",
            "Uruguay",
            "Uzbekistan",
            "Vanuatu",
            "Vatican City",
            "Venezuela",
            "Vietnam",
            "Wallis and Futuna",
            "Western Sahara",
            "Yemen",
            "Zambia",
            "Zimbabwe"
           ],
           "locationmode": "ISO-3",
           "locations": [
            "AFG",
            "ALB",
            "DZA",
            "ASM",
            "AND",
            "AGO",
            "AIA",
            "ATG",
            "ARG",
            "ARM",
            "ABW",
            "AUS",
            "AUT",
            "AZE",
            "BHS",
            "BHR",
            "BGD",
            "BRB",
            "BLR",
            "BEL",
            "BLZ",
            "BEN",
            "BMU",
            "BTN",
            "BOL",
            "BIH",
            "BWA",
            "BRA",
            "VGB",
            "BRN",
            "BGR",
            "BFA",
            "BDI",
            "KHM",
            "CMR",
            "CAN",
            "CPV",
            "CYM",
            "CAF",
            "TCD",
            "CHL",
            "CHN",
            "COL",
            "COM",
            "COK",
            "CRI",
            "HRV",
            "CUB",
            "CUW",
            "CYP",
            "CZE",
            "DNK",
            "DJI",
            "DMA",
            "DOM",
            "COD",
            "ECU",
            "EGY",
            "SLV",
            "GNQ",
            "ERI",
            "EST",
            "SWZ",
            "ETH",
            "FLK",
            "FRO",
            "FJI",
            "FIN",
            "FRA",
            "GUF",
            "PYF",
            "GAB",
            "GMB",
            "GEO",
            "DEU",
            "GHA",
            "GIB",
            "GRC",
            "GRL",
            "GRD",
            "GLP",
            "GUM",
            "GTM",
            "GGY",
            "GIN",
            "GNB",
            "GUY",
            "HTI",
            "HND",
            "HKG",
            "HUN",
            "ISL",
            "IND",
            "IDN",
            "IRN",
            "IRQ",
            "IRL",
            "IMN",
            "ISR",
            "ITA",
            "CIV",
            "JAM",
            "JPN",
            "JEY",
            "JOR",
            "KAZ",
            "KEN",
            "KIR",
            "KWT",
            "KGZ",
            "LAO",
            "LVA",
            "LBN",
            "LSO",
            "LBR",
            "LBY",
            "LIE",
            "LTU",
            "LUX",
            "MAC",
            "MDG",
            "MWI",
            "MYS",
            "MDV",
            "MLI",
            "MLT",
            "MHL",
            "MTQ",
            "MRT",
            "MUS",
            "MYT",
            "MEX",
            "FSM",
            "MDA",
            "MCO",
            "MNG",
            "MNE",
            "MSR",
            "MAR",
            "MOZ",
            "MMR",
            "NAM",
            "NRU",
            "NPL",
            "NLD",
            "NCL",
            "NZL",
            "NIC",
            "NER",
            "NGA",
            "NIU",
            "PRK",
            "MKD",
            "NFK",
            "NOR",
            "OMN",
            "PAK",
            "PLW",
            "PSE",
            "PAN",
            "PNG",
            "PRY",
            "PER",
            "PHL",
            "POL",
            "PRT",
            "PRI",
            "QAT",
            "COG",
            "REU",
            "ROU",
            "RUS",
            "RWA",
            "BLM",
            "KNA",
            "LCA",
            "MAF",
            "SPM",
            "VCT",
            "WSM",
            "SMR",
            "STP",
            "SAU",
            "SEN",
            "SRB",
            "SYC",
            "SLE",
            "SGP",
            "SXM",
            "SVK",
            "SVN",
            "SLB",
            "SOM",
            "ZAF",
            "KOR",
            "SSD",
            "ESP",
            "LKA",
            "SDN",
            "SUR",
            "SWE",
            "CHE",
            "SYR",
            "TWN",
            "TJK",
            "TZA",
            "THA",
            "TLS",
            "TGO",
            "TKL",
            "TON",
            "TTO",
            "TUN",
            "TUR",
            "TKM",
            "TCA",
            "TUV",
            "UGA",
            "UKR",
            "ARE",
            "GBR",
            "USA",
            "VIR",
            "URY",
            "UZB",
            "VUT",
            "VAT",
            "VEN",
            "VNM",
            "WLF",
            "ESH",
            "YEM",
            "ZMB",
            "ZWE"
           ],
           "name": "",
           "type": "choropleth",
           "z": [
            38972230,
            2866849,
            43451666,
            46189,
            77700,
            33428485,
            15585,
            92664,
            45036032,
            2805608,
            106585,
            25670051,
            8907777,
            10284951,
            406471,
            1477469,
            167420951,
            280693,
            9633740,
            11561717,
            394921,
            12643123,
            64031,
            772506,
            11936162,
            3318407,
            2546402,
            213196304,
            30910,
            441725,
            6979175,
            21522626,
            12220227,
            16396860,
            26491087,
            37888705,
            582640,
            67311,
            5343020,
            16644701,
            19300315,
            1424929781,
            50930662,
            806166,
            17029,
            5123105,
            4096868,
            11300698,
            189288,
            1237537,
            10530953,
            5825641,
            1090156,
            71995,
            10999664,
            92853164,
            17588595,
            107465134,
            6292731,
            1596049,
            3555868,
            1329444,
            1180655,
            117190911,
            3747,
            52415,
            920422,
            5529468,
            64480053,
            290969,
            301920,
            2292573,
            2573995,
            3765912,
            83328988,
            32180401,
            32709,
            10512232,
            56026,
            123663,
            395642,
            169231,
            17362718,
            62794,
            13205153,
            2015828,
            797202,
            11306801,
            10121763,
            7500958,
            9750573,
            366669,
            1396387127,
            271857970,
            87290193,
            42556984,
            4946119,
            84046,
            8757489,
            59500579,
            26811790,
            2820436,
            125244761,
            108319,
            10928721,
            18979243,
            51985780,
            126463,
            4360444,
            6424874,
            7319399,
            1897052,
            5662923,
            2254100,
            5087584,
            6653942,
            38756,
            2820267,
            630399,
            676283,
            28225177,
            19377061,
            33199993,
            514438,
            21224040,
            515357,
            43413,
            370391,
            4498604,
            1297828,
            305587,
            125998302,
            112106,
            3084847,
            36922,
            3294335,
            629048,
            4500,
            36688772,
            31178239,
            53423198,
            2489098,
            12315,
            29348627,
            17434557,
            286403,
            5061133,
            6755895,
            24333639,
            208327405,
            1942,
            25867467,
            2111072,
            49587,
            5379839,
            4543399,
            227196741,
            17972,
            5019401,
            4294396,
            9749640,
            6618695,
            33304756,
            112190977,
            38428366,
            10298192,
            3271564,
            2760385,
            5702174,
            957822,
            19442038,
            145617329,
            13146362,
            10681,
            47642,
            179237,
            32552,
            5906,
            104632,
            214929,
            34007,
            218641,
            35997107,
            16436119,
            7358005,
            105530,
            8233969,
            5909869,
            43621,
            5456681,
            2117641,
            691191,
            16537016,
            58801927,
            51844690,
            10606227,
            47363807,
            21715079,
            44440486,
            607065,
            10368969,
            8638613,
            20772595,
            23821464,
            9543207,
            61704518,
            71475664,
            1299995,
            8442580,
            1827,
            105254,
            1518147,
            12161723,
            84135428,
            6250438,
            44276,
            11069,
            44404611,
            43909666,
            9287289,
            67059474,
            335942003,
            100442,
            3429086,
            33526656,
            311685,
            520,
            28490453,
            96648685,
            11655,
            556048,
            32284046,
            18927715,
            15669666
           ]
          }
         ],
         "name": "2020"
        },
        {
         "data": [
          {
           "coloraxis": "coloraxis",
           "customdata": [
            [
             "AFG"
            ],
            [
             "ALB"
            ],
            [
             "DZA"
            ],
            [
             "ASM"
            ],
            [
             "AND"
            ],
            [
             "AGO"
            ],
            [
             "AIA"
            ],
            [
             "ATG"
            ],
            [
             "ARG"
            ],
            [
             "ARM"
            ],
            [
             "ABW"
            ],
            [
             "AUS"
            ],
            [
             "AUT"
            ],
            [
             "AZE"
            ],
            [
             "BHS"
            ],
            [
             "BHR"
            ],
            [
             "BGD"
            ],
            [
             "BRB"
            ],
            [
             "BLR"
            ],
            [
             "BEL"
            ],
            [
             "BLZ"
            ],
            [
             "BEN"
            ],
            [
             "BMU"
            ],
            [
             "BTN"
            ],
            [
             "BOL"
            ],
            [
             "BIH"
            ],
            [
             "BWA"
            ],
            [
             "BRA"
            ],
            [
             "VGB"
            ],
            [
             "BRN"
            ],
            [
             "BGR"
            ],
            [
             "BFA"
            ],
            [
             "BDI"
            ],
            [
             "KHM"
            ],
            [
             "CMR"
            ],
            [
             "CAN"
            ],
            [
             "CPV"
            ],
            [
             "CYM"
            ],
            [
             "CAF"
            ],
            [
             "TCD"
            ],
            [
             "CHL"
            ],
            [
             "CHN"
            ],
            [
             "COL"
            ],
            [
             "COM"
            ],
            [
             "COK"
            ],
            [
             "CRI"
            ],
            [
             "HRV"
            ],
            [
             "CUB"
            ],
            [
             "CUW"
            ],
            [
             "CYP"
            ],
            [
             "CZE"
            ],
            [
             "DNK"
            ],
            [
             "DJI"
            ],
            [
             "DMA"
            ],
            [
             "DOM"
            ],
            [
             "COD"
            ],
            [
             "ECU"
            ],
            [
             "EGY"
            ],
            [
             "SLV"
            ],
            [
             "GNQ"
            ],
            [
             "ERI"
            ],
            [
             "EST"
            ],
            [
             "SWZ"
            ],
            [
             "ETH"
            ],
            [
             "FLK"
            ],
            [
             "FRO"
            ],
            [
             "FJI"
            ],
            [
             "FIN"
            ],
            [
             "FRA"
            ],
            [
             "GUF"
            ],
            [
             "PYF"
            ],
            [
             "GAB"
            ],
            [
             "GMB"
            ],
            [
             "GEO"
            ],
            [
             "DEU"
            ],
            [
             "GHA"
            ],
            [
             "GIB"
            ],
            [
             "GRC"
            ],
            [
             "GRL"
            ],
            [
             "GRD"
            ],
            [
             "GLP"
            ],
            [
             "GUM"
            ],
            [
             "GTM"
            ],
            [
             "GGY"
            ],
            [
             "GIN"
            ],
            [
             "GNB"
            ],
            [
             "GUY"
            ],
            [
             "HTI"
            ],
            [
             "HND"
            ],
            [
             "HKG"
            ],
            [
             "HUN"
            ],
            [
             "ISL"
            ],
            [
             "IND"
            ],
            [
             "IDN"
            ],
            [
             "IRN"
            ],
            [
             "IRQ"
            ],
            [
             "IRL"
            ],
            [
             "IMN"
            ],
            [
             "ISR"
            ],
            [
             "ITA"
            ],
            [
             "CIV"
            ],
            [
             "JAM"
            ],
            [
             "JPN"
            ],
            [
             "JEY"
            ],
            [
             "JOR"
            ],
            [
             "KAZ"
            ],
            [
             "KEN"
            ],
            [
             "KIR"
            ],
            [
             "KWT"
            ],
            [
             "KGZ"
            ],
            [
             "LAO"
            ],
            [
             "LVA"
            ],
            [
             "LBN"
            ],
            [
             "LSO"
            ],
            [
             "LBR"
            ],
            [
             "LBY"
            ],
            [
             "LIE"
            ],
            [
             "LTU"
            ],
            [
             "LUX"
            ],
            [
             "MAC"
            ],
            [
             "MDG"
            ],
            [
             "MWI"
            ],
            [
             "MYS"
            ],
            [
             "MDV"
            ],
            [
             "MLI"
            ],
            [
             "MLT"
            ],
            [
             "MHL"
            ],
            [
             "MTQ"
            ],
            [
             "MRT"
            ],
            [
             "MUS"
            ],
            [
             "MYT"
            ],
            [
             "MEX"
            ],
            [
             "FSM"
            ],
            [
             "MDA"
            ],
            [
             "MCO"
            ],
            [
             "MNG"
            ],
            [
             "MNE"
            ],
            [
             "MSR"
            ],
            [
             "MAR"
            ],
            [
             "MOZ"
            ],
            [
             "MMR"
            ],
            [
             "NAM"
            ],
            [
             "NRU"
            ],
            [
             "NPL"
            ],
            [
             "NLD"
            ],
            [
             "NCL"
            ],
            [
             "NZL"
            ],
            [
             "NIC"
            ],
            [
             "NER"
            ],
            [
             "NGA"
            ],
            [
             "NIU"
            ],
            [
             "PRK"
            ],
            [
             "MKD"
            ],
            [
             "NFK"
            ],
            [
             "NOR"
            ],
            [
             "OMN"
            ],
            [
             "PAK"
            ],
            [
             "PLW"
            ],
            [
             "PSE"
            ],
            [
             "PAN"
            ],
            [
             "PNG"
            ],
            [
             "PRY"
            ],
            [
             "PER"
            ],
            [
             "PHL"
            ],
            [
             "POL"
            ],
            [
             "PRT"
            ],
            [
             "PRI"
            ],
            [
             "QAT"
            ],
            [
             "COG"
            ],
            [
             "REU"
            ],
            [
             "ROU"
            ],
            [
             "RUS"
            ],
            [
             "RWA"
            ],
            [
             "BLM"
            ],
            [
             "KNA"
            ],
            [
             "LCA"
            ],
            [
             "MAF"
            ],
            [
             "SPM"
            ],
            [
             "VCT"
            ],
            [
             "WSM"
            ],
            [
             "SMR"
            ],
            [
             "STP"
            ],
            [
             "SAU"
            ],
            [
             "SEN"
            ],
            [
             "SRB"
            ],
            [
             "SYC"
            ],
            [
             "SLE"
            ],
            [
             "SGP"
            ],
            [
             "SXM"
            ],
            [
             "SVK"
            ],
            [
             "SVN"
            ],
            [
             "SLB"
            ],
            [
             "SOM"
            ],
            [
             "ZAF"
            ],
            [
             "KOR"
            ],
            [
             "SSD"
            ],
            [
             "ESP"
            ],
            [
             "LKA"
            ],
            [
             "SDN"
            ],
            [
             "SUR"
            ],
            [
             "SWE"
            ],
            [
             "CHE"
            ],
            [
             "SYR"
            ],
            [
             "TWN"
            ],
            [
             "TJK"
            ],
            [
             "TZA"
            ],
            [
             "THA"
            ],
            [
             "TLS"
            ],
            [
             "TGO"
            ],
            [
             "TKL"
            ],
            [
             "TON"
            ],
            [
             "TTO"
            ],
            [
             "TUN"
            ],
            [
             "TUR"
            ],
            [
             "TKM"
            ],
            [
             "TCA"
            ],
            [
             "TUV"
            ],
            [
             "UGA"
            ],
            [
             "UKR"
            ],
            [
             "ARE"
            ],
            [
             "GBR"
            ],
            [
             "USA"
            ],
            [
             "VIR"
            ],
            [
             "URY"
            ],
            [
             "UZB"
            ],
            [
             "VUT"
            ],
            [
             "VAT"
            ],
            [
             "VEN"
            ],
            [
             "VNM"
            ],
            [
             "WLF"
            ],
            [
             "ESH"
            ],
            [
             "YEM"
            ],
            [
             "ZMB"
            ],
            [
             "ZWE"
            ]
           ],
           "geo": "geo",
           "hovertemplate": "<b>%{hovertext}</b><br><br>Year=2022<br>Population=%{z}<extra></extra>",
           "hovertext": [
            "Afghanistan",
            "Albania",
            "Algeria",
            "American Samoa",
            "Andorra",
            "Angola",
            "Anguilla",
            "Antigua and Barbuda",
            "Argentina",
            "Armenia",
            "Aruba",
            "Australia",
            "Austria",
            "Azerbaijan",
            "Bahamas",
            "Bahrain",
            "Bangladesh",
            "Barbados",
            "Belarus",
            "Belgium",
            "Belize",
            "Benin",
            "Bermuda",
            "Bhutan",
            "Bolivia",
            "Bosnia and Herzegovina",
            "Botswana",
            "Brazil",
            "British Virgin Islands",
            "Brunei",
            "Bulgaria",
            "Burkina Faso",
            "Burundi",
            "Cambodia",
            "Cameroon",
            "Canada",
            "Cape Verde",
            "Cayman Islands",
            "Central African Republic",
            "Chad",
            "Chile",
            "China",
            "Colombia",
            "Comoros",
            "Cook Islands",
            "Costa Rica",
            "Croatia",
            "Cuba",
            "Curacao",
            "Cyprus",
            "Czech Republic",
            "Denmark",
            "Djibouti",
            "Dominica",
            "Dominican Republic",
            "DR Congo",
            "Ecuador",
            "Egypt",
            "El Salvador",
            "Equatorial Guinea",
            "Eritrea",
            "Estonia",
            "Eswatini",
            "Ethiopia",
            "Falkland Islands",
            "Faroe Islands",
            "Fiji",
            "Finland",
            "France",
            "French Guiana",
            "French Polynesia",
            "Gabon",
            "Gambia",
            "Georgia",
            "Germany",
            "Ghana",
            "Gibraltar",
            "Greece",
            "Greenland",
            "Grenada",
            "Guadeloupe",
            "Guam",
            "Guatemala",
            "Guernsey",
            "Guinea",
            "Guinea-Bissau",
            "Guyana",
            "Haiti",
            "Honduras",
            "Hong Kong",
            "Hungary",
            "Iceland",
            "India",
            "Indonesia",
            "Iran",
            "Iraq",
            "Ireland",
            "Isle of Man",
            "Israel",
            "Italy",
            "Ivory Coast",
            "Jamaica",
            "Japan",
            "Jersey",
            "Jordan",
            "Kazakhstan",
            "Kenya",
            "Kiribati",
            "Kuwait",
            "Kyrgyzstan",
            "Laos",
            "Latvia",
            "Lebanon",
            "Lesotho",
            "Liberia",
            "Libya",
            "Liechtenstein",
            "Lithuania",
            "Luxembourg",
            "Macau",
            "Madagascar",
            "Malawi",
            "Malaysia",
            "Maldives",
            "Mali",
            "Malta",
            "Marshall Islands",
            "Martinique",
            "Mauritania",
            "Mauritius",
            "Mayotte",
            "Mexico",
            "Micronesia",
            "Moldova",
            "Monaco",
            "Mongolia",
            "Montenegro",
            "Montserrat",
            "Morocco",
            "Mozambique",
            "Myanmar",
            "Namibia",
            "Nauru",
            "Nepal",
            "Netherlands",
            "New Caledonia",
            "New Zealand",
            "Nicaragua",
            "Niger",
            "Nigeria",
            "Niue",
            "North Korea",
            "North Macedonia",
            "Northern Mariana Islands",
            "Norway",
            "Oman",
            "Pakistan",
            "Palau",
            "Palestine",
            "Panama",
            "Papua New Guinea",
            "Paraguay",
            "Peru",
            "Philippines",
            "Poland",
            "Portugal",
            "Puerto Rico",
            "Qatar",
            "Republic of the Congo",
            "Reunion",
            "Romania",
            "Russia",
            "Rwanda",
            "Saint Barthelemy",
            "Saint Kitts and Nevis",
            "Saint Lucia",
            "Saint Martin",
            "Saint Pierre and Miquelon",
            "Saint Vincent and the Grenadines",
            "Samoa",
            "San Marino",
            "Sao Tome and Principe",
            "Saudi Arabia",
            "Senegal",
            "Serbia",
            "Seychelles",
            "Sierra Leone",
            "Singapore",
            "Sint Maarten",
            "Slovakia",
            "Slovenia",
            "Solomon Islands",
            "Somalia",
            "South Africa",
            "South Korea",
            "South Sudan",
            "Spain",
            "Sri Lanka",
            "Sudan",
            "Suriname",
            "Sweden",
            "Switzerland",
            "Syria",
            "Taiwan",
            "Tajikistan",
            "Tanzania",
            "Thailand",
            "Timor-Leste",
            "Togo",
            "Tokelau",
            "Tonga",
            "Trinidad and Tobago",
            "Tunisia",
            "Turkey",
            "Turkmenistan",
            "Turks and Caicos Islands",
            "Tuvalu",
            "Uganda",
            "Ukraine",
            "United Arab Emirates",
            "United Kingdom",
            "United States",
            "United States Virgin Islands",
            "Uruguay",
            "Uzbekistan",
            "Vanuatu",
            "Vatican City",
            "Venezuela",
            "Vietnam",
            "Wallis and Futuna",
            "Western Sahara",
            "Yemen",
            "Zambia",
            "Zimbabwe"
           ],
           "locationmode": "ISO-3",
           "locations": [
            "AFG",
            "ALB",
            "DZA",
            "ASM",
            "AND",
            "AGO",
            "AIA",
            "ATG",
            "ARG",
            "ARM",
            "ABW",
            "AUS",
            "AUT",
            "AZE",
            "BHS",
            "BHR",
            "BGD",
            "BRB",
            "BLR",
            "BEL",
            "BLZ",
            "BEN",
            "BMU",
            "BTN",
            "BOL",
            "BIH",
            "BWA",
            "BRA",
            "VGB",
            "BRN",
            "BGR",
            "BFA",
            "BDI",
            "KHM",
            "CMR",
            "CAN",
            "CPV",
            "CYM",
            "CAF",
            "TCD",
            "CHL",
            "CHN",
            "COL",
            "COM",
            "COK",
            "CRI",
            "HRV",
            "CUB",
            "CUW",
            "CYP",
            "CZE",
            "DNK",
            "DJI",
            "DMA",
            "DOM",
            "COD",
            "ECU",
            "EGY",
            "SLV",
            "GNQ",
            "ERI",
            "EST",
            "SWZ",
            "ETH",
            "FLK",
            "FRO",
            "FJI",
            "FIN",
            "FRA",
            "GUF",
            "PYF",
            "GAB",
            "GMB",
            "GEO",
            "DEU",
            "GHA",
            "GIB",
            "GRC",
            "GRL",
            "GRD",
            "GLP",
            "GUM",
            "GTM",
            "GGY",
            "GIN",
            "GNB",
            "GUY",
            "HTI",
            "HND",
            "HKG",
            "HUN",
            "ISL",
            "IND",
            "IDN",
            "IRN",
            "IRQ",
            "IRL",
            "IMN",
            "ISR",
            "ITA",
            "CIV",
            "JAM",
            "JPN",
            "JEY",
            "JOR",
            "KAZ",
            "KEN",
            "KIR",
            "KWT",
            "KGZ",
            "LAO",
            "LVA",
            "LBN",
            "LSO",
            "LBR",
            "LBY",
            "LIE",
            "LTU",
            "LUX",
            "MAC",
            "MDG",
            "MWI",
            "MYS",
            "MDV",
            "MLI",
            "MLT",
            "MHL",
            "MTQ",
            "MRT",
            "MUS",
            "MYT",
            "MEX",
            "FSM",
            "MDA",
            "MCO",
            "MNG",
            "MNE",
            "MSR",
            "MAR",
            "MOZ",
            "MMR",
            "NAM",
            "NRU",
            "NPL",
            "NLD",
            "NCL",
            "NZL",
            "NIC",
            "NER",
            "NGA",
            "NIU",
            "PRK",
            "MKD",
            "NFK",
            "NOR",
            "OMN",
            "PAK",
            "PLW",
            "PSE",
            "PAN",
            "PNG",
            "PRY",
            "PER",
            "PHL",
            "POL",
            "PRT",
            "PRI",
            "QAT",
            "COG",
            "REU",
            "ROU",
            "RUS",
            "RWA",
            "BLM",
            "KNA",
            "LCA",
            "MAF",
            "SPM",
            "VCT",
            "WSM",
            "SMR",
            "STP",
            "SAU",
            "SEN",
            "SRB",
            "SYC",
            "SLE",
            "SGP",
            "SXM",
            "SVK",
            "SVN",
            "SLB",
            "SOM",
            "ZAF",
            "KOR",
            "SSD",
            "ESP",
            "LKA",
            "SDN",
            "SUR",
            "SWE",
            "CHE",
            "SYR",
            "TWN",
            "TJK",
            "TZA",
            "THA",
            "TLS",
            "TGO",
            "TKL",
            "TON",
            "TTO",
            "TUN",
            "TUR",
            "TKM",
            "TCA",
            "TUV",
            "UGA",
            "UKR",
            "ARE",
            "GBR",
            "USA",
            "VIR",
            "URY",
            "UZB",
            "VUT",
            "VAT",
            "VEN",
            "VNM",
            "WLF",
            "ESH",
            "YEM",
            "ZMB",
            "ZWE"
           ],
           "name": "",
           "type": "choropleth",
           "z": [
            41128771,
            2842321,
            44903225,
            44273,
            79824,
            35588987,
            15857,
            93763,
            45510318,
            2780469,
            106445,
            26177413,
            8939617,
            10358074,
            409984,
            1472233,
            171186372,
            281635,
            9534954,
            11655930,
            405272,
            13352864,
            64184,
            782455,
            12224110,
            3233526,
            2630296,
            215313498,
            31305,
            449002,
            6781953,
            22673762,
            12889576,
            16767842,
            27914536,
            38454327,
            593149,
            68706,
            5579144,
            17723315,
            19603733,
            1425887337,
            51874024,
            836774,
            17011,
            5180829,
            4030358,
            11212191,
            191163,
            1251488,
            10493986,
            5882261,
            1120849,
            72737,
            11228821,
            99010212,
            18001000,
            110990103,
            6336392,
            1674908,
            3684032,
            1326062,
            1201670,
            123379924,
            3780,
            53090,
            929766,
            5540745,
            64626628,
            304557,
            306279,
            2388992,
            2705992,
            3744385,
            83369843,
            33475870,
            32649,
            10384971,
            56466,
            125438,
            395752,
            171774,
            17843908,
            63301,
            13859341,
            2105566,
            808726,
            11584996,
            10432860,
            7488865,
            9967308,
            372899,
            1417173173,
            275501339,
            88550570,
            44496122,
            5023109,
            84519,
            9038309,
            59037474,
            28160542,
            2827377,
            123951692,
            110778,
            11285869,
            19397998,
            54027487,
            131232,
            4268873,
            6630623,
            7529475,
            1850651,
            5489739,
            2305825,
            5302681,
            6812341,
            39327,
            2750055,
            647599,
            695168,
            29611714,
            20405317,
            33938221,
            523787,
            22593590,
            533286,
            41569,
            367507,
            4736139,
            1299469,
            326101,
            127504125,
            114164,
            3272996,
            36469,
            3398366,
            627082,
            4390,
            37457971,
            32969517,
            54179306,
            2567012,
            12668,
            30547580,
            17564014,
            289950,
            5185288,
            6948392,
            26207977,
            218541212,
            1934,
            26069416,
            2093599,
            49551,
            5434319,
            4576298,
            235824862,
            18055,
            5250072,
            4408581,
            10142619,
            6780744,
            34049588,
            115559009,
            39857145,
            10270865,
            3252407,
            2695122,
            5970424,
            974052,
            19659267,
            144713314,
            13776698,
            10967,
            47657,
            179857,
            31791,
            5862,
            103948,
            222382,
            33660,
            227380,
            36408820,
            17316449,
            7221365,
            107118,
            8605718,
            5975689,
            44175,
            5643453,
            2119844,
            724273,
            17597511,
            59893885,
            51815810,
            10913164,
            47558630,
            21832143,
            46874204,
            618040,
            10549347,
            8740472,
            22125249,
            23893394,
            9952787,
            65497748,
            71697030,
            1341296,
            8848699,
            1871,
            106858,
            1531044,
            12356117,
            85341241,
            6430770,
            45703,
            11312,
            47249585,
            39701739,
            9441129,
            67508936,
            338289857,
            99465,
            3422794,
            34627652,
            326740,
            510,
            28301696,
            98186856,
            11572,
            575986,
            33696614,
            20017675,
            16320537
           ]
          }
         ],
         "name": "2022"
        }
       ],
       "layout": {
        "coloraxis": {
         "cmax": 400000000,
         "cmin": 0,
         "colorbar": {
          "title": {
           "text": "Population"
          }
         },
         "colorscale": [
          [
           0,
           "#440154"
          ],
          [
           0.1111111111111111,
           "#482878"
          ],
          [
           0.2222222222222222,
           "#3e4989"
          ],
          [
           0.3333333333333333,
           "#31688e"
          ],
          [
           0.4444444444444444,
           "#26828e"
          ],
          [
           0.5555555555555556,
           "#1f9e89"
          ],
          [
           0.6666666666666666,
           "#35b779"
          ],
          [
           0.7777777777777778,
           "#6ece58"
          ],
          [
           0.8888888888888888,
           "#b5de2b"
          ],
          [
           1,
           "#fde725"
          ]
         ]
        },
        "geo": {
         "center": {},
         "domain": {
          "x": [
           0,
           1
          ],
          "y": [
           0,
           1
          ]
         },
         "projection": {
          "type": "equirectangular"
         },
         "scope": "world"
        },
        "height": 600,
        "legend": {
         "tracegroupgap": 0
        },
        "sliders": [
         {
          "active": 0,
          "currentvalue": {
           "prefix": "Year="
          },
          "len": 0.9,
          "pad": {
           "b": 10,
           "t": 60
          },
          "steps": [
           {
            "args": [
             [
              "1970"
             ],
             {
              "frame": {
               "duration": 0,
               "redraw": true
              },
              "fromcurrent": true,
              "mode": "immediate",
              "transition": {
               "duration": 0,
               "easing": "linear"
              }
             }
            ],
            "label": "1970",
            "method": "animate"
           },
           {
            "args": [
             [
              "1980"
             ],
             {
              "frame": {
               "duration": 0,
               "redraw": true
              },
              "fromcurrent": true,
              "mode": "immediate",
              "transition": {
               "duration": 0,
               "easing": "linear"
              }
             }
            ],
            "label": "1980",
            "method": "animate"
           },
           {
            "args": [
             [
              "1990"
             ],
             {
              "frame": {
               "duration": 0,
               "redraw": true
              },
              "fromcurrent": true,
              "mode": "immediate",
              "transition": {
               "duration": 0,
               "easing": "linear"
              }
             }
            ],
            "label": "1990",
            "method": "animate"
           },
           {
            "args": [
             [
              "2000"
             ],
             {
              "frame": {
               "duration": 0,
               "redraw": true
              },
              "fromcurrent": true,
              "mode": "immediate",
              "transition": {
               "duration": 0,
               "easing": "linear"
              }
             }
            ],
            "label": "2000",
            "method": "animate"
           },
           {
            "args": [
             [
              "2010"
             ],
             {
              "frame": {
               "duration": 0,
               "redraw": true
              },
              "fromcurrent": true,
              "mode": "immediate",
              "transition": {
               "duration": 0,
               "easing": "linear"
              }
             }
            ],
            "label": "2010",
            "method": "animate"
           },
           {
            "args": [
             [
              "2015"
             ],
             {
              "frame": {
               "duration": 0,
               "redraw": true
              },
              "fromcurrent": true,
              "mode": "immediate",
              "transition": {
               "duration": 0,
               "easing": "linear"
              }
             }
            ],
            "label": "2015",
            "method": "animate"
           },
           {
            "args": [
             [
              "2020"
             ],
             {
              "frame": {
               "duration": 0,
               "redraw": true
              },
              "fromcurrent": true,
              "mode": "immediate",
              "transition": {
               "duration": 0,
               "easing": "linear"
              }
             }
            ],
            "label": "2020",
            "method": "animate"
           },
           {
            "args": [
             [
              "2022"
             ],
             {
              "frame": {
               "duration": 0,
               "redraw": true
              },
              "fromcurrent": true,
              "mode": "immediate",
              "transition": {
               "duration": 0,
               "easing": "linear"
              }
             }
            ],
            "label": "2022",
            "method": "animate"
           }
          ],
          "x": 0.1,
          "xanchor": "left",
          "y": 0,
          "yanchor": "top"
         }
        ],
        "template": {
         "data": {
          "bar": [
           {
            "error_x": {
             "color": "#2a3f5f"
            },
            "error_y": {
             "color": "#2a3f5f"
            },
            "marker": {
             "line": {
              "color": "#E5ECF6",
              "width": 0.5
             },
             "pattern": {
              "fillmode": "overlay",
              "size": 10,
              "solidity": 0.2
             }
            },
            "type": "bar"
           }
          ],
          "barpolar": [
           {
            "marker": {
             "line": {
              "color": "#E5ECF6",
              "width": 0.5
             },
             "pattern": {
              "fillmode": "overlay",
              "size": 10,
              "solidity": 0.2
             }
            },
            "type": "barpolar"
           }
          ],
          "carpet": [
           {
            "aaxis": {
             "endlinecolor": "#2a3f5f",
             "gridcolor": "white",
             "linecolor": "white",
             "minorgridcolor": "white",
             "startlinecolor": "#2a3f5f"
            },
            "baxis": {
             "endlinecolor": "#2a3f5f",
             "gridcolor": "white",
             "linecolor": "white",
             "minorgridcolor": "white",
             "startlinecolor": "#2a3f5f"
            },
            "type": "carpet"
           }
          ],
          "choropleth": [
           {
            "colorbar": {
             "outlinewidth": 0,
             "ticks": ""
            },
            "type": "choropleth"
           }
          ],
          "contour": [
           {
            "colorbar": {
             "outlinewidth": 0,
             "ticks": ""
            },
            "colorscale": [
             [
              0,
              "#0d0887"
             ],
             [
              0.1111111111111111,
              "#46039f"
             ],
             [
              0.2222222222222222,
              "#7201a8"
             ],
             [
              0.3333333333333333,
              "#9c179e"
             ],
             [
              0.4444444444444444,
              "#bd3786"
             ],
             [
              0.5555555555555556,
              "#d8576b"
             ],
             [
              0.6666666666666666,
              "#ed7953"
             ],
             [
              0.7777777777777778,
              "#fb9f3a"
             ],
             [
              0.8888888888888888,
              "#fdca26"
             ],
             [
              1,
              "#f0f921"
             ]
            ],
            "type": "contour"
           }
          ],
          "contourcarpet": [
           {
            "colorbar": {
             "outlinewidth": 0,
             "ticks": ""
            },
            "type": "contourcarpet"
           }
          ],
          "heatmap": [
           {
            "colorbar": {
             "outlinewidth": 0,
             "ticks": ""
            },
            "colorscale": [
             [
              0,
              "#0d0887"
             ],
             [
              0.1111111111111111,
              "#46039f"
             ],
             [
              0.2222222222222222,
              "#7201a8"
             ],
             [
              0.3333333333333333,
              "#9c179e"
             ],
             [
              0.4444444444444444,
              "#bd3786"
             ],
             [
              0.5555555555555556,
              "#d8576b"
             ],
             [
              0.6666666666666666,
              "#ed7953"
             ],
             [
              0.7777777777777778,
              "#fb9f3a"
             ],
             [
              0.8888888888888888,
              "#fdca26"
             ],
             [
              1,
              "#f0f921"
             ]
            ],
            "type": "heatmap"
           }
          ],
          "heatmapgl": [
           {
            "colorbar": {
             "outlinewidth": 0,
             "ticks": ""
            },
            "colorscale": [
             [
              0,
              "#0d0887"
             ],
             [
              0.1111111111111111,
              "#46039f"
             ],
             [
              0.2222222222222222,
              "#7201a8"
             ],
             [
              0.3333333333333333,
              "#9c179e"
             ],
             [
              0.4444444444444444,
              "#bd3786"
             ],
             [
              0.5555555555555556,
              "#d8576b"
             ],
             [
              0.6666666666666666,
              "#ed7953"
             ],
             [
              0.7777777777777778,
              "#fb9f3a"
             ],
             [
              0.8888888888888888,
              "#fdca26"
             ],
             [
              1,
              "#f0f921"
             ]
            ],
            "type": "heatmapgl"
           }
          ],
          "histogram": [
           {
            "marker": {
             "pattern": {
              "fillmode": "overlay",
              "size": 10,
              "solidity": 0.2
             }
            },
            "type": "histogram"
           }
          ],
          "histogram2d": [
           {
            "colorbar": {
             "outlinewidth": 0,
             "ticks": ""
            },
            "colorscale": [
             [
              0,
              "#0d0887"
             ],
             [
              0.1111111111111111,
              "#46039f"
             ],
             [
              0.2222222222222222,
              "#7201a8"
             ],
             [
              0.3333333333333333,
              "#9c179e"
             ],
             [
              0.4444444444444444,
              "#bd3786"
             ],
             [
              0.5555555555555556,
              "#d8576b"
             ],
             [
              0.6666666666666666,
              "#ed7953"
             ],
             [
              0.7777777777777778,
              "#fb9f3a"
             ],
             [
              0.8888888888888888,
              "#fdca26"
             ],
             [
              1,
              "#f0f921"
             ]
            ],
            "type": "histogram2d"
           }
          ],
          "histogram2dcontour": [
           {
            "colorbar": {
             "outlinewidth": 0,
             "ticks": ""
            },
            "colorscale": [
             [
              0,
              "#0d0887"
             ],
             [
              0.1111111111111111,
              "#46039f"
             ],
             [
              0.2222222222222222,
              "#7201a8"
             ],
             [
              0.3333333333333333,
              "#9c179e"
             ],
             [
              0.4444444444444444,
              "#bd3786"
             ],
             [
              0.5555555555555556,
              "#d8576b"
             ],
             [
              0.6666666666666666,
              "#ed7953"
             ],
             [
              0.7777777777777778,
              "#fb9f3a"
             ],
             [
              0.8888888888888888,
              "#fdca26"
             ],
             [
              1,
              "#f0f921"
             ]
            ],
            "type": "histogram2dcontour"
           }
          ],
          "mesh3d": [
           {
            "colorbar": {
             "outlinewidth": 0,
             "ticks": ""
            },
            "type": "mesh3d"
           }
          ],
          "parcoords": [
           {
            "line": {
             "colorbar": {
              "outlinewidth": 0,
              "ticks": ""
             }
            },
            "type": "parcoords"
           }
          ],
          "pie": [
           {
            "automargin": true,
            "type": "pie"
           }
          ],
          "scatter": [
           {
            "marker": {
             "colorbar": {
              "outlinewidth": 0,
              "ticks": ""
             }
            },
            "type": "scatter"
           }
          ],
          "scatter3d": [
           {
            "line": {
             "colorbar": {
              "outlinewidth": 0,
              "ticks": ""
             }
            },
            "marker": {
             "colorbar": {
              "outlinewidth": 0,
              "ticks": ""
             }
            },
            "type": "scatter3d"
           }
          ],
          "scattercarpet": [
           {
            "marker": {
             "colorbar": {
              "outlinewidth": 0,
              "ticks": ""
             }
            },
            "type": "scattercarpet"
           }
          ],
          "scattergeo": [
           {
            "marker": {
             "colorbar": {
              "outlinewidth": 0,
              "ticks": ""
             }
            },
            "type": "scattergeo"
           }
          ],
          "scattergl": [
           {
            "marker": {
             "colorbar": {
              "outlinewidth": 0,
              "ticks": ""
             }
            },
            "type": "scattergl"
           }
          ],
          "scattermapbox": [
           {
            "marker": {
             "colorbar": {
              "outlinewidth": 0,
              "ticks": ""
             }
            },
            "type": "scattermapbox"
           }
          ],
          "scatterpolar": [
           {
            "marker": {
             "colorbar": {
              "outlinewidth": 0,
              "ticks": ""
             }
            },
            "type": "scatterpolar"
           }
          ],
          "scatterpolargl": [
           {
            "marker": {
             "colorbar": {
              "outlinewidth": 0,
              "ticks": ""
             }
            },
            "type": "scatterpolargl"
           }
          ],
          "scatterternary": [
           {
            "marker": {
             "colorbar": {
              "outlinewidth": 0,
              "ticks": ""
             }
            },
            "type": "scatterternary"
           }
          ],
          "surface": [
           {
            "colorbar": {
             "outlinewidth": 0,
             "ticks": ""
            },
            "colorscale": [
             [
              0,
              "#0d0887"
             ],
             [
              0.1111111111111111,
              "#46039f"
             ],
             [
              0.2222222222222222,
              "#7201a8"
             ],
             [
              0.3333333333333333,
              "#9c179e"
             ],
             [
              0.4444444444444444,
              "#bd3786"
             ],
             [
              0.5555555555555556,
              "#d8576b"
             ],
             [
              0.6666666666666666,
              "#ed7953"
             ],
             [
              0.7777777777777778,
              "#fb9f3a"
             ],
             [
              0.8888888888888888,
              "#fdca26"
             ],
             [
              1,
              "#f0f921"
             ]
            ],
            "type": "surface"
           }
          ],
          "table": [
           {
            "cells": {
             "fill": {
              "color": "#EBF0F8"
             },
             "line": {
              "color": "white"
             }
            },
            "header": {
             "fill": {
              "color": "#C8D4E3"
             },
             "line": {
              "color": "white"
             }
            },
            "type": "table"
           }
          ]
         },
         "layout": {
          "annotationdefaults": {
           "arrowcolor": "#2a3f5f",
           "arrowhead": 0,
           "arrowwidth": 1
          },
          "autotypenumbers": "strict",
          "coloraxis": {
           "colorbar": {
            "outlinewidth": 0,
            "ticks": ""
           }
          },
          "colorscale": {
           "diverging": [
            [
             0,
             "#8e0152"
            ],
            [
             0.1,
             "#c51b7d"
            ],
            [
             0.2,
             "#de77ae"
            ],
            [
             0.3,
             "#f1b6da"
            ],
            [
             0.4,
             "#fde0ef"
            ],
            [
             0.5,
             "#f7f7f7"
            ],
            [
             0.6,
             "#e6f5d0"
            ],
            [
             0.7,
             "#b8e186"
            ],
            [
             0.8,
             "#7fbc41"
            ],
            [
             0.9,
             "#4d9221"
            ],
            [
             1,
             "#276419"
            ]
           ],
           "sequential": [
            [
             0,
             "#0d0887"
            ],
            [
             0.1111111111111111,
             "#46039f"
            ],
            [
             0.2222222222222222,
             "#7201a8"
            ],
            [
             0.3333333333333333,
             "#9c179e"
            ],
            [
             0.4444444444444444,
             "#bd3786"
            ],
            [
             0.5555555555555556,
             "#d8576b"
            ],
            [
             0.6666666666666666,
             "#ed7953"
            ],
            [
             0.7777777777777778,
             "#fb9f3a"
            ],
            [
             0.8888888888888888,
             "#fdca26"
            ],
            [
             1,
             "#f0f921"
            ]
           ],
           "sequentialminus": [
            [
             0,
             "#0d0887"
            ],
            [
             0.1111111111111111,
             "#46039f"
            ],
            [
             0.2222222222222222,
             "#7201a8"
            ],
            [
             0.3333333333333333,
             "#9c179e"
            ],
            [
             0.4444444444444444,
             "#bd3786"
            ],
            [
             0.5555555555555556,
             "#d8576b"
            ],
            [
             0.6666666666666666,
             "#ed7953"
            ],
            [
             0.7777777777777778,
             "#fb9f3a"
            ],
            [
             0.8888888888888888,
             "#fdca26"
            ],
            [
             1,
             "#f0f921"
            ]
           ]
          },
          "colorway": [
           "#636efa",
           "#EF553B",
           "#00cc96",
           "#ab63fa",
           "#FFA15A",
           "#19d3f3",
           "#FF6692",
           "#B6E880",
           "#FF97FF",
           "#FECB52"
          ],
          "font": {
           "color": "#2a3f5f"
          },
          "geo": {
           "bgcolor": "white",
           "lakecolor": "white",
           "landcolor": "#E5ECF6",
           "showlakes": true,
           "showland": true,
           "subunitcolor": "white"
          },
          "hoverlabel": {
           "align": "left"
          },
          "hovermode": "closest",
          "mapbox": {
           "style": "light"
          },
          "paper_bgcolor": "white",
          "plot_bgcolor": "#E5ECF6",
          "polar": {
           "angularaxis": {
            "gridcolor": "white",
            "linecolor": "white",
            "ticks": ""
           },
           "bgcolor": "#E5ECF6",
           "radialaxis": {
            "gridcolor": "white",
            "linecolor": "white",
            "ticks": ""
           }
          },
          "scene": {
           "xaxis": {
            "backgroundcolor": "#E5ECF6",
            "gridcolor": "white",
            "gridwidth": 2,
            "linecolor": "white",
            "showbackground": true,
            "ticks": "",
            "zerolinecolor": "white"
           },
           "yaxis": {
            "backgroundcolor": "#E5ECF6",
            "gridcolor": "white",
            "gridwidth": 2,
            "linecolor": "white",
            "showbackground": true,
            "ticks": "",
            "zerolinecolor": "white"
           },
           "zaxis": {
            "backgroundcolor": "#E5ECF6",
            "gridcolor": "white",
            "gridwidth": 2,
            "linecolor": "white",
            "showbackground": true,
            "ticks": "",
            "zerolinecolor": "white"
           }
          },
          "shapedefaults": {
           "line": {
            "color": "#2a3f5f"
           }
          },
          "ternary": {
           "aaxis": {
            "gridcolor": "white",
            "linecolor": "white",
            "ticks": ""
           },
           "baxis": {
            "gridcolor": "white",
            "linecolor": "white",
            "ticks": ""
           },
           "bgcolor": "#E5ECF6",
           "caxis": {
            "gridcolor": "white",
            "linecolor": "white",
            "ticks": ""
           }
          },
          "title": {
           "x": 0.05
          },
          "xaxis": {
           "automargin": true,
           "gridcolor": "white",
           "linecolor": "white",
           "ticks": "",
           "title": {
            "standoff": 15
           },
           "zerolinecolor": "white",
           "zerolinewidth": 2
          },
          "yaxis": {
           "automargin": true,
           "gridcolor": "white",
           "linecolor": "white",
           "ticks": "",
           "title": {
            "standoff": 15
           },
           "zerolinecolor": "white",
           "zerolinewidth": 2
          }
         }
        },
        "title": {
         "text": "World Population by Country (1970-2022) <br>with Animation Slider"
        },
        "updatemenus": [
         {
          "buttons": [
           {
            "args": [
             null,
             {
              "frame": {
               "duration": 500,
               "redraw": true
              },
              "fromcurrent": true,
              "mode": "immediate",
              "transition": {
               "duration": 500,
               "easing": "linear"
              }
             }
            ],
            "label": "&#9654;",
            "method": "animate"
           },
           {
            "args": [
             [
              null
             ],
             {
              "frame": {
               "duration": 0,
               "redraw": true
              },
              "fromcurrent": true,
              "mode": "immediate",
              "transition": {
               "duration": 0,
               "easing": "linear"
              }
             }
            ],
            "label": "&#9724;",
            "method": "animate"
           }
          ],
          "direction": "left",
          "pad": {
           "r": 10,
           "t": 70
          },
          "showactive": false,
          "type": "buttons",
          "x": 0.1,
          "xanchor": "right",
          "y": 0,
          "yanchor": "top"
         }
        ],
        "width": 800
       }
      },
      "text/html": [
       "<div>                            <div id=\"989edc16-1ef4-4d2a-80af-46d2ac478dff\" class=\"plotly-graph-div\" style=\"height:600px; width:800px;\"></div>            <script type=\"text/javascript\">                require([\"plotly\"], function(Plotly) {                    window.PLOTLYENV=window.PLOTLYENV || {};                                    if (document.getElementById(\"989edc16-1ef4-4d2a-80af-46d2ac478dff\")) {                    Plotly.newPlot(                        \"989edc16-1ef4-4d2a-80af-46d2ac478dff\",                        [{\"coloraxis\":\"coloraxis\",\"customdata\":[[\"AFG\"],[\"ALB\"],[\"DZA\"],[\"ASM\"],[\"AND\"],[\"AGO\"],[\"AIA\"],[\"ATG\"],[\"ARG\"],[\"ARM\"],[\"ABW\"],[\"AUS\"],[\"AUT\"],[\"AZE\"],[\"BHS\"],[\"BHR\"],[\"BGD\"],[\"BRB\"],[\"BLR\"],[\"BEL\"],[\"BLZ\"],[\"BEN\"],[\"BMU\"],[\"BTN\"],[\"BOL\"],[\"BIH\"],[\"BWA\"],[\"BRA\"],[\"VGB\"],[\"BRN\"],[\"BGR\"],[\"BFA\"],[\"BDI\"],[\"KHM\"],[\"CMR\"],[\"CAN\"],[\"CPV\"],[\"CYM\"],[\"CAF\"],[\"TCD\"],[\"CHL\"],[\"CHN\"],[\"COL\"],[\"COM\"],[\"COK\"],[\"CRI\"],[\"HRV\"],[\"CUB\"],[\"CUW\"],[\"CYP\"],[\"CZE\"],[\"DNK\"],[\"DJI\"],[\"DMA\"],[\"DOM\"],[\"COD\"],[\"ECU\"],[\"EGY\"],[\"SLV\"],[\"GNQ\"],[\"ERI\"],[\"EST\"],[\"SWZ\"],[\"ETH\"],[\"FLK\"],[\"FRO\"],[\"FJI\"],[\"FIN\"],[\"FRA\"],[\"GUF\"],[\"PYF\"],[\"GAB\"],[\"GMB\"],[\"GEO\"],[\"DEU\"],[\"GHA\"],[\"GIB\"],[\"GRC\"],[\"GRL\"],[\"GRD\"],[\"GLP\"],[\"GUM\"],[\"GTM\"],[\"GGY\"],[\"GIN\"],[\"GNB\"],[\"GUY\"],[\"HTI\"],[\"HND\"],[\"HKG\"],[\"HUN\"],[\"ISL\"],[\"IND\"],[\"IDN\"],[\"IRN\"],[\"IRQ\"],[\"IRL\"],[\"IMN\"],[\"ISR\"],[\"ITA\"],[\"CIV\"],[\"JAM\"],[\"JPN\"],[\"JEY\"],[\"JOR\"],[\"KAZ\"],[\"KEN\"],[\"KIR\"],[\"KWT\"],[\"KGZ\"],[\"LAO\"],[\"LVA\"],[\"LBN\"],[\"LSO\"],[\"LBR\"],[\"LBY\"],[\"LIE\"],[\"LTU\"],[\"LUX\"],[\"MAC\"],[\"MDG\"],[\"MWI\"],[\"MYS\"],[\"MDV\"],[\"MLI\"],[\"MLT\"],[\"MHL\"],[\"MTQ\"],[\"MRT\"],[\"MUS\"],[\"MYT\"],[\"MEX\"],[\"FSM\"],[\"MDA\"],[\"MCO\"],[\"MNG\"],[\"MNE\"],[\"MSR\"],[\"MAR\"],[\"MOZ\"],[\"MMR\"],[\"NAM\"],[\"NRU\"],[\"NPL\"],[\"NLD\"],[\"NCL\"],[\"NZL\"],[\"NIC\"],[\"NER\"],[\"NGA\"],[\"NIU\"],[\"PRK\"],[\"MKD\"],[\"NFK\"],[\"NOR\"],[\"OMN\"],[\"PAK\"],[\"PLW\"],[\"PSE\"],[\"PAN\"],[\"PNG\"],[\"PRY\"],[\"PER\"],[\"PHL\"],[\"POL\"],[\"PRT\"],[\"PRI\"],[\"QAT\"],[\"COG\"],[\"REU\"],[\"ROU\"],[\"RUS\"],[\"RWA\"],[\"BLM\"],[\"KNA\"],[\"LCA\"],[\"MAF\"],[\"SPM\"],[\"VCT\"],[\"WSM\"],[\"SMR\"],[\"STP\"],[\"SAU\"],[\"SEN\"],[\"SRB\"],[\"SYC\"],[\"SLE\"],[\"SGP\"],[\"SXM\"],[\"SVK\"],[\"SVN\"],[\"SLB\"],[\"SOM\"],[\"ZAF\"],[\"KOR\"],[\"SSD\"],[\"ESP\"],[\"LKA\"],[\"SDN\"],[\"SUR\"],[\"SWE\"],[\"CHE\"],[\"SYR\"],[\"TWN\"],[\"TJK\"],[\"TZA\"],[\"THA\"],[\"TLS\"],[\"TGO\"],[\"TKL\"],[\"TON\"],[\"TTO\"],[\"TUN\"],[\"TUR\"],[\"TKM\"],[\"TCA\"],[\"TUV\"],[\"UGA\"],[\"UKR\"],[\"ARE\"],[\"GBR\"],[\"USA\"],[\"VIR\"],[\"URY\"],[\"UZB\"],[\"VUT\"],[\"VAT\"],[\"VEN\"],[\"VNM\"],[\"WLF\"],[\"ESH\"],[\"YEM\"],[\"ZMB\"],[\"ZWE\"]],\"geo\":\"geo\",\"hovertemplate\":\"<b>%{hovertext}</b><br><br>Year=1970<br>Population=%{z}<extra></extra>\",\"hovertext\":[\"Afghanistan\",\"Albania\",\"Algeria\",\"American Samoa\",\"Andorra\",\"Angola\",\"Anguilla\",\"Antigua and Barbuda\",\"Argentina\",\"Armenia\",\"Aruba\",\"Australia\",\"Austria\",\"Azerbaijan\",\"Bahamas\",\"Bahrain\",\"Bangladesh\",\"Barbados\",\"Belarus\",\"Belgium\",\"Belize\",\"Benin\",\"Bermuda\",\"Bhutan\",\"Bolivia\",\"Bosnia and Herzegovina\",\"Botswana\",\"Brazil\",\"British Virgin Islands\",\"Brunei\",\"Bulgaria\",\"Burkina Faso\",\"Burundi\",\"Cambodia\",\"Cameroon\",\"Canada\",\"Cape Verde\",\"Cayman Islands\",\"Central African Republic\",\"Chad\",\"Chile\",\"China\",\"Colombia\",\"Comoros\",\"Cook Islands\",\"Costa Rica\",\"Croatia\",\"Cuba\",\"Curacao\",\"Cyprus\",\"Czech Republic\",\"Denmark\",\"Djibouti\",\"Dominica\",\"Dominican Republic\",\"DR Congo\",\"Ecuador\",\"Egypt\",\"El Salvador\",\"Equatorial Guinea\",\"Eritrea\",\"Estonia\",\"Eswatini\",\"Ethiopia\",\"Falkland Islands\",\"Faroe Islands\",\"Fiji\",\"Finland\",\"France\",\"French Guiana\",\"French Polynesia\",\"Gabon\",\"Gambia\",\"Georgia\",\"Germany\",\"Ghana\",\"Gibraltar\",\"Greece\",\"Greenland\",\"Grenada\",\"Guadeloupe\",\"Guam\",\"Guatemala\",\"Guernsey\",\"Guinea\",\"Guinea-Bissau\",\"Guyana\",\"Haiti\",\"Honduras\",\"Hong Kong\",\"Hungary\",\"Iceland\",\"India\",\"Indonesia\",\"Iran\",\"Iraq\",\"Ireland\",\"Isle of Man\",\"Israel\",\"Italy\",\"Ivory Coast\",\"Jamaica\",\"Japan\",\"Jersey\",\"Jordan\",\"Kazakhstan\",\"Kenya\",\"Kiribati\",\"Kuwait\",\"Kyrgyzstan\",\"Laos\",\"Latvia\",\"Lebanon\",\"Lesotho\",\"Liberia\",\"Libya\",\"Liechtenstein\",\"Lithuania\",\"Luxembourg\",\"Macau\",\"Madagascar\",\"Malawi\",\"Malaysia\",\"Maldives\",\"Mali\",\"Malta\",\"Marshall Islands\",\"Martinique\",\"Mauritania\",\"Mauritius\",\"Mayotte\",\"Mexico\",\"Micronesia\",\"Moldova\",\"Monaco\",\"Mongolia\",\"Montenegro\",\"Montserrat\",\"Morocco\",\"Mozambique\",\"Myanmar\",\"Namibia\",\"Nauru\",\"Nepal\",\"Netherlands\",\"New Caledonia\",\"New Zealand\",\"Nicaragua\",\"Niger\",\"Nigeria\",\"Niue\",\"North Korea\",\"North Macedonia\",\"Northern Mariana Islands\",\"Norway\",\"Oman\",\"Pakistan\",\"Palau\",\"Palestine\",\"Panama\",\"Papua New Guinea\",\"Paraguay\",\"Peru\",\"Philippines\",\"Poland\",\"Portugal\",\"Puerto Rico\",\"Qatar\",\"Republic of the Congo\",\"Reunion\",\"Romania\",\"Russia\",\"Rwanda\",\"Saint Barthelemy\",\"Saint Kitts and Nevis\",\"Saint Lucia\",\"Saint Martin\",\"Saint Pierre and Miquelon\",\"Saint Vincent and the Grenadines\",\"Samoa\",\"San Marino\",\"Sao Tome and Principe\",\"Saudi Arabia\",\"Senegal\",\"Serbia\",\"Seychelles\",\"Sierra Leone\",\"Singapore\",\"Sint Maarten\",\"Slovakia\",\"Slovenia\",\"Solomon Islands\",\"Somalia\",\"South Africa\",\"South Korea\",\"South Sudan\",\"Spain\",\"Sri Lanka\",\"Sudan\",\"Suriname\",\"Sweden\",\"Switzerland\",\"Syria\",\"Taiwan\",\"Tajikistan\",\"Tanzania\",\"Thailand\",\"Timor-Leste\",\"Togo\",\"Tokelau\",\"Tonga\",\"Trinidad and Tobago\",\"Tunisia\",\"Turkey\",\"Turkmenistan\",\"Turks and Caicos Islands\",\"Tuvalu\",\"Uganda\",\"Ukraine\",\"United Arab Emirates\",\"United Kingdom\",\"United States\",\"United States Virgin Islands\",\"Uruguay\",\"Uzbekistan\",\"Vanuatu\",\"Vatican City\",\"Venezuela\",\"Vietnam\",\"Wallis and Futuna\",\"Western Sahara\",\"Yemen\",\"Zambia\",\"Zimbabwe\"],\"locationmode\":\"ISO-3\",\"locations\":[\"AFG\",\"ALB\",\"DZA\",\"ASM\",\"AND\",\"AGO\",\"AIA\",\"ATG\",\"ARG\",\"ARM\",\"ABW\",\"AUS\",\"AUT\",\"AZE\",\"BHS\",\"BHR\",\"BGD\",\"BRB\",\"BLR\",\"BEL\",\"BLZ\",\"BEN\",\"BMU\",\"BTN\",\"BOL\",\"BIH\",\"BWA\",\"BRA\",\"VGB\",\"BRN\",\"BGR\",\"BFA\",\"BDI\",\"KHM\",\"CMR\",\"CAN\",\"CPV\",\"CYM\",\"CAF\",\"TCD\",\"CHL\",\"CHN\",\"COL\",\"COM\",\"COK\",\"CRI\",\"HRV\",\"CUB\",\"CUW\",\"CYP\",\"CZE\",\"DNK\",\"DJI\",\"DMA\",\"DOM\",\"COD\",\"ECU\",\"EGY\",\"SLV\",\"GNQ\",\"ERI\",\"EST\",\"SWZ\",\"ETH\",\"FLK\",\"FRO\",\"FJI\",\"FIN\",\"FRA\",\"GUF\",\"PYF\",\"GAB\",\"GMB\",\"GEO\",\"DEU\",\"GHA\",\"GIB\",\"GRC\",\"GRL\",\"GRD\",\"GLP\",\"GUM\",\"GTM\",\"GGY\",\"GIN\",\"GNB\",\"GUY\",\"HTI\",\"HND\",\"HKG\",\"HUN\",\"ISL\",\"IND\",\"IDN\",\"IRN\",\"IRQ\",\"IRL\",\"IMN\",\"ISR\",\"ITA\",\"CIV\",\"JAM\",\"JPN\",\"JEY\",\"JOR\",\"KAZ\",\"KEN\",\"KIR\",\"KWT\",\"KGZ\",\"LAO\",\"LVA\",\"LBN\",\"LSO\",\"LBR\",\"LBY\",\"LIE\",\"LTU\",\"LUX\",\"MAC\",\"MDG\",\"MWI\",\"MYS\",\"MDV\",\"MLI\",\"MLT\",\"MHL\",\"MTQ\",\"MRT\",\"MUS\",\"MYT\",\"MEX\",\"FSM\",\"MDA\",\"MCO\",\"MNG\",\"MNE\",\"MSR\",\"MAR\",\"MOZ\",\"MMR\",\"NAM\",\"NRU\",\"NPL\",\"NLD\",\"NCL\",\"NZL\",\"NIC\",\"NER\",\"NGA\",\"NIU\",\"PRK\",\"MKD\",\"NFK\",\"NOR\",\"OMN\",\"PAK\",\"PLW\",\"PSE\",\"PAN\",\"PNG\",\"PRY\",\"PER\",\"PHL\",\"POL\",\"PRT\",\"PRI\",\"QAT\",\"COG\",\"REU\",\"ROU\",\"RUS\",\"RWA\",\"BLM\",\"KNA\",\"LCA\",\"MAF\",\"SPM\",\"VCT\",\"WSM\",\"SMR\",\"STP\",\"SAU\",\"SEN\",\"SRB\",\"SYC\",\"SLE\",\"SGP\",\"SXM\",\"SVK\",\"SVN\",\"SLB\",\"SOM\",\"ZAF\",\"KOR\",\"SSD\",\"ESP\",\"LKA\",\"SDN\",\"SUR\",\"SWE\",\"CHE\",\"SYR\",\"TWN\",\"TJK\",\"TZA\",\"THA\",\"TLS\",\"TGO\",\"TKL\",\"TON\",\"TTO\",\"TUN\",\"TUR\",\"TKM\",\"TCA\",\"TUV\",\"UGA\",\"UKR\",\"ARE\",\"GBR\",\"USA\",\"VIR\",\"URY\",\"UZB\",\"VUT\",\"VAT\",\"VEN\",\"VNM\",\"WLF\",\"ESH\",\"YEM\",\"ZMB\",\"ZWE\"],\"name\":\"\",\"z\":[10752971,2324731,13795915,27075,19860,6029700,6283,64516,23842803,2534377,59106,12595034,7465301,5425317,179129,222555,67541860,241397,9170786,9629376,120905,3023443,52019,298894,4585693,3815561,592244,96369875,9581,133343,8582950,5611666,3497834,6708525,6452787,21434577,287262,10533,2067356,3667394,9820481,822534450,20905254,242351,20470,1855697,4492638,8869636,150385,640804,9795744,4922963,144379,68895,4475871,20151733,6172215,34781986,3619090,316955,1272748,1361999,442865,28308246,2274,38416,527634,4606621,50523586,46484,117891,597192,528731,4800426,78294583,8861895,26685,8544873,45434,98794,318310,88300,5453208,52656,4222374,591663,705261,4680812,2782753,3955072,10315366,204468,557501301,115228394,28449705,9811347,2937637,55298,2907307,53324036,5477086,1859091,105416839,68347,1557374,12265305,11473087,57437,802786,3016384,2675283,2397414,2381791,1023481,1463563,1909177,21089,3210147,339342,247284,6639751,4625141,10306508,123243,6153587,315414,23969,326428,1122198,830115,35383,50289306,58989,3711140,24270,1293880,530268,11402,15274351,8411676,27284112,754467,6663,12501285,13037686,110982,2824061,2444767,4669708,55569264,5185,14996879,1656783,10143,3875546,670693,59290872,11366,1118241,1516188,2489059,2408787,13562371,37435586,32482943,8683631,2737619,118007,1396989,473925,19922618,130093010,3896367,2417,44968,103090,5802,5537,98459,142771,18169,77583,6106191,4367744,7193533,54379,2778557,2061831,6260,4522867,1741286,172833,3720977,22368306,32601143,3342410,33792617,12388769,11305206,379918,8027702,6181227,6319199,14957870,2993019,13618192,35791728,554021,2197383,1714,86484,988890,5047404,35540990,2201432,5665,5814,10317212,47279086,298084,55650166,200328340,63446,2790265,12011361,87019,752,11355475,41928849,9377,76371,6843607,4281671,5202918],\"type\":\"choropleth\"}],                        {\"template\":{\"data\":{\"bar\":[{\"error_x\":{\"color\":\"#2a3f5f\"},\"error_y\":{\"color\":\"#2a3f5f\"},\"marker\":{\"line\":{\"color\":\"#E5ECF6\",\"width\":0.5},\"pattern\":{\"fillmode\":\"overlay\",\"size\":10,\"solidity\":0.2}},\"type\":\"bar\"}],\"barpolar\":[{\"marker\":{\"line\":{\"color\":\"#E5ECF6\",\"width\":0.5},\"pattern\":{\"fillmode\":\"overlay\",\"size\":10,\"solidity\":0.2}},\"type\":\"barpolar\"}],\"carpet\":[{\"aaxis\":{\"endlinecolor\":\"#2a3f5f\",\"gridcolor\":\"white\",\"linecolor\":\"white\",\"minorgridcolor\":\"white\",\"startlinecolor\":\"#2a3f5f\"},\"baxis\":{\"endlinecolor\":\"#2a3f5f\",\"gridcolor\":\"white\",\"linecolor\":\"white\",\"minorgridcolor\":\"white\",\"startlinecolor\":\"#2a3f5f\"},\"type\":\"carpet\"}],\"choropleth\":[{\"colorbar\":{\"outlinewidth\":0,\"ticks\":\"\"},\"type\":\"choropleth\"}],\"contour\":[{\"colorbar\":{\"outlinewidth\":0,\"ticks\":\"\"},\"colorscale\":[[0.0,\"#0d0887\"],[0.1111111111111111,\"#46039f\"],[0.2222222222222222,\"#7201a8\"],[0.3333333333333333,\"#9c179e\"],[0.4444444444444444,\"#bd3786\"],[0.5555555555555556,\"#d8576b\"],[0.6666666666666666,\"#ed7953\"],[0.7777777777777778,\"#fb9f3a\"],[0.8888888888888888,\"#fdca26\"],[1.0,\"#f0f921\"]],\"type\":\"contour\"}],\"contourcarpet\":[{\"colorbar\":{\"outlinewidth\":0,\"ticks\":\"\"},\"type\":\"contourcarpet\"}],\"heatmap\":[{\"colorbar\":{\"outlinewidth\":0,\"ticks\":\"\"},\"colorscale\":[[0.0,\"#0d0887\"],[0.1111111111111111,\"#46039f\"],[0.2222222222222222,\"#7201a8\"],[0.3333333333333333,\"#9c179e\"],[0.4444444444444444,\"#bd3786\"],[0.5555555555555556,\"#d8576b\"],[0.6666666666666666,\"#ed7953\"],[0.7777777777777778,\"#fb9f3a\"],[0.8888888888888888,\"#fdca26\"],[1.0,\"#f0f921\"]],\"type\":\"heatmap\"}],\"heatmapgl\":[{\"colorbar\":{\"outlinewidth\":0,\"ticks\":\"\"},\"colorscale\":[[0.0,\"#0d0887\"],[0.1111111111111111,\"#46039f\"],[0.2222222222222222,\"#7201a8\"],[0.3333333333333333,\"#9c179e\"],[0.4444444444444444,\"#bd3786\"],[0.5555555555555556,\"#d8576b\"],[0.6666666666666666,\"#ed7953\"],[0.7777777777777778,\"#fb9f3a\"],[0.8888888888888888,\"#fdca26\"],[1.0,\"#f0f921\"]],\"type\":\"heatmapgl\"}],\"histogram\":[{\"marker\":{\"pattern\":{\"fillmode\":\"overlay\",\"size\":10,\"solidity\":0.2}},\"type\":\"histogram\"}],\"histogram2d\":[{\"colorbar\":{\"outlinewidth\":0,\"ticks\":\"\"},\"colorscale\":[[0.0,\"#0d0887\"],[0.1111111111111111,\"#46039f\"],[0.2222222222222222,\"#7201a8\"],[0.3333333333333333,\"#9c179e\"],[0.4444444444444444,\"#bd3786\"],[0.5555555555555556,\"#d8576b\"],[0.6666666666666666,\"#ed7953\"],[0.7777777777777778,\"#fb9f3a\"],[0.8888888888888888,\"#fdca26\"],[1.0,\"#f0f921\"]],\"type\":\"histogram2d\"}],\"histogram2dcontour\":[{\"colorbar\":{\"outlinewidth\":0,\"ticks\":\"\"},\"colorscale\":[[0.0,\"#0d0887\"],[0.1111111111111111,\"#46039f\"],[0.2222222222222222,\"#7201a8\"],[0.3333333333333333,\"#9c179e\"],[0.4444444444444444,\"#bd3786\"],[0.5555555555555556,\"#d8576b\"],[0.6666666666666666,\"#ed7953\"],[0.7777777777777778,\"#fb9f3a\"],[0.8888888888888888,\"#fdca26\"],[1.0,\"#f0f921\"]],\"type\":\"histogram2dcontour\"}],\"mesh3d\":[{\"colorbar\":{\"outlinewidth\":0,\"ticks\":\"\"},\"type\":\"mesh3d\"}],\"parcoords\":[{\"line\":{\"colorbar\":{\"outlinewidth\":0,\"ticks\":\"\"}},\"type\":\"parcoords\"}],\"pie\":[{\"automargin\":true,\"type\":\"pie\"}],\"scatter\":[{\"marker\":{\"colorbar\":{\"outlinewidth\":0,\"ticks\":\"\"}},\"type\":\"scatter\"}],\"scatter3d\":[{\"line\":{\"colorbar\":{\"outlinewidth\":0,\"ticks\":\"\"}},\"marker\":{\"colorbar\":{\"outlinewidth\":0,\"ticks\":\"\"}},\"type\":\"scatter3d\"}],\"scattercarpet\":[{\"marker\":{\"colorbar\":{\"outlinewidth\":0,\"ticks\":\"\"}},\"type\":\"scattercarpet\"}],\"scattergeo\":[{\"marker\":{\"colorbar\":{\"outlinewidth\":0,\"ticks\":\"\"}},\"type\":\"scattergeo\"}],\"scattergl\":[{\"marker\":{\"colorbar\":{\"outlinewidth\":0,\"ticks\":\"\"}},\"type\":\"scattergl\"}],\"scattermapbox\":[{\"marker\":{\"colorbar\":{\"outlinewidth\":0,\"ticks\":\"\"}},\"type\":\"scattermapbox\"}],\"scatterpolar\":[{\"marker\":{\"colorbar\":{\"outlinewidth\":0,\"ticks\":\"\"}},\"type\":\"scatterpolar\"}],\"scatterpolargl\":[{\"marker\":{\"colorbar\":{\"outlinewidth\":0,\"ticks\":\"\"}},\"type\":\"scatterpolargl\"}],\"scatterternary\":[{\"marker\":{\"colorbar\":{\"outlinewidth\":0,\"ticks\":\"\"}},\"type\":\"scatterternary\"}],\"surface\":[{\"colorbar\":{\"outlinewidth\":0,\"ticks\":\"\"},\"colorscale\":[[0.0,\"#0d0887\"],[0.1111111111111111,\"#46039f\"],[0.2222222222222222,\"#7201a8\"],[0.3333333333333333,\"#9c179e\"],[0.4444444444444444,\"#bd3786\"],[0.5555555555555556,\"#d8576b\"],[0.6666666666666666,\"#ed7953\"],[0.7777777777777778,\"#fb9f3a\"],[0.8888888888888888,\"#fdca26\"],[1.0,\"#f0f921\"]],\"type\":\"surface\"}],\"table\":[{\"cells\":{\"fill\":{\"color\":\"#EBF0F8\"},\"line\":{\"color\":\"white\"}},\"header\":{\"fill\":{\"color\":\"#C8D4E3\"},\"line\":{\"color\":\"white\"}},\"type\":\"table\"}]},\"layout\":{\"annotationdefaults\":{\"arrowcolor\":\"#2a3f5f\",\"arrowhead\":0,\"arrowwidth\":1},\"autotypenumbers\":\"strict\",\"coloraxis\":{\"colorbar\":{\"outlinewidth\":0,\"ticks\":\"\"}},\"colorscale\":{\"diverging\":[[0,\"#8e0152\"],[0.1,\"#c51b7d\"],[0.2,\"#de77ae\"],[0.3,\"#f1b6da\"],[0.4,\"#fde0ef\"],[0.5,\"#f7f7f7\"],[0.6,\"#e6f5d0\"],[0.7,\"#b8e186\"],[0.8,\"#7fbc41\"],[0.9,\"#4d9221\"],[1,\"#276419\"]],\"sequential\":[[0.0,\"#0d0887\"],[0.1111111111111111,\"#46039f\"],[0.2222222222222222,\"#7201a8\"],[0.3333333333333333,\"#9c179e\"],[0.4444444444444444,\"#bd3786\"],[0.5555555555555556,\"#d8576b\"],[0.6666666666666666,\"#ed7953\"],[0.7777777777777778,\"#fb9f3a\"],[0.8888888888888888,\"#fdca26\"],[1.0,\"#f0f921\"]],\"sequentialminus\":[[0.0,\"#0d0887\"],[0.1111111111111111,\"#46039f\"],[0.2222222222222222,\"#7201a8\"],[0.3333333333333333,\"#9c179e\"],[0.4444444444444444,\"#bd3786\"],[0.5555555555555556,\"#d8576b\"],[0.6666666666666666,\"#ed7953\"],[0.7777777777777778,\"#fb9f3a\"],[0.8888888888888888,\"#fdca26\"],[1.0,\"#f0f921\"]]},\"colorway\":[\"#636efa\",\"#EF553B\",\"#00cc96\",\"#ab63fa\",\"#FFA15A\",\"#19d3f3\",\"#FF6692\",\"#B6E880\",\"#FF97FF\",\"#FECB52\"],\"font\":{\"color\":\"#2a3f5f\"},\"geo\":{\"bgcolor\":\"white\",\"lakecolor\":\"white\",\"landcolor\":\"#E5ECF6\",\"showlakes\":true,\"showland\":true,\"subunitcolor\":\"white\"},\"hoverlabel\":{\"align\":\"left\"},\"hovermode\":\"closest\",\"mapbox\":{\"style\":\"light\"},\"paper_bgcolor\":\"white\",\"plot_bgcolor\":\"#E5ECF6\",\"polar\":{\"angularaxis\":{\"gridcolor\":\"white\",\"linecolor\":\"white\",\"ticks\":\"\"},\"bgcolor\":\"#E5ECF6\",\"radialaxis\":{\"gridcolor\":\"white\",\"linecolor\":\"white\",\"ticks\":\"\"}},\"scene\":{\"xaxis\":{\"backgroundcolor\":\"#E5ECF6\",\"gridcolor\":\"white\",\"gridwidth\":2,\"linecolor\":\"white\",\"showbackground\":true,\"ticks\":\"\",\"zerolinecolor\":\"white\"},\"yaxis\":{\"backgroundcolor\":\"#E5ECF6\",\"gridcolor\":\"white\",\"gridwidth\":2,\"linecolor\":\"white\",\"showbackground\":true,\"ticks\":\"\",\"zerolinecolor\":\"white\"},\"zaxis\":{\"backgroundcolor\":\"#E5ECF6\",\"gridcolor\":\"white\",\"gridwidth\":2,\"linecolor\":\"white\",\"showbackground\":true,\"ticks\":\"\",\"zerolinecolor\":\"white\"}},\"shapedefaults\":{\"line\":{\"color\":\"#2a3f5f\"}},\"ternary\":{\"aaxis\":{\"gridcolor\":\"white\",\"linecolor\":\"white\",\"ticks\":\"\"},\"baxis\":{\"gridcolor\":\"white\",\"linecolor\":\"white\",\"ticks\":\"\"},\"bgcolor\":\"#E5ECF6\",\"caxis\":{\"gridcolor\":\"white\",\"linecolor\":\"white\",\"ticks\":\"\"}},\"title\":{\"x\":0.05},\"xaxis\":{\"automargin\":true,\"gridcolor\":\"white\",\"linecolor\":\"white\",\"ticks\":\"\",\"title\":{\"standoff\":15},\"zerolinecolor\":\"white\",\"zerolinewidth\":2},\"yaxis\":{\"automargin\":true,\"gridcolor\":\"white\",\"linecolor\":\"white\",\"ticks\":\"\",\"title\":{\"standoff\":15},\"zerolinecolor\":\"white\",\"zerolinewidth\":2}}},\"geo\":{\"domain\":{\"x\":[0.0,1.0],\"y\":[0.0,1.0]},\"projection\":{\"type\":\"equirectangular\"},\"center\":{},\"scope\":\"world\"},\"coloraxis\":{\"colorbar\":{\"title\":{\"text\":\"Population\"}},\"colorscale\":[[0.0,\"#440154\"],[0.1111111111111111,\"#482878\"],[0.2222222222222222,\"#3e4989\"],[0.3333333333333333,\"#31688e\"],[0.4444444444444444,\"#26828e\"],[0.5555555555555556,\"#1f9e89\"],[0.6666666666666666,\"#35b779\"],[0.7777777777777778,\"#6ece58\"],[0.8888888888888888,\"#b5de2b\"],[1.0,\"#fde725\"]],\"cmin\":0,\"cmax\":400000000},\"legend\":{\"tracegroupgap\":0},\"title\":{\"text\":\"World Population by Country (1970-2022) <br>with Animation Slider\"},\"height\":600,\"width\":800,\"updatemenus\":[{\"buttons\":[{\"args\":[null,{\"frame\":{\"duration\":500,\"redraw\":true},\"mode\":\"immediate\",\"fromcurrent\":true,\"transition\":{\"duration\":500,\"easing\":\"linear\"}}],\"label\":\"&#9654;\",\"method\":\"animate\"},{\"args\":[[null],{\"frame\":{\"duration\":0,\"redraw\":true},\"mode\":\"immediate\",\"fromcurrent\":true,\"transition\":{\"duration\":0,\"easing\":\"linear\"}}],\"label\":\"&#9724;\",\"method\":\"animate\"}],\"direction\":\"left\",\"pad\":{\"r\":10,\"t\":70},\"showactive\":false,\"type\":\"buttons\",\"x\":0.1,\"xanchor\":\"right\",\"y\":0,\"yanchor\":\"top\"}],\"sliders\":[{\"active\":0,\"currentvalue\":{\"prefix\":\"Year=\"},\"len\":0.9,\"pad\":{\"b\":10,\"t\":60},\"steps\":[{\"args\":[[\"1970\"],{\"frame\":{\"duration\":0,\"redraw\":true},\"mode\":\"immediate\",\"fromcurrent\":true,\"transition\":{\"duration\":0,\"easing\":\"linear\"}}],\"label\":\"1970\",\"method\":\"animate\"},{\"args\":[[\"1980\"],{\"frame\":{\"duration\":0,\"redraw\":true},\"mode\":\"immediate\",\"fromcurrent\":true,\"transition\":{\"duration\":0,\"easing\":\"linear\"}}],\"label\":\"1980\",\"method\":\"animate\"},{\"args\":[[\"1990\"],{\"frame\":{\"duration\":0,\"redraw\":true},\"mode\":\"immediate\",\"fromcurrent\":true,\"transition\":{\"duration\":0,\"easing\":\"linear\"}}],\"label\":\"1990\",\"method\":\"animate\"},{\"args\":[[\"2000\"],{\"frame\":{\"duration\":0,\"redraw\":true},\"mode\":\"immediate\",\"fromcurrent\":true,\"transition\":{\"duration\":0,\"easing\":\"linear\"}}],\"label\":\"2000\",\"method\":\"animate\"},{\"args\":[[\"2010\"],{\"frame\":{\"duration\":0,\"redraw\":true},\"mode\":\"immediate\",\"fromcurrent\":true,\"transition\":{\"duration\":0,\"easing\":\"linear\"}}],\"label\":\"2010\",\"method\":\"animate\"},{\"args\":[[\"2015\"],{\"frame\":{\"duration\":0,\"redraw\":true},\"mode\":\"immediate\",\"fromcurrent\":true,\"transition\":{\"duration\":0,\"easing\":\"linear\"}}],\"label\":\"2015\",\"method\":\"animate\"},{\"args\":[[\"2020\"],{\"frame\":{\"duration\":0,\"redraw\":true},\"mode\":\"immediate\",\"fromcurrent\":true,\"transition\":{\"duration\":0,\"easing\":\"linear\"}}],\"label\":\"2020\",\"method\":\"animate\"},{\"args\":[[\"2022\"],{\"frame\":{\"duration\":0,\"redraw\":true},\"mode\":\"immediate\",\"fromcurrent\":true,\"transition\":{\"duration\":0,\"easing\":\"linear\"}}],\"label\":\"2022\",\"method\":\"animate\"}],\"x\":0.1,\"xanchor\":\"left\",\"y\":0,\"yanchor\":\"top\"}]},                        {\"responsive\": true}                    ).then(function(){\n",
       "                            Plotly.addFrames('989edc16-1ef4-4d2a-80af-46d2ac478dff', [{\"data\":[{\"coloraxis\":\"coloraxis\",\"customdata\":[[\"AFG\"],[\"ALB\"],[\"DZA\"],[\"ASM\"],[\"AND\"],[\"AGO\"],[\"AIA\"],[\"ATG\"],[\"ARG\"],[\"ARM\"],[\"ABW\"],[\"AUS\"],[\"AUT\"],[\"AZE\"],[\"BHS\"],[\"BHR\"],[\"BGD\"],[\"BRB\"],[\"BLR\"],[\"BEL\"],[\"BLZ\"],[\"BEN\"],[\"BMU\"],[\"BTN\"],[\"BOL\"],[\"BIH\"],[\"BWA\"],[\"BRA\"],[\"VGB\"],[\"BRN\"],[\"BGR\"],[\"BFA\"],[\"BDI\"],[\"KHM\"],[\"CMR\"],[\"CAN\"],[\"CPV\"],[\"CYM\"],[\"CAF\"],[\"TCD\"],[\"CHL\"],[\"CHN\"],[\"COL\"],[\"COM\"],[\"COK\"],[\"CRI\"],[\"HRV\"],[\"CUB\"],[\"CUW\"],[\"CYP\"],[\"CZE\"],[\"DNK\"],[\"DJI\"],[\"DMA\"],[\"DOM\"],[\"COD\"],[\"ECU\"],[\"EGY\"],[\"SLV\"],[\"GNQ\"],[\"ERI\"],[\"EST\"],[\"SWZ\"],[\"ETH\"],[\"FLK\"],[\"FRO\"],[\"FJI\"],[\"FIN\"],[\"FRA\"],[\"GUF\"],[\"PYF\"],[\"GAB\"],[\"GMB\"],[\"GEO\"],[\"DEU\"],[\"GHA\"],[\"GIB\"],[\"GRC\"],[\"GRL\"],[\"GRD\"],[\"GLP\"],[\"GUM\"],[\"GTM\"],[\"GGY\"],[\"GIN\"],[\"GNB\"],[\"GUY\"],[\"HTI\"],[\"HND\"],[\"HKG\"],[\"HUN\"],[\"ISL\"],[\"IND\"],[\"IDN\"],[\"IRN\"],[\"IRQ\"],[\"IRL\"],[\"IMN\"],[\"ISR\"],[\"ITA\"],[\"CIV\"],[\"JAM\"],[\"JPN\"],[\"JEY\"],[\"JOR\"],[\"KAZ\"],[\"KEN\"],[\"KIR\"],[\"KWT\"],[\"KGZ\"],[\"LAO\"],[\"LVA\"],[\"LBN\"],[\"LSO\"],[\"LBR\"],[\"LBY\"],[\"LIE\"],[\"LTU\"],[\"LUX\"],[\"MAC\"],[\"MDG\"],[\"MWI\"],[\"MYS\"],[\"MDV\"],[\"MLI\"],[\"MLT\"],[\"MHL\"],[\"MTQ\"],[\"MRT\"],[\"MUS\"],[\"MYT\"],[\"MEX\"],[\"FSM\"],[\"MDA\"],[\"MCO\"],[\"MNG\"],[\"MNE\"],[\"MSR\"],[\"MAR\"],[\"MOZ\"],[\"MMR\"],[\"NAM\"],[\"NRU\"],[\"NPL\"],[\"NLD\"],[\"NCL\"],[\"NZL\"],[\"NIC\"],[\"NER\"],[\"NGA\"],[\"NIU\"],[\"PRK\"],[\"MKD\"],[\"NFK\"],[\"NOR\"],[\"OMN\"],[\"PAK\"],[\"PLW\"],[\"PSE\"],[\"PAN\"],[\"PNG\"],[\"PRY\"],[\"PER\"],[\"PHL\"],[\"POL\"],[\"PRT\"],[\"PRI\"],[\"QAT\"],[\"COG\"],[\"REU\"],[\"ROU\"],[\"RUS\"],[\"RWA\"],[\"BLM\"],[\"KNA\"],[\"LCA\"],[\"MAF\"],[\"SPM\"],[\"VCT\"],[\"WSM\"],[\"SMR\"],[\"STP\"],[\"SAU\"],[\"SEN\"],[\"SRB\"],[\"SYC\"],[\"SLE\"],[\"SGP\"],[\"SXM\"],[\"SVK\"],[\"SVN\"],[\"SLB\"],[\"SOM\"],[\"ZAF\"],[\"KOR\"],[\"SSD\"],[\"ESP\"],[\"LKA\"],[\"SDN\"],[\"SUR\"],[\"SWE\"],[\"CHE\"],[\"SYR\"],[\"TWN\"],[\"TJK\"],[\"TZA\"],[\"THA\"],[\"TLS\"],[\"TGO\"],[\"TKL\"],[\"TON\"],[\"TTO\"],[\"TUN\"],[\"TUR\"],[\"TKM\"],[\"TCA\"],[\"TUV\"],[\"UGA\"],[\"UKR\"],[\"ARE\"],[\"GBR\"],[\"USA\"],[\"VIR\"],[\"URY\"],[\"UZB\"],[\"VUT\"],[\"VAT\"],[\"VEN\"],[\"VNM\"],[\"WLF\"],[\"ESH\"],[\"YEM\"],[\"ZMB\"],[\"ZWE\"]],\"geo\":\"geo\",\"hovertemplate\":\"<b>%{hovertext}</b><br><br>Year=1970<br>Population=%{z}<extra></extra>\",\"hovertext\":[\"Afghanistan\",\"Albania\",\"Algeria\",\"American Samoa\",\"Andorra\",\"Angola\",\"Anguilla\",\"Antigua and Barbuda\",\"Argentina\",\"Armenia\",\"Aruba\",\"Australia\",\"Austria\",\"Azerbaijan\",\"Bahamas\",\"Bahrain\",\"Bangladesh\",\"Barbados\",\"Belarus\",\"Belgium\",\"Belize\",\"Benin\",\"Bermuda\",\"Bhutan\",\"Bolivia\",\"Bosnia and Herzegovina\",\"Botswana\",\"Brazil\",\"British Virgin Islands\",\"Brunei\",\"Bulgaria\",\"Burkina Faso\",\"Burundi\",\"Cambodia\",\"Cameroon\",\"Canada\",\"Cape Verde\",\"Cayman Islands\",\"Central African Republic\",\"Chad\",\"Chile\",\"China\",\"Colombia\",\"Comoros\",\"Cook Islands\",\"Costa Rica\",\"Croatia\",\"Cuba\",\"Curacao\",\"Cyprus\",\"Czech Republic\",\"Denmark\",\"Djibouti\",\"Dominica\",\"Dominican Republic\",\"DR Congo\",\"Ecuador\",\"Egypt\",\"El Salvador\",\"Equatorial Guinea\",\"Eritrea\",\"Estonia\",\"Eswatini\",\"Ethiopia\",\"Falkland Islands\",\"Faroe Islands\",\"Fiji\",\"Finland\",\"France\",\"French Guiana\",\"French Polynesia\",\"Gabon\",\"Gambia\",\"Georgia\",\"Germany\",\"Ghana\",\"Gibraltar\",\"Greece\",\"Greenland\",\"Grenada\",\"Guadeloupe\",\"Guam\",\"Guatemala\",\"Guernsey\",\"Guinea\",\"Guinea-Bissau\",\"Guyana\",\"Haiti\",\"Honduras\",\"Hong Kong\",\"Hungary\",\"Iceland\",\"India\",\"Indonesia\",\"Iran\",\"Iraq\",\"Ireland\",\"Isle of Man\",\"Israel\",\"Italy\",\"Ivory Coast\",\"Jamaica\",\"Japan\",\"Jersey\",\"Jordan\",\"Kazakhstan\",\"Kenya\",\"Kiribati\",\"Kuwait\",\"Kyrgyzstan\",\"Laos\",\"Latvia\",\"Lebanon\",\"Lesotho\",\"Liberia\",\"Libya\",\"Liechtenstein\",\"Lithuania\",\"Luxembourg\",\"Macau\",\"Madagascar\",\"Malawi\",\"Malaysia\",\"Maldives\",\"Mali\",\"Malta\",\"Marshall Islands\",\"Martinique\",\"Mauritania\",\"Mauritius\",\"Mayotte\",\"Mexico\",\"Micronesia\",\"Moldova\",\"Monaco\",\"Mongolia\",\"Montenegro\",\"Montserrat\",\"Morocco\",\"Mozambique\",\"Myanmar\",\"Namibia\",\"Nauru\",\"Nepal\",\"Netherlands\",\"New Caledonia\",\"New Zealand\",\"Nicaragua\",\"Niger\",\"Nigeria\",\"Niue\",\"North Korea\",\"North Macedonia\",\"Northern Mariana Islands\",\"Norway\",\"Oman\",\"Pakistan\",\"Palau\",\"Palestine\",\"Panama\",\"Papua New Guinea\",\"Paraguay\",\"Peru\",\"Philippines\",\"Poland\",\"Portugal\",\"Puerto Rico\",\"Qatar\",\"Republic of the Congo\",\"Reunion\",\"Romania\",\"Russia\",\"Rwanda\",\"Saint Barthelemy\",\"Saint Kitts and Nevis\",\"Saint Lucia\",\"Saint Martin\",\"Saint Pierre and Miquelon\",\"Saint Vincent and the Grenadines\",\"Samoa\",\"San Marino\",\"Sao Tome and Principe\",\"Saudi Arabia\",\"Senegal\",\"Serbia\",\"Seychelles\",\"Sierra Leone\",\"Singapore\",\"Sint Maarten\",\"Slovakia\",\"Slovenia\",\"Solomon Islands\",\"Somalia\",\"South Africa\",\"South Korea\",\"South Sudan\",\"Spain\",\"Sri Lanka\",\"Sudan\",\"Suriname\",\"Sweden\",\"Switzerland\",\"Syria\",\"Taiwan\",\"Tajikistan\",\"Tanzania\",\"Thailand\",\"Timor-Leste\",\"Togo\",\"Tokelau\",\"Tonga\",\"Trinidad and Tobago\",\"Tunisia\",\"Turkey\",\"Turkmenistan\",\"Turks and Caicos Islands\",\"Tuvalu\",\"Uganda\",\"Ukraine\",\"United Arab Emirates\",\"United Kingdom\",\"United States\",\"United States Virgin Islands\",\"Uruguay\",\"Uzbekistan\",\"Vanuatu\",\"Vatican City\",\"Venezuela\",\"Vietnam\",\"Wallis and Futuna\",\"Western Sahara\",\"Yemen\",\"Zambia\",\"Zimbabwe\"],\"locationmode\":\"ISO-3\",\"locations\":[\"AFG\",\"ALB\",\"DZA\",\"ASM\",\"AND\",\"AGO\",\"AIA\",\"ATG\",\"ARG\",\"ARM\",\"ABW\",\"AUS\",\"AUT\",\"AZE\",\"BHS\",\"BHR\",\"BGD\",\"BRB\",\"BLR\",\"BEL\",\"BLZ\",\"BEN\",\"BMU\",\"BTN\",\"BOL\",\"BIH\",\"BWA\",\"BRA\",\"VGB\",\"BRN\",\"BGR\",\"BFA\",\"BDI\",\"KHM\",\"CMR\",\"CAN\",\"CPV\",\"CYM\",\"CAF\",\"TCD\",\"CHL\",\"CHN\",\"COL\",\"COM\",\"COK\",\"CRI\",\"HRV\",\"CUB\",\"CUW\",\"CYP\",\"CZE\",\"DNK\",\"DJI\",\"DMA\",\"DOM\",\"COD\",\"ECU\",\"EGY\",\"SLV\",\"GNQ\",\"ERI\",\"EST\",\"SWZ\",\"ETH\",\"FLK\",\"FRO\",\"FJI\",\"FIN\",\"FRA\",\"GUF\",\"PYF\",\"GAB\",\"GMB\",\"GEO\",\"DEU\",\"GHA\",\"GIB\",\"GRC\",\"GRL\",\"GRD\",\"GLP\",\"GUM\",\"GTM\",\"GGY\",\"GIN\",\"GNB\",\"GUY\",\"HTI\",\"HND\",\"HKG\",\"HUN\",\"ISL\",\"IND\",\"IDN\",\"IRN\",\"IRQ\",\"IRL\",\"IMN\",\"ISR\",\"ITA\",\"CIV\",\"JAM\",\"JPN\",\"JEY\",\"JOR\",\"KAZ\",\"KEN\",\"KIR\",\"KWT\",\"KGZ\",\"LAO\",\"LVA\",\"LBN\",\"LSO\",\"LBR\",\"LBY\",\"LIE\",\"LTU\",\"LUX\",\"MAC\",\"MDG\",\"MWI\",\"MYS\",\"MDV\",\"MLI\",\"MLT\",\"MHL\",\"MTQ\",\"MRT\",\"MUS\",\"MYT\",\"MEX\",\"FSM\",\"MDA\",\"MCO\",\"MNG\",\"MNE\",\"MSR\",\"MAR\",\"MOZ\",\"MMR\",\"NAM\",\"NRU\",\"NPL\",\"NLD\",\"NCL\",\"NZL\",\"NIC\",\"NER\",\"NGA\",\"NIU\",\"PRK\",\"MKD\",\"NFK\",\"NOR\",\"OMN\",\"PAK\",\"PLW\",\"PSE\",\"PAN\",\"PNG\",\"PRY\",\"PER\",\"PHL\",\"POL\",\"PRT\",\"PRI\",\"QAT\",\"COG\",\"REU\",\"ROU\",\"RUS\",\"RWA\",\"BLM\",\"KNA\",\"LCA\",\"MAF\",\"SPM\",\"VCT\",\"WSM\",\"SMR\",\"STP\",\"SAU\",\"SEN\",\"SRB\",\"SYC\",\"SLE\",\"SGP\",\"SXM\",\"SVK\",\"SVN\",\"SLB\",\"SOM\",\"ZAF\",\"KOR\",\"SSD\",\"ESP\",\"LKA\",\"SDN\",\"SUR\",\"SWE\",\"CHE\",\"SYR\",\"TWN\",\"TJK\",\"TZA\",\"THA\",\"TLS\",\"TGO\",\"TKL\",\"TON\",\"TTO\",\"TUN\",\"TUR\",\"TKM\",\"TCA\",\"TUV\",\"UGA\",\"UKR\",\"ARE\",\"GBR\",\"USA\",\"VIR\",\"URY\",\"UZB\",\"VUT\",\"VAT\",\"VEN\",\"VNM\",\"WLF\",\"ESH\",\"YEM\",\"ZMB\",\"ZWE\"],\"name\":\"\",\"z\":[10752971,2324731,13795915,27075,19860,6029700,6283,64516,23842803,2534377,59106,12595034,7465301,5425317,179129,222555,67541860,241397,9170786,9629376,120905,3023443,52019,298894,4585693,3815561,592244,96369875,9581,133343,8582950,5611666,3497834,6708525,6452787,21434577,287262,10533,2067356,3667394,9820481,822534450,20905254,242351,20470,1855697,4492638,8869636,150385,640804,9795744,4922963,144379,68895,4475871,20151733,6172215,34781986,3619090,316955,1272748,1361999,442865,28308246,2274,38416,527634,4606621,50523586,46484,117891,597192,528731,4800426,78294583,8861895,26685,8544873,45434,98794,318310,88300,5453208,52656,4222374,591663,705261,4680812,2782753,3955072,10315366,204468,557501301,115228394,28449705,9811347,2937637,55298,2907307,53324036,5477086,1859091,105416839,68347,1557374,12265305,11473087,57437,802786,3016384,2675283,2397414,2381791,1023481,1463563,1909177,21089,3210147,339342,247284,6639751,4625141,10306508,123243,6153587,315414,23969,326428,1122198,830115,35383,50289306,58989,3711140,24270,1293880,530268,11402,15274351,8411676,27284112,754467,6663,12501285,13037686,110982,2824061,2444767,4669708,55569264,5185,14996879,1656783,10143,3875546,670693,59290872,11366,1118241,1516188,2489059,2408787,13562371,37435586,32482943,8683631,2737619,118007,1396989,473925,19922618,130093010,3896367,2417,44968,103090,5802,5537,98459,142771,18169,77583,6106191,4367744,7193533,54379,2778557,2061831,6260,4522867,1741286,172833,3720977,22368306,32601143,3342410,33792617,12388769,11305206,379918,8027702,6181227,6319199,14957870,2993019,13618192,35791728,554021,2197383,1714,86484,988890,5047404,35540990,2201432,5665,5814,10317212,47279086,298084,55650166,200328340,63446,2790265,12011361,87019,752,11355475,41928849,9377,76371,6843607,4281671,5202918],\"type\":\"choropleth\"}],\"name\":\"1970\"},{\"data\":[{\"coloraxis\":\"coloraxis\",\"customdata\":[[\"AFG\"],[\"ALB\"],[\"DZA\"],[\"ASM\"],[\"AND\"],[\"AGO\"],[\"AIA\"],[\"ATG\"],[\"ARG\"],[\"ARM\"],[\"ABW\"],[\"AUS\"],[\"AUT\"],[\"AZE\"],[\"BHS\"],[\"BHR\"],[\"BGD\"],[\"BRB\"],[\"BLR\"],[\"BEL\"],[\"BLZ\"],[\"BEN\"],[\"BMU\"],[\"BTN\"],[\"BOL\"],[\"BIH\"],[\"BWA\"],[\"BRA\"],[\"VGB\"],[\"BRN\"],[\"BGR\"],[\"BFA\"],[\"BDI\"],[\"KHM\"],[\"CMR\"],[\"CAN\"],[\"CPV\"],[\"CYM\"],[\"CAF\"],[\"TCD\"],[\"CHL\"],[\"CHN\"],[\"COL\"],[\"COM\"],[\"COK\"],[\"CRI\"],[\"HRV\"],[\"CUB\"],[\"CUW\"],[\"CYP\"],[\"CZE\"],[\"DNK\"],[\"DJI\"],[\"DMA\"],[\"DOM\"],[\"COD\"],[\"ECU\"],[\"EGY\"],[\"SLV\"],[\"GNQ\"],[\"ERI\"],[\"EST\"],[\"SWZ\"],[\"ETH\"],[\"FLK\"],[\"FRO\"],[\"FJI\"],[\"FIN\"],[\"FRA\"],[\"GUF\"],[\"PYF\"],[\"GAB\"],[\"GMB\"],[\"GEO\"],[\"DEU\"],[\"GHA\"],[\"GIB\"],[\"GRC\"],[\"GRL\"],[\"GRD\"],[\"GLP\"],[\"GUM\"],[\"GTM\"],[\"GGY\"],[\"GIN\"],[\"GNB\"],[\"GUY\"],[\"HTI\"],[\"HND\"],[\"HKG\"],[\"HUN\"],[\"ISL\"],[\"IND\"],[\"IDN\"],[\"IRN\"],[\"IRQ\"],[\"IRL\"],[\"IMN\"],[\"ISR\"],[\"ITA\"],[\"CIV\"],[\"JAM\"],[\"JPN\"],[\"JEY\"],[\"JOR\"],[\"KAZ\"],[\"KEN\"],[\"KIR\"],[\"KWT\"],[\"KGZ\"],[\"LAO\"],[\"LVA\"],[\"LBN\"],[\"LSO\"],[\"LBR\"],[\"LBY\"],[\"LIE\"],[\"LTU\"],[\"LUX\"],[\"MAC\"],[\"MDG\"],[\"MWI\"],[\"MYS\"],[\"MDV\"],[\"MLI\"],[\"MLT\"],[\"MHL\"],[\"MTQ\"],[\"MRT\"],[\"MUS\"],[\"MYT\"],[\"MEX\"],[\"FSM\"],[\"MDA\"],[\"MCO\"],[\"MNG\"],[\"MNE\"],[\"MSR\"],[\"MAR\"],[\"MOZ\"],[\"MMR\"],[\"NAM\"],[\"NRU\"],[\"NPL\"],[\"NLD\"],[\"NCL\"],[\"NZL\"],[\"NIC\"],[\"NER\"],[\"NGA\"],[\"NIU\"],[\"PRK\"],[\"MKD\"],[\"NFK\"],[\"NOR\"],[\"OMN\"],[\"PAK\"],[\"PLW\"],[\"PSE\"],[\"PAN\"],[\"PNG\"],[\"PRY\"],[\"PER\"],[\"PHL\"],[\"POL\"],[\"PRT\"],[\"PRI\"],[\"QAT\"],[\"COG\"],[\"REU\"],[\"ROU\"],[\"RUS\"],[\"RWA\"],[\"BLM\"],[\"KNA\"],[\"LCA\"],[\"MAF\"],[\"SPM\"],[\"VCT\"],[\"WSM\"],[\"SMR\"],[\"STP\"],[\"SAU\"],[\"SEN\"],[\"SRB\"],[\"SYC\"],[\"SLE\"],[\"SGP\"],[\"SXM\"],[\"SVK\"],[\"SVN\"],[\"SLB\"],[\"SOM\"],[\"ZAF\"],[\"KOR\"],[\"SSD\"],[\"ESP\"],[\"LKA\"],[\"SDN\"],[\"SUR\"],[\"SWE\"],[\"CHE\"],[\"SYR\"],[\"TWN\"],[\"TJK\"],[\"TZA\"],[\"THA\"],[\"TLS\"],[\"TGO\"],[\"TKL\"],[\"TON\"],[\"TTO\"],[\"TUN\"],[\"TUR\"],[\"TKM\"],[\"TCA\"],[\"TUV\"],[\"UGA\"],[\"UKR\"],[\"ARE\"],[\"GBR\"],[\"USA\"],[\"VIR\"],[\"URY\"],[\"UZB\"],[\"VUT\"],[\"VAT\"],[\"VEN\"],[\"VNM\"],[\"WLF\"],[\"ESH\"],[\"YEM\"],[\"ZMB\"],[\"ZWE\"]],\"geo\":\"geo\",\"hovertemplate\":\"<b>%{hovertext}</b><br><br>Year=1980<br>Population=%{z}<extra></extra>\",\"hovertext\":[\"Afghanistan\",\"Albania\",\"Algeria\",\"American Samoa\",\"Andorra\",\"Angola\",\"Anguilla\",\"Antigua and Barbuda\",\"Argentina\",\"Armenia\",\"Aruba\",\"Australia\",\"Austria\",\"Azerbaijan\",\"Bahamas\",\"Bahrain\",\"Bangladesh\",\"Barbados\",\"Belarus\",\"Belgium\",\"Belize\",\"Benin\",\"Bermuda\",\"Bhutan\",\"Bolivia\",\"Bosnia and Herzegovina\",\"Botswana\",\"Brazil\",\"British Virgin Islands\",\"Brunei\",\"Bulgaria\",\"Burkina Faso\",\"Burundi\",\"Cambodia\",\"Cameroon\",\"Canada\",\"Cape Verde\",\"Cayman Islands\",\"Central African Republic\",\"Chad\",\"Chile\",\"China\",\"Colombia\",\"Comoros\",\"Cook Islands\",\"Costa Rica\",\"Croatia\",\"Cuba\",\"Curacao\",\"Cyprus\",\"Czech Republic\",\"Denmark\",\"Djibouti\",\"Dominica\",\"Dominican Republic\",\"DR Congo\",\"Ecuador\",\"Egypt\",\"El Salvador\",\"Equatorial Guinea\",\"Eritrea\",\"Estonia\",\"Eswatini\",\"Ethiopia\",\"Falkland Islands\",\"Faroe Islands\",\"Fiji\",\"Finland\",\"France\",\"French Guiana\",\"French Polynesia\",\"Gabon\",\"Gambia\",\"Georgia\",\"Germany\",\"Ghana\",\"Gibraltar\",\"Greece\",\"Greenland\",\"Grenada\",\"Guadeloupe\",\"Guam\",\"Guatemala\",\"Guernsey\",\"Guinea\",\"Guinea-Bissau\",\"Guyana\",\"Haiti\",\"Honduras\",\"Hong Kong\",\"Hungary\",\"Iceland\",\"India\",\"Indonesia\",\"Iran\",\"Iraq\",\"Ireland\",\"Isle of Man\",\"Israel\",\"Italy\",\"Ivory Coast\",\"Jamaica\",\"Japan\",\"Jersey\",\"Jordan\",\"Kazakhstan\",\"Kenya\",\"Kiribati\",\"Kuwait\",\"Kyrgyzstan\",\"Laos\",\"Latvia\",\"Lebanon\",\"Lesotho\",\"Liberia\",\"Libya\",\"Liechtenstein\",\"Lithuania\",\"Luxembourg\",\"Macau\",\"Madagascar\",\"Malawi\",\"Malaysia\",\"Maldives\",\"Mali\",\"Malta\",\"Marshall Islands\",\"Martinique\",\"Mauritania\",\"Mauritius\",\"Mayotte\",\"Mexico\",\"Micronesia\",\"Moldova\",\"Monaco\",\"Mongolia\",\"Montenegro\",\"Montserrat\",\"Morocco\",\"Mozambique\",\"Myanmar\",\"Namibia\",\"Nauru\",\"Nepal\",\"Netherlands\",\"New Caledonia\",\"New Zealand\",\"Nicaragua\",\"Niger\",\"Nigeria\",\"Niue\",\"North Korea\",\"North Macedonia\",\"Northern Mariana Islands\",\"Norway\",\"Oman\",\"Pakistan\",\"Palau\",\"Palestine\",\"Panama\",\"Papua New Guinea\",\"Paraguay\",\"Peru\",\"Philippines\",\"Poland\",\"Portugal\",\"Puerto Rico\",\"Qatar\",\"Republic of the Congo\",\"Reunion\",\"Romania\",\"Russia\",\"Rwanda\",\"Saint Barthelemy\",\"Saint Kitts and Nevis\",\"Saint Lucia\",\"Saint Martin\",\"Saint Pierre and Miquelon\",\"Saint Vincent and the Grenadines\",\"Samoa\",\"San Marino\",\"Sao Tome and Principe\",\"Saudi Arabia\",\"Senegal\",\"Serbia\",\"Seychelles\",\"Sierra Leone\",\"Singapore\",\"Sint Maarten\",\"Slovakia\",\"Slovenia\",\"Solomon Islands\",\"Somalia\",\"South Africa\",\"South Korea\",\"South Sudan\",\"Spain\",\"Sri Lanka\",\"Sudan\",\"Suriname\",\"Sweden\",\"Switzerland\",\"Syria\",\"Taiwan\",\"Tajikistan\",\"Tanzania\",\"Thailand\",\"Timor-Leste\",\"Togo\",\"Tokelau\",\"Tonga\",\"Trinidad and Tobago\",\"Tunisia\",\"Turkey\",\"Turkmenistan\",\"Turks and Caicos Islands\",\"Tuvalu\",\"Uganda\",\"Ukraine\",\"United Arab Emirates\",\"United Kingdom\",\"United States\",\"United States Virgin Islands\",\"Uruguay\",\"Uzbekistan\",\"Vanuatu\",\"Vatican City\",\"Venezuela\",\"Vietnam\",\"Wallis and Futuna\",\"Western Sahara\",\"Yemen\",\"Zambia\",\"Zimbabwe\"],\"locationmode\":\"ISO-3\",\"locations\":[\"AFG\",\"ALB\",\"DZA\",\"ASM\",\"AND\",\"AGO\",\"AIA\",\"ATG\",\"ARG\",\"ARM\",\"ABW\",\"AUS\",\"AUT\",\"AZE\",\"BHS\",\"BHR\",\"BGD\",\"BRB\",\"BLR\",\"BEL\",\"BLZ\",\"BEN\",\"BMU\",\"BTN\",\"BOL\",\"BIH\",\"BWA\",\"BRA\",\"VGB\",\"BRN\",\"BGR\",\"BFA\",\"BDI\",\"KHM\",\"CMR\",\"CAN\",\"CPV\",\"CYM\",\"CAF\",\"TCD\",\"CHL\",\"CHN\",\"COL\",\"COM\",\"COK\",\"CRI\",\"HRV\",\"CUB\",\"CUW\",\"CYP\",\"CZE\",\"DNK\",\"DJI\",\"DMA\",\"DOM\",\"COD\",\"ECU\",\"EGY\",\"SLV\",\"GNQ\",\"ERI\",\"EST\",\"SWZ\",\"ETH\",\"FLK\",\"FRO\",\"FJI\",\"FIN\",\"FRA\",\"GUF\",\"PYF\",\"GAB\",\"GMB\",\"GEO\",\"DEU\",\"GHA\",\"GIB\",\"GRC\",\"GRL\",\"GRD\",\"GLP\",\"GUM\",\"GTM\",\"GGY\",\"GIN\",\"GNB\",\"GUY\",\"HTI\",\"HND\",\"HKG\",\"HUN\",\"ISL\",\"IND\",\"IDN\",\"IRN\",\"IRQ\",\"IRL\",\"IMN\",\"ISR\",\"ITA\",\"CIV\",\"JAM\",\"JPN\",\"JEY\",\"JOR\",\"KAZ\",\"KEN\",\"KIR\",\"KWT\",\"KGZ\",\"LAO\",\"LVA\",\"LBN\",\"LSO\",\"LBR\",\"LBY\",\"LIE\",\"LTU\",\"LUX\",\"MAC\",\"MDG\",\"MWI\",\"MYS\",\"MDV\",\"MLI\",\"MLT\",\"MHL\",\"MTQ\",\"MRT\",\"MUS\",\"MYT\",\"MEX\",\"FSM\",\"MDA\",\"MCO\",\"MNG\",\"MNE\",\"MSR\",\"MAR\",\"MOZ\",\"MMR\",\"NAM\",\"NRU\",\"NPL\",\"NLD\",\"NCL\",\"NZL\",\"NIC\",\"NER\",\"NGA\",\"NIU\",\"PRK\",\"MKD\",\"NFK\",\"NOR\",\"OMN\",\"PAK\",\"PLW\",\"PSE\",\"PAN\",\"PNG\",\"PRY\",\"PER\",\"PHL\",\"POL\",\"PRT\",\"PRI\",\"QAT\",\"COG\",\"REU\",\"ROU\",\"RUS\",\"RWA\",\"BLM\",\"KNA\",\"LCA\",\"MAF\",\"SPM\",\"VCT\",\"WSM\",\"SMR\",\"STP\",\"SAU\",\"SEN\",\"SRB\",\"SYC\",\"SLE\",\"SGP\",\"SXM\",\"SVK\",\"SVN\",\"SLB\",\"SOM\",\"ZAF\",\"KOR\",\"SSD\",\"ESP\",\"LKA\",\"SDN\",\"SUR\",\"SWE\",\"CHE\",\"SYR\",\"TWN\",\"TJK\",\"TZA\",\"THA\",\"TLS\",\"TGO\",\"TKL\",\"TON\",\"TTO\",\"TUN\",\"TUR\",\"TKM\",\"TCA\",\"TUV\",\"UGA\",\"UKR\",\"ARE\",\"GBR\",\"USA\",\"VIR\",\"URY\",\"UZB\",\"VUT\",\"VAT\",\"VEN\",\"VNM\",\"WLF\",\"ESH\",\"YEM\",\"ZMB\",\"ZWE\"],\"name\":\"\",\"z\":[12486631,2941651,18739378,32886,35611,8330047,6560,64888,28024803,3135123,62267,14706322,7547561,6383060,223752,362595,83929765,253575,9817257,9828986,145133,3833939,53565,415257,5736088,4199820,938578,122288383,11109,187921,8980606,6932967,4312834,6198959,8519891,24511510,317234,17100,2415276,4408230,11469828,982372466,26176195,328328,17651,2414303,4680144,9809107,156851,679327,10270060,5125392,324121,72978,5755800,26708686,8135845,43748556,4508992,282509,1657982,1476983,598564,34945469,2240,43054,644582,4779418,53713830,66825,163591,749078,718586,5145843,77786703,11865246,28734,9307148,50106,94838,334234,110286,6987767,52860,4972609,831462,778176,5646676,3777990,4978544,10698679,228263,696828385,148177096,38520664,13653369,3391387,64022,3744608,56329482,8303809,2135546,117624196,75124,2216903,14172710,16187124,60813,1493870,3691209,3297519,2572037,2963702,1407672,1932169,2962720,25003,3521206,363741,245332,8948162,6267369,13215707,164887,7372581,333587,31988,333786,1506694,954865,52233,67705186,76299,4103240,27076,1697780,589324,11452,19678444,11413587,33465781,975994,7635,15600442,14130387,148599,3147168,3303309,6173177,72951439,3637,17973650,1907023,17613,4085776,1017462,80624057,12252,1453620,1956987,3104788,3078912,17492406,48419546,35521429,9785252,3214568,277450,1829256,551674,22125224,138257420,5247532,2983,43097,121633,7776,6106,107480,164905,21346,97210,10171710,5703869,7777010,65290,3367477,2400729,12243,4973883,1901570,233668,5892224,29463549,38170501,4192011,37491666,14943645,16673586,375112,8311763,6319113,8898954,18100281,4045965,19297659,45737753,642224,2838110,1647,96708,1127852,6578156,44089069,2862903,7598,7731,13284026,49973920,1014048,56326328,223140018,96640,2953750,15947129,118156,733,15210443,52968270,11315,116775,9204938,5720438,7049926],\"type\":\"choropleth\"}],\"name\":\"1980\"},{\"data\":[{\"coloraxis\":\"coloraxis\",\"customdata\":[[\"AFG\"],[\"ALB\"],[\"DZA\"],[\"ASM\"],[\"AND\"],[\"AGO\"],[\"AIA\"],[\"ATG\"],[\"ARG\"],[\"ARM\"],[\"ABW\"],[\"AUS\"],[\"AUT\"],[\"AZE\"],[\"BHS\"],[\"BHR\"],[\"BGD\"],[\"BRB\"],[\"BLR\"],[\"BEL\"],[\"BLZ\"],[\"BEN\"],[\"BMU\"],[\"BTN\"],[\"BOL\"],[\"BIH\"],[\"BWA\"],[\"BRA\"],[\"VGB\"],[\"BRN\"],[\"BGR\"],[\"BFA\"],[\"BDI\"],[\"KHM\"],[\"CMR\"],[\"CAN\"],[\"CPV\"],[\"CYM\"],[\"CAF\"],[\"TCD\"],[\"CHL\"],[\"CHN\"],[\"COL\"],[\"COM\"],[\"COK\"],[\"CRI\"],[\"HRV\"],[\"CUB\"],[\"CUW\"],[\"CYP\"],[\"CZE\"],[\"DNK\"],[\"DJI\"],[\"DMA\"],[\"DOM\"],[\"COD\"],[\"ECU\"],[\"EGY\"],[\"SLV\"],[\"GNQ\"],[\"ERI\"],[\"EST\"],[\"SWZ\"],[\"ETH\"],[\"FLK\"],[\"FRO\"],[\"FJI\"],[\"FIN\"],[\"FRA\"],[\"GUF\"],[\"PYF\"],[\"GAB\"],[\"GMB\"],[\"GEO\"],[\"DEU\"],[\"GHA\"],[\"GIB\"],[\"GRC\"],[\"GRL\"],[\"GRD\"],[\"GLP\"],[\"GUM\"],[\"GTM\"],[\"GGY\"],[\"GIN\"],[\"GNB\"],[\"GUY\"],[\"HTI\"],[\"HND\"],[\"HKG\"],[\"HUN\"],[\"ISL\"],[\"IND\"],[\"IDN\"],[\"IRN\"],[\"IRQ\"],[\"IRL\"],[\"IMN\"],[\"ISR\"],[\"ITA\"],[\"CIV\"],[\"JAM\"],[\"JPN\"],[\"JEY\"],[\"JOR\"],[\"KAZ\"],[\"KEN\"],[\"KIR\"],[\"KWT\"],[\"KGZ\"],[\"LAO\"],[\"LVA\"],[\"LBN\"],[\"LSO\"],[\"LBR\"],[\"LBY\"],[\"LIE\"],[\"LTU\"],[\"LUX\"],[\"MAC\"],[\"MDG\"],[\"MWI\"],[\"MYS\"],[\"MDV\"],[\"MLI\"],[\"MLT\"],[\"MHL\"],[\"MTQ\"],[\"MRT\"],[\"MUS\"],[\"MYT\"],[\"MEX\"],[\"FSM\"],[\"MDA\"],[\"MCO\"],[\"MNG\"],[\"MNE\"],[\"MSR\"],[\"MAR\"],[\"MOZ\"],[\"MMR\"],[\"NAM\"],[\"NRU\"],[\"NPL\"],[\"NLD\"],[\"NCL\"],[\"NZL\"],[\"NIC\"],[\"NER\"],[\"NGA\"],[\"NIU\"],[\"PRK\"],[\"MKD\"],[\"NFK\"],[\"NOR\"],[\"OMN\"],[\"PAK\"],[\"PLW\"],[\"PSE\"],[\"PAN\"],[\"PNG\"],[\"PRY\"],[\"PER\"],[\"PHL\"],[\"POL\"],[\"PRT\"],[\"PRI\"],[\"QAT\"],[\"COG\"],[\"REU\"],[\"ROU\"],[\"RUS\"],[\"RWA\"],[\"BLM\"],[\"KNA\"],[\"LCA\"],[\"MAF\"],[\"SPM\"],[\"VCT\"],[\"WSM\"],[\"SMR\"],[\"STP\"],[\"SAU\"],[\"SEN\"],[\"SRB\"],[\"SYC\"],[\"SLE\"],[\"SGP\"],[\"SXM\"],[\"SVK\"],[\"SVN\"],[\"SLB\"],[\"SOM\"],[\"ZAF\"],[\"KOR\"],[\"SSD\"],[\"ESP\"],[\"LKA\"],[\"SDN\"],[\"SUR\"],[\"SWE\"],[\"CHE\"],[\"SYR\"],[\"TWN\"],[\"TJK\"],[\"TZA\"],[\"THA\"],[\"TLS\"],[\"TGO\"],[\"TKL\"],[\"TON\"],[\"TTO\"],[\"TUN\"],[\"TUR\"],[\"TKM\"],[\"TCA\"],[\"TUV\"],[\"UGA\"],[\"UKR\"],[\"ARE\"],[\"GBR\"],[\"USA\"],[\"VIR\"],[\"URY\"],[\"UZB\"],[\"VUT\"],[\"VAT\"],[\"VEN\"],[\"VNM\"],[\"WLF\"],[\"ESH\"],[\"YEM\"],[\"ZMB\"],[\"ZWE\"]],\"geo\":\"geo\",\"hovertemplate\":\"<b>%{hovertext}</b><br><br>Year=1990<br>Population=%{z}<extra></extra>\",\"hovertext\":[\"Afghanistan\",\"Albania\",\"Algeria\",\"American Samoa\",\"Andorra\",\"Angola\",\"Anguilla\",\"Antigua and Barbuda\",\"Argentina\",\"Armenia\",\"Aruba\",\"Australia\",\"Austria\",\"Azerbaijan\",\"Bahamas\",\"Bahrain\",\"Bangladesh\",\"Barbados\",\"Belarus\",\"Belgium\",\"Belize\",\"Benin\",\"Bermuda\",\"Bhutan\",\"Bolivia\",\"Bosnia and Herzegovina\",\"Botswana\",\"Brazil\",\"British Virgin Islands\",\"Brunei\",\"Bulgaria\",\"Burkina Faso\",\"Burundi\",\"Cambodia\",\"Cameroon\",\"Canada\",\"Cape Verde\",\"Cayman Islands\",\"Central African Republic\",\"Chad\",\"Chile\",\"China\",\"Colombia\",\"Comoros\",\"Cook Islands\",\"Costa Rica\",\"Croatia\",\"Cuba\",\"Curacao\",\"Cyprus\",\"Czech Republic\",\"Denmark\",\"Djibouti\",\"Dominica\",\"Dominican Republic\",\"DR Congo\",\"Ecuador\",\"Egypt\",\"El Salvador\",\"Equatorial Guinea\",\"Eritrea\",\"Estonia\",\"Eswatini\",\"Ethiopia\",\"Falkland Islands\",\"Faroe Islands\",\"Fiji\",\"Finland\",\"France\",\"French Guiana\",\"French Polynesia\",\"Gabon\",\"Gambia\",\"Georgia\",\"Germany\",\"Ghana\",\"Gibraltar\",\"Greece\",\"Greenland\",\"Grenada\",\"Guadeloupe\",\"Guam\",\"Guatemala\",\"Guernsey\",\"Guinea\",\"Guinea-Bissau\",\"Guyana\",\"Haiti\",\"Honduras\",\"Hong Kong\",\"Hungary\",\"Iceland\",\"India\",\"Indonesia\",\"Iran\",\"Iraq\",\"Ireland\",\"Isle of Man\",\"Israel\",\"Italy\",\"Ivory Coast\",\"Jamaica\",\"Japan\",\"Jersey\",\"Jordan\",\"Kazakhstan\",\"Kenya\",\"Kiribati\",\"Kuwait\",\"Kyrgyzstan\",\"Laos\",\"Latvia\",\"Lebanon\",\"Lesotho\",\"Liberia\",\"Libya\",\"Liechtenstein\",\"Lithuania\",\"Luxembourg\",\"Macau\",\"Madagascar\",\"Malawi\",\"Malaysia\",\"Maldives\",\"Mali\",\"Malta\",\"Marshall Islands\",\"Martinique\",\"Mauritania\",\"Mauritius\",\"Mayotte\",\"Mexico\",\"Micronesia\",\"Moldova\",\"Monaco\",\"Mongolia\",\"Montenegro\",\"Montserrat\",\"Morocco\",\"Mozambique\",\"Myanmar\",\"Namibia\",\"Nauru\",\"Nepal\",\"Netherlands\",\"New Caledonia\",\"New Zealand\",\"Nicaragua\",\"Niger\",\"Nigeria\",\"Niue\",\"North Korea\",\"North Macedonia\",\"Northern Mariana Islands\",\"Norway\",\"Oman\",\"Pakistan\",\"Palau\",\"Palestine\",\"Panama\",\"Papua New Guinea\",\"Paraguay\",\"Peru\",\"Philippines\",\"Poland\",\"Portugal\",\"Puerto Rico\",\"Qatar\",\"Republic of the Congo\",\"Reunion\",\"Romania\",\"Russia\",\"Rwanda\",\"Saint Barthelemy\",\"Saint Kitts and Nevis\",\"Saint Lucia\",\"Saint Martin\",\"Saint Pierre and Miquelon\",\"Saint Vincent and the Grenadines\",\"Samoa\",\"San Marino\",\"Sao Tome and Principe\",\"Saudi Arabia\",\"Senegal\",\"Serbia\",\"Seychelles\",\"Sierra Leone\",\"Singapore\",\"Sint Maarten\",\"Slovakia\",\"Slovenia\",\"Solomon Islands\",\"Somalia\",\"South Africa\",\"South Korea\",\"South Sudan\",\"Spain\",\"Sri Lanka\",\"Sudan\",\"Suriname\",\"Sweden\",\"Switzerland\",\"Syria\",\"Taiwan\",\"Tajikistan\",\"Tanzania\",\"Thailand\",\"Timor-Leste\",\"Togo\",\"Tokelau\",\"Tonga\",\"Trinidad and Tobago\",\"Tunisia\",\"Turkey\",\"Turkmenistan\",\"Turks and Caicos Islands\",\"Tuvalu\",\"Uganda\",\"Ukraine\",\"United Arab Emirates\",\"United Kingdom\",\"United States\",\"United States Virgin Islands\",\"Uruguay\",\"Uzbekistan\",\"Vanuatu\",\"Vatican City\",\"Venezuela\",\"Vietnam\",\"Wallis and Futuna\",\"Western Sahara\",\"Yemen\",\"Zambia\",\"Zimbabwe\"],\"locationmode\":\"ISO-3\",\"locations\":[\"AFG\",\"ALB\",\"DZA\",\"ASM\",\"AND\",\"AGO\",\"AIA\",\"ATG\",\"ARG\",\"ARM\",\"ABW\",\"AUS\",\"AUT\",\"AZE\",\"BHS\",\"BHR\",\"BGD\",\"BRB\",\"BLR\",\"BEL\",\"BLZ\",\"BEN\",\"BMU\",\"BTN\",\"BOL\",\"BIH\",\"BWA\",\"BRA\",\"VGB\",\"BRN\",\"BGR\",\"BFA\",\"BDI\",\"KHM\",\"CMR\",\"CAN\",\"CPV\",\"CYM\",\"CAF\",\"TCD\",\"CHL\",\"CHN\",\"COL\",\"COM\",\"COK\",\"CRI\",\"HRV\",\"CUB\",\"CUW\",\"CYP\",\"CZE\",\"DNK\",\"DJI\",\"DMA\",\"DOM\",\"COD\",\"ECU\",\"EGY\",\"SLV\",\"GNQ\",\"ERI\",\"EST\",\"SWZ\",\"ETH\",\"FLK\",\"FRO\",\"FJI\",\"FIN\",\"FRA\",\"GUF\",\"PYF\",\"GAB\",\"GMB\",\"GEO\",\"DEU\",\"GHA\",\"GIB\",\"GRC\",\"GRL\",\"GRD\",\"GLP\",\"GUM\",\"GTM\",\"GGY\",\"GIN\",\"GNB\",\"GUY\",\"HTI\",\"HND\",\"HKG\",\"HUN\",\"ISL\",\"IND\",\"IDN\",\"IRN\",\"IRQ\",\"IRL\",\"IMN\",\"ISR\",\"ITA\",\"CIV\",\"JAM\",\"JPN\",\"JEY\",\"JOR\",\"KAZ\",\"KEN\",\"KIR\",\"KWT\",\"KGZ\",\"LAO\",\"LVA\",\"LBN\",\"LSO\",\"LBR\",\"LBY\",\"LIE\",\"LTU\",\"LUX\",\"MAC\",\"MDG\",\"MWI\",\"MYS\",\"MDV\",\"MLI\",\"MLT\",\"MHL\",\"MTQ\",\"MRT\",\"MUS\",\"MYT\",\"MEX\",\"FSM\",\"MDA\",\"MCO\",\"MNG\",\"MNE\",\"MSR\",\"MAR\",\"MOZ\",\"MMR\",\"NAM\",\"NRU\",\"NPL\",\"NLD\",\"NCL\",\"NZL\",\"NIC\",\"NER\",\"NGA\",\"NIU\",\"PRK\",\"MKD\",\"NFK\",\"NOR\",\"OMN\",\"PAK\",\"PLW\",\"PSE\",\"PAN\",\"PNG\",\"PRY\",\"PER\",\"PHL\",\"POL\",\"PRT\",\"PRI\",\"QAT\",\"COG\",\"REU\",\"ROU\",\"RUS\",\"RWA\",\"BLM\",\"KNA\",\"LCA\",\"MAF\",\"SPM\",\"VCT\",\"WSM\",\"SMR\",\"STP\",\"SAU\",\"SEN\",\"SRB\",\"SYC\",\"SLE\",\"SGP\",\"SXM\",\"SVK\",\"SVN\",\"SLB\",\"SOM\",\"ZAF\",\"KOR\",\"SSD\",\"ESP\",\"LKA\",\"SDN\",\"SUR\",\"SWE\",\"CHE\",\"SYR\",\"TWN\",\"TJK\",\"TZA\",\"THA\",\"TLS\",\"TGO\",\"TKL\",\"TON\",\"TTO\",\"TUN\",\"TUR\",\"TKM\",\"TCA\",\"TUV\",\"UGA\",\"UKR\",\"ARE\",\"GBR\",\"USA\",\"VIR\",\"URY\",\"UZB\",\"VUT\",\"VAT\",\"VEN\",\"VNM\",\"WLF\",\"ESH\",\"YEM\",\"ZMB\",\"ZWE\"],\"name\":\"\",\"z\":[10694796,3295066,25518074,47818,53569,11828638,8316,63328,32637657,3556539,65712,17048003,7678729,7427836,270679,517418,107147651,258868,10428525,9959560,182589,5133419,57470,558442,7096194,4494310,1341474,150706446,15617,261928,8767778,9131361,5483793,8910808,11430520,27657204,364563,26027,2809221,5827069,13342868,1153704252,32601393,431119,17123,3158253,4873707,10626680,155446,788500,10301192,5144623,577173,69481,7129004,35987541,10449837,57214630,5367179,465549,2149960,1570674,854011,47878073,2332,47479,780430,4986545,56412897,113931,211089,983028,1040616,5391636,79370196,15446982,27317,10302255,55599,99047,391951,138263,9084780,57727,6354145,973551,747116,6925331,5053234,5838574,10375989,255019,870452165,182159874,55793629,17658381,3485374,68865,4803254,56756561,11910540,2392030,123686321,82874,3480587,16866563,23162269,75124,1674938,4394734,4314443,2689391,3593700,1798997,2209731,4236983,28765,3785847,381267,350227,11882762,9539665,17517054,224957,8945026,365392,46047,374271,2006027,1090290,92659,81720428,98603,4480199,30329,2161433,621442,10805,24570814,13303459,40099553,1369011,9598,19616530,14944548,177264,3397389,4227820,8370647,95214257,2533,20799523,2044174,48002,4241636,1804524,115414069,15293,2124609,2449968,3864972,4059195,22109099,61558898,38064255,10007346,3543776,441675,2385435,658992,22836234,148005704,7319962,5168,40636,142301,28127,6324,112487,168186,23132,120343,16004763,7536001,7987529,71057,4325388,3022209,27845,5261305,1986024,324171,6999096,39877570,44120039,4750817,38889889,17204094,21090886,412756,8548406,6711693,12408996,20586174,5417860,26206012,55228410,758106,3875947,1669,98727,1266518,8440023,54324142,3720278,11709,9182,17586630,51589817,1900151,57210442,248083732,100685,3117012,20579100,150882,700,19750579,66912613,13454,178529,13375121,7686401,10113893],\"type\":\"choropleth\"}],\"name\":\"1990\"},{\"data\":[{\"coloraxis\":\"coloraxis\",\"customdata\":[[\"AFG\"],[\"ALB\"],[\"DZA\"],[\"ASM\"],[\"AND\"],[\"AGO\"],[\"AIA\"],[\"ATG\"],[\"ARG\"],[\"ARM\"],[\"ABW\"],[\"AUS\"],[\"AUT\"],[\"AZE\"],[\"BHS\"],[\"BHR\"],[\"BGD\"],[\"BRB\"],[\"BLR\"],[\"BEL\"],[\"BLZ\"],[\"BEN\"],[\"BMU\"],[\"BTN\"],[\"BOL\"],[\"BIH\"],[\"BWA\"],[\"BRA\"],[\"VGB\"],[\"BRN\"],[\"BGR\"],[\"BFA\"],[\"BDI\"],[\"KHM\"],[\"CMR\"],[\"CAN\"],[\"CPV\"],[\"CYM\"],[\"CAF\"],[\"TCD\"],[\"CHL\"],[\"CHN\"],[\"COL\"],[\"COM\"],[\"COK\"],[\"CRI\"],[\"HRV\"],[\"CUB\"],[\"CUW\"],[\"CYP\"],[\"CZE\"],[\"DNK\"],[\"DJI\"],[\"DMA\"],[\"DOM\"],[\"COD\"],[\"ECU\"],[\"EGY\"],[\"SLV\"],[\"GNQ\"],[\"ERI\"],[\"EST\"],[\"SWZ\"],[\"ETH\"],[\"FLK\"],[\"FRO\"],[\"FJI\"],[\"FIN\"],[\"FRA\"],[\"GUF\"],[\"PYF\"],[\"GAB\"],[\"GMB\"],[\"GEO\"],[\"DEU\"],[\"GHA\"],[\"GIB\"],[\"GRC\"],[\"GRL\"],[\"GRD\"],[\"GLP\"],[\"GUM\"],[\"GTM\"],[\"GGY\"],[\"GIN\"],[\"GNB\"],[\"GUY\"],[\"HTI\"],[\"HND\"],[\"HKG\"],[\"HUN\"],[\"ISL\"],[\"IND\"],[\"IDN\"],[\"IRN\"],[\"IRQ\"],[\"IRL\"],[\"IMN\"],[\"ISR\"],[\"ITA\"],[\"CIV\"],[\"JAM\"],[\"JPN\"],[\"JEY\"],[\"JOR\"],[\"KAZ\"],[\"KEN\"],[\"KIR\"],[\"KWT\"],[\"KGZ\"],[\"LAO\"],[\"LVA\"],[\"LBN\"],[\"LSO\"],[\"LBR\"],[\"LBY\"],[\"LIE\"],[\"LTU\"],[\"LUX\"],[\"MAC\"],[\"MDG\"],[\"MWI\"],[\"MYS\"],[\"MDV\"],[\"MLI\"],[\"MLT\"],[\"MHL\"],[\"MTQ\"],[\"MRT\"],[\"MUS\"],[\"MYT\"],[\"MEX\"],[\"FSM\"],[\"MDA\"],[\"MCO\"],[\"MNG\"],[\"MNE\"],[\"MSR\"],[\"MAR\"],[\"MOZ\"],[\"MMR\"],[\"NAM\"],[\"NRU\"],[\"NPL\"],[\"NLD\"],[\"NCL\"],[\"NZL\"],[\"NIC\"],[\"NER\"],[\"NGA\"],[\"NIU\"],[\"PRK\"],[\"MKD\"],[\"NFK\"],[\"NOR\"],[\"OMN\"],[\"PAK\"],[\"PLW\"],[\"PSE\"],[\"PAN\"],[\"PNG\"],[\"PRY\"],[\"PER\"],[\"PHL\"],[\"POL\"],[\"PRT\"],[\"PRI\"],[\"QAT\"],[\"COG\"],[\"REU\"],[\"ROU\"],[\"RUS\"],[\"RWA\"],[\"BLM\"],[\"KNA\"],[\"LCA\"],[\"MAF\"],[\"SPM\"],[\"VCT\"],[\"WSM\"],[\"SMR\"],[\"STP\"],[\"SAU\"],[\"SEN\"],[\"SRB\"],[\"SYC\"],[\"SLE\"],[\"SGP\"],[\"SXM\"],[\"SVK\"],[\"SVN\"],[\"SLB\"],[\"SOM\"],[\"ZAF\"],[\"KOR\"],[\"SSD\"],[\"ESP\"],[\"LKA\"],[\"SDN\"],[\"SUR\"],[\"SWE\"],[\"CHE\"],[\"SYR\"],[\"TWN\"],[\"TJK\"],[\"TZA\"],[\"THA\"],[\"TLS\"],[\"TGO\"],[\"TKL\"],[\"TON\"],[\"TTO\"],[\"TUN\"],[\"TUR\"],[\"TKM\"],[\"TCA\"],[\"TUV\"],[\"UGA\"],[\"UKR\"],[\"ARE\"],[\"GBR\"],[\"USA\"],[\"VIR\"],[\"URY\"],[\"UZB\"],[\"VUT\"],[\"VAT\"],[\"VEN\"],[\"VNM\"],[\"WLF\"],[\"ESH\"],[\"YEM\"],[\"ZMB\"],[\"ZWE\"]],\"geo\":\"geo\",\"hovertemplate\":\"<b>%{hovertext}</b><br><br>Year=2000<br>Population=%{z}<extra></extra>\",\"hovertext\":[\"Afghanistan\",\"Albania\",\"Algeria\",\"American Samoa\",\"Andorra\",\"Angola\",\"Anguilla\",\"Antigua and Barbuda\",\"Argentina\",\"Armenia\",\"Aruba\",\"Australia\",\"Austria\",\"Azerbaijan\",\"Bahamas\",\"Bahrain\",\"Bangladesh\",\"Barbados\",\"Belarus\",\"Belgium\",\"Belize\",\"Benin\",\"Bermuda\",\"Bhutan\",\"Bolivia\",\"Bosnia and Herzegovina\",\"Botswana\",\"Brazil\",\"British Virgin Islands\",\"Brunei\",\"Bulgaria\",\"Burkina Faso\",\"Burundi\",\"Cambodia\",\"Cameroon\",\"Canada\",\"Cape Verde\",\"Cayman Islands\",\"Central African Republic\",\"Chad\",\"Chile\",\"China\",\"Colombia\",\"Comoros\",\"Cook Islands\",\"Costa Rica\",\"Croatia\",\"Cuba\",\"Curacao\",\"Cyprus\",\"Czech Republic\",\"Denmark\",\"Djibouti\",\"Dominica\",\"Dominican Republic\",\"DR Congo\",\"Ecuador\",\"Egypt\",\"El Salvador\",\"Equatorial Guinea\",\"Eritrea\",\"Estonia\",\"Eswatini\",\"Ethiopia\",\"Falkland Islands\",\"Faroe Islands\",\"Fiji\",\"Finland\",\"France\",\"French Guiana\",\"French Polynesia\",\"Gabon\",\"Gambia\",\"Georgia\",\"Germany\",\"Ghana\",\"Gibraltar\",\"Greece\",\"Greenland\",\"Grenada\",\"Guadeloupe\",\"Guam\",\"Guatemala\",\"Guernsey\",\"Guinea\",\"Guinea-Bissau\",\"Guyana\",\"Haiti\",\"Honduras\",\"Hong Kong\",\"Hungary\",\"Iceland\",\"India\",\"Indonesia\",\"Iran\",\"Iraq\",\"Ireland\",\"Isle of Man\",\"Israel\",\"Italy\",\"Ivory Coast\",\"Jamaica\",\"Japan\",\"Jersey\",\"Jordan\",\"Kazakhstan\",\"Kenya\",\"Kiribati\",\"Kuwait\",\"Kyrgyzstan\",\"Laos\",\"Latvia\",\"Lebanon\",\"Lesotho\",\"Liberia\",\"Libya\",\"Liechtenstein\",\"Lithuania\",\"Luxembourg\",\"Macau\",\"Madagascar\",\"Malawi\",\"Malaysia\",\"Maldives\",\"Mali\",\"Malta\",\"Marshall Islands\",\"Martinique\",\"Mauritania\",\"Mauritius\",\"Mayotte\",\"Mexico\",\"Micronesia\",\"Moldova\",\"Monaco\",\"Mongolia\",\"Montenegro\",\"Montserrat\",\"Morocco\",\"Mozambique\",\"Myanmar\",\"Namibia\",\"Nauru\",\"Nepal\",\"Netherlands\",\"New Caledonia\",\"New Zealand\",\"Nicaragua\",\"Niger\",\"Nigeria\",\"Niue\",\"North Korea\",\"North Macedonia\",\"Northern Mariana Islands\",\"Norway\",\"Oman\",\"Pakistan\",\"Palau\",\"Palestine\",\"Panama\",\"Papua New Guinea\",\"Paraguay\",\"Peru\",\"Philippines\",\"Poland\",\"Portugal\",\"Puerto Rico\",\"Qatar\",\"Republic of the Congo\",\"Reunion\",\"Romania\",\"Russia\",\"Rwanda\",\"Saint Barthelemy\",\"Saint Kitts and Nevis\",\"Saint Lucia\",\"Saint Martin\",\"Saint Pierre and Miquelon\",\"Saint Vincent and the Grenadines\",\"Samoa\",\"San Marino\",\"Sao Tome and Principe\",\"Saudi Arabia\",\"Senegal\",\"Serbia\",\"Seychelles\",\"Sierra Leone\",\"Singapore\",\"Sint Maarten\",\"Slovakia\",\"Slovenia\",\"Solomon Islands\",\"Somalia\",\"South Africa\",\"South Korea\",\"South Sudan\",\"Spain\",\"Sri Lanka\",\"Sudan\",\"Suriname\",\"Sweden\",\"Switzerland\",\"Syria\",\"Taiwan\",\"Tajikistan\",\"Tanzania\",\"Thailand\",\"Timor-Leste\",\"Togo\",\"Tokelau\",\"Tonga\",\"Trinidad and Tobago\",\"Tunisia\",\"Turkey\",\"Turkmenistan\",\"Turks and Caicos Islands\",\"Tuvalu\",\"Uganda\",\"Ukraine\",\"United Arab Emirates\",\"United Kingdom\",\"United States\",\"United States Virgin Islands\",\"Uruguay\",\"Uzbekistan\",\"Vanuatu\",\"Vatican City\",\"Venezuela\",\"Vietnam\",\"Wallis and Futuna\",\"Western Sahara\",\"Yemen\",\"Zambia\",\"Zimbabwe\"],\"locationmode\":\"ISO-3\",\"locations\":[\"AFG\",\"ALB\",\"DZA\",\"ASM\",\"AND\",\"AGO\",\"AIA\",\"ATG\",\"ARG\",\"ARM\",\"ABW\",\"AUS\",\"AUT\",\"AZE\",\"BHS\",\"BHR\",\"BGD\",\"BRB\",\"BLR\",\"BEL\",\"BLZ\",\"BEN\",\"BMU\",\"BTN\",\"BOL\",\"BIH\",\"BWA\",\"BRA\",\"VGB\",\"BRN\",\"BGR\",\"BFA\",\"BDI\",\"KHM\",\"CMR\",\"CAN\",\"CPV\",\"CYM\",\"CAF\",\"TCD\",\"CHL\",\"CHN\",\"COL\",\"COM\",\"COK\",\"CRI\",\"HRV\",\"CUB\",\"CUW\",\"CYP\",\"CZE\",\"DNK\",\"DJI\",\"DMA\",\"DOM\",\"COD\",\"ECU\",\"EGY\",\"SLV\",\"GNQ\",\"ERI\",\"EST\",\"SWZ\",\"ETH\",\"FLK\",\"FRO\",\"FJI\",\"FIN\",\"FRA\",\"GUF\",\"PYF\",\"GAB\",\"GMB\",\"GEO\",\"DEU\",\"GHA\",\"GIB\",\"GRC\",\"GRL\",\"GRD\",\"GLP\",\"GUM\",\"GTM\",\"GGY\",\"GIN\",\"GNB\",\"GUY\",\"HTI\",\"HND\",\"HKG\",\"HUN\",\"ISL\",\"IND\",\"IDN\",\"IRN\",\"IRQ\",\"IRL\",\"IMN\",\"ISR\",\"ITA\",\"CIV\",\"JAM\",\"JPN\",\"JEY\",\"JOR\",\"KAZ\",\"KEN\",\"KIR\",\"KWT\",\"KGZ\",\"LAO\",\"LVA\",\"LBN\",\"LSO\",\"LBR\",\"LBY\",\"LIE\",\"LTU\",\"LUX\",\"MAC\",\"MDG\",\"MWI\",\"MYS\",\"MDV\",\"MLI\",\"MLT\",\"MHL\",\"MTQ\",\"MRT\",\"MUS\",\"MYT\",\"MEX\",\"FSM\",\"MDA\",\"MCO\",\"MNG\",\"MNE\",\"MSR\",\"MAR\",\"MOZ\",\"MMR\",\"NAM\",\"NRU\",\"NPL\",\"NLD\",\"NCL\",\"NZL\",\"NIC\",\"NER\",\"NGA\",\"NIU\",\"PRK\",\"MKD\",\"NFK\",\"NOR\",\"OMN\",\"PAK\",\"PLW\",\"PSE\",\"PAN\",\"PNG\",\"PRY\",\"PER\",\"PHL\",\"POL\",\"PRT\",\"PRI\",\"QAT\",\"COG\",\"REU\",\"ROU\",\"RUS\",\"RWA\",\"BLM\",\"KNA\",\"LCA\",\"MAF\",\"SPM\",\"VCT\",\"WSM\",\"SMR\",\"STP\",\"SAU\",\"SEN\",\"SRB\",\"SYC\",\"SLE\",\"SGP\",\"SXM\",\"SVK\",\"SVN\",\"SLB\",\"SOM\",\"ZAF\",\"KOR\",\"SSD\",\"ESP\",\"LKA\",\"SDN\",\"SUR\",\"SWE\",\"CHE\",\"SYR\",\"TWN\",\"TJK\",\"TZA\",\"THA\",\"TLS\",\"TGO\",\"TKL\",\"TON\",\"TTO\",\"TUN\",\"TUR\",\"TKM\",\"TCA\",\"TUV\",\"UGA\",\"UKR\",\"ARE\",\"GBR\",\"USA\",\"VIR\",\"URY\",\"UZB\",\"VUT\",\"VAT\",\"VEN\",\"VNM\",\"WLF\",\"ESH\",\"YEM\",\"ZMB\",\"ZWE\"],\"name\":\"\",\"z\":[19542982,3182021,30774621,58230,66097,16394062,11047,75055,37070774,3168523,89101,19017963,8010428,8190337,325014,711442,129193327,264657,10256483,10264343,240406,6998023,61371,587207,8592656,4179350,1726985,175873720,20104,333926,8097691,11882888,6307659,12118841,15091594,30683313,458251,39658,3759170,8259137,15351799,1264099069,39215135,536758,15897,3979193,4548434,11105791,141424,948237,10234710,5340655,742033,68346,8540791,48616317,12626507,71371371,5958482,684977,2392880,1396877,1030496,67031867,3080,45660,832509,5176209,58665453,164351,250927,1272935,1437539,4265172,81551677,19665502,27741,11038109,56184,107432,424067,160188,11735894,59114,8336967,1230849,759051,8360225,6656725,6731195,10202055,281462,1059633675,214072421,65544383,24628858,3768950,75562,6116958,56966397,16799670,2612205,126803861,86192,5056174,15236253,30851606,88826,1934901,4935182,5430853,2392530,4320642,1998630,2895224,5154790,33026,3599637,435628,431896,16216431,11229387,22945150,282507,11239101,399212,54224,432543,2695003,1215930,159215,97873442,111709,4251573,32465,2450979,633324,5138,28554415,17768505,45538332,1819141,10377,24559500,15899135,221537,3855266,5123222,11622665,122851984,2074,23367059,2037936,80338,4491202,2344253,154369924,19726,3139954,3001731,5508297,5123819,26654439,77958223,38504431,10300626,3827108,645937,3134030,785424,21919876,146844839,8109989,7082,45461,159500,29610,6274,113813,184008,26823,143714,21547390,9704287,7935022,80060,4584067,4053602,30489,5376690,1984339,429978,8721465,46813266,46788591,6114440,40741651,18776371,26298773,478998,8871043,7182059,16307654,22194731,6272998,34463704,63066603,878360,5008035,1666,102603,1332203,9893316,64113547,4569132,18744,9638,24020697,48879755,3275333,58850043,282398554,108185,3292224,24925554,192074,651,24427729,79001142,14723,270375,18628700,9891136,11834676],\"type\":\"choropleth\"}],\"name\":\"2000\"},{\"data\":[{\"coloraxis\":\"coloraxis\",\"customdata\":[[\"AFG\"],[\"ALB\"],[\"DZA\"],[\"ASM\"],[\"AND\"],[\"AGO\"],[\"AIA\"],[\"ATG\"],[\"ARG\"],[\"ARM\"],[\"ABW\"],[\"AUS\"],[\"AUT\"],[\"AZE\"],[\"BHS\"],[\"BHR\"],[\"BGD\"],[\"BRB\"],[\"BLR\"],[\"BEL\"],[\"BLZ\"],[\"BEN\"],[\"BMU\"],[\"BTN\"],[\"BOL\"],[\"BIH\"],[\"BWA\"],[\"BRA\"],[\"VGB\"],[\"BRN\"],[\"BGR\"],[\"BFA\"],[\"BDI\"],[\"KHM\"],[\"CMR\"],[\"CAN\"],[\"CPV\"],[\"CYM\"],[\"CAF\"],[\"TCD\"],[\"CHL\"],[\"CHN\"],[\"COL\"],[\"COM\"],[\"COK\"],[\"CRI\"],[\"HRV\"],[\"CUB\"],[\"CUW\"],[\"CYP\"],[\"CZE\"],[\"DNK\"],[\"DJI\"],[\"DMA\"],[\"DOM\"],[\"COD\"],[\"ECU\"],[\"EGY\"],[\"SLV\"],[\"GNQ\"],[\"ERI\"],[\"EST\"],[\"SWZ\"],[\"ETH\"],[\"FLK\"],[\"FRO\"],[\"FJI\"],[\"FIN\"],[\"FRA\"],[\"GUF\"],[\"PYF\"],[\"GAB\"],[\"GMB\"],[\"GEO\"],[\"DEU\"],[\"GHA\"],[\"GIB\"],[\"GRC\"],[\"GRL\"],[\"GRD\"],[\"GLP\"],[\"GUM\"],[\"GTM\"],[\"GGY\"],[\"GIN\"],[\"GNB\"],[\"GUY\"],[\"HTI\"],[\"HND\"],[\"HKG\"],[\"HUN\"],[\"ISL\"],[\"IND\"],[\"IDN\"],[\"IRN\"],[\"IRQ\"],[\"IRL\"],[\"IMN\"],[\"ISR\"],[\"ITA\"],[\"CIV\"],[\"JAM\"],[\"JPN\"],[\"JEY\"],[\"JOR\"],[\"KAZ\"],[\"KEN\"],[\"KIR\"],[\"KWT\"],[\"KGZ\"],[\"LAO\"],[\"LVA\"],[\"LBN\"],[\"LSO\"],[\"LBR\"],[\"LBY\"],[\"LIE\"],[\"LTU\"],[\"LUX\"],[\"MAC\"],[\"MDG\"],[\"MWI\"],[\"MYS\"],[\"MDV\"],[\"MLI\"],[\"MLT\"],[\"MHL\"],[\"MTQ\"],[\"MRT\"],[\"MUS\"],[\"MYT\"],[\"MEX\"],[\"FSM\"],[\"MDA\"],[\"MCO\"],[\"MNG\"],[\"MNE\"],[\"MSR\"],[\"MAR\"],[\"MOZ\"],[\"MMR\"],[\"NAM\"],[\"NRU\"],[\"NPL\"],[\"NLD\"],[\"NCL\"],[\"NZL\"],[\"NIC\"],[\"NER\"],[\"NGA\"],[\"NIU\"],[\"PRK\"],[\"MKD\"],[\"NFK\"],[\"NOR\"],[\"OMN\"],[\"PAK\"],[\"PLW\"],[\"PSE\"],[\"PAN\"],[\"PNG\"],[\"PRY\"],[\"PER\"],[\"PHL\"],[\"POL\"],[\"PRT\"],[\"PRI\"],[\"QAT\"],[\"COG\"],[\"REU\"],[\"ROU\"],[\"RUS\"],[\"RWA\"],[\"BLM\"],[\"KNA\"],[\"LCA\"],[\"MAF\"],[\"SPM\"],[\"VCT\"],[\"WSM\"],[\"SMR\"],[\"STP\"],[\"SAU\"],[\"SEN\"],[\"SRB\"],[\"SYC\"],[\"SLE\"],[\"SGP\"],[\"SXM\"],[\"SVK\"],[\"SVN\"],[\"SLB\"],[\"SOM\"],[\"ZAF\"],[\"KOR\"],[\"SSD\"],[\"ESP\"],[\"LKA\"],[\"SDN\"],[\"SUR\"],[\"SWE\"],[\"CHE\"],[\"SYR\"],[\"TWN\"],[\"TJK\"],[\"TZA\"],[\"THA\"],[\"TLS\"],[\"TGO\"],[\"TKL\"],[\"TON\"],[\"TTO\"],[\"TUN\"],[\"TUR\"],[\"TKM\"],[\"TCA\"],[\"TUV\"],[\"UGA\"],[\"UKR\"],[\"ARE\"],[\"GBR\"],[\"USA\"],[\"VIR\"],[\"URY\"],[\"UZB\"],[\"VUT\"],[\"VAT\"],[\"VEN\"],[\"VNM\"],[\"WLF\"],[\"ESH\"],[\"YEM\"],[\"ZMB\"],[\"ZWE\"]],\"geo\":\"geo\",\"hovertemplate\":\"<b>%{hovertext}</b><br><br>Year=2010<br>Population=%{z}<extra></extra>\",\"hovertext\":[\"Afghanistan\",\"Albania\",\"Algeria\",\"American Samoa\",\"Andorra\",\"Angola\",\"Anguilla\",\"Antigua and Barbuda\",\"Argentina\",\"Armenia\",\"Aruba\",\"Australia\",\"Austria\",\"Azerbaijan\",\"Bahamas\",\"Bahrain\",\"Bangladesh\",\"Barbados\",\"Belarus\",\"Belgium\",\"Belize\",\"Benin\",\"Bermuda\",\"Bhutan\",\"Bolivia\",\"Bosnia and Herzegovina\",\"Botswana\",\"Brazil\",\"British Virgin Islands\",\"Brunei\",\"Bulgaria\",\"Burkina Faso\",\"Burundi\",\"Cambodia\",\"Cameroon\",\"Canada\",\"Cape Verde\",\"Cayman Islands\",\"Central African Republic\",\"Chad\",\"Chile\",\"China\",\"Colombia\",\"Comoros\",\"Cook Islands\",\"Costa Rica\",\"Croatia\",\"Cuba\",\"Curacao\",\"Cyprus\",\"Czech Republic\",\"Denmark\",\"Djibouti\",\"Dominica\",\"Dominican Republic\",\"DR Congo\",\"Ecuador\",\"Egypt\",\"El Salvador\",\"Equatorial Guinea\",\"Eritrea\",\"Estonia\",\"Eswatini\",\"Ethiopia\",\"Falkland Islands\",\"Faroe Islands\",\"Fiji\",\"Finland\",\"France\",\"French Guiana\",\"French Polynesia\",\"Gabon\",\"Gambia\",\"Georgia\",\"Germany\",\"Ghana\",\"Gibraltar\",\"Greece\",\"Greenland\",\"Grenada\",\"Guadeloupe\",\"Guam\",\"Guatemala\",\"Guernsey\",\"Guinea\",\"Guinea-Bissau\",\"Guyana\",\"Haiti\",\"Honduras\",\"Hong Kong\",\"Hungary\",\"Iceland\",\"India\",\"Indonesia\",\"Iran\",\"Iraq\",\"Ireland\",\"Isle of Man\",\"Israel\",\"Italy\",\"Ivory Coast\",\"Jamaica\",\"Japan\",\"Jersey\",\"Jordan\",\"Kazakhstan\",\"Kenya\",\"Kiribati\",\"Kuwait\",\"Kyrgyzstan\",\"Laos\",\"Latvia\",\"Lebanon\",\"Lesotho\",\"Liberia\",\"Libya\",\"Liechtenstein\",\"Lithuania\",\"Luxembourg\",\"Macau\",\"Madagascar\",\"Malawi\",\"Malaysia\",\"Maldives\",\"Mali\",\"Malta\",\"Marshall Islands\",\"Martinique\",\"Mauritania\",\"Mauritius\",\"Mayotte\",\"Mexico\",\"Micronesia\",\"Moldova\",\"Monaco\",\"Mongolia\",\"Montenegro\",\"Montserrat\",\"Morocco\",\"Mozambique\",\"Myanmar\",\"Namibia\",\"Nauru\",\"Nepal\",\"Netherlands\",\"New Caledonia\",\"New Zealand\",\"Nicaragua\",\"Niger\",\"Nigeria\",\"Niue\",\"North Korea\",\"North Macedonia\",\"Northern Mariana Islands\",\"Norway\",\"Oman\",\"Pakistan\",\"Palau\",\"Palestine\",\"Panama\",\"Papua New Guinea\",\"Paraguay\",\"Peru\",\"Philippines\",\"Poland\",\"Portugal\",\"Puerto Rico\",\"Qatar\",\"Republic of the Congo\",\"Reunion\",\"Romania\",\"Russia\",\"Rwanda\",\"Saint Barthelemy\",\"Saint Kitts and Nevis\",\"Saint Lucia\",\"Saint Martin\",\"Saint Pierre and Miquelon\",\"Saint Vincent and the Grenadines\",\"Samoa\",\"San Marino\",\"Sao Tome and Principe\",\"Saudi Arabia\",\"Senegal\",\"Serbia\",\"Seychelles\",\"Sierra Leone\",\"Singapore\",\"Sint Maarten\",\"Slovakia\",\"Slovenia\",\"Solomon Islands\",\"Somalia\",\"South Africa\",\"South Korea\",\"South Sudan\",\"Spain\",\"Sri Lanka\",\"Sudan\",\"Suriname\",\"Sweden\",\"Switzerland\",\"Syria\",\"Taiwan\",\"Tajikistan\",\"Tanzania\",\"Thailand\",\"Timor-Leste\",\"Togo\",\"Tokelau\",\"Tonga\",\"Trinidad and Tobago\",\"Tunisia\",\"Turkey\",\"Turkmenistan\",\"Turks and Caicos Islands\",\"Tuvalu\",\"Uganda\",\"Ukraine\",\"United Arab Emirates\",\"United Kingdom\",\"United States\",\"United States Virgin Islands\",\"Uruguay\",\"Uzbekistan\",\"Vanuatu\",\"Vatican City\",\"Venezuela\",\"Vietnam\",\"Wallis and Futuna\",\"Western Sahara\",\"Yemen\",\"Zambia\",\"Zimbabwe\"],\"locationmode\":\"ISO-3\",\"locations\":[\"AFG\",\"ALB\",\"DZA\",\"ASM\",\"AND\",\"AGO\",\"AIA\",\"ATG\",\"ARG\",\"ARM\",\"ABW\",\"AUS\",\"AUT\",\"AZE\",\"BHS\",\"BHR\",\"BGD\",\"BRB\",\"BLR\",\"BEL\",\"BLZ\",\"BEN\",\"BMU\",\"BTN\",\"BOL\",\"BIH\",\"BWA\",\"BRA\",\"VGB\",\"BRN\",\"BGR\",\"BFA\",\"BDI\",\"KHM\",\"CMR\",\"CAN\",\"CPV\",\"CYM\",\"CAF\",\"TCD\",\"CHL\",\"CHN\",\"COL\",\"COM\",\"COK\",\"CRI\",\"HRV\",\"CUB\",\"CUW\",\"CYP\",\"CZE\",\"DNK\",\"DJI\",\"DMA\",\"DOM\",\"COD\",\"ECU\",\"EGY\",\"SLV\",\"GNQ\",\"ERI\",\"EST\",\"SWZ\",\"ETH\",\"FLK\",\"FRO\",\"FJI\",\"FIN\",\"FRA\",\"GUF\",\"PYF\",\"GAB\",\"GMB\",\"GEO\",\"DEU\",\"GHA\",\"GIB\",\"GRC\",\"GRL\",\"GRD\",\"GLP\",\"GUM\",\"GTM\",\"GGY\",\"GIN\",\"GNB\",\"GUY\",\"HTI\",\"HND\",\"HKG\",\"HUN\",\"ISL\",\"IND\",\"IDN\",\"IRN\",\"IRQ\",\"IRL\",\"IMN\",\"ISR\",\"ITA\",\"CIV\",\"JAM\",\"JPN\",\"JEY\",\"JOR\",\"KAZ\",\"KEN\",\"KIR\",\"KWT\",\"KGZ\",\"LAO\",\"LVA\",\"LBN\",\"LSO\",\"LBR\",\"LBY\",\"LIE\",\"LTU\",\"LUX\",\"MAC\",\"MDG\",\"MWI\",\"MYS\",\"MDV\",\"MLI\",\"MLT\",\"MHL\",\"MTQ\",\"MRT\",\"MUS\",\"MYT\",\"MEX\",\"FSM\",\"MDA\",\"MCO\",\"MNG\",\"MNE\",\"MSR\",\"MAR\",\"MOZ\",\"MMR\",\"NAM\",\"NRU\",\"NPL\",\"NLD\",\"NCL\",\"NZL\",\"NIC\",\"NER\",\"NGA\",\"NIU\",\"PRK\",\"MKD\",\"NFK\",\"NOR\",\"OMN\",\"PAK\",\"PLW\",\"PSE\",\"PAN\",\"PNG\",\"PRY\",\"PER\",\"PHL\",\"POL\",\"PRT\",\"PRI\",\"QAT\",\"COG\",\"REU\",\"ROU\",\"RUS\",\"RWA\",\"BLM\",\"KNA\",\"LCA\",\"MAF\",\"SPM\",\"VCT\",\"WSM\",\"SMR\",\"STP\",\"SAU\",\"SEN\",\"SRB\",\"SYC\",\"SLE\",\"SGP\",\"SXM\",\"SVK\",\"SVN\",\"SLB\",\"SOM\",\"ZAF\",\"KOR\",\"SSD\",\"ESP\",\"LKA\",\"SDN\",\"SUR\",\"SWE\",\"CHE\",\"SYR\",\"TWN\",\"TJK\",\"TZA\",\"THA\",\"TLS\",\"TGO\",\"TKL\",\"TON\",\"TTO\",\"TUN\",\"TUR\",\"TKM\",\"TCA\",\"TUV\",\"UGA\",\"UKR\",\"ARE\",\"GBR\",\"USA\",\"VIR\",\"URY\",\"UZB\",\"VUT\",\"VAT\",\"VEN\",\"VNM\",\"WLF\",\"ESH\",\"YEM\",\"ZMB\",\"ZWE\"],\"name\":\"\",\"z\":[28189672,2913399,35856344,54849,71519,23364185,13172,85695,41100123,2946293,100341,22019168,8362829,9237202,373272,1213645,148391139,274711,9731427,10877947,322106,9445710,63447,705516,10223270,3811088,2091664,196353492,27556,396053,7592273,16116845,9126605,14363532,19878036,33963412,521212,54074,4660067,11894727,17004162,1348191368,44816108,656024,17212,4622252,4368682,11290417,159380,1129686,10464749,5550849,919199,68755,9775755,66391257,14989585,87252413,6114034,1094524,3147727,1331535,1099920,89237791,3187,48410,905169,5363271,62444567,228453,283788,1711105,1937275,3836831,81325090,25574719,31262,11033783,56351,114039,403072,164905,14543121,60782,10270728,1567220,747932,9842880,8450933,7132438,9986825,318333,1240613620,244016173,75373855,31264875,4524585,83828,7328445,59822450,21120042,2733896,128105431,96151,6931258,16627837,41517895,107995,2943356,5483774,6323418,2101530,4995800,2022747,4019956,6491988,35926,3139019,507070,557297,21731053,14718422,28717731,361575,15529181,418755,53416,392181,3419461,1283330,211786,112532401,107588,3678186,33178,2702520,631044,4938,32464865,23073723,49390988,2099271,10241,27161567,16617116,261426,4346338,5855734,16647543,160952853,1812,24686435,2093828,54087,4889741,2881914,194454498,18540,3992278,3623617,7583269,5768613,29229572,94636700,38597353,10588401,3717922,1713504,4437884,890130,20335211,143242599,10309031,8988,47403,170935,36458,6052,109308,194672,31608,182138,29411929,12530121,7653748,92409,6436698,5163590,33034,5396424,2057286,540394,12026649,51784921,48813042,9714419,46572772,20668557,33739933,546080,9381729,7822435,22337563,23083083,7621779,45110527,68270489,1088486,6571855,1367,107383,1410296,10895063,73195345,5267970,29726,10550,32341728,45683020,8481771,62760039,311182845,106142,3352651,28614227,245453,596,28715022,87411012,13142,413296,24743946,13792086,12839771],\"type\":\"choropleth\"}],\"name\":\"2010\"},{\"data\":[{\"coloraxis\":\"coloraxis\",\"customdata\":[[\"AFG\"],[\"ALB\"],[\"DZA\"],[\"ASM\"],[\"AND\"],[\"AGO\"],[\"AIA\"],[\"ATG\"],[\"ARG\"],[\"ARM\"],[\"ABW\"],[\"AUS\"],[\"AUT\"],[\"AZE\"],[\"BHS\"],[\"BHR\"],[\"BGD\"],[\"BRB\"],[\"BLR\"],[\"BEL\"],[\"BLZ\"],[\"BEN\"],[\"BMU\"],[\"BTN\"],[\"BOL\"],[\"BIH\"],[\"BWA\"],[\"BRA\"],[\"VGB\"],[\"BRN\"],[\"BGR\"],[\"BFA\"],[\"BDI\"],[\"KHM\"],[\"CMR\"],[\"CAN\"],[\"CPV\"],[\"CYM\"],[\"CAF\"],[\"TCD\"],[\"CHL\"],[\"CHN\"],[\"COL\"],[\"COM\"],[\"COK\"],[\"CRI\"],[\"HRV\"],[\"CUB\"],[\"CUW\"],[\"CYP\"],[\"CZE\"],[\"DNK\"],[\"DJI\"],[\"DMA\"],[\"DOM\"],[\"COD\"],[\"ECU\"],[\"EGY\"],[\"SLV\"],[\"GNQ\"],[\"ERI\"],[\"EST\"],[\"SWZ\"],[\"ETH\"],[\"FLK\"],[\"FRO\"],[\"FJI\"],[\"FIN\"],[\"FRA\"],[\"GUF\"],[\"PYF\"],[\"GAB\"],[\"GMB\"],[\"GEO\"],[\"DEU\"],[\"GHA\"],[\"GIB\"],[\"GRC\"],[\"GRL\"],[\"GRD\"],[\"GLP\"],[\"GUM\"],[\"GTM\"],[\"GGY\"],[\"GIN\"],[\"GNB\"],[\"GUY\"],[\"HTI\"],[\"HND\"],[\"HKG\"],[\"HUN\"],[\"ISL\"],[\"IND\"],[\"IDN\"],[\"IRN\"],[\"IRQ\"],[\"IRL\"],[\"IMN\"],[\"ISR\"],[\"ITA\"],[\"CIV\"],[\"JAM\"],[\"JPN\"],[\"JEY\"],[\"JOR\"],[\"KAZ\"],[\"KEN\"],[\"KIR\"],[\"KWT\"],[\"KGZ\"],[\"LAO\"],[\"LVA\"],[\"LBN\"],[\"LSO\"],[\"LBR\"],[\"LBY\"],[\"LIE\"],[\"LTU\"],[\"LUX\"],[\"MAC\"],[\"MDG\"],[\"MWI\"],[\"MYS\"],[\"MDV\"],[\"MLI\"],[\"MLT\"],[\"MHL\"],[\"MTQ\"],[\"MRT\"],[\"MUS\"],[\"MYT\"],[\"MEX\"],[\"FSM\"],[\"MDA\"],[\"MCO\"],[\"MNG\"],[\"MNE\"],[\"MSR\"],[\"MAR\"],[\"MOZ\"],[\"MMR\"],[\"NAM\"],[\"NRU\"],[\"NPL\"],[\"NLD\"],[\"NCL\"],[\"NZL\"],[\"NIC\"],[\"NER\"],[\"NGA\"],[\"NIU\"],[\"PRK\"],[\"MKD\"],[\"NFK\"],[\"NOR\"],[\"OMN\"],[\"PAK\"],[\"PLW\"],[\"PSE\"],[\"PAN\"],[\"PNG\"],[\"PRY\"],[\"PER\"],[\"PHL\"],[\"POL\"],[\"PRT\"],[\"PRI\"],[\"QAT\"],[\"COG\"],[\"REU\"],[\"ROU\"],[\"RUS\"],[\"RWA\"],[\"BLM\"],[\"KNA\"],[\"LCA\"],[\"MAF\"],[\"SPM\"],[\"VCT\"],[\"WSM\"],[\"SMR\"],[\"STP\"],[\"SAU\"],[\"SEN\"],[\"SRB\"],[\"SYC\"],[\"SLE\"],[\"SGP\"],[\"SXM\"],[\"SVK\"],[\"SVN\"],[\"SLB\"],[\"SOM\"],[\"ZAF\"],[\"KOR\"],[\"SSD\"],[\"ESP\"],[\"LKA\"],[\"SDN\"],[\"SUR\"],[\"SWE\"],[\"CHE\"],[\"SYR\"],[\"TWN\"],[\"TJK\"],[\"TZA\"],[\"THA\"],[\"TLS\"],[\"TGO\"],[\"TKL\"],[\"TON\"],[\"TTO\"],[\"TUN\"],[\"TUR\"],[\"TKM\"],[\"TCA\"],[\"TUV\"],[\"UGA\"],[\"UKR\"],[\"ARE\"],[\"GBR\"],[\"USA\"],[\"VIR\"],[\"URY\"],[\"UZB\"],[\"VUT\"],[\"VAT\"],[\"VEN\"],[\"VNM\"],[\"WLF\"],[\"ESH\"],[\"YEM\"],[\"ZMB\"],[\"ZWE\"]],\"geo\":\"geo\",\"hovertemplate\":\"<b>%{hovertext}</b><br><br>Year=2015<br>Population=%{z}<extra></extra>\",\"hovertext\":[\"Afghanistan\",\"Albania\",\"Algeria\",\"American Samoa\",\"Andorra\",\"Angola\",\"Anguilla\",\"Antigua and Barbuda\",\"Argentina\",\"Armenia\",\"Aruba\",\"Australia\",\"Austria\",\"Azerbaijan\",\"Bahamas\",\"Bahrain\",\"Bangladesh\",\"Barbados\",\"Belarus\",\"Belgium\",\"Belize\",\"Benin\",\"Bermuda\",\"Bhutan\",\"Bolivia\",\"Bosnia and Herzegovina\",\"Botswana\",\"Brazil\",\"British Virgin Islands\",\"Brunei\",\"Bulgaria\",\"Burkina Faso\",\"Burundi\",\"Cambodia\",\"Cameroon\",\"Canada\",\"Cape Verde\",\"Cayman Islands\",\"Central African Republic\",\"Chad\",\"Chile\",\"China\",\"Colombia\",\"Comoros\",\"Cook Islands\",\"Costa Rica\",\"Croatia\",\"Cuba\",\"Curacao\",\"Cyprus\",\"Czech Republic\",\"Denmark\",\"Djibouti\",\"Dominica\",\"Dominican Republic\",\"DR Congo\",\"Ecuador\",\"Egypt\",\"El Salvador\",\"Equatorial Guinea\",\"Eritrea\",\"Estonia\",\"Eswatini\",\"Ethiopia\",\"Falkland Islands\",\"Faroe Islands\",\"Fiji\",\"Finland\",\"France\",\"French Guiana\",\"French Polynesia\",\"Gabon\",\"Gambia\",\"Georgia\",\"Germany\",\"Ghana\",\"Gibraltar\",\"Greece\",\"Greenland\",\"Grenada\",\"Guadeloupe\",\"Guam\",\"Guatemala\",\"Guernsey\",\"Guinea\",\"Guinea-Bissau\",\"Guyana\",\"Haiti\",\"Honduras\",\"Hong Kong\",\"Hungary\",\"Iceland\",\"India\",\"Indonesia\",\"Iran\",\"Iraq\",\"Ireland\",\"Isle of Man\",\"Israel\",\"Italy\",\"Ivory Coast\",\"Jamaica\",\"Japan\",\"Jersey\",\"Jordan\",\"Kazakhstan\",\"Kenya\",\"Kiribati\",\"Kuwait\",\"Kyrgyzstan\",\"Laos\",\"Latvia\",\"Lebanon\",\"Lesotho\",\"Liberia\",\"Libya\",\"Liechtenstein\",\"Lithuania\",\"Luxembourg\",\"Macau\",\"Madagascar\",\"Malawi\",\"Malaysia\",\"Maldives\",\"Mali\",\"Malta\",\"Marshall Islands\",\"Martinique\",\"Mauritania\",\"Mauritius\",\"Mayotte\",\"Mexico\",\"Micronesia\",\"Moldova\",\"Monaco\",\"Mongolia\",\"Montenegro\",\"Montserrat\",\"Morocco\",\"Mozambique\",\"Myanmar\",\"Namibia\",\"Nauru\",\"Nepal\",\"Netherlands\",\"New Caledonia\",\"New Zealand\",\"Nicaragua\",\"Niger\",\"Nigeria\",\"Niue\",\"North Korea\",\"North Macedonia\",\"Northern Mariana Islands\",\"Norway\",\"Oman\",\"Pakistan\",\"Palau\",\"Palestine\",\"Panama\",\"Papua New Guinea\",\"Paraguay\",\"Peru\",\"Philippines\",\"Poland\",\"Portugal\",\"Puerto Rico\",\"Qatar\",\"Republic of the Congo\",\"Reunion\",\"Romania\",\"Russia\",\"Rwanda\",\"Saint Barthelemy\",\"Saint Kitts and Nevis\",\"Saint Lucia\",\"Saint Martin\",\"Saint Pierre and Miquelon\",\"Saint Vincent and the Grenadines\",\"Samoa\",\"San Marino\",\"Sao Tome and Principe\",\"Saudi Arabia\",\"Senegal\",\"Serbia\",\"Seychelles\",\"Sierra Leone\",\"Singapore\",\"Sint Maarten\",\"Slovakia\",\"Slovenia\",\"Solomon Islands\",\"Somalia\",\"South Africa\",\"South Korea\",\"South Sudan\",\"Spain\",\"Sri Lanka\",\"Sudan\",\"Suriname\",\"Sweden\",\"Switzerland\",\"Syria\",\"Taiwan\",\"Tajikistan\",\"Tanzania\",\"Thailand\",\"Timor-Leste\",\"Togo\",\"Tokelau\",\"Tonga\",\"Trinidad and Tobago\",\"Tunisia\",\"Turkey\",\"Turkmenistan\",\"Turks and Caicos Islands\",\"Tuvalu\",\"Uganda\",\"Ukraine\",\"United Arab Emirates\",\"United Kingdom\",\"United States\",\"United States Virgin Islands\",\"Uruguay\",\"Uzbekistan\",\"Vanuatu\",\"Vatican City\",\"Venezuela\",\"Vietnam\",\"Wallis and Futuna\",\"Western Sahara\",\"Yemen\",\"Zambia\",\"Zimbabwe\"],\"locationmode\":\"ISO-3\",\"locations\":[\"AFG\",\"ALB\",\"DZA\",\"ASM\",\"AND\",\"AGO\",\"AIA\",\"ATG\",\"ARG\",\"ARM\",\"ABW\",\"AUS\",\"AUT\",\"AZE\",\"BHS\",\"BHR\",\"BGD\",\"BRB\",\"BLR\",\"BEL\",\"BLZ\",\"BEN\",\"BMU\",\"BTN\",\"BOL\",\"BIH\",\"BWA\",\"BRA\",\"VGB\",\"BRN\",\"BGR\",\"BFA\",\"BDI\",\"KHM\",\"CMR\",\"CAN\",\"CPV\",\"CYM\",\"CAF\",\"TCD\",\"CHL\",\"CHN\",\"COL\",\"COM\",\"COK\",\"CRI\",\"HRV\",\"CUB\",\"CUW\",\"CYP\",\"CZE\",\"DNK\",\"DJI\",\"DMA\",\"DOM\",\"COD\",\"ECU\",\"EGY\",\"SLV\",\"GNQ\",\"ERI\",\"EST\",\"SWZ\",\"ETH\",\"FLK\",\"FRO\",\"FJI\",\"FIN\",\"FRA\",\"GUF\",\"PYF\",\"GAB\",\"GMB\",\"GEO\",\"DEU\",\"GHA\",\"GIB\",\"GRC\",\"GRL\",\"GRD\",\"GLP\",\"GUM\",\"GTM\",\"GGY\",\"GIN\",\"GNB\",\"GUY\",\"HTI\",\"HND\",\"HKG\",\"HUN\",\"ISL\",\"IND\",\"IDN\",\"IRN\",\"IRQ\",\"IRL\",\"IMN\",\"ISR\",\"ITA\",\"CIV\",\"JAM\",\"JPN\",\"JEY\",\"JOR\",\"KAZ\",\"KEN\",\"KIR\",\"KWT\",\"KGZ\",\"LAO\",\"LVA\",\"LBN\",\"LSO\",\"LBR\",\"LBY\",\"LIE\",\"LTU\",\"LUX\",\"MAC\",\"MDG\",\"MWI\",\"MYS\",\"MDV\",\"MLI\",\"MLT\",\"MHL\",\"MTQ\",\"MRT\",\"MUS\",\"MYT\",\"MEX\",\"FSM\",\"MDA\",\"MCO\",\"MNG\",\"MNE\",\"MSR\",\"MAR\",\"MOZ\",\"MMR\",\"NAM\",\"NRU\",\"NPL\",\"NLD\",\"NCL\",\"NZL\",\"NIC\",\"NER\",\"NGA\",\"NIU\",\"PRK\",\"MKD\",\"NFK\",\"NOR\",\"OMN\",\"PAK\",\"PLW\",\"PSE\",\"PAN\",\"PNG\",\"PRY\",\"PER\",\"PHL\",\"POL\",\"PRT\",\"PRI\",\"QAT\",\"COG\",\"REU\",\"ROU\",\"RUS\",\"RWA\",\"BLM\",\"KNA\",\"LCA\",\"MAF\",\"SPM\",\"VCT\",\"WSM\",\"SMR\",\"STP\",\"SAU\",\"SEN\",\"SRB\",\"SYC\",\"SLE\",\"SGP\",\"SXM\",\"SVK\",\"SVN\",\"SLB\",\"SOM\",\"ZAF\",\"KOR\",\"SSD\",\"ESP\",\"LKA\",\"SDN\",\"SUR\",\"SWE\",\"CHE\",\"SYR\",\"TWN\",\"TJK\",\"TZA\",\"THA\",\"TLS\",\"TGO\",\"TKL\",\"TON\",\"TTO\",\"TUN\",\"TUR\",\"TKM\",\"TCA\",\"TUV\",\"UGA\",\"UKR\",\"ARE\",\"GBR\",\"USA\",\"VIR\",\"URY\",\"UZB\",\"VUT\",\"VAT\",\"VEN\",\"VNM\",\"WLF\",\"ESH\",\"YEM\",\"ZMB\",\"ZWE\"],\"name\":\"\",\"z\":[33753499,2882481,39543154,51368,71746,28127721,14525,89941,43257065,2878595,104257,23820236,8642421,9863480,392697,1362142,157830000,278083,9700609,11248303,359871,10932783,63144,743274,11090085,3524324,2305171,205188205,29366,421437,7309253,18718019,10727148,15417523,23012646,35732126,552166,60911,4819333,14140274,17870124,1393715448,47119728,730216,17695,4895242,4254815,11339894,169572,1187280,10523798,5677796,1006259,70007,10405832,78656904,16195902,97723799,6231066,1346973,3340006,1314657,1133936,102471895,3408,48816,917200,5479461,63809769,257026,291787,2028517,2253133,3771132,82073226,28870939,32520,10806641,55895,118980,399089,167978,16001107,61629,11625998,1788919,755031,10563757,9294505,7399838,9844246,331060,1322866505,259091970,81790841,37757813,4665760,83593,8007778,60232906,23596741,2794445,127250933,100561,9494246,17835909,46851488,116707,3908743,5914980,6787419,1991955,6398940,2118521,4612329,6192235,37355,2963765,569408,615239,24850912,16938942,31068833,435582,18112907,456579,49410,383515,3946220,1293153,249545,120149897,109462,3277388,36760,2964749,633966,5059,34680458,26843246,51483949,2282704,11185,27610325,17041107,283032,4590590,6298598,20128124,183995785,1847,25258015,2107962,51514,5190356,4191776,210969298,17794,4484614,3957099,8682174,6177950,30711863,103031365,38553146,10365435,3497335,2414573,5064386,922495,19906079,144668389,11642959,9643,47790,175623,35020,5978,106482,203571,33570,201124,32749848,14356181,7519496,99240,7314773,5650018,40205,5424444,2080862,612660,13763906,55876504,50994401,11194299,46431342,21336697,38171178,575475,9849349,8281732,19205178,23512136,8524063,52542823,70294397,1205813,7473229,1454,106122,1460177,11557779,79646178,5766431,36538,10877,37477356,44982564,8916899,65224364,324607776,102803,3402818,30949417,276438,564,30529716,92191398,12182,491824,28516545,16248230,14154937],\"type\":\"choropleth\"}],\"name\":\"2015\"},{\"data\":[{\"coloraxis\":\"coloraxis\",\"customdata\":[[\"AFG\"],[\"ALB\"],[\"DZA\"],[\"ASM\"],[\"AND\"],[\"AGO\"],[\"AIA\"],[\"ATG\"],[\"ARG\"],[\"ARM\"],[\"ABW\"],[\"AUS\"],[\"AUT\"],[\"AZE\"],[\"BHS\"],[\"BHR\"],[\"BGD\"],[\"BRB\"],[\"BLR\"],[\"BEL\"],[\"BLZ\"],[\"BEN\"],[\"BMU\"],[\"BTN\"],[\"BOL\"],[\"BIH\"],[\"BWA\"],[\"BRA\"],[\"VGB\"],[\"BRN\"],[\"BGR\"],[\"BFA\"],[\"BDI\"],[\"KHM\"],[\"CMR\"],[\"CAN\"],[\"CPV\"],[\"CYM\"],[\"CAF\"],[\"TCD\"],[\"CHL\"],[\"CHN\"],[\"COL\"],[\"COM\"],[\"COK\"],[\"CRI\"],[\"HRV\"],[\"CUB\"],[\"CUW\"],[\"CYP\"],[\"CZE\"],[\"DNK\"],[\"DJI\"],[\"DMA\"],[\"DOM\"],[\"COD\"],[\"ECU\"],[\"EGY\"],[\"SLV\"],[\"GNQ\"],[\"ERI\"],[\"EST\"],[\"SWZ\"],[\"ETH\"],[\"FLK\"],[\"FRO\"],[\"FJI\"],[\"FIN\"],[\"FRA\"],[\"GUF\"],[\"PYF\"],[\"GAB\"],[\"GMB\"],[\"GEO\"],[\"DEU\"],[\"GHA\"],[\"GIB\"],[\"GRC\"],[\"GRL\"],[\"GRD\"],[\"GLP\"],[\"GUM\"],[\"GTM\"],[\"GGY\"],[\"GIN\"],[\"GNB\"],[\"GUY\"],[\"HTI\"],[\"HND\"],[\"HKG\"],[\"HUN\"],[\"ISL\"],[\"IND\"],[\"IDN\"],[\"IRN\"],[\"IRQ\"],[\"IRL\"],[\"IMN\"],[\"ISR\"],[\"ITA\"],[\"CIV\"],[\"JAM\"],[\"JPN\"],[\"JEY\"],[\"JOR\"],[\"KAZ\"],[\"KEN\"],[\"KIR\"],[\"KWT\"],[\"KGZ\"],[\"LAO\"],[\"LVA\"],[\"LBN\"],[\"LSO\"],[\"LBR\"],[\"LBY\"],[\"LIE\"],[\"LTU\"],[\"LUX\"],[\"MAC\"],[\"MDG\"],[\"MWI\"],[\"MYS\"],[\"MDV\"],[\"MLI\"],[\"MLT\"],[\"MHL\"],[\"MTQ\"],[\"MRT\"],[\"MUS\"],[\"MYT\"],[\"MEX\"],[\"FSM\"],[\"MDA\"],[\"MCO\"],[\"MNG\"],[\"MNE\"],[\"MSR\"],[\"MAR\"],[\"MOZ\"],[\"MMR\"],[\"NAM\"],[\"NRU\"],[\"NPL\"],[\"NLD\"],[\"NCL\"],[\"NZL\"],[\"NIC\"],[\"NER\"],[\"NGA\"],[\"NIU\"],[\"PRK\"],[\"MKD\"],[\"NFK\"],[\"NOR\"],[\"OMN\"],[\"PAK\"],[\"PLW\"],[\"PSE\"],[\"PAN\"],[\"PNG\"],[\"PRY\"],[\"PER\"],[\"PHL\"],[\"POL\"],[\"PRT\"],[\"PRI\"],[\"QAT\"],[\"COG\"],[\"REU\"],[\"ROU\"],[\"RUS\"],[\"RWA\"],[\"BLM\"],[\"KNA\"],[\"LCA\"],[\"MAF\"],[\"SPM\"],[\"VCT\"],[\"WSM\"],[\"SMR\"],[\"STP\"],[\"SAU\"],[\"SEN\"],[\"SRB\"],[\"SYC\"],[\"SLE\"],[\"SGP\"],[\"SXM\"],[\"SVK\"],[\"SVN\"],[\"SLB\"],[\"SOM\"],[\"ZAF\"],[\"KOR\"],[\"SSD\"],[\"ESP\"],[\"LKA\"],[\"SDN\"],[\"SUR\"],[\"SWE\"],[\"CHE\"],[\"SYR\"],[\"TWN\"],[\"TJK\"],[\"TZA\"],[\"THA\"],[\"TLS\"],[\"TGO\"],[\"TKL\"],[\"TON\"],[\"TTO\"],[\"TUN\"],[\"TUR\"],[\"TKM\"],[\"TCA\"],[\"TUV\"],[\"UGA\"],[\"UKR\"],[\"ARE\"],[\"GBR\"],[\"USA\"],[\"VIR\"],[\"URY\"],[\"UZB\"],[\"VUT\"],[\"VAT\"],[\"VEN\"],[\"VNM\"],[\"WLF\"],[\"ESH\"],[\"YEM\"],[\"ZMB\"],[\"ZWE\"]],\"geo\":\"geo\",\"hovertemplate\":\"<b>%{hovertext}</b><br><br>Year=2020<br>Population=%{z}<extra></extra>\",\"hovertext\":[\"Afghanistan\",\"Albania\",\"Algeria\",\"American Samoa\",\"Andorra\",\"Angola\",\"Anguilla\",\"Antigua and Barbuda\",\"Argentina\",\"Armenia\",\"Aruba\",\"Australia\",\"Austria\",\"Azerbaijan\",\"Bahamas\",\"Bahrain\",\"Bangladesh\",\"Barbados\",\"Belarus\",\"Belgium\",\"Belize\",\"Benin\",\"Bermuda\",\"Bhutan\",\"Bolivia\",\"Bosnia and Herzegovina\",\"Botswana\",\"Brazil\",\"British Virgin Islands\",\"Brunei\",\"Bulgaria\",\"Burkina Faso\",\"Burundi\",\"Cambodia\",\"Cameroon\",\"Canada\",\"Cape Verde\",\"Cayman Islands\",\"Central African Republic\",\"Chad\",\"Chile\",\"China\",\"Colombia\",\"Comoros\",\"Cook Islands\",\"Costa Rica\",\"Croatia\",\"Cuba\",\"Curacao\",\"Cyprus\",\"Czech Republic\",\"Denmark\",\"Djibouti\",\"Dominica\",\"Dominican Republic\",\"DR Congo\",\"Ecuador\",\"Egypt\",\"El Salvador\",\"Equatorial Guinea\",\"Eritrea\",\"Estonia\",\"Eswatini\",\"Ethiopia\",\"Falkland Islands\",\"Faroe Islands\",\"Fiji\",\"Finland\",\"France\",\"French Guiana\",\"French Polynesia\",\"Gabon\",\"Gambia\",\"Georgia\",\"Germany\",\"Ghana\",\"Gibraltar\",\"Greece\",\"Greenland\",\"Grenada\",\"Guadeloupe\",\"Guam\",\"Guatemala\",\"Guernsey\",\"Guinea\",\"Guinea-Bissau\",\"Guyana\",\"Haiti\",\"Honduras\",\"Hong Kong\",\"Hungary\",\"Iceland\",\"India\",\"Indonesia\",\"Iran\",\"Iraq\",\"Ireland\",\"Isle of Man\",\"Israel\",\"Italy\",\"Ivory Coast\",\"Jamaica\",\"Japan\",\"Jersey\",\"Jordan\",\"Kazakhstan\",\"Kenya\",\"Kiribati\",\"Kuwait\",\"Kyrgyzstan\",\"Laos\",\"Latvia\",\"Lebanon\",\"Lesotho\",\"Liberia\",\"Libya\",\"Liechtenstein\",\"Lithuania\",\"Luxembourg\",\"Macau\",\"Madagascar\",\"Malawi\",\"Malaysia\",\"Maldives\",\"Mali\",\"Malta\",\"Marshall Islands\",\"Martinique\",\"Mauritania\",\"Mauritius\",\"Mayotte\",\"Mexico\",\"Micronesia\",\"Moldova\",\"Monaco\",\"Mongolia\",\"Montenegro\",\"Montserrat\",\"Morocco\",\"Mozambique\",\"Myanmar\",\"Namibia\",\"Nauru\",\"Nepal\",\"Netherlands\",\"New Caledonia\",\"New Zealand\",\"Nicaragua\",\"Niger\",\"Nigeria\",\"Niue\",\"North Korea\",\"North Macedonia\",\"Northern Mariana Islands\",\"Norway\",\"Oman\",\"Pakistan\",\"Palau\",\"Palestine\",\"Panama\",\"Papua New Guinea\",\"Paraguay\",\"Peru\",\"Philippines\",\"Poland\",\"Portugal\",\"Puerto Rico\",\"Qatar\",\"Republic of the Congo\",\"Reunion\",\"Romania\",\"Russia\",\"Rwanda\",\"Saint Barthelemy\",\"Saint Kitts and Nevis\",\"Saint Lucia\",\"Saint Martin\",\"Saint Pierre and Miquelon\",\"Saint Vincent and the Grenadines\",\"Samoa\",\"San Marino\",\"Sao Tome and Principe\",\"Saudi Arabia\",\"Senegal\",\"Serbia\",\"Seychelles\",\"Sierra Leone\",\"Singapore\",\"Sint Maarten\",\"Slovakia\",\"Slovenia\",\"Solomon Islands\",\"Somalia\",\"South Africa\",\"South Korea\",\"South Sudan\",\"Spain\",\"Sri Lanka\",\"Sudan\",\"Suriname\",\"Sweden\",\"Switzerland\",\"Syria\",\"Taiwan\",\"Tajikistan\",\"Tanzania\",\"Thailand\",\"Timor-Leste\",\"Togo\",\"Tokelau\",\"Tonga\",\"Trinidad and Tobago\",\"Tunisia\",\"Turkey\",\"Turkmenistan\",\"Turks and Caicos Islands\",\"Tuvalu\",\"Uganda\",\"Ukraine\",\"United Arab Emirates\",\"United Kingdom\",\"United States\",\"United States Virgin Islands\",\"Uruguay\",\"Uzbekistan\",\"Vanuatu\",\"Vatican City\",\"Venezuela\",\"Vietnam\",\"Wallis and Futuna\",\"Western Sahara\",\"Yemen\",\"Zambia\",\"Zimbabwe\"],\"locationmode\":\"ISO-3\",\"locations\":[\"AFG\",\"ALB\",\"DZA\",\"ASM\",\"AND\",\"AGO\",\"AIA\",\"ATG\",\"ARG\",\"ARM\",\"ABW\",\"AUS\",\"AUT\",\"AZE\",\"BHS\",\"BHR\",\"BGD\",\"BRB\",\"BLR\",\"BEL\",\"BLZ\",\"BEN\",\"BMU\",\"BTN\",\"BOL\",\"BIH\",\"BWA\",\"BRA\",\"VGB\",\"BRN\",\"BGR\",\"BFA\",\"BDI\",\"KHM\",\"CMR\",\"CAN\",\"CPV\",\"CYM\",\"CAF\",\"TCD\",\"CHL\",\"CHN\",\"COL\",\"COM\",\"COK\",\"CRI\",\"HRV\",\"CUB\",\"CUW\",\"CYP\",\"CZE\",\"DNK\",\"DJI\",\"DMA\",\"DOM\",\"COD\",\"ECU\",\"EGY\",\"SLV\",\"GNQ\",\"ERI\",\"EST\",\"SWZ\",\"ETH\",\"FLK\",\"FRO\",\"FJI\",\"FIN\",\"FRA\",\"GUF\",\"PYF\",\"GAB\",\"GMB\",\"GEO\",\"DEU\",\"GHA\",\"GIB\",\"GRC\",\"GRL\",\"GRD\",\"GLP\",\"GUM\",\"GTM\",\"GGY\",\"GIN\",\"GNB\",\"GUY\",\"HTI\",\"HND\",\"HKG\",\"HUN\",\"ISL\",\"IND\",\"IDN\",\"IRN\",\"IRQ\",\"IRL\",\"IMN\",\"ISR\",\"ITA\",\"CIV\",\"JAM\",\"JPN\",\"JEY\",\"JOR\",\"KAZ\",\"KEN\",\"KIR\",\"KWT\",\"KGZ\",\"LAO\",\"LVA\",\"LBN\",\"LSO\",\"LBR\",\"LBY\",\"LIE\",\"LTU\",\"LUX\",\"MAC\",\"MDG\",\"MWI\",\"MYS\",\"MDV\",\"MLI\",\"MLT\",\"MHL\",\"MTQ\",\"MRT\",\"MUS\",\"MYT\",\"MEX\",\"FSM\",\"MDA\",\"MCO\",\"MNG\",\"MNE\",\"MSR\",\"MAR\",\"MOZ\",\"MMR\",\"NAM\",\"NRU\",\"NPL\",\"NLD\",\"NCL\",\"NZL\",\"NIC\",\"NER\",\"NGA\",\"NIU\",\"PRK\",\"MKD\",\"NFK\",\"NOR\",\"OMN\",\"PAK\",\"PLW\",\"PSE\",\"PAN\",\"PNG\",\"PRY\",\"PER\",\"PHL\",\"POL\",\"PRT\",\"PRI\",\"QAT\",\"COG\",\"REU\",\"ROU\",\"RUS\",\"RWA\",\"BLM\",\"KNA\",\"LCA\",\"MAF\",\"SPM\",\"VCT\",\"WSM\",\"SMR\",\"STP\",\"SAU\",\"SEN\",\"SRB\",\"SYC\",\"SLE\",\"SGP\",\"SXM\",\"SVK\",\"SVN\",\"SLB\",\"SOM\",\"ZAF\",\"KOR\",\"SSD\",\"ESP\",\"LKA\",\"SDN\",\"SUR\",\"SWE\",\"CHE\",\"SYR\",\"TWN\",\"TJK\",\"TZA\",\"THA\",\"TLS\",\"TGO\",\"TKL\",\"TON\",\"TTO\",\"TUN\",\"TUR\",\"TKM\",\"TCA\",\"TUV\",\"UGA\",\"UKR\",\"ARE\",\"GBR\",\"USA\",\"VIR\",\"URY\",\"UZB\",\"VUT\",\"VAT\",\"VEN\",\"VNM\",\"WLF\",\"ESH\",\"YEM\",\"ZMB\",\"ZWE\"],\"name\":\"\",\"z\":[38972230,2866849,43451666,46189,77700,33428485,15585,92664,45036032,2805608,106585,25670051,8907777,10284951,406471,1477469,167420951,280693,9633740,11561717,394921,12643123,64031,772506,11936162,3318407,2546402,213196304,30910,441725,6979175,21522626,12220227,16396860,26491087,37888705,582640,67311,5343020,16644701,19300315,1424929781,50930662,806166,17029,5123105,4096868,11300698,189288,1237537,10530953,5825641,1090156,71995,10999664,92853164,17588595,107465134,6292731,1596049,3555868,1329444,1180655,117190911,3747,52415,920422,5529468,64480053,290969,301920,2292573,2573995,3765912,83328988,32180401,32709,10512232,56026,123663,395642,169231,17362718,62794,13205153,2015828,797202,11306801,10121763,7500958,9750573,366669,1396387127,271857970,87290193,42556984,4946119,84046,8757489,59500579,26811790,2820436,125244761,108319,10928721,18979243,51985780,126463,4360444,6424874,7319399,1897052,5662923,2254100,5087584,6653942,38756,2820267,630399,676283,28225177,19377061,33199993,514438,21224040,515357,43413,370391,4498604,1297828,305587,125998302,112106,3084847,36922,3294335,629048,4500,36688772,31178239,53423198,2489098,12315,29348627,17434557,286403,5061133,6755895,24333639,208327405,1942,25867467,2111072,49587,5379839,4543399,227196741,17972,5019401,4294396,9749640,6618695,33304756,112190977,38428366,10298192,3271564,2760385,5702174,957822,19442038,145617329,13146362,10681,47642,179237,32552,5906,104632,214929,34007,218641,35997107,16436119,7358005,105530,8233969,5909869,43621,5456681,2117641,691191,16537016,58801927,51844690,10606227,47363807,21715079,44440486,607065,10368969,8638613,20772595,23821464,9543207,61704518,71475664,1299995,8442580,1827,105254,1518147,12161723,84135428,6250438,44276,11069,44404611,43909666,9287289,67059474,335942003,100442,3429086,33526656,311685,520,28490453,96648685,11655,556048,32284046,18927715,15669666],\"type\":\"choropleth\"}],\"name\":\"2020\"},{\"data\":[{\"coloraxis\":\"coloraxis\",\"customdata\":[[\"AFG\"],[\"ALB\"],[\"DZA\"],[\"ASM\"],[\"AND\"],[\"AGO\"],[\"AIA\"],[\"ATG\"],[\"ARG\"],[\"ARM\"],[\"ABW\"],[\"AUS\"],[\"AUT\"],[\"AZE\"],[\"BHS\"],[\"BHR\"],[\"BGD\"],[\"BRB\"],[\"BLR\"],[\"BEL\"],[\"BLZ\"],[\"BEN\"],[\"BMU\"],[\"BTN\"],[\"BOL\"],[\"BIH\"],[\"BWA\"],[\"BRA\"],[\"VGB\"],[\"BRN\"],[\"BGR\"],[\"BFA\"],[\"BDI\"],[\"KHM\"],[\"CMR\"],[\"CAN\"],[\"CPV\"],[\"CYM\"],[\"CAF\"],[\"TCD\"],[\"CHL\"],[\"CHN\"],[\"COL\"],[\"COM\"],[\"COK\"],[\"CRI\"],[\"HRV\"],[\"CUB\"],[\"CUW\"],[\"CYP\"],[\"CZE\"],[\"DNK\"],[\"DJI\"],[\"DMA\"],[\"DOM\"],[\"COD\"],[\"ECU\"],[\"EGY\"],[\"SLV\"],[\"GNQ\"],[\"ERI\"],[\"EST\"],[\"SWZ\"],[\"ETH\"],[\"FLK\"],[\"FRO\"],[\"FJI\"],[\"FIN\"],[\"FRA\"],[\"GUF\"],[\"PYF\"],[\"GAB\"],[\"GMB\"],[\"GEO\"],[\"DEU\"],[\"GHA\"],[\"GIB\"],[\"GRC\"],[\"GRL\"],[\"GRD\"],[\"GLP\"],[\"GUM\"],[\"GTM\"],[\"GGY\"],[\"GIN\"],[\"GNB\"],[\"GUY\"],[\"HTI\"],[\"HND\"],[\"HKG\"],[\"HUN\"],[\"ISL\"],[\"IND\"],[\"IDN\"],[\"IRN\"],[\"IRQ\"],[\"IRL\"],[\"IMN\"],[\"ISR\"],[\"ITA\"],[\"CIV\"],[\"JAM\"],[\"JPN\"],[\"JEY\"],[\"JOR\"],[\"KAZ\"],[\"KEN\"],[\"KIR\"],[\"KWT\"],[\"KGZ\"],[\"LAO\"],[\"LVA\"],[\"LBN\"],[\"LSO\"],[\"LBR\"],[\"LBY\"],[\"LIE\"],[\"LTU\"],[\"LUX\"],[\"MAC\"],[\"MDG\"],[\"MWI\"],[\"MYS\"],[\"MDV\"],[\"MLI\"],[\"MLT\"],[\"MHL\"],[\"MTQ\"],[\"MRT\"],[\"MUS\"],[\"MYT\"],[\"MEX\"],[\"FSM\"],[\"MDA\"],[\"MCO\"],[\"MNG\"],[\"MNE\"],[\"MSR\"],[\"MAR\"],[\"MOZ\"],[\"MMR\"],[\"NAM\"],[\"NRU\"],[\"NPL\"],[\"NLD\"],[\"NCL\"],[\"NZL\"],[\"NIC\"],[\"NER\"],[\"NGA\"],[\"NIU\"],[\"PRK\"],[\"MKD\"],[\"NFK\"],[\"NOR\"],[\"OMN\"],[\"PAK\"],[\"PLW\"],[\"PSE\"],[\"PAN\"],[\"PNG\"],[\"PRY\"],[\"PER\"],[\"PHL\"],[\"POL\"],[\"PRT\"],[\"PRI\"],[\"QAT\"],[\"COG\"],[\"REU\"],[\"ROU\"],[\"RUS\"],[\"RWA\"],[\"BLM\"],[\"KNA\"],[\"LCA\"],[\"MAF\"],[\"SPM\"],[\"VCT\"],[\"WSM\"],[\"SMR\"],[\"STP\"],[\"SAU\"],[\"SEN\"],[\"SRB\"],[\"SYC\"],[\"SLE\"],[\"SGP\"],[\"SXM\"],[\"SVK\"],[\"SVN\"],[\"SLB\"],[\"SOM\"],[\"ZAF\"],[\"KOR\"],[\"SSD\"],[\"ESP\"],[\"LKA\"],[\"SDN\"],[\"SUR\"],[\"SWE\"],[\"CHE\"],[\"SYR\"],[\"TWN\"],[\"TJK\"],[\"TZA\"],[\"THA\"],[\"TLS\"],[\"TGO\"],[\"TKL\"],[\"TON\"],[\"TTO\"],[\"TUN\"],[\"TUR\"],[\"TKM\"],[\"TCA\"],[\"TUV\"],[\"UGA\"],[\"UKR\"],[\"ARE\"],[\"GBR\"],[\"USA\"],[\"VIR\"],[\"URY\"],[\"UZB\"],[\"VUT\"],[\"VAT\"],[\"VEN\"],[\"VNM\"],[\"WLF\"],[\"ESH\"],[\"YEM\"],[\"ZMB\"],[\"ZWE\"]],\"geo\":\"geo\",\"hovertemplate\":\"<b>%{hovertext}</b><br><br>Year=2022<br>Population=%{z}<extra></extra>\",\"hovertext\":[\"Afghanistan\",\"Albania\",\"Algeria\",\"American Samoa\",\"Andorra\",\"Angola\",\"Anguilla\",\"Antigua and Barbuda\",\"Argentina\",\"Armenia\",\"Aruba\",\"Australia\",\"Austria\",\"Azerbaijan\",\"Bahamas\",\"Bahrain\",\"Bangladesh\",\"Barbados\",\"Belarus\",\"Belgium\",\"Belize\",\"Benin\",\"Bermuda\",\"Bhutan\",\"Bolivia\",\"Bosnia and Herzegovina\",\"Botswana\",\"Brazil\",\"British Virgin Islands\",\"Brunei\",\"Bulgaria\",\"Burkina Faso\",\"Burundi\",\"Cambodia\",\"Cameroon\",\"Canada\",\"Cape Verde\",\"Cayman Islands\",\"Central African Republic\",\"Chad\",\"Chile\",\"China\",\"Colombia\",\"Comoros\",\"Cook Islands\",\"Costa Rica\",\"Croatia\",\"Cuba\",\"Curacao\",\"Cyprus\",\"Czech Republic\",\"Denmark\",\"Djibouti\",\"Dominica\",\"Dominican Republic\",\"DR Congo\",\"Ecuador\",\"Egypt\",\"El Salvador\",\"Equatorial Guinea\",\"Eritrea\",\"Estonia\",\"Eswatini\",\"Ethiopia\",\"Falkland Islands\",\"Faroe Islands\",\"Fiji\",\"Finland\",\"France\",\"French Guiana\",\"French Polynesia\",\"Gabon\",\"Gambia\",\"Georgia\",\"Germany\",\"Ghana\",\"Gibraltar\",\"Greece\",\"Greenland\",\"Grenada\",\"Guadeloupe\",\"Guam\",\"Guatemala\",\"Guernsey\",\"Guinea\",\"Guinea-Bissau\",\"Guyana\",\"Haiti\",\"Honduras\",\"Hong Kong\",\"Hungary\",\"Iceland\",\"India\",\"Indonesia\",\"Iran\",\"Iraq\",\"Ireland\",\"Isle of Man\",\"Israel\",\"Italy\",\"Ivory Coast\",\"Jamaica\",\"Japan\",\"Jersey\",\"Jordan\",\"Kazakhstan\",\"Kenya\",\"Kiribati\",\"Kuwait\",\"Kyrgyzstan\",\"Laos\",\"Latvia\",\"Lebanon\",\"Lesotho\",\"Liberia\",\"Libya\",\"Liechtenstein\",\"Lithuania\",\"Luxembourg\",\"Macau\",\"Madagascar\",\"Malawi\",\"Malaysia\",\"Maldives\",\"Mali\",\"Malta\",\"Marshall Islands\",\"Martinique\",\"Mauritania\",\"Mauritius\",\"Mayotte\",\"Mexico\",\"Micronesia\",\"Moldova\",\"Monaco\",\"Mongolia\",\"Montenegro\",\"Montserrat\",\"Morocco\",\"Mozambique\",\"Myanmar\",\"Namibia\",\"Nauru\",\"Nepal\",\"Netherlands\",\"New Caledonia\",\"New Zealand\",\"Nicaragua\",\"Niger\",\"Nigeria\",\"Niue\",\"North Korea\",\"North Macedonia\",\"Northern Mariana Islands\",\"Norway\",\"Oman\",\"Pakistan\",\"Palau\",\"Palestine\",\"Panama\",\"Papua New Guinea\",\"Paraguay\",\"Peru\",\"Philippines\",\"Poland\",\"Portugal\",\"Puerto Rico\",\"Qatar\",\"Republic of the Congo\",\"Reunion\",\"Romania\",\"Russia\",\"Rwanda\",\"Saint Barthelemy\",\"Saint Kitts and Nevis\",\"Saint Lucia\",\"Saint Martin\",\"Saint Pierre and Miquelon\",\"Saint Vincent and the Grenadines\",\"Samoa\",\"San Marino\",\"Sao Tome and Principe\",\"Saudi Arabia\",\"Senegal\",\"Serbia\",\"Seychelles\",\"Sierra Leone\",\"Singapore\",\"Sint Maarten\",\"Slovakia\",\"Slovenia\",\"Solomon Islands\",\"Somalia\",\"South Africa\",\"South Korea\",\"South Sudan\",\"Spain\",\"Sri Lanka\",\"Sudan\",\"Suriname\",\"Sweden\",\"Switzerland\",\"Syria\",\"Taiwan\",\"Tajikistan\",\"Tanzania\",\"Thailand\",\"Timor-Leste\",\"Togo\",\"Tokelau\",\"Tonga\",\"Trinidad and Tobago\",\"Tunisia\",\"Turkey\",\"Turkmenistan\",\"Turks and Caicos Islands\",\"Tuvalu\",\"Uganda\",\"Ukraine\",\"United Arab Emirates\",\"United Kingdom\",\"United States\",\"United States Virgin Islands\",\"Uruguay\",\"Uzbekistan\",\"Vanuatu\",\"Vatican City\",\"Venezuela\",\"Vietnam\",\"Wallis and Futuna\",\"Western Sahara\",\"Yemen\",\"Zambia\",\"Zimbabwe\"],\"locationmode\":\"ISO-3\",\"locations\":[\"AFG\",\"ALB\",\"DZA\",\"ASM\",\"AND\",\"AGO\",\"AIA\",\"ATG\",\"ARG\",\"ARM\",\"ABW\",\"AUS\",\"AUT\",\"AZE\",\"BHS\",\"BHR\",\"BGD\",\"BRB\",\"BLR\",\"BEL\",\"BLZ\",\"BEN\",\"BMU\",\"BTN\",\"BOL\",\"BIH\",\"BWA\",\"BRA\",\"VGB\",\"BRN\",\"BGR\",\"BFA\",\"BDI\",\"KHM\",\"CMR\",\"CAN\",\"CPV\",\"CYM\",\"CAF\",\"TCD\",\"CHL\",\"CHN\",\"COL\",\"COM\",\"COK\",\"CRI\",\"HRV\",\"CUB\",\"CUW\",\"CYP\",\"CZE\",\"DNK\",\"DJI\",\"DMA\",\"DOM\",\"COD\",\"ECU\",\"EGY\",\"SLV\",\"GNQ\",\"ERI\",\"EST\",\"SWZ\",\"ETH\",\"FLK\",\"FRO\",\"FJI\",\"FIN\",\"FRA\",\"GUF\",\"PYF\",\"GAB\",\"GMB\",\"GEO\",\"DEU\",\"GHA\",\"GIB\",\"GRC\",\"GRL\",\"GRD\",\"GLP\",\"GUM\",\"GTM\",\"GGY\",\"GIN\",\"GNB\",\"GUY\",\"HTI\",\"HND\",\"HKG\",\"HUN\",\"ISL\",\"IND\",\"IDN\",\"IRN\",\"IRQ\",\"IRL\",\"IMN\",\"ISR\",\"ITA\",\"CIV\",\"JAM\",\"JPN\",\"JEY\",\"JOR\",\"KAZ\",\"KEN\",\"KIR\",\"KWT\",\"KGZ\",\"LAO\",\"LVA\",\"LBN\",\"LSO\",\"LBR\",\"LBY\",\"LIE\",\"LTU\",\"LUX\",\"MAC\",\"MDG\",\"MWI\",\"MYS\",\"MDV\",\"MLI\",\"MLT\",\"MHL\",\"MTQ\",\"MRT\",\"MUS\",\"MYT\",\"MEX\",\"FSM\",\"MDA\",\"MCO\",\"MNG\",\"MNE\",\"MSR\",\"MAR\",\"MOZ\",\"MMR\",\"NAM\",\"NRU\",\"NPL\",\"NLD\",\"NCL\",\"NZL\",\"NIC\",\"NER\",\"NGA\",\"NIU\",\"PRK\",\"MKD\",\"NFK\",\"NOR\",\"OMN\",\"PAK\",\"PLW\",\"PSE\",\"PAN\",\"PNG\",\"PRY\",\"PER\",\"PHL\",\"POL\",\"PRT\",\"PRI\",\"QAT\",\"COG\",\"REU\",\"ROU\",\"RUS\",\"RWA\",\"BLM\",\"KNA\",\"LCA\",\"MAF\",\"SPM\",\"VCT\",\"WSM\",\"SMR\",\"STP\",\"SAU\",\"SEN\",\"SRB\",\"SYC\",\"SLE\",\"SGP\",\"SXM\",\"SVK\",\"SVN\",\"SLB\",\"SOM\",\"ZAF\",\"KOR\",\"SSD\",\"ESP\",\"LKA\",\"SDN\",\"SUR\",\"SWE\",\"CHE\",\"SYR\",\"TWN\",\"TJK\",\"TZA\",\"THA\",\"TLS\",\"TGO\",\"TKL\",\"TON\",\"TTO\",\"TUN\",\"TUR\",\"TKM\",\"TCA\",\"TUV\",\"UGA\",\"UKR\",\"ARE\",\"GBR\",\"USA\",\"VIR\",\"URY\",\"UZB\",\"VUT\",\"VAT\",\"VEN\",\"VNM\",\"WLF\",\"ESH\",\"YEM\",\"ZMB\",\"ZWE\"],\"name\":\"\",\"z\":[41128771,2842321,44903225,44273,79824,35588987,15857,93763,45510318,2780469,106445,26177413,8939617,10358074,409984,1472233,171186372,281635,9534954,11655930,405272,13352864,64184,782455,12224110,3233526,2630296,215313498,31305,449002,6781953,22673762,12889576,16767842,27914536,38454327,593149,68706,5579144,17723315,19603733,1425887337,51874024,836774,17011,5180829,4030358,11212191,191163,1251488,10493986,5882261,1120849,72737,11228821,99010212,18001000,110990103,6336392,1674908,3684032,1326062,1201670,123379924,3780,53090,929766,5540745,64626628,304557,306279,2388992,2705992,3744385,83369843,33475870,32649,10384971,56466,125438,395752,171774,17843908,63301,13859341,2105566,808726,11584996,10432860,7488865,9967308,372899,1417173173,275501339,88550570,44496122,5023109,84519,9038309,59037474,28160542,2827377,123951692,110778,11285869,19397998,54027487,131232,4268873,6630623,7529475,1850651,5489739,2305825,5302681,6812341,39327,2750055,647599,695168,29611714,20405317,33938221,523787,22593590,533286,41569,367507,4736139,1299469,326101,127504125,114164,3272996,36469,3398366,627082,4390,37457971,32969517,54179306,2567012,12668,30547580,17564014,289950,5185288,6948392,26207977,218541212,1934,26069416,2093599,49551,5434319,4576298,235824862,18055,5250072,4408581,10142619,6780744,34049588,115559009,39857145,10270865,3252407,2695122,5970424,974052,19659267,144713314,13776698,10967,47657,179857,31791,5862,103948,222382,33660,227380,36408820,17316449,7221365,107118,8605718,5975689,44175,5643453,2119844,724273,17597511,59893885,51815810,10913164,47558630,21832143,46874204,618040,10549347,8740472,22125249,23893394,9952787,65497748,71697030,1341296,8848699,1871,106858,1531044,12356117,85341241,6430770,45703,11312,47249585,39701739,9441129,67508936,338289857,99465,3422794,34627652,326740,510,28301696,98186856,11572,575986,33696614,20017675,16320537],\"type\":\"choropleth\"}],\"name\":\"2022\"}]);\n",
       "                        }).then(function(){\n",
       "                            \n",
       "var gd = document.getElementById('989edc16-1ef4-4d2a-80af-46d2ac478dff');\n",
       "var x = new MutationObserver(function (mutations, observer) {{\n",
       "        var display = window.getComputedStyle(gd).display;\n",
       "        if (!display || display === 'none') {{\n",
       "            console.log([gd, 'removed!']);\n",
       "            Plotly.purge(gd);\n",
       "            observer.disconnect();\n",
       "        }}\n",
       "}});\n",
       "\n",
       "// Listen for the removal of the full notebook cells\n",
       "var notebookContainer = gd.closest('#notebook-container');\n",
       "if (notebookContainer) {{\n",
       "    x.observe(notebookContainer, {childList: true});\n",
       "}}\n",
       "\n",
       "// Listen for the clearing of the current output cell\n",
       "var outputEl = gd.closest('.output');\n",
       "if (outputEl) {{\n",
       "    x.observe(outputEl, {childList: true});\n",
       "}}\n",
       "\n",
       "                        })                };                });            </script>        </div>"
      ]
     },
     "metadata": {},
     "output_type": "display_data"
    }
   ],
   "source": [
    "fig = px.choropleth(wp_df_melted, locations = 'ISO-3', color = 'Population', \n",
    "                    locationmode=\"ISO-3\", scope=\"world\", width = 800, height = 600,\n",
    "                    title = 'World Population by Country (1970-2022) <br>with Animation Slider', \n",
    "                    hover_name=\"Country\",\n",
    "                    hover_data = {'ISO-3':False,},\n",
    "                    projection = 'equirectangular',\n",
    "                    range_color=(0, 400000000), #to fix the scale\n",
    "                    animation_frame='Year', #added new column as the animation frame\n",
    "                    color_continuous_scale=px.colors.sequential.Viridis)\n",
    " \n",
    "fig.show()"
   ]
  },
  {
   "cell_type": "code",
   "execution_count": 101,
   "id": "4e9b42ae",
   "metadata": {},
   "outputs": [
    {
     "name": "stdout",
     "output_type": "stream",
     "text": [
      "2020\n",
      "2024\n",
      "2028\n",
      "2032\n",
      "2036\n",
      "2040\n",
      "2044\n",
      "2048\n",
      "2052\n",
      "2056\n",
      "2060\n",
      "2064\n",
      "2068\n",
      "2072\n",
      "2076\n",
      "2080\n",
      "2084\n",
      "2088\n",
      "2092\n",
      "2096\n",
      "2020\n",
      "2024\n",
      "2028\n",
      "2032\n",
      "2036\n",
      "2040\n",
      "2044\n",
      "2048\n",
      "2052\n",
      "2056\n",
      "2060\n",
      "2064\n",
      "2068\n",
      "2072\n",
      "2076\n",
      "2080\n",
      "2084\n",
      "2088\n",
      "2092\n",
      "2096\n"
     ]
    }
   ],
   "source": [
    "# Input\n",
    "CURRENT_YEAR = 2017\n",
    "NOF_LEAP_YEARS = 20\n",
    "\n",
    "# Functions\n",
    "def is_leap_year(year):\n",
    "    if year % 4 > 0:\n",
    "        return False\n",
    "    elif year % 100 > 0:\n",
    "        return True\n",
    "    elif year % 400 > 0:\n",
    "        return False\n",
    "    else:\n",
    "        return True\n",
    "\n",
    "def print_next_leap_years(current_year, nof_leap_years):\n",
    "    nof_leap_years_found = 0\n",
    "\n",
    "    while nof_leap_years_found < nof_leap_years:\n",
    "        if is_leap_year(current_year):\n",
    "            nof_leap_years_found += 1\n",
    "            print(current_year)\n",
    "\n",
    "        current_year += 1\n",
    "        \n",
    "def print_next_leap_years_with_recursion(current_year, nof_leap_years, nof_leap_years_found = 0):\n",
    "    if is_leap_year(current_year):\n",
    "        nof_leap_years_found += 1\n",
    "        print(current_year)    \n",
    "\n",
    "    if nof_leap_years_found < nof_leap_years:\n",
    "        print_next_leap_years_with_recursion(current_year + 1, nof_leap_years, nof_leap_years_found)\n",
    "\n",
    "# Main\n",
    "print_next_leap_years(CURRENT_YEAR, NOF_LEAP_YEARS)\n",
    "print_next_leap_years_with_recursion(CURRENT_YEAR, NOF_LEAP_YEARS)"
   ]
  },
  {
   "cell_type": "code",
   "execution_count": 102,
   "id": "0692aee9",
   "metadata": {},
   "outputs": [
    {
     "name": "stdout",
     "output_type": "stream",
     "text": [
      "enter a integer: 5\n",
      "1\n",
      "3\n",
      "6\n",
      "10\n",
      "15\n"
     ]
    }
   ],
   "source": [
    "num = int(input( \"enter a integer: \" ))\n",
    "sum_num =0\n",
    "\n",
    "if num != 0:\n",
    "    for i in range(1, num+1): \n",
    "        sum_num += i\n",
    "        print(sum_num)\n",
    "else:\n",
    "     exit()"
   ]
  },
  {
   "cell_type": "code",
   "execution_count": 105,
   "id": "926387b4",
   "metadata": {},
   "outputs": [
    {
     "name": "stdout",
     "output_type": "stream",
     "text": [
      "Enter Number here : 12345678\n",
      "[1, 2, 3, 4, 5, 6, 7, 8]\n"
     ]
    }
   ],
   "source": [
    "n = int(input(\"Enter Number here : \"))\n",
    "l1 = []\n",
    "for i in str(n): \n",
    "    l1.append(int(i))\n",
    "    \n",
    "print(l1)"
   ]
  },
  {
   "cell_type": "code",
   "execution_count": 106,
   "id": "406b63f4",
   "metadata": {},
   "outputs": [],
   "source": [
    "A = [[4, 2, 7],\n",
    "     [1, 9, 8],\n",
    "     [3, 6, 5]]"
   ]
  },
  {
   "cell_type": "code",
   "execution_count": 110,
   "id": "0475c40c",
   "metadata": {},
   "outputs": [
    {
     "data": {
      "text/plain": [
       "6"
      ]
     },
     "execution_count": 110,
     "metadata": {},
     "output_type": "execute_result"
    }
   ],
   "source": [
    "A[2][1]"
   ]
  },
  {
   "cell_type": "code",
   "execution_count": 111,
   "id": "362d1862",
   "metadata": {},
   "outputs": [
    {
     "name": "stdout",
     "output_type": "stream",
     "text": [
      "1\n",
      "2\n"
     ]
    }
   ],
   "source": [
    "i = 1\n",
    "while True:\n",
    "    if i%3 == 0:\n",
    "        break\n",
    "    print(i)\n",
    " \n",
    "    i += 1"
   ]
  },
  {
   "cell_type": "code",
   "execution_count": null,
   "id": "ee5fdb6b",
   "metadata": {},
   "outputs": [],
   "source": []
  }
 ],
 "metadata": {
  "kernelspec": {
   "display_name": "Python 3 (ipykernel)",
   "language": "python",
   "name": "python3"
  },
  "language_info": {
   "codemirror_mode": {
    "name": "ipython",
    "version": 3
   },
   "file_extension": ".py",
   "mimetype": "text/x-python",
   "name": "python",
   "nbconvert_exporter": "python",
   "pygments_lexer": "ipython3",
   "version": "3.9.12"
  }
 },
 "nbformat": 4,
 "nbformat_minor": 5
}
